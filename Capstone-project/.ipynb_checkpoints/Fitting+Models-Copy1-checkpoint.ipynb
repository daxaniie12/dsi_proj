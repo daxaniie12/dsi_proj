{
 "cells": [
  {
   "cell_type": "markdown",
   "metadata": {},
   "source": [
    "### Fitting Models "
   ]
  },
  {
   "cell_type": "markdown",
   "metadata": {},
   "source": [
    "The aim of this project is divided into 2 parts. The broad aim of this project is to predict hospital readmission of diabetic patients based on the features made available in the dataset. The first aim is to predict early readmission versus the other outcomes(late readmission and no readmission) based on the features available. This is a binary classification problem where the positive class refers to early readmission within 30 days, and the negative class otherwise. The second aim is to predict readmission(early and late) versus no readmission based on the features available. This is also a binary classification problem. Separate classification models were built and evaluated for these 2 different aims. The features that best predicted the readmission outcome were obtained from the best models built.\n",
    "\n",
    "Classification models using machine learning will be built to predict hospital readmission for the 2 different aims. The different classfication algorithms tried will be Logistic Regression, Random Forest, Extreme Gradient Boosting (XGBoost), Multilayer Perceptron (MLP), Naive Bayes, Stacking Classifiers using several base classifiers. A Dummy Classifier will be used as a basis of comparison. The performance of the different classifiers will be evaluated using confusion matrices, precision-recall curves. A cost matrix will be implemented to estimate the cost savings from implementing the model.\n",
    "\n",
    "Classifiers were built using GridSearchCV for hyperparamter tuning. Hyperparamaters that gave the best recall score were chosen. For medical studies, the aim is to maximise the recall score of the positive class and the precision score of the negative. Maximising the recall score of the positive class ensures that more members of the positive class are correctly identified as positive, which is important since correctly picking up on the patients who will be readmitted will enable healthcare practitioners to focus efforts and intervention methods on them to reduce their readmission rate. A high precision score of the negative class means that there are not many positive class members that were wrongly labelled as belonging to the neagtive class by the classifier."
   ]
  },
  {
   "cell_type": "markdown",
   "metadata": {
    "collapsed": true
   },
   "source": [
    "### First aim of project---Predicting early readmission(< 30 days) vs non-early readmission(> 30 days and no readmission)"
   ]
  },
  {
   "cell_type": "code",
   "execution_count": 52,
   "metadata": {
    "collapsed": true
   },
   "outputs": [],
   "source": [
    "import pandas as pd\n",
    "import matplotlib.pyplot as plt\n",
    "import seaborn as sns\n",
    "import numpy as np\n",
    "%matplotlib inline"
   ]
  },
  {
   "cell_type": "code",
   "execution_count": 53,
   "metadata": {
    "collapsed": true
   },
   "outputs": [],
   "source": [
    "from sklearn.linear_model import LogisticRegression, LogisticRegressionCV\n",
    "from sklearn.ensemble import RandomForestClassifier\n",
    "from xgboost import XGBClassifier\n",
    "from sklearn.naive_bayes import GaussianNB, MultinomialNB\n",
    "from sklearn.neural_network import MLPClassifier\n",
    "from mlxtend.classifier import StackingClassifier\n",
    "from sklearn.metrics import confusion_matrix, classification_report"
   ]
  },
  {
   "cell_type": "code",
   "execution_count": 54,
   "metadata": {
    "collapsed": true
   },
   "outputs": [],
   "source": [
    "# Load the required files\n",
    "X_train_30 = pd.read_csv('./X_train_30.csv')\n",
    "X_test_30 = pd.read_csv('./X_test_30.csv')\n",
    "y_train_30 = pd.read_csv('./y_train_30.csv')\n",
    "y_test_30 = pd.read_csv('./y_test_30.csv')\n",
    "X_ros_30 = pd.read_csv('./X_ros_30.csv')\n",
    "y_ros_30 = pd.read_csv('./y_ros_30.csv')"
   ]
  },
  {
   "cell_type": "code",
   "execution_count": 55,
   "metadata": {
    "collapsed": true
   },
   "outputs": [],
   "source": [
    "# Drop the 'Unnamed: 0' column\n",
    "X_train_30.drop('Unnamed: 0', axis=1, inplace=True)\n",
    "X_test_30.drop('Unnamed: 0', axis=1, inplace=True)\n",
    "y_train_30.drop('Unnamed: 0', axis=1, inplace=True)\n",
    "y_test_30.drop('Unnamed: 0', axis=1, inplace=True)\n",
    "X_ros_30.drop('Unnamed: 0', axis=1, inplace=True)\n",
    "y_ros_30.drop('Unnamed: 0', axis=1, inplace=True)"
   ]
  },
  {
   "cell_type": "markdown",
   "metadata": {},
   "source": [
    "This is a binary classification problem and hence different classifiers will be fit to the training set and the classifier that gives the best metrics will be chosen to score the test set and make predictions. Classifiers will be fit based on maximising recall score. It would be ideal to obtain a high recall score on the positivr class. Specifically, a higher average_precision score will indicate a better performance of the classifier."
   ]
  },
  {
   "cell_type": "markdown",
   "metadata": {},
   "source": [
    "For the dataset on early readmission vs non-early readmission, the classifiers used will be Logistic Regression, MLP, XGBoost. Prior fitting of the classifiers RandomForest, Naive Bayes and StackingClassifier using Logistic, MLP, XGBoost and RandomForest as base classifiers and Logistic Regression as a Metaclassifier did not give good recall or average-precision scores and hence they were not used. The baseline classifier used as a benchmark to compare the other classifiers is Dummy Classifier from sklearn using a stratified strategy(predicts based on the class distribuiton of target variable). \n",
    "\n",
    "The dataset was previously split using stratified splitting into a training set and a test set, with 70% in the training set and 30% in the test set.\n",
    "\n",
    "GridSearchCV will be used to fit training set with a given classifier and to tune the hyperparameters of the classifiers. Hyperparameter tuning will be optimised based on recall score. The classifier that gives the best recall score will be chosen to predict the test set.\n",
    "\n",
    "The test set result and prediction accuracy will be checked using confusion matrix, classification report, and the precision-recall curve. A classifier that gives the highest area under the precision-recall curve(indicated by the average precision score) of the positive class (class 1) will be chosen as the best classifier."
   ]
  },
  {
   "cell_type": "code",
   "execution_count": null,
   "metadata": {
    "collapsed": true
   },
   "outputs": [],
   "source": [
    "# Fitting the different classification algorithms"
   ]
  },
  {
   "cell_type": "code",
   "execution_count": 56,
   "metadata": {
    "collapsed": true
   },
   "outputs": [],
   "source": [
    "# First fit a Dummy Classifier to get a baseline of prediction on the test set\n",
    "from sklearn.dummy import DummyClassifier\n",
    "dm = DummyClassifier(strategy='stratified', random_state=12).fit(X_ros_30,y_ros_30['readmitted_p30'])\n",
    "y_pred0 = dm.predict(X_test_30)"
   ]
  },
  {
   "cell_type": "code",
   "execution_count": 58,
   "metadata": {
    "collapsed": true
   },
   "outputs": [],
   "source": [
    "from sklearn.model_selection import GridSearchCV"
   ]
  },
  {
   "cell_type": "code",
   "execution_count": 8,
   "metadata": {},
   "outputs": [
    {
     "name": "stdout",
     "output_type": "stream",
     "text": [
      "Fitting 5 folds for each of 100 candidates, totalling 500 fits\n"
     ]
    },
    {
     "name": "stderr",
     "output_type": "stream",
     "text": [
      "[Parallel(n_jobs=-1)]: Done  46 tasks      | elapsed:   49.9s\n",
      "[Parallel(n_jobs=-1)]: Done 196 tasks      | elapsed: 13.5min\n",
      "[Parallel(n_jobs=-1)]: Done 446 tasks      | elapsed: 64.8min\n",
      "[Parallel(n_jobs=-1)]: Done 500 out of 500 | elapsed: 76.3min finished\n"
     ]
    },
    {
     "data": {
      "text/plain": [
       "GridSearchCV(cv=5, error_score='raise',\n",
       "       estimator=LogisticRegression(C=1.0, class_weight=None, dual=False, fit_intercept=True,\n",
       "          intercept_scaling=1, max_iter=100, multi_class='ovr', n_jobs=1,\n",
       "          penalty='l2', random_state=None, solver='liblinear', tol=0.0001,\n",
       "          verbose=0, warm_start=False),\n",
       "       fit_params={}, iid=True, n_jobs=-1,\n",
       "       param_grid={'C': [0.10000000000000001, 0.20000000000000001, 0.30000000000000004, 0.40000000000000002, 0.5, 0.59999999999999998, 0.70000000000000007, 0.80000000000000004, 0.90000000000000002, 1.0, 1.1000000000000001, 1.2000000000000002, 1.3000000000000003, 1.4000000000000001, 1.5000000000000002, 1.60...8, 4.9000000000000004, 5.0], 'solver': ['liblinear'], 'penalty': ['l1', 'l2'], 'random_state': [12]},\n",
       "       pre_dispatch='2*n_jobs', refit=True, return_train_score=True,\n",
       "       scoring='recall', verbose=1)"
      ]
     },
     "execution_count": 8,
     "metadata": {},
     "output_type": "execute_result"
    }
   ],
   "source": [
    "# Fitting Logistic Regression\n",
    "lr_params = {'penalty':['l1','l2'], 'solver':['liblinear'], 'C':list(np.arange(0.1, 5.1, 0.1)), 'random_state':[12]}\n",
    "lr_gridsearch = GridSearchCV(LogisticRegression(), lr_params, cv=5, verbose=1, scoring='recall', n_jobs=-1)\n",
    "lr_gridsearch.fit(X_ros_30,y_ros_30['readmitted_p30'])"
   ]
  },
  {
   "cell_type": "code",
   "execution_count": 9,
   "metadata": {},
   "outputs": [
    {
     "data": {
      "text/plain": [
       "{'C': 4.7999999999999998,\n",
       " 'penalty': 'l1',\n",
       " 'random_state': 12,\n",
       " 'solver': 'liblinear'}"
      ]
     },
     "execution_count": 9,
     "metadata": {},
     "output_type": "execute_result"
    }
   ],
   "source": [
    "# The best hyperparamters that maximise recall score\n",
    "lr_gridsearch.best_params_"
   ]
  },
  {
   "cell_type": "code",
   "execution_count": 12,
   "metadata": {
    "collapsed": true
   },
   "outputs": [],
   "source": [
    "# Predicting the test set with the best LogisticRegression Classifier\n",
    "lr_best = lr_gridsearch.best_estimator_\n",
    "y_pred1 = lr_best.predict(X_test_30)"
   ]
  },
  {
   "cell_type": "code",
   "execution_count": 26,
   "metadata": {
    "scrolled": false
   },
   "outputs": [
    {
     "name": "stdout",
     "output_type": "stream",
     "text": [
      "Fitting 5 folds for each of 40 candidates, totalling 200 fits\n"
     ]
    },
    {
     "name": "stderr",
     "output_type": "stream",
     "text": [
      "/usr/local/lib/python3.5/site-packages/sklearn/neural_network/multilayer_perceptron.py:563: ConvergenceWarning: Stochastic Optimizer: Maximum iterations reached and the optimization hasn't converged yet.\n",
      "  % (), ConvergenceWarning)\n",
      "/usr/local/lib/python3.5/site-packages/sklearn/neural_network/multilayer_perceptron.py:563: ConvergenceWarning: Stochastic Optimizer: Maximum iterations reached and the optimization hasn't converged yet.\n",
      "  % (), ConvergenceWarning)\n",
      "[Parallel(n_jobs=-1)]: Done  46 tasks      | elapsed: 37.8min\n",
      "[Parallel(n_jobs=-1)]: Done 196 tasks      | elapsed: 90.9min\n",
      "[Parallel(n_jobs=-1)]: Done 200 out of 200 | elapsed: 91.8min finished\n"
     ]
    },
    {
     "data": {
      "text/plain": [
       "GridSearchCV(cv=5, error_score='raise',\n",
       "       estimator=MLPClassifier(activation='relu', alpha=0.0001, batch_size='auto', beta_1=0.9,\n",
       "       beta_2=0.999, early_stopping=False, epsilon=1e-08,\n",
       "       hidden_layer_sizes=(100,), learning_rate='constant',\n",
       "       learning_rate_init=0.001, max_iter=200, momentum=0.9,\n",
       "       nesterovs_momentum=True, power_t=0.5, random_state=None,\n",
       "       shuffle=True, solver='adam', tol=0.0001, validation_fraction=0.1,\n",
       "       verbose=False, warm_start=False),\n",
       "       fit_params={}, iid=True, n_jobs=-1,\n",
       "       param_grid={'learning_rate_init': [0.001, 0.010999999999999999, 0.020999999999999998, 0.030999999999999996, 0.040999999999999995, 0.05099999999999999, 0.060999999999999992, 0.070999999999999994, 0.080999999999999989, 0.090999999999999984], 'solver': ['sgd', 'lbfgs'], 'max_iter': [500], 'random_state': [12], 'activation': ['logistic', 'identity']},\n",
       "       pre_dispatch='2*n_jobs', refit=True, return_train_score=True,\n",
       "       scoring='recall', verbose=1)"
      ]
     },
     "execution_count": 26,
     "metadata": {},
     "output_type": "execute_result"
    }
   ],
   "source": [
    "# Fitting MLP\n",
    "mlp_params = {'activation' : ['logistic', 'identity'], 'solver' : ['sgd','lbfgs'], 'learning_rate_init':list(np.arange(0.001, 0.1, 0.01)), 'max_iter':[500], 'random_state':[12]}\n",
    "mlp_gridsearch = GridSearchCV(MLPClassifier(), mlp_params, cv=5, verbose=1, scoring='recall', n_jobs=-1)\n",
    "mlp_gridsearch.fit(X_ros_30,y_ros_30['readmitted_p30'])"
   ]
  },
  {
   "cell_type": "code",
   "execution_count": 27,
   "metadata": {},
   "outputs": [
    {
     "data": {
      "text/plain": [
       "{'activation': 'logistic',\n",
       " 'learning_rate_init': 0.001,\n",
       " 'max_iter': 500,\n",
       " 'random_state': 12,\n",
       " 'solver': 'lbfgs'}"
      ]
     },
     "execution_count": 27,
     "metadata": {},
     "output_type": "execute_result"
    }
   ],
   "source": [
    "# The best hyperparamters that maximise recall score\n",
    "mlp_gridsearch.best_params_"
   ]
  },
  {
   "cell_type": "code",
   "execution_count": 29,
   "metadata": {},
   "outputs": [
    {
     "data": {
      "text/plain": [
       "MLPClassifier(activation='logistic', alpha=0.0001, batch_size='auto',\n",
       "       beta_1=0.9, beta_2=0.999, early_stopping=False, epsilon=1e-08,\n",
       "       hidden_layer_sizes=(100,), learning_rate='constant',\n",
       "       learning_rate_init=0.001, max_iter=500, momentum=0.9,\n",
       "       nesterovs_momentum=True, power_t=0.5, random_state=12, shuffle=True,\n",
       "       solver='lbfgs', tol=0.0001, validation_fraction=0.1, verbose=False,\n",
       "       warm_start=False)"
      ]
     },
     "execution_count": 29,
     "metadata": {},
     "output_type": "execute_result"
    }
   ],
   "source": [
    "best_mlp = mlp_gridsearch.best_estimator_\n",
    "best_mlp.fit(X_ros_30,y_ros_30['readmitted_p30'])"
   ]
  },
  {
   "cell_type": "code",
   "execution_count": 63,
   "metadata": {},
   "outputs": [
    {
     "name": "stdout",
     "output_type": "stream",
     "text": [
      "             precision    recall  f1-score   support\n",
      "\n",
      "          0       0.92      0.80      0.86      4368\n",
      "          1       0.12      0.28      0.16       417\n",
      "\n",
      "avg / total       0.85      0.75      0.80      4785\n",
      "\n"
     ]
    }
   ],
   "source": [
    "# Predicting the test set with the best MLP Classifier\n",
    "y_pred2 = best_mlp.predict(X_test_30)\n",
    "print(classification_report(y_test_30['readmitted_p30'], y_pred2))"
   ]
  },
  {
   "cell_type": "markdown",
   "metadata": {},
   "source": [
    "Even though Gridsearch returned a MLPClassifier with the best hyperparameters that maximise the recall score, the recall score of the positive class is very low. Based on other tuning done, another MLPClassifier with different hyperparamters that increases the recall score of the positive class was fit."
   ]
  },
  {
   "cell_type": "code",
   "execution_count": 64,
   "metadata": {
    "collapsed": true
   },
   "outputs": [],
   "source": [
    "# Fitting another MLPClassifier to increase the recall score of the positive class\n",
    "mlp2 = MLPClassifier(activation='identity', solver='lbfgs').fit(X_ros_30,y_ros_30['readmitted_p30'])\n",
    "y_pred2b = mlp2.predict(X_test_30)"
   ]
  },
  {
   "cell_type": "code",
   "execution_count": 65,
   "metadata": {},
   "outputs": [
    {
     "name": "stdout",
     "output_type": "stream",
     "text": [
      "             precision    recall  f1-score   support\n",
      "\n",
      "          0       0.94      0.65      0.77      4368\n",
      "          1       0.13      0.55      0.21       417\n",
      "\n",
      "avg / total       0.87      0.64      0.72      4785\n",
      "\n"
     ]
    }
   ],
   "source": [
    "print(classification_report(y_test_30['readmitted_p30'], y_pred2b))"
   ]
  },
  {
   "cell_type": "markdown",
   "metadata": {
    "collapsed": true
   },
   "source": [
    "The recall score of the positive class has increased as compared to the classifier returned by GridSearchCV. Hence, this MLP classifier will be chosen instead of the one returned by GridSearchCV."
   ]
  },
  {
   "cell_type": "code",
   "execution_count": 105,
   "metadata": {},
   "outputs": [
    {
     "name": "stdout",
     "output_type": "stream",
     "text": [
      "Fitting 5 folds for each of 25 candidates, totalling 125 fits\n"
     ]
    },
    {
     "name": "stderr",
     "output_type": "stream",
     "text": [
      "[Parallel(n_jobs=-1)]: Done  46 tasks      | elapsed:  3.9min\n",
      "[Parallel(n_jobs=-1)]: Done 125 out of 125 | elapsed: 10.6min finished\n"
     ]
    },
    {
     "data": {
      "text/plain": [
       "GridSearchCV(cv=5, error_score='raise',\n",
       "       estimator=XGBClassifier(base_score=0.5, booster='gbtree', colsample_bylevel=1,\n",
       "       colsample_bytree=1, gamma=0, learning_rate=0.1, max_delta_step=0,\n",
       "       max_depth=3, min_child_weight=1, missing=None, n_estimators=100,\n",
       "       n_jobs=1, nthread=None, objective='binary:logistic', random_state=0,\n",
       "       reg_alpha=0, reg_lambda=1, scale_pos_weight=1, seed=None,\n",
       "       silent=True, subsample=1),\n",
       "       fit_params={}, iid=True, n_jobs=-1,\n",
       "       param_grid={'max_depth': array([3, 4, 5, 6, 7]), 'random_state': [12], 'booster': ['gblinear'], 'colsample_bytree': array([ 0.6,  0.7,  0.8,  0.9,  1. ]), 'n_estimators': [1000]},\n",
       "       pre_dispatch='2*n_jobs', refit=True, return_train_score=True,\n",
       "       scoring='recall', verbose=1)"
      ]
     },
     "execution_count": 105,
     "metadata": {},
     "output_type": "execute_result"
    }
   ],
   "source": [
    "# Fitting XGBoost\n",
    "xgb_params = {'max_depth':np.arange(3,8,1), 'n_estimators':[1000], 'booster':['gblinear'], 'colsample_bytree':np.arange(0.6,1.05,0.1),'random_state':[12]}\n",
    "xgb_gridsearch = GridSearchCV(XGBClassifier(), xgb_params, cv=5, verbose=1, scoring='recall', n_jobs=-1)\n",
    "xgb_gridsearch.fit(X_ros_30,y_ros_30['readmitted_p30'])"
   ]
  },
  {
   "cell_type": "code",
   "execution_count": 106,
   "metadata": {},
   "outputs": [
    {
     "data": {
      "text/plain": [
       "{'booster': 'gblinear',\n",
       " 'colsample_bytree': 0.59999999999999998,\n",
       " 'max_depth': 3,\n",
       " 'n_estimators': 1000,\n",
       " 'random_state': 12}"
      ]
     },
     "execution_count": 106,
     "metadata": {},
     "output_type": "execute_result"
    }
   ],
   "source": [
    "# The best hyperparamters that maximise recall score\n",
    "xgb_gridsearch.best_params_"
   ]
  },
  {
   "cell_type": "code",
   "execution_count": null,
   "metadata": {
    "collapsed": true
   },
   "outputs": [],
   "source": [
    "# Predicting the test set with the best XGBoost Classifier\n",
    "best_xgb = xgb_gridsearch.best_estimator_\n",
    "y_pred3a = best_xgb.predict(X_test_30)"
   ]
  },
  {
   "cell_type": "markdown",
   "metadata": {},
   "source": [
    "### Comparing the performance of the different Classifiers"
   ]
  },
  {
   "cell_type": "markdown",
   "metadata": {},
   "source": [
    "As mentioned previously, the performance of the different classifiers will be compared using confusion matrices, classification reports and precision-recall curves. A classifier that gives the best area under the precision-recall curve(indicated by average-precision score) will be chosen as the best classifier."
   ]
  },
  {
   "cell_type": "code",
   "execution_count": 69,
   "metadata": {
    "collapsed": true
   },
   "outputs": [],
   "source": [
    "# Confusion Matrix and Classification Report of each classifier"
   ]
  },
  {
   "cell_type": "code",
   "execution_count": 70,
   "metadata": {},
   "outputs": [
    {
     "data": {
      "text/html": [
       "<div>\n",
       "<style>\n",
       "    .dataframe thead tr:only-child th {\n",
       "        text-align: right;\n",
       "    }\n",
       "\n",
       "    .dataframe thead th {\n",
       "        text-align: left;\n",
       "    }\n",
       "\n",
       "    .dataframe tbody tr th {\n",
       "        vertical-align: top;\n",
       "    }\n",
       "</style>\n",
       "<table border=\"1\" class=\"dataframe\">\n",
       "  <thead>\n",
       "    <tr style=\"text-align: right;\">\n",
       "      <th></th>\n",
       "      <th>predicted_early_readmit</th>\n",
       "      <th>predicted_not_early_readmit</th>\n",
       "    </tr>\n",
       "  </thead>\n",
       "  <tbody>\n",
       "    <tr>\n",
       "      <th>is_early_readmit</th>\n",
       "      <td>207</td>\n",
       "      <td>210</td>\n",
       "    </tr>\n",
       "    <tr>\n",
       "      <th>not_early_readmit</th>\n",
       "      <td>2142</td>\n",
       "      <td>2226</td>\n",
       "    </tr>\n",
       "  </tbody>\n",
       "</table>\n",
       "</div>"
      ],
      "text/plain": [
       "                   predicted_early_readmit  predicted_not_early_readmit\n",
       "is_early_readmit                       207                          210\n",
       "not_early_readmit                     2142                         2226"
      ]
     },
     "execution_count": 70,
     "metadata": {},
     "output_type": "execute_result"
    }
   ],
   "source": [
    "# Dummy Classifier Confusion Matrix\n",
    "conmat0 = np.array(confusion_matrix(y_test_30['readmitted_p30'], y_pred0, labels=[1,0]))\n",
    "confusion0 = pd.DataFrame(conmat0, index=['is_early_readmit', 'not_early_readmit'],\n",
    "                         columns=['predicted_early_readmit','predicted_not_early_readmit'])\n",
    "confusion0"
   ]
  },
  {
   "cell_type": "code",
   "execution_count": 71,
   "metadata": {
    "scrolled": true
   },
   "outputs": [
    {
     "name": "stdout",
     "output_type": "stream",
     "text": [
      "             precision    recall  f1-score   support\n",
      "\n",
      "          0       0.91      0.51      0.65      4368\n",
      "          1       0.09      0.50      0.15       417\n",
      "\n",
      "avg / total       0.84      0.51      0.61      4785\n",
      "\n"
     ]
    }
   ],
   "source": [
    "# Dummy Classifier Classification Report\n",
    "print(classification_report(y_test_30['readmitted_p30'], y_pred0))"
   ]
  },
  {
   "cell_type": "code",
   "execution_count": 73,
   "metadata": {},
   "outputs": [
    {
     "data": {
      "text/html": [
       "<div>\n",
       "<style>\n",
       "    .dataframe thead tr:only-child th {\n",
       "        text-align: right;\n",
       "    }\n",
       "\n",
       "    .dataframe thead th {\n",
       "        text-align: left;\n",
       "    }\n",
       "\n",
       "    .dataframe tbody tr th {\n",
       "        vertical-align: top;\n",
       "    }\n",
       "</style>\n",
       "<table border=\"1\" class=\"dataframe\">\n",
       "  <thead>\n",
       "    <tr style=\"text-align: right;\">\n",
       "      <th></th>\n",
       "      <th>predicted_early_readmit</th>\n",
       "      <th>predicted_not_early_readmit</th>\n",
       "    </tr>\n",
       "  </thead>\n",
       "  <tbody>\n",
       "    <tr>\n",
       "      <th>is_early_readmit</th>\n",
       "      <td>227</td>\n",
       "      <td>190</td>\n",
       "    </tr>\n",
       "    <tr>\n",
       "      <th>not_early_readmit</th>\n",
       "      <td>1515</td>\n",
       "      <td>2853</td>\n",
       "    </tr>\n",
       "  </tbody>\n",
       "</table>\n",
       "</div>"
      ],
      "text/plain": [
       "                   predicted_early_readmit  predicted_not_early_readmit\n",
       "is_early_readmit                       227                          190\n",
       "not_early_readmit                     1515                         2853"
      ]
     },
     "execution_count": 73,
     "metadata": {},
     "output_type": "execute_result"
    }
   ],
   "source": [
    "# Logistic Regression Confusion Matrix\n",
    "conmat1 = np.array(confusion_matrix(y_test_30['readmitted_p30'], y_pred1, labels=[1,0]))\n",
    "confusion1 = pd.DataFrame(conmat1, index=['is_early_readmit', 'not_early_readmit'],\n",
    "                         columns=['predicted_early_readmit','predicted_not_early_readmit'])\n",
    "confusion1"
   ]
  },
  {
   "cell_type": "code",
   "execution_count": 74,
   "metadata": {},
   "outputs": [
    {
     "name": "stdout",
     "output_type": "stream",
     "text": [
      "             precision    recall  f1-score   support\n",
      "\n",
      "          0       0.94      0.65      0.77      4368\n",
      "          1       0.13      0.54      0.21       417\n",
      "\n",
      "avg / total       0.87      0.64      0.72      4785\n",
      "\n"
     ]
    }
   ],
   "source": [
    "# Logistic Regression Classification Report\n",
    "print(classification_report(y_test_30['readmitted_p30'], y_pred1))"
   ]
  },
  {
   "cell_type": "code",
   "execution_count": 75,
   "metadata": {},
   "outputs": [
    {
     "data": {
      "text/html": [
       "<div>\n",
       "<style>\n",
       "    .dataframe thead tr:only-child th {\n",
       "        text-align: right;\n",
       "    }\n",
       "\n",
       "    .dataframe thead th {\n",
       "        text-align: left;\n",
       "    }\n",
       "\n",
       "    .dataframe tbody tr th {\n",
       "        vertical-align: top;\n",
       "    }\n",
       "</style>\n",
       "<table border=\"1\" class=\"dataframe\">\n",
       "  <thead>\n",
       "    <tr style=\"text-align: right;\">\n",
       "      <th></th>\n",
       "      <th>predicted_early_readmit</th>\n",
       "      <th>predicted_not_early_readmit</th>\n",
       "    </tr>\n",
       "  </thead>\n",
       "  <tbody>\n",
       "    <tr>\n",
       "      <th>is_early_readmit</th>\n",
       "      <td>228</td>\n",
       "      <td>189</td>\n",
       "    </tr>\n",
       "    <tr>\n",
       "      <th>not_early_readmit</th>\n",
       "      <td>1524</td>\n",
       "      <td>2844</td>\n",
       "    </tr>\n",
       "  </tbody>\n",
       "</table>\n",
       "</div>"
      ],
      "text/plain": [
       "                   predicted_early_readmit  predicted_not_early_readmit\n",
       "is_early_readmit                       228                          189\n",
       "not_early_readmit                     1524                         2844"
      ]
     },
     "execution_count": 75,
     "metadata": {},
     "output_type": "execute_result"
    }
   ],
   "source": [
    "# MLP Classifier Confusion Matrix\n",
    "conmat2 = np.array(confusion_matrix(y_test_30['readmitted_p30'], y_pred2b, labels=[1,0]))\n",
    "confusion2 = pd.DataFrame(conmat2, index=['is_early_readmit', 'not_early_readmit'],\n",
    "                         columns=['predicted_early_readmit','predicted_not_early_readmit'])\n",
    "confusion2"
   ]
  },
  {
   "cell_type": "code",
   "execution_count": 76,
   "metadata": {},
   "outputs": [
    {
     "name": "stdout",
     "output_type": "stream",
     "text": [
      "             precision    recall  f1-score   support\n",
      "\n",
      "          0       0.94      0.65      0.77      4368\n",
      "          1       0.13      0.55      0.21       417\n",
      "\n",
      "avg / total       0.87      0.64      0.72      4785\n",
      "\n"
     ]
    }
   ],
   "source": [
    "# MLP Classifier Classification Report\n",
    "print(classification_report(y_test_30['readmitted_p30'], y_pred2b))"
   ]
  },
  {
   "cell_type": "code",
   "execution_count": 77,
   "metadata": {},
   "outputs": [
    {
     "data": {
      "text/html": [
       "<div>\n",
       "<style>\n",
       "    .dataframe thead tr:only-child th {\n",
       "        text-align: right;\n",
       "    }\n",
       "\n",
       "    .dataframe thead th {\n",
       "        text-align: left;\n",
       "    }\n",
       "\n",
       "    .dataframe tbody tr th {\n",
       "        vertical-align: top;\n",
       "    }\n",
       "</style>\n",
       "<table border=\"1\" class=\"dataframe\">\n",
       "  <thead>\n",
       "    <tr style=\"text-align: right;\">\n",
       "      <th></th>\n",
       "      <th>predicted_early_readmit</th>\n",
       "      <th>predicted_not_early_readmit</th>\n",
       "    </tr>\n",
       "  </thead>\n",
       "  <tbody>\n",
       "    <tr>\n",
       "      <th>is_early_readmit</th>\n",
       "      <td>224</td>\n",
       "      <td>193</td>\n",
       "    </tr>\n",
       "    <tr>\n",
       "      <th>not_early_readmit</th>\n",
       "      <td>1518</td>\n",
       "      <td>2850</td>\n",
       "    </tr>\n",
       "  </tbody>\n",
       "</table>\n",
       "</div>"
      ],
      "text/plain": [
       "                   predicted_early_readmit  predicted_not_early_readmit\n",
       "is_early_readmit                       224                          193\n",
       "not_early_readmit                     1518                         2850"
      ]
     },
     "execution_count": 77,
     "metadata": {},
     "output_type": "execute_result"
    }
   ],
   "source": [
    "# XGB Classifier Confusion Matrix\n",
    "conmat3 = np.array(confusion_matrix(y_test_30['readmitted_p30'], y_pred3a, labels=[1,0]))\n",
    "confusion3 = pd.DataFrame(conmat3, index=['is_early_readmit', 'not_early_readmit'],\n",
    "                         columns=['predicted_early_readmit','predicted_not_early_readmit'])\n",
    "confusion3"
   ]
  },
  {
   "cell_type": "code",
   "execution_count": 78,
   "metadata": {},
   "outputs": [
    {
     "name": "stdout",
     "output_type": "stream",
     "text": [
      "             precision    recall  f1-score   support\n",
      "\n",
      "          0       0.94      0.65      0.77      4368\n",
      "          1       0.13      0.54      0.21       417\n",
      "\n",
      "avg / total       0.87      0.64      0.72      4785\n",
      "\n"
     ]
    }
   ],
   "source": [
    "# XGB Classifier Classification Report\n",
    "print(classification_report(y_test_30['readmitted_p30'], y_pred3a))"
   ]
  },
  {
   "cell_type": "markdown",
   "metadata": {},
   "source": [
    "Looking at the confusion matrices and classification reports, all the classifiers perform better than the Dummy classifier and are good models that can be used for predicting early readmission of patients. The recall score of the positive class and the precision score of the negative class are similar for all of the classification models."
   ]
  },
  {
   "cell_type": "code",
   "execution_count": 98,
   "metadata": {
    "collapsed": true
   },
   "outputs": [],
   "source": [
    "# Defining a function to return the precision, recall, f1 and average precision score\n",
    "# Defining functions to plot Precision-Recall Curves. \n",
    "\n",
    "from sklearn.metrics import precision_recall_fscore_support, average_precision_score, precision_recall_curve, auc\n",
    "\n",
    "def scores(y_test, y_pred):\n",
    "    \n",
    "    '''\n",
    "    Function takes in y_test, y_predict y_predict probability and scores to return precision, recall, f1 and\n",
    "    average_precision  scores of the positive class\n",
    "    '''\n",
    "    \n",
    "    precision, recall, f1, _ = precision_recall_fscore_support(y_test, y_pred, beta=1.0)\n",
    "    average_precision = average_precision_score(y_test, y_pred)\n",
    "    return precision[1], recall[1], f1[1], average_precision\n",
    "\n",
    "def precision_recall(y_test, y_pred, y_pred_proba, classifier):\n",
    "    \n",
    "    '''\n",
    "    Function accepts the y_test scores and y_predict probability scores to plot the precison-recall curve. The area\n",
    "    under the precision-recall curve will be coloured green.\n",
    "    '''\n",
    "    \n",
    "    average_precision = average_precision_score(y_test, y_pred)\n",
    "    precision, recall, _ = precision_recall_curve(y_test, y_pred_proba)\n",
    "\n",
    "    plt.step(recall, precision, color='g', alpha=0.2, where='post')\n",
    "    plt.fill_between(recall, precision, step='post', alpha=0.2, color='g')\n",
    "    plt.xlabel('Recall')\n",
    "    plt.ylabel('Precision')\n",
    "    plt.ylim([0.0, 0.40])\n",
    "    plt.xlim([0.0, 1.0])\n",
    "    plt.title('2-class Precision-Recall for ' +classifier+ ' Classifier : AP={0:0.2f}'.format(average_precision))\n",
    "    return plt\n",
    "\n",
    "def precision_recall1(y_test, y_pred, y_pred_proba, classifier):\n",
    "    \n",
    "    '''\n",
    "    Function accepts the y_test scores and y_predict probability scores to plot the precison-recall curve. The area\n",
    "    under the precision-recall curve will not be coloured and the curve will be denoted by a dotted blue line.\n",
    "    '''\n",
    "    \n",
    "    average_precision = average_precision_score(y_test, y_pred)\n",
    "    precision, recall, _ = precision_recall_curve(y_test, y_pred_proba)\n",
    "\n",
    "    plt.step(recall, precision, color='b', alpha=0.2, where='post', linestyle='dashed', linewidth=3)\n",
    "    #plt.fill_between(recall, precision, step='post', alpha=0.2, linestyle='dashed')\n",
    "    #plt.hlines(y, recall, precision, colors='b')\n",
    "    plt.xlabel('Recall')\n",
    "    plt.ylabel('Precision')\n",
    "    plt.ylim([0.0, 0.40])\n",
    "    plt.xlim([0.0, 1.0])\n",
    "    plt.title('2-class Precision-Recall for ' +classifier+ ' Classifier : AP={0:0.2f}'.format(average_precision))\n",
    "    return plt"
   ]
  },
  {
   "cell_type": "markdown",
   "metadata": {},
   "source": [
    "A table comparing the average precision, f1 score, precision and recall scores of the test set from the different classifiers were obtained."
   ]
  },
  {
   "cell_type": "code",
   "execution_count": 54,
   "metadata": {
    "collapsed": true
   },
   "outputs": [],
   "source": [
    "## Combined table of the precision, recall, f1, average_precision scores of the positive class and auc from the different classifiers\n",
    "\n",
    "a0, b0, c0, d0 = scores(y_test_30['readmitted_p30'], y_pred0)\n",
    "a1, b1, c1, d1 = scores(y_test_30['readmitted_p30'], y_pred1)\n",
    "a2, b2, c2, d2 = scores(y_test_30['readmitted_p30'], y_pred2b)\n",
    "a3, b3, c3, d3 = scores(y_test_30['readmitted_p30'], y_pred3a)"
   ]
  },
  {
   "cell_type": "code",
   "execution_count": 55,
   "metadata": {
    "collapsed": true
   },
   "outputs": [],
   "source": [
    "precision = [a0, a1, a2, a3]\n",
    "recall = [b0, b1, b2, b3]\n",
    "f1 = [c0, c1, c2, c3]\n",
    "ave_precision = [d0, d1, d2, d3]\n",
    "classifiers = ['Dummy', 'Logistic_Regression', 'MLP', 'XGBoost']"
   ]
  },
  {
   "cell_type": "code",
   "execution_count": 56,
   "metadata": {
    "scrolled": true
   },
   "outputs": [
    {
     "data": {
      "text/html": [
       "<div>\n",
       "<style>\n",
       "    .dataframe thead tr:only-child th {\n",
       "        text-align: right;\n",
       "    }\n",
       "\n",
       "    .dataframe thead th {\n",
       "        text-align: left;\n",
       "    }\n",
       "\n",
       "    .dataframe tbody tr th {\n",
       "        vertical-align: top;\n",
       "    }\n",
       "</style>\n",
       "<table border=\"1\" class=\"dataframe\">\n",
       "  <thead>\n",
       "    <tr style=\"text-align: right;\">\n",
       "      <th></th>\n",
       "      <th>average_precision</th>\n",
       "      <th>f1_score</th>\n",
       "      <th>precision</th>\n",
       "      <th>recall</th>\n",
       "    </tr>\n",
       "  </thead>\n",
       "  <tbody>\n",
       "    <tr>\n",
       "      <th>Dummy</th>\n",
       "      <td>0.314206</td>\n",
       "      <td>0.149675</td>\n",
       "      <td>0.088123</td>\n",
       "      <td>0.496403</td>\n",
       "    </tr>\n",
       "    <tr>\n",
       "      <th>Logistic_Regression</th>\n",
       "      <td>0.357191</td>\n",
       "      <td>0.210283</td>\n",
       "      <td>0.130310</td>\n",
       "      <td>0.544365</td>\n",
       "    </tr>\n",
       "    <tr>\n",
       "      <th>MLP</th>\n",
       "      <td>0.354243</td>\n",
       "      <td>0.207948</td>\n",
       "      <td>0.128792</td>\n",
       "      <td>0.539568</td>\n",
       "    </tr>\n",
       "    <tr>\n",
       "      <th>XGBoost</th>\n",
       "      <td>0.353046</td>\n",
       "      <td>0.207503</td>\n",
       "      <td>0.128588</td>\n",
       "      <td>0.537170</td>\n",
       "    </tr>\n",
       "  </tbody>\n",
       "</table>\n",
       "</div>"
      ],
      "text/plain": [
       "                     average_precision  f1_score  precision    recall\n",
       "Dummy                         0.314206  0.149675   0.088123  0.496403\n",
       "Logistic_Regression           0.357191  0.210283   0.130310  0.544365\n",
       "MLP                           0.354243  0.207948   0.128792  0.539568\n",
       "XGBoost                       0.353046  0.207503   0.128588  0.537170"
      ]
     },
     "execution_count": 56,
     "metadata": {},
     "output_type": "execute_result"
    }
   ],
   "source": [
    "classification_metrics = pd.DataFrame(data={'precision':precision, 'recall':recall, 'f1_score':f1, 'average_precision':ave_precision}, index=classifiers)\n",
    "classification_metrics"
   ]
  },
  {
   "cell_type": "markdown",
   "metadata": {},
   "source": [
    "Based on the results above, Logistic Regression gives the best results followed by MLP and then XGBoost. The average precision, f1, precision and recall scores indicated in the table belong to that of the positive class, i.e. readmission within 30 days."
   ]
  },
  {
   "cell_type": "markdown",
   "metadata": {},
   "source": [
    "Next, precision-recall curves for each classifier were plotted."
   ]
  },
  {
   "cell_type": "code",
   "execution_count": 102,
   "metadata": {
    "scrolled": false
   },
   "outputs": [
    {
     "data": {
      "image/png": "[encoded data removed]",
      "text/plain": [
       "<matplotlib.figure.Figure at 0x7f705bf10e80>"
      ]
     },
     "metadata": {},
     "output_type": "display_data"
    }
   ],
   "source": [
    "# Plotting the precision-recall curves for the different classifiers\n",
    "\n",
    "plt.figure(figsize=(12,8))\n",
    "\n",
    "plt.subplot(2,2,1)\n",
    "precision_recall1(y_test_30['readmitted_p30'], y_pred0, dm.predict_proba(X_test_30)[:,1], 'Dummy')\n",
    "plt.subplot(2,2,1)\n",
    "precision_recall(y_test_30['readmitted_p30'], y_pred1, lr_best.predict_proba(X_test_30)[:,1], 'Logistic Regression')\n",
    "plt.subplot(2,2,2)\n",
    "precision_recall1(y_test_30['readmitted_p30'], y_pred0, dm.predict_proba(X_test_30)[:,1], 'Dummy')\n",
    "plt.subplot(2,2,2)\n",
    "precision_recall(y_test_30['readmitted_p30'], y_pred2b, mlp2.predict_proba(X_test_30)[:,1], 'MLP')\n",
    "plt.subplot(2,2,3)\n",
    "precision_recall1(y_test_30['readmitted_p30'], y_pred0, dm.predict_proba(X_test_30)[:,1], 'Dummy')\n",
    "plt.subplot(2,2,3)\n",
    "precision_recall(y_test_30['readmitted_p30'], y_pred3a, best_xgb.predict_proba(X_test_30)[:,1], 'XGB')\n",
    "plt.tight_layout()"
   ]
  },
  {
   "cell_type": "markdown",
   "metadata": {},
   "source": [
    "The blue dotted line denotes the performance of the Dummy Classifier, while the green curve denotes the performance of the Logistic Regression, MLP or XGBoost classifier."
   ]
  },
  {
   "cell_type": "markdown",
   "metadata": {
    "collapsed": true
   },
   "source": [
    "Based on the confusion matrix, classification report and the plots above, the best performing classifier on the test set is Logistic Regression. It performs much better than the baseline Dummy Classifier. Next we will look at the coefficients of the features returned by Logistic Regression to see which are the strongest features in differentiating the positive class (readmission within 30 days) from the negative class (readmission after 30 days and no readmission)."
   ]
  },
  {
   "cell_type": "code",
   "execution_count": 104,
   "metadata": {
    "scrolled": true
   },
   "outputs": [
    {
     "data": {
      "text/html": [
       "<div>\n",
       "<style>\n",
       "    .dataframe thead tr:only-child th {\n",
       "        text-align: right;\n",
       "    }\n",
       "\n",
       "    .dataframe thead th {\n",
       "        text-align: left;\n",
       "    }\n",
       "\n",
       "    .dataframe tbody tr th {\n",
       "        vertical-align: top;\n",
       "    }\n",
       "</style>\n",
       "<table border=\"1\" class=\"dataframe\">\n",
       "  <thead>\n",
       "    <tr style=\"text-align: right;\">\n",
       "      <th></th>\n",
       "      <th>Abs_Coefficients</th>\n",
       "      <th>Coefficients</th>\n",
       "      <th>Features</th>\n",
       "    </tr>\n",
       "  </thead>\n",
       "  <tbody>\n",
       "    <tr>\n",
       "      <th>27</th>\n",
       "      <td>4.355579</td>\n",
       "      <td>4.355579</td>\n",
       "      <td>number_inpatient</td>\n",
       "    </tr>\n",
       "    <tr>\n",
       "      <th>26</th>\n",
       "      <td>3.172131</td>\n",
       "      <td>3.172131</td>\n",
       "      <td>number_emergency</td>\n",
       "    </tr>\n",
       "    <tr>\n",
       "      <th>40</th>\n",
       "      <td>3.033430</td>\n",
       "      <td>3.033430</td>\n",
       "      <td>discharge_disposition_id_3</td>\n",
       "    </tr>\n",
       "    <tr>\n",
       "      <th>5</th>\n",
       "      <td>2.744057</td>\n",
       "      <td>-2.744057</td>\n",
       "      <td>chlorpropamide</td>\n",
       "    </tr>\n",
       "    <tr>\n",
       "      <th>14</th>\n",
       "      <td>2.444524</td>\n",
       "      <td>-2.444524</td>\n",
       "      <td>tolazamide</td>\n",
       "    </tr>\n",
       "    <tr>\n",
       "      <th>37</th>\n",
       "      <td>1.959763</td>\n",
       "      <td>1.959763</td>\n",
       "      <td>admission_type_id_2</td>\n",
       "    </tr>\n",
       "    <tr>\n",
       "      <th>35</th>\n",
       "      <td>1.952710</td>\n",
       "      <td>1.952710</td>\n",
       "      <td>age_2</td>\n",
       "    </tr>\n",
       "    <tr>\n",
       "      <th>36</th>\n",
       "      <td>1.882875</td>\n",
       "      <td>1.882875</td>\n",
       "      <td>admission_type_id_1</td>\n",
       "    </tr>\n",
       "    <tr>\n",
       "      <th>39</th>\n",
       "      <td>1.784033</td>\n",
       "      <td>1.784033</td>\n",
       "      <td>discharge_disposition_id_2</td>\n",
       "    </tr>\n",
       "    <tr>\n",
       "      <th>42</th>\n",
       "      <td>1.707546</td>\n",
       "      <td>1.707546</td>\n",
       "      <td>admission_source_id_2</td>\n",
       "    </tr>\n",
       "    <tr>\n",
       "      <th>34</th>\n",
       "      <td>1.545500</td>\n",
       "      <td>1.545500</td>\n",
       "      <td>age_1</td>\n",
       "    </tr>\n",
       "    <tr>\n",
       "      <th>41</th>\n",
       "      <td>1.353675</td>\n",
       "      <td>1.353675</td>\n",
       "      <td>admission_source_id_1</td>\n",
       "    </tr>\n",
       "    <tr>\n",
       "      <th>38</th>\n",
       "      <td>1.080973</td>\n",
       "      <td>1.080973</td>\n",
       "      <td>discharge_disposition_id_1</td>\n",
       "    </tr>\n",
       "    <tr>\n",
       "      <th>12</th>\n",
       "      <td>1.066359</td>\n",
       "      <td>-1.066359</td>\n",
       "      <td>acarbose</td>\n",
       "    </tr>\n",
       "    <tr>\n",
       "      <th>4</th>\n",
       "      <td>0.953075</td>\n",
       "      <td>-0.953075</td>\n",
       "      <td>nateglinide</td>\n",
       "    </tr>\n",
       "    <tr>\n",
       "      <th>17</th>\n",
       "      <td>0.809990</td>\n",
       "      <td>-0.809990</td>\n",
       "      <td>glipizide-metformin</td>\n",
       "    </tr>\n",
       "    <tr>\n",
       "      <th>32</th>\n",
       "      <td>0.698057</td>\n",
       "      <td>-0.698057</td>\n",
       "      <td>race_Unknown</td>\n",
       "    </tr>\n",
       "    <tr>\n",
       "      <th>19</th>\n",
       "      <td>0.688562</td>\n",
       "      <td>-0.688562</td>\n",
       "      <td>change</td>\n",
       "    </tr>\n",
       "    <tr>\n",
       "      <th>31</th>\n",
       "      <td>0.685470</td>\n",
       "      <td>-0.685470</td>\n",
       "      <td>race_Other</td>\n",
       "    </tr>\n",
       "    <tr>\n",
       "      <th>16</th>\n",
       "      <td>0.677557</td>\n",
       "      <td>-0.677557</td>\n",
       "      <td>glyburide-metformin</td>\n",
       "    </tr>\n",
       "    <tr>\n",
       "      <th>20</th>\n",
       "      <td>0.590653</td>\n",
       "      <td>0.590653</td>\n",
       "      <td>diabetesMed</td>\n",
       "    </tr>\n",
       "    <tr>\n",
       "      <th>6</th>\n",
       "      <td>0.546505</td>\n",
       "      <td>-0.546505</td>\n",
       "      <td>glimepiride</td>\n",
       "    </tr>\n",
       "    <tr>\n",
       "      <th>22</th>\n",
       "      <td>0.533871</td>\n",
       "      <td>0.533871</td>\n",
       "      <td>time_in_hospital</td>\n",
       "    </tr>\n",
       "    <tr>\n",
       "      <th>23</th>\n",
       "      <td>0.517319</td>\n",
       "      <td>0.517319</td>\n",
       "      <td>num_lab_procedures</td>\n",
       "    </tr>\n",
       "    <tr>\n",
       "      <th>25</th>\n",
       "      <td>0.420295</td>\n",
       "      <td>-0.420295</td>\n",
       "      <td>number_outpatient</td>\n",
       "    </tr>\n",
       "    <tr>\n",
       "      <th>13</th>\n",
       "      <td>0.396482</td>\n",
       "      <td>0.396482</td>\n",
       "      <td>miglitol</td>\n",
       "    </tr>\n",
       "    <tr>\n",
       "      <th>10</th>\n",
       "      <td>0.317380</td>\n",
       "      <td>-0.317380</td>\n",
       "      <td>pioglitazone</td>\n",
       "    </tr>\n",
       "    <tr>\n",
       "      <th>21</th>\n",
       "      <td>0.265783</td>\n",
       "      <td>0.265783</td>\n",
       "      <td>diag_diabetes</td>\n",
       "    </tr>\n",
       "    <tr>\n",
       "      <th>44</th>\n",
       "      <td>0.245307</td>\n",
       "      <td>0.245307</td>\n",
       "      <td>A1Cresult&amp;change</td>\n",
       "    </tr>\n",
       "    <tr>\n",
       "      <th>7</th>\n",
       "      <td>0.232127</td>\n",
       "      <td>-0.232127</td>\n",
       "      <td>glipizide</td>\n",
       "    </tr>\n",
       "    <tr>\n",
       "      <th>24</th>\n",
       "      <td>0.207233</td>\n",
       "      <td>0.207233</td>\n",
       "      <td>num_procedures</td>\n",
       "    </tr>\n",
       "    <tr>\n",
       "      <th>8</th>\n",
       "      <td>0.194949</td>\n",
       "      <td>-0.194949</td>\n",
       "      <td>glyburide</td>\n",
       "    </tr>\n",
       "    <tr>\n",
       "      <th>33</th>\n",
       "      <td>0.179967</td>\n",
       "      <td>0.179967</td>\n",
       "      <td>gender_Male</td>\n",
       "    </tr>\n",
       "    <tr>\n",
       "      <th>3</th>\n",
       "      <td>0.167896</td>\n",
       "      <td>0.167896</td>\n",
       "      <td>repaglinide</td>\n",
       "    </tr>\n",
       "    <tr>\n",
       "      <th>0</th>\n",
       "      <td>0.158281</td>\n",
       "      <td>-0.158281</td>\n",
       "      <td>max_glu_serum</td>\n",
       "    </tr>\n",
       "    <tr>\n",
       "      <th>51</th>\n",
       "      <td>0.157026</td>\n",
       "      <td>0.157026</td>\n",
       "      <td>max_glu_serum&amp;diabetesMed</td>\n",
       "    </tr>\n",
       "    <tr>\n",
       "      <th>29</th>\n",
       "      <td>0.113024</td>\n",
       "      <td>0.113024</td>\n",
       "      <td>race_Caucasian</td>\n",
       "    </tr>\n",
       "    <tr>\n",
       "      <th>45</th>\n",
       "      <td>0.105322</td>\n",
       "      <td>-0.105322</td>\n",
       "      <td>A1Cresult&amp;gender_Male</td>\n",
       "    </tr>\n",
       "    <tr>\n",
       "      <th>46</th>\n",
       "      <td>0.096675</td>\n",
       "      <td>-0.096675</td>\n",
       "      <td>A1Cresult&amp;diag_diabetes</td>\n",
       "    </tr>\n",
       "    <tr>\n",
       "      <th>48</th>\n",
       "      <td>0.091166</td>\n",
       "      <td>0.091166</td>\n",
       "      <td>max_glu_serum&amp;change</td>\n",
       "    </tr>\n",
       "    <tr>\n",
       "      <th>2</th>\n",
       "      <td>0.086665</td>\n",
       "      <td>0.086665</td>\n",
       "      <td>metformin</td>\n",
       "    </tr>\n",
       "    <tr>\n",
       "      <th>50</th>\n",
       "      <td>0.079671</td>\n",
       "      <td>-0.079671</td>\n",
       "      <td>max_glu_serum&amp;diag_diabetes</td>\n",
       "    </tr>\n",
       "    <tr>\n",
       "      <th>49</th>\n",
       "      <td>0.061487</td>\n",
       "      <td>0.061487</td>\n",
       "      <td>max_glu_serum&amp;gender_Male</td>\n",
       "    </tr>\n",
       "    <tr>\n",
       "      <th>11</th>\n",
       "      <td>0.061182</td>\n",
       "      <td>0.061182</td>\n",
       "      <td>rosiglitazone</td>\n",
       "    </tr>\n",
       "    <tr>\n",
       "      <th>1</th>\n",
       "      <td>0.050033</td>\n",
       "      <td>-0.050033</td>\n",
       "      <td>A1Cresult</td>\n",
       "    </tr>\n",
       "    <tr>\n",
       "      <th>30</th>\n",
       "      <td>0.039007</td>\n",
       "      <td>0.039007</td>\n",
       "      <td>race_Hispanic</td>\n",
       "    </tr>\n",
       "    <tr>\n",
       "      <th>43</th>\n",
       "      <td>0.037014</td>\n",
       "      <td>0.037014</td>\n",
       "      <td>A1Cresult&amp;max_glu_serum</td>\n",
       "    </tr>\n",
       "    <tr>\n",
       "      <th>15</th>\n",
       "      <td>0.016890</td>\n",
       "      <td>0.016890</td>\n",
       "      <td>insulin</td>\n",
       "    </tr>\n",
       "    <tr>\n",
       "      <th>28</th>\n",
       "      <td>0.016512</td>\n",
       "      <td>0.016512</td>\n",
       "      <td>race_Asian</td>\n",
       "    </tr>\n",
       "    <tr>\n",
       "      <th>47</th>\n",
       "      <td>0.009698</td>\n",
       "      <td>0.009698</td>\n",
       "      <td>A1Cresult&amp;diabetesMed</td>\n",
       "    </tr>\n",
       "    <tr>\n",
       "      <th>9</th>\n",
       "      <td>0.000000</td>\n",
       "      <td>0.000000</td>\n",
       "      <td>tolbutamide</td>\n",
       "    </tr>\n",
       "    <tr>\n",
       "      <th>18</th>\n",
       "      <td>0.000000</td>\n",
       "      <td>0.000000</td>\n",
       "      <td>metformin-rosiglitazone</td>\n",
       "    </tr>\n",
       "  </tbody>\n",
       "</table>\n",
       "</div>"
      ],
      "text/plain": [
       "    Abs_Coefficients  Coefficients                     Features\n",
       "27          4.355579      4.355579             number_inpatient\n",
       "26          3.172131      3.172131             number_emergency\n",
       "40          3.033430      3.033430   discharge_disposition_id_3\n",
       "5           2.744057     -2.744057               chlorpropamide\n",
       "14          2.444524     -2.444524                   tolazamide\n",
       "37          1.959763      1.959763          admission_type_id_2\n",
       "35          1.952710      1.952710                        age_2\n",
       "36          1.882875      1.882875          admission_type_id_1\n",
       "39          1.784033      1.784033   discharge_disposition_id_2\n",
       "42          1.707546      1.707546        admission_source_id_2\n",
       "34          1.545500      1.545500                        age_1\n",
       "41          1.353675      1.353675        admission_source_id_1\n",
       "38          1.080973      1.080973   discharge_disposition_id_1\n",
       "12          1.066359     -1.066359                     acarbose\n",
       "4           0.953075     -0.953075                  nateglinide\n",
       "17          0.809990     -0.809990          glipizide-metformin\n",
       "32          0.698057     -0.698057                 race_Unknown\n",
       "19          0.688562     -0.688562                       change\n",
       "31          0.685470     -0.685470                   race_Other\n",
       "16          0.677557     -0.677557          glyburide-metformin\n",
       "20          0.590653      0.590653                  diabetesMed\n",
       "6           0.546505     -0.546505                  glimepiride\n",
       "22          0.533871      0.533871             time_in_hospital\n",
       "23          0.517319      0.517319           num_lab_procedures\n",
       "25          0.420295     -0.420295            number_outpatient\n",
       "13          0.396482      0.396482                     miglitol\n",
       "10          0.317380     -0.317380                 pioglitazone\n",
       "21          0.265783      0.265783                diag_diabetes\n",
       "44          0.245307      0.245307             A1Cresult&change\n",
       "7           0.232127     -0.232127                    glipizide\n",
       "24          0.207233      0.207233               num_procedures\n",
       "8           0.194949     -0.194949                    glyburide\n",
       "33          0.179967      0.179967                  gender_Male\n",
       "3           0.167896      0.167896                  repaglinide\n",
       "0           0.158281     -0.158281                max_glu_serum\n",
       "51          0.157026      0.157026    max_glu_serum&diabetesMed\n",
       "29          0.113024      0.113024               race_Caucasian\n",
       "45          0.105322     -0.105322        A1Cresult&gender_Male\n",
       "46          0.096675     -0.096675      A1Cresult&diag_diabetes\n",
       "48          0.091166      0.091166         max_glu_serum&change\n",
       "2           0.086665      0.086665                    metformin\n",
       "50          0.079671     -0.079671  max_glu_serum&diag_diabetes\n",
       "49          0.061487      0.061487    max_glu_serum&gender_Male\n",
       "11          0.061182      0.061182                rosiglitazone\n",
       "1           0.050033     -0.050033                    A1Cresult\n",
       "30          0.039007      0.039007                race_Hispanic\n",
       "43          0.037014      0.037014      A1Cresult&max_glu_serum\n",
       "15          0.016890      0.016890                      insulin\n",
       "28          0.016512      0.016512                   race_Asian\n",
       "47          0.009698      0.009698        A1Cresult&diabetesMed\n",
       "9           0.000000      0.000000                  tolbutamide\n",
       "18          0.000000      0.000000      metformin-rosiglitazone"
      ]
     },
     "execution_count": 104,
     "metadata": {},
     "output_type": "execute_result"
    }
   ],
   "source": [
    "# Finding out the coefficients of the features, aka feature importance from Logistic Regression\n",
    "pd.set_option('display.max_rows', None)\n",
    "lr_coefs = pd.DataFrame(data={'Features':X_ros_30.columns, 'Coefficients':lr_best.coef_[0], 'Abs_Coefficients':np.abs(lr_best.coef_[0])})\n",
    "lr_coefs.sort_values(by='Abs_Coefficients', ascending=False)"
   ]
  },
  {
   "cell_type": "code",
   "execution_count": 105,
   "metadata": {},
   "outputs": [
    {
     "data": {
      "text/plain": [
       "27              number_inpatient\n",
       "26              number_emergency\n",
       "40    discharge_disposition_id_3\n",
       "5                 chlorpropamide\n",
       "14                    tolazamide\n",
       "37           admission_type_id_2\n",
       "35                         age_2\n",
       "36           admission_type_id_1\n",
       "39    discharge_disposition_id_2\n",
       "42         admission_source_id_2\n",
       "Name: Features, dtype: object"
      ]
     },
     "execution_count": 105,
     "metadata": {},
     "output_type": "execute_result"
    }
   ],
   "source": [
    "# The top 10 most important features based on Logistic Regression\n",
    "lr_coefs.sort_values(by='Abs_Coefficients', ascending=False)['Features'][:10]"
   ]
  },
  {
   "cell_type": "code",
   "execution_count": 112,
   "metadata": {},
   "outputs": [
    {
     "data": {
      "image/png": "[encoded data removed]",
      "text/plain": [
       "<matplotlib.figure.Figure at 0x7f706815c160>"
      ]
     },
     "metadata": {},
     "output_type": "display_data"
    }
   ],
   "source": [
    "# Plot of the coefficients of the top 10 features\n",
    "features = lr_coefs.sort_values(by='Abs_Coefficients', ascending=False)['Features'][:10]\n",
    "coefficients = lr_coefs.sort_values(by='Abs_Coefficients', ascending=False)['Coefficients'][:10]\n",
    "indices = np.array(coefficients)\n",
    "\n",
    "plt.figure(figsize=(8,8))\n",
    "plt.figure(1)\n",
    "plt.title('Feature Importances')\n",
    "plt.barh(range(len(indices)), coefficients, color='b', align='center')\n",
    "plt.yticks(range(len(indices)), features)\n",
    "plt.xlabel('Coefficients')\n",
    "plt.grid(True)"
   ]
  },
  {
   "cell_type": "markdown",
   "metadata": {},
   "source": [
    "Based on the table and plot above, the top 10 features that are the strongest predictors of a patient being readmitted early(within 30 days) vs not being readmitted early are 'number_inpatient', 'number_emergency', 'discharge_disposition_id_3', 'chlorpropamide', 'tolazamide', 'admission_type_id_2', 'age_2', 'admission_type_id_1', 'discharge_disposition_id_2' and 'admission_source_id_2'. Of these, the prescription status of the drugs 'chlorpropamide', 'tolazamide' are the strongest negative predictors of early readmission, meaning that the prescription of these drugs reduces the early readmission of the patients. Whereas the other top 10 features are strong predictors of early readmission."
   ]
  },
  {
   "cell_type": "code",
   "execution_count": 215,
   "metadata": {},
   "outputs": [
    {
     "data": {
      "image/png": "[encoded data removed]",
      "text/plain": [
       "<matplotlib.figure.Figure at 0x7ff1748ff5c0>"
      ]
     },
     "metadata": {},
     "output_type": "display_data"
    }
   ],
   "source": [
    "# Plot of the coefficients of all the features\n",
    "features = lr_coefs.sort_values(by='Abs_Coefficients', ascending=True)['Features']\n",
    "coefficients = lr_coefs.sort_values(by='Abs_Coefficients', ascending=True)['Coefficients']\n",
    "indices = np.array(coefficients)\n",
    "\n",
    "plt.figure(figsize=(20,20))\n",
    "plt.figure(1)\n",
    "plt.title('Feature Importances')\n",
    "plt.barh(range(len(indices)), coefficients, color='b', align='center')\n",
    "plt.yticks(range(len(indices)), features)\n",
    "plt.xlabel('Coefficients')\n",
    "plt.grid(True)"
   ]
  },
  {
   "cell_type": "markdown",
   "metadata": {},
   "source": [
    "Looking at the coefficients of the features for the prediciton of early readmission, there are some interesting points to note. The prescription of drugs in general reduces the early readmission(given by the negative coefficients), and the taking of the glucose tests reduces early readmission. The longer the patient spends in the hospital, the greater the chance of early readmission, and the greater the number of times the patient was admitted under inpatient and emergency conditions, the higher the chance of early readmission. The higher the age of the patient, the greater the chance of early readmission."
   ]
  },
  {
   "cell_type": "markdown",
   "metadata": {},
   "source": [
    "**Summary:**\n",
    "Different classification models were built to predict early readmission vs not early readmission. The classification models used were Logistic Regression, MLP, XGBoost. The hyperparameters of the classifiers were tuned using GridSearchCV, and the best hyperparameters that maximised recall score were selected for the classifiers. The aim wa to maximise the recall score of the positive class(early readmission class), since correctly identifying thepatients who are going to be readmitted early would enable practitioners to focus intervention measure to reduce their readmission risk. A Dummy Classifier using a stratified strategy was used as a baseline to compare the performance of the different classifiers. The metrics used to select the best classifier was recall score of the positive class(early readmission), and the higehest area under the precision-recall curve of the positive class(given by average-precision score). In general, all 3 classifiers performed better than the Dummy Classifier, with Logistic Regression having the best performance, with the highest recall score and average-precision score of the positive class.\n",
    "\n",
    "Looking at the coefficients of the features returned by Logistic Regression, the strongest positive predictors of early readmission are 'number_inpatient', 'number_emergency', 'discharge_disposition_id_3', 'admission_type_id_2', 'age_2', 'admission_type_id_1', 'discharge_disposition_id_2' and 'admission_source_id_2'. The strongest negative predictors of early readmission are the prescription of the drugs 'chlorpropamide' and 'tolazamide'. In general, the prescription of any diabetic durgs and the ordering of glucose tests are negative predictors of early readmission, i.e. these features are more indicative of non-early readmission and thus could well decrease the risk of early readmission. Hence, better prescription of drugs and ordering of glucose tests could be used as intervention measures to reduce early readmission. The meaning of 'discharge_disposition_id_3', 'admission_type_id_2', 'age_2', 'admission_type_id_1', 'discharge_disposition_id_2' and 'admission_source_id_2' can be found in the jupyter notebook titled 'Capstone---Final---Cleaning+EDA' under the EDA section for categorical features.\n",
    "\n",
    "In general, although all 3 classifiers performed better than the Dummy Classifier, the best performing classifier only has a recall score of 0.54 and an average-precision score of 0.36 for the positive class which is low. This could be due to the fact that medical records alone cannot be strong predictors of readmission risk for diabetes. Diabetes is a genetic and lifestyle disease and hence there is a need to collect more representative features such as genetic variants that cause a predisposition for diabetes, lifestyle factors such as diet and exercise habits and BMI levels, which can be stronger predictors for the severity of diabetes and the risk for readmission. Early readmission is not just a product of the care given by the healthcare practitioners but also a result of lifestyle and genetic makeup of patients. Nevertheless, medical record data do provide some information predicting early readmission but it should be complemented with these other data."
   ]
  },
  {
   "cell_type": "markdown",
   "metadata": {},
   "source": [
    "### Second aim of project---Predicting readmission(< 30 and > 30 days) vs no readmission"
   ]
  },
  {
   "cell_type": "code",
   "execution_count": 114,
   "metadata": {
    "collapsed": true
   },
   "outputs": [],
   "source": [
    "# Load the required files\n",
    "X_train = pd.read_csv('./X_train.csv')\n",
    "X_test = pd.read_csv('./X_test.csv')\n",
    "y_train = pd.read_csv('./y_train.csv')\n",
    "y_test = pd.read_csv('./y_test.csv')\n",
    "X_ros = pd.read_csv('./X_ros.csv')\n",
    "y_ros = pd.read_csv('./y_ros.csv')"
   ]
  },
  {
   "cell_type": "code",
   "execution_count": 115,
   "metadata": {
    "collapsed": true
   },
   "outputs": [],
   "source": [
    "# Drop the 'Unnamed: 0' column\n",
    "X_train.drop('Unnamed: 0', axis=1, inplace=True)\n",
    "X_test.drop('Unnamed: 0', axis=1, inplace=True)\n",
    "y_train.drop('Unnamed: 0', axis=1, inplace=True)\n",
    "y_test.drop('Unnamed: 0', axis=1, inplace=True)\n",
    "X_ros.drop('Unnamed: 0', axis=1, inplace=True)\n",
    "y_ros.drop('Unnamed: 0', axis=1, inplace=True)"
   ]
  },
  {
   "cell_type": "code",
   "execution_count": 116,
   "metadata": {
    "collapsed": true
   },
   "outputs": [],
   "source": [
    "# First fit a Dummy Classifier to get a baseline of prediction on the test set\n",
    "from sklearn.dummy import DummyClassifier\n",
    "dmm = DummyClassifier(strategy='stratified', random_state=12).fit(X_ros,y_ros['readmitted_p'])\n",
    "y_pred00 = dmm.predict(X_test)"
   ]
  },
  {
   "cell_type": "code",
   "execution_count": 117,
   "metadata": {},
   "outputs": [
    {
     "name": "stdout",
     "output_type": "stream",
     "text": [
      "             precision    recall  f1-score   support\n",
      "\n",
      "          0       0.60      0.51      0.55      2893\n",
      "          1       0.39      0.49      0.44      1892\n",
      "\n",
      "avg / total       0.52      0.50      0.51      4785\n",
      "\n"
     ]
    }
   ],
   "source": [
    "print(classification_report(y_test['readmitted_p'], y_pred00))"
   ]
  },
  {
   "cell_type": "code",
   "execution_count": 74,
   "metadata": {},
   "outputs": [
    {
     "name": "stdout",
     "output_type": "stream",
     "text": [
      "Fitting 5 folds for each of 100 candidates, totalling 500 fits\n"
     ]
    },
    {
     "name": "stderr",
     "output_type": "stream",
     "text": [
      "[Parallel(n_jobs=-1)]: Done  46 tasks      | elapsed:   25.2s\n",
      "[Parallel(n_jobs=-1)]: Done 196 tasks      | elapsed:  4.6min\n",
      "[Parallel(n_jobs=-1)]: Done 446 tasks      | elapsed: 24.7min\n",
      "[Parallel(n_jobs=-1)]: Done 500 out of 500 | elapsed: 29.3min finished\n"
     ]
    },
    {
     "data": {
      "text/plain": [
       "GridSearchCV(cv=5, error_score='raise',\n",
       "       estimator=LogisticRegression(C=1.0, class_weight=None, dual=False, fit_intercept=True,\n",
       "          intercept_scaling=1, max_iter=100, multi_class='ovr', n_jobs=1,\n",
       "          penalty='l2', random_state=None, solver='liblinear', tol=0.0001,\n",
       "          verbose=0, warm_start=False),\n",
       "       fit_params={}, iid=True, n_jobs=-1,\n",
       "       param_grid={'C': [0.10000000000000001, 0.20000000000000001, 0.30000000000000004, 0.40000000000000002, 0.5, 0.59999999999999998, 0.70000000000000007, 0.80000000000000004, 0.90000000000000002, 1.0, 1.1000000000000001, 1.2000000000000002, 1.3000000000000003, 1.4000000000000001, 1.5000000000000002, 1.60...8, 4.9000000000000004, 5.0], 'penalty': ['l1', 'l2'], 'random_state': [12], 'solver': ['liblinear']},\n",
       "       pre_dispatch='2*n_jobs', refit=True, return_train_score=True,\n",
       "       scoring='recall', verbose=1)"
      ]
     },
     "execution_count": 74,
     "metadata": {},
     "output_type": "execute_result"
    }
   ],
   "source": [
    "# Fitting Logistic Regression\n",
    "lrr_params = {'penalty':['l1','l2'], 'solver':['liblinear'], 'C':list(np.arange(0.1, 5.1, 0.1)), 'random_state':[12]}\n",
    "lrr_gridsearch = GridSearchCV(LogisticRegression(), lrr_params, cv=5, verbose=1, scoring='recall', n_jobs=-1)\n",
    "lrr_gridsearch.fit(X_ros,y_ros['readmitted_p'])"
   ]
  },
  {
   "cell_type": "code",
   "execution_count": null,
   "metadata": {},
   "outputs": [
    {
     "data": {
      "text/plain": [
       "{'C': 1.4000000000000001,\n",
       " 'penalty': 'l2',\n",
       " 'random_state': 12,\n",
       " 'solver': 'liblinear'}"
      ]
     },
     "execution_count": 76,
     "metadata": {},
     "output_type": "execute_result"
    }
   ],
   "source": [
    "# The best hyperparamters that maximise recall score\n",
    "lrr_gridsearch.best_params_"
   ]
  },
  {
   "cell_type": "code",
   "execution_count": 75,
   "metadata": {
    "collapsed": true
   },
   "outputs": [],
   "source": [
    "# Predicting the test set with the best LogisticRegression Classifier\n",
    "lrr_best = lrr_gridsearch.best_estimator_\n",
    "y_pred01 = lrr_best.predict(X_test)"
   ]
  },
  {
   "cell_type": "code",
   "execution_count": 120,
   "metadata": {
    "collapsed": true
   },
   "outputs": [],
   "source": [
    "lrr_best = LogisticRegression(C=1.4000000000000001, penalty='l2', random_state=12, solver='liblinear')\n",
    "lrr_best.fit(X_ros,y_ros['readmitted_p'])\n",
    "y_pred01 = lrr_best.predict(X_test)"
   ]
  },
  {
   "cell_type": "code",
   "execution_count": 121,
   "metadata": {},
   "outputs": [
    {
     "name": "stdout",
     "output_type": "stream",
     "text": [
      "             precision    recall  f1-score   support\n",
      "\n",
      "          0       0.70      0.63      0.66      2893\n",
      "          1       0.51      0.58      0.54      1892\n",
      "\n",
      "avg / total       0.62      0.61      0.61      4785\n",
      "\n"
     ]
    }
   ],
   "source": [
    "print(classification_report(y_test['readmitted_p'], y_pred01))"
   ]
  },
  {
   "cell_type": "code",
   "execution_count": 7,
   "metadata": {},
   "outputs": [
    {
     "name": "stdout",
     "output_type": "stream",
     "text": [
      "Fitting 5 folds for each of 40 candidates, totalling 200 fits\n"
     ]
    },
    {
     "name": "stderr",
     "output_type": "stream",
     "text": [
      "[Parallel(n_jobs=-1)]: Done  46 tasks      | elapsed: 18.9min\n",
      "[Parallel(n_jobs=-1)]: Done 196 tasks      | elapsed: 56.4min\n",
      "[Parallel(n_jobs=-1)]: Done 200 out of 200 | elapsed: 57.0min finished\n"
     ]
    },
    {
     "data": {
      "text/plain": [
       "GridSearchCV(cv=5, error_score='raise',\n",
       "       estimator=MLPClassifier(activation='relu', alpha=0.0001, batch_size='auto', beta_1=0.9,\n",
       "       beta_2=0.999, early_stopping=False, epsilon=1e-08,\n",
       "       hidden_layer_sizes=(100,), learning_rate='constant',\n",
       "       learning_rate_init=0.001, max_iter=200, momentum=0.9,\n",
       "       nesterovs_momentum=True, power_t=0.5, random_state=None,\n",
       "       shuffle=True, solver='adam', tol=0.0001, validation_fraction=0.1,\n",
       "       verbose=False, warm_start=False),\n",
       "       fit_params={}, iid=True, n_jobs=-1,\n",
       "       param_grid={'max_iter': [500], 'activation': ['logistic', 'identity'], 'learning_rate_init': [0.001, 0.010999999999999999, 0.020999999999999998, 0.030999999999999996, 0.040999999999999995, 0.05099999999999999, 0.060999999999999992, 0.070999999999999994, 0.080999999999999989, 0.090999999999999984], 'random_state': [12], 'solver': ['sgd', 'lbfgs']},\n",
       "       pre_dispatch='2*n_jobs', refit=True, return_train_score=True,\n",
       "       scoring='recall', verbose=1)"
      ]
     },
     "execution_count": 7,
     "metadata": {},
     "output_type": "execute_result"
    }
   ],
   "source": [
    "# Fitting MLP\n",
    "mlpp_params = {'activation' : ['logistic', 'identity'], 'solver' : ['sgd','lbfgs'], 'learning_rate_init':list(np.arange(0.001, 0.1, 0.01)), 'max_iter':[500], 'random_state':[12]}\n",
    "mlpp_gridsearch = GridSearchCV(MLPClassifier(), mlpp_params, cv=5, verbose=1, scoring='recall', n_jobs=-1)\n",
    "mlpp_gridsearch.fit(X_ros,y_ros['readmitted_p'])"
   ]
  },
  {
   "cell_type": "code",
   "execution_count": 8,
   "metadata": {},
   "outputs": [
    {
     "data": {
      "text/plain": [
       "{'activation': 'logistic',\n",
       " 'learning_rate_init': 0.001,\n",
       " 'max_iter': 500,\n",
       " 'random_state': 12,\n",
       " 'solver': 'lbfgs'}"
      ]
     },
     "execution_count": 8,
     "metadata": {},
     "output_type": "execute_result"
    }
   ],
   "source": [
    "# The best hyperparamters that maximise recall score\n",
    "mlpp_gridsearch.best_params_"
   ]
  },
  {
   "cell_type": "code",
   "execution_count": 122,
   "metadata": {
    "collapsed": true
   },
   "outputs": [],
   "source": [
    "# Predicting the test set with the best MLP Classifier\n",
    "mlpp_best = mlpp_gridsearch.best_estimator_\n",
    "y_pred02 = mlpp_best.predict(X_test)"
   ]
  },
  {
   "cell_type": "code",
   "execution_count": 123,
   "metadata": {},
   "outputs": [
    {
     "name": "stdout",
     "output_type": "stream",
     "text": [
      "             precision    recall  f1-score   support\n",
      "\n",
      "          0       0.65      0.59      0.62      2893\n",
      "          1       0.45      0.51      0.48      1892\n",
      "\n",
      "avg / total       0.57      0.56      0.56      4785\n",
      "\n"
     ]
    }
   ],
   "source": [
    "print(classification_report(y_test['readmitted_p'], y_pred02))"
   ]
  },
  {
   "cell_type": "markdown",
   "metadata": {},
   "source": [
    "Even though Gridsearch returned a MLPClassifier with the best hyperparameters that maximise the recall score, the recall score of the positive class is very low. Based on other tuning done, another MLPClassifier with different hyperparamters that increases the recall score of the positive class was fit."
   ]
  },
  {
   "cell_type": "code",
   "execution_count": 124,
   "metadata": {
    "collapsed": true
   },
   "outputs": [],
   "source": [
    "# Fitting another MLPClassifier to increase the recall score of the positive class\n",
    "mlpp2 = MLPClassifier(activation='identity', solver='lbfgs', random_state=12, max_iter=500).fit(X_ros, y_ros['readmitted_p'])\n",
    "y_pred02b = mlpp2.predict(X_test)"
   ]
  },
  {
   "cell_type": "code",
   "execution_count": 125,
   "metadata": {},
   "outputs": [
    {
     "name": "stdout",
     "output_type": "stream",
     "text": [
      "             precision    recall  f1-score   support\n",
      "\n",
      "          0       0.70      0.64      0.67      2893\n",
      "          1       0.51      0.58      0.55      1892\n",
      "\n",
      "avg / total       0.63      0.62      0.62      4785\n",
      "\n"
     ]
    }
   ],
   "source": [
    "print(classification_report(y_test['readmitted_p'], y_pred02b))"
   ]
  },
  {
   "cell_type": "code",
   "execution_count": null,
   "metadata": {
    "collapsed": true
   },
   "outputs": [],
   "source": [
    "# The recall score of the positive class has increased as compared to the classifier returned by GridSearchCV."
   ]
  },
  {
   "cell_type": "markdown",
   "metadata": {},
   "source": [
    "For tree based models such XGBoost Classifier, Random ForestClassifier, interaction terms should not be added into the model. The Naive Bayes theorem assumes independence between the features and hence interaction terms should not be added into the model. Hence, a new Dataframe of X variables(features) excluding the interaction terms was created for modeling. The interaction terms were also removed from the test set."
   ]
  },
  {
   "cell_type": "code",
   "execution_count": 126,
   "metadata": {
    "collapsed": true
   },
   "outputs": [],
   "source": [
    "# Getting the list of interaction terms\n",
    "non_interaction = [i for i in X_train.columns if '&' not in i]"
   ]
  },
  {
   "cell_type": "code",
   "execution_count": 127,
   "metadata": {
    "collapsed": true
   },
   "outputs": [],
   "source": [
    "# Create new X DataFrames that do not contain the interaction\n",
    "X_train_n = X_train.loc[:, non_interaction]\n",
    "X_test_n = X_test.loc[:, non_interaction]\n",
    "X_ros_n = X_ros.loc[:, non_interaction]"
   ]
  },
  {
   "cell_type": "code",
   "execution_count": 11,
   "metadata": {},
   "outputs": [
    {
     "name": "stdout",
     "output_type": "stream",
     "text": [
      "Fitting 5 folds for each of 25 candidates, totalling 125 fits\n"
     ]
    },
    {
     "name": "stderr",
     "output_type": "stream",
     "text": [
      "[Parallel(n_jobs=-1)]: Done  46 tasks      | elapsed:  9.4min\n",
      "[Parallel(n_jobs=-1)]: Done 125 out of 125 | elapsed: 31.0min finished\n"
     ]
    },
    {
     "data": {
      "text/plain": [
       "GridSearchCV(cv=5, error_score='raise',\n",
       "       estimator=XGBClassifier(base_score=0.5, booster='gbtree', colsample_bylevel=1,\n",
       "       colsample_bytree=1, gamma=0, learning_rate=0.1, max_delta_step=0,\n",
       "       max_depth=3, min_child_weight=1, missing=None, n_estimators=100,\n",
       "       n_jobs=1, nthread=None, objective='binary:logistic', random_state=0,\n",
       "       reg_alpha=0, reg_lambda=1, scale_pos_weight=1, seed=None,\n",
       "       silent=True, subsample=1),\n",
       "       fit_params={}, iid=True, n_jobs=-1,\n",
       "       param_grid={'n_estimators': [1000], 'colsample_bytree': array([ 0.6,  0.7,  0.8,  0.9,  1. ]), 'max_depth': array([3, 4, 5, 6, 7]), 'random_state': [12]},\n",
       "       pre_dispatch='2*n_jobs', refit=True, return_train_score=True,\n",
       "       scoring='recall', verbose=1)"
      ]
     },
     "execution_count": 11,
     "metadata": {},
     "output_type": "execute_result"
    }
   ],
   "source": [
    "# Fitting XGBoost\n",
    "xgbb_params = {'max_depth':np.arange(3,8,1), 'n_estimators':[1000], 'colsample_bytree':np.arange(0.6,1.05,0.1), 'random_state':[12]}\n",
    "xgbb_gridsearch = GridSearchCV(XGBClassifier(), xgbb_params, cv=5, verbose=1, scoring='recall', n_jobs=-1)\n",
    "xgbb_gridsearch.fit(X_ros_n,y_ros['readmitted_p'])"
   ]
  },
  {
   "cell_type": "code",
   "execution_count": 12,
   "metadata": {},
   "outputs": [
    {
     "data": {
      "text/plain": [
       "{'colsample_bytree': 0.79999999999999993,\n",
       " 'max_depth': 7,\n",
       " 'n_estimators': 1000,\n",
       " 'random_state': 12}"
      ]
     },
     "execution_count": 12,
     "metadata": {},
     "output_type": "execute_result"
    }
   ],
   "source": [
    "# The best hyperparamters that maximise recall score\n",
    "xgbb_gridsearch.best_params_"
   ]
  },
  {
   "cell_type": "code",
   "execution_count": 17,
   "metadata": {
    "collapsed": true
   },
   "outputs": [],
   "source": [
    "# Predicting the test set with the best XGB Classifier\n",
    "xgbb_best = xgbb_gridsearch.best_estimator_\n",
    "y_pred03 = xgbb_best.predict(X_test_n)"
   ]
  },
  {
   "cell_type": "code",
   "execution_count": 128,
   "metadata": {},
   "outputs": [
    {
     "name": "stdout",
     "output_type": "stream",
     "text": [
      "             precision    recall  f1-score   support\n",
      "\n",
      "          0       0.66      0.67      0.67      2893\n",
      "          1       0.49      0.47      0.48      1892\n",
      "\n",
      "avg / total       0.59      0.59      0.59      4785\n",
      "\n"
     ]
    }
   ],
   "source": [
    "print(classification_report(y_test['readmitted_p'], y_pred03))"
   ]
  },
  {
   "cell_type": "code",
   "execution_count": 13,
   "metadata": {},
   "outputs": [
    {
     "name": "stdout",
     "output_type": "stream",
     "text": [
      "Fitting 5 folds for each of 60 candidates, totalling 300 fits\n"
     ]
    },
    {
     "name": "stderr",
     "output_type": "stream",
     "text": [
      "[Parallel(n_jobs=-1)]: Done  46 tasks      | elapsed:  5.4min\n",
      "[Parallel(n_jobs=-1)]: Done 196 tasks      | elapsed: 28.0min\n",
      "[Parallel(n_jobs=-1)]: Done 300 out of 300 | elapsed: 41.7min finished\n"
     ]
    },
    {
     "data": {
      "text/plain": [
       "GridSearchCV(cv=5, error_score='raise',\n",
       "       estimator=RandomForestClassifier(bootstrap=True, class_weight=None, criterion='gini',\n",
       "            max_depth=None, max_features='auto', max_leaf_nodes=None,\n",
       "            min_impurity_split=1e-07, min_samples_leaf=1,\n",
       "            min_samples_split=2, min_weight_fraction_leaf=0.0,\n",
       "            n_estimators=10, n_jobs=1, oob_score=False, random_state=None,\n",
       "            verbose=0, warm_start=False),\n",
       "       fit_params={}, iid=True, n_jobs=-1,\n",
       "       param_grid={'n_estimators': [1000], 'criterion': ['entropy', 'gini'], 'max_depth': array([3, 4, 5, 6, 7]), 'random_state': [12], 'max_features': array([10, 11, 12, 13, 14, 15])},\n",
       "       pre_dispatch='2*n_jobs', refit=True, return_train_score=True,\n",
       "       scoring='recall', verbose=1)"
      ]
     },
     "execution_count": 13,
     "metadata": {},
     "output_type": "execute_result"
    }
   ],
   "source": [
    "# Fitting RandomForest\n",
    "rff_params = {'max_depth':np.arange(3,8,1), 'n_estimators':[1000], 'criterion':['entropy','gini'], 'max_features':np.arange(10,16,1),'random_state':[12]}\n",
    "rff_gridsearch = GridSearchCV(RandomForestClassifier(), rff_params, cv=5, verbose=1, scoring='recall', n_jobs=-1)\n",
    "rff_gridsearch.fit(X_ros_n,y_ros['readmitted_p'])"
   ]
  },
  {
   "cell_type": "code",
   "execution_count": 14,
   "metadata": {},
   "outputs": [
    {
     "data": {
      "text/plain": [
       "{'criterion': 'gini',\n",
       " 'max_depth': 7,\n",
       " 'max_features': 14,\n",
       " 'n_estimators': 1000,\n",
       " 'random_state': 12}"
      ]
     },
     "execution_count": 14,
     "metadata": {},
     "output_type": "execute_result"
    }
   ],
   "source": [
    "# The best hyperparamters that maximise recall score\n",
    "rff_gridsearch.best_params_"
   ]
  },
  {
   "cell_type": "code",
   "execution_count": 15,
   "metadata": {
    "collapsed": true
   },
   "outputs": [],
   "source": [
    "# Predicting the test set with the best RandomForest Classifier\n",
    "rff_best = rff_gridsearch.best_estimator_\n",
    "y_pred04 = rff_best.predict(X_test_n)"
   ]
  },
  {
   "cell_type": "code",
   "execution_count": 129,
   "metadata": {},
   "outputs": [
    {
     "name": "stdout",
     "output_type": "stream",
     "text": [
      "             precision    recall  f1-score   support\n",
      "\n",
      "          0       0.69      0.66      0.67      2893\n",
      "          1       0.51      0.55      0.53      1892\n",
      "\n",
      "avg / total       0.62      0.61      0.62      4785\n",
      "\n"
     ]
    }
   ],
   "source": [
    "print(classification_report(y_test['readmitted_p'], y_pred04))"
   ]
  },
  {
   "cell_type": "markdown",
   "metadata": {},
   "source": [
    "Next, Naive Bayes Classifier was used to fit the training set. GaussianNB Classifier was fit on the continuous features only while MultinomialNB Classifier was fit on the categorical features only. The predicted class probabilities of the test set from these 2 classifiers was obtained and the overall class membership of each patient was calculated based on the average of the 2 class probabilities."
   ]
  },
  {
   "cell_type": "code",
   "execution_count": 27,
   "metadata": {
    "collapsed": true
   },
   "outputs": [],
   "source": [
    "#Defining the numerical and categorical features\n",
    "num_features = ['time_in_hospital', 'num_lab_procedures', 'num_procedures',\n",
    "       'number_outpatient', 'number_emergency', 'number_inpatient',]\n",
    "cat_features = [i for i in X_ros_n.columns if i not in num_features]"
   ]
  },
  {
   "cell_type": "code",
   "execution_count": 28,
   "metadata": {
    "collapsed": true
   },
   "outputs": [],
   "source": [
    "# Subsetting out the numerical and categorical Dataframes in the training set\n",
    "X_ros_num = X_ros_n.loc[:,num_features]\n",
    "X_ros_cat = X_ros_n.loc[:,cat_features]\n",
    "X_test_num = X_test_n.loc[:,num_features]\n",
    "X_test_cat = X_test_n.loc[:,cat_features]"
   ]
  },
  {
   "cell_type": "code",
   "execution_count": 29,
   "metadata": {
    "collapsed": true
   },
   "outputs": [],
   "source": [
    "# Fit the GaussianNB model on numerical features and get predicted probs\n",
    "gb_num = GaussianNB().fit(X_ros_num, y_ros['readmitted_p'])\n",
    "gb_proba = gb_num.predict_proba(X_test_num)"
   ]
  },
  {
   "cell_type": "code",
   "execution_count": 30,
   "metadata": {
    "collapsed": true
   },
   "outputs": [],
   "source": [
    "# Fit the MultinomialNB model on categorical features and get predicted probs\n",
    "mn_cat = MultinomialNB().fit(X_ros_cat, y_ros['readmitted_p'])\n",
    "mn_proba = mn_cat.predict_proba(X_test_cat)"
   ]
  },
  {
   "cell_type": "code",
   "execution_count": 130,
   "metadata": {
    "collapsed": true
   },
   "outputs": [],
   "source": [
    "# Get Dataframe on these predicted probabilities from both numerical and categorical features\n",
    "NB = pd.DataFrame(data = {'num_0':gb_proba[:,0], 'cat_0':mn_proba[:,0], 'num_1':gb_proba[:,1], 'cat_1':mn_proba[:,1]})\n",
    "NB['class_0'] = NB[['num_0','cat_0']].sum(axis=1)/2\n",
    "NB['class_1'] = NB[['num_1','cat_1']].sum(axis=1)/2\n",
    "\n",
    "# 'y_label' refers to the overall class membership of the patient based on the average of the predicted probabilities of classifiers fit on just numerical or categorical data\n",
    "NB['y_label'] = NB['class_1'].apply(lambda x: 1 if x>0.5 else 0)"
   ]
  },
  {
   "cell_type": "markdown",
   "metadata": {},
   "source": [
    "A Stacking Classifier was used to fit the training data. A Stacking Classifier uses base estimators(classifiers) to fit the training data and make predictions on the test set. The predictions from each base estimator are then used as new features which are fit into a metaclassifier, and then used to get the final predictions on the test set."
   ]
  },
  {
   "cell_type": "code",
   "execution_count": 32,
   "metadata": {
    "collapsed": true
   },
   "outputs": [],
   "source": [
    "# Stacking Classifier\n",
    "lrr = LogisticRegression(C=1.2000000000000002, penalty='l2', random_state=12, solver='liblinear')\n",
    "mlpp2 = MLPClassifier(activation='identity', solver='lbfgs', random_state=12, max_iter=500)\n",
    "xgbb = XGBClassifier(colsample_bytree=0.79999999999999993, max_depth=7, n_estimators=1000, seed=12)\n",
    "rff = RandomForestClassifier(criterion='gini', max_depth=7, max_features=14, n_estimators=1000, random_state=12)\n",
    "\n",
    "sclff = StackingClassifier(classifiers=[lrr, mlpp2, xgbb, rff], \n",
    "                          meta_classifier=LogisticRegression())"
   ]
  },
  {
   "cell_type": "code",
   "execution_count": 131,
   "metadata": {
    "collapsed": true
   },
   "outputs": [],
   "source": [
    "sclff.fit(X_ros,y_ros['readmitted_p'])\n",
    "y_pred06 = sclff.predict(X_test)"
   ]
  },
  {
   "cell_type": "code",
   "execution_count": 132,
   "metadata": {},
   "outputs": [
    {
     "name": "stdout",
     "output_type": "stream",
     "text": [
      "             precision    recall  f1-score   support\n",
      "\n",
      "          0       0.66      0.68      0.67      2893\n",
      "          1       0.49      0.47      0.48      1892\n",
      "\n",
      "avg / total       0.60      0.60      0.60      4785\n",
      "\n"
     ]
    }
   ],
   "source": [
    "print(classification_report(y_test['readmitted_p'], y_pred06))"
   ]
  },
  {
   "cell_type": "markdown",
   "metadata": {},
   "source": [
    "### Comparing the performance of the different Classifiers"
   ]
  },
  {
   "cell_type": "code",
   "execution_count": 34,
   "metadata": {
    "collapsed": true
   },
   "outputs": [],
   "source": [
    "# Confusion Matrix and Classification Report of each classifier"
   ]
  },
  {
   "cell_type": "code",
   "execution_count": 35,
   "metadata": {},
   "outputs": [
    {
     "data": {
      "text/html": [
       "<div>\n",
       "<style>\n",
       "    .dataframe thead tr:only-child th {\n",
       "        text-align: right;\n",
       "    }\n",
       "\n",
       "    .dataframe thead th {\n",
       "        text-align: left;\n",
       "    }\n",
       "\n",
       "    .dataframe tbody tr th {\n",
       "        vertical-align: top;\n",
       "    }\n",
       "</style>\n",
       "<table border=\"1\" class=\"dataframe\">\n",
       "  <thead>\n",
       "    <tr style=\"text-align: right;\">\n",
       "      <th></th>\n",
       "      <th>predicted_readmit</th>\n",
       "      <th>predicted_not_readmit</th>\n",
       "    </tr>\n",
       "  </thead>\n",
       "  <tbody>\n",
       "    <tr>\n",
       "      <th>is_readmit</th>\n",
       "      <td>926</td>\n",
       "      <td>966</td>\n",
       "    </tr>\n",
       "    <tr>\n",
       "      <th>not_readmit</th>\n",
       "      <td>1423</td>\n",
       "      <td>1470</td>\n",
       "    </tr>\n",
       "  </tbody>\n",
       "</table>\n",
       "</div>"
      ],
      "text/plain": [
       "             predicted_readmit  predicted_not_readmit\n",
       "is_readmit                 926                    966\n",
       "not_readmit               1423                   1470"
      ]
     },
     "execution_count": 35,
     "metadata": {},
     "output_type": "execute_result"
    }
   ],
   "source": [
    "# Dummy Classifier Confusion Matrix\n",
    "conmat00 = np.array(confusion_matrix(y_test['readmitted_p'], y_pred00, labels=[1,0]))\n",
    "confusion00 = pd.DataFrame(conmat00, index=['is_readmit', 'not_readmit'],\n",
    "                         columns=['predicted_readmit','predicted_not_readmit'])\n",
    "confusion00"
   ]
  },
  {
   "cell_type": "code",
   "execution_count": 36,
   "metadata": {},
   "outputs": [
    {
     "name": "stdout",
     "output_type": "stream",
     "text": [
      "             precision    recall  f1-score   support\n",
      "\n",
      "          0       0.60      0.51      0.55      2893\n",
      "          1       0.39      0.49      0.44      1892\n",
      "\n",
      "avg / total       0.52      0.50      0.51      4785\n",
      "\n"
     ]
    }
   ],
   "source": [
    "# Dummy Classifier Classification Report\n",
    "print(classification_report(y_test['readmitted_p'], y_pred00))"
   ]
  },
  {
   "cell_type": "code",
   "execution_count": 159,
   "metadata": {},
   "outputs": [
    {
     "data": {
      "text/html": [
       "<div>\n",
       "<style>\n",
       "    .dataframe thead tr:only-child th {\n",
       "        text-align: right;\n",
       "    }\n",
       "\n",
       "    .dataframe thead th {\n",
       "        text-align: left;\n",
       "    }\n",
       "\n",
       "    .dataframe tbody tr th {\n",
       "        vertical-align: top;\n",
       "    }\n",
       "</style>\n",
       "<table border=\"1\" class=\"dataframe\">\n",
       "  <thead>\n",
       "    <tr style=\"text-align: right;\">\n",
       "      <th></th>\n",
       "      <th>predicted_readmit</th>\n",
       "      <th>predicted_not_readmit</th>\n",
       "    </tr>\n",
       "  </thead>\n",
       "  <tbody>\n",
       "    <tr>\n",
       "      <th>is_readmit</th>\n",
       "      <td>1098</td>\n",
       "      <td>794</td>\n",
       "    </tr>\n",
       "    <tr>\n",
       "      <th>not_readmit</th>\n",
       "      <td>1065</td>\n",
       "      <td>1828</td>\n",
       "    </tr>\n",
       "  </tbody>\n",
       "</table>\n",
       "</div>"
      ],
      "text/plain": [
       "             predicted_readmit  predicted_not_readmit\n",
       "is_readmit                1098                    794\n",
       "not_readmit               1065                   1828"
      ]
     },
     "execution_count": 159,
     "metadata": {},
     "output_type": "execute_result"
    }
   ],
   "source": [
    "# Logistic Regression Confusion Matrix\n",
    "conmat01 = np.array(confusion_matrix(y_test['readmitted_p'], y_pred01, labels=[1,0]))\n",
    "confusion01 = pd.DataFrame(conmat01, index=['is_readmit', 'not_readmit'],\n",
    "                         columns=['predicted_readmit','predicted_not_readmit'])\n",
    "confusion01"
   ]
  },
  {
   "cell_type": "code",
   "execution_count": 158,
   "metadata": {},
   "outputs": [
    {
     "name": "stdout",
     "output_type": "stream",
     "text": [
      "             precision    recall  f1-score   support\n",
      "\n",
      "          0       0.70      0.63      0.66      2893\n",
      "          1       0.51      0.58      0.54      1892\n",
      "\n",
      "avg / total       0.62      0.61      0.61      4785\n",
      "\n"
     ]
    }
   ],
   "source": [
    "# Logistic Regression Classification Report\n",
    "print(classification_report(y_test['readmitted_p'], y_pred01))"
   ]
  },
  {
   "cell_type": "code",
   "execution_count": 39,
   "metadata": {},
   "outputs": [
    {
     "data": {
      "text/html": [
       "<div>\n",
       "<style>\n",
       "    .dataframe thead tr:only-child th {\n",
       "        text-align: right;\n",
       "    }\n",
       "\n",
       "    .dataframe thead th {\n",
       "        text-align: left;\n",
       "    }\n",
       "\n",
       "    .dataframe tbody tr th {\n",
       "        vertical-align: top;\n",
       "    }\n",
       "</style>\n",
       "<table border=\"1\" class=\"dataframe\">\n",
       "  <thead>\n",
       "    <tr style=\"text-align: right;\">\n",
       "      <th></th>\n",
       "      <th>predicted_readmit</th>\n",
       "      <th>predicted_not_readmit</th>\n",
       "    </tr>\n",
       "  </thead>\n",
       "  <tbody>\n",
       "    <tr>\n",
       "      <th>is_readmit</th>\n",
       "      <td>1106</td>\n",
       "      <td>786</td>\n",
       "    </tr>\n",
       "    <tr>\n",
       "      <th>not_readmit</th>\n",
       "      <td>1054</td>\n",
       "      <td>1839</td>\n",
       "    </tr>\n",
       "  </tbody>\n",
       "</table>\n",
       "</div>"
      ],
      "text/plain": [
       "             predicted_readmit  predicted_not_readmit\n",
       "is_readmit                1106                    786\n",
       "not_readmit               1054                   1839"
      ]
     },
     "execution_count": 39,
     "metadata": {},
     "output_type": "execute_result"
    }
   ],
   "source": [
    "# MLP Classifier Confusion Matrix\n",
    "conmat02 = np.array(confusion_matrix(y_test['readmitted_p'], y_pred02b, labels=[1,0]))\n",
    "confusion02 = pd.DataFrame(conmat02, index=['is_readmit', 'not_readmit'],\n",
    "                         columns=['predicted_readmit','predicted_not_readmit'])\n",
    "confusion02"
   ]
  },
  {
   "cell_type": "code",
   "execution_count": 40,
   "metadata": {},
   "outputs": [
    {
     "name": "stdout",
     "output_type": "stream",
     "text": [
      "             precision    recall  f1-score   support\n",
      "\n",
      "          0       0.70      0.64      0.67      2893\n",
      "          1       0.51      0.58      0.55      1892\n",
      "\n",
      "avg / total       0.63      0.62      0.62      4785\n",
      "\n"
     ]
    }
   ],
   "source": [
    "# MLP Classifier Classification Report\n",
    "print(classification_report(y_test['readmitted_p'], y_pred02b))"
   ]
  },
  {
   "cell_type": "code",
   "execution_count": 41,
   "metadata": {},
   "outputs": [
    {
     "data": {
      "text/html": [
       "<div>\n",
       "<style>\n",
       "    .dataframe thead tr:only-child th {\n",
       "        text-align: right;\n",
       "    }\n",
       "\n",
       "    .dataframe thead th {\n",
       "        text-align: left;\n",
       "    }\n",
       "\n",
       "    .dataframe tbody tr th {\n",
       "        vertical-align: top;\n",
       "    }\n",
       "</style>\n",
       "<table border=\"1\" class=\"dataframe\">\n",
       "  <thead>\n",
       "    <tr style=\"text-align: right;\">\n",
       "      <th></th>\n",
       "      <th>predicted_readmit</th>\n",
       "      <th>predicted_early_readmit</th>\n",
       "    </tr>\n",
       "  </thead>\n",
       "  <tbody>\n",
       "    <tr>\n",
       "      <th>is_readmit</th>\n",
       "      <td>895</td>\n",
       "      <td>997</td>\n",
       "    </tr>\n",
       "    <tr>\n",
       "      <th>not_readmit</th>\n",
       "      <td>943</td>\n",
       "      <td>1950</td>\n",
       "    </tr>\n",
       "  </tbody>\n",
       "</table>\n",
       "</div>"
      ],
      "text/plain": [
       "             predicted_readmit  predicted_early_readmit\n",
       "is_readmit                 895                      997\n",
       "not_readmit                943                     1950"
      ]
     },
     "execution_count": 41,
     "metadata": {},
     "output_type": "execute_result"
    }
   ],
   "source": [
    "# XGB Classifier Confusion Matrix\n",
    "conmat03 = np.array(confusion_matrix(y_test['readmitted_p'], y_pred03, labels=[1,0]))\n",
    "confusion03 = pd.DataFrame(conmat03, index=['is_readmit', 'not_readmit'],\n",
    "                         columns=['predicted_readmit','predicted_early_readmit'])\n",
    "confusion03"
   ]
  },
  {
   "cell_type": "code",
   "execution_count": 42,
   "metadata": {},
   "outputs": [
    {
     "name": "stdout",
     "output_type": "stream",
     "text": [
      "             precision    recall  f1-score   support\n",
      "\n",
      "          0       0.66      0.67      0.67      2893\n",
      "          1       0.49      0.47      0.48      1892\n",
      "\n",
      "avg / total       0.59      0.59      0.59      4785\n",
      "\n"
     ]
    }
   ],
   "source": [
    "# XGB Classifier Classification Report\n",
    "print(classification_report(y_test['readmitted_p'], y_pred03))"
   ]
  },
  {
   "cell_type": "code",
   "execution_count": 43,
   "metadata": {},
   "outputs": [
    {
     "data": {
      "text/html": [
       "<div>\n",
       "<style>\n",
       "    .dataframe thead tr:only-child th {\n",
       "        text-align: right;\n",
       "    }\n",
       "\n",
       "    .dataframe thead th {\n",
       "        text-align: left;\n",
       "    }\n",
       "\n",
       "    .dataframe tbody tr th {\n",
       "        vertical-align: top;\n",
       "    }\n",
       "</style>\n",
       "<table border=\"1\" class=\"dataframe\">\n",
       "  <thead>\n",
       "    <tr style=\"text-align: right;\">\n",
       "      <th></th>\n",
       "      <th>predicted_readmit</th>\n",
       "      <th>predicted_not_readmit</th>\n",
       "    </tr>\n",
       "  </thead>\n",
       "  <tbody>\n",
       "    <tr>\n",
       "      <th>is_readmit</th>\n",
       "      <td>1033</td>\n",
       "      <td>859</td>\n",
       "    </tr>\n",
       "    <tr>\n",
       "      <th>not_readmit</th>\n",
       "      <td>988</td>\n",
       "      <td>1905</td>\n",
       "    </tr>\n",
       "  </tbody>\n",
       "</table>\n",
       "</div>"
      ],
      "text/plain": [
       "             predicted_readmit  predicted_not_readmit\n",
       "is_readmit                1033                    859\n",
       "not_readmit                988                   1905"
      ]
     },
     "execution_count": 43,
     "metadata": {},
     "output_type": "execute_result"
    }
   ],
   "source": [
    "# RandomForest Classifier Confusion Matrix\n",
    "conmat04 = np.array(confusion_matrix(y_test['readmitted_p'], y_pred04, labels=[1,0]))\n",
    "confusion04 = pd.DataFrame(conmat04, index=['is_readmit', 'not_readmit'],\n",
    "                         columns=['predicted_readmit','predicted_not_readmit'])\n",
    "confusion04"
   ]
  },
  {
   "cell_type": "code",
   "execution_count": 44,
   "metadata": {},
   "outputs": [
    {
     "name": "stdout",
     "output_type": "stream",
     "text": [
      "             precision    recall  f1-score   support\n",
      "\n",
      "          0       0.69      0.66      0.67      2893\n",
      "          1       0.51      0.55      0.53      1892\n",
      "\n",
      "avg / total       0.62      0.61      0.62      4785\n",
      "\n"
     ]
    }
   ],
   "source": [
    "# RandomForest Classifier Classification Report\n",
    "print(classification_report(y_test['readmitted_p'], y_pred04))"
   ]
  },
  {
   "cell_type": "code",
   "execution_count": 45,
   "metadata": {},
   "outputs": [
    {
     "data": {
      "text/html": [
       "<div>\n",
       "<style>\n",
       "    .dataframe thead tr:only-child th {\n",
       "        text-align: right;\n",
       "    }\n",
       "\n",
       "    .dataframe thead th {\n",
       "        text-align: left;\n",
       "    }\n",
       "\n",
       "    .dataframe tbody tr th {\n",
       "        vertical-align: top;\n",
       "    }\n",
       "</style>\n",
       "<table border=\"1\" class=\"dataframe\">\n",
       "  <thead>\n",
       "    <tr style=\"text-align: right;\">\n",
       "      <th></th>\n",
       "      <th>predicted_readmit</th>\n",
       "      <th>predicted_not_readmit</th>\n",
       "    </tr>\n",
       "  </thead>\n",
       "  <tbody>\n",
       "    <tr>\n",
       "      <th>is_early_readmit</th>\n",
       "      <td>620</td>\n",
       "      <td>1272</td>\n",
       "    </tr>\n",
       "    <tr>\n",
       "      <th>not_early_readmit</th>\n",
       "      <td>499</td>\n",
       "      <td>2394</td>\n",
       "    </tr>\n",
       "  </tbody>\n",
       "</table>\n",
       "</div>"
      ],
      "text/plain": [
       "                   predicted_readmit  predicted_not_readmit\n",
       "is_early_readmit                 620                   1272\n",
       "not_early_readmit                499                   2394"
      ]
     },
     "execution_count": 45,
     "metadata": {},
     "output_type": "execute_result"
    }
   ],
   "source": [
    "# Naive Bayes Classifier Confusion Matrix\n",
    "conmat05 = np.array(confusion_matrix(y_test['readmitted_p'], NB['y_label'], labels=[1,0]))\n",
    "confusion05 = pd.DataFrame(conmat05, index=['is_early_readmit', 'not_early_readmit'],\n",
    "                         columns=['predicted_readmit','predicted_not_readmit'])\n",
    "confusion05"
   ]
  },
  {
   "cell_type": "code",
   "execution_count": 46,
   "metadata": {},
   "outputs": [
    {
     "name": "stdout",
     "output_type": "stream",
     "text": [
      "             precision    recall  f1-score   support\n",
      "\n",
      "          0       0.65      0.83      0.73      2893\n",
      "          1       0.55      0.33      0.41      1892\n",
      "\n",
      "avg / total       0.61      0.63      0.60      4785\n",
      "\n"
     ]
    }
   ],
   "source": [
    "# Naive Bayes Classifier Classification Report\n",
    "print(classification_report(y_test['readmitted_p'], NB['y_label']))"
   ]
  },
  {
   "cell_type": "code",
   "execution_count": 47,
   "metadata": {},
   "outputs": [
    {
     "data": {
      "text/html": [
       "<div>\n",
       "<style>\n",
       "    .dataframe thead tr:only-child th {\n",
       "        text-align: right;\n",
       "    }\n",
       "\n",
       "    .dataframe thead th {\n",
       "        text-align: left;\n",
       "    }\n",
       "\n",
       "    .dataframe tbody tr th {\n",
       "        vertical-align: top;\n",
       "    }\n",
       "</style>\n",
       "<table border=\"1\" class=\"dataframe\">\n",
       "  <thead>\n",
       "    <tr style=\"text-align: right;\">\n",
       "      <th></th>\n",
       "      <th>predicted_readmit</th>\n",
       "      <th>predicted_not_readmit</th>\n",
       "    </tr>\n",
       "  </thead>\n",
       "  <tbody>\n",
       "    <tr>\n",
       "      <th>is_readmit</th>\n",
       "      <td>898</td>\n",
       "      <td>994</td>\n",
       "    </tr>\n",
       "    <tr>\n",
       "      <th>not_readmit</th>\n",
       "      <td>924</td>\n",
       "      <td>1969</td>\n",
       "    </tr>\n",
       "  </tbody>\n",
       "</table>\n",
       "</div>"
      ],
      "text/plain": [
       "             predicted_readmit  predicted_not_readmit\n",
       "is_readmit                 898                    994\n",
       "not_readmit                924                   1969"
      ]
     },
     "execution_count": 47,
     "metadata": {},
     "output_type": "execute_result"
    }
   ],
   "source": [
    "# Stacking Classifier Confusion Matrix\n",
    "conmat06 = np.array(confusion_matrix(y_test['readmitted_p'], y_pred6, labels=[1,0]))\n",
    "confusion06 = pd.DataFrame(conmat06, index=['is_readmit', 'not_readmit'],\n",
    "                         columns=['predicted_readmit','predicted_not_readmit'])\n",
    "confusion06"
   ]
  },
  {
   "cell_type": "code",
   "execution_count": 50,
   "metadata": {},
   "outputs": [
    {
     "name": "stdout",
     "output_type": "stream",
     "text": [
      "             precision    recall  f1-score   support\n",
      "\n",
      "          0       0.66      0.68      0.67      2893\n",
      "          1       0.49      0.47      0.48      1892\n",
      "\n",
      "avg / total       0.60      0.60      0.60      4785\n",
      "\n"
     ]
    }
   ],
   "source": [
    "# Stacking Classifier Classification Report\n",
    "print(classification_report(y_test['readmitted_p'], y_pred06))"
   ]
  },
  {
   "cell_type": "code",
   "execution_count": 135,
   "metadata": {
    "collapsed": true
   },
   "outputs": [],
   "source": [
    "## Combined table of the precision, recall, f1, average_precision scores of the positive class and auc from the different classifiers\n",
    "\n",
    "a0, b0, c0, d0 = scores(y_test['readmitted_p'], y_pred00)\n",
    "a1, b1, c1, d1 = scores(y_test['readmitted_p'], y_pred01)\n",
    "a2, b2, c2, d2 = scores(y_test['readmitted_p'], y_pred02b)\n",
    "a3, b3, c3, d3 = scores(y_test['readmitted_p'], y_pred03)\n",
    "a4, b4, c4, d4 = scores(y_test['readmitted_p'], y_pred04)\n",
    "a5, b5, c5, d5 = scores(y_test['readmitted_p'], NB['y_label'])\n",
    "a6, b6, c6, d6 = scores(y_test['readmitted_p'], y_pred06)"
   ]
  },
  {
   "cell_type": "code",
   "execution_count": 136,
   "metadata": {
    "collapsed": true
   },
   "outputs": [],
   "source": [
    "precision = [a0, a1, a2, a3, a4, a5, a6]\n",
    "recall = [b0, b1, b2, b3, b4, b5, b6]\n",
    "f1 = [c0, c1, c2, c3, c4, c5, c6]\n",
    "ave_precision = [d0, d1, d2, d3, d4, d5, d6]\n",
    "classifiers = ['Dummy', 'Logistic_Regression', 'MLP', 'XGBoost', 'RandomForest', 'Naive_Bayes', 'Stacking']"
   ]
  },
  {
   "cell_type": "code",
   "execution_count": 137,
   "metadata": {},
   "outputs": [
    {
     "data": {
      "text/html": [
       "<div>\n",
       "<style>\n",
       "    .dataframe thead tr:only-child th {\n",
       "        text-align: right;\n",
       "    }\n",
       "\n",
       "    .dataframe thead th {\n",
       "        text-align: left;\n",
       "    }\n",
       "\n",
       "    .dataframe tbody tr th {\n",
       "        vertical-align: top;\n",
       "    }\n",
       "</style>\n",
       "<table border=\"1\" class=\"dataframe\">\n",
       "  <thead>\n",
       "    <tr style=\"text-align: right;\">\n",
       "      <th></th>\n",
       "      <th>average_precision</th>\n",
       "      <th>f1_score</th>\n",
       "      <th>precision</th>\n",
       "      <th>recall</th>\n",
       "    </tr>\n",
       "  </thead>\n",
       "  <tbody>\n",
       "    <tr>\n",
       "      <th>Dummy</th>\n",
       "      <td>0.542760</td>\n",
       "      <td>0.436689</td>\n",
       "      <td>0.394210</td>\n",
       "      <td>0.489429</td>\n",
       "    </tr>\n",
       "    <tr>\n",
       "      <th>Logistic_Regression</th>\n",
       "      <td>0.626951</td>\n",
       "      <td>0.541554</td>\n",
       "      <td>0.507628</td>\n",
       "      <td>0.580338</td>\n",
       "    </tr>\n",
       "    <tr>\n",
       "      <th>MLP</th>\n",
       "      <td>0.630433</td>\n",
       "      <td>0.545903</td>\n",
       "      <td>0.512037</td>\n",
       "      <td>0.584567</td>\n",
       "    </tr>\n",
       "    <tr>\n",
       "      <th>XGBoost</th>\n",
       "      <td>0.584173</td>\n",
       "      <td>0.479893</td>\n",
       "      <td>0.486942</td>\n",
       "      <td>0.473044</td>\n",
       "    </tr>\n",
       "    <tr>\n",
       "      <th>RandomForest</th>\n",
       "      <td>0.618318</td>\n",
       "      <td>0.527984</td>\n",
       "      <td>0.511133</td>\n",
       "      <td>0.545983</td>\n",
       "    </tr>\n",
       "    <tr>\n",
       "      <th>Naive_Bayes</th>\n",
       "      <td>0.573796</td>\n",
       "      <td>0.411823</td>\n",
       "      <td>0.554066</td>\n",
       "      <td>0.327696</td>\n",
       "    </tr>\n",
       "    <tr>\n",
       "      <th>Stacking</th>\n",
       "      <td>0.587614</td>\n",
       "      <td>0.483576</td>\n",
       "      <td>0.492865</td>\n",
       "      <td>0.474630</td>\n",
       "    </tr>\n",
       "  </tbody>\n",
       "</table>\n",
       "</div>"
      ],
      "text/plain": [
       "                     average_precision  f1_score  precision    recall\n",
       "Dummy                         0.542760  0.436689   0.394210  0.489429\n",
       "Logistic_Regression           0.626951  0.541554   0.507628  0.580338\n",
       "MLP                           0.630433  0.545903   0.512037  0.584567\n",
       "XGBoost                       0.584173  0.479893   0.486942  0.473044\n",
       "RandomForest                  0.618318  0.527984   0.511133  0.545983\n",
       "Naive_Bayes                   0.573796  0.411823   0.554066  0.327696\n",
       "Stacking                      0.587614  0.483576   0.492865  0.474630"
      ]
     },
     "execution_count": 137,
     "metadata": {},
     "output_type": "execute_result"
    }
   ],
   "source": [
    "classification_metrics = pd.DataFrame(data={'precision':precision, 'recall':recall, 'f1_score':f1, 'average_precision':ave_precision}, index=classifiers)\n",
    "classification_metrics"
   ]
  },
  {
   "cell_type": "code",
   "execution_count": 141,
   "metadata": {
    "collapsed": true
   },
   "outputs": [],
   "source": [
    "def precision_recall(y_test, y_pred, y_pred_proba, classifier):\n",
    "    \n",
    "    '''\n",
    "    Function accepts the y_test scores and y_predict probability scores to plot the precison-recall curve\n",
    "    '''\n",
    "    \n",
    "    average_precision = average_precision_score(y_test, y_pred)\n",
    "    precision, recall, _ = precision_recall_curve(y_test, y_pred_proba)\n",
    "\n",
    "    #plt.plot([0, 1], [0, 1], 'k--', linewidth=1)\n",
    "    plt.step(recall, precision, color='g', alpha=0.2, where='post')\n",
    "    plt.fill_between(recall, precision, step='post', alpha=0.2, color='g')\n",
    "    plt.xlabel('Recall')\n",
    "    plt.ylabel('Precision')\n",
    "    plt.ylim([0.0, 1.00])\n",
    "    plt.xlim([0.0, 1.0])\n",
    "    plt.title('2-class Precision-Recall for ' +classifier+ ' Classifier : AP={0:0.2f}'.format(average_precision))\n",
    "    return plt\n",
    "\n",
    "def precision_recall1(y_test, y_pred, y_pred_proba, classifier):\n",
    "    \n",
    "    '''\n",
    "    Function accepts the y_test scores and y_predict probability scores to plot the precison-recall curve\n",
    "    '''\n",
    "    \n",
    "    average_precision = average_precision_score(y_test, y_pred)\n",
    "    precision, recall, _ = precision_recall_curve(y_test, y_pred_proba)\n",
    "\n",
    "    plt.step(recall, precision, color='b', alpha=0.2, where='post', linestyle='dashed', linewidth=3)\n",
    "    #plt.fill_between(recall, precision, step='post', alpha=0.2, linestyle='dashed')\n",
    "    #plt.hlines(y, recall, precision, colors='b')\n",
    "    plt.xlabel('Recall')\n",
    "    plt.ylabel('Precision')\n",
    "    plt.ylim([0.0, 1.00])\n",
    "    plt.xlim([0.0, 1.0])\n",
    "    plt.title('2-class Precision-Recall for ' +classifier+ ' Classifier : AP={0:0.2f}'.format(average_precision))\n",
    "    return plt"
   ]
  },
  {
   "cell_type": "code",
   "execution_count": 145,
   "metadata": {},
   "outputs": [
    {
     "data": {
      "image/png": "[encoded data removed]",
      "text/plain": [
       "<matplotlib.figure.Figure at 0x7f70681e82e8>"
      ]
     },
     "metadata": {},
     "output_type": "display_data"
    }
   ],
   "source": [
    "# Plotting the precision-recall curves for the different classifiers\n",
    "\n",
    "plt.figure(figsize=(16,12))\n",
    "\n",
    "plt.subplot(3,2,1)\n",
    "precision_recall1(y_test['readmitted_p'], y_pred00, dmm.predict_proba(X_test)[:,1], 'Dummy')\n",
    "plt.subplot(3,2,1)\n",
    "precision_recall(y_test['readmitted_p'], y_pred01, lrr_best.predict_proba(X_test)[:,1], 'Logistic Regression')\n",
    "\n",
    "plt.subplot(3,2,2)\n",
    "precision_recall1(y_test['readmitted_p'], y_pred00, dmm.predict_proba(X_test)[:,1], 'Dummy')\n",
    "plt.subplot(3,2,2)\n",
    "precision_recall(y_test['readmitted_p'], y_pred02b, mlpp2.predict_proba(X_test)[:,1], 'MLP')\n",
    "\n",
    "plt.subplot(3,2,3)\n",
    "precision_recall1(y_test['readmitted_p'], y_pred0, dmm.predict_proba(X_test)[:,1], 'Dummy')\n",
    "plt.subplot(3,2,3)\n",
    "precision_recall(y_test['readmitted_p'], y_pred03, xgbb_best.predict_proba(X_test_n)[:,1], 'XGB')\n",
    "\n",
    "plt.subplot(3,2,4)\n",
    "precision_recall1(y_test['readmitted_p'], y_pred00, dmm.predict_proba(X_test)[:,1], 'Dummy')\n",
    "plt.subplot(3,2,4)\n",
    "precision_recall(y_test['readmitted_p'], y_pred04, rff_best.predict_proba(X_test_n)[:,1], 'RandomForest')\n",
    "\n",
    "plt.subplot(3,2,5)\n",
    "precision_recall1(y_test['readmitted_p'], y_pred00, dmm.predict_proba(X_test)[:,1], 'Dummy')\n",
    "plt.subplot(3,2,5)\n",
    "precision_recall(y_test['readmitted_p'], NB['y_label'], NB['class_1'], 'Naive Bayes')\n",
    "\n",
    "plt.subplot(3,2,6)\n",
    "precision_recall1(y_test['readmitted_p'], y_pred00, dmm.predict_proba(X_test)[:,1], 'Dummy')\n",
    "plt.subplot(3,2,6)\n",
    "precision_recall(y_test['readmitted_p'], y_pred06, sclff.predict_proba(X_test)[:,1], 'Stacking')\n",
    "\n",
    "plt.tight_layout()"
   ]
  },
  {
   "cell_type": "markdown",
   "metadata": {
    "collapsed": true
   },
   "source": [
    "Based on the confusion matrix, classification report and the plots above, the best performing classifier on the test set is MLP followed by Logistic Regression. Since MLP Classifier is based on Neural Networks, it is not possible to find the coefficients of the features and hence it is not possible to find out which features contribute the most to the predictions of the readmission outcome. Hence, we will get the coefficients of the features based on the 2nd best model Logistic Regression. However, it should be noted that different models do give different coefficients for the features, and hence that given by the Logistic Regression may not reflect the true importance of features for the MLP Classifer."
   ]
  },
  {
   "cell_type": "code",
   "execution_count": 138,
   "metadata": {
    "scrolled": true
   },
   "outputs": [
    {
     "data": {
      "text/html": [
       "<div>\n",
       "<style>\n",
       "    .dataframe thead tr:only-child th {\n",
       "        text-align: right;\n",
       "    }\n",
       "\n",
       "    .dataframe thead th {\n",
       "        text-align: left;\n",
       "    }\n",
       "\n",
       "    .dataframe tbody tr th {\n",
       "        vertical-align: top;\n",
       "    }\n",
       "</style>\n",
       "<table border=\"1\" class=\"dataframe\">\n",
       "  <thead>\n",
       "    <tr style=\"text-align: right;\">\n",
       "      <th></th>\n",
       "      <th>Abs_Coefficients</th>\n",
       "      <th>Coefficients</th>\n",
       "      <th>Features</th>\n",
       "    </tr>\n",
       "  </thead>\n",
       "  <tbody>\n",
       "    <tr>\n",
       "      <th>27</th>\n",
       "      <td>5.423092</td>\n",
       "      <td>5.423092</td>\n",
       "      <td>number_inpatient</td>\n",
       "    </tr>\n",
       "    <tr>\n",
       "      <th>25</th>\n",
       "      <td>3.641586</td>\n",
       "      <td>3.641586</td>\n",
       "      <td>number_outpatient</td>\n",
       "    </tr>\n",
       "    <tr>\n",
       "      <th>26</th>\n",
       "      <td>3.490469</td>\n",
       "      <td>3.490469</td>\n",
       "      <td>number_emergency</td>\n",
       "    </tr>\n",
       "    <tr>\n",
       "      <th>37</th>\n",
       "      <td>1.838630</td>\n",
       "      <td>1.838630</td>\n",
       "      <td>age_4</td>\n",
       "    </tr>\n",
       "    <tr>\n",
       "      <th>38</th>\n",
       "      <td>1.601304</td>\n",
       "      <td>-1.601304</td>\n",
       "      <td>admission_type_id_1</td>\n",
       "    </tr>\n",
       "    <tr>\n",
       "      <th>42</th>\n",
       "      <td>1.424888</td>\n",
       "      <td>1.424888</td>\n",
       "      <td>admission_type_id_5</td>\n",
       "    </tr>\n",
       "    <tr>\n",
       "      <th>35</th>\n",
       "      <td>1.398395</td>\n",
       "      <td>1.398395</td>\n",
       "      <td>age_2</td>\n",
       "    </tr>\n",
       "    <tr>\n",
       "      <th>14</th>\n",
       "      <td>1.393404</td>\n",
       "      <td>-1.393404</td>\n",
       "      <td>tolazamide</td>\n",
       "    </tr>\n",
       "    <tr>\n",
       "      <th>36</th>\n",
       "      <td>1.346871</td>\n",
       "      <td>1.346871</td>\n",
       "      <td>age_3</td>\n",
       "    </tr>\n",
       "    <tr>\n",
       "      <th>16</th>\n",
       "      <td>1.266205</td>\n",
       "      <td>1.266205</td>\n",
       "      <td>glyburide-metformin</td>\n",
       "    </tr>\n",
       "    <tr>\n",
       "      <th>50</th>\n",
       "      <td>1.221233</td>\n",
       "      <td>-1.221233</td>\n",
       "      <td>admission_source_id_2</td>\n",
       "    </tr>\n",
       "    <tr>\n",
       "      <th>20</th>\n",
       "      <td>1.018102</td>\n",
       "      <td>1.018102</td>\n",
       "      <td>diabetesMed</td>\n",
       "    </tr>\n",
       "    <tr>\n",
       "      <th>5</th>\n",
       "      <td>1.000406</td>\n",
       "      <td>-1.000406</td>\n",
       "      <td>chlorpropamide</td>\n",
       "    </tr>\n",
       "    <tr>\n",
       "      <th>53</th>\n",
       "      <td>0.968762</td>\n",
       "      <td>0.968762</td>\n",
       "      <td>admission_source_id_5</td>\n",
       "    </tr>\n",
       "    <tr>\n",
       "      <th>23</th>\n",
       "      <td>0.951776</td>\n",
       "      <td>0.951776</td>\n",
       "      <td>num_lab_procedures</td>\n",
       "    </tr>\n",
       "    <tr>\n",
       "      <th>9</th>\n",
       "      <td>0.947157</td>\n",
       "      <td>-0.947157</td>\n",
       "      <td>tolbutamide</td>\n",
       "    </tr>\n",
       "    <tr>\n",
       "      <th>44</th>\n",
       "      <td>0.910164</td>\n",
       "      <td>-0.910164</td>\n",
       "      <td>discharge_disposition_id_1</td>\n",
       "    </tr>\n",
       "    <tr>\n",
       "      <th>18</th>\n",
       "      <td>0.855357</td>\n",
       "      <td>-0.855357</td>\n",
       "      <td>metformin-rosiglitazone</td>\n",
       "    </tr>\n",
       "    <tr>\n",
       "      <th>19</th>\n",
       "      <td>0.689313</td>\n",
       "      <td>0.689313</td>\n",
       "      <td>change</td>\n",
       "    </tr>\n",
       "    <tr>\n",
       "      <th>43</th>\n",
       "      <td>0.660507</td>\n",
       "      <td>-0.660507</td>\n",
       "      <td>discharge_disposition_id_0</td>\n",
       "    </tr>\n",
       "    <tr>\n",
       "      <th>4</th>\n",
       "      <td>0.638927</td>\n",
       "      <td>-0.638927</td>\n",
       "      <td>nateglinide</td>\n",
       "    </tr>\n",
       "    <tr>\n",
       "      <th>22</th>\n",
       "      <td>0.623265</td>\n",
       "      <td>0.623265</td>\n",
       "      <td>time_in_hospital</td>\n",
       "    </tr>\n",
       "    <tr>\n",
       "      <th>34</th>\n",
       "      <td>0.616858</td>\n",
       "      <td>0.616858</td>\n",
       "      <td>age_1</td>\n",
       "    </tr>\n",
       "    <tr>\n",
       "      <th>41</th>\n",
       "      <td>0.607166</td>\n",
       "      <td>0.607166</td>\n",
       "      <td>admission_type_id_4</td>\n",
       "    </tr>\n",
       "    <tr>\n",
       "      <th>45</th>\n",
       "      <td>0.606816</td>\n",
       "      <td>-0.606816</td>\n",
       "      <td>discharge_disposition_id_2</td>\n",
       "    </tr>\n",
       "    <tr>\n",
       "      <th>13</th>\n",
       "      <td>0.536166</td>\n",
       "      <td>0.536166</td>\n",
       "      <td>miglitol</td>\n",
       "    </tr>\n",
       "    <tr>\n",
       "      <th>0</th>\n",
       "      <td>0.532160</td>\n",
       "      <td>0.532160</td>\n",
       "      <td>max_glu_serum</td>\n",
       "    </tr>\n",
       "    <tr>\n",
       "      <th>28</th>\n",
       "      <td>0.518788</td>\n",
       "      <td>-0.518788</td>\n",
       "      <td>race_Asian</td>\n",
       "    </tr>\n",
       "    <tr>\n",
       "      <th>32</th>\n",
       "      <td>0.517149</td>\n",
       "      <td>-0.517149</td>\n",
       "      <td>race_Unknown</td>\n",
       "    </tr>\n",
       "    <tr>\n",
       "      <th>1</th>\n",
       "      <td>0.460233</td>\n",
       "      <td>0.460233</td>\n",
       "      <td>A1Cresult</td>\n",
       "    </tr>\n",
       "    <tr>\n",
       "      <th>49</th>\n",
       "      <td>0.433917</td>\n",
       "      <td>-0.433917</td>\n",
       "      <td>admission_source_id_1</td>\n",
       "    </tr>\n",
       "    <tr>\n",
       "      <th>46</th>\n",
       "      <td>0.415019</td>\n",
       "      <td>-0.415019</td>\n",
       "      <td>discharge_disposition_id_3</td>\n",
       "    </tr>\n",
       "    <tr>\n",
       "      <th>3</th>\n",
       "      <td>0.393211</td>\n",
       "      <td>0.393211</td>\n",
       "      <td>repaglinide</td>\n",
       "    </tr>\n",
       "    <tr>\n",
       "      <th>12</th>\n",
       "      <td>0.374900</td>\n",
       "      <td>-0.374900</td>\n",
       "      <td>acarbose</td>\n",
       "    </tr>\n",
       "    <tr>\n",
       "      <th>47</th>\n",
       "      <td>0.340832</td>\n",
       "      <td>-0.340832</td>\n",
       "      <td>discharge_disposition_id_4</td>\n",
       "    </tr>\n",
       "    <tr>\n",
       "      <th>40</th>\n",
       "      <td>0.339007</td>\n",
       "      <td>0.339007</td>\n",
       "      <td>admission_type_id_3</td>\n",
       "    </tr>\n",
       "    <tr>\n",
       "      <th>62</th>\n",
       "      <td>0.329026</td>\n",
       "      <td>-0.329026</td>\n",
       "      <td>max_glu_serum&amp;diabetesMed</td>\n",
       "    </tr>\n",
       "    <tr>\n",
       "      <th>58</th>\n",
       "      <td>0.275252</td>\n",
       "      <td>-0.275252</td>\n",
       "      <td>A1Cresult&amp;diabetesMed</td>\n",
       "    </tr>\n",
       "    <tr>\n",
       "      <th>59</th>\n",
       "      <td>0.262123</td>\n",
       "      <td>-0.262123</td>\n",
       "      <td>max_glu_serum&amp;change</td>\n",
       "    </tr>\n",
       "    <tr>\n",
       "      <th>30</th>\n",
       "      <td>0.237423</td>\n",
       "      <td>0.237423</td>\n",
       "      <td>race_Hispanic</td>\n",
       "    </tr>\n",
       "    <tr>\n",
       "      <th>24</th>\n",
       "      <td>0.211706</td>\n",
       "      <td>-0.211706</td>\n",
       "      <td>num_procedures</td>\n",
       "    </tr>\n",
       "    <tr>\n",
       "      <th>11</th>\n",
       "      <td>0.197636</td>\n",
       "      <td>0.197636</td>\n",
       "      <td>rosiglitazone</td>\n",
       "    </tr>\n",
       "    <tr>\n",
       "      <th>31</th>\n",
       "      <td>0.184788</td>\n",
       "      <td>-0.184788</td>\n",
       "      <td>race_Other</td>\n",
       "    </tr>\n",
       "    <tr>\n",
       "      <th>2</th>\n",
       "      <td>0.175696</td>\n",
       "      <td>-0.175696</td>\n",
       "      <td>metformin</td>\n",
       "    </tr>\n",
       "    <tr>\n",
       "      <th>55</th>\n",
       "      <td>0.174362</td>\n",
       "      <td>-0.174362</td>\n",
       "      <td>A1Cresult&amp;change</td>\n",
       "    </tr>\n",
       "    <tr>\n",
       "      <th>39</th>\n",
       "      <td>0.155721</td>\n",
       "      <td>0.155721</td>\n",
       "      <td>admission_type_id_2</td>\n",
       "    </tr>\n",
       "    <tr>\n",
       "      <th>17</th>\n",
       "      <td>0.149966</td>\n",
       "      <td>0.149966</td>\n",
       "      <td>glipizide-metformin</td>\n",
       "    </tr>\n",
       "    <tr>\n",
       "      <th>48</th>\n",
       "      <td>0.132531</td>\n",
       "      <td>-0.132531</td>\n",
       "      <td>discharge_disposition_id_5</td>\n",
       "    </tr>\n",
       "    <tr>\n",
       "      <th>21</th>\n",
       "      <td>0.119133</td>\n",
       "      <td>0.119133</td>\n",
       "      <td>diag_diabetes</td>\n",
       "    </tr>\n",
       "    <tr>\n",
       "      <th>60</th>\n",
       "      <td>0.110639</td>\n",
       "      <td>-0.110639</td>\n",
       "      <td>max_glu_serum&amp;gender_Male</td>\n",
       "    </tr>\n",
       "    <tr>\n",
       "      <th>51</th>\n",
       "      <td>0.081375</td>\n",
       "      <td>0.081375</td>\n",
       "      <td>admission_source_id_3</td>\n",
       "    </tr>\n",
       "    <tr>\n",
       "      <th>10</th>\n",
       "      <td>0.074500</td>\n",
       "      <td>0.074500</td>\n",
       "      <td>pioglitazone</td>\n",
       "    </tr>\n",
       "    <tr>\n",
       "      <th>29</th>\n",
       "      <td>0.073329</td>\n",
       "      <td>0.073329</td>\n",
       "      <td>race_Caucasian</td>\n",
       "    </tr>\n",
       "    <tr>\n",
       "      <th>57</th>\n",
       "      <td>0.068960</td>\n",
       "      <td>-0.068960</td>\n",
       "      <td>A1Cresult&amp;diag_diabetes</td>\n",
       "    </tr>\n",
       "    <tr>\n",
       "      <th>52</th>\n",
       "      <td>0.062307</td>\n",
       "      <td>0.062307</td>\n",
       "      <td>admission_source_id_4</td>\n",
       "    </tr>\n",
       "    <tr>\n",
       "      <th>6</th>\n",
       "      <td>0.058686</td>\n",
       "      <td>0.058686</td>\n",
       "      <td>glimepiride</td>\n",
       "    </tr>\n",
       "    <tr>\n",
       "      <th>33</th>\n",
       "      <td>0.041731</td>\n",
       "      <td>-0.041731</td>\n",
       "      <td>gender_Male</td>\n",
       "    </tr>\n",
       "    <tr>\n",
       "      <th>8</th>\n",
       "      <td>0.041034</td>\n",
       "      <td>0.041034</td>\n",
       "      <td>glyburide</td>\n",
       "    </tr>\n",
       "    <tr>\n",
       "      <th>54</th>\n",
       "      <td>0.036372</td>\n",
       "      <td>0.036372</td>\n",
       "      <td>A1Cresult&amp;max_glu_serum</td>\n",
       "    </tr>\n",
       "    <tr>\n",
       "      <th>15</th>\n",
       "      <td>0.030525</td>\n",
       "      <td>-0.030525</td>\n",
       "      <td>insulin</td>\n",
       "    </tr>\n",
       "    <tr>\n",
       "      <th>7</th>\n",
       "      <td>0.018229</td>\n",
       "      <td>-0.018229</td>\n",
       "      <td>glipizide</td>\n",
       "    </tr>\n",
       "    <tr>\n",
       "      <th>61</th>\n",
       "      <td>0.006431</td>\n",
       "      <td>-0.006431</td>\n",
       "      <td>max_glu_serum&amp;diag_diabetes</td>\n",
       "    </tr>\n",
       "    <tr>\n",
       "      <th>56</th>\n",
       "      <td>0.002362</td>\n",
       "      <td>0.002362</td>\n",
       "      <td>A1Cresult&amp;gender_Male</td>\n",
       "    </tr>\n",
       "  </tbody>\n",
       "</table>\n",
       "</div>"
      ],
      "text/plain": [
       "    Abs_Coefficients  Coefficients                     Features\n",
       "27          5.423092      5.423092             number_inpatient\n",
       "25          3.641586      3.641586            number_outpatient\n",
       "26          3.490469      3.490469             number_emergency\n",
       "37          1.838630      1.838630                        age_4\n",
       "38          1.601304     -1.601304          admission_type_id_1\n",
       "42          1.424888      1.424888          admission_type_id_5\n",
       "35          1.398395      1.398395                        age_2\n",
       "14          1.393404     -1.393404                   tolazamide\n",
       "36          1.346871      1.346871                        age_3\n",
       "16          1.266205      1.266205          glyburide-metformin\n",
       "50          1.221233     -1.221233        admission_source_id_2\n",
       "20          1.018102      1.018102                  diabetesMed\n",
       "5           1.000406     -1.000406               chlorpropamide\n",
       "53          0.968762      0.968762        admission_source_id_5\n",
       "23          0.951776      0.951776           num_lab_procedures\n",
       "9           0.947157     -0.947157                  tolbutamide\n",
       "44          0.910164     -0.910164   discharge_disposition_id_1\n",
       "18          0.855357     -0.855357      metformin-rosiglitazone\n",
       "19          0.689313      0.689313                       change\n",
       "43          0.660507     -0.660507   discharge_disposition_id_0\n",
       "4           0.638927     -0.638927                  nateglinide\n",
       "22          0.623265      0.623265             time_in_hospital\n",
       "34          0.616858      0.616858                        age_1\n",
       "41          0.607166      0.607166          admission_type_id_4\n",
       "45          0.606816     -0.606816   discharge_disposition_id_2\n",
       "13          0.536166      0.536166                     miglitol\n",
       "0           0.532160      0.532160                max_glu_serum\n",
       "28          0.518788     -0.518788                   race_Asian\n",
       "32          0.517149     -0.517149                 race_Unknown\n",
       "1           0.460233      0.460233                    A1Cresult\n",
       "49          0.433917     -0.433917        admission_source_id_1\n",
       "46          0.415019     -0.415019   discharge_disposition_id_3\n",
       "3           0.393211      0.393211                  repaglinide\n",
       "12          0.374900     -0.374900                     acarbose\n",
       "47          0.340832     -0.340832   discharge_disposition_id_4\n",
       "40          0.339007      0.339007          admission_type_id_3\n",
       "62          0.329026     -0.329026    max_glu_serum&diabetesMed\n",
       "58          0.275252     -0.275252        A1Cresult&diabetesMed\n",
       "59          0.262123     -0.262123         max_glu_serum&change\n",
       "30          0.237423      0.237423                race_Hispanic\n",
       "24          0.211706     -0.211706               num_procedures\n",
       "11          0.197636      0.197636                rosiglitazone\n",
       "31          0.184788     -0.184788                   race_Other\n",
       "2           0.175696     -0.175696                    metformin\n",
       "55          0.174362     -0.174362             A1Cresult&change\n",
       "39          0.155721      0.155721          admission_type_id_2\n",
       "17          0.149966      0.149966          glipizide-metformin\n",
       "48          0.132531     -0.132531   discharge_disposition_id_5\n",
       "21          0.119133      0.119133                diag_diabetes\n",
       "60          0.110639     -0.110639    max_glu_serum&gender_Male\n",
       "51          0.081375      0.081375        admission_source_id_3\n",
       "10          0.074500      0.074500                 pioglitazone\n",
       "29          0.073329      0.073329               race_Caucasian\n",
       "57          0.068960     -0.068960      A1Cresult&diag_diabetes\n",
       "52          0.062307      0.062307        admission_source_id_4\n",
       "6           0.058686      0.058686                  glimepiride\n",
       "33          0.041731     -0.041731                  gender_Male\n",
       "8           0.041034      0.041034                    glyburide\n",
       "54          0.036372      0.036372      A1Cresult&max_glu_serum\n",
       "15          0.030525     -0.030525                      insulin\n",
       "7           0.018229     -0.018229                    glipizide\n",
       "61          0.006431     -0.006431  max_glu_serum&diag_diabetes\n",
       "56          0.002362      0.002362        A1Cresult&gender_Male"
      ]
     },
     "execution_count": 138,
     "metadata": {},
     "output_type": "execute_result"
    }
   ],
   "source": [
    "# Finding out the coefficients of the features, aka feature importance from Logistic Regression\n",
    "pd.set_option('display.max_rows', None)\n",
    "lrr_coefs = pd.DataFrame(data={'Features':X_ros.columns, 'Coefficients':lrr_best.coef_[0], 'Abs_Coefficients':np.abs(lrr_best.coef_[0])})\n",
    "lrr_coefs.sort_values(by='Abs_Coefficients', ascending=False)"
   ]
  },
  {
   "cell_type": "code",
   "execution_count": 147,
   "metadata": {},
   "outputs": [
    {
     "data": {
      "text/plain": [
       "27       number_inpatient\n",
       "25      number_outpatient\n",
       "26       number_emergency\n",
       "37                  age_4\n",
       "38    admission_type_id_1\n",
       "42    admission_type_id_5\n",
       "35                  age_2\n",
       "14             tolazamide\n",
       "36                  age_3\n",
       "16    glyburide-metformin\n",
       "Name: Features, dtype: object"
      ]
     },
     "execution_count": 147,
     "metadata": {},
     "output_type": "execute_result"
    }
   ],
   "source": [
    "# The top 10 most important features based on Logistic Regression\n",
    "lrr_coefs.sort_values(by='Abs_Coefficients', ascending=False)['Features'][:10]"
   ]
  },
  {
   "cell_type": "code",
   "execution_count": 150,
   "metadata": {},
   "outputs": [
    {
     "data": {
      "image/png": "[encoded data removed]",
      "text/plain": [
       "<matplotlib.figure.Figure at 0x7f706b11d860>"
      ]
     },
     "metadata": {},
     "output_type": "display_data"
    }
   ],
   "source": [
    "# Plot of the coefficients of the top 10 features\n",
    "features = lrr_coefs.sort_values(by='Abs_Coefficients', ascending=False)['Features'][:10]\n",
    "coefficients = lrr_coefs.sort_values(by='Abs_Coefficients', ascending=False)['Coefficients'][:10]\n",
    "indices = np.array(coefficients)\n",
    "\n",
    "plt.figure(figsize=(8,8))\n",
    "plt.figure(1)\n",
    "plt.title('Feature Importances')\n",
    "plt.barh(range(len(indices)), coefficients, color='b', align='center')\n",
    "plt.yticks(range(len(indices)), features)\n",
    "plt.xlabel('Coefficients')\n",
    "plt.grid(True)"
   ]
  },
  {
   "cell_type": "code",
   "execution_count": 148,
   "metadata": {},
   "outputs": [
    {
     "data": {
      "image/png": "[encoded data removed]",
      "text/plain": [
       "<matplotlib.figure.Figure at 0x7f7068100470>"
      ]
     },
     "metadata": {},
     "output_type": "display_data"
    }
   ],
   "source": [
    "# Plot of the coefficients of all the features\n",
    "features = lrr_coefs.sort_values(by='Abs_Coefficients', ascending=True)['Features']\n",
    "coefficients = lrr_coefs.sort_values(by='Abs_Coefficients', ascending=True)['Coefficients']\n",
    "indices = np.array(coefficients)\n",
    "\n",
    "plt.figure(figsize=(20,20))\n",
    "plt.figure(1)\n",
    "plt.title('Feature Importances')\n",
    "plt.barh(range(len(indices)), coefficients, color='b', align='center')\n",
    "plt.yticks(range(len(indices)), features)\n",
    "plt.xlabel('Coefficients')\n",
    "plt.grid(True)"
   ]
  },
  {
   "cell_type": "markdown",
   "metadata": {},
   "source": [
    "### Implementing the cost matrix"
   ]
  },
  {
   "cell_type": "raw",
   "metadata": {},
   "source": [
    "The aim of this project is to predict hopsital readmission of diabetic patients, for both early readmission and readmission. Several classification models using machine learning will be built for this purpose. Cost of hospital readmission of patients in the US esitimated to be around $251 million for 23,700 total readmissions, which is approximately $10591 per readmission. For a classification model to be useful in predicting hospital readmissions, it has to both help predict hospital readmissions and also provide cost savings when it is implemented."
   ]
  },
  {
   "cell_type": "code",
   "execution_count": 160,
   "metadata": {
    "scrolled": true
   },
   "outputs": [
    {
     "data": {
      "text/plain": [
       "(4785, 63)"
      ]
     },
     "execution_count": 160,
     "metadata": {},
     "output_type": "execute_result"
    }
   ],
   "source": [
    "X_test.shape"
   ]
  },
  {
   "cell_type": "code",
   "execution_count": 161,
   "metadata": {},
   "outputs": [
    {
     "data": {
      "text/plain": [
       "(4785, 54)"
      ]
     },
     "execution_count": 161,
     "metadata": {},
     "output_type": "execute_result"
    }
   ],
   "source": [
    "X_test_n.shape"
   ]
  },
  {
   "cell_type": "markdown",
   "metadata": {},
   "source": [
    "The average number of days spent per patient in the hospital for the test set for early readmission is 4.6739811912225706, while the average number of days spent per patient in the test set for readmission vs no readmission is 4.6670846394984329. The total number of patients in each test set is 4785. This numbers were obtained from the previous jupyter notebook."
   ]
  },
  {
   "cell_type": "code",
   "execution_count": 163,
   "metadata": {
    "collapsed": true
   },
   "outputs": [],
   "source": [
    "from IPython.display import Image"
   ]
  },
  {
   "cell_type": "markdown",
   "metadata": {},
   "source": [
    "alpha refers to the cost incurred per hospital readmission. Beta refers to the cost of extra diagnosis administered to rpevent readmission."
   ]
  },
  {
   "cell_type": "code",
   "execution_count": 164,
   "metadata": {
    "scrolled": true
   },
   "outputs": [
    {
     "data": {
      "image/png": "[encoded data removed]",
      "text/plain": [
       "<IPython.core.display.Image object>"
      ]
     },
     "execution_count": 164,
     "metadata": {},
     "output_type": "execute_result"
    }
   ],
   "source": [
    "path1 = \"./cost_matrix_eqns.png\"\n",
    "Image(filename=path1)"
   ]
  },
  {
   "cell_type": "code",
   "execution_count": 192,
   "metadata": {},
   "outputs": [
    {
     "name": "stdout",
     "output_type": "stream",
     "text": [
      "Early readmission test data:, alpha= 10591, beta= 2265.9483568075116\n",
      "Readmission test data:, alpha= 10591, beta= 2269.296749059645\n"
     ]
    }
   ],
   "source": [
    "# Finding the values of alpha and beta for each dataset\n",
    "\n",
    "# For the early readmission dataset\n",
    "alpha_30 = 10591\n",
    "beta_30 = 10591/4.6739811912225706\n",
    "\n",
    "# For the early readmission dataset\n",
    "alpha = 10591\n",
    "beta = 10591/4.6670846394984329\n",
    "\n",
    "print('Early readmission test data:, alpha= ' + str(alpha_30) + ', beta= ' + str(beta_30))\n",
    "print('Readmission test data:, alpha= ' + str(alpha) + ', beta= ' + str(beta))"
   ]
  },
  {
   "cell_type": "code",
   "execution_count": 189,
   "metadata": {
    "collapsed": true
   },
   "outputs": [],
   "source": [
    "# A function to calculate the cost savings from using the model\n",
    "\n",
    "def cost_savings(alpha_n, beta_n, data):\n",
    "    '''\n",
    "    Function accepts 3 parameters. alpha_n refers to the cost per readmission, beta_n refers to the cost of special \n",
    "    diagnosis and tests carried out to prevent readmissionm, data refers to the confusion matrix showing the TP, \n",
    "    FP, FN and TN.\n",
    "    '''\n",
    "    tp = data.iloc[0,0]\n",
    "    fp  = data.iloc[1,0]\n",
    "    fn  = data.iloc[0,1]\n",
    "    tn = data.iloc[1,1]\n",
    "    savings = (alpha-beta)*tp - beta*fp\n",
    "    return savings/10**6"
   ]
  },
  {
   "cell_type": "code",
   "execution_count": 203,
   "metadata": {
    "collapsed": true
   },
   "outputs": [],
   "source": [
    "### Finding the cost saving from using the models for early readmission dataset\n",
    "dm_savings_30 = cost_savings(alpha_30, beta_30, confusion0)\n",
    "lr_savings_30 = cost_savings(alpha_30, beta_30, confusion1)\n",
    "mlp_savings_30 = cost_savings(alpha_30, beta_30, confusion2)\n",
    "xgb_savings_30 = cost_savings(alpha_30, beta_30, confusion3)"
   ]
  },
  {
   "cell_type": "code",
   "execution_count": 204,
   "metadata": {
    "collapsed": true
   },
   "outputs": [],
   "source": [
    "# Dataframe of the cost savings for the early readmission dataset\n",
    "algorithms_30 = ['Dummy', 'Logistic Regression', 'MLP', 'XGBoost']\n",
    "savs_30 = [dm_savings_30, lr_savings_30, mlp_savings_30, xgb_savings_30]\n",
    "savings_30 = pd.DataFrame(data={'Savings for test set (Million USD)':savs_30}, index=algorithms_30)"
   ]
  },
  {
   "cell_type": "code",
   "execution_count": 205,
   "metadata": {},
   "outputs": [
    {
     "data": {
      "text/html": [
       "<div>\n",
       "<style>\n",
       "    .dataframe thead tr:only-child th {\n",
       "        text-align: right;\n",
       "    }\n",
       "\n",
       "    .dataframe thead th {\n",
       "        text-align: left;\n",
       "    }\n",
       "\n",
       "    .dataframe tbody tr th {\n",
       "        vertical-align: top;\n",
       "    }\n",
       "</style>\n",
       "<table border=\"1\" class=\"dataframe\">\n",
       "  <thead>\n",
       "    <tr style=\"text-align: right;\">\n",
       "      <th></th>\n",
       "      <th>Savings for test set (Million USD)</th>\n",
       "    </tr>\n",
       "  </thead>\n",
       "  <tbody>\n",
       "    <tr>\n",
       "      <th>Dummy</th>\n",
       "      <td>-3.138241</td>\n",
       "    </tr>\n",
       "    <tr>\n",
       "      <th>Logistic Regression</th>\n",
       "      <td>-1.548958</td>\n",
       "    </tr>\n",
       "    <tr>\n",
       "      <th>MLP</th>\n",
       "      <td>-1.561060</td>\n",
       "    </tr>\n",
       "    <tr>\n",
       "      <th>XGBoost</th>\n",
       "      <td>-1.580731</td>\n",
       "    </tr>\n",
       "  </tbody>\n",
       "</table>\n",
       "</div>"
      ],
      "text/plain": [
       "                     Savings for test set (Million USD)\n",
       "Dummy                                         -3.138241\n",
       "Logistic Regression                           -1.548958\n",
       "MLP                                           -1.561060\n",
       "XGBoost                                       -1.580731"
      ]
     },
     "execution_count": 205,
     "metadata": {},
     "output_type": "execute_result"
    }
   ],
   "source": [
    "savings_30"
   ]
  },
  {
   "cell_type": "code",
   "execution_count": 206,
   "metadata": {
    "collapsed": true
   },
   "outputs": [],
   "source": [
    "### Finding the cost saving from using the models for readmission vs no readmission dataset\n",
    "dm_savings = cost_savings(alpha, beta, confusion00)\n",
    "lr_savings = cost_savings(alpha, beta, confusion01)\n",
    "mlp_savings = cost_savings(alpha, beta, confusion02)\n",
    "xgb_savings = cost_savings(alpha, beta, confusion03)\n",
    "rf_savings = cost_savings(alpha, beta, confusion04)\n",
    "nb_savings = cost_savings(alpha, beta, confusion05)\n",
    "stacking_savings = cost_savings(alpha, beta, confusion06)"
   ]
  },
  {
   "cell_type": "code",
   "execution_count": 207,
   "metadata": {
    "collapsed": true
   },
   "outputs": [],
   "source": [
    "# Dataframe of the cost savings for the readmission vs no readmission dataset\n",
    "# Dataframe of the cost savings for the early readmission dataset\n",
    "algorithms = ['Dummy', 'Logistic Regression', 'MLP', 'XGBoost', 'Random Forest', 'Naive Bayes', 'Stacking']\n",
    "savs = [dm_savings, lr_savings, mlp_savings, xgb_savings, rf_savings, nb_savings, stacking_savings]\n",
    "savings = pd.DataFrame(data={'Savings for test set (Million USD)':savs}, index=algorithms)"
   ]
  },
  {
   "cell_type": "code",
   "execution_count": 208,
   "metadata": {},
   "outputs": [
    {
     "data": {
      "text/html": [
       "<div>\n",
       "<style>\n",
       "    .dataframe thead tr:only-child th {\n",
       "        text-align: right;\n",
       "    }\n",
       "\n",
       "    .dataframe thead th {\n",
       "        text-align: left;\n",
       "    }\n",
       "\n",
       "    .dataframe tbody tr th {\n",
       "        vertical-align: top;\n",
       "    }\n",
       "</style>\n",
       "<table border=\"1\" class=\"dataframe\">\n",
       "  <thead>\n",
       "    <tr style=\"text-align: right;\">\n",
       "      <th></th>\n",
       "      <th>Savings for test set (Million USD)</th>\n",
       "    </tr>\n",
       "  </thead>\n",
       "  <tbody>\n",
       "    <tr>\n",
       "      <th>Dummy</th>\n",
       "      <td>4.476688</td>\n",
       "    </tr>\n",
       "    <tr>\n",
       "      <th>Logistic Regression</th>\n",
       "      <td>6.720429</td>\n",
       "    </tr>\n",
       "    <tr>\n",
       "      <th>MLP</th>\n",
       "      <td>6.811965</td>\n",
       "    </tr>\n",
       "    <tr>\n",
       "      <th>XGBoost</th>\n",
       "      <td>5.307978</td>\n",
       "    </tr>\n",
       "    <tr>\n",
       "      <th>Random Forest</th>\n",
       "      <td>6.354254</td>\n",
       "    </tr>\n",
       "    <tr>\n",
       "      <th>Naive Bayes</th>\n",
       "      <td>4.027077</td>\n",
       "    </tr>\n",
       "    <tr>\n",
       "      <th>Stacking</th>\n",
       "      <td>5.376059</td>\n",
       "    </tr>\n",
       "  </tbody>\n",
       "</table>\n",
       "</div>"
      ],
      "text/plain": [
       "                     Savings for test set (Million USD)\n",
       "Dummy                                          4.476688\n",
       "Logistic Regression                            6.720429\n",
       "MLP                                            6.811965\n",
       "XGBoost                                        5.307978\n",
       "Random Forest                                  6.354254\n",
       "Naive Bayes                                    4.027077\n",
       "Stacking                                       5.376059"
      ]
     },
     "execution_count": 208,
     "metadata": {},
     "output_type": "execute_result"
    }
   ],
   "source": [
    "savings"
   ]
  }
 ],
 "metadata": {
  "kernelspec": {
   "display_name": "Python 2",
   "language": "python",
   "name": "python2"
  },
  "language_info": {
   "codemirror_mode": {
    "name": "ipython",
    "version": 2
   },
   "file_extension": ".py",
   "mimetype": "text/x-python",
   "name": "python",
   "nbconvert_exporter": "python",
   "pygments_lexer": "ipython2",
   "version": "2.7.13"
  }
 },
 "nbformat": 4,
 "nbformat_minor": 2
}
