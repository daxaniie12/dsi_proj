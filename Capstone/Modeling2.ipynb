{
 "cells": [
  {
   "cell_type": "code",
   "execution_count": 1,
   "metadata": {
    "collapsed": true
   },
   "outputs": [],
   "source": [
    "import pandas as pd\n",
    "import matplotlib.pyplot as plt\n",
    "import seaborn as sns\n",
    "import numpy as np\n",
    "%matplotlib inline"
   ]
  },
  {
   "cell_type": "code",
   "execution_count": 2,
   "metadata": {
    "collapsed": true
   },
   "outputs": [],
   "source": [
    "# Load the required files\n",
    "X_train = pd.read_csv('./X_train.csv')\n",
    "X_test = pd.read_csv('./X_test.csv')\n",
    "y_train = pd.read_csv('./y_train.csv')\n",
    "y_test = pd.read_csv('./y_test.csv')\n",
    "X_ros = pd.read_csv('./X_ros.csv')\n",
    "y_ros = pd.read_csv('./y_ros.csv')"
   ]
  },
  {
   "cell_type": "code",
   "execution_count": 3,
   "metadata": {
    "collapsed": true
   },
   "outputs": [],
   "source": [
    "X_train.drop('Unnamed: 0', axis=1, inplace=True)\n",
    "X_test.drop('Unnamed: 0', axis=1, inplace=True)\n",
    "y_train.drop('Unnamed: 0', axis=1, inplace=True)\n",
    "y_test.drop('Unnamed: 0', axis=1, inplace=True)\n",
    "X_ros.drop('Unnamed: 0', axis=1, inplace=True)\n",
    "y_ros.drop('Unnamed: 0', axis=1, inplace=True)"
   ]
  },
  {
   "cell_type": "code",
   "execution_count": 4,
   "metadata": {
    "collapsed": true
   },
   "outputs": [],
   "source": [
    "from sklearn.linear_model import LogisticRegression, LogisticRegressionCV\n",
    "from sklearn.ensemble import RandomForestClassifier\n",
    "from xgboost import XGBClassifier\n",
    "from sklearn.metrics import confusion_matrix, classification_report, precision_recall_curve, roc_curve, auc, average_precision_score"
   ]
  },
  {
   "cell_type": "code",
   "execution_count": 5,
   "metadata": {
    "collapsed": true
   },
   "outputs": [],
   "source": [
    "# Defining functions to plot AUROC curve, Precision-Recall Curve, Recall-Precision Curve\n",
    "\n",
    "def auroc(y_test, y_pred):\n",
    "    fpr, tpr, _ = roc_curve(y_test, y_pred)\n",
    "    roc_auc = auc(fpr, tpr)\n",
    "\n",
    "    plt.figure(figsize=[8,8])\n",
    "    plt.plot(fpr, tpr, label='ROC curve (area = %0.2f)' % roc_auc, linewidth=4)\n",
    "    plt.plot([0, 1], [0, 1], 'k--', linewidth=4)\n",
    "    plt.xlim([-0.05, 1.0])\n",
    "    plt.ylim([-0.05, 1.05])\n",
    "    plt.xlabel('False Positive Rate', fontsize=18)\n",
    "    plt.ylabel('True Positive Rate', fontsize=18)\n",
    "    plt.title('Receiver operating characteristic: is_early_readmit', fontsize=18)\n",
    "    plt.legend(loc=\"lower right\")\n",
    "    return plt\n",
    "\n",
    "\n",
    "def precision_recall(y_test, y_pred):\n",
    "    average_precision = average_precision_score(y_test, y_pred)\n",
    "    precision, recall, _ = precision_recall_curve(y_test, y_pred)\n",
    "\n",
    "    plt.step(recall, precision, color='g', alpha=0.2, where='post')\n",
    "    plt.fill_between(recall, precision, step='post', alpha=0.2, color='g')\n",
    "    plt.xlabel('Recall')\n",
    "    plt.ylabel('Precision')\n",
    "    plt.ylim([0.0, 1.05])\n",
    "    plt.xlim([0.0, 1.0])\n",
    "    plt.title('2-class Precision-Recall curve: AP={0:0.2f}'.format(average_precision))\n",
    "    return plt\n",
    "    \n",
    "\n",
    "def recall_precision(y_test, y_pred):\n",
    "    average_precision = average_precision_score(y_test, y_pred)\n",
    "    precision, recall, _ = precision_recall_curve(y_test, y_pred)\n",
    "    \n",
    "    plt.step(precision, recall, color='g', alpha=0.2, where='post')\n",
    "    plt.fill_between(precision, recall, step='post', alpha=0.2,\n",
    "                 color='g')\n",
    "    plt.xlabel('Precision')\n",
    "    plt.ylabel('Recall')\n",
    "    plt.ylim([0.0, 1.05])\n",
    "    plt.xlim([0.0, 1.0])\n",
    "    plt.title('2-class Recall-Precision curve: AP={0:0.2f}'.format(average_precision))\n",
    "    return plt"
   ]
  },
  {
   "cell_type": "code",
   "execution_count": 6,
   "metadata": {
    "collapsed": true
   },
   "outputs": [],
   "source": [
    "# Defining functions to plot Learning Curve to diagnose Model Bias or Variance\n",
    "\n",
    "from sklearn.model_selection import learning_curve\n",
    "from sklearn.model_selection import ShuffleSplit\n",
    "\n",
    "def plot_learning_curve(estimator, title, X, y, ylim=None, cv=None,\n",
    "                        n_jobs=1, train_sizes=np.linspace(.1, 1.0, 5)):\n",
    "    \n",
    "    plt.figure()\n",
    "    plt.title(title)\n",
    "    if ylim is not None:\n",
    "        plt.ylim(*ylim)\n",
    "    plt.xlabel(\"Training examples\")\n",
    "    plt.ylabel(\"Score\")\n",
    "    train_sizes, train_scores, test_scores = learning_curve(\n",
    "        estimator, X, y, cv=cv, n_jobs=n_jobs, train_sizes=train_sizes)\n",
    "    train_scores_mean = np.mean(train_scores, axis=1)\n",
    "    train_scores_std = np.std(train_scores, axis=1)\n",
    "    test_scores_mean = np.mean(test_scores, axis=1)\n",
    "    test_scores_std = np.std(test_scores, axis=1)\n",
    "    plt.grid()\n",
    "\n",
    "    plt.fill_between(train_sizes, train_scores_mean - train_scores_std,\n",
    "                     train_scores_mean + train_scores_std, alpha=0.1,\n",
    "                     color=\"r\")\n",
    "    plt.fill_between(train_sizes, test_scores_mean - test_scores_std,\n",
    "                     test_scores_mean + test_scores_std, alpha=0.1, color=\"g\")\n",
    "    plt.plot(train_sizes, train_scores_mean, 'o-', color=\"r\",\n",
    "             label=\"Training score\")\n",
    "    plt.plot(train_sizes, test_scores_mean, 'o-', color=\"g\",\n",
    "             label=\"Cross-validation score\")\n",
    "\n",
    "    plt.legend(loc=\"best\")\n",
    "    return plt"
   ]
  },
  {
   "cell_type": "markdown",
   "metadata": {},
   "source": [
    "### LogisticRegression"
   ]
  },
  {
   "cell_type": "code",
   "execution_count": 7,
   "metadata": {
    "collapsed": true
   },
   "outputs": [],
   "source": [
    "# Fitting LogisticRegression\n",
    "lr1 = LogisticRegressionCV(Cs=np.logspace(0,10,100), cv=5, penalty='l1', solver='liblinear', n_jobs=-1, random_state=12)\n",
    "lr2 = LogisticRegressionCV(Cs=np.logspace(0,10,100), cv=5, penalty='l2', solver='liblinear', n_jobs=-1, random_state=12)"
   ]
  },
  {
   "cell_type": "code",
   "execution_count": 8,
   "metadata": {},
   "outputs": [
    {
     "name": "stdout",
     "output_type": "stream",
     "text": [
      "0.613657763021\n",
      "0.609195402299\n"
     ]
    }
   ],
   "source": [
    "# With Lasso penalty\n",
    "lr1.fit(X_ros, y_ros['readmitted'])\n",
    "print(lr1.score(X_ros, y_ros['readmitted']))\n",
    "print(lr1.score(X_test, y_test['readmitted']))\n",
    "y_pred1 = lr1.predict(X_test)"
   ]
  },
  {
   "cell_type": "code",
   "execution_count": 9,
   "metadata": {},
   "outputs": [
    {
     "data": {
      "text/plain": [
       "array([ 1.])"
      ]
     },
     "execution_count": 9,
     "metadata": {},
     "output_type": "execute_result"
    }
   ],
   "source": [
    "#Best 'C' parameter\n",
    "lr1.C_"
   ]
  },
  {
   "cell_type": "code",
   "execution_count": 10,
   "metadata": {},
   "outputs": [
    {
     "data": {
      "text/html": [
       "<div>\n",
       "<style>\n",
       "    .dataframe thead tr:only-child th {\n",
       "        text-align: right;\n",
       "    }\n",
       "\n",
       "    .dataframe thead th {\n",
       "        text-align: left;\n",
       "    }\n",
       "\n",
       "    .dataframe tbody tr th {\n",
       "        vertical-align: top;\n",
       "    }\n",
       "</style>\n",
       "<table border=\"1\" class=\"dataframe\">\n",
       "  <thead>\n",
       "    <tr style=\"text-align: right;\">\n",
       "      <th></th>\n",
       "      <th>predicted_early_readmit</th>\n",
       "      <th>predicted_not_early_readmit</th>\n",
       "    </tr>\n",
       "  </thead>\n",
       "  <tbody>\n",
       "    <tr>\n",
       "      <th>is_early_readmit</th>\n",
       "      <td>230</td>\n",
       "      <td>187</td>\n",
       "    </tr>\n",
       "    <tr>\n",
       "      <th>not_early_readmit</th>\n",
       "      <td>1683</td>\n",
       "      <td>2685</td>\n",
       "    </tr>\n",
       "  </tbody>\n",
       "</table>\n",
       "</div>"
      ],
      "text/plain": [
       "                   predicted_early_readmit  predicted_not_early_readmit\n",
       "is_early_readmit                       230                          187\n",
       "not_early_readmit                     1683                         2685"
      ]
     },
     "execution_count": 10,
     "metadata": {},
     "output_type": "execute_result"
    }
   ],
   "source": [
    "# Confusion matrix\n",
    "conmat = np.array(confusion_matrix(y_test, y_pred1, labels=[1,0]))\n",
    "\n",
    "confusion = pd.DataFrame(conmat, index=['is_early_readmit', 'not_early_readmit'],\n",
    "                         columns=['predicted_early_readmit','predicted_not_early_readmit'])\n",
    "confusion"
   ]
  },
  {
   "cell_type": "code",
   "execution_count": 11,
   "metadata": {},
   "outputs": [
    {
     "name": "stdout",
     "output_type": "stream",
     "text": [
      "             precision    recall  f1-score   support\n",
      "\n",
      "          0       0.93      0.61      0.74      4368\n",
      "          1       0.12      0.55      0.20       417\n",
      "\n",
      "avg / total       0.86      0.61      0.69      4785\n",
      "\n"
     ]
    }
   ],
   "source": [
    "print(classification_report(y_test['readmitted'], y_pred1))"
   ]
  },
  {
   "cell_type": "code",
   "execution_count": 12,
   "metadata": {},
   "outputs": [
    {
     "data": {
      "text/plain": [
       "<module 'matplotlib.pyplot' from '/usr/local/lib/python3.5/site-packages/matplotlib/pyplot.py'>"
      ]
     },
     "execution_count": 12,
     "metadata": {},
     "output_type": "execute_result"
    },
    {
     "data": {
      "image/png": "[encoded data removed]",
      "text/plain": [
       "<matplotlib.figure.Figure at 0x7f0b0a649550>"
      ]
     },
     "metadata": {},
     "output_type": "display_data"
    }
   ],
   "source": [
    "# Precision-Recall Curve\n",
    "precision_recall(y_test, y_pred1)"
   ]
  },
  {
   "cell_type": "code",
   "execution_count": 13,
   "metadata": {},
   "outputs": [
    {
     "data": {
      "text/plain": [
       "<module 'matplotlib.pyplot' from '/usr/local/lib/python3.5/site-packages/matplotlib/pyplot.py'>"
      ]
     },
     "execution_count": 13,
     "metadata": {},
     "output_type": "execute_result"
    },
    {
     "data": {
      "image/png": "[encoded data removed]",
      "text/plain": [
       "<matplotlib.figure.Figure at 0x7f0b0a6496d8>"
      ]
     },
     "metadata": {},
     "output_type": "display_data"
    }
   ],
   "source": [
    "# Recall-Precision Curve\n",
    "recall_precision(y_test, y_pred1)"
   ]
  },
  {
   "cell_type": "code",
   "execution_count": 14,
   "metadata": {},
   "outputs": [
    {
     "data": {
      "text/plain": [
       "<module 'matplotlib.pyplot' from '/usr/local/lib/python3.5/site-packages/matplotlib/pyplot.py'>"
      ]
     },
     "execution_count": 14,
     "metadata": {},
     "output_type": "execute_result"
    },
    {
     "data": {
      "image/png": "[encoded data removed]",
      "text/plain": [
       "<matplotlib.figure.Figure at 0x7f0b09643240>"
      ]
     },
     "metadata": {},
     "output_type": "display_data"
    }
   ],
   "source": [
    "# AUROC curve\n",
    "auroc(y_test, y_pred1)"
   ]
  },
  {
   "cell_type": "code",
   "execution_count": 15,
   "metadata": {
    "collapsed": true
   },
   "outputs": [],
   "source": [
    "# Importance of Coefficients\n",
    "coefs = pd.DataFrame(data={'Features':X_ros.columns, 'Coefficients':list(lr1.coef_[0])})"
   ]
  },
  {
   "cell_type": "code",
   "execution_count": 16,
   "metadata": {},
   "outputs": [
    {
     "data": {
      "text/html": [
       "<div>\n",
       "<style>\n",
       "    .dataframe thead tr:only-child th {\n",
       "        text-align: right;\n",
       "    }\n",
       "\n",
       "    .dataframe thead th {\n",
       "        text-align: left;\n",
       "    }\n",
       "\n",
       "    .dataframe tbody tr th {\n",
       "        vertical-align: top;\n",
       "    }\n",
       "</style>\n",
       "<table border=\"1\" class=\"dataframe\">\n",
       "  <thead>\n",
       "    <tr style=\"text-align: right;\">\n",
       "      <th></th>\n",
       "      <th>Coefficients</th>\n",
       "      <th>Features</th>\n",
       "    </tr>\n",
       "  </thead>\n",
       "  <tbody>\n",
       "    <tr>\n",
       "      <th>4</th>\n",
       "      <td>4.068422</td>\n",
       "      <td>number_emergency</td>\n",
       "    </tr>\n",
       "    <tr>\n",
       "      <th>5</th>\n",
       "      <td>3.724272</td>\n",
       "      <td>number_inpatient</td>\n",
       "    </tr>\n",
       "    <tr>\n",
       "      <th>0</th>\n",
       "      <td>0.968762</td>\n",
       "      <td>time_in_hospital</td>\n",
       "    </tr>\n",
       "    <tr>\n",
       "      <th>22</th>\n",
       "      <td>0.886071</td>\n",
       "      <td>age_[70-80)</td>\n",
       "    </tr>\n",
       "    <tr>\n",
       "      <th>21</th>\n",
       "      <td>0.881042</td>\n",
       "      <td>age_[60-70)</td>\n",
       "    </tr>\n",
       "    <tr>\n",
       "      <th>23</th>\n",
       "      <td>0.606120</td>\n",
       "      <td>age_[80-90)</td>\n",
       "    </tr>\n",
       "    <tr>\n",
       "      <th>19</th>\n",
       "      <td>0.540750</td>\n",
       "      <td>age_[40-50)</td>\n",
       "    </tr>\n",
       "    <tr>\n",
       "      <th>28</th>\n",
       "      <td>0.450382</td>\n",
       "      <td>discharge_disposition_id_3</td>\n",
       "    </tr>\n",
       "    <tr>\n",
       "      <th>18</th>\n",
       "      <td>0.422926</td>\n",
       "      <td>age_[30-40)</td>\n",
       "    </tr>\n",
       "    <tr>\n",
       "      <th>26</th>\n",
       "      <td>0.411134</td>\n",
       "      <td>admission_type_id_5</td>\n",
       "    </tr>\n",
       "    <tr>\n",
       "      <th>20</th>\n",
       "      <td>0.315014</td>\n",
       "      <td>age_[50-60)</td>\n",
       "    </tr>\n",
       "    <tr>\n",
       "      <th>9</th>\n",
       "      <td>0.259616</td>\n",
       "      <td>diag_diabetes</td>\n",
       "    </tr>\n",
       "    <tr>\n",
       "      <th>33</th>\n",
       "      <td>0.186407</td>\n",
       "      <td>A1Cresult&amp;change</td>\n",
       "    </tr>\n",
       "    <tr>\n",
       "      <th>10</th>\n",
       "      <td>0.172900</td>\n",
       "      <td>metformin</td>\n",
       "    </tr>\n",
       "    <tr>\n",
       "      <th>17</th>\n",
       "      <td>0.157990</td>\n",
       "      <td>gender_Male</td>\n",
       "    </tr>\n",
       "    <tr>\n",
       "      <th>15</th>\n",
       "      <td>0.143707</td>\n",
       "      <td>insulin</td>\n",
       "    </tr>\n",
       "    <tr>\n",
       "      <th>14</th>\n",
       "      <td>0.128184</td>\n",
       "      <td>rosiglitazone</td>\n",
       "    </tr>\n",
       "    <tr>\n",
       "      <th>36</th>\n",
       "      <td>0.119713</td>\n",
       "      <td>max_glu_serum&amp;change</td>\n",
       "    </tr>\n",
       "    <tr>\n",
       "      <th>16</th>\n",
       "      <td>0.105656</td>\n",
       "      <td>race_Caucasian</td>\n",
       "    </tr>\n",
       "    <tr>\n",
       "      <th>29</th>\n",
       "      <td>0.068325</td>\n",
       "      <td>discharge_disposition_id_6</td>\n",
       "    </tr>\n",
       "    <tr>\n",
       "      <th>12</th>\n",
       "      <td>0.040959</td>\n",
       "      <td>glyburide</td>\n",
       "    </tr>\n",
       "    <tr>\n",
       "      <th>37</th>\n",
       "      <td>0.035799</td>\n",
       "      <td>max_glu_serum&amp;gender_Male</td>\n",
       "    </tr>\n",
       "    <tr>\n",
       "      <th>6</th>\n",
       "      <td>0.022077</td>\n",
       "      <td>max_glu_serum</td>\n",
       "    </tr>\n",
       "    <tr>\n",
       "      <th>30</th>\n",
       "      <td>0.015187</td>\n",
       "      <td>admission_source_id_7</td>\n",
       "    </tr>\n",
       "    <tr>\n",
       "      <th>2</th>\n",
       "      <td>0.013365</td>\n",
       "      <td>num_procedures</td>\n",
       "    </tr>\n",
       "    <tr>\n",
       "      <th>32</th>\n",
       "      <td>0.012484</td>\n",
       "      <td>A1Cresult&amp;max_glu_serum</td>\n",
       "    </tr>\n",
       "    <tr>\n",
       "      <th>1</th>\n",
       "      <td>0.000000</td>\n",
       "      <td>num_lab_procedures</td>\n",
       "    </tr>\n",
       "    <tr>\n",
       "      <th>27</th>\n",
       "      <td>-0.005328</td>\n",
       "      <td>admission_type_id_6</td>\n",
       "    </tr>\n",
       "    <tr>\n",
       "      <th>7</th>\n",
       "      <td>-0.020388</td>\n",
       "      <td>A1Cresult</td>\n",
       "    </tr>\n",
       "    <tr>\n",
       "      <th>34</th>\n",
       "      <td>-0.096224</td>\n",
       "      <td>A1Cresult&amp;gender_Male</td>\n",
       "    </tr>\n",
       "    <tr>\n",
       "      <th>35</th>\n",
       "      <td>-0.098196</td>\n",
       "      <td>A1Cresult&amp;diag_diabetes</td>\n",
       "    </tr>\n",
       "    <tr>\n",
       "      <th>24</th>\n",
       "      <td>-0.100102</td>\n",
       "      <td>admission_type_id_2</td>\n",
       "    </tr>\n",
       "    <tr>\n",
       "      <th>38</th>\n",
       "      <td>-0.108237</td>\n",
       "      <td>max_glu_serum&amp;diag_diabetes</td>\n",
       "    </tr>\n",
       "    <tr>\n",
       "      <th>11</th>\n",
       "      <td>-0.115142</td>\n",
       "      <td>glipizide</td>\n",
       "    </tr>\n",
       "    <tr>\n",
       "      <th>13</th>\n",
       "      <td>-0.222927</td>\n",
       "      <td>pioglitazone</td>\n",
       "    </tr>\n",
       "    <tr>\n",
       "      <th>25</th>\n",
       "      <td>-0.332320</td>\n",
       "      <td>admission_type_id_3</td>\n",
       "    </tr>\n",
       "    <tr>\n",
       "      <th>31</th>\n",
       "      <td>-0.526358</td>\n",
       "      <td>admission_source_id_17</td>\n",
       "    </tr>\n",
       "    <tr>\n",
       "      <th>8</th>\n",
       "      <td>-0.654575</td>\n",
       "      <td>change</td>\n",
       "    </tr>\n",
       "    <tr>\n",
       "      <th>3</th>\n",
       "      <td>-0.898202</td>\n",
       "      <td>number_outpatient</td>\n",
       "    </tr>\n",
       "  </tbody>\n",
       "</table>\n",
       "</div>"
      ],
      "text/plain": [
       "    Coefficients                     Features\n",
       "4       4.068422             number_emergency\n",
       "5       3.724272             number_inpatient\n",
       "0       0.968762             time_in_hospital\n",
       "22      0.886071                  age_[70-80)\n",
       "21      0.881042                  age_[60-70)\n",
       "23      0.606120                  age_[80-90)\n",
       "19      0.540750                  age_[40-50)\n",
       "28      0.450382   discharge_disposition_id_3\n",
       "18      0.422926                  age_[30-40)\n",
       "26      0.411134          admission_type_id_5\n",
       "20      0.315014                  age_[50-60)\n",
       "9       0.259616                diag_diabetes\n",
       "33      0.186407             A1Cresult&change\n",
       "10      0.172900                    metformin\n",
       "17      0.157990                  gender_Male\n",
       "15      0.143707                      insulin\n",
       "14      0.128184                rosiglitazone\n",
       "36      0.119713         max_glu_serum&change\n",
       "16      0.105656               race_Caucasian\n",
       "29      0.068325   discharge_disposition_id_6\n",
       "12      0.040959                    glyburide\n",
       "37      0.035799    max_glu_serum&gender_Male\n",
       "6       0.022077                max_glu_serum\n",
       "30      0.015187        admission_source_id_7\n",
       "2       0.013365               num_procedures\n",
       "32      0.012484      A1Cresult&max_glu_serum\n",
       "1       0.000000           num_lab_procedures\n",
       "27     -0.005328          admission_type_id_6\n",
       "7      -0.020388                    A1Cresult\n",
       "34     -0.096224        A1Cresult&gender_Male\n",
       "35     -0.098196      A1Cresult&diag_diabetes\n",
       "24     -0.100102          admission_type_id_2\n",
       "38     -0.108237  max_glu_serum&diag_diabetes\n",
       "11     -0.115142                    glipizide\n",
       "13     -0.222927                 pioglitazone\n",
       "25     -0.332320          admission_type_id_3\n",
       "31     -0.526358       admission_source_id_17\n",
       "8      -0.654575                       change\n",
       "3      -0.898202            number_outpatient"
      ]
     },
     "execution_count": 16,
     "metadata": {},
     "output_type": "execute_result"
    }
   ],
   "source": [
    "coefs.sort_values('Coefficients', ascending=False)"
   ]
  },
  {
   "cell_type": "code",
   "execution_count": 17,
   "metadata": {},
   "outputs": [
    {
     "data": {
      "image/png": "[encoded data removed]",
      "text/plain": [
       "<matplotlib.figure.Figure at 0x7f0b09572860>"
      ]
     },
     "metadata": {},
     "output_type": "display_data"
    }
   ],
   "source": [
    "# Plot Learning Curve to diagnose Model Bias or Variance\n",
    "title = \"Learning Curves (Logistic Regression with Lasso Penalty)\"\n",
    "# Cross validation with 100 iterations to get smoother mean test and train\n",
    "# score curves, each time with 20% data randomly selected as a validation set.\n",
    "cv = ShuffleSplit(n_splits=5, test_size=0.2, random_state=12)\n",
    "\n",
    "estimator = LogisticRegression(penalty='l1', solver='liblinear', C=1.0, n_jobs=-1, verbose=1, random_state=12)\n",
    "plot_learning_curve(estimator, title, X_ros, y_ros['readmitted'], cv=cv, n_jobs=-1)\n",
    "\n",
    "\n",
    "plt.show()"
   ]
  },
  {
   "cell_type": "code",
   "execution_count": 18,
   "metadata": {},
   "outputs": [
    {
     "data": {
      "image/png": "[encoded data removed]",
      "text/plain": [
       "<matplotlib.figure.Figure at 0x7f0b095cfe48>"
      ]
     },
     "metadata": {},
     "output_type": "display_data"
    }
   ],
   "source": [
    "# Plot Learning Curve to diagnose Model Bias or Variance\n",
    "title = \"Learning Curves (Logistic Regression with Lasso Penalty)\"\n",
    "# Cross validation with 100 iterations to get smoother mean test and train\n",
    "# score curves, each time with 20% data randomly selected as a validation set.\n",
    "cv = ShuffleSplit(n_splits=10, test_size=0.2, random_state=12)\n",
    "\n",
    "estimator = LogisticRegression(penalty='l1', solver='liblinear', C=1.0, n_jobs=-1, verbose=1, random_state=12)\n",
    "plot_learning_curve(estimator, title, X_ros, y_ros['readmitted'], cv=cv, n_jobs=-1)\n",
    "\n",
    "\n",
    "plt.show()"
   ]
  },
  {
   "cell_type": "code",
   "execution_count": 19,
   "metadata": {},
   "outputs": [
    {
     "name": "stdout",
     "output_type": "stream",
     "text": [
      "0.614252440656\n",
      "0.607941483804\n"
     ]
    }
   ],
   "source": [
    "# With Ridge penalty\n",
    "lr2.fit(X_ros, y_ros['readmitted'])\n",
    "print(lr2.score(X_ros, y_ros['readmitted']))\n",
    "print(lr2.score(X_test, y_test['readmitted']))\n",
    "y_pred2 = lr2.predict(X_test)"
   ]
  },
  {
   "cell_type": "code",
   "execution_count": 20,
   "metadata": {},
   "outputs": [
    {
     "data": {
      "text/plain": [
       "array([ 1.59228279])"
      ]
     },
     "execution_count": 20,
     "metadata": {},
     "output_type": "execute_result"
    }
   ],
   "source": [
    "# Best 'C' parameter\n",
    "lr2.C_"
   ]
  },
  {
   "cell_type": "code",
   "execution_count": 21,
   "metadata": {},
   "outputs": [
    {
     "data": {
      "text/html": [
       "<div>\n",
       "<style>\n",
       "    .dataframe thead tr:only-child th {\n",
       "        text-align: right;\n",
       "    }\n",
       "\n",
       "    .dataframe thead th {\n",
       "        text-align: left;\n",
       "    }\n",
       "\n",
       "    .dataframe tbody tr th {\n",
       "        vertical-align: top;\n",
       "    }\n",
       "</style>\n",
       "<table border=\"1\" class=\"dataframe\">\n",
       "  <thead>\n",
       "    <tr style=\"text-align: right;\">\n",
       "      <th></th>\n",
       "      <th>predicted_early_readmit</th>\n",
       "      <th>predicted_not_early_readmit</th>\n",
       "    </tr>\n",
       "  </thead>\n",
       "  <tbody>\n",
       "    <tr>\n",
       "      <th>is_early_readmit</th>\n",
       "      <td>230</td>\n",
       "      <td>187</td>\n",
       "    </tr>\n",
       "    <tr>\n",
       "      <th>not_early_readmit</th>\n",
       "      <td>1689</td>\n",
       "      <td>2679</td>\n",
       "    </tr>\n",
       "  </tbody>\n",
       "</table>\n",
       "</div>"
      ],
      "text/plain": [
       "                   predicted_early_readmit  predicted_not_early_readmit\n",
       "is_early_readmit                       230                          187\n",
       "not_early_readmit                     1689                         2679"
      ]
     },
     "execution_count": 21,
     "metadata": {},
     "output_type": "execute_result"
    }
   ],
   "source": [
    "# Confusion matrix\n",
    "conmat2 = np.array(confusion_matrix(y_test, y_pred2, labels=[1,0]))\n",
    "\n",
    "confusion2 = pd.DataFrame(conmat2, index=['is_early_readmit', 'not_early_readmit'],\n",
    "                         columns=['predicted_early_readmit','predicted_not_early_readmit'])\n",
    "confusion2"
   ]
  },
  {
   "cell_type": "code",
   "execution_count": 22,
   "metadata": {},
   "outputs": [
    {
     "name": "stdout",
     "output_type": "stream",
     "text": [
      "             precision    recall  f1-score   support\n",
      "\n",
      "          0       0.93      0.61      0.74      4368\n",
      "          1       0.12      0.55      0.20       417\n",
      "\n",
      "avg / total       0.86      0.61      0.69      4785\n",
      "\n"
     ]
    }
   ],
   "source": [
    "print(classification_report(y_test['readmitted'], y_pred2))"
   ]
  },
  {
   "cell_type": "code",
   "execution_count": 23,
   "metadata": {},
   "outputs": [
    {
     "data": {
      "text/plain": [
       "<module 'matplotlib.pyplot' from '/usr/local/lib/python3.5/site-packages/matplotlib/pyplot.py'>"
      ]
     },
     "execution_count": 23,
     "metadata": {},
     "output_type": "execute_result"
    },
    {
     "data": {
      "image/png": "[encoded data removed]",
      "text/plain": [
       "<matplotlib.figure.Figure at 0x7f0b095b40f0>"
      ]
     },
     "metadata": {},
     "output_type": "display_data"
    }
   ],
   "source": [
    "# Precision-Recall Curve\n",
    "precision_recall(y_test, y_pred2)"
   ]
  },
  {
   "cell_type": "code",
   "execution_count": 24,
   "metadata": {},
   "outputs": [
    {
     "data": {
      "text/plain": [
       "<module 'matplotlib.pyplot' from '/usr/local/lib/python3.5/site-packages/matplotlib/pyplot.py'>"
      ]
     },
     "execution_count": 24,
     "metadata": {},
     "output_type": "execute_result"
    },
    {
     "data": {
      "image/png": "[encoded data removed]",
      "text/plain": [
       "<matplotlib.figure.Figure at 0x7f0b095ea898>"
      ]
     },
     "metadata": {},
     "output_type": "display_data"
    }
   ],
   "source": [
    "# Recall-Precision Curve\n",
    "recall_precision(y_test, y_pred2)"
   ]
  },
  {
   "cell_type": "code",
   "execution_count": 25,
   "metadata": {},
   "outputs": [
    {
     "data": {
      "text/plain": [
       "<module 'matplotlib.pyplot' from '/usr/local/lib/python3.5/site-packages/matplotlib/pyplot.py'>"
      ]
     },
     "execution_count": 25,
     "metadata": {},
     "output_type": "execute_result"
    },
    {
     "data": {
      "image/png": "[encoded data removed]",
      "text/plain": [
       "<matplotlib.figure.Figure at 0x7f0b0954c5c0>"
      ]
     },
     "metadata": {},
     "output_type": "display_data"
    }
   ],
   "source": [
    "# AUROC curve\n",
    "auroc(y_test, y_pred2)"
   ]
  },
  {
   "cell_type": "code",
   "execution_count": 26,
   "metadata": {},
   "outputs": [
    {
     "data": {
      "text/html": [
       "<div>\n",
       "<style>\n",
       "    .dataframe thead tr:only-child th {\n",
       "        text-align: right;\n",
       "    }\n",
       "\n",
       "    .dataframe thead th {\n",
       "        text-align: left;\n",
       "    }\n",
       "\n",
       "    .dataframe tbody tr th {\n",
       "        vertical-align: top;\n",
       "    }\n",
       "</style>\n",
       "<table border=\"1\" class=\"dataframe\">\n",
       "  <thead>\n",
       "    <tr style=\"text-align: right;\">\n",
       "      <th></th>\n",
       "      <th>Coefficients</th>\n",
       "      <th>Features</th>\n",
       "    </tr>\n",
       "  </thead>\n",
       "  <tbody>\n",
       "    <tr>\n",
       "      <th>4</th>\n",
       "      <td>3.765635</td>\n",
       "      <td>number_emergency</td>\n",
       "    </tr>\n",
       "    <tr>\n",
       "      <th>5</th>\n",
       "      <td>3.663728</td>\n",
       "      <td>number_inpatient</td>\n",
       "    </tr>\n",
       "    <tr>\n",
       "      <th>0</th>\n",
       "      <td>0.966953</td>\n",
       "      <td>time_in_hospital</td>\n",
       "    </tr>\n",
       "    <tr>\n",
       "      <th>22</th>\n",
       "      <td>0.905556</td>\n",
       "      <td>age_[70-80)</td>\n",
       "    </tr>\n",
       "    <tr>\n",
       "      <th>21</th>\n",
       "      <td>0.900245</td>\n",
       "      <td>age_[60-70)</td>\n",
       "    </tr>\n",
       "    <tr>\n",
       "      <th>23</th>\n",
       "      <td>0.626350</td>\n",
       "      <td>age_[80-90)</td>\n",
       "    </tr>\n",
       "    <tr>\n",
       "      <th>19</th>\n",
       "      <td>0.563690</td>\n",
       "      <td>age_[40-50)</td>\n",
       "    </tr>\n",
       "    <tr>\n",
       "      <th>28</th>\n",
       "      <td>0.452891</td>\n",
       "      <td>discharge_disposition_id_3</td>\n",
       "    </tr>\n",
       "    <tr>\n",
       "      <th>18</th>\n",
       "      <td>0.447170</td>\n",
       "      <td>age_[30-40)</td>\n",
       "    </tr>\n",
       "    <tr>\n",
       "      <th>26</th>\n",
       "      <td>0.413854</td>\n",
       "      <td>admission_type_id_5</td>\n",
       "    </tr>\n",
       "    <tr>\n",
       "      <th>20</th>\n",
       "      <td>0.335370</td>\n",
       "      <td>age_[50-60)</td>\n",
       "    </tr>\n",
       "    <tr>\n",
       "      <th>9</th>\n",
       "      <td>0.262803</td>\n",
       "      <td>diag_diabetes</td>\n",
       "    </tr>\n",
       "    <tr>\n",
       "      <th>33</th>\n",
       "      <td>0.188755</td>\n",
       "      <td>A1Cresult&amp;change</td>\n",
       "    </tr>\n",
       "    <tr>\n",
       "      <th>10</th>\n",
       "      <td>0.173351</td>\n",
       "      <td>metformin</td>\n",
       "    </tr>\n",
       "    <tr>\n",
       "      <th>17</th>\n",
       "      <td>0.164154</td>\n",
       "      <td>gender_Male</td>\n",
       "    </tr>\n",
       "    <tr>\n",
       "      <th>15</th>\n",
       "      <td>0.145712</td>\n",
       "      <td>insulin</td>\n",
       "    </tr>\n",
       "    <tr>\n",
       "      <th>14</th>\n",
       "      <td>0.132635</td>\n",
       "      <td>rosiglitazone</td>\n",
       "    </tr>\n",
       "    <tr>\n",
       "      <th>36</th>\n",
       "      <td>0.123868</td>\n",
       "      <td>max_glu_serum&amp;change</td>\n",
       "    </tr>\n",
       "    <tr>\n",
       "      <th>16</th>\n",
       "      <td>0.107954</td>\n",
       "      <td>race_Caucasian</td>\n",
       "    </tr>\n",
       "    <tr>\n",
       "      <th>29</th>\n",
       "      <td>0.072835</td>\n",
       "      <td>discharge_disposition_id_6</td>\n",
       "    </tr>\n",
       "    <tr>\n",
       "      <th>12</th>\n",
       "      <td>0.042146</td>\n",
       "      <td>glyburide</td>\n",
       "    </tr>\n",
       "    <tr>\n",
       "      <th>37</th>\n",
       "      <td>0.034083</td>\n",
       "      <td>max_glu_serum&amp;gender_Male</td>\n",
       "    </tr>\n",
       "    <tr>\n",
       "      <th>6</th>\n",
       "      <td>0.023827</td>\n",
       "      <td>max_glu_serum</td>\n",
       "    </tr>\n",
       "    <tr>\n",
       "      <th>2</th>\n",
       "      <td>0.016474</td>\n",
       "      <td>num_procedures</td>\n",
       "    </tr>\n",
       "    <tr>\n",
       "      <th>30</th>\n",
       "      <td>0.015805</td>\n",
       "      <td>admission_source_id_7</td>\n",
       "    </tr>\n",
       "    <tr>\n",
       "      <th>32</th>\n",
       "      <td>0.012761</td>\n",
       "      <td>A1Cresult&amp;max_glu_serum</td>\n",
       "    </tr>\n",
       "    <tr>\n",
       "      <th>1</th>\n",
       "      <td>0.003032</td>\n",
       "      <td>num_lab_procedures</td>\n",
       "    </tr>\n",
       "    <tr>\n",
       "      <th>27</th>\n",
       "      <td>-0.007725</td>\n",
       "      <td>admission_type_id_6</td>\n",
       "    </tr>\n",
       "    <tr>\n",
       "      <th>7</th>\n",
       "      <td>-0.019417</td>\n",
       "      <td>A1Cresult</td>\n",
       "    </tr>\n",
       "    <tr>\n",
       "      <th>35</th>\n",
       "      <td>-0.099066</td>\n",
       "      <td>A1Cresult&amp;diag_diabetes</td>\n",
       "    </tr>\n",
       "    <tr>\n",
       "      <th>34</th>\n",
       "      <td>-0.099400</td>\n",
       "      <td>A1Cresult&amp;gender_Male</td>\n",
       "    </tr>\n",
       "    <tr>\n",
       "      <th>24</th>\n",
       "      <td>-0.102934</td>\n",
       "      <td>admission_type_id_2</td>\n",
       "    </tr>\n",
       "    <tr>\n",
       "      <th>38</th>\n",
       "      <td>-0.109806</td>\n",
       "      <td>max_glu_serum&amp;diag_diabetes</td>\n",
       "    </tr>\n",
       "    <tr>\n",
       "      <th>11</th>\n",
       "      <td>-0.115361</td>\n",
       "      <td>glipizide</td>\n",
       "    </tr>\n",
       "    <tr>\n",
       "      <th>13</th>\n",
       "      <td>-0.223785</td>\n",
       "      <td>pioglitazone</td>\n",
       "    </tr>\n",
       "    <tr>\n",
       "      <th>25</th>\n",
       "      <td>-0.336709</td>\n",
       "      <td>admission_type_id_3</td>\n",
       "    </tr>\n",
       "    <tr>\n",
       "      <th>31</th>\n",
       "      <td>-0.529156</td>\n",
       "      <td>admission_source_id_17</td>\n",
       "    </tr>\n",
       "    <tr>\n",
       "      <th>8</th>\n",
       "      <td>-0.662849</td>\n",
       "      <td>change</td>\n",
       "    </tr>\n",
       "    <tr>\n",
       "      <th>3</th>\n",
       "      <td>-0.984408</td>\n",
       "      <td>number_outpatient</td>\n",
       "    </tr>\n",
       "  </tbody>\n",
       "</table>\n",
       "</div>"
      ],
      "text/plain": [
       "    Coefficients                     Features\n",
       "4       3.765635             number_emergency\n",
       "5       3.663728             number_inpatient\n",
       "0       0.966953             time_in_hospital\n",
       "22      0.905556                  age_[70-80)\n",
       "21      0.900245                  age_[60-70)\n",
       "23      0.626350                  age_[80-90)\n",
       "19      0.563690                  age_[40-50)\n",
       "28      0.452891   discharge_disposition_id_3\n",
       "18      0.447170                  age_[30-40)\n",
       "26      0.413854          admission_type_id_5\n",
       "20      0.335370                  age_[50-60)\n",
       "9       0.262803                diag_diabetes\n",
       "33      0.188755             A1Cresult&change\n",
       "10      0.173351                    metformin\n",
       "17      0.164154                  gender_Male\n",
       "15      0.145712                      insulin\n",
       "14      0.132635                rosiglitazone\n",
       "36      0.123868         max_glu_serum&change\n",
       "16      0.107954               race_Caucasian\n",
       "29      0.072835   discharge_disposition_id_6\n",
       "12      0.042146                    glyburide\n",
       "37      0.034083    max_glu_serum&gender_Male\n",
       "6       0.023827                max_glu_serum\n",
       "2       0.016474               num_procedures\n",
       "30      0.015805        admission_source_id_7\n",
       "32      0.012761      A1Cresult&max_glu_serum\n",
       "1       0.003032           num_lab_procedures\n",
       "27     -0.007725          admission_type_id_6\n",
       "7      -0.019417                    A1Cresult\n",
       "35     -0.099066      A1Cresult&diag_diabetes\n",
       "34     -0.099400        A1Cresult&gender_Male\n",
       "24     -0.102934          admission_type_id_2\n",
       "38     -0.109806  max_glu_serum&diag_diabetes\n",
       "11     -0.115361                    glipizide\n",
       "13     -0.223785                 pioglitazone\n",
       "25     -0.336709          admission_type_id_3\n",
       "31     -0.529156       admission_source_id_17\n",
       "8      -0.662849                       change\n",
       "3      -0.984408            number_outpatient"
      ]
     },
     "execution_count": 26,
     "metadata": {},
     "output_type": "execute_result"
    }
   ],
   "source": [
    "# Importance of Coefficients\n",
    "coefs = pd.DataFrame(data={'Features':X_ros.columns, 'Coefficients':list(lr2.coef_[0])})\n",
    "coefs.sort_values('Coefficients', ascending=False)"
   ]
  },
  {
   "cell_type": "markdown",
   "metadata": {},
   "source": [
    "### RandomForest"
   ]
  },
  {
   "cell_type": "code",
   "execution_count": 27,
   "metadata": {
    "collapsed": true
   },
   "outputs": [],
   "source": [
    "rfc1 = RandomForestClassifier(n_estimators=50,max_features=10, criterion='gini', max_depth=3,n_jobs=-1,verbose=1, random_state=12)"
   ]
  },
  {
   "cell_type": "code",
   "execution_count": 28,
   "metadata": {},
   "outputs": [
    {
     "name": "stderr",
     "output_type": "stream",
     "text": [
      "[Parallel(n_jobs=-1)]: Done  46 tasks      | elapsed:    0.4s\n",
      "[Parallel(n_jobs=-1)]: Done  50 out of  50 | elapsed:    0.4s finished\n",
      "[Parallel(n_jobs=2)]: Done  46 tasks      | elapsed:    0.0s\n",
      "[Parallel(n_jobs=2)]: Done  50 out of  50 | elapsed:    0.1s finished\n"
     ]
    },
    {
     "name": "stdout",
     "output_type": "stream",
     "text": [
      "0.703354972992\n",
      "0.641170323929\n",
      "             precision    recall  f1-score   support\n",
      "\n",
      "          0       0.92      0.66      0.77      4368\n",
      "          1       0.11      0.42      0.17       417\n",
      "\n",
      "avg / total       0.85      0.64      0.72      4785\n",
      "\n"
     ]
    },
    {
     "name": "stderr",
     "output_type": "stream",
     "text": [
      "[Parallel(n_jobs=2)]: Done  46 tasks      | elapsed:    0.0s\n",
      "[Parallel(n_jobs=2)]: Done  50 out of  50 | elapsed:    0.0s finished\n",
      "[Parallel(n_jobs=2)]: Done  46 tasks      | elapsed:    0.0s\n",
      "[Parallel(n_jobs=2)]: Done  50 out of  50 | elapsed:    0.0s finished\n"
     ]
    }
   ],
   "source": [
    "rfc1.fit(X_ros, y_ros['readmitted'])\n",
    "print(rfc1.score(X_ros, y_ros['readmitted']))\n",
    "print(rfc1.score(X_test, y_test['readmitted']))\n",
    "y_pred3 = rfc1.predict(X_test)\n",
    "print(classification_report(y_test, y_pred3))"
   ]
  },
  {
   "cell_type": "code",
   "execution_count": 29,
   "metadata": {},
   "outputs": [
    {
     "data": {
      "text/html": [
       "<div>\n",
       "<style>\n",
       "    .dataframe thead tr:only-child th {\n",
       "        text-align: right;\n",
       "    }\n",
       "\n",
       "    .dataframe thead th {\n",
       "        text-align: left;\n",
       "    }\n",
       "\n",
       "    .dataframe tbody tr th {\n",
       "        vertical-align: top;\n",
       "    }\n",
       "</style>\n",
       "<table border=\"1\" class=\"dataframe\">\n",
       "  <thead>\n",
       "    <tr style=\"text-align: right;\">\n",
       "      <th></th>\n",
       "      <th>predicted_early_readmit</th>\n",
       "      <th>predicted_not_early_readmit</th>\n",
       "    </tr>\n",
       "  </thead>\n",
       "  <tbody>\n",
       "    <tr>\n",
       "      <th>is_early_readmit</th>\n",
       "      <td>176</td>\n",
       "      <td>241</td>\n",
       "    </tr>\n",
       "    <tr>\n",
       "      <th>not_early_readmit</th>\n",
       "      <td>1476</td>\n",
       "      <td>2892</td>\n",
       "    </tr>\n",
       "  </tbody>\n",
       "</table>\n",
       "</div>"
      ],
      "text/plain": [
       "                   predicted_early_readmit  predicted_not_early_readmit\n",
       "is_early_readmit                       176                          241\n",
       "not_early_readmit                     1476                         2892"
      ]
     },
     "execution_count": 29,
     "metadata": {},
     "output_type": "execute_result"
    }
   ],
   "source": [
    "# Confusion matrix\n",
    "conmat3 = np.array(confusion_matrix(y_test, y_pred3, labels=[1,0]))\n",
    "\n",
    "confusion3 = pd.DataFrame(conmat3, index=['is_early_readmit', 'not_early_readmit'],\n",
    "                         columns=['predicted_early_readmit','predicted_not_early_readmit'])\n",
    "confusion3"
   ]
  },
  {
   "cell_type": "code",
   "execution_count": 30,
   "metadata": {},
   "outputs": [
    {
     "data": {
      "text/plain": [
       "<module 'matplotlib.pyplot' from '/usr/local/lib/python3.5/site-packages/matplotlib/pyplot.py'>"
      ]
     },
     "execution_count": 30,
     "metadata": {},
     "output_type": "execute_result"
    },
    {
     "data": {
      "image/png": "[encoded data removed]",
      "text/plain": [
       "<matplotlib.figure.Figure at 0x7f0b48762b38>"
      ]
     },
     "metadata": {},
     "output_type": "display_data"
    }
   ],
   "source": [
    "# Precision-Recall Curve\n",
    "precision_recall(y_test, y_pred2)"
   ]
  },
  {
   "cell_type": "code",
   "execution_count": 31,
   "metadata": {},
   "outputs": [
    {
     "data": {
      "text/plain": [
       "<module 'matplotlib.pyplot' from '/usr/local/lib/python3.5/site-packages/matplotlib/pyplot.py'>"
      ]
     },
     "execution_count": 31,
     "metadata": {},
     "output_type": "execute_result"
    },
    {
     "data": {
      "image/png": "[encoded data removed]",
      "text/plain": [
       "<matplotlib.figure.Figure at 0x7f0b095f6588>"
      ]
     },
     "metadata": {},
     "output_type": "display_data"
    }
   ],
   "source": [
    "# Recall-Precision Curve\n",
    "recall_precision(y_test, y_pred2)"
   ]
  },
  {
   "cell_type": "code",
   "execution_count": 32,
   "metadata": {},
   "outputs": [
    {
     "data": {
      "text/plain": [
       "<module 'matplotlib.pyplot' from '/usr/local/lib/python3.5/site-packages/matplotlib/pyplot.py'>"
      ]
     },
     "execution_count": 32,
     "metadata": {},
     "output_type": "execute_result"
    },
    {
     "data": {
      "image/png": "[encoded data removed]",
      "text/plain": [
       "<matplotlib.figure.Figure at 0x7f0b08cb5390>"
      ]
     },
     "metadata": {},
     "output_type": "display_data"
    }
   ],
   "source": [
    "# AUROC curve\n",
    "auroc(y_test, y_pred3)"
   ]
  },
  {
   "cell_type": "code",
   "execution_count": 33,
   "metadata": {},
   "outputs": [
    {
     "data": {
      "text/html": [
       "<div>\n",
       "<style>\n",
       "    .dataframe thead tr:only-child th {\n",
       "        text-align: right;\n",
       "    }\n",
       "\n",
       "    .dataframe thead th {\n",
       "        text-align: left;\n",
       "    }\n",
       "\n",
       "    .dataframe tbody tr th {\n",
       "        vertical-align: top;\n",
       "    }\n",
       "</style>\n",
       "<table border=\"1\" class=\"dataframe\">\n",
       "  <thead>\n",
       "    <tr style=\"text-align: right;\">\n",
       "      <th></th>\n",
       "      <th>Features</th>\n",
       "      <th>Importance</th>\n",
       "    </tr>\n",
       "  </thead>\n",
       "  <tbody>\n",
       "    <tr>\n",
       "      <th>0</th>\n",
       "      <td>time_in_hospital</td>\n",
       "      <td>0.240452</td>\n",
       "    </tr>\n",
       "    <tr>\n",
       "      <th>20</th>\n",
       "      <td>age_[50-60)</td>\n",
       "      <td>0.152445</td>\n",
       "    </tr>\n",
       "    <tr>\n",
       "      <th>16</th>\n",
       "      <td>race_Caucasian</td>\n",
       "      <td>0.129067</td>\n",
       "    </tr>\n",
       "    <tr>\n",
       "      <th>28</th>\n",
       "      <td>discharge_disposition_id_3</td>\n",
       "      <td>0.110352</td>\n",
       "    </tr>\n",
       "    <tr>\n",
       "      <th>5</th>\n",
       "      <td>number_inpatient</td>\n",
       "      <td>0.109755</td>\n",
       "    </tr>\n",
       "    <tr>\n",
       "      <th>2</th>\n",
       "      <td>num_procedures</td>\n",
       "      <td>0.093021</td>\n",
       "    </tr>\n",
       "    <tr>\n",
       "      <th>21</th>\n",
       "      <td>age_[60-70)</td>\n",
       "      <td>0.036792</td>\n",
       "    </tr>\n",
       "    <tr>\n",
       "      <th>11</th>\n",
       "      <td>glipizide</td>\n",
       "      <td>0.020614</td>\n",
       "    </tr>\n",
       "    <tr>\n",
       "      <th>4</th>\n",
       "      <td>number_emergency</td>\n",
       "      <td>0.012916</td>\n",
       "    </tr>\n",
       "    <tr>\n",
       "      <th>25</th>\n",
       "      <td>admission_type_id_3</td>\n",
       "      <td>0.011667</td>\n",
       "    </tr>\n",
       "    <tr>\n",
       "      <th>30</th>\n",
       "      <td>admission_source_id_7</td>\n",
       "      <td>0.010574</td>\n",
       "    </tr>\n",
       "    <tr>\n",
       "      <th>22</th>\n",
       "      <td>age_[70-80)</td>\n",
       "      <td>0.010150</td>\n",
       "    </tr>\n",
       "    <tr>\n",
       "      <th>23</th>\n",
       "      <td>age_[80-90)</td>\n",
       "      <td>0.008187</td>\n",
       "    </tr>\n",
       "    <tr>\n",
       "      <th>29</th>\n",
       "      <td>discharge_disposition_id_6</td>\n",
       "      <td>0.006998</td>\n",
       "    </tr>\n",
       "    <tr>\n",
       "      <th>10</th>\n",
       "      <td>metformin</td>\n",
       "      <td>0.006306</td>\n",
       "    </tr>\n",
       "    <tr>\n",
       "      <th>27</th>\n",
       "      <td>admission_type_id_6</td>\n",
       "      <td>0.005726</td>\n",
       "    </tr>\n",
       "    <tr>\n",
       "      <th>35</th>\n",
       "      <td>A1Cresult&amp;diag_diabetes</td>\n",
       "      <td>0.005357</td>\n",
       "    </tr>\n",
       "    <tr>\n",
       "      <th>9</th>\n",
       "      <td>diag_diabetes</td>\n",
       "      <td>0.004870</td>\n",
       "    </tr>\n",
       "    <tr>\n",
       "      <th>7</th>\n",
       "      <td>A1Cresult</td>\n",
       "      <td>0.004549</td>\n",
       "    </tr>\n",
       "    <tr>\n",
       "      <th>19</th>\n",
       "      <td>age_[40-50)</td>\n",
       "      <td>0.003613</td>\n",
       "    </tr>\n",
       "    <tr>\n",
       "      <th>3</th>\n",
       "      <td>number_outpatient</td>\n",
       "      <td>0.003591</td>\n",
       "    </tr>\n",
       "    <tr>\n",
       "      <th>18</th>\n",
       "      <td>age_[30-40)</td>\n",
       "      <td>0.002333</td>\n",
       "    </tr>\n",
       "    <tr>\n",
       "      <th>15</th>\n",
       "      <td>insulin</td>\n",
       "      <td>0.002220</td>\n",
       "    </tr>\n",
       "    <tr>\n",
       "      <th>31</th>\n",
       "      <td>admission_source_id_17</td>\n",
       "      <td>0.001535</td>\n",
       "    </tr>\n",
       "    <tr>\n",
       "      <th>1</th>\n",
       "      <td>num_lab_procedures</td>\n",
       "      <td>0.001512</td>\n",
       "    </tr>\n",
       "    <tr>\n",
       "      <th>24</th>\n",
       "      <td>admission_type_id_2</td>\n",
       "      <td>0.001225</td>\n",
       "    </tr>\n",
       "    <tr>\n",
       "      <th>12</th>\n",
       "      <td>glyburide</td>\n",
       "      <td>0.001043</td>\n",
       "    </tr>\n",
       "    <tr>\n",
       "      <th>14</th>\n",
       "      <td>rosiglitazone</td>\n",
       "      <td>0.000971</td>\n",
       "    </tr>\n",
       "    <tr>\n",
       "      <th>38</th>\n",
       "      <td>max_glu_serum&amp;diag_diabetes</td>\n",
       "      <td>0.000659</td>\n",
       "    </tr>\n",
       "    <tr>\n",
       "      <th>37</th>\n",
       "      <td>max_glu_serum&amp;gender_Male</td>\n",
       "      <td>0.000527</td>\n",
       "    </tr>\n",
       "    <tr>\n",
       "      <th>34</th>\n",
       "      <td>A1Cresult&amp;gender_Male</td>\n",
       "      <td>0.000507</td>\n",
       "    </tr>\n",
       "    <tr>\n",
       "      <th>13</th>\n",
       "      <td>pioglitazone</td>\n",
       "      <td>0.000466</td>\n",
       "    </tr>\n",
       "    <tr>\n",
       "      <th>6</th>\n",
       "      <td>max_glu_serum</td>\n",
       "      <td>0.000000</td>\n",
       "    </tr>\n",
       "    <tr>\n",
       "      <th>26</th>\n",
       "      <td>admission_type_id_5</td>\n",
       "      <td>0.000000</td>\n",
       "    </tr>\n",
       "    <tr>\n",
       "      <th>32</th>\n",
       "      <td>A1Cresult&amp;max_glu_serum</td>\n",
       "      <td>0.000000</td>\n",
       "    </tr>\n",
       "    <tr>\n",
       "      <th>33</th>\n",
       "      <td>A1Cresult&amp;change</td>\n",
       "      <td>0.000000</td>\n",
       "    </tr>\n",
       "    <tr>\n",
       "      <th>17</th>\n",
       "      <td>gender_Male</td>\n",
       "      <td>0.000000</td>\n",
       "    </tr>\n",
       "    <tr>\n",
       "      <th>36</th>\n",
       "      <td>max_glu_serum&amp;change</td>\n",
       "      <td>0.000000</td>\n",
       "    </tr>\n",
       "    <tr>\n",
       "      <th>8</th>\n",
       "      <td>change</td>\n",
       "      <td>0.000000</td>\n",
       "    </tr>\n",
       "  </tbody>\n",
       "</table>\n",
       "</div>"
      ],
      "text/plain": [
       "                       Features  Importance\n",
       "0              time_in_hospital    0.240452\n",
       "20                  age_[50-60)    0.152445\n",
       "16               race_Caucasian    0.129067\n",
       "28   discharge_disposition_id_3    0.110352\n",
       "5              number_inpatient    0.109755\n",
       "2                num_procedures    0.093021\n",
       "21                  age_[60-70)    0.036792\n",
       "11                    glipizide    0.020614\n",
       "4              number_emergency    0.012916\n",
       "25          admission_type_id_3    0.011667\n",
       "30        admission_source_id_7    0.010574\n",
       "22                  age_[70-80)    0.010150\n",
       "23                  age_[80-90)    0.008187\n",
       "29   discharge_disposition_id_6    0.006998\n",
       "10                    metformin    0.006306\n",
       "27          admission_type_id_6    0.005726\n",
       "35      A1Cresult&diag_diabetes    0.005357\n",
       "9                 diag_diabetes    0.004870\n",
       "7                     A1Cresult    0.004549\n",
       "19                  age_[40-50)    0.003613\n",
       "3             number_outpatient    0.003591\n",
       "18                  age_[30-40)    0.002333\n",
       "15                      insulin    0.002220\n",
       "31       admission_source_id_17    0.001535\n",
       "1            num_lab_procedures    0.001512\n",
       "24          admission_type_id_2    0.001225\n",
       "12                    glyburide    0.001043\n",
       "14                rosiglitazone    0.000971\n",
       "38  max_glu_serum&diag_diabetes    0.000659\n",
       "37    max_glu_serum&gender_Male    0.000527\n",
       "34        A1Cresult&gender_Male    0.000507\n",
       "13                 pioglitazone    0.000466\n",
       "6                 max_glu_serum    0.000000\n",
       "26          admission_type_id_5    0.000000\n",
       "32      A1Cresult&max_glu_serum    0.000000\n",
       "33             A1Cresult&change    0.000000\n",
       "17                  gender_Male    0.000000\n",
       "36         max_glu_serum&change    0.000000\n",
       "8                        change    0.000000"
      ]
     },
     "execution_count": 33,
     "metadata": {},
     "output_type": "execute_result"
    }
   ],
   "source": [
    "# Feature Importance\n",
    "coefs = pd.DataFrame(data={'Features':X_ros.columns, 'Importance':list(rfc1.feature_importances_)})\n",
    "coefs.sort_values('Importance', ascending=False)"
   ]
  },
  {
   "cell_type": "markdown",
   "metadata": {},
   "source": [
    "### XGBOOST"
   ]
  },
  {
   "cell_type": "code",
   "execution_count": 34,
   "metadata": {
    "collapsed": true
   },
   "outputs": [],
   "source": [
    "X_ros.columns = X_ros.columns.str.replace('-','_')\n",
    "X_ros.columns = X_ros.columns.str.replace('[','(')"
   ]
  },
  {
   "cell_type": "code",
   "execution_count": 35,
   "metadata": {
    "collapsed": true
   },
   "outputs": [],
   "source": [
    "X_test.columns = X_test.columns.str.replace('-','_')\n",
    "X_test.columns = X_test.columns.str.replace('[','(')"
   ]
  },
  {
   "cell_type": "code",
   "execution_count": 36,
   "metadata": {},
   "outputs": [
    {
     "name": "stdout",
     "output_type": "stream",
     "text": [
      "0.609594132514\n",
      "0.481922675026\n"
     ]
    }
   ],
   "source": [
    "xgb1 = XGBClassifier(booster='gblinear', reg_alpha=1, learning_rate=0.15, scale_pos_weight=1.2, random_state=12, n_jobs=-1)\n",
    "xgb1.fit(X_ros, y_ros['readmitted'])\n",
    "print(xgb1.score(X_ros, y_ros['readmitted']))\n",
    "print(xgb1.score(X_test, y_test['readmitted']))\n",
    "y_pred4 = xgb1.predict(X_test)"
   ]
  },
  {
   "cell_type": "code",
   "execution_count": 37,
   "metadata": {
    "scrolled": true
   },
   "outputs": [
    {
     "data": {
      "text/html": [
       "<div>\n",
       "<style>\n",
       "    .dataframe thead tr:only-child th {\n",
       "        text-align: right;\n",
       "    }\n",
       "\n",
       "    .dataframe thead th {\n",
       "        text-align: left;\n",
       "    }\n",
       "\n",
       "    .dataframe tbody tr th {\n",
       "        vertical-align: top;\n",
       "    }\n",
       "</style>\n",
       "<table border=\"1\" class=\"dataframe\">\n",
       "  <thead>\n",
       "    <tr style=\"text-align: right;\">\n",
       "      <th></th>\n",
       "      <th>predicted_early_readmit</th>\n",
       "      <th>predicted_not_early_readmit</th>\n",
       "    </tr>\n",
       "  </thead>\n",
       "  <tbody>\n",
       "    <tr>\n",
       "      <th>is_early_readmit</th>\n",
       "      <td>285</td>\n",
       "      <td>132</td>\n",
       "    </tr>\n",
       "    <tr>\n",
       "      <th>not_early_readmit</th>\n",
       "      <td>2347</td>\n",
       "      <td>2021</td>\n",
       "    </tr>\n",
       "  </tbody>\n",
       "</table>\n",
       "</div>"
      ],
      "text/plain": [
       "                   predicted_early_readmit  predicted_not_early_readmit\n",
       "is_early_readmit                       285                          132\n",
       "not_early_readmit                     2347                         2021"
      ]
     },
     "execution_count": 37,
     "metadata": {},
     "output_type": "execute_result"
    }
   ],
   "source": [
    "# Confusion matrix\n",
    "conmat4 = np.array(confusion_matrix(y_test, y_pred4, labels=[1,0]))\n",
    "\n",
    "confusion4 = pd.DataFrame(conmat4, index=['is_early_readmit', 'not_early_readmit'],\n",
    "                         columns=['predicted_early_readmit','predicted_not_early_readmit'])\n",
    "confusion4"
   ]
  },
  {
   "cell_type": "code",
   "execution_count": 38,
   "metadata": {
    "scrolled": true
   },
   "outputs": [
    {
     "name": "stdout",
     "output_type": "stream",
     "text": [
      "             precision    recall  f1-score   support\n",
      "\n",
      "          0       0.94      0.46      0.62      4368\n",
      "          1       0.11      0.68      0.19       417\n",
      "\n",
      "avg / total       0.87      0.48      0.58      4785\n",
      "\n"
     ]
    }
   ],
   "source": [
    "print(classification_report(y_test, y_pred4))"
   ]
  },
  {
   "cell_type": "code",
   "execution_count": 39,
   "metadata": {},
   "outputs": [
    {
     "data": {
      "text/plain": [
       "<module 'matplotlib.pyplot' from '/usr/local/lib/python3.5/site-packages/matplotlib/pyplot.py'>"
      ]
     },
     "execution_count": 39,
     "metadata": {},
     "output_type": "execute_result"
    },
    {
     "data": {
      "image/png": "[encoded data removed]",
      "text/plain": [
       "<matplotlib.figure.Figure at 0x7f0b08c69278>"
      ]
     },
     "metadata": {},
     "output_type": "display_data"
    }
   ],
   "source": [
    "# Precision-Recall Curve\n",
    "precision_recall(y_test, y_pred4)"
   ]
  },
  {
   "cell_type": "code",
   "execution_count": 40,
   "metadata": {},
   "outputs": [
    {
     "data": {
      "text/plain": [
       "<module 'matplotlib.pyplot' from '/usr/local/lib/python3.5/site-packages/matplotlib/pyplot.py'>"
      ]
     },
     "execution_count": 40,
     "metadata": {},
     "output_type": "execute_result"
    },
    {
     "data": {
      "image/png": "[encoded data removed]",
      "text/plain": [
       "<matplotlib.figure.Figure at 0x7f0b09727588>"
      ]
     },
     "metadata": {},
     "output_type": "display_data"
    }
   ],
   "source": [
    "# Recall-Precision Curve\n",
    "recall_precision(y_test, y_pred4)"
   ]
  },
  {
   "cell_type": "code",
   "execution_count": 41,
   "metadata": {},
   "outputs": [
    {
     "data": {
      "text/plain": [
       "<module 'matplotlib.pyplot' from '/usr/local/lib/python3.5/site-packages/matplotlib/pyplot.py'>"
      ]
     },
     "execution_count": 41,
     "metadata": {},
     "output_type": "execute_result"
    },
    {
     "data": {
      "image/png": "[encoded data removed]",
      "text/plain": [
       "<matplotlib.figure.Figure at 0x7f0b08393128>"
      ]
     },
     "metadata": {},
     "output_type": "display_data"
    }
   ],
   "source": [
    "auroc(y_test, y_pred4)"
   ]
  },
  {
   "cell_type": "code",
   "execution_count": 42,
   "metadata": {},
   "outputs": [
    {
     "name": "stdout",
     "output_type": "stream",
     "text": [
      "0.614698448883\n",
      "0.607314524556\n"
     ]
    }
   ],
   "source": [
    "xgb2 = XGBClassifier(booster='gblinear', reg_alpha=1, learning_rate=0.15, missing=0, random_state=12, n_jobs=-1)\n",
    "xgb2.fit(X_ros, y_ros['readmitted'])\n",
    "print(xgb2.score(X_ros, y_ros['readmitted']))\n",
    "print(xgb2.score(X_test, y_test['readmitted']))\n",
    "y_pred5 = xgb2.predict(X_test)"
   ]
  },
  {
   "cell_type": "code",
   "execution_count": 43,
   "metadata": {},
   "outputs": [
    {
     "data": {
      "text/html": [
       "<div>\n",
       "<style>\n",
       "    .dataframe thead tr:only-child th {\n",
       "        text-align: right;\n",
       "    }\n",
       "\n",
       "    .dataframe thead th {\n",
       "        text-align: left;\n",
       "    }\n",
       "\n",
       "    .dataframe tbody tr th {\n",
       "        vertical-align: top;\n",
       "    }\n",
       "</style>\n",
       "<table border=\"1\" class=\"dataframe\">\n",
       "  <thead>\n",
       "    <tr style=\"text-align: right;\">\n",
       "      <th></th>\n",
       "      <th>predicted_early_readmit</th>\n",
       "      <th>predicted_not_early_readmit</th>\n",
       "    </tr>\n",
       "  </thead>\n",
       "  <tbody>\n",
       "    <tr>\n",
       "      <th>is_early_readmit</th>\n",
       "      <td>240</td>\n",
       "      <td>177</td>\n",
       "    </tr>\n",
       "    <tr>\n",
       "      <th>not_early_readmit</th>\n",
       "      <td>1702</td>\n",
       "      <td>2666</td>\n",
       "    </tr>\n",
       "  </tbody>\n",
       "</table>\n",
       "</div>"
      ],
      "text/plain": [
       "                   predicted_early_readmit  predicted_not_early_readmit\n",
       "is_early_readmit                       240                          177\n",
       "not_early_readmit                     1702                         2666"
      ]
     },
     "execution_count": 43,
     "metadata": {},
     "output_type": "execute_result"
    }
   ],
   "source": [
    "conmat5 = np.array(confusion_matrix(y_test, y_pred5, labels=[1,0]))\n",
    "\n",
    "confusion = pd.DataFrame(conmat5, index=['is_early_readmit', 'not_early_readmit'],\n",
    "                         columns=['predicted_early_readmit','predicted_not_early_readmit'])\n",
    "confusion"
   ]
  },
  {
   "cell_type": "code",
   "execution_count": 44,
   "metadata": {
    "scrolled": true
   },
   "outputs": [
    {
     "name": "stdout",
     "output_type": "stream",
     "text": [
      "             precision    recall  f1-score   support\n",
      "\n",
      "          0       0.94      0.61      0.74      4368\n",
      "          1       0.12      0.58      0.20       417\n",
      "\n",
      "avg / total       0.87      0.61      0.69      4785\n",
      "\n"
     ]
    }
   ],
   "source": [
    "print(classification_report(y_test, y_pred5))"
   ]
  },
  {
   "cell_type": "code",
   "execution_count": 45,
   "metadata": {},
   "outputs": [
    {
     "data": {
      "text/plain": [
       "<module 'matplotlib.pyplot' from '/usr/local/lib/python3.5/site-packages/matplotlib/pyplot.py'>"
      ]
     },
     "execution_count": 45,
     "metadata": {},
     "output_type": "execute_result"
    },
    {
     "data": {
      "image/png": "[encoded data removed]",
      "text/plain": [
       "<matplotlib.figure.Figure at 0x7f0b082b7128>"
      ]
     },
     "metadata": {},
     "output_type": "display_data"
    }
   ],
   "source": [
    "# Precision-Recall Curve\n",
    "precision_recall(y_test, y_pred5)"
   ]
  },
  {
   "cell_type": "code",
   "execution_count": 46,
   "metadata": {},
   "outputs": [
    {
     "data": {
      "text/plain": [
       "<module 'matplotlib.pyplot' from '/usr/local/lib/python3.5/site-packages/matplotlib/pyplot.py'>"
      ]
     },
     "execution_count": 46,
     "metadata": {},
     "output_type": "execute_result"
    },
    {
     "data": {
      "image/png": "[encoded data removed]",
      "text/plain": [
       "<matplotlib.figure.Figure at 0x7f0b083c8518>"
      ]
     },
     "metadata": {},
     "output_type": "display_data"
    }
   ],
   "source": [
    "# Recall-Precision Curve\n",
    "recall_precision(y_test, y_pred5)"
   ]
  },
  {
   "cell_type": "code",
   "execution_count": 47,
   "metadata": {},
   "outputs": [
    {
     "data": {
      "text/plain": [
       "<module 'matplotlib.pyplot' from '/usr/local/lib/python3.5/site-packages/matplotlib/pyplot.py'>"
      ]
     },
     "execution_count": 47,
     "metadata": {},
     "output_type": "execute_result"
    },
    {
     "data": {
      "image/png": "[encoded data removed]",
      "text/plain": [
       "<matplotlib.figure.Figure at 0x7f0b08257208>"
      ]
     },
     "metadata": {},
     "output_type": "display_data"
    }
   ],
   "source": [
    "auroc(y_test, y_pred5)"
   ]
  },
  {
   "cell_type": "markdown",
   "metadata": {},
   "source": [
    "### Deep Learning"
   ]
  },
  {
   "cell_type": "code",
   "execution_count": 48,
   "metadata": {
    "collapsed": true
   },
   "outputs": [],
   "source": [
    "# DeepLearning Try 1\n",
    "#https://keras.io/getting-started/sequential-model-guide/"
   ]
  },
  {
   "cell_type": "code",
   "execution_count": 49,
   "metadata": {},
   "outputs": [
    {
     "name": "stderr",
     "output_type": "stream",
     "text": [
      "Using TensorFlow backend.\n"
     ]
    },
    {
     "name": "stdout",
     "output_type": "stream",
     "text": [
      "Epoch 1/100\n",
      "20179/20179 [==============================] - 0s - loss: 0.7100 - acc: 0.5193     \n",
      "Epoch 2/100\n",
      "20179/20179 [==============================] - 0s - loss: 0.6839 - acc: 0.5533     \n",
      "Epoch 3/100\n",
      "20179/20179 [==============================] - 0s - loss: 0.6740 - acc: 0.5796     \n",
      "Epoch 4/100\n",
      "20179/20179 [==============================] - 0s - loss: 0.6610 - acc: 0.6044     \n",
      "Epoch 5/100\n",
      "20179/20179 [==============================] - 0s - loss: 0.6495 - acc: 0.6223     \n",
      "Epoch 6/100\n",
      "20179/20179 [==============================] - 0s - loss: 0.6394 - acc: 0.6367     \n",
      "Epoch 7/100\n",
      "20179/20179 [==============================] - 0s - loss: 0.6249 - acc: 0.6543     \n",
      "Epoch 8/100\n",
      "20179/20179 [==============================] - 0s - loss: 0.6148 - acc: 0.6647     \n",
      "Epoch 9/100\n",
      "20179/20179 [==============================] - 0s - loss: 0.5999 - acc: 0.6795     \n",
      "Epoch 10/100\n",
      "20179/20179 [==============================] - 0s - loss: 0.5914 - acc: 0.6851     \n",
      "Epoch 11/100\n",
      "20179/20179 [==============================] - 0s - loss: 0.5819 - acc: 0.6927     \n",
      "Epoch 12/100\n",
      "20179/20179 [==============================] - 0s - loss: 0.5745 - acc: 0.6983     \n",
      "Epoch 13/100\n",
      "20179/20179 [==============================] - 0s - loss: 0.5622 - acc: 0.7126     \n",
      "Epoch 14/100\n",
      "20179/20179 [==============================] - 0s - loss: 0.5530 - acc: 0.7150     \n",
      "Epoch 15/100\n",
      "20179/20179 [==============================] - 0s - loss: 0.5521 - acc: 0.7211     \n",
      "Epoch 16/100\n",
      "20179/20179 [==============================] - 0s - loss: 0.5391 - acc: 0.7306     \n",
      "Epoch 17/100\n",
      "20179/20179 [==============================] - 0s - loss: 0.5291 - acc: 0.7361     \n",
      "Epoch 18/100\n",
      "20179/20179 [==============================] - 0s - loss: 0.5263 - acc: 0.7433     \n",
      "Epoch 19/100\n",
      "20179/20179 [==============================] - 0s - loss: 0.5194 - acc: 0.7463     \n",
      "Epoch 20/100\n",
      "20179/20179 [==============================] - 0s - loss: 0.5157 - acc: 0.7468     \n",
      "Epoch 21/100\n",
      "20179/20179 [==============================] - 0s - loss: 0.5111 - acc: 0.7508     \n",
      "Epoch 22/100\n",
      "20179/20179 [==============================] - 0s - loss: 0.5019 - acc: 0.7570     \n",
      "Epoch 23/100\n",
      "20179/20179 [==============================] - 0s - loss: 0.5035 - acc: 0.7589     \n",
      "Epoch 24/100\n",
      "20179/20179 [==============================] - 0s - loss: 0.5021 - acc: 0.7592     \n",
      "Epoch 25/100\n",
      "20179/20179 [==============================] - 0s - loss: 0.4914 - acc: 0.7659     \n",
      "Epoch 26/100\n",
      "20179/20179 [==============================] - 0s - loss: 0.4891 - acc: 0.7653     \n",
      "Epoch 27/100\n",
      "20179/20179 [==============================] - 0s - loss: 0.4847 - acc: 0.7676     \n",
      "Epoch 28/100\n",
      "20179/20179 [==============================] - 0s - loss: 0.4787 - acc: 0.7789     \n",
      "Epoch 29/100\n",
      "20179/20179 [==============================] - 0s - loss: 0.4754 - acc: 0.7787     \n",
      "Epoch 30/100\n",
      "20179/20179 [==============================] - 0s - loss: 0.4748 - acc: 0.7768     \n",
      "Epoch 31/100\n",
      "20179/20179 [==============================] - 0s - loss: 0.4776 - acc: 0.7760     \n",
      "Epoch 32/100\n",
      "20179/20179 [==============================] - 0s - loss: 0.4669 - acc: 0.7817     \n",
      "Epoch 33/100\n",
      "20179/20179 [==============================] - 0s - loss: 0.4712 - acc: 0.7836     \n",
      "Epoch 34/100\n",
      "20179/20179 [==============================] - 0s - loss: 0.4654 - acc: 0.7838     \n",
      "Epoch 35/100\n",
      "20179/20179 [==============================] - 0s - loss: 0.4609 - acc: 0.7869     \n",
      "Epoch 36/100\n",
      "20179/20179 [==============================] - 0s - loss: 0.4591 - acc: 0.7879     \n",
      "Epoch 37/100\n",
      "20179/20179 [==============================] - 0s - loss: 0.4552 - acc: 0.7901     \n",
      "Epoch 38/100\n",
      "20179/20179 [==============================] - 0s - loss: 0.4590 - acc: 0.7880     \n",
      "Epoch 39/100\n",
      "20179/20179 [==============================] - 0s - loss: 0.4531 - acc: 0.7922     \n",
      "Epoch 40/100\n",
      "20179/20179 [==============================] - 0s - loss: 0.4492 - acc: 0.7933     \n",
      "Epoch 41/100\n",
      "20179/20179 [==============================] - 0s - loss: 0.4500 - acc: 0.7913     \n",
      "Epoch 42/100\n",
      "20179/20179 [==============================] - 0s - loss: 0.4517 - acc: 0.7955     \n",
      "Epoch 43/100\n",
      "20179/20179 [==============================] - 0s - loss: 0.4497 - acc: 0.7907     \n",
      "Epoch 44/100\n",
      "20179/20179 [==============================] - 0s - loss: 0.4459 - acc: 0.7991     \n",
      "Epoch 45/100\n",
      "20179/20179 [==============================] - 0s - loss: 0.4411 - acc: 0.8006     \n",
      "Epoch 46/100\n",
      "20179/20179 [==============================] - 0s - loss: 0.4411 - acc: 0.8015     \n",
      "Epoch 47/100\n",
      "20179/20179 [==============================] - 0s - loss: 0.4362 - acc: 0.8018     \n",
      "Epoch 48/100\n",
      "20179/20179 [==============================] - 0s - loss: 0.4386 - acc: 0.8044     \n",
      "Epoch 49/100\n",
      "20179/20179 [==============================] - 0s - loss: 0.4299 - acc: 0.8088     \n",
      "Epoch 50/100\n",
      "20179/20179 [==============================] - 0s - loss: 0.4381 - acc: 0.8028     \n",
      "Epoch 51/100\n",
      "20179/20179 [==============================] - 0s - loss: 0.4309 - acc: 0.8082     \n",
      "Epoch 52/100\n",
      "20179/20179 [==============================] - 0s - loss: 0.4364 - acc: 0.8037     \n",
      "Epoch 53/100\n",
      "20179/20179 [==============================] - 0s - loss: 0.4323 - acc: 0.8053     \n",
      "Epoch 54/100\n",
      "20179/20179 [==============================] - 0s - loss: 0.4315 - acc: 0.8042     \n",
      "Epoch 55/100\n",
      "20179/20179 [==============================] - 0s - loss: 0.4289 - acc: 0.8089     \n",
      "Epoch 56/100\n",
      "20179/20179 [==============================] - 0s - loss: 0.4255 - acc: 0.8111     \n",
      "Epoch 57/100\n",
      "20179/20179 [==============================] - 0s - loss: 0.4253 - acc: 0.8127     \n",
      "Epoch 58/100\n",
      "20179/20179 [==============================] - 0s - loss: 0.4207 - acc: 0.8126     \n",
      "Epoch 59/100\n",
      "20179/20179 [==============================] - 0s - loss: 0.4192 - acc: 0.8147     \n",
      "Epoch 60/100\n",
      "20179/20179 [==============================] - 0s - loss: 0.4227 - acc: 0.8125     \n",
      "Epoch 61/100\n",
      "20179/20179 [==============================] - 0s - loss: 0.4198 - acc: 0.8168     \n",
      "Epoch 62/100\n",
      "20179/20179 [==============================] - 0s - loss: 0.4209 - acc: 0.8145     \n",
      "Epoch 63/100\n",
      "20179/20179 [==============================] - 0s - loss: 0.4186 - acc: 0.8145     \n",
      "Epoch 64/100\n",
      "20179/20179 [==============================] - 0s - loss: 0.4187 - acc: 0.8159     \n",
      "Epoch 65/100\n",
      "20179/20179 [==============================] - 0s - loss: 0.4206 - acc: 0.8136     \n",
      "Epoch 66/100\n",
      "20179/20179 [==============================] - 0s - loss: 0.4143 - acc: 0.8160     \n",
      "Epoch 67/100\n",
      "20179/20179 [==============================] - 0s - loss: 0.4121 - acc: 0.8194     \n",
      "Epoch 68/100\n",
      "20179/20179 [==============================] - 0s - loss: 0.4143 - acc: 0.8158     \n",
      "Epoch 69/100\n",
      "20179/20179 [==============================] - 0s - loss: 0.4160 - acc: 0.8157     \n",
      "Epoch 70/100\n",
      "20179/20179 [==============================] - 0s - loss: 0.4147 - acc: 0.8180     \n",
      "Epoch 71/100\n",
      "20179/20179 [==============================] - 0s - loss: 0.4109 - acc: 0.8209     \n",
      "Epoch 72/100\n",
      "20179/20179 [==============================] - 0s - loss: 0.4143 - acc: 0.8179     \n",
      "Epoch 73/100\n",
      "20179/20179 [==============================] - 0s - loss: 0.4135 - acc: 0.8195     \n",
      "Epoch 74/100\n",
      "20179/20179 [==============================] - 0s - loss: 0.4144 - acc: 0.8166     \n",
      "Epoch 75/100\n",
      "20179/20179 [==============================] - 0s - loss: 0.4131 - acc: 0.8197     \n",
      "Epoch 76/100\n",
      "20179/20179 [==============================] - 0s - loss: 0.4052 - acc: 0.8238     \n",
      "Epoch 77/100\n",
      "20179/20179 [==============================] - 0s - loss: 0.4127 - acc: 0.8191     \n",
      "Epoch 78/100\n",
      "20179/20179 [==============================] - 0s - loss: 0.4105 - acc: 0.8189     \n",
      "Epoch 79/100\n",
      "20179/20179 [==============================] - 0s - loss: 0.4044 - acc: 0.8228     \n",
      "Epoch 80/100\n",
      "20179/20179 [==============================] - 0s - loss: 0.4070 - acc: 0.8208     \n",
      "Epoch 81/100\n",
      "20179/20179 [==============================] - 0s - loss: 0.4054 - acc: 0.8202     \n",
      "Epoch 82/100\n",
      "20179/20179 [==============================] - 0s - loss: 0.4103 - acc: 0.8196     \n",
      "Epoch 83/100\n",
      "20179/20179 [==============================] - 0s - loss: 0.4121 - acc: 0.8196     \n",
      "Epoch 84/100\n",
      "20179/20179 [==============================] - 0s - loss: 0.4078 - acc: 0.8216     \n",
      "Epoch 85/100\n"
     ]
    },
    {
     "name": "stdout",
     "output_type": "stream",
     "text": [
      "20179/20179 [==============================] - 0s - loss: 0.4085 - acc: 0.8198     \n",
      "Epoch 86/100\n",
      "20179/20179 [==============================] - 0s - loss: 0.4041 - acc: 0.8250     \n",
      "Epoch 87/100\n",
      "20179/20179 [==============================] - 0s - loss: 0.4017 - acc: 0.8255     \n",
      "Epoch 88/100\n",
      "20179/20179 [==============================] - 0s - loss: 0.4007 - acc: 0.8251     \n",
      "Epoch 89/100\n",
      "20179/20179 [==============================] - 0s - loss: 0.4031 - acc: 0.8253     \n",
      "Epoch 90/100\n",
      "20179/20179 [==============================] - 0s - loss: 0.4064 - acc: 0.8222     \n",
      "Epoch 91/100\n",
      "20179/20179 [==============================] - 0s - loss: 0.4079 - acc: 0.8193     \n",
      "Epoch 92/100\n",
      "20179/20179 [==============================] - 0s - loss: 0.4033 - acc: 0.8218     \n",
      "Epoch 93/100\n",
      "20179/20179 [==============================] - 0s - loss: 0.4048 - acc: 0.8243     \n",
      "Epoch 94/100\n",
      "20179/20179 [==============================] - 0s - loss: 0.3989 - acc: 0.8265     \n",
      "Epoch 95/100\n",
      "20179/20179 [==============================] - 0s - loss: 0.4007 - acc: 0.8260     \n",
      "Epoch 96/100\n",
      "20179/20179 [==============================] - 0s - loss: 0.4037 - acc: 0.8234     \n",
      "Epoch 97/100\n",
      "20179/20179 [==============================] - 0s - loss: 0.4014 - acc: 0.8244     \n",
      "Epoch 98/100\n",
      "20179/20179 [==============================] - 0s - loss: 0.3951 - acc: 0.8304     \n",
      "Epoch 99/100\n",
      "20179/20179 [==============================] - 0s - loss: 0.4040 - acc: 0.8232     \n",
      "Epoch 100/100\n",
      "20179/20179 [==============================] - 0s - loss: 0.3967 - acc: 0.8282     \n",
      " 128/4785 [..............................] - ETA: 0s"
     ]
    }
   ],
   "source": [
    "# MLP for binary classification:\n",
    "\n",
    "import numpy as np\n",
    "from keras.models import Sequential\n",
    "from keras.layers import Dense, Dropout\n",
    "\n",
    "'''# Generate dummy data\n",
    "x_train = np.random.random((1000, 20))\n",
    "y_train = np.random.randint(2, size=(1000, 1))\n",
    "x_test = np.random.random((100, 20))\n",
    "y_test = np.random.randint(2, size=(100, 1))'''\n",
    "\n",
    "model = Sequential()\n",
    "model.add(Dense(64, input_dim=39, activation='relu'))\n",
    "model.add(Dropout(0.5))\n",
    "model.add(Dense(64, activation='relu'))\n",
    "model.add(Dropout(0.5))\n",
    "model.add(Dense(1, activation='sigmoid'))\n",
    "\n",
    "model.compile(loss='binary_crossentropy',\n",
    "              optimizer='rmsprop',\n",
    "              metrics=['accuracy'])\n",
    "\n",
    "model.fit(np.array(X_ros), np.array(y_ros['readmitted']),\n",
    "          epochs=100,\n",
    "          batch_size=128)\n",
    "score = model.evaluate(np.array(X_test), np.array(y_test['readmitted']), batch_size=128)"
   ]
  },
  {
   "cell_type": "code",
   "execution_count": 50,
   "metadata": {
    "collapsed": true
   },
   "outputs": [],
   "source": [
    "y_pred6 = model.predict(np.array(X_test))"
   ]
  },
  {
   "cell_type": "code",
   "execution_count": 51,
   "metadata": {
    "collapsed": true
   },
   "outputs": [],
   "source": [
    "y_pred6 = pd.DataFrame(data={'predicted_prob':list(y_pred6)})"
   ]
  },
  {
   "cell_type": "code",
   "execution_count": 52,
   "metadata": {
    "collapsed": true
   },
   "outputs": [],
   "source": [
    "# Function to convert from predicted probs to actual class values\n",
    "def convert(data):\n",
    "    data = data[0]\n",
    "    if data >=0.5:\n",
    "        return 1\n",
    "    else:\n",
    "        return 0"
   ]
  },
  {
   "cell_type": "code",
   "execution_count": 53,
   "metadata": {
    "collapsed": true
   },
   "outputs": [],
   "source": [
    "y_pred6['predicted_prob'] = y_pred6['predicted_prob'].apply(convert)"
   ]
  },
  {
   "cell_type": "code",
   "execution_count": 54,
   "metadata": {},
   "outputs": [
    {
     "name": "stdout",
     "output_type": "stream",
     "text": [
      "             precision    recall  f1-score   support\n",
      "\n",
      "          0       0.92      0.80      0.86      4368\n",
      "          1       0.11      0.24      0.15       417\n",
      "\n",
      "avg / total       0.85      0.75      0.79      4785\n",
      "\n"
     ]
    }
   ],
   "source": [
    "print(classification_report(y_test['readmitted'], y_pred6['predicted_prob']))"
   ]
  },
  {
   "cell_type": "code",
   "execution_count": 55,
   "metadata": {},
   "outputs": [
    {
     "data": {
      "text/html": [
       "<div>\n",
       "<style>\n",
       "    .dataframe thead tr:only-child th {\n",
       "        text-align: right;\n",
       "    }\n",
       "\n",
       "    .dataframe thead th {\n",
       "        text-align: left;\n",
       "    }\n",
       "\n",
       "    .dataframe tbody tr th {\n",
       "        vertical-align: top;\n",
       "    }\n",
       "</style>\n",
       "<table border=\"1\" class=\"dataframe\">\n",
       "  <thead>\n",
       "    <tr style=\"text-align: right;\">\n",
       "      <th></th>\n",
       "      <th>predicted_early_readmit</th>\n",
       "      <th>predicted_not_early_readmit</th>\n",
       "    </tr>\n",
       "  </thead>\n",
       "  <tbody>\n",
       "    <tr>\n",
       "      <th>is_early_readmit</th>\n",
       "      <td>102</td>\n",
       "      <td>315</td>\n",
       "    </tr>\n",
       "    <tr>\n",
       "      <th>not_early_readmit</th>\n",
       "      <td>868</td>\n",
       "      <td>3500</td>\n",
       "    </tr>\n",
       "  </tbody>\n",
       "</table>\n",
       "</div>"
      ],
      "text/plain": [
       "                   predicted_early_readmit  predicted_not_early_readmit\n",
       "is_early_readmit                       102                          315\n",
       "not_early_readmit                      868                         3500"
      ]
     },
     "execution_count": 55,
     "metadata": {},
     "output_type": "execute_result"
    }
   ],
   "source": [
    "conmat6 = np.array(confusion_matrix(y_test, y_pred6['predicted_prob'], labels=[1,0]))\n",
    "\n",
    "confusion = pd.DataFrame(conmat6, index=['is_early_readmit', 'not_early_readmit'],\n",
    "                         columns=['predicted_early_readmit','predicted_not_early_readmit'])\n",
    "confusion"
   ]
  },
  {
   "cell_type": "code",
   "execution_count": 56,
   "metadata": {
    "collapsed": true
   },
   "outputs": [],
   "source": [
    "# Deep Learning Try2\n",
    "# https://machinelearningmastery.com/binary-classification-tutorial-with-the-keras-deep-learning-library/"
   ]
  },
  {
   "cell_type": "code",
   "execution_count": 57,
   "metadata": {
    "collapsed": true
   },
   "outputs": [],
   "source": [
    "from keras.models import Sequential\n",
    "from keras.layers import Dense\n",
    "from keras.wrappers.scikit_learn import KerasClassifier\n",
    "from sklearn.model_selection import cross_val_score\n",
    "from sklearn.preprocessing import LabelEncoder\n",
    "from sklearn.model_selection import StratifiedKFold\n",
    "from sklearn.preprocessing import StandardScaler\n",
    "from sklearn.pipeline import Pipeline"
   ]
  },
  {
   "cell_type": "code",
   "execution_count": 58,
   "metadata": {
    "collapsed": true
   },
   "outputs": [],
   "source": [
    "# fix random seed for reproducibility\n",
    "seed = 7\n",
    "np.random.seed(seed)"
   ]
  },
  {
   "cell_type": "code",
   "execution_count": 59,
   "metadata": {
    "collapsed": true
   },
   "outputs": [],
   "source": [
    "# baseline model\n",
    "def create_baseline():\n",
    "    # create model\n",
    "    model = Sequential()\n",
    "    model.add(Dense(60, input_dim=39, kernel_initializer='normal', activation='relu'))\n",
    "    model.add(Dense(1, kernel_initializer='normal', activation='sigmoid'))\n",
    "    # Compile model\n",
    "    model.compile(loss='binary_crossentropy', optimizer='adam', metrics=['accuracy'])\n",
    "    return model"
   ]
  },
  {
   "cell_type": "code",
   "execution_count": 60,
   "metadata": {},
   "outputs": [
    {
     "name": "stdout",
     "output_type": "stream",
     "text": [
      "Results: 82.75% (1.00%)\n"
     ]
    }
   ],
   "source": [
    "# evaluate model with standardized dataset\n",
    "estimator = KerasClassifier(build_fn=create_baseline, nb_epoch=100, batch_size=5, verbose=0)\n",
    "kfold = StratifiedKFold(n_splits=5, shuffle=True, random_state=seed)\n",
    "results = cross_val_score(estimator, np.array(X_ros), np.array(y_ros['readmitted']), cv=kfold)\n",
    "print(\"Results: %.2f%% (%.2f%%)\" % (results.mean()*100, results.std()*100))"
   ]
  },
  {
   "cell_type": "code",
   "execution_count": 61,
   "metadata": {
    "collapsed": true
   },
   "outputs": [],
   "source": [
    "dd = estimator.fit(np.array(X_ros), np.array(y_ros['readmitted']))"
   ]
  },
  {
   "cell_type": "code",
   "execution_count": 62,
   "metadata": {
    "collapsed": true
   },
   "outputs": [],
   "source": [
    "y_pred7 = dd.model.predict(np.array(X_test))"
   ]
  },
  {
   "cell_type": "code",
   "execution_count": 63,
   "metadata": {
    "collapsed": true
   },
   "outputs": [],
   "source": [
    "y_pred7 = pd.DataFrame(data={'predicted_prob':list(y_pred7)})"
   ]
  },
  {
   "cell_type": "code",
   "execution_count": 64,
   "metadata": {
    "collapsed": true
   },
   "outputs": [],
   "source": [
    "y_pred7['predicted_prob'] = y_pred7['predicted_prob'].apply(convert)"
   ]
  },
  {
   "cell_type": "code",
   "execution_count": 65,
   "metadata": {},
   "outputs": [
    {
     "name": "stdout",
     "output_type": "stream",
     "text": [
      "             precision    recall  f1-score   support\n",
      "\n",
      "          0       0.92      0.81      0.86      4368\n",
      "          1       0.12      0.28      0.17       417\n",
      "\n",
      "avg / total       0.85      0.76      0.80      4785\n",
      "\n"
     ]
    }
   ],
   "source": [
    "print(classification_report(y_test['readmitted'], y_pred7['predicted_prob']))"
   ]
  },
  {
   "cell_type": "code",
   "execution_count": 66,
   "metadata": {
    "collapsed": true
   },
   "outputs": [],
   "source": [
    "# Deep Learning Try 3\n",
    "# https://gist.github.com/urigoren/b7cd138903fe86ec027e715d493451b4"
   ]
  },
  {
   "cell_type": "code",
   "execution_count": 67,
   "metadata": {
    "collapsed": true
   },
   "outputs": [],
   "source": [
    "from keras.layers import Dense, Dropout, LSTM, Embedding"
   ]
  },
  {
   "cell_type": "code",
   "execution_count": null,
   "metadata": {
    "collapsed": true
   },
   "outputs": [],
   "source": [
    "def create_model(input_length):\n",
    "    print ('Creating model...')\n",
    "    model = Sequential()\n",
    "    model.add(Embedding(input_dim = 188, output_dim = 50, input_length = input_length))\n",
    "    model.add(LSTM(units=256, activation='sigmoid', recurrent_activation='hard_sigmoid', return_sequences=True))\n",
    "    model.add(Dropout(0.5))\n",
    "    model.add(LSTM(units=256, activation='sigmoid', recurrent_activation='hard_sigmoid'))\n",
    "    model.add(Dropout(0.5))\n",
    "    model.add(Dense(1, activation='sigmoid'))\n",
    "\n",
    "    print ('Compiling...')\n",
    "    model.compile(loss='binary_crossentropy',\n",
    "                  optimizer='rmsprop',\n",
    "                  metrics=['accuracy'])\n",
    "    return model"
   ]
  },
  {
   "cell_type": "code",
   "execution_count": null,
   "metadata": {
    "scrolled": true
   },
   "outputs": [
    {
     "name": "stdout",
     "output_type": "stream",
     "text": [
      "Creating model...\n",
      "Compiling...\n",
      "Fitting model...\n",
      "Train on 16143 samples, validate on 4036 samples\n",
      "Epoch 1/100\n",
      "Epoch 2/100\n",
      "Epoch 3/100\n",
      "Epoch 4/100\n",
      "Epoch 5/100\n",
      "Epoch 6/100\n",
      "Epoch 7/100\n",
      "Epoch 8/100\n",
      "Epoch 9/100\n",
      "Epoch 10/100\n",
      "Epoch 11/100\n",
      "Epoch 12/100\n",
      "Epoch 13/100\n",
      "Epoch 14/100\n",
      "Epoch 15/100\n",
      "Epoch 16/100\n",
      "Epoch 17/100\n",
      "Epoch 18/100\n",
      "Epoch 19/100\n",
      "Epoch 20/100\n",
      "Epoch 21/100\n",
      "Epoch 22/100\n",
      "Epoch 23/100\n",
      "Epoch 24/100\n",
      "Epoch 25/100\n",
      "Epoch 26/100\n",
      "Epoch 27/100\n",
      "Epoch 28/100\n",
      "Epoch 29/100\n",
      "Epoch 30/100\n",
      "Epoch 31/100\n",
      "Epoch 32/100\n",
      "Epoch 33/100\n",
      "Epoch 34/100\n",
      "Epoch 35/100\n",
      "Epoch 36/100\n",
      "Epoch 37/100\n",
      "Epoch 38/100\n",
      "Epoch 39/100\n",
      "Epoch 40/100\n",
      "Epoch 41/100\n",
      "Epoch 42/100\n",
      "Epoch 43/100\n",
      "Epoch 44/100\n",
      "Epoch 45/100\n",
      "Epoch 46/100\n",
      "Epoch 47/100\n",
      "Epoch 48/100\n",
      "Epoch 49/100\n",
      "Epoch 50/100\n",
      "Epoch 51/100\n",
      "Epoch 52/100\n",
      "Epoch 53/100\n",
      "Epoch 54/100\n",
      "Epoch 55/100\n",
      "Epoch 56/100\n",
      "Epoch 57/100\n",
      "Epoch 58/100\n",
      "Epoch 59/100\n",
      "Epoch 60/100\n"
     ]
    }
   ],
   "source": [
    "model = create_model(len(np.array(X_ros)[0]))\n",
    "\n",
    "print ('Fitting model...')\n",
    "hist = model.fit(np.array(X_ros), np.array(y_ros['readmitted']), batch_size=64, epochs=100, validation_split = 0.2, verbose = 0.2)\n",
    "\n",
    "score, acc = model.evaluate(X_test, y_test, batch_size=1)\n",
    "print('Test score:', score)\n",
    "print('Test accuracy:', acc)"
   ]
  },
  {
   "cell_type": "code",
   "execution_count": 66,
   "metadata": {
    "collapsed": true
   },
   "outputs": [],
   "source": [
    "### Deciding the best model by looking at the precision-recall scores\n",
    "from sklearn.metrics import precision_recall_fscore_support\n",
    "a1,a2,_,__ = precision_recall_fscore_support(y_test['readmitted'], y_pred1)\n",
    "b1,b2,_,__ = precision_recall_fscore_support(y_test['readmitted'], y_pred2)\n",
    "c1,c2,_,__ = precision_recall_fscore_support(y_test['readmitted'], y_pred3)\n",
    "d1,d2,_,__ = precision_recall_fscore_support(y_test['readmitted'], y_pred4)\n",
    "e1,e2,_,__ = precision_recall_fscore_support(y_test['readmitted'], y_pred5)\n",
    "f1,f2,_,__ = precision_recall_fscore_support(y_test['readmitted'], y_pred6['predicted_prob'])\n",
    "g1,g2,_,__ = precision_recall_fscore_support(y_test['readmitted'], y_pred7['predicted_prob'])\n",
    "#h1,h2,_,__ = precision_recall_fscore_support(y_test['readmitted'], y_pred8['predicted_prob'])"
   ]
  },
  {
   "cell_type": "code",
   "execution_count": 71,
   "metadata": {},
   "outputs": [
    {
     "name": "stdout",
     "output_type": "stream",
     "text": [
      "[ 0.93488858  0.12023001] [ 0.6146978   0.55155875]\n"
     ]
    }
   ],
   "source": [
    "print(a1,a2)"
   ]
  },
  {
   "cell_type": "code",
   "execution_count": 73,
   "metadata": {},
   "outputs": [
    {
     "data": {
      "text/plain": [
       "0.93475226796929523"
      ]
     },
     "execution_count": 73,
     "metadata": {},
     "output_type": "execute_result"
    }
   ],
   "source": [
    "b1[0]"
   ]
  },
  {
   "cell_type": "code",
   "execution_count": 74,
   "metadata": {
    "collapsed": true
   },
   "outputs": [],
   "source": [
    "# Creating Precision-Recall df for Class 0\n",
    "algorithms = ['LR1_Lasso', 'LR2g_Ridge', 'RFC1', 'XGBC1', 'XGBC2', 'DL1', 'DL2']\n",
    "precision_0 = [a1[0], b1[0], c1[0], d1[0], e1[0], f1[0], g1[0]]\n",
    "recall_0 = [a2[0], b2[0], c2[0], d2[0], e2[0], f2[0], g2[0]]\n",
    "class_0 = pd.DataFrame(data={'Precision':precision_0,'Recall':recall_0}, index=algorithms)"
   ]
  },
  {
   "cell_type": "code",
   "execution_count": 75,
   "metadata": {},
   "outputs": [
    {
     "data": {
      "text/html": [
       "<div>\n",
       "<style>\n",
       "    .dataframe thead tr:only-child th {\n",
       "        text-align: right;\n",
       "    }\n",
       "\n",
       "    .dataframe thead th {\n",
       "        text-align: left;\n",
       "    }\n",
       "\n",
       "    .dataframe tbody tr th {\n",
       "        vertical-align: top;\n",
       "    }\n",
       "</style>\n",
       "<table border=\"1\" class=\"dataframe\">\n",
       "  <thead>\n",
       "    <tr style=\"text-align: right;\">\n",
       "      <th></th>\n",
       "      <th>Precision</th>\n",
       "      <th>Recall</th>\n",
       "    </tr>\n",
       "  </thead>\n",
       "  <tbody>\n",
       "    <tr>\n",
       "      <th>LR1_Lasso</th>\n",
       "      <td>0.934889</td>\n",
       "      <td>0.614698</td>\n",
       "    </tr>\n",
       "    <tr>\n",
       "      <th>LR2g_Ridge</th>\n",
       "      <td>0.934752</td>\n",
       "      <td>0.613324</td>\n",
       "    </tr>\n",
       "    <tr>\n",
       "      <th>RFC1</th>\n",
       "      <td>0.923077</td>\n",
       "      <td>0.662088</td>\n",
       "    </tr>\n",
       "    <tr>\n",
       "      <th>XGBC1</th>\n",
       "      <td>0.938690</td>\n",
       "      <td>0.462683</td>\n",
       "    </tr>\n",
       "    <tr>\n",
       "      <th>XGBC2</th>\n",
       "      <td>0.937742</td>\n",
       "      <td>0.610348</td>\n",
       "    </tr>\n",
       "    <tr>\n",
       "      <th>DL1</th>\n",
       "      <td>0.917431</td>\n",
       "      <td>0.801282</td>\n",
       "    </tr>\n",
       "    <tr>\n",
       "      <th>DL2</th>\n",
       "      <td>0.921492</td>\n",
       "      <td>0.808837</td>\n",
       "    </tr>\n",
       "  </tbody>\n",
       "</table>\n",
       "</div>"
      ],
      "text/plain": [
       "            Precision    Recall\n",
       "LR1_Lasso    0.934889  0.614698\n",
       "LR2g_Ridge   0.934752  0.613324\n",
       "RFC1         0.923077  0.662088\n",
       "XGBC1        0.938690  0.462683\n",
       "XGBC2        0.937742  0.610348\n",
       "DL1          0.917431  0.801282\n",
       "DL2          0.921492  0.808837"
      ]
     },
     "execution_count": 75,
     "metadata": {},
     "output_type": "execute_result"
    }
   ],
   "source": [
    "class_0"
   ]
  },
  {
   "cell_type": "code",
   "execution_count": 76,
   "metadata": {
    "collapsed": true
   },
   "outputs": [],
   "source": [
    "# Creating Precision-Recall df for Class 0\n",
    "precision_1 = [a1[1], b1[1], c1[1], d1[1], e1[1], f1[1], g1[1]]\n",
    "recall_1 = [a2[1], b2[1], c2[1], d2[1], e2[1], f2[1], g2[1]]\n",
    "class_1 = pd.DataFrame(data={'Precision':precision_1,'Recall':recall_1}, index=algorithms)"
   ]
  },
  {
   "cell_type": "code",
   "execution_count": 77,
   "metadata": {},
   "outputs": [
    {
     "data": {
      "text/html": [
       "<div>\n",
       "<style>\n",
       "    .dataframe thead tr:only-child th {\n",
       "        text-align: right;\n",
       "    }\n",
       "\n",
       "    .dataframe thead th {\n",
       "        text-align: left;\n",
       "    }\n",
       "\n",
       "    .dataframe tbody tr th {\n",
       "        vertical-align: top;\n",
       "    }\n",
       "</style>\n",
       "<table border=\"1\" class=\"dataframe\">\n",
       "  <thead>\n",
       "    <tr style=\"text-align: right;\">\n",
       "      <th></th>\n",
       "      <th>Precision</th>\n",
       "      <th>Recall</th>\n",
       "    </tr>\n",
       "  </thead>\n",
       "  <tbody>\n",
       "    <tr>\n",
       "      <th>LR1_Lasso</th>\n",
       "      <td>0.120230</td>\n",
       "      <td>0.551559</td>\n",
       "    </tr>\n",
       "    <tr>\n",
       "      <th>LR2g_Ridge</th>\n",
       "      <td>0.119854</td>\n",
       "      <td>0.551559</td>\n",
       "    </tr>\n",
       "    <tr>\n",
       "      <th>RFC1</th>\n",
       "      <td>0.106538</td>\n",
       "      <td>0.422062</td>\n",
       "    </tr>\n",
       "    <tr>\n",
       "      <th>XGBC1</th>\n",
       "      <td>0.108283</td>\n",
       "      <td>0.683453</td>\n",
       "    </tr>\n",
       "    <tr>\n",
       "      <th>XGBC2</th>\n",
       "      <td>0.123584</td>\n",
       "      <td>0.575540</td>\n",
       "    </tr>\n",
       "    <tr>\n",
       "      <th>DL1</th>\n",
       "      <td>0.105155</td>\n",
       "      <td>0.244604</td>\n",
       "    </tr>\n",
       "    <tr>\n",
       "      <th>DL2</th>\n",
       "      <td>0.121977</td>\n",
       "      <td>0.278177</td>\n",
       "    </tr>\n",
       "  </tbody>\n",
       "</table>\n",
       "</div>"
      ],
      "text/plain": [
       "            Precision    Recall\n",
       "LR1_Lasso    0.120230  0.551559\n",
       "LR2g_Ridge   0.119854  0.551559\n",
       "RFC1         0.106538  0.422062\n",
       "XGBC1        0.108283  0.683453\n",
       "XGBC2        0.123584  0.575540\n",
       "DL1          0.105155  0.244604\n",
       "DL2          0.121977  0.278177"
      ]
     },
     "execution_count": 77,
     "metadata": {},
     "output_type": "execute_result"
    }
   ],
   "source": [
    "class_1"
   ]
  },
  {
   "cell_type": "code",
   "execution_count": null,
   "metadata": {
    "collapsed": true
   },
   "outputs": [],
   "source": []
  }
 ],
 "metadata": {
  "kernelspec": {
   "display_name": "Python 3",
   "language": "python",
   "name": "python3"
  },
  "language_info": {
   "codemirror_mode": {
    "name": "ipython",
    "version": 3
   },
   "file_extension": ".py",
   "mimetype": "text/x-python",
   "name": "python",
   "nbconvert_exporter": "python",
   "pygments_lexer": "ipython3",
   "version": "3.5.3"
  }
 },
 "nbformat": 4,
 "nbformat_minor": 2
}
