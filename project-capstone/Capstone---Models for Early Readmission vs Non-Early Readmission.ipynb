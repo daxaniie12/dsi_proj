{
 "cells": [
  {
   "cell_type": "markdown",
   "metadata": {},
   "source": [
    "### Fitting Models for early readmission vs non-early readmission Dataset"
   ]
  },
  {
   "cell_type": "code",
   "execution_count": 1,
   "metadata": {
    "collapsed": true
   },
   "outputs": [],
   "source": [
    "# Try for 'readmitted_30p' first using the 'diabetes_3d_p30.csv' dataset"
   ]
  },
  {
   "cell_type": "code",
   "execution_count": 2,
   "metadata": {
    "collapsed": true
   },
   "outputs": [],
   "source": [
    "import pandas as pd\n",
    "import matplotlib.pyplot as plt\n",
    "import seaborn as sns\n",
    "import numpy as np\n",
    "%matplotlib inline"
   ]
  },
  {
   "cell_type": "code",
   "execution_count": 81,
   "metadata": {
    "collapsed": true
   },
   "outputs": [],
   "source": [
    "# Importing the relevant classes\n",
    "from sklearn.linear_model import LogisticRegression, LogisticRegressionCV\n",
    "from sklearn.ensemble import RandomForestClassifier\n",
    "from xgboost import XGBClassifier\n",
    "from sklearn.naive_bayes import GaussianNB, MultinomialNB\n",
    "from sklearn.neural_network import MLPClassifier\n",
    "from mlxtend.classifier import StackingClassifier\n",
    "from sklearn.metrics import confusion_matrix, classification_report"
   ]
  },
  {
   "cell_type": "code",
   "execution_count": 4,
   "metadata": {
    "collapsed": true
   },
   "outputs": [],
   "source": [
    "# Load the required files\n",
    "X_train_30 = pd.read_csv('./X_train_30.csv')\n",
    "X_test_30 = pd.read_csv('./X_test_30.csv')\n",
    "y_train_30 = pd.read_csv('./y_train_30.csv')\n",
    "y_test_30 = pd.read_csv('./y_test_30.csv')\n",
    "X_ros_30 = pd.read_csv('./X_ros_30.csv')\n",
    "y_ros_30 = pd.read_csv('./y_ros_30.csv')"
   ]
  },
  {
   "cell_type": "code",
   "execution_count": 5,
   "metadata": {
    "collapsed": true
   },
   "outputs": [],
   "source": [
    "# Drop the 'Unnamed: 0' column\n",
    "X_train_30.drop('Unnamed: 0', axis=1, inplace=True)\n",
    "X_test_30.drop('Unnamed: 0', axis=1, inplace=True)\n",
    "y_train_30.drop('Unnamed: 0', axis=1, inplace=True)\n",
    "y_test_30.drop('Unnamed: 0', axis=1, inplace=True)\n",
    "X_ros_30.drop('Unnamed: 0', axis=1, inplace=True)\n",
    "y_ros_30.drop('Unnamed: 0', axis=1, inplace=True)"
   ]
  },
  {
   "cell_type": "markdown",
   "metadata": {},
   "source": [
    "This is a binary classification problem and hence different classifiers will be fit to the training set and the classifier that gives the best metrics will be chosen to score the test set and make predictions. The metric that will be used to decide the best classifer will be the precision, recall, f1 and average precision scores. Specifically, a higher average_precision score will indicate a better preformance of the classifier."
   ]
  },
  {
   "cell_type": "code",
   "execution_count": 186,
   "metadata": {
    "collapsed": true
   },
   "outputs": [],
   "source": [
    "# Defining a function to return the precision, recall, f1 and average precision score\n",
    "# Defining functions to plot Precision-Recall Curve--. \n",
    "\n",
    "from sklearn.metrics import precision_recall_fscore_support, average_precision_score, precision_recall_curve, auc\n",
    "\n",
    "def scores(y_test, y_pred):\n",
    "    \n",
    "    '''\n",
    "    Function takes in y_test, y_predict y_predict probability and scores to return precision, recall, f1 and\n",
    "    average_precision  scores of the positive class\n",
    "    '''\n",
    "    \n",
    "    precision, recall, f1, _ = precision_recall_fscore_support(y_test, y_pred, beta=1.0)\n",
    "    average_precision = average_precision_score(y_test, y_pred)\n",
    "    return precision[1], recall[1], f1[1], average_precision\n",
    "\n",
    "def precision_recall(y_test, y_pred, y_pred_proba, classifier):\n",
    "    \n",
    "    '''\n",
    "    Function accepts the y_test scores and y_predict probability scores to plot the precison-recall curve\n",
    "    '''\n",
    "    \n",
    "    average_precision = average_precision_score(y_test, y_pred)\n",
    "    precision, recall, _ = precision_recall_curve(y_test, y_pred_proba)\n",
    "\n",
    "    #plt.plot([0, 1], [0, 1], 'k--', linewidth=1)\n",
    "    plt.step(recall, precision, color='g', alpha=0.2, where='post')\n",
    "    plt.fill_between(recall, precision, step='post', alpha=0.2, color='g')\n",
    "    plt.xlabel('Recall')\n",
    "    plt.ylabel('Precision')\n",
    "    plt.ylim([0.0, 0.40])\n",
    "    plt.xlim([0.0, 1.0])\n",
    "    plt.title('2-class Precision-Recall for ' +classifier+ ' Classifier : AP={0:0.2f}'.format(average_precision))\n",
    "    return plt"
   ]
  },
  {
   "cell_type": "markdown",
   "metadata": {},
   "source": [
    "The classifiers used will be Logistic Regression, MLP(Multilayer Perceptron), XGBoost, RandomForest, Naive Bayes and StackingClassifier using Logistic, MLP, XGBoost and RandomForest as base classifiers and Logistic Regression as a Metaclassifier.\n",
    "\n",
    "The dataset was previously split using stratified splitting into a training set and a test set, with 70% in the training set and 30% in the test set.\n",
    "\n",
    "GridSearchCV will be used to fit training set with a given classifier and to tune the hyperparameters of the classifiers. Hyperparameter tuning will be optimised based on recall score. The classifier that gives the best recall score will be chosen to predict the test set.\n",
    "\n",
    "The test set result and prediction accuracy will be checked using confusion matrix, classification report, and the precision-recall curve. A classifier that gives the highest area under the precision-recall curve of the positive class (class 0) will be chosen as the best classifier."
   ]
  },
  {
   "cell_type": "code",
   "execution_count": 104,
   "metadata": {
    "collapsed": true
   },
   "outputs": [],
   "source": [
    "# First fit a Dummy Classifier to get a baseline of prediction on the test set\n",
    "from sklearn.dummy import DummyClassifier\n",
    "dm = DummyClassifier(strategy='stratified', random_state=12).fit(X_ros_30,y_ros_30['readmitted_p30'])\n",
    "y_pred0 = dm.predict(X_test_30)"
   ]
  },
  {
   "cell_type": "code",
   "execution_count": 6,
   "metadata": {
    "collapsed": true
   },
   "outputs": [],
   "source": [
    "from sklearn.model_selection import GridSearchCV"
   ]
  },
  {
   "cell_type": "code",
   "execution_count": 8,
   "metadata": {},
   "outputs": [
    {
     "name": "stdout",
     "output_type": "stream",
     "text": [
      "Fitting 5 folds for each of 100 candidates, totalling 500 fits\n"
     ]
    },
    {
     "name": "stderr",
     "output_type": "stream",
     "text": [
      "[Parallel(n_jobs=-1)]: Done  46 tasks      | elapsed:   49.9s\n",
      "[Parallel(n_jobs=-1)]: Done 196 tasks      | elapsed: 13.5min\n",
      "[Parallel(n_jobs=-1)]: Done 446 tasks      | elapsed: 64.8min\n",
      "[Parallel(n_jobs=-1)]: Done 500 out of 500 | elapsed: 76.3min finished\n"
     ]
    },
    {
     "data": {
      "text/plain": [
       "GridSearchCV(cv=5, error_score='raise',\n",
       "       estimator=LogisticRegression(C=1.0, class_weight=None, dual=False, fit_intercept=True,\n",
       "          intercept_scaling=1, max_iter=100, multi_class='ovr', n_jobs=1,\n",
       "          penalty='l2', random_state=None, solver='liblinear', tol=0.0001,\n",
       "          verbose=0, warm_start=False),\n",
       "       fit_params={}, iid=True, n_jobs=-1,\n",
       "       param_grid={'C': [0.10000000000000001, 0.20000000000000001, 0.30000000000000004, 0.40000000000000002, 0.5, 0.59999999999999998, 0.70000000000000007, 0.80000000000000004, 0.90000000000000002, 1.0, 1.1000000000000001, 1.2000000000000002, 1.3000000000000003, 1.4000000000000001, 1.5000000000000002, 1.60...8, 4.9000000000000004, 5.0], 'solver': ['liblinear'], 'penalty': ['l1', 'l2'], 'random_state': [12]},\n",
       "       pre_dispatch='2*n_jobs', refit=True, return_train_score=True,\n",
       "       scoring='recall', verbose=1)"
      ]
     },
     "execution_count": 8,
     "metadata": {},
     "output_type": "execute_result"
    }
   ],
   "source": [
    "# Fitting Logistic Regression\n",
    "lr_params = {'penalty':['l1','l2'], 'solver':['liblinear'], 'C':list(np.arange(0.1, 5.1, 0.1)), 'random_state':[12]}\n",
    "lr_gridsearch = GridSearchCV(LogisticRegression(), lr_params, cv=5, verbose=1, scoring='recall', n_jobs=-1)\n",
    "lr_gridsearch.fit(X_ros_30,y_ros_30['readmitted_p30'])"
   ]
  },
  {
   "cell_type": "code",
   "execution_count": 9,
   "metadata": {},
   "outputs": [
    {
     "data": {
      "text/plain": [
       "{'C': 4.7999999999999998,\n",
       " 'penalty': 'l1',\n",
       " 'random_state': 12,\n",
       " 'solver': 'liblinear'}"
      ]
     },
     "execution_count": 9,
     "metadata": {},
     "output_type": "execute_result"
    }
   ],
   "source": [
    "# The best hyperparamters that maximise recall score\n",
    "lr_gridsearch.best_params_"
   ]
  },
  {
   "cell_type": "code",
   "execution_count": 12,
   "metadata": {
    "collapsed": true
   },
   "outputs": [],
   "source": [
    "# Predicting the test set with the best LogisticRegression Classifier\n",
    "lr_best = lr_gridsearch.best_estimator_\n",
    "y_pred1 = lr_best.predict(X_test_30)"
   ]
  },
  {
   "cell_type": "code",
   "execution_count": 26,
   "metadata": {
    "scrolled": false
   },
   "outputs": [
    {
     "name": "stdout",
     "output_type": "stream",
     "text": [
      "Fitting 5 folds for each of 40 candidates, totalling 200 fits\n"
     ]
    },
    {
     "name": "stderr",
     "output_type": "stream",
     "text": [
      "/usr/local/lib/python3.5/site-packages/sklearn/neural_network/multilayer_perceptron.py:563: ConvergenceWarning: Stochastic Optimizer: Maximum iterations reached and the optimization hasn't converged yet.\n",
      "  % (), ConvergenceWarning)\n",
      "/usr/local/lib/python3.5/site-packages/sklearn/neural_network/multilayer_perceptron.py:563: ConvergenceWarning: Stochastic Optimizer: Maximum iterations reached and the optimization hasn't converged yet.\n",
      "  % (), ConvergenceWarning)\n",
      "[Parallel(n_jobs=-1)]: Done  46 tasks      | elapsed: 37.8min\n",
      "[Parallel(n_jobs=-1)]: Done 196 tasks      | elapsed: 90.9min\n",
      "[Parallel(n_jobs=-1)]: Done 200 out of 200 | elapsed: 91.8min finished\n"
     ]
    },
    {
     "data": {
      "text/plain": [
       "GridSearchCV(cv=5, error_score='raise',\n",
       "       estimator=MLPClassifier(activation='relu', alpha=0.0001, batch_size='auto', beta_1=0.9,\n",
       "       beta_2=0.999, early_stopping=False, epsilon=1e-08,\n",
       "       hidden_layer_sizes=(100,), learning_rate='constant',\n",
       "       learning_rate_init=0.001, max_iter=200, momentum=0.9,\n",
       "       nesterovs_momentum=True, power_t=0.5, random_state=None,\n",
       "       shuffle=True, solver='adam', tol=0.0001, validation_fraction=0.1,\n",
       "       verbose=False, warm_start=False),\n",
       "       fit_params={}, iid=True, n_jobs=-1,\n",
       "       param_grid={'learning_rate_init': [0.001, 0.010999999999999999, 0.020999999999999998, 0.030999999999999996, 0.040999999999999995, 0.05099999999999999, 0.060999999999999992, 0.070999999999999994, 0.080999999999999989, 0.090999999999999984], 'solver': ['sgd', 'lbfgs'], 'max_iter': [500], 'random_state': [12], 'activation': ['logistic', 'identity']},\n",
       "       pre_dispatch='2*n_jobs', refit=True, return_train_score=True,\n",
       "       scoring='recall', verbose=1)"
      ]
     },
     "execution_count": 26,
     "metadata": {},
     "output_type": "execute_result"
    }
   ],
   "source": [
    "# Fitting MLP\n",
    "mlp_params = {'activation' : ['logistic', 'identity'], 'solver' : ['sgd','lbfgs'], 'learning_rate_init':list(np.arange(0.001, 0.1, 0.01)), 'max_iter':[500], 'random_state':[12]}\n",
    "mlp_gridsearch = GridSearchCV(MLPClassifier(), mlp_params, cv=5, verbose=1, scoring='recall', n_jobs=-1)\n",
    "mlp_gridsearch.fit(X_ros_30,y_ros_30['readmitted_p30'])"
   ]
  },
  {
   "cell_type": "code",
   "execution_count": 27,
   "metadata": {},
   "outputs": [
    {
     "data": {
      "text/plain": [
       "{'activation': 'logistic',\n",
       " 'learning_rate_init': 0.001,\n",
       " 'max_iter': 500,\n",
       " 'random_state': 12,\n",
       " 'solver': 'lbfgs'}"
      ]
     },
     "execution_count": 27,
     "metadata": {},
     "output_type": "execute_result"
    }
   ],
   "source": [
    "# The best hyperparamters that maximise recall score\n",
    "mlp_gridsearch.best_params_"
   ]
  },
  {
   "cell_type": "code",
   "execution_count": 29,
   "metadata": {},
   "outputs": [
    {
     "data": {
      "text/plain": [
       "MLPClassifier(activation='logistic', alpha=0.0001, batch_size='auto',\n",
       "       beta_1=0.9, beta_2=0.999, early_stopping=False, epsilon=1e-08,\n",
       "       hidden_layer_sizes=(100,), learning_rate='constant',\n",
       "       learning_rate_init=0.001, max_iter=500, momentum=0.9,\n",
       "       nesterovs_momentum=True, power_t=0.5, random_state=12, shuffle=True,\n",
       "       solver='lbfgs', tol=0.0001, validation_fraction=0.1, verbose=False,\n",
       "       warm_start=False)"
      ]
     },
     "execution_count": 29,
     "metadata": {},
     "output_type": "execute_result"
    }
   ],
   "source": [
    "best_mlp = mlp_gridsearch.best_estimator_\n",
    "best_mlp.fit(X_ros_30,y_ros_30['readmitted_p30'])"
   ]
  },
  {
   "cell_type": "code",
   "execution_count": 32,
   "metadata": {},
   "outputs": [
    {
     "name": "stdout",
     "output_type": "stream",
     "text": [
      "             precision    recall  f1-score   support\n",
      "\n",
      "          0       0.92      0.80      0.86      4368\n",
      "          1       0.12      0.28      0.16       417\n",
      "\n",
      "avg / total       0.85      0.75      0.80      4785\n",
      "\n"
     ]
    }
   ],
   "source": [
    "# Predicting the test set with the best MLP Classifier\n",
    "y_pred2 = best_mlp.predict(X_test_30)\n",
    "print(classification_report(y_test_30['readmitted_p30'], y_pred2))"
   ]
  },
  {
   "cell_type": "markdown",
   "metadata": {},
   "source": [
    "Even though Gridsearch returned a MLPClassifier with the best hyperparameters that maximise the recall score, the recall score of the positive class is very low. Based on other tuning done, another MLPClassifier with different hyperparamters that increases the recall score of the positive class was fit."
   ]
  },
  {
   "cell_type": "code",
   "execution_count": 33,
   "metadata": {
    "collapsed": true
   },
   "outputs": [],
   "source": [
    "# Fitting another MLPClassifier to increase the recall score of the positive class\n",
    "mlp2 = MLPClassifier(activation='identity', solver='lbfgs').fit(X_ros_30,y_ros_30['readmitted_p30'])\n",
    "y_pred2b = mlp2.predict(X_test_30)"
   ]
  },
  {
   "cell_type": "code",
   "execution_count": 35,
   "metadata": {},
   "outputs": [
    {
     "name": "stdout",
     "output_type": "stream",
     "text": [
      "             precision    recall  f1-score   support\n",
      "\n",
      "          0       0.94      0.65      0.77      4368\n",
      "          1       0.13      0.55      0.21       417\n",
      "\n",
      "avg / total       0.87      0.65      0.72      4785\n",
      "\n"
     ]
    }
   ],
   "source": [
    "print(classification_report(y_test_30['readmitted_p30'], y_pred2b))"
   ]
  },
  {
   "cell_type": "code",
   "execution_count": null,
   "metadata": {
    "collapsed": true
   },
   "outputs": [],
   "source": [
    "# The recall score of the positive class has increased as compared to the classifier returned by GridSearchCV."
   ]
  },
  {
   "cell_type": "code",
   "execution_count": 105,
   "metadata": {},
   "outputs": [
    {
     "name": "stdout",
     "output_type": "stream",
     "text": [
      "Fitting 5 folds for each of 25 candidates, totalling 125 fits\n"
     ]
    },
    {
     "name": "stderr",
     "output_type": "stream",
     "text": [
      "[Parallel(n_jobs=-1)]: Done  46 tasks      | elapsed:  3.9min\n",
      "[Parallel(n_jobs=-1)]: Done 125 out of 125 | elapsed: 10.6min finished\n"
     ]
    },
    {
     "data": {
      "text/plain": [
       "GridSearchCV(cv=5, error_score='raise',\n",
       "       estimator=XGBClassifier(base_score=0.5, booster='gbtree', colsample_bylevel=1,\n",
       "       colsample_bytree=1, gamma=0, learning_rate=0.1, max_delta_step=0,\n",
       "       max_depth=3, min_child_weight=1, missing=None, n_estimators=100,\n",
       "       n_jobs=1, nthread=None, objective='binary:logistic', random_state=0,\n",
       "       reg_alpha=0, reg_lambda=1, scale_pos_weight=1, seed=None,\n",
       "       silent=True, subsample=1),\n",
       "       fit_params={}, iid=True, n_jobs=-1,\n",
       "       param_grid={'max_depth': array([3, 4, 5, 6, 7]), 'random_state': [12], 'booster': ['gblinear'], 'colsample_bytree': array([ 0.6,  0.7,  0.8,  0.9,  1. ]), 'n_estimators': [1000]},\n",
       "       pre_dispatch='2*n_jobs', refit=True, return_train_score=True,\n",
       "       scoring='recall', verbose=1)"
      ]
     },
     "execution_count": 105,
     "metadata": {},
     "output_type": "execute_result"
    }
   ],
   "source": [
    "# Fitting XGBoost\n",
    "xgb_params = {'max_depth':np.arange(3,8,1), 'n_estimators':[1000], 'booster':['gblinear'], 'colsample_bytree':np.arange(0.6,1.05,0.1),'random_state':[12]}\n",
    "xgb_gridsearch = GridSearchCV(XGBClassifier(), xgb_params, cv=5, verbose=1, scoring='recall', n_jobs=-1)\n",
    "xgb_gridsearch.fit(X_ros_30,y_ros_30['readmitted_p30'])"
   ]
  },
  {
   "cell_type": "code",
   "execution_count": 106,
   "metadata": {},
   "outputs": [
    {
     "data": {
      "text/plain": [
       "{'booster': 'gblinear',\n",
       " 'colsample_bytree': 0.59999999999999998,\n",
       " 'max_depth': 3,\n",
       " 'n_estimators': 1000,\n",
       " 'random_state': 12}"
      ]
     },
     "execution_count": 106,
     "metadata": {},
     "output_type": "execute_result"
    }
   ],
   "source": [
    "# The best hyperparamters that maximise recall score\n",
    "xgb_gridsearch.best_params_"
   ]
  },
  {
   "cell_type": "code",
   "execution_count": 107,
   "metadata": {
    "collapsed": true
   },
   "outputs": [],
   "source": [
    "# Predicting the test set with the best XGBoost Classifier\n",
    "best_xgb = xgb_gridsearch.best_estimator_\n",
    "y_pred3a = best_xgb.predict(X_test_30)"
   ]
  },
  {
   "cell_type": "markdown",
   "metadata": {},
   "source": [
    "For tree based models such Random ForestClassifier, interaction terms should not be added into the model. The Naive Bayes theorem assumes independence between the features and hence interaction terms should not be added into the model. Hence, a new Dataframe of X variables(features) excluding the interaction terms was created for modeling. The interaction terms were also removed from the test set."
   ]
  },
  {
   "cell_type": "code",
   "execution_count": 37,
   "metadata": {
    "collapsed": true
   },
   "outputs": [],
   "source": [
    "# Getting the list of interaction terms\n",
    "non_interaction = [i for i in X_train_30.columns if '&' not in i]"
   ]
  },
  {
   "cell_type": "code",
   "execution_count": 40,
   "metadata": {
    "collapsed": true
   },
   "outputs": [],
   "source": [
    "# Create new X DataFrames that do not contain the interaction\n",
    "X_train_30n = X_train_30.loc[:, non_interaction]\n",
    "X_test_30n = X_test_30.loc[:, non_interaction]\n",
    "X_ros_30n = X_ros_30.loc[:, non_interaction]"
   ]
  },
  {
   "cell_type": "code",
   "execution_count": 63,
   "metadata": {},
   "outputs": [
    {
     "name": "stdout",
     "output_type": "stream",
     "text": [
      "Fitting 5 folds for each of 60 candidates, totalling 300 fits\n"
     ]
    },
    {
     "name": "stderr",
     "output_type": "stream",
     "text": [
      "[Parallel(n_jobs=-1)]: Done  46 tasks      | elapsed:  9.1min\n",
      "[Parallel(n_jobs=-1)]: Done 196 tasks      | elapsed: 47.2min\n",
      "[Parallel(n_jobs=-1)]: Done 300 out of 300 | elapsed: 69.2min finished\n"
     ]
    },
    {
     "data": {
      "text/plain": [
       "GridSearchCV(cv=5, error_score='raise',\n",
       "       estimator=RandomForestClassifier(bootstrap=True, class_weight=None, criterion='gini',\n",
       "            max_depth=None, max_features='auto', max_leaf_nodes=None,\n",
       "            min_impurity_split=1e-07, min_samples_leaf=1,\n",
       "            min_samples_split=2, min_weight_fraction_leaf=0.0,\n",
       "            n_estimators=10, n_jobs=1, oob_score=False, random_state=None,\n",
       "            verbose=0, warm_start=False),\n",
       "       fit_params={}, iid=True, n_jobs=-1,\n",
       "       param_grid={'max_depth': array([3, 4, 5, 6, 7]), 'random_state': [12], 'max_features': array([10, 11, 12, 13, 14, 15]), 'criterion': ['entropy', 'gini'], 'n_estimators': [1000]},\n",
       "       pre_dispatch='2*n_jobs', refit=True, return_train_score=True,\n",
       "       scoring='recall', verbose=1)"
      ]
     },
     "execution_count": 63,
     "metadata": {},
     "output_type": "execute_result"
    }
   ],
   "source": [
    "# Fitting RandomForest\n",
    "rf_params = {'max_depth':np.arange(3,8,1), 'n_estimators':[1000], 'criterion':['entropy','gini'], 'max_features':np.arange(10,16,1),'random_state':[12]}\n",
    "rf_gridsearch = GridSearchCV(RandomForestClassifier(), rf_params, cv=5, verbose=1, scoring='recall', n_jobs=-1)\n",
    "rf_gridsearch.fit(X_ros_30n,y_ros_30['readmitted_p30'])"
   ]
  },
  {
   "cell_type": "code",
   "execution_count": 64,
   "metadata": {},
   "outputs": [
    {
     "data": {
      "text/plain": [
       "{'criterion': 'gini',\n",
       " 'max_depth': 7,\n",
       " 'max_features': 10,\n",
       " 'n_estimators': 1000,\n",
       " 'random_state': 12}"
      ]
     },
     "execution_count": 64,
     "metadata": {},
     "output_type": "execute_result"
    }
   ],
   "source": [
    "# The best hyperparamters that maximise recall score\n",
    "rf_gridsearch.best_params_"
   ]
  },
  {
   "cell_type": "code",
   "execution_count": 66,
   "metadata": {
    "collapsed": true
   },
   "outputs": [],
   "source": [
    "# Predicting the test set with the best RandomForest Classifier\n",
    "rf_best = rf_gridsearch.best_estimator_\n",
    "y_pred4 = rf_best.predict(X_test_30n)"
   ]
  },
  {
   "cell_type": "code",
   "execution_count": 208,
   "metadata": {},
   "outputs": [
    {
     "data": {
      "text/plain": [
       "RandomForestClassifier(bootstrap=True, class_weight=None, criterion='gini',\n",
       "            max_depth=7, max_features=10, max_leaf_nodes=None,\n",
       "            min_impurity_split=1e-07, min_samples_leaf=1,\n",
       "            min_samples_split=2, min_weight_fraction_leaf=0.0,\n",
       "            n_estimators=1000, n_jobs=1, oob_score=False, random_state=12,\n",
       "            verbose=0, warm_start=False)"
      ]
     },
     "execution_count": 208,
     "metadata": {},
     "output_type": "execute_result"
    }
   ],
   "source": [
    "rf_best"
   ]
  },
  {
   "cell_type": "markdown",
   "metadata": {},
   "source": [
    "Next, Naive Bayes Classifier was used to fit the training set. GaussianNB Classifier was fit on the continuous features only while MultinomialNB Classifier was fit on the categorical features only. The predicted class probabilities of the test set from these 2 classifiers was obtained and the overall class membership of each patient was calculated based on the average of the 2 class probabilities."
   ]
  },
  {
   "cell_type": "code",
   "execution_count": 69,
   "metadata": {
    "collapsed": true
   },
   "outputs": [],
   "source": [
    "#Defining the numerical and categorical features\n",
    "num_features = ['time_in_hospital', 'num_lab_procedures', 'num_procedures',\n",
    "       'number_outpatient', 'number_emergency', 'number_inpatient',]\n",
    "cat_features = [i for i in X_ros_30n.columns if i not in num_features]"
   ]
  },
  {
   "cell_type": "code",
   "execution_count": 70,
   "metadata": {
    "collapsed": true
   },
   "outputs": [],
   "source": [
    "# Subsetting out the numerical and categorical Dataframes in the training set\n",
    "X_ros_30num = X_ros_30n.loc[:,num_features]\n",
    "X_ros_30cat = X_ros_30n.loc[:,cat_features]\n",
    "X_test_30num = X_test_30n.loc[:,num_features]\n",
    "X_test_30cat = X_test_30n.loc[:,cat_features]"
   ]
  },
  {
   "cell_type": "code",
   "execution_count": 72,
   "metadata": {
    "collapsed": true
   },
   "outputs": [],
   "source": [
    "# Fit the GaussianNB model on numerical features and get predicted probabilities\n",
    "gb_num = GaussianNB().fit(X_ros_30num, y_ros_30['readmitted_p30'])\n",
    "gb_proba = gb_num.predict_proba(X_test_30num)"
   ]
  },
  {
   "cell_type": "code",
   "execution_count": 77,
   "metadata": {
    "collapsed": true
   },
   "outputs": [],
   "source": [
    "# Fit the MultinomialNB model on categorical features and get predicted probs\n",
    "mn_cat = MultinomialNB().fit(X_ros_30cat, y_ros_30['readmitted_p30'])\n",
    "mn_proba = mn_cat.predict_proba(X_test_30cat)"
   ]
  },
  {
   "cell_type": "code",
   "execution_count": 79,
   "metadata": {
    "collapsed": true
   },
   "outputs": [],
   "source": [
    "# Get Dataframe on these predicted probabilities from both numerical and categorical features\n",
    "NB_30 = pd.DataFrame(data = {'num_0':gb_proba[:,0], 'cat_0':mn_proba[:,0], 'num_1':gb_proba[:,1], 'cat_1':mn_proba[:,1]})\n",
    "NB_30['class_0'] = NB_30[['num_0','cat_0']].sum(axis=1)/2\n",
    "NB_30['class_1'] = NB_30[['num_1','cat_1']].sum(axis=1)/2\n",
    "\n",
    "# 'y_label' refers to the overall class membership of the patient based on the average of the predicted probabilities of classifiers fit on just numerical or categorical data\n",
    "NB_30['y_label'] = NB_30['class_1'].apply(lambda x: 1 if x>0.5 else 0)"
   ]
  },
  {
   "cell_type": "markdown",
   "metadata": {},
   "source": [
    "A Stacking Classifier was used to fit the training data. A Stacking Classifier uses base estimators(classifiers) to fit the training data and make predictions on the test set. The predictions from each base estimator are then used as new features which are fit into a metaclassifier, and then used to get the final predictions on the test set."
   ]
  },
  {
   "cell_type": "code",
   "execution_count": 110,
   "metadata": {
    "collapsed": true
   },
   "outputs": [],
   "source": [
    "# Fitting a Stacking Classifier\n",
    "lr = LogisticRegression(C=4.7999999999999998, penalty='l1', random_state=12, solver='liblinear')\n",
    "mlp = MLPClassifier(activation='identity', solver='lbfgs', random_state=12)\n",
    "xgb = XGBClassifier(booster='gblinear', colsample_bytree=0.59999999999999998, max_depth=3, n_estimators=1000, random_state=12)\n",
    "rf = RandomForestClassifier(criterion='gini', max_depth=7, max_features=10, n_estimators=1000, random_state=12)\n",
    "sclf = StackingClassifier(classifiers=[lr, mlp, xgb, rf], \n",
    "                          meta_classifier=LogisticRegression())"
   ]
  },
  {
   "cell_type": "code",
   "execution_count": 111,
   "metadata": {},
   "outputs": [
    {
     "data": {
      "text/plain": [
       "StackingClassifier(average_probas=False,\n",
       "          classifiers=[LogisticRegression(C=4.8, class_weight=None, dual=False, fit_intercept=True,\n",
       "          intercept_scaling=1, max_iter=100, multi_class='ovr', n_jobs=1,\n",
       "          penalty='l1', random_state=12, solver='liblinear', tol=0.0001,\n",
       "          verbose=0, warm_start=False), MLPClassifier(activatio...timators=1000, n_jobs=1, oob_score=False, random_state=12,\n",
       "            verbose=0, warm_start=False)],\n",
       "          meta_classifier=LogisticRegression(C=1.0, class_weight=None, dual=False, fit_intercept=True,\n",
       "          intercept_scaling=1, max_iter=100, multi_class='ovr', n_jobs=1,\n",
       "          penalty='l2', random_state=None, solver='liblinear', tol=0.0001,\n",
       "          verbose=0, warm_start=False),\n",
       "          use_features_in_secondary=False, use_probas=False, verbose=0)"
      ]
     },
     "execution_count": 111,
     "metadata": {},
     "output_type": "execute_result"
    }
   ],
   "source": [
    "sclf.fit(X_ros_30,y_ros_30['readmitted_p30'])"
   ]
  },
  {
   "cell_type": "code",
   "execution_count": 120,
   "metadata": {
    "collapsed": true
   },
   "outputs": [],
   "source": [
    "y_pred6 = sclf.predict(X_test_30)"
   ]
  },
  {
   "cell_type": "markdown",
   "metadata": {},
   "source": [
    "### Comparing the performance of the different Classifiers"
   ]
  },
  {
   "cell_type": "code",
   "execution_count": null,
   "metadata": {
    "collapsed": true
   },
   "outputs": [],
   "source": [
    "# Confusion Matrix and Classification Report of each classifier"
   ]
  },
  {
   "cell_type": "code",
   "execution_count": 121,
   "metadata": {},
   "outputs": [
    {
     "data": {
      "text/html": [
       "<div>\n",
       "<style>\n",
       "    .dataframe thead tr:only-child th {\n",
       "        text-align: right;\n",
       "    }\n",
       "\n",
       "    .dataframe thead th {\n",
       "        text-align: left;\n",
       "    }\n",
       "\n",
       "    .dataframe tbody tr th {\n",
       "        vertical-align: top;\n",
       "    }\n",
       "</style>\n",
       "<table border=\"1\" class=\"dataframe\">\n",
       "  <thead>\n",
       "    <tr style=\"text-align: right;\">\n",
       "      <th></th>\n",
       "      <th>predicted_early_readmit</th>\n",
       "      <th>predicted_not_early_readmit</th>\n",
       "    </tr>\n",
       "  </thead>\n",
       "  <tbody>\n",
       "    <tr>\n",
       "      <th>is_early_readmit</th>\n",
       "      <td>207</td>\n",
       "      <td>210</td>\n",
       "    </tr>\n",
       "    <tr>\n",
       "      <th>not_early_readmit</th>\n",
       "      <td>2142</td>\n",
       "      <td>2226</td>\n",
       "    </tr>\n",
       "  </tbody>\n",
       "</table>\n",
       "</div>"
      ],
      "text/plain": [
       "                   predicted_early_readmit  predicted_not_early_readmit\n",
       "is_early_readmit                       207                          210\n",
       "not_early_readmit                     2142                         2226"
      ]
     },
     "execution_count": 121,
     "metadata": {},
     "output_type": "execute_result"
    }
   ],
   "source": [
    "# Dummy Classifier Confusion Matrix\n",
    "conmat0 = np.array(confusion_matrix(y_test_30['readmitted_p30'], y_pred0, labels=[1,0]))\n",
    "confusion0 = pd.DataFrame(conmat0, index=['is_early_readmit', 'not_early_readmit'],\n",
    "                         columns=['predicted_early_readmit','predicted_not_early_readmit'])\n",
    "confusion0"
   ]
  },
  {
   "cell_type": "code",
   "execution_count": 122,
   "metadata": {},
   "outputs": [
    {
     "name": "stdout",
     "output_type": "stream",
     "text": [
      "             precision    recall  f1-score   support\n",
      "\n",
      "          0       0.91      0.51      0.65      4368\n",
      "          1       0.09      0.50      0.15       417\n",
      "\n",
      "avg / total       0.84      0.51      0.61      4785\n",
      "\n"
     ]
    }
   ],
   "source": [
    "# Dummy Classifier Classification Report\n",
    "print(classification_report(y_test_30['readmitted_p30'], y_pred0))"
   ]
  },
  {
   "cell_type": "code",
   "execution_count": 123,
   "metadata": {},
   "outputs": [
    {
     "data": {
      "text/html": [
       "<div>\n",
       "<style>\n",
       "    .dataframe thead tr:only-child th {\n",
       "        text-align: right;\n",
       "    }\n",
       "\n",
       "    .dataframe thead th {\n",
       "        text-align: left;\n",
       "    }\n",
       "\n",
       "    .dataframe tbody tr th {\n",
       "        vertical-align: top;\n",
       "    }\n",
       "</style>\n",
       "<table border=\"1\" class=\"dataframe\">\n",
       "  <thead>\n",
       "    <tr style=\"text-align: right;\">\n",
       "      <th></th>\n",
       "      <th>predicted_early_readmit</th>\n",
       "      <th>predicted_not_early_readmit</th>\n",
       "    </tr>\n",
       "  </thead>\n",
       "  <tbody>\n",
       "    <tr>\n",
       "      <th>is_early_readmit</th>\n",
       "      <td>227</td>\n",
       "      <td>190</td>\n",
       "    </tr>\n",
       "    <tr>\n",
       "      <th>not_early_readmit</th>\n",
       "      <td>1515</td>\n",
       "      <td>2853</td>\n",
       "    </tr>\n",
       "  </tbody>\n",
       "</table>\n",
       "</div>"
      ],
      "text/plain": [
       "                   predicted_early_readmit  predicted_not_early_readmit\n",
       "is_early_readmit                       227                          190\n",
       "not_early_readmit                     1515                         2853"
      ]
     },
     "execution_count": 123,
     "metadata": {},
     "output_type": "execute_result"
    }
   ],
   "source": [
    "# Logistic Regression Confusion Matrix\n",
    "conmat1 = np.array(confusion_matrix(y_test_30['readmitted_p30'], y_pred1, labels=[1,0]))\n",
    "confusion1 = pd.DataFrame(conmat1, index=['is_early_readmit', 'not_early_readmit'],\n",
    "                         columns=['predicted_early_readmit','predicted_not_early_readmit'])\n",
    "confusion1"
   ]
  },
  {
   "cell_type": "code",
   "execution_count": 124,
   "metadata": {},
   "outputs": [
    {
     "name": "stdout",
     "output_type": "stream",
     "text": [
      "             precision    recall  f1-score   support\n",
      "\n",
      "          0       0.94      0.65      0.77      4368\n",
      "          1       0.13      0.54      0.21       417\n",
      "\n",
      "avg / total       0.87      0.64      0.72      4785\n",
      "\n"
     ]
    }
   ],
   "source": [
    "# Logistic Regression Classification Report\n",
    "print(classification_report(y_test_30['readmitted_p30'], y_pred1))"
   ]
  },
  {
   "cell_type": "code",
   "execution_count": 125,
   "metadata": {},
   "outputs": [
    {
     "data": {
      "text/html": [
       "<div>\n",
       "<style>\n",
       "    .dataframe thead tr:only-child th {\n",
       "        text-align: right;\n",
       "    }\n",
       "\n",
       "    .dataframe thead th {\n",
       "        text-align: left;\n",
       "    }\n",
       "\n",
       "    .dataframe tbody tr th {\n",
       "        vertical-align: top;\n",
       "    }\n",
       "</style>\n",
       "<table border=\"1\" class=\"dataframe\">\n",
       "  <thead>\n",
       "    <tr style=\"text-align: right;\">\n",
       "      <th></th>\n",
       "      <th>predicted_early_readmit</th>\n",
       "      <th>predicted_not_early_readmit</th>\n",
       "    </tr>\n",
       "  </thead>\n",
       "  <tbody>\n",
       "    <tr>\n",
       "      <th>is_early_readmit</th>\n",
       "      <td>228</td>\n",
       "      <td>189</td>\n",
       "    </tr>\n",
       "    <tr>\n",
       "      <th>not_early_readmit</th>\n",
       "      <td>1509</td>\n",
       "      <td>2859</td>\n",
       "    </tr>\n",
       "  </tbody>\n",
       "</table>\n",
       "</div>"
      ],
      "text/plain": [
       "                   predicted_early_readmit  predicted_not_early_readmit\n",
       "is_early_readmit                       228                          189\n",
       "not_early_readmit                     1509                         2859"
      ]
     },
     "execution_count": 125,
     "metadata": {},
     "output_type": "execute_result"
    }
   ],
   "source": [
    "# MLP Classifier Confusion Matrix\n",
    "conmat2 = np.array(confusion_matrix(y_test_30['readmitted_p30'], y_pred2b, labels=[1,0]))\n",
    "confusion2 = pd.DataFrame(conmat2, index=['is_early_readmit', 'not_early_readmit'],\n",
    "                         columns=['predicted_early_readmit','predicted_not_early_readmit'])\n",
    "confusion2"
   ]
  },
  {
   "cell_type": "code",
   "execution_count": 126,
   "metadata": {},
   "outputs": [
    {
     "name": "stdout",
     "output_type": "stream",
     "text": [
      "             precision    recall  f1-score   support\n",
      "\n",
      "          0       0.94      0.65      0.77      4368\n",
      "          1       0.13      0.55      0.21       417\n",
      "\n",
      "avg / total       0.87      0.65      0.72      4785\n",
      "\n"
     ]
    }
   ],
   "source": [
    "# MLP Classifier Classification Report\n",
    "print(classification_report(y_test_30['readmitted_p30'], y_pred2b))"
   ]
  },
  {
   "cell_type": "code",
   "execution_count": 127,
   "metadata": {},
   "outputs": [
    {
     "data": {
      "text/html": [
       "<div>\n",
       "<style>\n",
       "    .dataframe thead tr:only-child th {\n",
       "        text-align: right;\n",
       "    }\n",
       "\n",
       "    .dataframe thead th {\n",
       "        text-align: left;\n",
       "    }\n",
       "\n",
       "    .dataframe tbody tr th {\n",
       "        vertical-align: top;\n",
       "    }\n",
       "</style>\n",
       "<table border=\"1\" class=\"dataframe\">\n",
       "  <thead>\n",
       "    <tr style=\"text-align: right;\">\n",
       "      <th></th>\n",
       "      <th>predicted_early_readmit</th>\n",
       "      <th>predicted_not_early_readmit</th>\n",
       "    </tr>\n",
       "  </thead>\n",
       "  <tbody>\n",
       "    <tr>\n",
       "      <th>is_early_readmit</th>\n",
       "      <td>224</td>\n",
       "      <td>193</td>\n",
       "    </tr>\n",
       "    <tr>\n",
       "      <th>not_early_readmit</th>\n",
       "      <td>1518</td>\n",
       "      <td>2850</td>\n",
       "    </tr>\n",
       "  </tbody>\n",
       "</table>\n",
       "</div>"
      ],
      "text/plain": [
       "                   predicted_early_readmit  predicted_not_early_readmit\n",
       "is_early_readmit                       224                          193\n",
       "not_early_readmit                     1518                         2850"
      ]
     },
     "execution_count": 127,
     "metadata": {},
     "output_type": "execute_result"
    }
   ],
   "source": [
    "# XGB Classifier Confusion Matrix\n",
    "conmat3 = np.array(confusion_matrix(y_test_30['readmitted_p30'], y_pred3a, labels=[1,0]))\n",
    "confusion3 = pd.DataFrame(conmat3, index=['is_early_readmit', 'not_early_readmit'],\n",
    "                         columns=['predicted_early_readmit','predicted_not_early_readmit'])\n",
    "confusion3"
   ]
  },
  {
   "cell_type": "code",
   "execution_count": 128,
   "metadata": {},
   "outputs": [
    {
     "name": "stdout",
     "output_type": "stream",
     "text": [
      "             precision    recall  f1-score   support\n",
      "\n",
      "          0       0.94      0.65      0.77      4368\n",
      "          1       0.13      0.54      0.21       417\n",
      "\n",
      "avg / total       0.87      0.64      0.72      4785\n",
      "\n"
     ]
    }
   ],
   "source": [
    "# XGB Classifier Classification Report\n",
    "print(classification_report(y_test_30['readmitted_p30'], y_pred3a))"
   ]
  },
  {
   "cell_type": "code",
   "execution_count": 195,
   "metadata": {},
   "outputs": [
    {
     "data": {
      "text/html": [
       "<div>\n",
       "<style>\n",
       "    .dataframe thead tr:only-child th {\n",
       "        text-align: right;\n",
       "    }\n",
       "\n",
       "    .dataframe thead th {\n",
       "        text-align: left;\n",
       "    }\n",
       "\n",
       "    .dataframe tbody tr th {\n",
       "        vertical-align: top;\n",
       "    }\n",
       "</style>\n",
       "<table border=\"1\" class=\"dataframe\">\n",
       "  <thead>\n",
       "    <tr style=\"text-align: right;\">\n",
       "      <th></th>\n",
       "      <th>predicted_early_readmit</th>\n",
       "      <th>predicted_not_early_readmit</th>\n",
       "    </tr>\n",
       "  </thead>\n",
       "  <tbody>\n",
       "    <tr>\n",
       "      <th>is_early_readmit</th>\n",
       "      <td>90</td>\n",
       "      <td>327</td>\n",
       "    </tr>\n",
       "    <tr>\n",
       "      <th>not_early_readmit</th>\n",
       "      <td>450</td>\n",
       "      <td>3918</td>\n",
       "    </tr>\n",
       "  </tbody>\n",
       "</table>\n",
       "</div>"
      ],
      "text/plain": [
       "                   predicted_early_readmit  predicted_not_early_readmit\n",
       "is_early_readmit                        90                          327\n",
       "not_early_readmit                      450                         3918"
      ]
     },
     "execution_count": 195,
     "metadata": {},
     "output_type": "execute_result"
    }
   ],
   "source": [
    "# RandomForest Classifier Confusion Matrix\n",
    "conmat4 = np.array(confusion_matrix(y_test_30['readmitted_p30'], y_pred4, labels=[1,0]))\n",
    "confusion4 = pd.DataFrame(conmat4, index=['is_early_readmit', 'not_early_readmit'],\n",
    "                         columns=['predicted_early_readmit','predicted_not_early_readmit'])\n",
    "confusion4"
   ]
  },
  {
   "cell_type": "code",
   "execution_count": 194,
   "metadata": {},
   "outputs": [
    {
     "name": "stdout",
     "output_type": "stream",
     "text": [
      "             precision    recall  f1-score   support\n",
      "\n",
      "          0       0.92      0.90      0.91      4368\n",
      "          1       0.17      0.22      0.19       417\n",
      "\n",
      "avg / total       0.86      0.84      0.85      4785\n",
      "\n"
     ]
    }
   ],
   "source": [
    "# RandomForest Classifier Classification Report\n",
    "print(classification_report(y_test_30['readmitted_p30'], y_pred4))"
   ]
  },
  {
   "cell_type": "code",
   "execution_count": 131,
   "metadata": {},
   "outputs": [
    {
     "data": {
      "text/html": [
       "<div>\n",
       "<style>\n",
       "    .dataframe thead tr:only-child th {\n",
       "        text-align: right;\n",
       "    }\n",
       "\n",
       "    .dataframe thead th {\n",
       "        text-align: left;\n",
       "    }\n",
       "\n",
       "    .dataframe tbody tr th {\n",
       "        vertical-align: top;\n",
       "    }\n",
       "</style>\n",
       "<table border=\"1\" class=\"dataframe\">\n",
       "  <thead>\n",
       "    <tr style=\"text-align: right;\">\n",
       "      <th></th>\n",
       "      <th>predicted_early_readmit</th>\n",
       "      <th>predicted_not_early_readmit</th>\n",
       "    </tr>\n",
       "  </thead>\n",
       "  <tbody>\n",
       "    <tr>\n",
       "      <th>is_early_readmit</th>\n",
       "      <td>167</td>\n",
       "      <td>250</td>\n",
       "    </tr>\n",
       "    <tr>\n",
       "      <th>not_early_readmit</th>\n",
       "      <td>1073</td>\n",
       "      <td>3295</td>\n",
       "    </tr>\n",
       "  </tbody>\n",
       "</table>\n",
       "</div>"
      ],
      "text/plain": [
       "                   predicted_early_readmit  predicted_not_early_readmit\n",
       "is_early_readmit                       167                          250\n",
       "not_early_readmit                     1073                         3295"
      ]
     },
     "execution_count": 131,
     "metadata": {},
     "output_type": "execute_result"
    }
   ],
   "source": [
    "# Naive Bayes Classifier Confusion Matrix\n",
    "conmat5 = np.array(confusion_matrix(y_test_30['readmitted_p30'], NB_30['y_label'], labels=[1,0]))\n",
    "confusion5 = pd.DataFrame(conmat5, index=['is_early_readmit', 'not_early_readmit'],\n",
    "                         columns=['predicted_early_readmit','predicted_not_early_readmit'])\n",
    "confusion5"
   ]
  },
  {
   "cell_type": "code",
   "execution_count": 132,
   "metadata": {},
   "outputs": [
    {
     "name": "stdout",
     "output_type": "stream",
     "text": [
      "             precision    recall  f1-score   support\n",
      "\n",
      "          0       0.93      0.75      0.83      4368\n",
      "          1       0.13      0.40      0.20       417\n",
      "\n",
      "avg / total       0.86      0.72      0.78      4785\n",
      "\n"
     ]
    }
   ],
   "source": [
    "# Naive Bayes Classifier Classification Report\n",
    "print(classification_report(y_test_30['readmitted_p30'], NB_30['y_label']))"
   ]
  },
  {
   "cell_type": "code",
   "execution_count": 133,
   "metadata": {},
   "outputs": [
    {
     "data": {
      "text/html": [
       "<div>\n",
       "<style>\n",
       "    .dataframe thead tr:only-child th {\n",
       "        text-align: right;\n",
       "    }\n",
       "\n",
       "    .dataframe thead th {\n",
       "        text-align: left;\n",
       "    }\n",
       "\n",
       "    .dataframe tbody tr th {\n",
       "        vertical-align: top;\n",
       "    }\n",
       "</style>\n",
       "<table border=\"1\" class=\"dataframe\">\n",
       "  <thead>\n",
       "    <tr style=\"text-align: right;\">\n",
       "      <th></th>\n",
       "      <th>predicted_early_readmit</th>\n",
       "      <th>predicted_not_early_readmit</th>\n",
       "    </tr>\n",
       "  </thead>\n",
       "  <tbody>\n",
       "    <tr>\n",
       "      <th>is_early_readmit</th>\n",
       "      <td>95</td>\n",
       "      <td>322</td>\n",
       "    </tr>\n",
       "    <tr>\n",
       "      <th>not_early_readmit</th>\n",
       "      <td>514</td>\n",
       "      <td>3854</td>\n",
       "    </tr>\n",
       "  </tbody>\n",
       "</table>\n",
       "</div>"
      ],
      "text/plain": [
       "                   predicted_early_readmit  predicted_not_early_readmit\n",
       "is_early_readmit                        95                          322\n",
       "not_early_readmit                      514                         3854"
      ]
     },
     "execution_count": 133,
     "metadata": {},
     "output_type": "execute_result"
    }
   ],
   "source": [
    "# Stacking Classifier Confusion Matrix\n",
    "conmat6 = np.array(confusion_matrix(y_test_30['readmitted_p30'], y_pred6, labels=[1,0]))\n",
    "confusion6 = pd.DataFrame(conmat6, index=['is_early_readmit', 'not_early_readmit'],\n",
    "                         columns=['predicted_early_readmit','predicted_not_early_readmit'])\n",
    "confusion6"
   ]
  },
  {
   "cell_type": "code",
   "execution_count": 134,
   "metadata": {},
   "outputs": [
    {
     "name": "stdout",
     "output_type": "stream",
     "text": [
      "             precision    recall  f1-score   support\n",
      "\n",
      "          0       0.92      0.88      0.90      4368\n",
      "          1       0.16      0.23      0.19       417\n",
      "\n",
      "avg / total       0.86      0.83      0.84      4785\n",
      "\n"
     ]
    }
   ],
   "source": [
    "# Stacking Classifier Classification Report\n",
    "print(classification_report(y_test_30['readmitted_p30'], y_pred6))"
   ]
  },
  {
   "cell_type": "code",
   "execution_count": 159,
   "metadata": {
    "collapsed": true
   },
   "outputs": [],
   "source": [
    "## Combined table of the precision, recall, f1, average_precision scores of the positive class and auc from the different classifiers\n",
    "\n",
    "a0, b0, c0, d0 = scores(y_test_30['readmitted_p30'], y_pred0)\n",
    "a1, b1, c1, d1 = scores(y_test_30['readmitted_p30'], y_pred1)\n",
    "a2, b2, c2, d2 = scores(y_test_30['readmitted_p30'], y_pred2b)\n",
    "a3, b3, c3, d3 = scores(y_test_30['readmitted_p30'], y_pred3a)\n",
    "a4, b4, c4, d4 = scores(y_test_30['readmitted_p30'], y_pred4)\n",
    "a5, b5, c5, d5 = scores(y_test_30['readmitted_p30'], NB_30['y_label'])\n",
    "a6, b6, c6, d6 = scores(y_test_30['readmitted_p30'], y_pred6)"
   ]
  },
  {
   "cell_type": "code",
   "execution_count": 165,
   "metadata": {
    "collapsed": true
   },
   "outputs": [],
   "source": [
    "precision = [a0, a1, a2, a3, a4, a5, a6]\n",
    "recall = [b0, b1, b2, b3, b4, b5, b6]\n",
    "f1 = [c0, c1, c2, c3, c4, c5, c6]\n",
    "ave_precision = [d0, d1, d2, d3, d4, d5, d6]\n",
    "classifiers = ['Dummy', 'Logistic_Regression', 'MLP', 'XGBoost', 'RandomForest', 'Naive_Bayes', 'Stacking']"
   ]
  },
  {
   "cell_type": "code",
   "execution_count": 166,
   "metadata": {
    "scrolled": true
   },
   "outputs": [
    {
     "data": {
      "text/html": [
       "<div>\n",
       "<style>\n",
       "    .dataframe thead tr:only-child th {\n",
       "        text-align: right;\n",
       "    }\n",
       "\n",
       "    .dataframe thead th {\n",
       "        text-align: left;\n",
       "    }\n",
       "\n",
       "    .dataframe tbody tr th {\n",
       "        vertical-align: top;\n",
       "    }\n",
       "</style>\n",
       "<table border=\"1\" class=\"dataframe\">\n",
       "  <thead>\n",
       "    <tr style=\"text-align: right;\">\n",
       "      <th></th>\n",
       "      <th>average_precision</th>\n",
       "      <th>f1_score</th>\n",
       "      <th>precision</th>\n",
       "      <th>recall</th>\n",
       "    </tr>\n",
       "  </thead>\n",
       "  <tbody>\n",
       "    <tr>\n",
       "      <th>Dummy</th>\n",
       "      <td>0.314206</td>\n",
       "      <td>0.149675</td>\n",
       "      <td>0.088123</td>\n",
       "      <td>0.496403</td>\n",
       "    </tr>\n",
       "    <tr>\n",
       "      <th>Logistic_Regression</th>\n",
       "      <td>0.357191</td>\n",
       "      <td>0.210283</td>\n",
       "      <td>0.130310</td>\n",
       "      <td>0.544365</td>\n",
       "    </tr>\n",
       "    <tr>\n",
       "      <th>MLP</th>\n",
       "      <td>0.358761</td>\n",
       "      <td>0.211699</td>\n",
       "      <td>0.131261</td>\n",
       "      <td>0.546763</td>\n",
       "    </tr>\n",
       "    <tr>\n",
       "      <th>XGBoost</th>\n",
       "      <td>0.353046</td>\n",
       "      <td>0.207503</td>\n",
       "      <td>0.128588</td>\n",
       "      <td>0.537170</td>\n",
       "    </tr>\n",
       "    <tr>\n",
       "      <th>RandomForest</th>\n",
       "      <td>0.351263</td>\n",
       "      <td>0.205530</td>\n",
       "      <td>0.127210</td>\n",
       "      <td>0.534772</td>\n",
       "    </tr>\n",
       "    <tr>\n",
       "      <th>Naive_Bayes</th>\n",
       "      <td>0.293702</td>\n",
       "      <td>0.201569</td>\n",
       "      <td>0.134677</td>\n",
       "      <td>0.400480</td>\n",
       "    </tr>\n",
       "    <tr>\n",
       "      <th>Stacking</th>\n",
       "      <td>0.225552</td>\n",
       "      <td>0.185185</td>\n",
       "      <td>0.155993</td>\n",
       "      <td>0.227818</td>\n",
       "    </tr>\n",
       "  </tbody>\n",
       "</table>\n",
       "</div>"
      ],
      "text/plain": [
       "                     average_precision  f1_score  precision    recall\n",
       "Dummy                         0.314206  0.149675   0.088123  0.496403\n",
       "Logistic_Regression           0.357191  0.210283   0.130310  0.544365\n",
       "MLP                           0.358761  0.211699   0.131261  0.546763\n",
       "XGBoost                       0.353046  0.207503   0.128588  0.537170\n",
       "RandomForest                  0.351263  0.205530   0.127210  0.534772\n",
       "Naive_Bayes                   0.293702  0.201569   0.134677  0.400480\n",
       "Stacking                      0.225552  0.185185   0.155993  0.227818"
      ]
     },
     "execution_count": 166,
     "metadata": {},
     "output_type": "execute_result"
    }
   ],
   "source": [
    "classification_metrics = pd.DataFrame(data={'precision':precision, 'recall':recall, 'f1_score':f1, 'average_precision':ave_precision}, index=classifiers)\n",
    "classification_metrics"
   ]
  },
  {
   "cell_type": "markdown",
   "metadata": {},
   "source": [
    "Based on the results above, seems like MLP Classifier gives the best results. Naive Bayes and Stacking perform worse than the Dummy Baseline Classifier"
   ]
  },
  {
   "cell_type": "code",
   "execution_count": 180,
   "metadata": {},
   "outputs": [
    {
     "name": "stdout",
     "output_type": "stream",
     "text": [
      "Help on function precision_recall in module __main__:\n",
      "\n",
      "precision_recall(y_test, y_pred, y_pred_proba)\n",
      "    Function accepts the y_test scores and y_predict probability scores to plot the precison-recall curve\n",
      "\n"
     ]
    }
   ],
   "source": [
    "help(precision_recall)"
   ]
  },
  {
   "cell_type": "code",
   "execution_count": 201,
   "metadata": {
    "scrolled": true
   },
   "outputs": [
    {
     "data": {
      "text/html": [
       "<div>\n",
       "<style>\n",
       "    .dataframe thead tr:only-child th {\n",
       "        text-align: right;\n",
       "    }\n",
       "\n",
       "    .dataframe thead th {\n",
       "        text-align: left;\n",
       "    }\n",
       "\n",
       "    .dataframe tbody tr th {\n",
       "        vertical-align: top;\n",
       "    }\n",
       "</style>\n",
       "<table border=\"1\" class=\"dataframe\">\n",
       "  <thead>\n",
       "    <tr style=\"text-align: right;\">\n",
       "      <th></th>\n",
       "      <th>cat_0</th>\n",
       "      <th>cat_1</th>\n",
       "      <th>num_0</th>\n",
       "      <th>num_1</th>\n",
       "      <th>class_0</th>\n",
       "      <th>class_1</th>\n",
       "      <th>y_label</th>\n",
       "    </tr>\n",
       "  </thead>\n",
       "  <tbody>\n",
       "    <tr>\n",
       "      <th>0</th>\n",
       "      <td>0.341044</td>\n",
       "      <td>0.658956</td>\n",
       "      <td>5.771113e-01</td>\n",
       "      <td>0.422889</td>\n",
       "      <td>0.459077</td>\n",
       "      <td>0.540923</td>\n",
       "      <td>1</td>\n",
       "    </tr>\n",
       "    <tr>\n",
       "      <th>1</th>\n",
       "      <td>0.668341</td>\n",
       "      <td>0.331659</td>\n",
       "      <td>2.053229e-03</td>\n",
       "      <td>0.997947</td>\n",
       "      <td>0.335197</td>\n",
       "      <td>0.664803</td>\n",
       "      <td>1</td>\n",
       "    </tr>\n",
       "    <tr>\n",
       "      <th>2</th>\n",
       "      <td>0.490340</td>\n",
       "      <td>0.509660</td>\n",
       "      <td>6.574034e-01</td>\n",
       "      <td>0.342597</td>\n",
       "      <td>0.573872</td>\n",
       "      <td>0.426128</td>\n",
       "      <td>0</td>\n",
       "    </tr>\n",
       "    <tr>\n",
       "      <th>3</th>\n",
       "      <td>0.533338</td>\n",
       "      <td>0.466662</td>\n",
       "      <td>5.306861e-01</td>\n",
       "      <td>0.469314</td>\n",
       "      <td>0.532012</td>\n",
       "      <td>0.467988</td>\n",
       "      <td>0</td>\n",
       "    </tr>\n",
       "    <tr>\n",
       "      <th>4</th>\n",
       "      <td>0.300510</td>\n",
       "      <td>0.699490</td>\n",
       "      <td>5.398000e-01</td>\n",
       "      <td>0.460200</td>\n",
       "      <td>0.420155</td>\n",
       "      <td>0.579845</td>\n",
       "      <td>1</td>\n",
       "    </tr>\n",
       "    <tr>\n",
       "      <th>5</th>\n",
       "      <td>0.525798</td>\n",
       "      <td>0.474202</td>\n",
       "      <td>6.317385e-01</td>\n",
       "      <td>0.368261</td>\n",
       "      <td>0.578768</td>\n",
       "      <td>0.421232</td>\n",
       "      <td>0</td>\n",
       "    </tr>\n",
       "    <tr>\n",
       "      <th>6</th>\n",
       "      <td>0.182913</td>\n",
       "      <td>0.817087</td>\n",
       "      <td>4.958440e-04</td>\n",
       "      <td>0.999504</td>\n",
       "      <td>0.091704</td>\n",
       "      <td>0.908296</td>\n",
       "      <td>1</td>\n",
       "    </tr>\n",
       "    <tr>\n",
       "      <th>7</th>\n",
       "      <td>0.747699</td>\n",
       "      <td>0.252301</td>\n",
       "      <td>8.169072e-01</td>\n",
       "      <td>0.183093</td>\n",
       "      <td>0.782303</td>\n",
       "      <td>0.217697</td>\n",
       "      <td>0</td>\n",
       "    </tr>\n",
       "    <tr>\n",
       "      <th>8</th>\n",
       "      <td>0.617106</td>\n",
       "      <td>0.382894</td>\n",
       "      <td>7.705615e-01</td>\n",
       "      <td>0.229439</td>\n",
       "      <td>0.693834</td>\n",
       "      <td>0.306166</td>\n",
       "      <td>0</td>\n",
       "    </tr>\n",
       "    <tr>\n",
       "      <th>9</th>\n",
       "      <td>0.522512</td>\n",
       "      <td>0.477488</td>\n",
       "      <td>7.385810e-01</td>\n",
       "      <td>0.261419</td>\n",
       "      <td>0.630546</td>\n",
       "      <td>0.369454</td>\n",
       "      <td>0</td>\n",
       "    </tr>\n",
       "    <tr>\n",
       "      <th>10</th>\n",
       "      <td>0.618850</td>\n",
       "      <td>0.381150</td>\n",
       "      <td>6.323942e-01</td>\n",
       "      <td>0.367606</td>\n",
       "      <td>0.625622</td>\n",
       "      <td>0.374378</td>\n",
       "      <td>0</td>\n",
       "    </tr>\n",
       "    <tr>\n",
       "      <th>11</th>\n",
       "      <td>0.650807</td>\n",
       "      <td>0.349193</td>\n",
       "      <td>5.955172e-01</td>\n",
       "      <td>0.404483</td>\n",
       "      <td>0.623162</td>\n",
       "      <td>0.376838</td>\n",
       "      <td>0</td>\n",
       "    </tr>\n",
       "    <tr>\n",
       "      <th>12</th>\n",
       "      <td>0.662600</td>\n",
       "      <td>0.337400</td>\n",
       "      <td>6.100222e-01</td>\n",
       "      <td>0.389978</td>\n",
       "      <td>0.636311</td>\n",
       "      <td>0.363689</td>\n",
       "      <td>0</td>\n",
       "    </tr>\n",
       "    <tr>\n",
       "      <th>13</th>\n",
       "      <td>0.389006</td>\n",
       "      <td>0.610994</td>\n",
       "      <td>5.177599e-01</td>\n",
       "      <td>0.482240</td>\n",
       "      <td>0.453383</td>\n",
       "      <td>0.546617</td>\n",
       "      <td>1</td>\n",
       "    </tr>\n",
       "    <tr>\n",
       "      <th>14</th>\n",
       "      <td>0.386458</td>\n",
       "      <td>0.613542</td>\n",
       "      <td>7.701847e-01</td>\n",
       "      <td>0.229815</td>\n",
       "      <td>0.578321</td>\n",
       "      <td>0.421679</td>\n",
       "      <td>0</td>\n",
       "    </tr>\n",
       "    <tr>\n",
       "      <th>15</th>\n",
       "      <td>0.651548</td>\n",
       "      <td>0.348452</td>\n",
       "      <td>5.717341e-01</td>\n",
       "      <td>0.428266</td>\n",
       "      <td>0.611641</td>\n",
       "      <td>0.388359</td>\n",
       "      <td>0</td>\n",
       "    </tr>\n",
       "    <tr>\n",
       "      <th>16</th>\n",
       "      <td>0.414303</td>\n",
       "      <td>0.585697</td>\n",
       "      <td>5.051707e-01</td>\n",
       "      <td>0.494829</td>\n",
       "      <td>0.459737</td>\n",
       "      <td>0.540263</td>\n",
       "      <td>1</td>\n",
       "    </tr>\n",
       "    <tr>\n",
       "      <th>17</th>\n",
       "      <td>0.355737</td>\n",
       "      <td>0.644263</td>\n",
       "      <td>5.914640e-01</td>\n",
       "      <td>0.408536</td>\n",
       "      <td>0.473600</td>\n",
       "      <td>0.526400</td>\n",
       "      <td>1</td>\n",
       "    </tr>\n",
       "    <tr>\n",
       "      <th>18</th>\n",
       "      <td>0.102913</td>\n",
       "      <td>0.897087</td>\n",
       "      <td>6.429979e-01</td>\n",
       "      <td>0.357002</td>\n",
       "      <td>0.372955</td>\n",
       "      <td>0.627045</td>\n",
       "      <td>1</td>\n",
       "    </tr>\n",
       "    <tr>\n",
       "      <th>19</th>\n",
       "      <td>0.634377</td>\n",
       "      <td>0.365623</td>\n",
       "      <td>7.165385e-01</td>\n",
       "      <td>0.283462</td>\n",
       "      <td>0.675458</td>\n",
       "      <td>0.324542</td>\n",
       "      <td>0</td>\n",
       "    </tr>\n",
       "    <tr>\n",
       "      <th>20</th>\n",
       "      <td>0.502549</td>\n",
       "      <td>0.497451</td>\n",
       "      <td>5.669614e-01</td>\n",
       "      <td>0.433039</td>\n",
       "      <td>0.534755</td>\n",
       "      <td>0.465245</td>\n",
       "      <td>0</td>\n",
       "    </tr>\n",
       "    <tr>\n",
       "      <th>21</th>\n",
       "      <td>0.614690</td>\n",
       "      <td>0.385310</td>\n",
       "      <td>7.036286e-01</td>\n",
       "      <td>0.296371</td>\n",
       "      <td>0.659159</td>\n",
       "      <td>0.340841</td>\n",
       "      <td>0</td>\n",
       "    </tr>\n",
       "    <tr>\n",
       "      <th>22</th>\n",
       "      <td>0.235847</td>\n",
       "      <td>0.764153</td>\n",
       "      <td>7.824323e-01</td>\n",
       "      <td>0.217568</td>\n",
       "      <td>0.509140</td>\n",
       "      <td>0.490860</td>\n",
       "      <td>0</td>\n",
       "    </tr>\n",
       "    <tr>\n",
       "      <th>23</th>\n",
       "      <td>0.387576</td>\n",
       "      <td>0.612424</td>\n",
       "      <td>4.689286e-01</td>\n",
       "      <td>0.531071</td>\n",
       "      <td>0.428252</td>\n",
       "      <td>0.571748</td>\n",
       "      <td>1</td>\n",
       "    </tr>\n",
       "    <tr>\n",
       "      <th>24</th>\n",
       "      <td>0.821519</td>\n",
       "      <td>0.178481</td>\n",
       "      <td>7.111922e-01</td>\n",
       "      <td>0.288808</td>\n",
       "      <td>0.766356</td>\n",
       "      <td>0.233644</td>\n",
       "      <td>0</td>\n",
       "    </tr>\n",
       "    <tr>\n",
       "      <th>25</th>\n",
       "      <td>0.601648</td>\n",
       "      <td>0.398352</td>\n",
       "      <td>2.738783e-01</td>\n",
       "      <td>0.726122</td>\n",
       "      <td>0.437763</td>\n",
       "      <td>0.562237</td>\n",
       "      <td>1</td>\n",
       "    </tr>\n",
       "    <tr>\n",
       "      <th>26</th>\n",
       "      <td>0.482168</td>\n",
       "      <td>0.517832</td>\n",
       "      <td>9.979899e-01</td>\n",
       "      <td>0.002010</td>\n",
       "      <td>0.740079</td>\n",
       "      <td>0.259921</td>\n",
       "      <td>0</td>\n",
       "    </tr>\n",
       "    <tr>\n",
       "      <th>27</th>\n",
       "      <td>0.631210</td>\n",
       "      <td>0.368790</td>\n",
       "      <td>5.106522e-01</td>\n",
       "      <td>0.489348</td>\n",
       "      <td>0.570931</td>\n",
       "      <td>0.429069</td>\n",
       "      <td>0</td>\n",
       "    </tr>\n",
       "    <tr>\n",
       "      <th>28</th>\n",
       "      <td>0.667564</td>\n",
       "      <td>0.332436</td>\n",
       "      <td>5.192072e-01</td>\n",
       "      <td>0.480793</td>\n",
       "      <td>0.593386</td>\n",
       "      <td>0.406614</td>\n",
       "      <td>0</td>\n",
       "    </tr>\n",
       "    <tr>\n",
       "      <th>29</th>\n",
       "      <td>0.558328</td>\n",
       "      <td>0.441672</td>\n",
       "      <td>5.633085e-01</td>\n",
       "      <td>0.436692</td>\n",
       "      <td>0.560818</td>\n",
       "      <td>0.439182</td>\n",
       "      <td>0</td>\n",
       "    </tr>\n",
       "    <tr>\n",
       "      <th>...</th>\n",
       "      <td>...</td>\n",
       "      <td>...</td>\n",
       "      <td>...</td>\n",
       "      <td>...</td>\n",
       "      <td>...</td>\n",
       "      <td>...</td>\n",
       "      <td>...</td>\n",
       "    </tr>\n",
       "    <tr>\n",
       "      <th>4755</th>\n",
       "      <td>0.367301</td>\n",
       "      <td>0.632699</td>\n",
       "      <td>2.939907e-01</td>\n",
       "      <td>0.706009</td>\n",
       "      <td>0.330646</td>\n",
       "      <td>0.669354</td>\n",
       "      <td>1</td>\n",
       "    </tr>\n",
       "    <tr>\n",
       "      <th>4756</th>\n",
       "      <td>0.686852</td>\n",
       "      <td>0.313148</td>\n",
       "      <td>5.848285e-01</td>\n",
       "      <td>0.415172</td>\n",
       "      <td>0.635840</td>\n",
       "      <td>0.364160</td>\n",
       "      <td>0</td>\n",
       "    </tr>\n",
       "    <tr>\n",
       "      <th>4757</th>\n",
       "      <td>0.530005</td>\n",
       "      <td>0.469995</td>\n",
       "      <td>5.911872e-01</td>\n",
       "      <td>0.408813</td>\n",
       "      <td>0.560596</td>\n",
       "      <td>0.439404</td>\n",
       "      <td>0</td>\n",
       "    </tr>\n",
       "    <tr>\n",
       "      <th>4758</th>\n",
       "      <td>0.550316</td>\n",
       "      <td>0.449684</td>\n",
       "      <td>6.106948e-01</td>\n",
       "      <td>0.389305</td>\n",
       "      <td>0.580505</td>\n",
       "      <td>0.419495</td>\n",
       "      <td>0</td>\n",
       "    </tr>\n",
       "    <tr>\n",
       "      <th>4759</th>\n",
       "      <td>0.767766</td>\n",
       "      <td>0.232234</td>\n",
       "      <td>6.098809e-01</td>\n",
       "      <td>0.390119</td>\n",
       "      <td>0.688823</td>\n",
       "      <td>0.311177</td>\n",
       "      <td>0</td>\n",
       "    </tr>\n",
       "    <tr>\n",
       "      <th>4760</th>\n",
       "      <td>0.535544</td>\n",
       "      <td>0.464456</td>\n",
       "      <td>6.002465e-01</td>\n",
       "      <td>0.399754</td>\n",
       "      <td>0.567895</td>\n",
       "      <td>0.432105</td>\n",
       "      <td>0</td>\n",
       "    </tr>\n",
       "    <tr>\n",
       "      <th>4761</th>\n",
       "      <td>0.812957</td>\n",
       "      <td>0.187043</td>\n",
       "      <td>6.053476e-01</td>\n",
       "      <td>0.394652</td>\n",
       "      <td>0.709152</td>\n",
       "      <td>0.290848</td>\n",
       "      <td>0</td>\n",
       "    </tr>\n",
       "    <tr>\n",
       "      <th>4762</th>\n",
       "      <td>0.410186</td>\n",
       "      <td>0.589814</td>\n",
       "      <td>7.126091e-01</td>\n",
       "      <td>0.287391</td>\n",
       "      <td>0.561398</td>\n",
       "      <td>0.438602</td>\n",
       "      <td>0</td>\n",
       "    </tr>\n",
       "    <tr>\n",
       "      <th>4763</th>\n",
       "      <td>0.580951</td>\n",
       "      <td>0.419049</td>\n",
       "      <td>5.732198e-01</td>\n",
       "      <td>0.426780</td>\n",
       "      <td>0.577085</td>\n",
       "      <td>0.422915</td>\n",
       "      <td>0</td>\n",
       "    </tr>\n",
       "    <tr>\n",
       "      <th>4764</th>\n",
       "      <td>0.676549</td>\n",
       "      <td>0.323451</td>\n",
       "      <td>6.783759e-01</td>\n",
       "      <td>0.321624</td>\n",
       "      <td>0.677462</td>\n",
       "      <td>0.322538</td>\n",
       "      <td>0</td>\n",
       "    </tr>\n",
       "    <tr>\n",
       "      <th>4765</th>\n",
       "      <td>0.514684</td>\n",
       "      <td>0.485316</td>\n",
       "      <td>6.200032e-01</td>\n",
       "      <td>0.379997</td>\n",
       "      <td>0.567344</td>\n",
       "      <td>0.432656</td>\n",
       "      <td>0</td>\n",
       "    </tr>\n",
       "    <tr>\n",
       "      <th>4766</th>\n",
       "      <td>0.514687</td>\n",
       "      <td>0.485313</td>\n",
       "      <td>6.105027e-01</td>\n",
       "      <td>0.389497</td>\n",
       "      <td>0.562595</td>\n",
       "      <td>0.437405</td>\n",
       "      <td>0</td>\n",
       "    </tr>\n",
       "    <tr>\n",
       "      <th>4767</th>\n",
       "      <td>0.660356</td>\n",
       "      <td>0.339644</td>\n",
       "      <td>6.036144e-01</td>\n",
       "      <td>0.396386</td>\n",
       "      <td>0.631985</td>\n",
       "      <td>0.368015</td>\n",
       "      <td>0</td>\n",
       "    </tr>\n",
       "    <tr>\n",
       "      <th>4768</th>\n",
       "      <td>0.631336</td>\n",
       "      <td>0.368664</td>\n",
       "      <td>6.543966e-01</td>\n",
       "      <td>0.345603</td>\n",
       "      <td>0.642866</td>\n",
       "      <td>0.357134</td>\n",
       "      <td>0</td>\n",
       "    </tr>\n",
       "    <tr>\n",
       "      <th>4769</th>\n",
       "      <td>0.522654</td>\n",
       "      <td>0.477346</td>\n",
       "      <td>6.074437e-01</td>\n",
       "      <td>0.392556</td>\n",
       "      <td>0.565049</td>\n",
       "      <td>0.434951</td>\n",
       "      <td>0</td>\n",
       "    </tr>\n",
       "    <tr>\n",
       "      <th>4770</th>\n",
       "      <td>0.572825</td>\n",
       "      <td>0.427175</td>\n",
       "      <td>5.458022e-01</td>\n",
       "      <td>0.454198</td>\n",
       "      <td>0.559314</td>\n",
       "      <td>0.440686</td>\n",
       "      <td>0</td>\n",
       "    </tr>\n",
       "    <tr>\n",
       "      <th>4771</th>\n",
       "      <td>0.650561</td>\n",
       "      <td>0.349439</td>\n",
       "      <td>5.405375e-01</td>\n",
       "      <td>0.459462</td>\n",
       "      <td>0.595549</td>\n",
       "      <td>0.404451</td>\n",
       "      <td>0</td>\n",
       "    </tr>\n",
       "    <tr>\n",
       "      <th>4772</th>\n",
       "      <td>0.805281</td>\n",
       "      <td>0.194719</td>\n",
       "      <td>5.355346e-01</td>\n",
       "      <td>0.464465</td>\n",
       "      <td>0.670408</td>\n",
       "      <td>0.329592</td>\n",
       "      <td>0</td>\n",
       "    </tr>\n",
       "    <tr>\n",
       "      <th>4773</th>\n",
       "      <td>0.676799</td>\n",
       "      <td>0.323201</td>\n",
       "      <td>4.029893e-01</td>\n",
       "      <td>0.597011</td>\n",
       "      <td>0.539894</td>\n",
       "      <td>0.460106</td>\n",
       "      <td>0</td>\n",
       "    </tr>\n",
       "    <tr>\n",
       "      <th>4774</th>\n",
       "      <td>0.236132</td>\n",
       "      <td>0.763868</td>\n",
       "      <td>1.251409e-07</td>\n",
       "      <td>1.000000</td>\n",
       "      <td>0.118066</td>\n",
       "      <td>0.881934</td>\n",
       "      <td>1</td>\n",
       "    </tr>\n",
       "    <tr>\n",
       "      <th>4775</th>\n",
       "      <td>0.712257</td>\n",
       "      <td>0.287743</td>\n",
       "      <td>6.714699e-01</td>\n",
       "      <td>0.328530</td>\n",
       "      <td>0.691864</td>\n",
       "      <td>0.308136</td>\n",
       "      <td>0</td>\n",
       "    </tr>\n",
       "    <tr>\n",
       "      <th>4776</th>\n",
       "      <td>0.670182</td>\n",
       "      <td>0.329818</td>\n",
       "      <td>6.285179e-01</td>\n",
       "      <td>0.371482</td>\n",
       "      <td>0.649350</td>\n",
       "      <td>0.350650</td>\n",
       "      <td>0</td>\n",
       "    </tr>\n",
       "    <tr>\n",
       "      <th>4777</th>\n",
       "      <td>0.578144</td>\n",
       "      <td>0.421856</td>\n",
       "      <td>6.240842e-01</td>\n",
       "      <td>0.375916</td>\n",
       "      <td>0.601114</td>\n",
       "      <td>0.398886</td>\n",
       "      <td>0</td>\n",
       "    </tr>\n",
       "    <tr>\n",
       "      <th>4778</th>\n",
       "      <td>0.688856</td>\n",
       "      <td>0.311144</td>\n",
       "      <td>6.942926e-01</td>\n",
       "      <td>0.305707</td>\n",
       "      <td>0.691574</td>\n",
       "      <td>0.308426</td>\n",
       "      <td>0</td>\n",
       "    </tr>\n",
       "    <tr>\n",
       "      <th>4779</th>\n",
       "      <td>0.643382</td>\n",
       "      <td>0.356618</td>\n",
       "      <td>1.139267e-03</td>\n",
       "      <td>0.998861</td>\n",
       "      <td>0.322261</td>\n",
       "      <td>0.677739</td>\n",
       "      <td>1</td>\n",
       "    </tr>\n",
       "    <tr>\n",
       "      <th>4780</th>\n",
       "      <td>0.620640</td>\n",
       "      <td>0.379360</td>\n",
       "      <td>5.914640e-01</td>\n",
       "      <td>0.408536</td>\n",
       "      <td>0.606052</td>\n",
       "      <td>0.393948</td>\n",
       "      <td>0</td>\n",
       "    </tr>\n",
       "    <tr>\n",
       "      <th>4781</th>\n",
       "      <td>0.617137</td>\n",
       "      <td>0.382863</td>\n",
       "      <td>5.898331e-01</td>\n",
       "      <td>0.410167</td>\n",
       "      <td>0.603485</td>\n",
       "      <td>0.396515</td>\n",
       "      <td>0</td>\n",
       "    </tr>\n",
       "    <tr>\n",
       "      <th>4782</th>\n",
       "      <td>0.575886</td>\n",
       "      <td>0.424114</td>\n",
       "      <td>4.524774e-01</td>\n",
       "      <td>0.547523</td>\n",
       "      <td>0.514182</td>\n",
       "      <td>0.485818</td>\n",
       "      <td>0</td>\n",
       "    </tr>\n",
       "    <tr>\n",
       "      <th>4783</th>\n",
       "      <td>0.684260</td>\n",
       "      <td>0.315740</td>\n",
       "      <td>6.537100e-01</td>\n",
       "      <td>0.346290</td>\n",
       "      <td>0.668985</td>\n",
       "      <td>0.331015</td>\n",
       "      <td>0</td>\n",
       "    </tr>\n",
       "    <tr>\n",
       "      <th>4784</th>\n",
       "      <td>0.661528</td>\n",
       "      <td>0.338472</td>\n",
       "      <td>6.551537e-01</td>\n",
       "      <td>0.344846</td>\n",
       "      <td>0.658341</td>\n",
       "      <td>0.341659</td>\n",
       "      <td>0</td>\n",
       "    </tr>\n",
       "  </tbody>\n",
       "</table>\n",
       "<p>4785 rows × 7 columns</p>\n",
       "</div>"
      ],
      "text/plain": [
       "         cat_0     cat_1         num_0     num_1   class_0   class_1  y_label\n",
       "0     0.341044  0.658956  5.771113e-01  0.422889  0.459077  0.540923        1\n",
       "1     0.668341  0.331659  2.053229e-03  0.997947  0.335197  0.664803        1\n",
       "2     0.490340  0.509660  6.574034e-01  0.342597  0.573872  0.426128        0\n",
       "3     0.533338  0.466662  5.306861e-01  0.469314  0.532012  0.467988        0\n",
       "4     0.300510  0.699490  5.398000e-01  0.460200  0.420155  0.579845        1\n",
       "5     0.525798  0.474202  6.317385e-01  0.368261  0.578768  0.421232        0\n",
       "6     0.182913  0.817087  4.958440e-04  0.999504  0.091704  0.908296        1\n",
       "7     0.747699  0.252301  8.169072e-01  0.183093  0.782303  0.217697        0\n",
       "8     0.617106  0.382894  7.705615e-01  0.229439  0.693834  0.306166        0\n",
       "9     0.522512  0.477488  7.385810e-01  0.261419  0.630546  0.369454        0\n",
       "10    0.618850  0.381150  6.323942e-01  0.367606  0.625622  0.374378        0\n",
       "11    0.650807  0.349193  5.955172e-01  0.404483  0.623162  0.376838        0\n",
       "12    0.662600  0.337400  6.100222e-01  0.389978  0.636311  0.363689        0\n",
       "13    0.389006  0.610994  5.177599e-01  0.482240  0.453383  0.546617        1\n",
       "14    0.386458  0.613542  7.701847e-01  0.229815  0.578321  0.421679        0\n",
       "15    0.651548  0.348452  5.717341e-01  0.428266  0.611641  0.388359        0\n",
       "16    0.414303  0.585697  5.051707e-01  0.494829  0.459737  0.540263        1\n",
       "17    0.355737  0.644263  5.914640e-01  0.408536  0.473600  0.526400        1\n",
       "18    0.102913  0.897087  6.429979e-01  0.357002  0.372955  0.627045        1\n",
       "19    0.634377  0.365623  7.165385e-01  0.283462  0.675458  0.324542        0\n",
       "20    0.502549  0.497451  5.669614e-01  0.433039  0.534755  0.465245        0\n",
       "21    0.614690  0.385310  7.036286e-01  0.296371  0.659159  0.340841        0\n",
       "22    0.235847  0.764153  7.824323e-01  0.217568  0.509140  0.490860        0\n",
       "23    0.387576  0.612424  4.689286e-01  0.531071  0.428252  0.571748        1\n",
       "24    0.821519  0.178481  7.111922e-01  0.288808  0.766356  0.233644        0\n",
       "25    0.601648  0.398352  2.738783e-01  0.726122  0.437763  0.562237        1\n",
       "26    0.482168  0.517832  9.979899e-01  0.002010  0.740079  0.259921        0\n",
       "27    0.631210  0.368790  5.106522e-01  0.489348  0.570931  0.429069        0\n",
       "28    0.667564  0.332436  5.192072e-01  0.480793  0.593386  0.406614        0\n",
       "29    0.558328  0.441672  5.633085e-01  0.436692  0.560818  0.439182        0\n",
       "...        ...       ...           ...       ...       ...       ...      ...\n",
       "4755  0.367301  0.632699  2.939907e-01  0.706009  0.330646  0.669354        1\n",
       "4756  0.686852  0.313148  5.848285e-01  0.415172  0.635840  0.364160        0\n",
       "4757  0.530005  0.469995  5.911872e-01  0.408813  0.560596  0.439404        0\n",
       "4758  0.550316  0.449684  6.106948e-01  0.389305  0.580505  0.419495        0\n",
       "4759  0.767766  0.232234  6.098809e-01  0.390119  0.688823  0.311177        0\n",
       "4760  0.535544  0.464456  6.002465e-01  0.399754  0.567895  0.432105        0\n",
       "4761  0.812957  0.187043  6.053476e-01  0.394652  0.709152  0.290848        0\n",
       "4762  0.410186  0.589814  7.126091e-01  0.287391  0.561398  0.438602        0\n",
       "4763  0.580951  0.419049  5.732198e-01  0.426780  0.577085  0.422915        0\n",
       "4764  0.676549  0.323451  6.783759e-01  0.321624  0.677462  0.322538        0\n",
       "4765  0.514684  0.485316  6.200032e-01  0.379997  0.567344  0.432656        0\n",
       "4766  0.514687  0.485313  6.105027e-01  0.389497  0.562595  0.437405        0\n",
       "4767  0.660356  0.339644  6.036144e-01  0.396386  0.631985  0.368015        0\n",
       "4768  0.631336  0.368664  6.543966e-01  0.345603  0.642866  0.357134        0\n",
       "4769  0.522654  0.477346  6.074437e-01  0.392556  0.565049  0.434951        0\n",
       "4770  0.572825  0.427175  5.458022e-01  0.454198  0.559314  0.440686        0\n",
       "4771  0.650561  0.349439  5.405375e-01  0.459462  0.595549  0.404451        0\n",
       "4772  0.805281  0.194719  5.355346e-01  0.464465  0.670408  0.329592        0\n",
       "4773  0.676799  0.323201  4.029893e-01  0.597011  0.539894  0.460106        0\n",
       "4774  0.236132  0.763868  1.251409e-07  1.000000  0.118066  0.881934        1\n",
       "4775  0.712257  0.287743  6.714699e-01  0.328530  0.691864  0.308136        0\n",
       "4776  0.670182  0.329818  6.285179e-01  0.371482  0.649350  0.350650        0\n",
       "4777  0.578144  0.421856  6.240842e-01  0.375916  0.601114  0.398886        0\n",
       "4778  0.688856  0.311144  6.942926e-01  0.305707  0.691574  0.308426        0\n",
       "4779  0.643382  0.356618  1.139267e-03  0.998861  0.322261  0.677739        1\n",
       "4780  0.620640  0.379360  5.914640e-01  0.408536  0.606052  0.393948        0\n",
       "4781  0.617137  0.382863  5.898331e-01  0.410167  0.603485  0.396515        0\n",
       "4782  0.575886  0.424114  4.524774e-01  0.547523  0.514182  0.485818        0\n",
       "4783  0.684260  0.315740  6.537100e-01  0.346290  0.668985  0.331015        0\n",
       "4784  0.661528  0.338472  6.551537e-01  0.344846  0.658341  0.341659        0\n",
       "\n",
       "[4785 rows x 7 columns]"
      ]
     },
     "execution_count": 201,
     "metadata": {},
     "output_type": "execute_result"
    }
   ],
   "source": [
    "NB_30"
   ]
  },
  {
   "cell_type": "code",
   "execution_count": 210,
   "metadata": {
    "scrolled": false
   },
   "outputs": [
    {
     "data": {
      "image/png": "[encoded data removed]",
      "text/plain": [
       "<matplotlib.figure.Figure at 0x7ff17487d080>"
      ]
     },
     "metadata": {},
     "output_type": "display_data"
    }
   ],
   "source": [
    "# Plotting the precision-recall curves for the different classifiers\n",
    "\n",
    "plt.figure(figsize=(16,12))\n",
    "\n",
    "plt.subplot(4,2,1)\n",
    "precision_recall(y_test_30['readmitted_p30'], y_pred0, dm.predict_proba(X_test_30)[:,1], 'Dummy')\n",
    "plt.subplot(4,2,2)\n",
    "precision_recall(y_test_30['readmitted_p30'], y_pred1, lr_best.predict_proba(X_test_30)[:,1], 'Logistic Regression')\n",
    "plt.subplot(4,2,3)\n",
    "precision_recall(y_test_30['readmitted_p30'], y_pred2b, mlp2.predict_proba(X_test_30)[:,1], 'MLP')\n",
    "plt.subplot(4,2,4)\n",
    "precision_recall(y_test_30['readmitted_p30'], y_pred3a, best_xgb.predict_proba(X_test_30)[:,1], 'XGB')\n",
    "plt.subplot(4,2,5)\n",
    "precision_recall(y_test_30['readmitted_p30'], y_pred4, rf_best.predict_proba(X_test_30n)[:,1], 'RandomForest')\n",
    "plt.subplot(4,2,6)\n",
    "precision_recall(y_test_30['readmitted_p30'], NB_30['y_label'], NB_30['class_1'], 'Naive Bayes')\n",
    "plt.subplot(4,2,7)\n",
    "precision_recall(y_test_30['readmitted_p30'], y_pred6, sclf.predict_proba(X_test_30)[:,1], 'Stacking')\n",
    "plt.tight_layout()"
   ]
  },
  {
   "cell_type": "markdown",
   "metadata": {
    "collapsed": true
   },
   "source": [
    "Based on the confusion matrix, classification report and the plots above, the best performing classifier on the test set is MLP followed by Logistic Regression. Since MLP Classifier is based on Neural Networks, it is not possible to find the coefficients of the features and hence it is not possible to find out which features contribute the most to the predictions of the readmission outcome. Hence, we will get the coefficients of the features based on the 2nd best model Logistic Regression. However, it should be noted that different models do give different coefficients for the features, and hence that given by the Logistic Regression may not reflect the true importance of features for the MLP Classifer."
   ]
  },
  {
   "cell_type": "code",
   "execution_count": 211,
   "metadata": {
    "scrolled": true
   },
   "outputs": [
    {
     "data": {
      "text/html": [
       "<div>\n",
       "<style>\n",
       "    .dataframe thead tr:only-child th {\n",
       "        text-align: right;\n",
       "    }\n",
       "\n",
       "    .dataframe thead th {\n",
       "        text-align: left;\n",
       "    }\n",
       "\n",
       "    .dataframe tbody tr th {\n",
       "        vertical-align: top;\n",
       "    }\n",
       "</style>\n",
       "<table border=\"1\" class=\"dataframe\">\n",
       "  <thead>\n",
       "    <tr style=\"text-align: right;\">\n",
       "      <th></th>\n",
       "      <th>Abs_Coefficients</th>\n",
       "      <th>Coefficients</th>\n",
       "      <th>Features</th>\n",
       "    </tr>\n",
       "  </thead>\n",
       "  <tbody>\n",
       "    <tr>\n",
       "      <th>27</th>\n",
       "      <td>4.355579</td>\n",
       "      <td>4.355579</td>\n",
       "      <td>number_inpatient</td>\n",
       "    </tr>\n",
       "    <tr>\n",
       "      <th>26</th>\n",
       "      <td>3.172131</td>\n",
       "      <td>3.172131</td>\n",
       "      <td>number_emergency</td>\n",
       "    </tr>\n",
       "    <tr>\n",
       "      <th>40</th>\n",
       "      <td>3.033430</td>\n",
       "      <td>3.033430</td>\n",
       "      <td>discharge_disposition_id_3</td>\n",
       "    </tr>\n",
       "    <tr>\n",
       "      <th>5</th>\n",
       "      <td>2.744057</td>\n",
       "      <td>-2.744057</td>\n",
       "      <td>chlorpropamide</td>\n",
       "    </tr>\n",
       "    <tr>\n",
       "      <th>14</th>\n",
       "      <td>2.444524</td>\n",
       "      <td>-2.444524</td>\n",
       "      <td>tolazamide</td>\n",
       "    </tr>\n",
       "    <tr>\n",
       "      <th>37</th>\n",
       "      <td>1.959763</td>\n",
       "      <td>1.959763</td>\n",
       "      <td>admission_type_id_2</td>\n",
       "    </tr>\n",
       "    <tr>\n",
       "      <th>35</th>\n",
       "      <td>1.952710</td>\n",
       "      <td>1.952710</td>\n",
       "      <td>age_2</td>\n",
       "    </tr>\n",
       "    <tr>\n",
       "      <th>36</th>\n",
       "      <td>1.882875</td>\n",
       "      <td>1.882875</td>\n",
       "      <td>admission_type_id_1</td>\n",
       "    </tr>\n",
       "    <tr>\n",
       "      <th>39</th>\n",
       "      <td>1.784033</td>\n",
       "      <td>1.784033</td>\n",
       "      <td>discharge_disposition_id_2</td>\n",
       "    </tr>\n",
       "    <tr>\n",
       "      <th>42</th>\n",
       "      <td>1.707546</td>\n",
       "      <td>1.707546</td>\n",
       "      <td>admission_source_id_2</td>\n",
       "    </tr>\n",
       "    <tr>\n",
       "      <th>34</th>\n",
       "      <td>1.545500</td>\n",
       "      <td>1.545500</td>\n",
       "      <td>age_1</td>\n",
       "    </tr>\n",
       "    <tr>\n",
       "      <th>41</th>\n",
       "      <td>1.353675</td>\n",
       "      <td>1.353675</td>\n",
       "      <td>admission_source_id_1</td>\n",
       "    </tr>\n",
       "    <tr>\n",
       "      <th>38</th>\n",
       "      <td>1.080973</td>\n",
       "      <td>1.080973</td>\n",
       "      <td>discharge_disposition_id_1</td>\n",
       "    </tr>\n",
       "    <tr>\n",
       "      <th>12</th>\n",
       "      <td>1.066359</td>\n",
       "      <td>-1.066359</td>\n",
       "      <td>acarbose</td>\n",
       "    </tr>\n",
       "    <tr>\n",
       "      <th>4</th>\n",
       "      <td>0.953075</td>\n",
       "      <td>-0.953075</td>\n",
       "      <td>nateglinide</td>\n",
       "    </tr>\n",
       "    <tr>\n",
       "      <th>17</th>\n",
       "      <td>0.809990</td>\n",
       "      <td>-0.809990</td>\n",
       "      <td>glipizide-metformin</td>\n",
       "    </tr>\n",
       "    <tr>\n",
       "      <th>32</th>\n",
       "      <td>0.698057</td>\n",
       "      <td>-0.698057</td>\n",
       "      <td>race_Unknown</td>\n",
       "    </tr>\n",
       "    <tr>\n",
       "      <th>19</th>\n",
       "      <td>0.688562</td>\n",
       "      <td>-0.688562</td>\n",
       "      <td>change</td>\n",
       "    </tr>\n",
       "    <tr>\n",
       "      <th>31</th>\n",
       "      <td>0.685470</td>\n",
       "      <td>-0.685470</td>\n",
       "      <td>race_Other</td>\n",
       "    </tr>\n",
       "    <tr>\n",
       "      <th>16</th>\n",
       "      <td>0.677557</td>\n",
       "      <td>-0.677557</td>\n",
       "      <td>glyburide-metformin</td>\n",
       "    </tr>\n",
       "    <tr>\n",
       "      <th>20</th>\n",
       "      <td>0.590653</td>\n",
       "      <td>0.590653</td>\n",
       "      <td>diabetesMed</td>\n",
       "    </tr>\n",
       "    <tr>\n",
       "      <th>6</th>\n",
       "      <td>0.546505</td>\n",
       "      <td>-0.546505</td>\n",
       "      <td>glimepiride</td>\n",
       "    </tr>\n",
       "    <tr>\n",
       "      <th>22</th>\n",
       "      <td>0.533871</td>\n",
       "      <td>0.533871</td>\n",
       "      <td>time_in_hospital</td>\n",
       "    </tr>\n",
       "    <tr>\n",
       "      <th>23</th>\n",
       "      <td>0.517319</td>\n",
       "      <td>0.517319</td>\n",
       "      <td>num_lab_procedures</td>\n",
       "    </tr>\n",
       "    <tr>\n",
       "      <th>25</th>\n",
       "      <td>0.420295</td>\n",
       "      <td>-0.420295</td>\n",
       "      <td>number_outpatient</td>\n",
       "    </tr>\n",
       "    <tr>\n",
       "      <th>13</th>\n",
       "      <td>0.396482</td>\n",
       "      <td>0.396482</td>\n",
       "      <td>miglitol</td>\n",
       "    </tr>\n",
       "    <tr>\n",
       "      <th>10</th>\n",
       "      <td>0.317380</td>\n",
       "      <td>-0.317380</td>\n",
       "      <td>pioglitazone</td>\n",
       "    </tr>\n",
       "    <tr>\n",
       "      <th>21</th>\n",
       "      <td>0.265783</td>\n",
       "      <td>0.265783</td>\n",
       "      <td>diag_diabetes</td>\n",
       "    </tr>\n",
       "    <tr>\n",
       "      <th>44</th>\n",
       "      <td>0.245307</td>\n",
       "      <td>0.245307</td>\n",
       "      <td>A1Cresult&amp;change</td>\n",
       "    </tr>\n",
       "    <tr>\n",
       "      <th>7</th>\n",
       "      <td>0.232127</td>\n",
       "      <td>-0.232127</td>\n",
       "      <td>glipizide</td>\n",
       "    </tr>\n",
       "    <tr>\n",
       "      <th>24</th>\n",
       "      <td>0.207233</td>\n",
       "      <td>0.207233</td>\n",
       "      <td>num_procedures</td>\n",
       "    </tr>\n",
       "    <tr>\n",
       "      <th>8</th>\n",
       "      <td>0.194949</td>\n",
       "      <td>-0.194949</td>\n",
       "      <td>glyburide</td>\n",
       "    </tr>\n",
       "    <tr>\n",
       "      <th>33</th>\n",
       "      <td>0.179967</td>\n",
       "      <td>0.179967</td>\n",
       "      <td>gender_Male</td>\n",
       "    </tr>\n",
       "    <tr>\n",
       "      <th>3</th>\n",
       "      <td>0.167896</td>\n",
       "      <td>0.167896</td>\n",
       "      <td>repaglinide</td>\n",
       "    </tr>\n",
       "    <tr>\n",
       "      <th>0</th>\n",
       "      <td>0.158281</td>\n",
       "      <td>-0.158281</td>\n",
       "      <td>max_glu_serum</td>\n",
       "    </tr>\n",
       "    <tr>\n",
       "      <th>51</th>\n",
       "      <td>0.157026</td>\n",
       "      <td>0.157026</td>\n",
       "      <td>max_glu_serum&amp;diabetesMed</td>\n",
       "    </tr>\n",
       "    <tr>\n",
       "      <th>29</th>\n",
       "      <td>0.113024</td>\n",
       "      <td>0.113024</td>\n",
       "      <td>race_Caucasian</td>\n",
       "    </tr>\n",
       "    <tr>\n",
       "      <th>45</th>\n",
       "      <td>0.105322</td>\n",
       "      <td>-0.105322</td>\n",
       "      <td>A1Cresult&amp;gender_Male</td>\n",
       "    </tr>\n",
       "    <tr>\n",
       "      <th>46</th>\n",
       "      <td>0.096675</td>\n",
       "      <td>-0.096675</td>\n",
       "      <td>A1Cresult&amp;diag_diabetes</td>\n",
       "    </tr>\n",
       "    <tr>\n",
       "      <th>48</th>\n",
       "      <td>0.091166</td>\n",
       "      <td>0.091166</td>\n",
       "      <td>max_glu_serum&amp;change</td>\n",
       "    </tr>\n",
       "    <tr>\n",
       "      <th>2</th>\n",
       "      <td>0.086665</td>\n",
       "      <td>0.086665</td>\n",
       "      <td>metformin</td>\n",
       "    </tr>\n",
       "    <tr>\n",
       "      <th>50</th>\n",
       "      <td>0.079671</td>\n",
       "      <td>-0.079671</td>\n",
       "      <td>max_glu_serum&amp;diag_diabetes</td>\n",
       "    </tr>\n",
       "    <tr>\n",
       "      <th>49</th>\n",
       "      <td>0.061487</td>\n",
       "      <td>0.061487</td>\n",
       "      <td>max_glu_serum&amp;gender_Male</td>\n",
       "    </tr>\n",
       "    <tr>\n",
       "      <th>11</th>\n",
       "      <td>0.061182</td>\n",
       "      <td>0.061182</td>\n",
       "      <td>rosiglitazone</td>\n",
       "    </tr>\n",
       "    <tr>\n",
       "      <th>1</th>\n",
       "      <td>0.050033</td>\n",
       "      <td>-0.050033</td>\n",
       "      <td>A1Cresult</td>\n",
       "    </tr>\n",
       "    <tr>\n",
       "      <th>30</th>\n",
       "      <td>0.039007</td>\n",
       "      <td>0.039007</td>\n",
       "      <td>race_Hispanic</td>\n",
       "    </tr>\n",
       "    <tr>\n",
       "      <th>43</th>\n",
       "      <td>0.037014</td>\n",
       "      <td>0.037014</td>\n",
       "      <td>A1Cresult&amp;max_glu_serum</td>\n",
       "    </tr>\n",
       "    <tr>\n",
       "      <th>15</th>\n",
       "      <td>0.016890</td>\n",
       "      <td>0.016890</td>\n",
       "      <td>insulin</td>\n",
       "    </tr>\n",
       "    <tr>\n",
       "      <th>28</th>\n",
       "      <td>0.016512</td>\n",
       "      <td>0.016512</td>\n",
       "      <td>race_Asian</td>\n",
       "    </tr>\n",
       "    <tr>\n",
       "      <th>47</th>\n",
       "      <td>0.009698</td>\n",
       "      <td>0.009698</td>\n",
       "      <td>A1Cresult&amp;diabetesMed</td>\n",
       "    </tr>\n",
       "    <tr>\n",
       "      <th>9</th>\n",
       "      <td>0.000000</td>\n",
       "      <td>0.000000</td>\n",
       "      <td>tolbutamide</td>\n",
       "    </tr>\n",
       "    <tr>\n",
       "      <th>18</th>\n",
       "      <td>0.000000</td>\n",
       "      <td>0.000000</td>\n",
       "      <td>metformin-rosiglitazone</td>\n",
       "    </tr>\n",
       "  </tbody>\n",
       "</table>\n",
       "</div>"
      ],
      "text/plain": [
       "    Abs_Coefficients  Coefficients                     Features\n",
       "27          4.355579      4.355579             number_inpatient\n",
       "26          3.172131      3.172131             number_emergency\n",
       "40          3.033430      3.033430   discharge_disposition_id_3\n",
       "5           2.744057     -2.744057               chlorpropamide\n",
       "14          2.444524     -2.444524                   tolazamide\n",
       "37          1.959763      1.959763          admission_type_id_2\n",
       "35          1.952710      1.952710                        age_2\n",
       "36          1.882875      1.882875          admission_type_id_1\n",
       "39          1.784033      1.784033   discharge_disposition_id_2\n",
       "42          1.707546      1.707546        admission_source_id_2\n",
       "34          1.545500      1.545500                        age_1\n",
       "41          1.353675      1.353675        admission_source_id_1\n",
       "38          1.080973      1.080973   discharge_disposition_id_1\n",
       "12          1.066359     -1.066359                     acarbose\n",
       "4           0.953075     -0.953075                  nateglinide\n",
       "17          0.809990     -0.809990          glipizide-metformin\n",
       "32          0.698057     -0.698057                 race_Unknown\n",
       "19          0.688562     -0.688562                       change\n",
       "31          0.685470     -0.685470                   race_Other\n",
       "16          0.677557     -0.677557          glyburide-metformin\n",
       "20          0.590653      0.590653                  diabetesMed\n",
       "6           0.546505     -0.546505                  glimepiride\n",
       "22          0.533871      0.533871             time_in_hospital\n",
       "23          0.517319      0.517319           num_lab_procedures\n",
       "25          0.420295     -0.420295            number_outpatient\n",
       "13          0.396482      0.396482                     miglitol\n",
       "10          0.317380     -0.317380                 pioglitazone\n",
       "21          0.265783      0.265783                diag_diabetes\n",
       "44          0.245307      0.245307             A1Cresult&change\n",
       "7           0.232127     -0.232127                    glipizide\n",
       "24          0.207233      0.207233               num_procedures\n",
       "8           0.194949     -0.194949                    glyburide\n",
       "33          0.179967      0.179967                  gender_Male\n",
       "3           0.167896      0.167896                  repaglinide\n",
       "0           0.158281     -0.158281                max_glu_serum\n",
       "51          0.157026      0.157026    max_glu_serum&diabetesMed\n",
       "29          0.113024      0.113024               race_Caucasian\n",
       "45          0.105322     -0.105322        A1Cresult&gender_Male\n",
       "46          0.096675     -0.096675      A1Cresult&diag_diabetes\n",
       "48          0.091166      0.091166         max_glu_serum&change\n",
       "2           0.086665      0.086665                    metformin\n",
       "50          0.079671     -0.079671  max_glu_serum&diag_diabetes\n",
       "49          0.061487      0.061487    max_glu_serum&gender_Male\n",
       "11          0.061182      0.061182                rosiglitazone\n",
       "1           0.050033     -0.050033                    A1Cresult\n",
       "30          0.039007      0.039007                race_Hispanic\n",
       "43          0.037014      0.037014      A1Cresult&max_glu_serum\n",
       "15          0.016890      0.016890                      insulin\n",
       "28          0.016512      0.016512                   race_Asian\n",
       "47          0.009698      0.009698        A1Cresult&diabetesMed\n",
       "9           0.000000      0.000000                  tolbutamide\n",
       "18          0.000000      0.000000      metformin-rosiglitazone"
      ]
     },
     "execution_count": 211,
     "metadata": {},
     "output_type": "execute_result"
    }
   ],
   "source": [
    "# Finding out the coefficients of the features, aka feature importance from Logistic Regression\n",
    "pd.set_option('display.max_rows', None)\n",
    "lr_coefs = pd.DataFrame(data={'Features':X_ros_30.columns, 'Coefficients':lr_best.coef_[0], 'Abs_Coefficients':np.abs(lr_best.coef_[0])})\n",
    "lr_coefs.sort_values(by='Abs_Coefficients', ascending=False)"
   ]
  },
  {
   "cell_type": "code",
   "execution_count": 212,
   "metadata": {},
   "outputs": [
    {
     "data": {
      "text/plain": [
       "27              number_inpatient\n",
       "26              number_emergency\n",
       "40    discharge_disposition_id_3\n",
       "5                 chlorpropamide\n",
       "14                    tolazamide\n",
       "37           admission_type_id_2\n",
       "35                         age_2\n",
       "36           admission_type_id_1\n",
       "39    discharge_disposition_id_2\n",
       "42         admission_source_id_2\n",
       "Name: Features, dtype: object"
      ]
     },
     "execution_count": 212,
     "metadata": {},
     "output_type": "execute_result"
    }
   ],
   "source": [
    "# The top 10 most important features based on Logistic Regression\n",
    "lr_coefs.sort_values(by='Abs_Coefficients', ascending=False)['Features'][:10]"
   ]
  },
  {
   "cell_type": "code",
   "execution_count": 215,
   "metadata": {},
   "outputs": [
    {
     "data": {
      "image/png": "[encoded data removed]",
      "text/plain": [
       "<matplotlib.figure.Figure at 0x7ff1748ff5c0>"
      ]
     },
     "metadata": {},
     "output_type": "display_data"
    }
   ],
   "source": [
    "features = lr_coefs.sort_values(by='Abs_Coefficients', ascending=True)['Features']\n",
    "coefficients = lr_coefs.sort_values(by='Abs_Coefficients', ascending=True)['Coefficients']\n",
    "indices = np.array(coefficients)\n",
    "\n",
    "plt.figure(figsize=(20,20))\n",
    "plt.figure(1)\n",
    "plt.title('Feature Importances')\n",
    "plt.barh(range(len(indices)), coefficients, color='b', align='center')\n",
    "plt.yticks(range(len(indices)), features)\n",
    "plt.xlabel('Coefficients')\n",
    "plt.grid(True)"
   ]
  },
  {
   "cell_type": "code",
   "execution_count": null,
   "metadata": {
    "collapsed": true
   },
   "outputs": [],
   "source": []
  }
 ],
 "metadata": {
  "kernelspec": {
   "display_name": "Python 2",
   "language": "python",
   "name": "python2"
  },
  "language_info": {
   "codemirror_mode": {
    "name": "ipython",
    "version": 2
   },
   "file_extension": ".py",
   "mimetype": "text/x-python",
   "name": "python",
   "nbconvert_exporter": "python",
   "pygments_lexer": "ipython2",
   "version": "2.7.13"
  }
 },
 "nbformat": 4,
 "nbformat_minor": 2
}
