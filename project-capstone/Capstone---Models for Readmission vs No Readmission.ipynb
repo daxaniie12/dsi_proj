{
 "cells": [
  {
   "cell_type": "markdown",
   "metadata": {
    "collapsed": true
   },
   "source": [
    "### Fitting Models for readmission vs non-readmission Dataset"
   ]
  },
  {
   "cell_type": "markdown",
   "metadata": {},
   "source": [
    "In the previous notebook, the diabetes dataset was cleaned followed by recoding of features and EDA. The second aim of this project is to predict readmission(<30 days and >30 days) versus no readmission of diabetic patients in the US based on patient hospital records. This notebook addresses this aim. Classification models using machine learning will be built to predict readmission outcome of patients."
   ]
  },
  {
   "cell_type": "code",
   "execution_count": null,
   "metadata": {
    "collapsed": true
   },
   "outputs": [],
   "source": [
    "# Try for 'readmitted_p' using the 'diabetes_3d_p.csv' dataset"
   ]
  },
  {
   "cell_type": "code",
   "execution_count": 1,
   "metadata": {
    "collapsed": true
   },
   "outputs": [],
   "source": [
    "import pandas as pd\n",
    "import matplotlib.pyplot as plt\n",
    "import seaborn as sns\n",
    "import numpy as np\n",
    "%matplotlib inline"
   ]
  },
  {
   "cell_type": "code",
   "execution_count": 2,
   "metadata": {},
   "outputs": [
    {
     "name": "stderr",
     "output_type": "stream",
     "text": [
      "/Users/dakshi/anaconda2/lib/python2.7/site-packages/sklearn/cross_validation.py:41: DeprecationWarning: This module was deprecated in version 0.18 in favor of the model_selection module into which all the refactored classes and functions are moved. Also note that the interface of the new CV iterators are different from that of this module. This module will be removed in 0.20.\n",
      "  \"This module will be removed in 0.20.\", DeprecationWarning)\n"
     ]
    }
   ],
   "source": [
    "# Importing the relevant classes\n",
    "from sklearn.linear_model import LogisticRegression, LogisticRegressionCV\n",
    "from sklearn.ensemble import RandomForestClassifier\n",
    "from xgboost import XGBClassifier\n",
    "from sklearn.naive_bayes import GaussianNB, MultinomialNB\n",
    "from sklearn.neural_network import MLPClassifier\n",
    "from mlxtend.classifier import StackingClassifier\n",
    "from sklearn.metrics import confusion_matrix, classification_report"
   ]
  },
  {
   "cell_type": "code",
   "execution_count": 3,
   "metadata": {
    "collapsed": true
   },
   "outputs": [],
   "source": [
    "# Load the required files\n",
    "X_train = pd.read_csv('./Datasets/X_train.csv')\n",
    "X_test = pd.read_csv('./Datasets/X_test.csv')\n",
    "y_train = pd.read_csv('./Datasets/y_train.csv')\n",
    "y_test = pd.read_csv('./Datasets/y_test.csv')\n",
    "X_ros = pd.read_csv('./Datasets/X_ros.csv')\n",
    "y_ros = pd.read_csv('./Datasets/y_ros.csv')"
   ]
  },
  {
   "cell_type": "code",
   "execution_count": 4,
   "metadata": {
    "collapsed": true
   },
   "outputs": [],
   "source": [
    "# Drop the 'Unnamed: 0' column\n",
    "X_train.drop('Unnamed: 0', axis=1, inplace=True)\n",
    "X_test.drop('Unnamed: 0', axis=1, inplace=True)\n",
    "y_train.drop('Unnamed: 0', axis=1, inplace=True)\n",
    "y_test.drop('Unnamed: 0', axis=1, inplace=True)\n",
    "X_ros.drop('Unnamed: 0', axis=1, inplace=True)\n",
    "y_ros.drop('Unnamed: 0', axis=1, inplace=True)"
   ]
  },
  {
   "cell_type": "markdown",
   "metadata": {},
   "source": [
    "This is a binary classification problem and hence different classifiers will be fit to the training set and the classifier that gives the best metrics will be chosen to score the test set and make predictions. The metric that will be used to decide the best classifer will be the precision, recall, f1 and average precision scores. Specifically, a higher average_precision score will indicate a better preformance of the classifier."
   ]
  },
  {
   "cell_type": "code",
   "execution_count": 57,
   "metadata": {
    "collapsed": true
   },
   "outputs": [],
   "source": [
    "# Defining a function to return the precision, recall, f1 and average precision score\n",
    "# Defining functions to plot Precision-Recall Curve--. \n",
    "\n",
    "from sklearn.metrics import precision_recall_fscore_support, average_precision_score, precision_recall_curve, auc\n",
    "\n",
    "def scores(y_test, y_pred):\n",
    "    \n",
    "    '''\n",
    "    Function takes in y_test, y_predict y_predict probability and scores to return precision, recall, f1 and\n",
    "    average_precision  scores of the positive class\n",
    "    '''\n",
    "    \n",
    "    precision, recall, f1, _ = precision_recall_fscore_support(y_test, y_pred, beta=1.0)\n",
    "    average_precision = average_precision_score(y_test, y_pred)\n",
    "    return precision[1], recall[1], f1[1], average_precision\n",
    "\n",
    "def precision_recall(y_test, y_pred, y_pred_proba, classifier):\n",
    "    \n",
    "    '''\n",
    "    Function accepts the y_test scores and y_predict probability scores to plot the precison-recall curve\n",
    "    '''\n",
    "    \n",
    "    average_precision = average_precision_score(y_test, y_pred)\n",
    "    precision, recall, _ = precision_recall_curve(y_test, y_pred_proba)\n",
    "\n",
    "    plt.step(recall, precision, color='g', alpha=0.2, where='post')\n",
    "    plt.fill_between(recall, precision, step='post', alpha=0.2, color='g')\n",
    "    plt.xlabel('Recall')\n",
    "    plt.ylabel('Precision')\n",
    "    plt.ylim([0.0, 1.0])\n",
    "    plt.xlim([0.0, 1.0])\n",
    "    plt.title('2-class Precision-Recall for ' +classifier+ ' Classifier : AP={0:0.2f}'.format(average_precision))\n",
    "    return plt"
   ]
  },
  {
   "cell_type": "markdown",
   "metadata": {},
   "source": [
    "The classifiers used will be Logistic Regression, MLP(Multilayer Perceptron), XGBoost, RandomForest, Naive Bayes and StackingClassifier using Logistic, MLP, XGBoost and RandomForest as base classifiers and Logistic Regression as a Metaclassifier.\n",
    "\n",
    "The dataset was previously split using stratified splitting into a training set and a test set, with 70% in the training set and 30% in the test set.\n",
    "\n",
    "GridSearchCV will be used to fit training set with a given classifier and to tune the hyperparameters of the classifiers. Hyperparameter tuning will be optimised based on recall score. The classifier that gives the best recall score will be chosen to predict the test set.\n",
    "\n",
    "The test set result and prediction accuracy will be checked using confusion matrix, classification report, and the precision-recall curve. A classifier that gives the highest area under the precision-recall curve of the positive class (class 0) will be chosen as the best classifier."
   ]
  },
  {
   "cell_type": "code",
   "execution_count": 5,
   "metadata": {
    "collapsed": true
   },
   "outputs": [],
   "source": [
    "# First fit a Dummy Classifier to get a baseline of prediction on the test set\n",
    "from sklearn.dummy import DummyClassifier\n",
    "dm = DummyClassifier(strategy='stratified', random_state=12).fit(X_ros,y_ros['readmitted_p'])\n",
    "y_pred0 = dm.predict(X_test)"
   ]
  },
  {
   "cell_type": "code",
   "execution_count": 6,
   "metadata": {
    "collapsed": true
   },
   "outputs": [],
   "source": [
    "from sklearn.model_selection import GridSearchCV"
   ]
  },
  {
   "cell_type": "code",
   "execution_count": null,
   "metadata": {},
   "outputs": [
    {
     "name": "stdout",
     "output_type": "stream",
     "text": [
      "Fitting 5 folds for each of 100 candidates, totalling 500 fits\n"
     ]
    }
   ],
   "source": [
    "# Fitting Logistic Regression\n",
    "lr_params = {'penalty':['l1','l2'], 'solver':['liblinear'], 'C':list(np.arange(0.1, 5.1, 0.1)), 'random_state':[12]}\n",
    "lr_gridsearch = GridSearchCV(LogisticRegression(), lr_params, cv=5, verbose=1, scoring='recall', n_jobs=-1)\n",
    "lr_gridsearch.fit(X_ros,y_ros['readmitted_p'])"
   ]
  },
  {
   "cell_type": "raw",
   "metadata": {
    "scrolled": true
   },
   "source": [
    "The best hyperparamters that maximise recall score\n",
    "lr_gridsearch.best_params_ were {'C':1.2000000000000002, 'penalty':'l2', 'solver':'liblinear', 'random_state':12}"
   ]
  },
  {
   "cell_type": "code",
   "execution_count": 8,
   "metadata": {
    "collapsed": true
   },
   "outputs": [],
   "source": [
    "# Predicting the test set with the best LogisticRegression Classifier\n",
    "#lr_best = lr_gridsearch.best_estimator_\n",
    "lr_best = LogisticRegression(C=1.2000000000000002, penalty='l2', solver='liblinear', random_state=12).fit(X_ros,y_ros['readmitted_p'])\n",
    "y_pred1 = lr_best.predict(X_test)"
   ]
  },
  {
   "cell_type": "code",
   "execution_count": 60,
   "metadata": {},
   "outputs": [
    {
     "name": "stdout",
     "output_type": "stream",
     "text": [
      "Fitting 5 folds for each of 40 candidates, totalling 200 fits\n"
     ]
    },
    {
     "name": "stderr",
     "output_type": "stream",
     "text": [
      "[Parallel(n_jobs=-1)]: Done  42 tasks      | elapsed:  5.8min\n",
      "[Parallel(n_jobs=-1)]: Done 192 tasks      | elapsed: 21.6min\n",
      "[Parallel(n_jobs=-1)]: Done 200 out of 200 | elapsed: 22.5min finished\n"
     ]
    },
    {
     "data": {
      "text/plain": [
       "GridSearchCV(cv=5, error_score='raise',\n",
       "       estimator=MLPClassifier(activation='relu', alpha=0.0001, batch_size='auto', beta_1=0.9,\n",
       "       beta_2=0.999, early_stopping=False, epsilon=1e-08,\n",
       "       hidden_layer_sizes=(100,), learning_rate='constant',\n",
       "       learning_rate_init=0.001, max_iter=200, momentum=0.9,\n",
       "       nesterovs_momentum=True, power_t=0.5, random_state=None,\n",
       "       shuffle=True, solver='adam', tol=0.0001, validation_fraction=0.1,\n",
       "       verbose=False, warm_start=False),\n",
       "       fit_params=None, iid=True, n_jobs=-1,\n",
       "       param_grid={'random_state': [12], 'activation': ['logistic', 'identity'], 'max_iter': [500], 'learning_rate_init': [0.001, 0.010999999999999999, 0.020999999999999998, 0.030999999999999996, 0.040999999999999995, 0.05099999999999999, 0.060999999999999992, 0.070999999999999994, 0.080999999999999989, 0.090999999999999984], 'solver': ['sgd', 'lbfgs']},\n",
       "       pre_dispatch='2*n_jobs', refit=True, return_train_score='warn',\n",
       "       scoring='recall', verbose=1)"
      ]
     },
     "execution_count": 60,
     "metadata": {},
     "output_type": "execute_result"
    }
   ],
   "source": [
    "# Fitting MLP\n",
    "mlp_params = {'activation' : ['logistic', 'identity'], 'solver' : ['sgd','lbfgs'], 'learning_rate_init':list(np.arange(0.001, 0.1, 0.01)), 'max_iter':[500], 'random_state':[12]}\n",
    "mlp_gridsearch = GridSearchCV(MLPClassifier(), mlp_params, cv=5, verbose=1, scoring='recall', n_jobs=-1)\n",
    "mlp_gridsearch.fit(X_ros,y_ros['readmitted_p'])"
   ]
  },
  {
   "cell_type": "code",
   "execution_count": 61,
   "metadata": {},
   "outputs": [
    {
     "data": {
      "text/plain": [
       "{'activation': 'logistic',\n",
       " 'learning_rate_init': 0.001,\n",
       " 'max_iter': 500,\n",
       " 'random_state': 12,\n",
       " 'solver': 'lbfgs'}"
      ]
     },
     "execution_count": 61,
     "metadata": {},
     "output_type": "execute_result"
    }
   ],
   "source": [
    "# The best hyperparamters that maximise recall score\n",
    "mlp_gridsearch.best_params_"
   ]
  },
  {
   "cell_type": "code",
   "execution_count": 10,
   "metadata": {
    "collapsed": true
   },
   "outputs": [],
   "source": [
    "# Predicting the test set with the best MLP Classifier\n",
    "#mlp_best = mlp_gridsearch.best_estimator_\n",
    "mlp_best = MLPClassifier(activation='logistic', learning_rate_init=0.001, max_iter=500, random_state=12, solver='lbfgs').fit(X_ros,y_ros['readmitted_p'])\n",
    "y_pred2 = mlp_best.predict(X_test)"
   ]
  },
  {
   "cell_type": "code",
   "execution_count": 11,
   "metadata": {},
   "outputs": [
    {
     "name": "stdout",
     "output_type": "stream",
     "text": [
      "             precision    recall  f1-score   support\n",
      "\n",
      "          0       0.64      0.61      0.63      2893\n",
      "          1       0.45      0.49      0.47      1892\n",
      "\n",
      "avg / total       0.57      0.56      0.56      4785\n",
      "\n"
     ]
    }
   ],
   "source": [
    "print classification_report(y_test['readmitted_p'], y_pred2)"
   ]
  },
  {
   "cell_type": "markdown",
   "metadata": {},
   "source": [
    "Even though Gridsearch returned a MLPClassifier with the best hyperparameters that maximise the recall score, the recall score of the positive class is very low. Based on other tuning done, another MLPClassifier with different hyperparamters that increases the recall score of the positive class was fit."
   ]
  },
  {
   "cell_type": "code",
   "execution_count": 12,
   "metadata": {
    "collapsed": true
   },
   "outputs": [],
   "source": [
    "# Fitting another MLPClassifier to increase the recall score of the positive class\n",
    "mlp2 = MLPClassifier(activation='identity', solver='lbfgs', random_state=12, max_iter=500).fit(X_ros, y_ros['readmitted_p'])\n",
    "y_pred2b = mlp2.predict(X_test)"
   ]
  },
  {
   "cell_type": "code",
   "execution_count": 13,
   "metadata": {},
   "outputs": [
    {
     "name": "stdout",
     "output_type": "stream",
     "text": [
      "             precision    recall  f1-score   support\n",
      "\n",
      "          0       0.70      0.63      0.66      2893\n",
      "          1       0.51      0.58      0.54      1892\n",
      "\n",
      "avg / total       0.62      0.61      0.62      4785\n",
      "\n"
     ]
    }
   ],
   "source": [
    "print classification_report(y_test['readmitted_p'], y_pred2b)"
   ]
  },
  {
   "cell_type": "code",
   "execution_count": null,
   "metadata": {
    "collapsed": true
   },
   "outputs": [],
   "source": [
    "# The recall score of the positive class has increased as compared to the classifier returned by GridSearchCV."
   ]
  },
  {
   "cell_type": "markdown",
   "metadata": {
    "collapsed": true
   },
   "source": [
    "For tree based models such XGBoost Classifier, Random ForestClassifier, interaction terms should not be added into the model. The Naive Bayes theorem assumes independence between the features and hence interaction terms should not be added into the model. Hence, a new Dataframe of X variables(features) excluding the interaction terms was created for modeling. The interaction terms were also removed from the test set."
   ]
  },
  {
   "cell_type": "code",
   "execution_count": 14,
   "metadata": {
    "collapsed": true
   },
   "outputs": [],
   "source": [
    "# Getting the list of interaction terms\n",
    "non_interaction = [i for i in X_train.columns if '&' not in i]"
   ]
  },
  {
   "cell_type": "code",
   "execution_count": 15,
   "metadata": {
    "collapsed": true
   },
   "outputs": [],
   "source": [
    "# Create new X DataFrames that do not contain the interaction\n",
    "X_train_n = X_train.loc[:, non_interaction]\n",
    "X_test_n = X_test.loc[:, non_interaction]\n",
    "X_ros_n = X_ros.loc[:, non_interaction]"
   ]
  },
  {
   "cell_type": "code",
   "execution_count": null,
   "metadata": {},
   "outputs": [
    {
     "name": "stdout",
     "output_type": "stream",
     "text": [
      "Fitting 5 folds for each of 25 candidates, totalling 125 fits\n"
     ]
    }
   ],
   "source": [
    "# Fitting XGBoost\n",
    "xgb_params = {'max_depth':np.arange(3,8,1), 'n_estimators':[1000], 'colsample_bytree':np.arange(0.6,1.05,0.1), 'seed':[12]}\n",
    "xgb_gridsearch = GridSearchCV(XGBClassifier(), xgb_params, cv=5, verbose=1, scoring='recall', n_jobs=-1)\n",
    "xgb_gridsearch.fit(X_ros_n,y_ros['readmitted_p'])"
   ]
  },
  {
   "cell_type": "markdown",
   "metadata": {},
   "source": [
    "The best parameters returned by XGBoost were:\n",
    "\n",
    "{'colsample_bytree': 0.79999999999999993,\n",
    " 'max_depth': 7,\n",
    " 'n_estimators': 1000,\n",
    " 'seed': 12}"
   ]
  },
  {
   "cell_type": "code",
   "execution_count": 18,
   "metadata": {
    "collapsed": true
   },
   "outputs": [],
   "source": [
    "xgb_best = XGBClassifier(colsample_bytree=0.79999999999999993, max_depth=7, n_estimators=1000, seed=12)\n",
    "xgb_best.fit(X_ros_n,y_ros['readmitted_p'])\n",
    "# Predicting the test set with the best MLP Classifier\n",
    "y_pred3 = xgb_best.predict(X_test_n)"
   ]
  },
  {
   "cell_type": "code",
   "execution_count": 14,
   "metadata": {},
   "outputs": [
    {
     "name": "stdout",
     "output_type": "stream",
     "text": [
      "Fitting 5 folds for each of 60 candidates, totalling 300 fits\n"
     ]
    },
    {
     "name": "stderr",
     "output_type": "stream",
     "text": [
      "[Parallel(n_jobs=-1)]: Done  42 tasks      | elapsed:  3.7min\n",
      "[Parallel(n_jobs=-1)]: Done 192 tasks      | elapsed: 19.1min\n",
      "[Parallel(n_jobs=-1)]: Done 300 out of 300 | elapsed: 29.4min finished\n"
     ]
    },
    {
     "data": {
      "text/plain": [
       "GridSearchCV(cv=5, error_score='raise',\n",
       "       estimator=RandomForestClassifier(bootstrap=True, class_weight=None, criterion='gini',\n",
       "            max_depth=None, max_features='auto', max_leaf_nodes=None,\n",
       "            min_impurity_decrease=0.0, min_impurity_split=None,\n",
       "            min_samples_leaf=1, min_samples_split=2,\n",
       "            min_weight_fraction_leaf=0.0, n_estimators=10, n_jobs=1,\n",
       "            oob_score=False, random_state=None, verbose=0,\n",
       "            warm_start=False),\n",
       "       fit_params=None, iid=True, n_jobs=-1,\n",
       "       param_grid={'n_estimators': [1000], 'max_features': array([10, 11, 12, 13, 14, 15]), 'random_state': [12], 'criterion': ['entropy', 'gini'], 'max_depth': array([3, 4, 5, 6, 7])},\n",
       "       pre_dispatch='2*n_jobs', refit=True, return_train_score='warn',\n",
       "       scoring='recall', verbose=1)"
      ]
     },
     "execution_count": 14,
     "metadata": {},
     "output_type": "execute_result"
    }
   ],
   "source": [
    "# Fitting RandomForest\n",
    "rf_params = {'max_depth':np.arange(3,8,1), 'n_estimators':[1000], 'criterion':['entropy','gini'], 'max_features':np.arange(10,16,1),'random_state':[12]}\n",
    "rf_gridsearch = GridSearchCV(RandomForestClassifier(), rf_params, cv=5, verbose=1, scoring='recall', n_jobs=-1)\n",
    "rf_gridsearch.fit(X_ros_n,y_ros['readmitted_p'])"
   ]
  },
  {
   "cell_type": "code",
   "execution_count": 15,
   "metadata": {},
   "outputs": [
    {
     "data": {
      "text/plain": [
       "{'criterion': 'gini',\n",
       " 'max_depth': 7,\n",
       " 'max_features': 14,\n",
       " 'n_estimators': 1000,\n",
       " 'random_state': 12}"
      ]
     },
     "execution_count": 15,
     "metadata": {},
     "output_type": "execute_result"
    }
   ],
   "source": [
    "# The best hyperparamters that maximise recall score\n",
    "rf_gridsearch.best_params_"
   ]
  },
  {
   "cell_type": "code",
   "execution_count": 19,
   "metadata": {
    "collapsed": true
   },
   "outputs": [],
   "source": [
    "# Predicting the test set with the best RandomForest Classifier\n",
    "#rf_best = rf_gridsearch.best_estimator_\n",
    "rf_best = RandomForestClassifier(criterion='gini', max_depth=7, max_features=14, n_estimators=1000, random_state=12).fit(X_ros_n,y_ros['readmitted_p'])\n",
    "y_pred4 = rf_best.predict(X_test_n)"
   ]
  },
  {
   "cell_type": "markdown",
   "metadata": {},
   "source": [
    "Next, Naive Bayes Classifier was used to fit the training set. GaussianNB Classifier was fit on the continuous features only while MultinomialNB Classifier was fit on the categorical features only. The predicted class probabilities of the test set from these 2 classifiers was obtained and the overall class membership of each patient was calculated based on the average of the 2 class probabilities."
   ]
  },
  {
   "cell_type": "code",
   "execution_count": 20,
   "metadata": {
    "collapsed": true
   },
   "outputs": [],
   "source": [
    "#Defining the numerical and categorical features\n",
    "num_features = ['time_in_hospital', 'num_lab_procedures', 'num_procedures',\n",
    "       'number_outpatient', 'number_emergency', 'number_inpatient',]\n",
    "cat_features = [i for i in X_ros_n.columns if i not in num_features]"
   ]
  },
  {
   "cell_type": "code",
   "execution_count": 21,
   "metadata": {
    "collapsed": true
   },
   "outputs": [],
   "source": [
    "# Subsetting out the numerical and categorical Dataframes in the training set\n",
    "X_ros_num = X_ros_n.loc[:,num_features]\n",
    "X_ros_cat = X_ros_n.loc[:,cat_features]\n",
    "X_test_num = X_test_n.loc[:,num_features]\n",
    "X_test_cat = X_test_n.loc[:,cat_features]"
   ]
  },
  {
   "cell_type": "code",
   "execution_count": 22,
   "metadata": {
    "collapsed": true
   },
   "outputs": [],
   "source": [
    "# Fit the GaussianNB model on numerical features and get predicted probs\n",
    "gb_num = GaussianNB().fit(X_ros_num, y_ros['readmitted_p'])\n",
    "gb_proba = gb_num.predict_proba(X_test_num)"
   ]
  },
  {
   "cell_type": "code",
   "execution_count": 23,
   "metadata": {
    "collapsed": true
   },
   "outputs": [],
   "source": [
    "# Fit the MultinomialNB model on categorical features and get predicted probs\n",
    "mn_cat = MultinomialNB().fit(X_ros_cat, y_ros['readmitted_p'])\n",
    "mn_proba = mn_cat.predict_proba(X_test_cat)"
   ]
  },
  {
   "cell_type": "code",
   "execution_count": 24,
   "metadata": {
    "collapsed": true
   },
   "outputs": [],
   "source": [
    "# Get Dataframe on these predicted probabilities from both numerical and categorical features\n",
    "NB = pd.DataFrame(data = {'num_0':gb_proba[:,0], 'cat_0':mn_proba[:,0], 'num_1':gb_proba[:,1], 'cat_1':mn_proba[:,1]})\n",
    "NB['class_0'] = NB[['num_0','cat_0']].sum(axis=1)/2\n",
    "NB['class_1'] = NB[['num_1','cat_1']].sum(axis=1)/2\n",
    "\n",
    "# 'y_label' refers to the overall class membership of the patient based on the average of the predicted probabilities of classifiers fit on just numerical or categorical data\n",
    "NB['y_label'] = NB['class_1'].apply(lambda x: 1 if x>0.5 else 0)"
   ]
  },
  {
   "cell_type": "markdown",
   "metadata": {},
   "source": [
    "A Stacking Classifier was used to fit the training data. A Stacking Classifier uses base estimators(classifiers) to fit the training data and make predictions on the test set. The predictions from each base estimator are then used as new features which are fit into a metaclassifier, and then used to get the final predictions on the test set."
   ]
  },
  {
   "cell_type": "code",
   "execution_count": 25,
   "metadata": {
    "collapsed": true
   },
   "outputs": [],
   "source": [
    "# Stacking Classifier\n",
    "lr = LogisticRegression(C=1.2000000000000002, penalty='l2', random_state=12, solver='liblinear')\n",
    "mlp = MLPClassifier(activation='identity', solver='lbfgs', random_state=12, max_iter=500)\n",
    "xgb = XGBClassifier(colsample_bytree=0.79999999999999993, max_depth=7, n_estimators=1000, seed=12)\n",
    "rf = RandomForestClassifier(criterion='gini', max_depth=7, max_features=14, n_estimators=1000, random_state=12)\n",
    "\n",
    "sclf = StackingClassifier(classifiers=[lr, mlp, xgb, rf], \n",
    "                          meta_classifier=LogisticRegression())"
   ]
  },
  {
   "cell_type": "code",
   "execution_count": 26,
   "metadata": {},
   "outputs": [
    {
     "data": {
      "text/plain": [
       "StackingClassifier(average_probas=False,\n",
       "          classifiers=[LogisticRegression(C=1.2, class_weight=None, dual=False, fit_intercept=True,\n",
       "          intercept_scaling=1, max_iter=100, multi_class='ovr', n_jobs=1,\n",
       "          penalty='l2', random_state=12, solver='liblinear', tol=0.0001,\n",
       "          verbose=0, warm_start=False), MLPClassifier(activatio...timators=1000, n_jobs=1,\n",
       "            oob_score=False, random_state=12, verbose=0, warm_start=False)],\n",
       "          meta_classifier=LogisticRegression(C=1.0, class_weight=None, dual=False, fit_intercept=True,\n",
       "          intercept_scaling=1, max_iter=100, multi_class='ovr', n_jobs=1,\n",
       "          penalty='l2', random_state=None, solver='liblinear', tol=0.0001,\n",
       "          verbose=0, warm_start=False),\n",
       "          use_features_in_secondary=False, use_probas=False, verbose=0)"
      ]
     },
     "execution_count": 26,
     "metadata": {},
     "output_type": "execute_result"
    }
   ],
   "source": [
    "sclf.fit(X_ros,y_ros['readmitted_p'])"
   ]
  },
  {
   "cell_type": "code",
   "execution_count": 28,
   "metadata": {
    "collapsed": true
   },
   "outputs": [],
   "source": [
    "y_pred6 = sclf.predict(X_test)"
   ]
  },
  {
   "cell_type": "markdown",
   "metadata": {},
   "source": [
    "### Comparing the performance of the different Classifiers"
   ]
  },
  {
   "cell_type": "code",
   "execution_count": null,
   "metadata": {
    "collapsed": true
   },
   "outputs": [],
   "source": [
    "# Confusion Matrix and Classification Report of each classifier"
   ]
  },
  {
   "cell_type": "code",
   "execution_count": 29,
   "metadata": {},
   "outputs": [
    {
     "data": {
      "text/html": [
       "<div>\n",
       "<style>\n",
       "    .dataframe thead tr:only-child th {\n",
       "        text-align: right;\n",
       "    }\n",
       "\n",
       "    .dataframe thead th {\n",
       "        text-align: left;\n",
       "    }\n",
       "\n",
       "    .dataframe tbody tr th {\n",
       "        vertical-align: top;\n",
       "    }\n",
       "</style>\n",
       "<table border=\"1\" class=\"dataframe\">\n",
       "  <thead>\n",
       "    <tr style=\"text-align: right;\">\n",
       "      <th></th>\n",
       "      <th>predicted_early_readmit</th>\n",
       "      <th>predicted_not_early_readmit</th>\n",
       "    </tr>\n",
       "  </thead>\n",
       "  <tbody>\n",
       "    <tr>\n",
       "      <th>is_early_readmit</th>\n",
       "      <td>926</td>\n",
       "      <td>966</td>\n",
       "    </tr>\n",
       "    <tr>\n",
       "      <th>not_early_readmit</th>\n",
       "      <td>1423</td>\n",
       "      <td>1470</td>\n",
       "    </tr>\n",
       "  </tbody>\n",
       "</table>\n",
       "</div>"
      ],
      "text/plain": [
       "                   predicted_early_readmit  predicted_not_early_readmit\n",
       "is_early_readmit                       926                          966\n",
       "not_early_readmit                     1423                         1470"
      ]
     },
     "execution_count": 29,
     "metadata": {},
     "output_type": "execute_result"
    }
   ],
   "source": [
    "# Dummy Classifier Confusion Matrix\n",
    "conmat0 = np.array(confusion_matrix(y_test['readmitted_p'], y_pred0, labels=[1,0]))\n",
    "confusion0 = pd.DataFrame(conmat0, index=['is_early_readmit', 'not_early_readmit'],\n",
    "                         columns=['predicted_early_readmit','predicted_not_early_readmit'])\n",
    "confusion0"
   ]
  },
  {
   "cell_type": "code",
   "execution_count": 30,
   "metadata": {},
   "outputs": [
    {
     "name": "stdout",
     "output_type": "stream",
     "text": [
      "             precision    recall  f1-score   support\n",
      "\n",
      "          0       0.60      0.51      0.55      2893\n",
      "          1       0.39      0.49      0.44      1892\n",
      "\n",
      "avg / total       0.52      0.50      0.51      4785\n",
      "\n"
     ]
    }
   ],
   "source": [
    "# Dummy Classifier Classification Report\n",
    "print(classification_report(y_test['readmitted_p'], y_pred0))"
   ]
  },
  {
   "cell_type": "code",
   "execution_count": 31,
   "metadata": {},
   "outputs": [
    {
     "data": {
      "text/html": [
       "<div>\n",
       "<style>\n",
       "    .dataframe thead tr:only-child th {\n",
       "        text-align: right;\n",
       "    }\n",
       "\n",
       "    .dataframe thead th {\n",
       "        text-align: left;\n",
       "    }\n",
       "\n",
       "    .dataframe tbody tr th {\n",
       "        vertical-align: top;\n",
       "    }\n",
       "</style>\n",
       "<table border=\"1\" class=\"dataframe\">\n",
       "  <thead>\n",
       "    <tr style=\"text-align: right;\">\n",
       "      <th></th>\n",
       "      <th>predicted_early_readmit</th>\n",
       "      <th>predicted_not_early_readmit</th>\n",
       "    </tr>\n",
       "  </thead>\n",
       "  <tbody>\n",
       "    <tr>\n",
       "      <th>is_early_readmit</th>\n",
       "      <td>1095</td>\n",
       "      <td>797</td>\n",
       "    </tr>\n",
       "    <tr>\n",
       "      <th>not_early_readmit</th>\n",
       "      <td>1066</td>\n",
       "      <td>1827</td>\n",
       "    </tr>\n",
       "  </tbody>\n",
       "</table>\n",
       "</div>"
      ],
      "text/plain": [
       "                   predicted_early_readmit  predicted_not_early_readmit\n",
       "is_early_readmit                      1095                          797\n",
       "not_early_readmit                     1066                         1827"
      ]
     },
     "execution_count": 31,
     "metadata": {},
     "output_type": "execute_result"
    }
   ],
   "source": [
    "# Logistic Regression Confusion Matrix\n",
    "conmat1 = np.array(confusion_matrix(y_test['readmitted_p'], y_pred1, labels=[1,0]))\n",
    "confusion1 = pd.DataFrame(conmat1, index=['is_early_readmit', 'not_early_readmit'],\n",
    "                         columns=['predicted_early_readmit','predicted_not_early_readmit'])\n",
    "confusion1"
   ]
  },
  {
   "cell_type": "code",
   "execution_count": 33,
   "metadata": {},
   "outputs": [
    {
     "name": "stdout",
     "output_type": "stream",
     "text": [
      "             precision    recall  f1-score   support\n",
      "\n",
      "          0       0.70      0.63      0.66      2893\n",
      "          1       0.51      0.58      0.54      1892\n",
      "\n",
      "avg / total       0.62      0.61      0.61      4785\n",
      "\n"
     ]
    }
   ],
   "source": [
    "# Logistic Regression Classification Report\n",
    "print(classification_report(y_test['readmitted_p'], y_pred1))"
   ]
  },
  {
   "cell_type": "code",
   "execution_count": 34,
   "metadata": {},
   "outputs": [
    {
     "data": {
      "text/html": [
       "<div>\n",
       "<style>\n",
       "    .dataframe thead tr:only-child th {\n",
       "        text-align: right;\n",
       "    }\n",
       "\n",
       "    .dataframe thead th {\n",
       "        text-align: left;\n",
       "    }\n",
       "\n",
       "    .dataframe tbody tr th {\n",
       "        vertical-align: top;\n",
       "    }\n",
       "</style>\n",
       "<table border=\"1\" class=\"dataframe\">\n",
       "  <thead>\n",
       "    <tr style=\"text-align: right;\">\n",
       "      <th></th>\n",
       "      <th>predicted_early_readmit</th>\n",
       "      <th>predicted_not_early_readmit</th>\n",
       "    </tr>\n",
       "  </thead>\n",
       "  <tbody>\n",
       "    <tr>\n",
       "      <th>is_early_readmit</th>\n",
       "      <td>1101</td>\n",
       "      <td>791</td>\n",
       "    </tr>\n",
       "    <tr>\n",
       "      <th>not_early_readmit</th>\n",
       "      <td>1059</td>\n",
       "      <td>1834</td>\n",
       "    </tr>\n",
       "  </tbody>\n",
       "</table>\n",
       "</div>"
      ],
      "text/plain": [
       "                   predicted_early_readmit  predicted_not_early_readmit\n",
       "is_early_readmit                      1101                          791\n",
       "not_early_readmit                     1059                         1834"
      ]
     },
     "execution_count": 34,
     "metadata": {},
     "output_type": "execute_result"
    }
   ],
   "source": [
    "# MLP Classifier Confusion Matrix\n",
    "conmat2 = np.array(confusion_matrix(y_test['readmitted_p'], y_pred2b, labels=[1,0]))\n",
    "confusion2 = pd.DataFrame(conmat2, index=['is_early_readmit', 'not_early_readmit'],\n",
    "                         columns=['predicted_early_readmit','predicted_not_early_readmit'])\n",
    "confusion2"
   ]
  },
  {
   "cell_type": "code",
   "execution_count": 35,
   "metadata": {},
   "outputs": [
    {
     "name": "stdout",
     "output_type": "stream",
     "text": [
      "             precision    recall  f1-score   support\n",
      "\n",
      "          0       0.70      0.63      0.66      2893\n",
      "          1       0.51      0.58      0.54      1892\n",
      "\n",
      "avg / total       0.62      0.61      0.62      4785\n",
      "\n"
     ]
    }
   ],
   "source": [
    "# MLP Classifier Classification Report\n",
    "print(classification_report(y_test['readmitted_p'], y_pred2b))"
   ]
  },
  {
   "cell_type": "code",
   "execution_count": 36,
   "metadata": {},
   "outputs": [
    {
     "data": {
      "text/html": [
       "<div>\n",
       "<style>\n",
       "    .dataframe thead tr:only-child th {\n",
       "        text-align: right;\n",
       "    }\n",
       "\n",
       "    .dataframe thead th {\n",
       "        text-align: left;\n",
       "    }\n",
       "\n",
       "    .dataframe tbody tr th {\n",
       "        vertical-align: top;\n",
       "    }\n",
       "</style>\n",
       "<table border=\"1\" class=\"dataframe\">\n",
       "  <thead>\n",
       "    <tr style=\"text-align: right;\">\n",
       "      <th></th>\n",
       "      <th>predicted_early_readmit</th>\n",
       "      <th>predicted_not_early_readmit</th>\n",
       "    </tr>\n",
       "  </thead>\n",
       "  <tbody>\n",
       "    <tr>\n",
       "      <th>is_early_readmit</th>\n",
       "      <td>892</td>\n",
       "      <td>1000</td>\n",
       "    </tr>\n",
       "    <tr>\n",
       "      <th>not_early_readmit</th>\n",
       "      <td>939</td>\n",
       "      <td>1954</td>\n",
       "    </tr>\n",
       "  </tbody>\n",
       "</table>\n",
       "</div>"
      ],
      "text/plain": [
       "                   predicted_early_readmit  predicted_not_early_readmit\n",
       "is_early_readmit                       892                         1000\n",
       "not_early_readmit                      939                         1954"
      ]
     },
     "execution_count": 36,
     "metadata": {},
     "output_type": "execute_result"
    }
   ],
   "source": [
    "# XGB Classifier Confusion Matrix\n",
    "conmat3 = np.array(confusion_matrix(y_test['readmitted_p'], y_pred3, labels=[1,0]))\n",
    "confusion3 = pd.DataFrame(conmat3, index=['is_early_readmit', 'not_early_readmit'],\n",
    "                         columns=['predicted_early_readmit','predicted_not_early_readmit'])\n",
    "confusion3"
   ]
  },
  {
   "cell_type": "code",
   "execution_count": 38,
   "metadata": {},
   "outputs": [
    {
     "name": "stdout",
     "output_type": "stream",
     "text": [
      "             precision    recall  f1-score   support\n",
      "\n",
      "          0       0.66      0.68      0.67      2893\n",
      "          1       0.49      0.47      0.48      1892\n",
      "\n",
      "avg / total       0.59      0.59      0.59      4785\n",
      "\n"
     ]
    }
   ],
   "source": [
    "# XGB Classifier Classification Report\n",
    "print(classification_report(y_test['readmitted_p'], y_pred3))"
   ]
  },
  {
   "cell_type": "code",
   "execution_count": 39,
   "metadata": {},
   "outputs": [
    {
     "data": {
      "text/html": [
       "<div>\n",
       "<style>\n",
       "    .dataframe thead tr:only-child th {\n",
       "        text-align: right;\n",
       "    }\n",
       "\n",
       "    .dataframe thead th {\n",
       "        text-align: left;\n",
       "    }\n",
       "\n",
       "    .dataframe tbody tr th {\n",
       "        vertical-align: top;\n",
       "    }\n",
       "</style>\n",
       "<table border=\"1\" class=\"dataframe\">\n",
       "  <thead>\n",
       "    <tr style=\"text-align: right;\">\n",
       "      <th></th>\n",
       "      <th>predicted_early_readmit</th>\n",
       "      <th>predicted_not_early_readmit</th>\n",
       "    </tr>\n",
       "  </thead>\n",
       "  <tbody>\n",
       "    <tr>\n",
       "      <th>is_early_readmit</th>\n",
       "      <td>1033</td>\n",
       "      <td>859</td>\n",
       "    </tr>\n",
       "    <tr>\n",
       "      <th>not_early_readmit</th>\n",
       "      <td>988</td>\n",
       "      <td>1905</td>\n",
       "    </tr>\n",
       "  </tbody>\n",
       "</table>\n",
       "</div>"
      ],
      "text/plain": [
       "                   predicted_early_readmit  predicted_not_early_readmit\n",
       "is_early_readmit                      1033                          859\n",
       "not_early_readmit                      988                         1905"
      ]
     },
     "execution_count": 39,
     "metadata": {},
     "output_type": "execute_result"
    }
   ],
   "source": [
    "# RandomForest Classifier Confusion Matrix\n",
    "conmat4 = np.array(confusion_matrix(y_test['readmitted_p'], y_pred4, labels=[1,0]))\n",
    "confusion4 = pd.DataFrame(conmat4, index=['is_early_readmit', 'not_early_readmit'],\n",
    "                         columns=['predicted_early_readmit','predicted_not_early_readmit'])\n",
    "confusion4"
   ]
  },
  {
   "cell_type": "code",
   "execution_count": 42,
   "metadata": {},
   "outputs": [
    {
     "name": "stdout",
     "output_type": "stream",
     "text": [
      "             precision    recall  f1-score   support\n",
      "\n",
      "          0       0.69      0.66      0.67      2893\n",
      "          1       0.51      0.55      0.53      1892\n",
      "\n",
      "avg / total       0.62      0.61      0.62      4785\n",
      "\n"
     ]
    }
   ],
   "source": [
    "# RandomForest Classifier Classification Report\n",
    "print(classification_report(y_test['readmitted_p'], y_pred4))"
   ]
  },
  {
   "cell_type": "code",
   "execution_count": 43,
   "metadata": {},
   "outputs": [
    {
     "data": {
      "text/html": [
       "<div>\n",
       "<style>\n",
       "    .dataframe thead tr:only-child th {\n",
       "        text-align: right;\n",
       "    }\n",
       "\n",
       "    .dataframe thead th {\n",
       "        text-align: left;\n",
       "    }\n",
       "\n",
       "    .dataframe tbody tr th {\n",
       "        vertical-align: top;\n",
       "    }\n",
       "</style>\n",
       "<table border=\"1\" class=\"dataframe\">\n",
       "  <thead>\n",
       "    <tr style=\"text-align: right;\">\n",
       "      <th></th>\n",
       "      <th>predicted_early_readmit</th>\n",
       "      <th>predicted_not_early_readmit</th>\n",
       "    </tr>\n",
       "  </thead>\n",
       "  <tbody>\n",
       "    <tr>\n",
       "      <th>is_early_readmit</th>\n",
       "      <td>620</td>\n",
       "      <td>1272</td>\n",
       "    </tr>\n",
       "    <tr>\n",
       "      <th>not_early_readmit</th>\n",
       "      <td>499</td>\n",
       "      <td>2394</td>\n",
       "    </tr>\n",
       "  </tbody>\n",
       "</table>\n",
       "</div>"
      ],
      "text/plain": [
       "                   predicted_early_readmit  predicted_not_early_readmit\n",
       "is_early_readmit                       620                         1272\n",
       "not_early_readmit                      499                         2394"
      ]
     },
     "execution_count": 43,
     "metadata": {},
     "output_type": "execute_result"
    }
   ],
   "source": [
    "# Naive Bayes Classifier Confusion Matrix\n",
    "conmat5 = np.array(confusion_matrix(y_test['readmitted_p'], NB['y_label'], labels=[1,0]))\n",
    "confusion5 = pd.DataFrame(conmat5, index=['is_early_readmit', 'not_early_readmit'],\n",
    "                         columns=['predicted_early_readmit','predicted_not_early_readmit'])\n",
    "confusion5"
   ]
  },
  {
   "cell_type": "code",
   "execution_count": 44,
   "metadata": {},
   "outputs": [
    {
     "name": "stdout",
     "output_type": "stream",
     "text": [
      "             precision    recall  f1-score   support\n",
      "\n",
      "          0       0.65      0.83      0.73      2893\n",
      "          1       0.55      0.33      0.41      1892\n",
      "\n",
      "avg / total       0.61      0.63      0.60      4785\n",
      "\n"
     ]
    }
   ],
   "source": [
    "# Naive Bayes Classifier Classification Report\n",
    "print(classification_report(y_test['readmitted_p'], NB['y_label']))"
   ]
  },
  {
   "cell_type": "code",
   "execution_count": 45,
   "metadata": {},
   "outputs": [
    {
     "data": {
      "text/html": [
       "<div>\n",
       "<style>\n",
       "    .dataframe thead tr:only-child th {\n",
       "        text-align: right;\n",
       "    }\n",
       "\n",
       "    .dataframe thead th {\n",
       "        text-align: left;\n",
       "    }\n",
       "\n",
       "    .dataframe tbody tr th {\n",
       "        vertical-align: top;\n",
       "    }\n",
       "</style>\n",
       "<table border=\"1\" class=\"dataframe\">\n",
       "  <thead>\n",
       "    <tr style=\"text-align: right;\">\n",
       "      <th></th>\n",
       "      <th>predicted_early_readmit</th>\n",
       "      <th>predicted_not_early_readmit</th>\n",
       "    </tr>\n",
       "  </thead>\n",
       "  <tbody>\n",
       "    <tr>\n",
       "      <th>is_early_readmit</th>\n",
       "      <td>898</td>\n",
       "      <td>994</td>\n",
       "    </tr>\n",
       "    <tr>\n",
       "      <th>not_early_readmit</th>\n",
       "      <td>924</td>\n",
       "      <td>1969</td>\n",
       "    </tr>\n",
       "  </tbody>\n",
       "</table>\n",
       "</div>"
      ],
      "text/plain": [
       "                   predicted_early_readmit  predicted_not_early_readmit\n",
       "is_early_readmit                       898                          994\n",
       "not_early_readmit                      924                         1969"
      ]
     },
     "execution_count": 45,
     "metadata": {},
     "output_type": "execute_result"
    }
   ],
   "source": [
    "# Stacking Classifier Confusion Matrix\n",
    "conmat6 = np.array(confusion_matrix(y_test['readmitted_p'], y_pred6, labels=[1,0]))\n",
    "confusion6 = pd.DataFrame(conmat6, index=['is_early_readmit', 'not_early_readmit'],\n",
    "                         columns=['predicted_early_readmit','predicted_not_early_readmit'])\n",
    "confusion6"
   ]
  },
  {
   "cell_type": "code",
   "execution_count": 46,
   "metadata": {},
   "outputs": [
    {
     "name": "stdout",
     "output_type": "stream",
     "text": [
      "             precision    recall  f1-score   support\n",
      "\n",
      "          0       0.66      0.68      0.67      2893\n",
      "          1       0.49      0.47      0.48      1892\n",
      "\n",
      "avg / total       0.60      0.60      0.60      4785\n",
      "\n"
     ]
    }
   ],
   "source": [
    "# Stacking Classifier Classification Report\n",
    "print(classification_report(y_test['readmitted_p'], y_pred6))"
   ]
  },
  {
   "cell_type": "code",
   "execution_count": 49,
   "metadata": {
    "collapsed": true
   },
   "outputs": [],
   "source": [
    "## Combined table of the precision, recall, f1, average_precision scores of the positive class and auc from the different classifiers\n",
    "\n",
    "a0, b0, c0, d0 = scores(y_test['readmitted_p'], y_pred0)\n",
    "a1, b1, c1, d1 = scores(y_test['readmitted_p'], y_pred1)\n",
    "a2, b2, c2, d2 = scores(y_test['readmitted_p'], y_pred2b)\n",
    "a3, b3, c3, d3 = scores(y_test['readmitted_p'], y_pred3)\n",
    "a4, b4, c4, d4 = scores(y_test['readmitted_p'], y_pred4)\n",
    "a5, b5, c5, d5 = scores(y_test['readmitted_p'], NB['y_label'])\n",
    "a6, b6, c6, d6 = scores(y_test['readmitted_p'], y_pred6)"
   ]
  },
  {
   "cell_type": "code",
   "execution_count": 50,
   "metadata": {
    "collapsed": true
   },
   "outputs": [],
   "source": [
    "precision = [a0, a1, a2, a3, a4, a5, a6]\n",
    "recall = [b0, b1, b2, b3, b4, b5, b6]\n",
    "f1 = [c0, c1, c2, c3, c4, c5, c6]\n",
    "ave_precision = [d0, d1, d2, d3, d4, d5, d6]\n",
    "classifiers = ['Dummy', 'Logistic_Regression', 'MLP', 'XGBoost', 'RandomForest', 'Naive_Bayes', 'Stacking']"
   ]
  },
  {
   "cell_type": "code",
   "execution_count": 51,
   "metadata": {},
   "outputs": [
    {
     "data": {
      "text/html": [
       "<div>\n",
       "<style>\n",
       "    .dataframe thead tr:only-child th {\n",
       "        text-align: right;\n",
       "    }\n",
       "\n",
       "    .dataframe thead th {\n",
       "        text-align: left;\n",
       "    }\n",
       "\n",
       "    .dataframe tbody tr th {\n",
       "        vertical-align: top;\n",
       "    }\n",
       "</style>\n",
       "<table border=\"1\" class=\"dataframe\">\n",
       "  <thead>\n",
       "    <tr style=\"text-align: right;\">\n",
       "      <th></th>\n",
       "      <th>average_precision</th>\n",
       "      <th>f1_score</th>\n",
       "      <th>precision</th>\n",
       "      <th>recall</th>\n",
       "    </tr>\n",
       "  </thead>\n",
       "  <tbody>\n",
       "    <tr>\n",
       "      <th>Dummy</th>\n",
       "      <td>0.394819</td>\n",
       "      <td>0.436689</td>\n",
       "      <td>0.394210</td>\n",
       "      <td>0.489429</td>\n",
       "    </tr>\n",
       "    <tr>\n",
       "      <th>Logistic_Regression</th>\n",
       "      <td>0.459822</td>\n",
       "      <td>0.540340</td>\n",
       "      <td>0.506710</td>\n",
       "      <td>0.578753</td>\n",
       "    </tr>\n",
       "    <tr>\n",
       "      <th>MLP</th>\n",
       "      <td>0.461928</td>\n",
       "      <td>0.543435</td>\n",
       "      <td>0.509722</td>\n",
       "      <td>0.581924</td>\n",
       "    </tr>\n",
       "    <tr>\n",
       "      <th>XGBoost</th>\n",
       "      <td>0.438665</td>\n",
       "      <td>0.479183</td>\n",
       "      <td>0.487165</td>\n",
       "      <td>0.471459</td>\n",
       "    </tr>\n",
       "    <tr>\n",
       "      <th>RandomForest</th>\n",
       "      <td>0.458589</td>\n",
       "      <td>0.527984</td>\n",
       "      <td>0.511133</td>\n",
       "      <td>0.545983</td>\n",
       "    </tr>\n",
       "    <tr>\n",
       "      <th>Naive_Bayes</th>\n",
       "      <td>0.447396</td>\n",
       "      <td>0.411823</td>\n",
       "      <td>0.554066</td>\n",
       "      <td>0.327696</td>\n",
       "    </tr>\n",
       "    <tr>\n",
       "      <th>Stacking</th>\n",
       "      <td>0.441661</td>\n",
       "      <td>0.483576</td>\n",
       "      <td>0.492865</td>\n",
       "      <td>0.474630</td>\n",
       "    </tr>\n",
       "  </tbody>\n",
       "</table>\n",
       "</div>"
      ],
      "text/plain": [
       "                     average_precision  f1_score  precision    recall\n",
       "Dummy                         0.394819  0.436689   0.394210  0.489429\n",
       "Logistic_Regression           0.459822  0.540340   0.506710  0.578753\n",
       "MLP                           0.461928  0.543435   0.509722  0.581924\n",
       "XGBoost                       0.438665  0.479183   0.487165  0.471459\n",
       "RandomForest                  0.458589  0.527984   0.511133  0.545983\n",
       "Naive_Bayes                   0.447396  0.411823   0.554066  0.327696\n",
       "Stacking                      0.441661  0.483576   0.492865  0.474630"
      ]
     },
     "execution_count": 51,
     "metadata": {},
     "output_type": "execute_result"
    }
   ],
   "source": [
    "classification_metrics = pd.DataFrame(data={'precision':precision, 'recall':recall, 'f1_score':f1, 'average_precision':ave_precision}, index=classifiers)\n",
    "classification_metrics"
   ]
  },
  {
   "cell_type": "code",
   "execution_count": 60,
   "metadata": {},
   "outputs": [
    {
     "data": {
      "image/png": "[encoded data removed]",
      "text/plain": [
       "<matplotlib.figure.Figure at 0x1194e7890>"
      ]
     },
     "metadata": {},
     "output_type": "display_data"
    }
   ],
   "source": [
    "# Plotting the precision-recall curves for the different classifiers\n",
    "\n",
    "plt.figure(figsize=(16,12))\n",
    "\n",
    "plt.subplot(4,2,1)\n",
    "precision_recall(y_test['readmitted_p'], y_pred0, dm.predict_proba(X_test)[:,1], 'Dummy')\n",
    "plt.subplot(4,2,2)\n",
    "precision_recall(y_test['readmitted_p'], y_pred1, lr_best.predict_proba(X_test)[:,1], 'Logistic Regression')\n",
    "plt.subplot(4,2,3)\n",
    "precision_recall(y_test['readmitted_p'], y_pred2, mlp2.predict_proba(X_test)[:,1], 'MLP')\n",
    "plt.subplot(4,2,4)\n",
    "precision_recall(y_test['readmitted_p'], y_pred3, xgb_best.predict_proba(X_test_n)[:,1], 'XGB')\n",
    "plt.subplot(4,2,5)\n",
    "precision_recall(y_test['readmitted_p'], y_pred4, rf_best.predict_proba(X_test_n)[:,1], 'RandomForest')\n",
    "plt.subplot(4,2,6)\n",
    "precision_recall(y_test['readmitted_p'], NB['y_label'], NB['class_1'], 'Naive Bayes')\n",
    "plt.subplot(4,2,7)\n",
    "precision_recall(y_test['readmitted_p'], y_pred6, sclf.predict_proba(X_test)[:,1], 'Stacking')\n",
    "plt.tight_layout()"
   ]
  },
  {
   "cell_type": "markdown",
   "metadata": {},
   "source": [
    "Based on the confusion matrix, classification report and the plots above, the best performing classifier on the test set is MLP followed by Logistic Regression. Since MLP Classifier is based on Neural Networks, it is not possible to find the coefficients of the features and hence it is not possible to find out which features contribute the most to the predictions of the readmission outcome. Hence, we will get the coefficients of the features based on the 2nd best model Logistic Regression. However, it should be noted that different models do give different coefficients for the features, and hence that given by the Logistic Regression may not reflect the true importance of features for the MLP Classifer."
   ]
  },
  {
   "cell_type": "code",
   "execution_count": 94,
   "metadata": {
    "scrolled": true
   },
   "outputs": [
    {
     "data": {
      "text/html": [
       "<div>\n",
       "<style>\n",
       "    .dataframe thead tr:only-child th {\n",
       "        text-align: right;\n",
       "    }\n",
       "\n",
       "    .dataframe thead th {\n",
       "        text-align: left;\n",
       "    }\n",
       "\n",
       "    .dataframe tbody tr th {\n",
       "        vertical-align: top;\n",
       "    }\n",
       "</style>\n",
       "<table border=\"1\" class=\"dataframe\">\n",
       "  <thead>\n",
       "    <tr style=\"text-align: right;\">\n",
       "      <th></th>\n",
       "      <th>Abs_Coefficients</th>\n",
       "      <th>Coefficients</th>\n",
       "      <th>Features</th>\n",
       "    </tr>\n",
       "  </thead>\n",
       "  <tbody>\n",
       "    <tr>\n",
       "      <th>27</th>\n",
       "      <td>5.325794</td>\n",
       "      <td>5.325794</td>\n",
       "      <td>number_inpatient</td>\n",
       "    </tr>\n",
       "    <tr>\n",
       "      <th>25</th>\n",
       "      <td>3.444310</td>\n",
       "      <td>3.444310</td>\n",
       "      <td>number_outpatient</td>\n",
       "    </tr>\n",
       "    <tr>\n",
       "      <th>26</th>\n",
       "      <td>3.377738</td>\n",
       "      <td>3.377738</td>\n",
       "      <td>number_emergency</td>\n",
       "    </tr>\n",
       "    <tr>\n",
       "      <th>37</th>\n",
       "      <td>1.759174</td>\n",
       "      <td>1.759174</td>\n",
       "      <td>age_4</td>\n",
       "    </tr>\n",
       "    <tr>\n",
       "      <th>38</th>\n",
       "      <td>1.605210</td>\n",
       "      <td>-1.605210</td>\n",
       "      <td>admission_type_id_1</td>\n",
       "    </tr>\n",
       "    <tr>\n",
       "      <th>42</th>\n",
       "      <td>1.353234</td>\n",
       "      <td>1.353234</td>\n",
       "      <td>admission_type_id_5</td>\n",
       "    </tr>\n",
       "    <tr>\n",
       "      <th>35</th>\n",
       "      <td>1.319191</td>\n",
       "      <td>1.319191</td>\n",
       "      <td>age_2</td>\n",
       "    </tr>\n",
       "    <tr>\n",
       "      <th>14</th>\n",
       "      <td>1.280592</td>\n",
       "      <td>-1.280592</td>\n",
       "      <td>tolazamide</td>\n",
       "    </tr>\n",
       "    <tr>\n",
       "      <th>36</th>\n",
       "      <td>1.267788</td>\n",
       "      <td>1.267788</td>\n",
       "      <td>age_3</td>\n",
       "    </tr>\n",
       "    <tr>\n",
       "      <th>50</th>\n",
       "      <td>1.263153</td>\n",
       "      <td>-1.263153</td>\n",
       "      <td>admission_source_id_2</td>\n",
       "    </tr>\n",
       "    <tr>\n",
       "      <th>16</th>\n",
       "      <td>1.246639</td>\n",
       "      <td>1.246639</td>\n",
       "      <td>glyburide-metformin</td>\n",
       "    </tr>\n",
       "    <tr>\n",
       "      <th>20</th>\n",
       "      <td>1.015115</td>\n",
       "      <td>1.015115</td>\n",
       "      <td>diabetesMed</td>\n",
       "    </tr>\n",
       "    <tr>\n",
       "      <th>5</th>\n",
       "      <td>0.950308</td>\n",
       "      <td>-0.950308</td>\n",
       "      <td>chlorpropamide</td>\n",
       "    </tr>\n",
       "    <tr>\n",
       "      <th>23</th>\n",
       "      <td>0.948294</td>\n",
       "      <td>0.948294</td>\n",
       "      <td>num_lab_procedures</td>\n",
       "    </tr>\n",
       "    <tr>\n",
       "      <th>53</th>\n",
       "      <td>0.920618</td>\n",
       "      <td>0.920618</td>\n",
       "      <td>admission_source_id_5</td>\n",
       "    </tr>\n",
       "    <tr>\n",
       "      <th>44</th>\n",
       "      <td>0.891070</td>\n",
       "      <td>-0.891070</td>\n",
       "      <td>discharge_disposition_id_1</td>\n",
       "    </tr>\n",
       "    <tr>\n",
       "      <th>9</th>\n",
       "      <td>0.868310</td>\n",
       "      <td>-0.868310</td>\n",
       "      <td>tolbutamide</td>\n",
       "    </tr>\n",
       "    <tr>\n",
       "      <th>18</th>\n",
       "      <td>0.765446</td>\n",
       "      <td>-0.765446</td>\n",
       "      <td>metformin-rosiglitazone</td>\n",
       "    </tr>\n",
       "    <tr>\n",
       "      <th>19</th>\n",
       "      <td>0.688102</td>\n",
       "      <td>0.688102</td>\n",
       "      <td>change</td>\n",
       "    </tr>\n",
       "    <tr>\n",
       "      <th>4</th>\n",
       "      <td>0.627391</td>\n",
       "      <td>-0.627391</td>\n",
       "      <td>nateglinide</td>\n",
       "    </tr>\n",
       "    <tr>\n",
       "      <th>22</th>\n",
       "      <td>0.621946</td>\n",
       "      <td>0.621946</td>\n",
       "      <td>time_in_hospital</td>\n",
       "    </tr>\n",
       "    <tr>\n",
       "      <th>45</th>\n",
       "      <td>0.596836</td>\n",
       "      <td>-0.596836</td>\n",
       "      <td>discharge_disposition_id_2</td>\n",
       "    </tr>\n",
       "    <tr>\n",
       "      <th>43</th>\n",
       "      <td>0.587009</td>\n",
       "      <td>-0.587009</td>\n",
       "      <td>discharge_disposition_id_0</td>\n",
       "    </tr>\n",
       "    <tr>\n",
       "      <th>34</th>\n",
       "      <td>0.537143</td>\n",
       "      <td>0.537143</td>\n",
       "      <td>age_1</td>\n",
       "    </tr>\n",
       "    <tr>\n",
       "      <th>41</th>\n",
       "      <td>0.535486</td>\n",
       "      <td>0.535486</td>\n",
       "      <td>admission_type_id_4</td>\n",
       "    </tr>\n",
       "    <tr>\n",
       "      <th>0</th>\n",
       "      <td>0.530344</td>\n",
       "      <td>0.530344</td>\n",
       "      <td>max_glu_serum</td>\n",
       "    </tr>\n",
       "    <tr>\n",
       "      <th>32</th>\n",
       "      <td>0.518435</td>\n",
       "      <td>-0.518435</td>\n",
       "      <td>race_Unknown</td>\n",
       "    </tr>\n",
       "    <tr>\n",
       "      <th>28</th>\n",
       "      <td>0.516100</td>\n",
       "      <td>-0.516100</td>\n",
       "      <td>race_Asian</td>\n",
       "    </tr>\n",
       "    <tr>\n",
       "      <th>13</th>\n",
       "      <td>0.506812</td>\n",
       "      <td>0.506812</td>\n",
       "      <td>miglitol</td>\n",
       "    </tr>\n",
       "    <tr>\n",
       "      <th>1</th>\n",
       "      <td>0.458576</td>\n",
       "      <td>0.458576</td>\n",
       "      <td>A1Cresult</td>\n",
       "    </tr>\n",
       "    <tr>\n",
       "      <th>49</th>\n",
       "      <td>0.431033</td>\n",
       "      <td>-0.431033</td>\n",
       "      <td>admission_source_id_1</td>\n",
       "    </tr>\n",
       "    <tr>\n",
       "      <th>46</th>\n",
       "      <td>0.406315</td>\n",
       "      <td>-0.406315</td>\n",
       "      <td>discharge_disposition_id_3</td>\n",
       "    </tr>\n",
       "    <tr>\n",
       "      <th>3</th>\n",
       "      <td>0.392070</td>\n",
       "      <td>0.392070</td>\n",
       "      <td>repaglinide</td>\n",
       "    </tr>\n",
       "    <tr>\n",
       "      <th>12</th>\n",
       "      <td>0.366434</td>\n",
       "      <td>-0.366434</td>\n",
       "      <td>acarbose</td>\n",
       "    </tr>\n",
       "    <tr>\n",
       "      <th>47</th>\n",
       "      <td>0.330224</td>\n",
       "      <td>-0.330224</td>\n",
       "      <td>discharge_disposition_id_4</td>\n",
       "    </tr>\n",
       "    <tr>\n",
       "      <th>62</th>\n",
       "      <td>0.327396</td>\n",
       "      <td>-0.327396</td>\n",
       "      <td>max_glu_serum&amp;diabetesMed</td>\n",
       "    </tr>\n",
       "    <tr>\n",
       "      <th>58</th>\n",
       "      <td>0.274438</td>\n",
       "      <td>-0.274438</td>\n",
       "      <td>A1Cresult&amp;diabetesMed</td>\n",
       "    </tr>\n",
       "    <tr>\n",
       "      <th>40</th>\n",
       "      <td>0.267109</td>\n",
       "      <td>0.267109</td>\n",
       "      <td>admission_type_id_3</td>\n",
       "    </tr>\n",
       "    <tr>\n",
       "      <th>59</th>\n",
       "      <td>0.261669</td>\n",
       "      <td>-0.261669</td>\n",
       "      <td>max_glu_serum&amp;change</td>\n",
       "    </tr>\n",
       "    <tr>\n",
       "      <th>30</th>\n",
       "      <td>0.236437</td>\n",
       "      <td>0.236437</td>\n",
       "      <td>race_Hispanic</td>\n",
       "    </tr>\n",
       "    <tr>\n",
       "      <th>24</th>\n",
       "      <td>0.212060</td>\n",
       "      <td>-0.212060</td>\n",
       "      <td>num_procedures</td>\n",
       "    </tr>\n",
       "    <tr>\n",
       "      <th>11</th>\n",
       "      <td>0.197861</td>\n",
       "      <td>0.197861</td>\n",
       "      <td>rosiglitazone</td>\n",
       "    </tr>\n",
       "    <tr>\n",
       "      <th>31</th>\n",
       "      <td>0.185830</td>\n",
       "      <td>-0.185830</td>\n",
       "      <td>race_Other</td>\n",
       "    </tr>\n",
       "    <tr>\n",
       "      <th>2</th>\n",
       "      <td>0.176206</td>\n",
       "      <td>-0.176206</td>\n",
       "      <td>metformin</td>\n",
       "    </tr>\n",
       "    <tr>\n",
       "      <th>55</th>\n",
       "      <td>0.173225</td>\n",
       "      <td>-0.173225</td>\n",
       "      <td>A1Cresult&amp;change</td>\n",
       "    </tr>\n",
       "    <tr>\n",
       "      <th>17</th>\n",
       "      <td>0.130082</td>\n",
       "      <td>0.130082</td>\n",
       "      <td>glipizide-metformin</td>\n",
       "    </tr>\n",
       "    <tr>\n",
       "      <th>21</th>\n",
       "      <td>0.118941</td>\n",
       "      <td>0.118941</td>\n",
       "      <td>diag_diabetes</td>\n",
       "    </tr>\n",
       "    <tr>\n",
       "      <th>48</th>\n",
       "      <td>0.115617</td>\n",
       "      <td>-0.115617</td>\n",
       "      <td>discharge_disposition_id_5</td>\n",
       "    </tr>\n",
       "    <tr>\n",
       "      <th>60</th>\n",
       "      <td>0.109295</td>\n",
       "      <td>-0.109295</td>\n",
       "      <td>max_glu_serum&amp;gender_Male</td>\n",
       "    </tr>\n",
       "    <tr>\n",
       "      <th>39</th>\n",
       "      <td>0.083690</td>\n",
       "      <td>0.083690</td>\n",
       "      <td>admission_type_id_2</td>\n",
       "    </tr>\n",
       "    <tr>\n",
       "      <th>10</th>\n",
       "      <td>0.074805</td>\n",
       "      <td>0.074805</td>\n",
       "      <td>pioglitazone</td>\n",
       "    </tr>\n",
       "    <tr>\n",
       "      <th>29</th>\n",
       "      <td>0.072870</td>\n",
       "      <td>0.072870</td>\n",
       "      <td>race_Caucasian</td>\n",
       "    </tr>\n",
       "    <tr>\n",
       "      <th>57</th>\n",
       "      <td>0.069134</td>\n",
       "      <td>-0.069134</td>\n",
       "      <td>A1Cresult&amp;diag_diabetes</td>\n",
       "    </tr>\n",
       "    <tr>\n",
       "      <th>6</th>\n",
       "      <td>0.058445</td>\n",
       "      <td>0.058445</td>\n",
       "      <td>glimepiride</td>\n",
       "    </tr>\n",
       "    <tr>\n",
       "      <th>33</th>\n",
       "      <td>0.042891</td>\n",
       "      <td>-0.042891</td>\n",
       "      <td>gender_Male</td>\n",
       "    </tr>\n",
       "    <tr>\n",
       "      <th>8</th>\n",
       "      <td>0.040875</td>\n",
       "      <td>0.040875</td>\n",
       "      <td>glyburide</td>\n",
       "    </tr>\n",
       "    <tr>\n",
       "      <th>51</th>\n",
       "      <td>0.039492</td>\n",
       "      <td>0.039492</td>\n",
       "      <td>admission_source_id_3</td>\n",
       "    </tr>\n",
       "    <tr>\n",
       "      <th>54</th>\n",
       "      <td>0.036178</td>\n",
       "      <td>0.036178</td>\n",
       "      <td>A1Cresult&amp;max_glu_serum</td>\n",
       "    </tr>\n",
       "    <tr>\n",
       "      <th>15</th>\n",
       "      <td>0.030422</td>\n",
       "      <td>-0.030422</td>\n",
       "      <td>insulin</td>\n",
       "    </tr>\n",
       "    <tr>\n",
       "      <th>52</th>\n",
       "      <td>0.020246</td>\n",
       "      <td>0.020246</td>\n",
       "      <td>admission_source_id_4</td>\n",
       "    </tr>\n",
       "    <tr>\n",
       "      <th>7</th>\n",
       "      <td>0.018038</td>\n",
       "      <td>-0.018038</td>\n",
       "      <td>glipizide</td>\n",
       "    </tr>\n",
       "    <tr>\n",
       "      <th>61</th>\n",
       "      <td>0.006301</td>\n",
       "      <td>-0.006301</td>\n",
       "      <td>max_glu_serum&amp;diag_diabetes</td>\n",
       "    </tr>\n",
       "    <tr>\n",
       "      <th>56</th>\n",
       "      <td>0.002794</td>\n",
       "      <td>0.002794</td>\n",
       "      <td>A1Cresult&amp;gender_Male</td>\n",
       "    </tr>\n",
       "  </tbody>\n",
       "</table>\n",
       "</div>"
      ],
      "text/plain": [
       "    Abs_Coefficients  Coefficients                     Features\n",
       "27          5.325794      5.325794             number_inpatient\n",
       "25          3.444310      3.444310            number_outpatient\n",
       "26          3.377738      3.377738             number_emergency\n",
       "37          1.759174      1.759174                        age_4\n",
       "38          1.605210     -1.605210          admission_type_id_1\n",
       "42          1.353234      1.353234          admission_type_id_5\n",
       "35          1.319191      1.319191                        age_2\n",
       "14          1.280592     -1.280592                   tolazamide\n",
       "36          1.267788      1.267788                        age_3\n",
       "50          1.263153     -1.263153        admission_source_id_2\n",
       "16          1.246639      1.246639          glyburide-metformin\n",
       "20          1.015115      1.015115                  diabetesMed\n",
       "5           0.950308     -0.950308               chlorpropamide\n",
       "23          0.948294      0.948294           num_lab_procedures\n",
       "53          0.920618      0.920618        admission_source_id_5\n",
       "44          0.891070     -0.891070   discharge_disposition_id_1\n",
       "9           0.868310     -0.868310                  tolbutamide\n",
       "18          0.765446     -0.765446      metformin-rosiglitazone\n",
       "19          0.688102      0.688102                       change\n",
       "4           0.627391     -0.627391                  nateglinide\n",
       "22          0.621946      0.621946             time_in_hospital\n",
       "45          0.596836     -0.596836   discharge_disposition_id_2\n",
       "43          0.587009     -0.587009   discharge_disposition_id_0\n",
       "34          0.537143      0.537143                        age_1\n",
       "41          0.535486      0.535486          admission_type_id_4\n",
       "0           0.530344      0.530344                max_glu_serum\n",
       "32          0.518435     -0.518435                 race_Unknown\n",
       "28          0.516100     -0.516100                   race_Asian\n",
       "13          0.506812      0.506812                     miglitol\n",
       "1           0.458576      0.458576                    A1Cresult\n",
       "49          0.431033     -0.431033        admission_source_id_1\n",
       "46          0.406315     -0.406315   discharge_disposition_id_3\n",
       "3           0.392070      0.392070                  repaglinide\n",
       "12          0.366434     -0.366434                     acarbose\n",
       "47          0.330224     -0.330224   discharge_disposition_id_4\n",
       "62          0.327396     -0.327396    max_glu_serum&diabetesMed\n",
       "58          0.274438     -0.274438        A1Cresult&diabetesMed\n",
       "40          0.267109      0.267109          admission_type_id_3\n",
       "59          0.261669     -0.261669         max_glu_serum&change\n",
       "30          0.236437      0.236437                race_Hispanic\n",
       "24          0.212060     -0.212060               num_procedures\n",
       "11          0.197861      0.197861                rosiglitazone\n",
       "31          0.185830     -0.185830                   race_Other\n",
       "2           0.176206     -0.176206                    metformin\n",
       "55          0.173225     -0.173225             A1Cresult&change\n",
       "17          0.130082      0.130082          glipizide-metformin\n",
       "21          0.118941      0.118941                diag_diabetes\n",
       "48          0.115617     -0.115617   discharge_disposition_id_5\n",
       "60          0.109295     -0.109295    max_glu_serum&gender_Male\n",
       "39          0.083690      0.083690          admission_type_id_2\n",
       "10          0.074805      0.074805                 pioglitazone\n",
       "29          0.072870      0.072870               race_Caucasian\n",
       "57          0.069134     -0.069134      A1Cresult&diag_diabetes\n",
       "6           0.058445      0.058445                  glimepiride\n",
       "33          0.042891     -0.042891                  gender_Male\n",
       "8           0.040875      0.040875                    glyburide\n",
       "51          0.039492      0.039492        admission_source_id_3\n",
       "54          0.036178      0.036178      A1Cresult&max_glu_serum\n",
       "15          0.030422     -0.030422                      insulin\n",
       "52          0.020246      0.020246        admission_source_id_4\n",
       "7           0.018038     -0.018038                    glipizide\n",
       "61          0.006301     -0.006301  max_glu_serum&diag_diabetes\n",
       "56          0.002794      0.002794        A1Cresult&gender_Male"
      ]
     },
     "execution_count": 94,
     "metadata": {},
     "output_type": "execute_result"
    }
   ],
   "source": [
    "# Finding out the coefficients of the features, aka feature importance from Logistic Regression\n",
    "pd.set_option('display.max_rows', None)\n",
    "lr_coefs = pd.DataFrame(data={'Features':X_ros.columns, 'Coefficients':lr_best.coef_[0], 'Abs_Coefficients':np.abs(lr_best.coef_[0])})\n",
    "lr_coefs.sort_values(by='Abs_Coefficients', ascending=False)"
   ]
  },
  {
   "cell_type": "code",
   "execution_count": 97,
   "metadata": {},
   "outputs": [
    {
     "data": {
      "text/plain": [
       "27         number_inpatient\n",
       "25        number_outpatient\n",
       "26         number_emergency\n",
       "37                    age_4\n",
       "38      admission_type_id_1\n",
       "42      admission_type_id_5\n",
       "35                    age_2\n",
       "14               tolazamide\n",
       "36                    age_3\n",
       "50    admission_source_id_2\n",
       "Name: Features, dtype: object"
      ]
     },
     "execution_count": 97,
     "metadata": {},
     "output_type": "execute_result"
    }
   ],
   "source": [
    "# The top 10 most important features based on Logistic Regression\n",
    "lr_coefs.sort_values(by='Abs_Coefficients', ascending=False)['Features'][:10]"
   ]
  },
  {
   "cell_type": "code",
   "execution_count": 126,
   "metadata": {
    "scrolled": false
   },
   "outputs": [
    {
     "data": {
      "image/png": "[encoded data removed]",
      "text/plain": [
       "<matplotlib.figure.Figure at 0x1213be190>"
      ]
     },
     "metadata": {},
     "output_type": "display_data"
    }
   ],
   "source": [
    "features = lr_coefs.sort_values(by='Abs_Coefficients', ascending=True)['Features']\n",
    "coefficients = lr_coefs.sort_values(by='Abs_Coefficients', ascending=True)['Coefficients']\n",
    "indices = np.array(coefficients)\n",
    "\n",
    "plt.figure(figsize=(20,20))\n",
    "plt.figure(1)\n",
    "plt.title('Feature Importances')\n",
    "plt.barh(range(len(indices)), coefficients, color='b', align='center')\n",
    "plt.yticks(range(len(indices)), features)\n",
    "plt.xlabel('Coefficients')\n",
    "plt.grid(True)"
   ]
  },
  {
   "cell_type": "code",
   "execution_count": null,
   "metadata": {
    "collapsed": true
   },
   "outputs": [],
   "source": []
  }
 ],
 "metadata": {
  "kernelspec": {
   "display_name": "Python 2",
   "language": "python",
   "name": "python2"
  },
  "language_info": {
   "codemirror_mode": {
    "name": "ipython",
    "version": 2
   },
   "file_extension": ".py",
   "mimetype": "text/x-python",
   "name": "python",
   "nbconvert_exporter": "python",
   "pygments_lexer": "ipython2",
   "version": "2.7.13"
  }
 },
 "nbformat": 4,
 "nbformat_minor": 2
}
