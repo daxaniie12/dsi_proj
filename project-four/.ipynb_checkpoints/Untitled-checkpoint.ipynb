{
 "cells": [
  {
   "cell_type": "code",
   "execution_count": 2,
   "metadata": {
    "collapsed": true
   },
   "outputs": [],
   "source": [
    "import pandas as pd"
   ]
  },
  {
   "cell_type": "code",
   "execution_count": 3,
   "metadata": {},
   "outputs": [
    {
     "name": "stdout",
     "output_type": "stream",
     "text": [
      "<class 'pandas.core.frame.DataFrame'>\n",
      "RangeIndex: 732 entries, 0 to 731\n",
      "Data columns (total 9 columns):\n",
      "Index              732 non-null int64\n",
      "job_title          732 non-null object\n",
      "company            732 non-null object\n",
      "location           732 non-null object\n",
      "salary             410 non-null object\n",
      "industry           727 non-null object\n",
      "experience         732 non-null object\n",
      "company_size       732 non-null object\n",
      "job_description    732 non-null object\n",
      "dtypes: int64(1), object(8)\n",
      "memory usage: 51.5+ KB\n"
     ]
    }
   ],
   "source": [
    "xx = pd.read_csv('./sg_jobst')\n",
    "xx.info()"
   ]
  },
  {
   "cell_type": "code",
   "execution_count": 11,
   "metadata": {},
   "outputs": [
    {
     "name": "stdout",
     "output_type": "stream",
     "text": [
      "<class 'pandas.core.frame.DataFrame'>\n",
      "RangeIndex: 732 entries, 0 to 731\n",
      "Data columns (total 9 columns):\n",
      "Index              732 non-null int64\n",
      "job_title          732 non-null object\n",
      "company            732 non-null object\n",
      "location           732 non-null object\n",
      "salary             410 non-null object\n",
      "industry           727 non-null object\n",
      "experience         732 non-null object\n",
      "company_size       732 non-null object\n",
      "job_description    732 non-null object\n",
      "dtypes: int64(1), object(8)\n",
      "memory usage: 51.5+ KB\n"
     ]
    }
   ],
   "source": [
    "xx.info()"
   ]
  },
  {
   "cell_type": "code",
   "execution_count": 5,
   "metadata": {},
   "outputs": [
    {
     "name": "stdout",
     "output_type": "stream",
     "text": [
      "<class 'pandas.core.frame.DataFrame'>\n",
      "RangeIndex: 233 entries, 0 to 232\n",
      "Data columns (total 9 columns):\n",
      "Index              233 non-null int64\n",
      "job_title          233 non-null object\n",
      "company            233 non-null object\n",
      "location           233 non-null object\n",
      "salary             135 non-null object\n",
      "industry           222 non-null object\n",
      "experience         227 non-null object\n",
      "company_size       233 non-null object\n",
      "job_description    233 non-null object\n",
      "dtypes: int64(1), object(8)\n",
      "memory usage: 16.5+ KB\n"
     ]
    }
   ],
   "source": [
    "yy = pd.read_csv('./mal_jobst')\n",
    "yy.info()"
   ]
  },
  {
   "cell_type": "code",
   "execution_count": 10,
   "metadata": {},
   "outputs": [
    {
     "name": "stdout",
     "output_type": "stream",
     "text": [
      "<class 'pandas.core.frame.DataFrame'>\n",
      "RangeIndex: 233 entries, 0 to 232\n",
      "Data columns (total 9 columns):\n",
      "Index              233 non-null int64\n",
      "job_title          233 non-null object\n",
      "company            233 non-null object\n",
      "location           233 non-null object\n",
      "salary             135 non-null object\n",
      "industry           222 non-null object\n",
      "experience         227 non-null object\n",
      "company_size       233 non-null object\n",
      "job_description    233 non-null object\n",
      "dtypes: int64(1), object(8)\n",
      "memory usage: 16.5+ KB\n"
     ]
    }
   ],
   "source": [
    "yy.info()"
   ]
  },
  {
   "cell_type": "code",
   "execution_count": 7,
   "metadata": {
    "collapsed": true
   },
   "outputs": [],
   "source": [
    "zz = pd.read_csv('./phil_jobst')"
   ]
  },
  {
   "cell_type": "code",
   "execution_count": 9,
   "metadata": {},
   "outputs": [
    {
     "name": "stdout",
     "output_type": "stream",
     "text": [
      "<class 'pandas.core.frame.DataFrame'>\n",
      "RangeIndex: 403 entries, 0 to 402\n",
      "Data columns (total 9 columns):\n",
      "Index              403 non-null int64\n",
      "job_title          403 non-null object\n",
      "company            403 non-null object\n",
      "location           403 non-null object\n",
      "salary             299 non-null object\n",
      "industry           395 non-null object\n",
      "experience         402 non-null object\n",
      "company_size       403 non-null object\n",
      "job_description    402 non-null object\n",
      "dtypes: int64(1), object(8)\n",
      "memory usage: 28.4+ KB\n"
     ]
    }
   ],
   "source": [
    "zz.info()"
   ]
  },
  {
   "cell_type": "code",
   "execution_count": null,
   "metadata": {
    "collapsed": true
   },
   "outputs": [],
   "source": [
    "company_size, experience, industry"
   ]
  },
  {
   "cell_type": "code",
   "execution_count": 12,
   "metadata": {
    "collapsed": true
   },
   "outputs": [],
   "source": [
    "aa = pd.read_csv('./ind_jobst')"
   ]
  },
  {
   "cell_type": "code",
   "execution_count": 13,
   "metadata": {},
   "outputs": [
    {
     "data": {
      "text/html": [
       "<div>\n",
       "<style>\n",
       "    .dataframe thead tr:only-child th {\n",
       "        text-align: right;\n",
       "    }\n",
       "\n",
       "    .dataframe thead th {\n",
       "        text-align: left;\n",
       "    }\n",
       "\n",
       "    .dataframe tbody tr th {\n",
       "        vertical-align: top;\n",
       "    }\n",
       "</style>\n",
       "<table border=\"1\" class=\"dataframe\">\n",
       "  <thead>\n",
       "    <tr style=\"text-align: right;\">\n",
       "      <th></th>\n",
       "      <th>Index</th>\n",
       "      <th>job_title</th>\n",
       "      <th>company</th>\n",
       "      <th>location</th>\n",
       "      <th>salary</th>\n",
       "      <th>industry</th>\n",
       "      <th>experience</th>\n",
       "      <th>company_size</th>\n",
       "      <th>job_description</th>\n",
       "    </tr>\n",
       "  </thead>\n",
       "  <tbody>\n",
       "    <tr>\n",
       "      <th>0</th>\n",
       "      <td>0</td>\n",
       "      <td>Data Analyst (Jakarta)</td>\n",
       "      <td>MASPION</td>\n",
       "      <td>Jakarta Pusat (Jakarta Raya) - Gunung Sahari</td>\n",
       "      <td>Below expected salary</td>\n",
       "      <td>Manufacturing/Production</td>\n",
       "      <td>Min 3 years (Staff (non-management &amp; non-super...</td>\n",
       "      <td>More than 5000 Employees</td>\n",
       "      <td>\\nResponsibilities:\\n\\nInterpreting data, ana...</td>\n",
       "    </tr>\n",
       "    <tr>\n",
       "      <th>1</th>\n",
       "      <td>1</td>\n",
       "      <td>Data Analyst [Marketing] Staff</td>\n",
       "      <td>PT Mandom Indonesia Tbk</td>\n",
       "      <td>Bekasi (Jawa Barat) - Cibitung</td>\n",
       "      <td>NaN</td>\n",
       "      <td>Consumer Products/FMCG</td>\n",
       "      <td>Min 2 years (Staff (non-management &amp; non-super...</td>\n",
       "      <td>2001 - 5000 Employees</td>\n",
       "      <td>\\nJob Scopes :\\n\\nTo collect, perform, and pr...</td>\n",
       "    </tr>\n",
       "    <tr>\n",
       "      <th>2</th>\n",
       "      <td>2</td>\n",
       "      <td>DATA ANALYST</td>\n",
       "      <td>PT Arta Boga Cemerlang</td>\n",
       "      <td>Jakarta Barat (Jakarta Raya) - CENGKARENG</td>\n",
       "      <td>Below expected salary</td>\n",
       "      <td>Consumer Products/FMCG</td>\n",
       "      <td>Less than 1 year experience</td>\n",
       "      <td>More than 5000 Employees</td>\n",
       "      <td>REQUIREMENTS:\\n \\n\\nAge maximum 27 years old\\...</td>\n",
       "    </tr>\n",
       "    <tr>\n",
       "      <th>3</th>\n",
       "      <td>3</td>\n",
       "      <td>Senior Data Analyst</td>\n",
       "      <td>PT Daya Maha Berkarya ( IRIS WORLDWIDE)</td>\n",
       "      <td>Jakarta Raya</td>\n",
       "      <td>NaN</td>\n",
       "      <td>Advertising/Marketing/Promotion/PR</td>\n",
       "      <td>Min 5 years (Staff (non-management &amp; non-super...</td>\n",
       "      <td>501 - 1000 Employees</td>\n",
       "      <td>Responsible for working with clients of the c...</td>\n",
       "    </tr>\n",
       "    <tr>\n",
       "      <th>4</th>\n",
       "      <td>4</td>\n",
       "      <td>Data Analyst</td>\n",
       "      <td>Mainspring Technology</td>\n",
       "      <td>Jakarta Selatan (Jakarta Raya) - Gandaria</td>\n",
       "      <td>NaN</td>\n",
       "      <td>Entertainment/Media</td>\n",
       "      <td>Min 1 year (Staff (non-management &amp; non-superv...</td>\n",
       "      <td>51 - 200 Employees</td>\n",
       "      <td>Responsibilities:\\n\\nDoing Data Selection &amp; P...</td>\n",
       "    </tr>\n",
       "  </tbody>\n",
       "</table>\n",
       "</div>"
      ],
      "text/plain": [
       "   Index                       job_title  \\\n",
       "0      0          Data Analyst (Jakarta)   \n",
       "1      1  Data Analyst [Marketing] Staff   \n",
       "2      2                    DATA ANALYST   \n",
       "3      3             Senior Data Analyst   \n",
       "4      4                    Data Analyst   \n",
       "\n",
       "                                   company  \\\n",
       "0                                  MASPION   \n",
       "1                  PT Mandom Indonesia Tbk   \n",
       "2                   PT Arta Boga Cemerlang   \n",
       "3  PT Daya Maha Berkarya ( IRIS WORLDWIDE)   \n",
       "4                    Mainspring Technology   \n",
       "\n",
       "                                       location                 salary  \\\n",
       "0  Jakarta Pusat (Jakarta Raya) - Gunung Sahari  Below expected salary   \n",
       "1                Bekasi (Jawa Barat) - Cibitung                    NaN   \n",
       "2     Jakarta Barat (Jakarta Raya) - CENGKARENG  Below expected salary   \n",
       "3                                  Jakarta Raya                    NaN   \n",
       "4     Jakarta Selatan (Jakarta Raya) - Gandaria                    NaN   \n",
       "\n",
       "                             industry  \\\n",
       "0            Manufacturing/Production   \n",
       "1              Consumer Products/FMCG   \n",
       "2              Consumer Products/FMCG   \n",
       "3  Advertising/Marketing/Promotion/PR   \n",
       "4                 Entertainment/Media   \n",
       "\n",
       "                                          experience  \\\n",
       "0  Min 3 years (Staff (non-management & non-super...   \n",
       "1  Min 2 years (Staff (non-management & non-super...   \n",
       "2                        Less than 1 year experience   \n",
       "3  Min 5 years (Staff (non-management & non-super...   \n",
       "4  Min 1 year (Staff (non-management & non-superv...   \n",
       "\n",
       "               company_size                                    job_description  \n",
       "0  More than 5000 Employees   \\nResponsibilities:\\n\\nInterpreting data, ana...  \n",
       "1     2001 - 5000 Employees   \\nJob Scopes :\\n\\nTo collect, perform, and pr...  \n",
       "2  More than 5000 Employees   REQUIREMENTS:\\n \\n\\nAge maximum 27 years old\\...  \n",
       "3      501 - 1000 Employees   Responsible for working with clients of the c...  \n",
       "4        51 - 200 Employees   Responsibilities:\\n\\nDoing Data Selection & P...  "
      ]
     },
     "execution_count": 13,
     "metadata": {},
     "output_type": "execute_result"
    }
   ],
   "source": [
    "aa.head()"
   ]
  },
  {
   "cell_type": "code",
   "execution_count": null,
   "metadata": {
    "collapsed": true
   },
   "outputs": [],
   "source": []
  }
 ],
 "metadata": {
  "kernelspec": {
   "display_name": "Python 2",
   "language": "python",
   "name": "python2"
  },
  "language_info": {
   "codemirror_mode": {
    "name": "ipython",
    "version": 2
   },
   "file_extension": ".py",
   "mimetype": "text/x-python",
   "name": "python",
   "nbconvert_exporter": "python",
   "pygments_lexer": "ipython2",
   "version": "2.7.13"
  }
 },
 "nbformat": 4,
 "nbformat_minor": 2
}
