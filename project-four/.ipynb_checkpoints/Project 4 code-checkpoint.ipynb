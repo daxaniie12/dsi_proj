{
 "cells": [
  {
   "cell_type": "code",
   "execution_count": 1,
   "metadata": {
    "collapsed": true
   },
   "outputs": [],
   "source": [
    "from bs4 import BeautifulSoup\n",
    "import time\n",
    "from selenium import webdriver\n",
    "import pandas as pd\n",
    "import numpy as np\n",
    "import re\n",
    "import string"
   ]
  },
  {
   "cell_type": "code",
   "execution_count": 2,
   "metadata": {
    "collapsed": true
   },
   "outputs": [],
   "source": [
    "pd.set_option(\"display.max_rows\",None)"
   ]
  },
  {
   "cell_type": "code",
   "execution_count": 3,
   "metadata": {
    "collapsed": true
   },
   "outputs": [],
   "source": [
    "chrome_path = './chromedriver/chromedriver'\n",
    "driver = webdriver.Chrome(chrome_path)"
   ]
  },
  {
   "cell_type": "code",
   "execution_count": 4,
   "metadata": {
    "collapsed": true
   },
   "outputs": [],
   "source": [
    "#Countries\n",
    "Singapore = 'https://myjobstreet.jobstreet.com.sg/home/login.php?site=SG'\n",
    "Malaysia = 'https://myjobstreet.jobstreet.com.my/home/login.php'\n",
    "Philippines = 'https://www.jobstreet.com.ph/'\n",
    "Indonesia = 'https://www.jobstreet.co.id/'"
   ]
  },
  {
   "cell_type": "code",
   "execution_count": 5,
   "metadata": {
    "collapsed": true
   },
   "outputs": [],
   "source": [
    "#Code for scraping jobstreet and making dataframe\n",
    "def scrape_jobstreet(job_titles, pages, country):\n",
    "    jobs_df = []\n",
    "    companies_df = []\n",
    "    locations_df = []\n",
    "    salaries_df = []\n",
    "    industries_df = []\n",
    "    experiences_df = []\n",
    "    company_sizes_df = []\n",
    "    descriptions_df = []\n",
    "    linkss_df = []\n",
    "    \n",
    "    def jjobs(info):\n",
    "        jobs = []\n",
    "        companies = []\n",
    "        locations = []\n",
    "        linkss = []\n",
    "        for inf in info:\n",
    "            job = inf.findAll('h2', {'itemprop':'title'})\n",
    "            for j in job:\n",
    "                jobs.append(j.text)\n",
    "            company = inf.findAll('span', {'itemprop':'name'})\n",
    "            for com in company:\n",
    "                companies.append(com.text)\n",
    "            location = inf.findAll('span', {'itemprop':'jobLocation'})\n",
    "            for loc in location:\n",
    "                locations.append(loc.text)\n",
    "            links = inf.findAll('a', {'class', 'position-title-link'})\n",
    "            for link in links:\n",
    "                linkss.append(link.get('href'))\n",
    "        return jobs, companies, locations, linkss\n",
    "    \n",
    "    def get_info(linkss):\n",
    "        salaries = []\n",
    "        industries = []\n",
    "        experiences = []\n",
    "        company_sizes =[]\n",
    "        descriptions = []\n",
    "        for link in linkss:\n",
    "            driver.get(link)\n",
    "            source = driver.page_source\n",
    "            soup = BeautifulSoup(source, \"html.parser\")\n",
    "            try:\n",
    "                sal = soup.findAll('span', {'id':'salary_range'})[0].text.strip()\n",
    "                salaries.append(sal)\n",
    "            except:\n",
    "                salaries.append(np.nan)\n",
    "            try:\n",
    "                ind = soup.findAll('p', {'id':'company_industry'})[0].text\n",
    "                industries.append(ind)\n",
    "            except:\n",
    "                industries.append(np.nan)\n",
    "            try:\n",
    "                exp = soup.findAll('span', {'itemprop':'experienceRequirements'})[0].text.strip()\n",
    "                experiences.append(exp)\n",
    "            except:\n",
    "                experiences.append(np.nan)\n",
    "            try:\n",
    "                com = soup.findAll('p', {'id':'company_size'})[0].text.strip()\n",
    "                company_sizes.append(com)\n",
    "            except:\n",
    "                company_sizes.append(com)\n",
    "            try:\n",
    "                des = soup.findAll('div', attrs = {'id':'job_description'})[0].text\n",
    "                descriptions.append(des)\n",
    "            except:\n",
    "                descriptions.append(np.nan)\n",
    "            time.sleep(4)\n",
    "        return salaries, industries, experiences, company_sizes, descriptions \n",
    "    \n",
    "    #user logins to profile first\n",
    "    #driver.get(country)\n",
    "    for j in job_titles:\n",
    "        for p in range(1, pages+1):\n",
    "            if country == Singapore:\n",
    "                url = 'https://www.jobstreet.com.sg/en/job-search/job-vacancy.php?key=' + j.replace(' ', '+') + '&area=1&option=1&job-source=1%2C64&classified=1&job-posted=0&sort=2&order=0&pg=' + str(p) + '&src=16&ojs=2'\n",
    "                driver.get(url)\n",
    "                source = driver.page_source\n",
    "                soup = BeautifulSoup(source, \"html.parser\")\n",
    "                info = soup.findAll('div', {'class':'panel-body'})\n",
    "            elif country == Malaysia:\n",
    "                url = 'https://www.jobstreet.com.my/en/job-search/job-vacancy.php?key=' + j.replace(' ', '+') + '&area=1&option=1&job-source=1%2C64&classified=1&job-posted=0&sort=2&order=0&pg=' + str(p) + '&src=16&ojs=2'\n",
    "                driver.get(url)\n",
    "                source = driver.page_source\n",
    "                soup = BeautifulSoup(source, \"html.parser\")\n",
    "                info = soup.findAll('div', {'class':'panel-body'})\n",
    "            elif country == Philippines:\n",
    "                url = 'https://www.jobstreet.com.ph/en/job-search/job-vacancy.php?key=' + j.replace(' ', '+') + '&area=1&option=1&job-source=1%2C64&classified=1&job-posted=0&sort=2&order=0&pg=' + str(p) + '&src=16&ojs=2'\n",
    "                driver.get(url)\n",
    "                source = driver.page_source\n",
    "                soup = BeautifulSoup(source, \"html.parser\")\n",
    "                info = soup.findAll('div', {'class':'panel-body'})\n",
    "            elif country == Indonesia:\n",
    "                url = 'https://www.jobstreet.co.id/en/job-search/job-vacancy.php?key=' + j.replace(' ', '+') + '&area=1&option=1&job-source=1%2C64&classified=1&job-posted=0&sort=2&order=0&pg=' + str(p) + '&src=16&ojs=2'\n",
    "                driver.get(url)\n",
    "                source = driver.page_source\n",
    "                soup = BeautifulSoup(source, \"html.parser\")\n",
    "                info = soup.findAll('div', {'class':'panel-body'})\n",
    "           \n",
    "            jobs_df.extend(jjobs(info)[0])\n",
    "            companies_df.extend(jjobs(info)[1])\n",
    "            locations_df.extend(jjobs(info)[2])\n",
    "            linkss_df.extend(jjobs(info)[3])\n",
    "            salaries_df.extend(get_info(linkss_df)[0])\n",
    "            salaries_df.extend(get_info(linkss_df)[1])\n",
    "            salaries_df.extend(get_info(linkss_df)[2])\n",
    "            salaries_df.extend(get_info(linkss_df)[3])\n",
    "            salaries_df.extend(get_info(linkss_df)[4])\n",
    "            \n",
    "            time.sleep(4)\n",
    "            \n",
    "            \n",
    "        df = pd.DataFrame()\n",
    "        df['job_title'] = jobs_df\n",
    "        df['company'] = companies_df\n",
    "        df['location'] = locations_df\n",
    "        df['salary'] = salaries_df\n",
    "        df['industry'] = industries_df\n",
    "        df['experience'] = experiences_df\n",
    "        df['company_size'] = company_sizes_df\n",
    "        df['job_description'] = descriptions_df\n",
    "    return df"
   ]
  },
  {
   "cell_type": "code",
   "execution_count": 6,
   "metadata": {
    "collapsed": true
   },
   "outputs": [],
   "source": [
    "#Run driver first\n",
    "#driver.get(Singapore)"
   ]
  },
  {
   "cell_type": "markdown",
   "metadata": {},
   "source": [
    "### Data Cleaning and Feature Encoding"
   ]
  },
  {
   "cell_type": "code",
   "execution_count": 8,
   "metadata": {
    "collapsed": true
   },
   "outputs": [],
   "source": [
    "sg = pd.read_csv('./sg_jobst')\n",
    "mal = pd.read_csv('./mal_jobst')\n",
    "phil = pd.read_csv('./phil_jobst')\n",
    "ind = pd.read_csv('./ind_jobst')"
   ]
  },
  {
   "cell_type": "code",
   "execution_count": 9,
   "metadata": {
    "collapsed": true
   },
   "outputs": [],
   "source": [
    "#Change location before concatenating all the dataframes together\n",
    "sg['location'] = sg['location'].apply(lambda x: 'Singapore')\n",
    "mal['location'] = mal['location'].apply(lambda x: 'Malaysia')\n",
    "phil['location'] = phil['location'].apply(lambda x: 'Philippines')\n",
    "ind['location'] = ind['location'].apply(lambda x: 'Indonesia')"
   ]
  },
  {
   "cell_type": "code",
   "execution_count": 10,
   "metadata": {
    "collapsed": true
   },
   "outputs": [],
   "source": [
    "#concat all these dataframes together\n",
    "jobst = pd.concat([sg,mal,phil,ind])"
   ]
  },
  {
   "cell_type": "code",
   "execution_count": 11,
   "metadata": {},
   "outputs": [
    {
     "name": "stdout",
     "output_type": "stream",
     "text": [
      "<class 'pandas.core.frame.DataFrame'>\n",
      "Int64Index: 1601 entries, 0 to 232\n",
      "Data columns (total 9 columns):\n",
      "Index              1601 non-null int64\n",
      "job_title          1601 non-null object\n",
      "company            1601 non-null object\n",
      "location           1601 non-null object\n",
      "salary             930 non-null object\n",
      "industry           1572 non-null object\n",
      "experience         1590 non-null object\n",
      "company_size       1601 non-null object\n",
      "job_description    1596 non-null object\n",
      "dtypes: int64(1), object(8)\n",
      "memory usage: 125.1+ KB\n"
     ]
    }
   ],
   "source": [
    "jobst.info()"
   ]
  },
  {
   "cell_type": "code",
   "execution_count": 12,
   "metadata": {
    "collapsed": true
   },
   "outputs": [],
   "source": [
    "jobst.drop('Index', inplace=True)"
   ]
  },
  {
   "cell_type": "code",
   "execution_count": 13,
   "metadata": {
    "collapsed": true
   },
   "outputs": [],
   "source": [
    "jobst['Index'] = np.arange(jobst.shape[0])"
   ]
  },
  {
   "cell_type": "code",
   "execution_count": 14,
   "metadata": {
    "collapsed": true
   },
   "outputs": [],
   "source": [
    "jobst.set_index('Index', inplace=True)"
   ]
  },
  {
   "cell_type": "code",
   "execution_count": 15,
   "metadata": {
    "collapsed": true
   },
   "outputs": [],
   "source": [
    "jobst1 = jobst.dropna()"
   ]
  },
  {
   "cell_type": "code",
   "execution_count": 202,
   "metadata": {},
   "outputs": [],
   "source": [
    "#jobst1.info()"
   ]
  },
  {
   "cell_type": "code",
   "execution_count": 17,
   "metadata": {},
   "outputs": [
    {
     "name": "stderr",
     "output_type": "stream",
     "text": [
      "/Users/dakshi/anaconda2/lib/python2.7/site-packages/ipykernel_launcher.py:2: SettingWithCopyWarning: \n",
      "A value is trying to be set on a copy of a slice from a DataFrame\n",
      "\n",
      "See the caveats in the documentation: http://pandas.pydata.org/pandas-docs/stable/indexing.html#indexing-view-versus-copy\n",
      "  \n"
     ]
    }
   ],
   "source": [
    "# drop duplicates\n",
    "jobst1.drop_duplicates(inplace=True)"
   ]
  },
  {
   "cell_type": "code",
   "execution_count": 203,
   "metadata": {},
   "outputs": [],
   "source": [
    "#jobst1.info()"
   ]
  },
  {
   "cell_type": "code",
   "execution_count": 19,
   "metadata": {
    "collapsed": true
   },
   "outputs": [],
   "source": [
    "# Need clean and encode each column"
   ]
  },
  {
   "cell_type": "code",
   "execution_count": 20,
   "metadata": {},
   "outputs": [
    {
     "name": "stderr",
     "output_type": "stream",
     "text": [
      "/Users/dakshi/anaconda2/lib/python2.7/site-packages/ipykernel_launcher.py:1: SettingWithCopyWarning: \n",
      "A value is trying to be set on a copy of a slice from a DataFrame.\n",
      "Try using .loc[row_indexer,col_indexer] = value instead\n",
      "\n",
      "See the caveats in the documentation: http://pandas.pydata.org/pandas-docs/stable/indexing.html#indexing-view-versus-copy\n",
      "  \"\"\"Entry point for launching an IPython kernel.\n"
     ]
    }
   ],
   "source": [
    "jobst1['job_title'] = jobst1['job_title'].apply(lambda x: 'Business Analyst' if 'business' in x.lower() else 'Data Analyst' if 'data' in x.lower() else 'Data Scientist' if 'scientist' in x.lower() else 'Data Engineer' if 'engineer' in x.lower() else np.nan)\n",
    "                                                "
   ]
  },
  {
   "cell_type": "code",
   "execution_count": 21,
   "metadata": {},
   "outputs": [
    {
     "data": {
      "text/plain": [
       "Business Analyst    374\n",
       "Data Analyst        274\n",
       "NaN                 133\n",
       "Data Engineer        20\n",
       "Data Scientist       17\n",
       "Name: job_title, dtype: int64"
      ]
     },
     "execution_count": 21,
     "metadata": {},
     "output_type": "execute_result"
    }
   ],
   "source": [
    "jobst1['job_title'].value_counts(dropna=False)"
   ]
  },
  {
   "cell_type": "code",
   "execution_count": 22,
   "metadata": {},
   "outputs": [
    {
     "name": "stderr",
     "output_type": "stream",
     "text": [
      "/Users/dakshi/anaconda2/lib/python2.7/site-packages/ipykernel_launcher.py:1: SettingWithCopyWarning: \n",
      "A value is trying to be set on a copy of a slice from a DataFrame\n",
      "\n",
      "See the caveats in the documentation: http://pandas.pydata.org/pandas-docs/stable/indexing.html#indexing-view-versus-copy\n",
      "  \"\"\"Entry point for launching an IPython kernel.\n"
     ]
    }
   ],
   "source": [
    "jobst1.dropna(inplace=True)"
   ]
  },
  {
   "cell_type": "code",
   "execution_count": 23,
   "metadata": {},
   "outputs": [
    {
     "name": "stdout",
     "output_type": "stream",
     "text": [
      "<class 'pandas.core.frame.DataFrame'>\n",
      "Int64Index: 685 entries, 0 to 1586\n",
      "Data columns (total 8 columns):\n",
      "job_title          685 non-null object\n",
      "company            685 non-null object\n",
      "location           685 non-null object\n",
      "salary             685 non-null object\n",
      "industry           685 non-null object\n",
      "experience         685 non-null object\n",
      "company_size       685 non-null object\n",
      "job_description    685 non-null object\n",
      "dtypes: object(8)\n",
      "memory usage: 48.2+ KB\n"
     ]
    }
   ],
   "source": [
    "jobst1.info()"
   ]
  },
  {
   "cell_type": "code",
   "execution_count": 205,
   "metadata": {},
   "outputs": [
    {
     "data": {
      "text/html": [
       "<div>\n",
       "<style>\n",
       "    .dataframe thead tr:only-child th {\n",
       "        text-align: right;\n",
       "    }\n",
       "\n",
       "    .dataframe thead th {\n",
       "        text-align: left;\n",
       "    }\n",
       "\n",
       "    .dataframe tbody tr th {\n",
       "        vertical-align: top;\n",
       "    }\n",
       "</style>\n",
       "<table border=\"1\" class=\"dataframe\">\n",
       "  <thead>\n",
       "    <tr style=\"text-align: right;\">\n",
       "      <th></th>\n",
       "      <th>job_title</th>\n",
       "      <th>company</th>\n",
       "      <th>location</th>\n",
       "      <th>salary</th>\n",
       "      <th>industry</th>\n",
       "      <th>experience</th>\n",
       "      <th>company_size</th>\n",
       "      <th>job_description</th>\n",
       "    </tr>\n",
       "    <tr>\n",
       "      <th>Index</th>\n",
       "      <th></th>\n",
       "      <th></th>\n",
       "      <th></th>\n",
       "      <th></th>\n",
       "      <th></th>\n",
       "      <th></th>\n",
       "      <th></th>\n",
       "      <th></th>\n",
       "    </tr>\n",
       "  </thead>\n",
       "  <tbody>\n",
       "    <tr>\n",
       "      <th>0</th>\n",
       "      <td>Data Analyst</td>\n",
       "      <td>Achieve Career Consultant Pte Ltd</td>\n",
       "      <td>Singapore</td>\n",
       "      <td>1</td>\n",
       "      <td>Human Resources Management/Consulting</td>\n",
       "      <td>Junior_Executive</td>\n",
       "      <td>1</td>\n",
       "      <td>S$3,500 to S$5,000 or Higher!Good Career Prog...</td>\n",
       "    </tr>\n",
       "    <tr>\n",
       "      <th>1</th>\n",
       "      <td>Data Analyst</td>\n",
       "      <td>CHANDLER MACLEOD GROUP PTE LTD</td>\n",
       "      <td>Singapore</td>\n",
       "      <td>0</td>\n",
       "      <td>Human Resources Management/Consulting</td>\n",
       "      <td>Junior_Executive</td>\n",
       "      <td>0</td>\n",
       "      <td>Immediate - Jun 2018CBD, $2600 MonthlyPaid An...</td>\n",
       "    </tr>\n",
       "  </tbody>\n",
       "</table>\n",
       "</div>"
      ],
      "text/plain": [
       "          job_title                            company   location  salary  \\\n",
       "Index                                                                       \n",
       "0      Data Analyst  Achieve Career Consultant Pte Ltd  Singapore       1   \n",
       "1      Data Analyst     CHANDLER MACLEOD GROUP PTE LTD  Singapore       0   \n",
       "\n",
       "                                    industry        experience  company_size  \\\n",
       "Index                                                                          \n",
       "0      Human Resources Management/Consulting  Junior_Executive             1   \n",
       "1      Human Resources Management/Consulting  Junior_Executive             0   \n",
       "\n",
       "                                         job_description  \n",
       "Index                                                     \n",
       "0       S$3,500 to S$5,000 or Higher!Good Career Prog...  \n",
       "1       Immediate - Jun 2018CBD, $2600 MonthlyPaid An...  "
      ]
     },
     "execution_count": 205,
     "metadata": {},
     "output_type": "execute_result"
    }
   ],
   "source": [
    "jobst1.head(2)"
   ]
  },
  {
   "cell_type": "code",
   "execution_count": 25,
   "metadata": {
    "scrolled": true
   },
   "outputs": [
    {
     "name": "stderr",
     "output_type": "stream",
     "text": [
      "/Users/dakshi/anaconda2/lib/python2.7/site-packages/ipykernel_launcher.py:2: SettingWithCopyWarning: \n",
      "A value is trying to be set on a copy of a slice from a DataFrame.\n",
      "Try using .loc[row_indexer,col_indexer] = value instead\n",
      "\n",
      "See the caveats in the documentation: http://pandas.pydata.org/pandas-docs/stable/indexing.html#indexing-view-versus-copy\n",
      "  \n"
     ]
    }
   ],
   "source": [
    "# Cleaning the salary column and doing currency conversion\n",
    "jobst1['salary'] = jobst1['salary'].apply(lambda x: '>3000' if x=='Above expected salary' else '<=3000' if x=='Around expected salary' else '<=3000' if x=='Below expected salary' else x)"
   ]
  },
  {
   "cell_type": "code",
   "execution_count": 27,
   "metadata": {
    "collapsed": true
   },
   "outputs": [],
   "source": [
    "# Exchange rate\n",
    "# 1 SGD == 3.11 MYR\n",
    "# 1 SGD == 3191.76 IDR\n",
    "# 1 SGD == 38.08 PHP\n",
    "# 1 SGD == 0.74 USD"
   ]
  },
  {
   "cell_type": "code",
   "execution_count": 28,
   "metadata": {
    "collapsed": true
   },
   "outputs": [],
   "source": [
    "# function to convert the currency of the different countries and get the mean of the currencies\n",
    "def convert_currency(data):\n",
    "    if data=='>3000' or data=='<=3000':\n",
    "        return data\n",
    "    if 'USD' in data:\n",
    "        data = data.replace(',', '')\n",
    "        data = data.replace('-','')\n",
    "        data = data.replace('USD','')\n",
    "        data = data.split()\n",
    "        mean = (float(data[0]) + float(data[1]))/2\n",
    "        con = mean/0.74\n",
    "        return con\n",
    "    if 'SGD' in data:\n",
    "        data = data.replace(',', '')\n",
    "        data = data.replace('-','')\n",
    "        data = data.replace('SGD','')\n",
    "        data = data.split()\n",
    "        mean = (float(data[0]) + float(data[1]))/2\n",
    "        return mean\n",
    "    elif 'MYR' in data:\n",
    "        data = data.replace(',', '')\n",
    "        data = data.replace('-','')\n",
    "        data = data.replace('MYR','')\n",
    "        data = data.split()\n",
    "        mean = (float(data[0]) + float(data[1]))/2\n",
    "        con = mean/3.11\n",
    "        return con\n",
    "    elif 'IDR' in data:\n",
    "        data = data.replace(',', '')\n",
    "        data = data.replace('-','')\n",
    "        data = data.replace('IDR','')\n",
    "        data = data.split()\n",
    "        mean = (float(data[0]) + float(data[1]))/2\n",
    "        con = mean/3191.76\n",
    "        return con\n",
    "    elif 'PHP' in data:\n",
    "        data = data.replace(',', '')\n",
    "        data = data.replace('-','')\n",
    "        data = data.replace('PHP','')\n",
    "        data = data.split()\n",
    "        mean = (float(data[0]) + float(data[1]))/2\n",
    "        con = mean/38.08\n",
    "        return con\n",
    "    else:\n",
    "        return np.nan"
   ]
  },
  {
   "cell_type": "code",
   "execution_count": 29,
   "metadata": {
    "scrolled": true
   },
   "outputs": [
    {
     "name": "stderr",
     "output_type": "stream",
     "text": [
      "/Users/dakshi/anaconda2/lib/python2.7/site-packages/ipykernel_launcher.py:1: SettingWithCopyWarning: \n",
      "A value is trying to be set on a copy of a slice from a DataFrame.\n",
      "Try using .loc[row_indexer,col_indexer] = value instead\n",
      "\n",
      "See the caveats in the documentation: http://pandas.pydata.org/pandas-docs/stable/indexing.html#indexing-view-versus-copy\n",
      "  \"\"\"Entry point for launching an IPython kernel.\n"
     ]
    }
   ],
   "source": [
    "jobst1['salary'] = jobst1['salary'].apply(convert_currency)"
   ]
  },
  {
   "cell_type": "code",
   "execution_count": 30,
   "metadata": {
    "collapsed": true
   },
   "outputs": [],
   "source": [
    "# Convert the salary column to types--> greater than 3000 and less than 3000 to 1 and 0 respectively"
   ]
  },
  {
   "cell_type": "code",
   "execution_count": 31,
   "metadata": {
    "collapsed": true
   },
   "outputs": [],
   "source": [
    "def encode_salary(data):\n",
    "    if data == '>3000':\n",
    "        return 1\n",
    "    elif data == '<=3000':\n",
    "        return 0\n",
    "    if type(data) == float:\n",
    "        if data <= 3000:\n",
    "            return 0\n",
    "        elif data > 3000:\n",
    "            return 1 "
   ]
  },
  {
   "cell_type": "code",
   "execution_count": 32,
   "metadata": {},
   "outputs": [
    {
     "name": "stderr",
     "output_type": "stream",
     "text": [
      "/Users/dakshi/anaconda2/lib/python2.7/site-packages/ipykernel_launcher.py:1: SettingWithCopyWarning: \n",
      "A value is trying to be set on a copy of a slice from a DataFrame.\n",
      "Try using .loc[row_indexer,col_indexer] = value instead\n",
      "\n",
      "See the caveats in the documentation: http://pandas.pydata.org/pandas-docs/stable/indexing.html#indexing-view-versus-copy\n",
      "  \"\"\"Entry point for launching an IPython kernel.\n"
     ]
    }
   ],
   "source": [
    "jobst1['salary'] = jobst1['salary'].apply(encode_salary)"
   ]
  },
  {
   "cell_type": "code",
   "execution_count": 34,
   "metadata": {
    "collapsed": true
   },
   "outputs": [],
   "source": [
    "# Will do pd.get_dummies() for industries and drop non-significant ones using filtering"
   ]
  },
  {
   "cell_type": "code",
   "execution_count": 206,
   "metadata": {
    "scrolled": true
   },
   "outputs": [],
   "source": [
    "# Encoding the experience column"
   ]
  },
  {
   "cell_type": "markdown",
   "metadata": {},
   "source": [
    "--> Unique Titles\n",
    "'Junior Executive', 'Manager', 'Senior Executive', 'Senior Manager', 'Non-Executive', 'Entry Level', 'Experienced Employee', 'Supervisor', 'Less than 1 year experience', 'Staff', 'Supervisor'"
   ]
  },
  {
   "cell_type": "code",
   "execution_count": 36,
   "metadata": {
    "collapsed": true
   },
   "outputs": [],
   "source": [
    "def code_experience(data):\n",
    "    if 'Junior Executive' in data:\n",
    "        return 'Junior_Executive'\n",
    "    elif 'Manager' in data:\n",
    "        return 'Manager'\n",
    "    elif 'Senior Executive' in data:\n",
    "        return 'Senior_Executive'\n",
    "    elif 'Senior Manager' in data:\n",
    "        return 'Senior_Manager'\n",
    "    elif 'Non-Executive' in data:\n",
    "        return 'Non_Executive'\n",
    "    elif 'Entry Level' in data:\n",
    "        return 'Entry_Level'\n",
    "    elif 'Experienced Employee' in data:\n",
    "        return 'Experienced_Employee'\n",
    "    elif 'Supervisor' in data:\n",
    "        return 'Supervisor'\n",
    "    elif 'Less than 1 year experience' in data:\n",
    "        return 'Less_than_1_year'\n",
    "    elif 'Staff' in data:\n",
    "        return 'Staff'\n",
    "    elif 'Supervisor' in data:\n",
    "        return 'Supervisor'"
   ]
  },
  {
   "cell_type": "code",
   "execution_count": 37,
   "metadata": {},
   "outputs": [
    {
     "name": "stderr",
     "output_type": "stream",
     "text": [
      "/Users/dakshi/anaconda2/lib/python2.7/site-packages/ipykernel_launcher.py:1: SettingWithCopyWarning: \n",
      "A value is trying to be set on a copy of a slice from a DataFrame.\n",
      "Try using .loc[row_indexer,col_indexer] = value instead\n",
      "\n",
      "See the caveats in the documentation: http://pandas.pydata.org/pandas-docs/stable/indexing.html#indexing-view-versus-copy\n",
      "  \"\"\"Entry point for launching an IPython kernel.\n"
     ]
    }
   ],
   "source": [
    "jobst1['experience'] = jobst1['experience'].apply(code_experience)"
   ]
  },
  {
   "cell_type": "code",
   "execution_count": 38,
   "metadata": {},
   "outputs": [
    {
     "data": {
      "text/plain": [
       "array(['51 - 200 Employees', '1 - 50 Employees', '201 - 500 Employees',\n",
       "       'More than 5000 Employees', '501 - 1000 Employees',\n",
       "       '1001 - 2000 Employees', '2001 - 5000 Employees'], dtype=object)"
      ]
     },
     "execution_count": 38,
     "metadata": {},
     "output_type": "execute_result"
    }
   ],
   "source": [
    "jobst1['company_size'].unique()"
   ]
  },
  {
   "cell_type": "code",
   "execution_count": 39,
   "metadata": {
    "collapsed": true
   },
   "outputs": [],
   "source": [
    "# Rank Hot encode the company size\n",
    "def encode_company_size(data):\n",
    "    if data == '1 - 50 Employees':\n",
    "        return 0\n",
    "    elif data == '51 - 200 Employees': \n",
    "        return 1\n",
    "    elif data == '201 - 500 Employees':\n",
    "        return 2\n",
    "    elif data == '501 - 1000 Employees':\n",
    "        return 3\n",
    "    elif data == '1001 - 2000 Employees':\n",
    "        return 4\n",
    "    elif data == '2001 - 5000 Employees':\n",
    "        return 5\n",
    "    elif data == 'More than 5000 Employees':\n",
    "        return 6"
   ]
  },
  {
   "cell_type": "code",
   "execution_count": 40,
   "metadata": {},
   "outputs": [
    {
     "name": "stderr",
     "output_type": "stream",
     "text": [
      "/Users/dakshi/anaconda2/lib/python2.7/site-packages/ipykernel_launcher.py:1: SettingWithCopyWarning: \n",
      "A value is trying to be set on a copy of a slice from a DataFrame.\n",
      "Try using .loc[row_indexer,col_indexer] = value instead\n",
      "\n",
      "See the caveats in the documentation: http://pandas.pydata.org/pandas-docs/stable/indexing.html#indexing-view-versus-copy\n",
      "  \"\"\"Entry point for launching an IPython kernel.\n"
     ]
    }
   ],
   "source": [
    "jobst1['company_size'] = jobst1['company_size'].apply(encode_company_size)"
   ]
  },
  {
   "cell_type": "code",
   "execution_count": 41,
   "metadata": {},
   "outputs": [
    {
     "data": {
      "text/plain": [
       "array([1, 0, 2, 6, 3, 4, 5])"
      ]
     },
     "execution_count": 41,
     "metadata": {},
     "output_type": "execute_result"
    }
   ],
   "source": [
    "jobst1['company_size'].unique()"
   ]
  },
  {
   "cell_type": "code",
   "execution_count": 44,
   "metadata": {
    "collapsed": true
   },
   "outputs": [],
   "source": [
    "# Since there are 410 companies, converting column to dummies will not give much information\n",
    "# So drop the column\n",
    "jobst2 = jobst1.loc[:, [i for i in jobst1.columns if i != 'company']]"
   ]
  },
  {
   "cell_type": "code",
   "execution_count": 46,
   "metadata": {
    "collapsed": true
   },
   "outputs": [],
   "source": [
    "# Clean the 'job_description' column--> remove newline characters, html tags and punctuation marks\n",
    "# not completely successful\n",
    "def clean_job(data):\n",
    "    data = data.lower()\n",
    "    punc = lambda x:x not in string.punctuation\n",
    "    data = filter(punc, data)\n",
    "    data = data.replace('\\n','')\n",
    "    data = data.replace('\\\\', '+')\n",
    "    data = re.sub(r'(\\+x[\\w\\d][\\w\\d])', '', data)\n",
    "    return data"
   ]
  },
  {
   "cell_type": "code",
   "execution_count": 47,
   "metadata": {
    "collapsed": true
   },
   "outputs": [],
   "source": [
    "jobst2['job_description'] = jobst2['job_description'].apply(clean_job)"
   ]
  },
  {
   "cell_type": "code",
   "execution_count": 48,
   "metadata": {
    "collapsed": true
   },
   "outputs": [],
   "source": [
    "# Get the count of words in 'job_description' column and make new features corresponding to data keywords"
   ]
  },
  {
   "cell_type": "code",
   "execution_count": 49,
   "metadata": {
    "collapsed": true
   },
   "outputs": [],
   "source": [
    "from sklearn.feature_extraction.text import CountVectorizer\n",
    "cvec = CountVectorizer(encoding='utf-8', stop_words='english')\n",
    "cvec.fit(jobst2['job_description'])\n",
    "job_words = pd.DataFrame(cvec.transform(jobst2['job_description']).todense(), columns=cvec.get_feature_names())"
   ]
  },
  {
   "cell_type": "code",
   "execution_count": 50,
   "metadata": {
    "collapsed": true
   },
   "outputs": [],
   "source": [
    "# Data related keywords\n",
    "keywords = ['sql', 'sas', 'python', 'r', 'machine', 'mining', 'data', 'analysis', 'predict', 'ai', 'programming', \n",
    "            'tableau', 'algorithm', 'modeling', 'processing', 'visualisation', 'analytics', 'processing', 'debug',\n",
    "           'database', 'statistics', 'statistical', 'predictive', 'coding', 'sap', 'business', 'aws', 'hadoop',\n",
    "           'spark', 'wrangling', 'munging', 'hdfs', 'etl', 'api', 'spss', 'hive', 'pig', 'streaming', 'mapreduce',\n",
    "           'weka', 'matlab', 'mysql', 'ms', 'server', 'oracle', 'db2', 'nosql', 'hbase', 'hana', 'mongodb', 'couchdb',\n",
    "           'vertica', 'greenplum','pentaho', 'teradata', 'postresql']"
   ]
  },
  {
   "cell_type": "code",
   "execution_count": 51,
   "metadata": {},
   "outputs": [
    {
     "name": "stdout",
     "output_type": "stream",
     "text": [
      "56\n"
     ]
    }
   ],
   "source": [
    "count = 0\n",
    "keys = []\n",
    "for i in keywords:\n",
    "    count += 1\n",
    "    if i in job_words.columns:\n",
    "        jobst2[i] = job_words[i]\n",
    "        keys.append(i)\n",
    "print count"
   ]
  },
  {
   "cell_type": "code",
   "execution_count": 207,
   "metadata": {
    "scrolled": true
   },
   "outputs": [],
   "source": [
    "#keys"
   ]
  },
  {
   "cell_type": "code",
   "execution_count": 208,
   "metadata": {},
   "outputs": [
    {
     "data": {
      "text/html": [
       "<div>\n",
       "<style>\n",
       "    .dataframe thead tr:only-child th {\n",
       "        text-align: right;\n",
       "    }\n",
       "\n",
       "    .dataframe thead th {\n",
       "        text-align: left;\n",
       "    }\n",
       "\n",
       "    .dataframe tbody tr th {\n",
       "        vertical-align: top;\n",
       "    }\n",
       "</style>\n",
       "<table border=\"1\" class=\"dataframe\">\n",
       "  <thead>\n",
       "    <tr style=\"text-align: right;\">\n",
       "      <th></th>\n",
       "      <th>job_title</th>\n",
       "      <th>location</th>\n",
       "      <th>salary</th>\n",
       "      <th>industry</th>\n",
       "      <th>experience</th>\n",
       "      <th>company_size</th>\n",
       "      <th>skills</th>\n",
       "    </tr>\n",
       "    <tr>\n",
       "      <th>Index</th>\n",
       "      <th></th>\n",
       "      <th></th>\n",
       "      <th></th>\n",
       "      <th></th>\n",
       "      <th></th>\n",
       "      <th></th>\n",
       "      <th></th>\n",
       "    </tr>\n",
       "  </thead>\n",
       "  <tbody>\n",
       "    <tr>\n",
       "      <th>0</th>\n",
       "      <td>Data Analyst</td>\n",
       "      <td>Singapore</td>\n",
       "      <td>1</td>\n",
       "      <td>Human Resources Management/Consulting</td>\n",
       "      <td>Junior_Executive</td>\n",
       "      <td>1</td>\n",
       "      <td>17.0</td>\n",
       "    </tr>\n",
       "    <tr>\n",
       "      <th>1</th>\n",
       "      <td>Data Analyst</td>\n",
       "      <td>Singapore</td>\n",
       "      <td>0</td>\n",
       "      <td>Human Resources Management/Consulting</td>\n",
       "      <td>Junior_Executive</td>\n",
       "      <td>0</td>\n",
       "      <td>6.0</td>\n",
       "    </tr>\n",
       "  </tbody>\n",
       "</table>\n",
       "</div>"
      ],
      "text/plain": [
       "          job_title   location  salary                               industry  \\\n",
       "Index                                                                           \n",
       "0      Data Analyst  Singapore       1  Human Resources Management/Consulting   \n",
       "1      Data Analyst  Singapore       0  Human Resources Management/Consulting   \n",
       "\n",
       "             experience  company_size  skills  \n",
       "Index                                          \n",
       "0      Junior_Executive             1    17.0  \n",
       "1      Junior_Executive             0     6.0  "
      ]
     },
     "execution_count": 208,
     "metadata": {},
     "output_type": "execute_result"
    }
   ],
   "source": [
    "jobst2.head(2)"
   ]
  },
  {
   "cell_type": "code",
   "execution_count": 54,
   "metadata": {
    "collapsed": true
   },
   "outputs": [],
   "source": [
    "# Condense all of these keywords into one representative column\n",
    "summ = jobst2.loc[:,keys].sum(axis=1)"
   ]
  },
  {
   "cell_type": "code",
   "execution_count": 57,
   "metadata": {
    "collapsed": true
   },
   "outputs": [],
   "source": [
    "# Drop the rerepresented columns\n",
    "jobst2.drop(keys, axis=1, inplace=True)\n",
    "jobst2.drop('job_description', axis=1, inplace=True)"
   ]
  },
  {
   "cell_type": "code",
   "execution_count": 59,
   "metadata": {
    "collapsed": true
   },
   "outputs": [],
   "source": [
    "jobst2['skills'] = summ"
   ]
  },
  {
   "cell_type": "code",
   "execution_count": 209,
   "metadata": {},
   "outputs": [
    {
     "data": {
      "text/html": [
       "<div>\n",
       "<style>\n",
       "    .dataframe thead tr:only-child th {\n",
       "        text-align: right;\n",
       "    }\n",
       "\n",
       "    .dataframe thead th {\n",
       "        text-align: left;\n",
       "    }\n",
       "\n",
       "    .dataframe tbody tr th {\n",
       "        vertical-align: top;\n",
       "    }\n",
       "</style>\n",
       "<table border=\"1\" class=\"dataframe\">\n",
       "  <thead>\n",
       "    <tr style=\"text-align: right;\">\n",
       "      <th></th>\n",
       "      <th>job_title</th>\n",
       "      <th>location</th>\n",
       "      <th>salary</th>\n",
       "      <th>industry</th>\n",
       "      <th>experience</th>\n",
       "      <th>company_size</th>\n",
       "      <th>skills</th>\n",
       "    </tr>\n",
       "    <tr>\n",
       "      <th>Index</th>\n",
       "      <th></th>\n",
       "      <th></th>\n",
       "      <th></th>\n",
       "      <th></th>\n",
       "      <th></th>\n",
       "      <th></th>\n",
       "      <th></th>\n",
       "    </tr>\n",
       "  </thead>\n",
       "  <tbody>\n",
       "    <tr>\n",
       "      <th>0</th>\n",
       "      <td>Data Analyst</td>\n",
       "      <td>Singapore</td>\n",
       "      <td>1</td>\n",
       "      <td>Human Resources Management/Consulting</td>\n",
       "      <td>Junior_Executive</td>\n",
       "      <td>1</td>\n",
       "      <td>17.0</td>\n",
       "    </tr>\n",
       "    <tr>\n",
       "      <th>1</th>\n",
       "      <td>Data Analyst</td>\n",
       "      <td>Singapore</td>\n",
       "      <td>0</td>\n",
       "      <td>Human Resources Management/Consulting</td>\n",
       "      <td>Junior_Executive</td>\n",
       "      <td>0</td>\n",
       "      <td>6.0</td>\n",
       "    </tr>\n",
       "    <tr>\n",
       "      <th>3</th>\n",
       "      <td>Data Analyst</td>\n",
       "      <td>Singapore</td>\n",
       "      <td>0</td>\n",
       "      <td>Human Resources Management/Consulting</td>\n",
       "      <td>Junior_Executive</td>\n",
       "      <td>2</td>\n",
       "      <td>2.0</td>\n",
       "    </tr>\n",
       "    <tr>\n",
       "      <th>4</th>\n",
       "      <td>Data Analyst</td>\n",
       "      <td>Singapore</td>\n",
       "      <td>0</td>\n",
       "      <td>Human Resources Management/Consulting</td>\n",
       "      <td>Junior_Executive</td>\n",
       "      <td>1</td>\n",
       "      <td>13.0</td>\n",
       "    </tr>\n",
       "    <tr>\n",
       "      <th>5</th>\n",
       "      <td>Data Analyst</td>\n",
       "      <td>Singapore</td>\n",
       "      <td>1</td>\n",
       "      <td>Consulting (Business &amp; Management)</td>\n",
       "      <td>Junior_Executive</td>\n",
       "      <td>0</td>\n",
       "      <td>26.0</td>\n",
       "    </tr>\n",
       "  </tbody>\n",
       "</table>\n",
       "</div>"
      ],
      "text/plain": [
       "          job_title   location  salary                               industry  \\\n",
       "Index                                                                           \n",
       "0      Data Analyst  Singapore       1  Human Resources Management/Consulting   \n",
       "1      Data Analyst  Singapore       0  Human Resources Management/Consulting   \n",
       "3      Data Analyst  Singapore       0  Human Resources Management/Consulting   \n",
       "4      Data Analyst  Singapore       0  Human Resources Management/Consulting   \n",
       "5      Data Analyst  Singapore       1     Consulting (Business & Management)   \n",
       "\n",
       "             experience  company_size  skills  \n",
       "Index                                          \n",
       "0      Junior_Executive             1    17.0  \n",
       "1      Junior_Executive             0     6.0  \n",
       "3      Junior_Executive             2     2.0  \n",
       "4      Junior_Executive             1    13.0  \n",
       "5      Junior_Executive             0    26.0  "
      ]
     },
     "execution_count": 209,
     "metadata": {},
     "output_type": "execute_result"
    }
   ],
   "source": [
    "jobst2.head()"
   ]
  },
  {
   "cell_type": "code",
   "execution_count": 61,
   "metadata": {
    "collapsed": true
   },
   "outputs": [],
   "source": [
    "# Cleaned dataframe to use for downstream processes in Qn1 and Qn2\n",
    "jobst3 = jobst2.copy()"
   ]
  },
  {
   "cell_type": "markdown",
   "metadata": {},
   "source": [
    "# Qn1"
   ]
  },
  {
   "cell_type": "code",
   "execution_count": 62,
   "metadata": {
    "collapsed": true
   },
   "outputs": [],
   "source": [
    "# Factors that impact salary"
   ]
  },
  {
   "cell_type": "code",
   "execution_count": 64,
   "metadata": {
    "collapsed": true
   },
   "outputs": [],
   "source": [
    "# Filtering variables"
   ]
  },
  {
   "cell_type": "code",
   "execution_count": 65,
   "metadata": {
    "collapsed": true
   },
   "outputs": [],
   "source": [
    "target = 'salary'\n",
    "predictors = [i for i in jobst3.columns if i != target]"
   ]
  },
  {
   "cell_type": "code",
   "execution_count": 66,
   "metadata": {},
   "outputs": [
    {
     "data": {
      "text/plain": [
       "['job_title', 'location', 'industry', 'experience', 'company_size', 'skills']"
      ]
     },
     "execution_count": 66,
     "metadata": {},
     "output_type": "execute_result"
    }
   ],
   "source": [
    "predictors"
   ]
  },
  {
   "cell_type": "code",
   "execution_count": 67,
   "metadata": {
    "collapsed": true
   },
   "outputs": [],
   "source": [
    "#numerical predictors\n",
    "num_predictors = ['skills']\n",
    "cat_predictors = [i for i in predictors if i != 'skills']"
   ]
  },
  {
   "cell_type": "code",
   "execution_count": 68,
   "metadata": {},
   "outputs": [
    {
     "name": "stdout",
     "output_type": "stream",
     "text": [
      "['skills']\n"
     ]
    }
   ],
   "source": [
    "#Filtering numerical variables\n",
    "from sklearn.feature_selection import f_classif, chi2\n",
    "\n",
    "num_sig = []\n",
    "f,p = f_classif(jobst3[['skills']], jobst3[target])\n",
    "if p <= 0.05:\n",
    "    num_sig.append(i)\n",
    "print num_sig"
   ]
  },
  {
   "cell_type": "code",
   "execution_count": 69,
   "metadata": {
    "collapsed": true
   },
   "outputs": [],
   "source": [
    "# The numerical feature 'skills' is significantly related to the target variable salary"
   ]
  },
  {
   "cell_type": "code",
   "execution_count": 70,
   "metadata": {},
   "outputs": [
    {
     "data": {
      "text/plain": [
       "['job_title', 'location', 'industry', 'experience', 'company_size']"
      ]
     },
     "execution_count": 70,
     "metadata": {},
     "output_type": "execute_result"
    }
   ],
   "source": [
    "cat_predictors"
   ]
  },
  {
   "cell_type": "code",
   "execution_count": 71,
   "metadata": {
    "collapsed": true
   },
   "outputs": [],
   "source": [
    "# Get dataframe of categorical variables\n",
    "jobst3_cat = jobst3.loc[:,cat_predictors]"
   ]
  },
  {
   "cell_type": "code",
   "execution_count": 72,
   "metadata": {},
   "outputs": [
    {
     "data": {
      "text/html": [
       "<div>\n",
       "<style>\n",
       "    .dataframe thead tr:only-child th {\n",
       "        text-align: right;\n",
       "    }\n",
       "\n",
       "    .dataframe thead th {\n",
       "        text-align: left;\n",
       "    }\n",
       "\n",
       "    .dataframe tbody tr th {\n",
       "        vertical-align: top;\n",
       "    }\n",
       "</style>\n",
       "<table border=\"1\" class=\"dataframe\">\n",
       "  <thead>\n",
       "    <tr style=\"text-align: right;\">\n",
       "      <th></th>\n",
       "      <th>job_title</th>\n",
       "      <th>location</th>\n",
       "      <th>industry</th>\n",
       "      <th>experience</th>\n",
       "      <th>company_size</th>\n",
       "    </tr>\n",
       "    <tr>\n",
       "      <th>Index</th>\n",
       "      <th></th>\n",
       "      <th></th>\n",
       "      <th></th>\n",
       "      <th></th>\n",
       "      <th></th>\n",
       "    </tr>\n",
       "  </thead>\n",
       "  <tbody>\n",
       "    <tr>\n",
       "      <th>0</th>\n",
       "      <td>Data Analyst</td>\n",
       "      <td>Singapore</td>\n",
       "      <td>Human Resources Management/Consulting</td>\n",
       "      <td>Junior_Executive</td>\n",
       "      <td>1</td>\n",
       "    </tr>\n",
       "    <tr>\n",
       "      <th>1</th>\n",
       "      <td>Data Analyst</td>\n",
       "      <td>Singapore</td>\n",
       "      <td>Human Resources Management/Consulting</td>\n",
       "      <td>Junior_Executive</td>\n",
       "      <td>0</td>\n",
       "    </tr>\n",
       "  </tbody>\n",
       "</table>\n",
       "</div>"
      ],
      "text/plain": [
       "          job_title   location                               industry  \\\n",
       "Index                                                                   \n",
       "0      Data Analyst  Singapore  Human Resources Management/Consulting   \n",
       "1      Data Analyst  Singapore  Human Resources Management/Consulting   \n",
       "\n",
       "             experience  company_size  \n",
       "Index                                  \n",
       "0      Junior_Executive             1  \n",
       "1      Junior_Executive             0  "
      ]
     },
     "execution_count": 72,
     "metadata": {},
     "output_type": "execute_result"
    }
   ],
   "source": [
    "jobst3_cat.head(2)"
   ]
  },
  {
   "cell_type": "code",
   "execution_count": 74,
   "metadata": {
    "collapsed": true
   },
   "outputs": [],
   "source": [
    "# Filtering the categorical variables\n",
    "jobst3_cat = pd.get_dummies(jobst3_cat, drop_first=True)"
   ]
  },
  {
   "cell_type": "code",
   "execution_count": 75,
   "metadata": {
    "collapsed": true
   },
   "outputs": [],
   "source": [
    "#Convert the columns to type 'int64'\n",
    "for i in jobst3_cat.columns:\n",
    "    jobst3_cat[i] = jobst3_cat[i].astype('int64')"
   ]
  },
  {
   "cell_type": "code",
   "execution_count": 80,
   "metadata": {},
   "outputs": [
    {
     "name": "stdout",
     "output_type": "stream",
     "text": [
      "['company_size', 'job_title_Data Analyst', 'job_title_Data Scientist', 'location_Malaysia', 'location_Philippines', 'location_Singapore', 'industry_Call Center/IT-Enabled Services/BPO', 'industry_Computer/Information Technology (Software)', 'industry_Construction/Building/Engineering', 'industry_Human Resources Management/Consulting', 'industry_R&D', 'industry_Retail/Merchandise', 'industry_Telecommunication', 'experience_Experienced_Employee', 'experience_Junior_Executive', 'experience_Less_than_1_year', 'experience_Manager', 'experience_Non_Executive', 'experience_Senior_Executive', 'experience_Staff', 'experience_Supervisor']\n"
     ]
    }
   ],
   "source": [
    "cat_sig = []\n",
    "for i in jobst3_cat.columns:\n",
    "    y = np.array(jobst3[target])\n",
    "    ch, p = chi2(jobst3_cat[[i]],y)\n",
    "    if p<=0.05:\n",
    "        cat_sig.append(i)\n",
    "print cat_sig        \n",
    "        "
   ]
  },
  {
   "cell_type": "code",
   "execution_count": 86,
   "metadata": {
    "collapsed": true
   },
   "outputs": [],
   "source": [
    "#Building the filtered dataframe containing the significant variables"
   ]
  },
  {
   "cell_type": "code",
   "execution_count": 99,
   "metadata": {},
   "outputs": [],
   "source": [
    "cat_sig_df = jobst3_cat.loc[:, cat_sig]\n",
    "num_sig_df = jobst3.loc[:, num_sig]\n",
    "jobst_sig = cat_sig_df.merge(num_sig_df, left_index=True, right_index=True, how='outer')\n",
    "jobst_sig['salary'] = jobst3['salary']"
   ]
  },
  {
   "cell_type": "code",
   "execution_count": 100,
   "metadata": {},
   "outputs": [
    {
     "data": {
      "text/html": [
       "<div>\n",
       "<style>\n",
       "    .dataframe thead tr:only-child th {\n",
       "        text-align: right;\n",
       "    }\n",
       "\n",
       "    .dataframe thead th {\n",
       "        text-align: left;\n",
       "    }\n",
       "\n",
       "    .dataframe tbody tr th {\n",
       "        vertical-align: top;\n",
       "    }\n",
       "</style>\n",
       "<table border=\"1\" class=\"dataframe\">\n",
       "  <thead>\n",
       "    <tr style=\"text-align: right;\">\n",
       "      <th></th>\n",
       "      <th>company_size</th>\n",
       "      <th>job_title_Data Analyst</th>\n",
       "      <th>job_title_Data Scientist</th>\n",
       "      <th>location_Malaysia</th>\n",
       "      <th>location_Philippines</th>\n",
       "      <th>location_Singapore</th>\n",
       "      <th>industry_Call Center/IT-Enabled Services/BPO</th>\n",
       "      <th>industry_Computer/Information Technology (Software)</th>\n",
       "      <th>industry_Construction/Building/Engineering</th>\n",
       "      <th>industry_Human Resources Management/Consulting</th>\n",
       "      <th>...</th>\n",
       "      <th>experience_Experienced_Employee</th>\n",
       "      <th>experience_Junior_Executive</th>\n",
       "      <th>experience_Less_than_1_year</th>\n",
       "      <th>experience_Manager</th>\n",
       "      <th>experience_Non_Executive</th>\n",
       "      <th>experience_Senior_Executive</th>\n",
       "      <th>experience_Staff</th>\n",
       "      <th>experience_Supervisor</th>\n",
       "      <th>skills</th>\n",
       "      <th>salary</th>\n",
       "    </tr>\n",
       "    <tr>\n",
       "      <th>Index</th>\n",
       "      <th></th>\n",
       "      <th></th>\n",
       "      <th></th>\n",
       "      <th></th>\n",
       "      <th></th>\n",
       "      <th></th>\n",
       "      <th></th>\n",
       "      <th></th>\n",
       "      <th></th>\n",
       "      <th></th>\n",
       "      <th></th>\n",
       "      <th></th>\n",
       "      <th></th>\n",
       "      <th></th>\n",
       "      <th></th>\n",
       "      <th></th>\n",
       "      <th></th>\n",
       "      <th></th>\n",
       "      <th></th>\n",
       "      <th></th>\n",
       "      <th></th>\n",
       "    </tr>\n",
       "  </thead>\n",
       "  <tbody>\n",
       "    <tr>\n",
       "      <th>0</th>\n",
       "      <td>1</td>\n",
       "      <td>1</td>\n",
       "      <td>0</td>\n",
       "      <td>0</td>\n",
       "      <td>0</td>\n",
       "      <td>1</td>\n",
       "      <td>0</td>\n",
       "      <td>0</td>\n",
       "      <td>0</td>\n",
       "      <td>1</td>\n",
       "      <td>...</td>\n",
       "      <td>0</td>\n",
       "      <td>1</td>\n",
       "      <td>0</td>\n",
       "      <td>0</td>\n",
       "      <td>0</td>\n",
       "      <td>0</td>\n",
       "      <td>0</td>\n",
       "      <td>0</td>\n",
       "      <td>17.0</td>\n",
       "      <td>1</td>\n",
       "    </tr>\n",
       "    <tr>\n",
       "      <th>1</th>\n",
       "      <td>0</td>\n",
       "      <td>1</td>\n",
       "      <td>0</td>\n",
       "      <td>0</td>\n",
       "      <td>0</td>\n",
       "      <td>1</td>\n",
       "      <td>0</td>\n",
       "      <td>0</td>\n",
       "      <td>0</td>\n",
       "      <td>1</td>\n",
       "      <td>...</td>\n",
       "      <td>0</td>\n",
       "      <td>1</td>\n",
       "      <td>0</td>\n",
       "      <td>0</td>\n",
       "      <td>0</td>\n",
       "      <td>0</td>\n",
       "      <td>0</td>\n",
       "      <td>0</td>\n",
       "      <td>6.0</td>\n",
       "      <td>0</td>\n",
       "    </tr>\n",
       "  </tbody>\n",
       "</table>\n",
       "<p>2 rows × 23 columns</p>\n",
       "</div>"
      ],
      "text/plain": [
       "       company_size  job_title_Data Analyst  job_title_Data Scientist  \\\n",
       "Index                                                                   \n",
       "0                 1                       1                         0   \n",
       "1                 0                       1                         0   \n",
       "\n",
       "       location_Malaysia  location_Philippines  location_Singapore  \\\n",
       "Index                                                                \n",
       "0                      0                     0                   1   \n",
       "1                      0                     0                   1   \n",
       "\n",
       "       industry_Call Center/IT-Enabled Services/BPO  \\\n",
       "Index                                                 \n",
       "0                                                 0   \n",
       "1                                                 0   \n",
       "\n",
       "       industry_Computer/Information Technology (Software)  \\\n",
       "Index                                                        \n",
       "0                                                      0     \n",
       "1                                                      0     \n",
       "\n",
       "       industry_Construction/Building/Engineering  \\\n",
       "Index                                               \n",
       "0                                               0   \n",
       "1                                               0   \n",
       "\n",
       "       industry_Human Resources Management/Consulting   ...    \\\n",
       "Index                                                   ...     \n",
       "0                                                   1   ...     \n",
       "1                                                   1   ...     \n",
       "\n",
       "       experience_Experienced_Employee  experience_Junior_Executive  \\\n",
       "Index                                                                 \n",
       "0                                    0                            1   \n",
       "1                                    0                            1   \n",
       "\n",
       "       experience_Less_than_1_year  experience_Manager  \\\n",
       "Index                                                    \n",
       "0                                0                   0   \n",
       "1                                0                   0   \n",
       "\n",
       "       experience_Non_Executive  experience_Senior_Executive  \\\n",
       "Index                                                          \n",
       "0                             0                            0   \n",
       "1                             0                            0   \n",
       "\n",
       "       experience_Staff  experience_Supervisor  skills  salary  \n",
       "Index                                                           \n",
       "0                     0                      0    17.0       1  \n",
       "1                     0                      0     6.0       0  \n",
       "\n",
       "[2 rows x 23 columns]"
      ]
     },
     "execution_count": 100,
     "metadata": {},
     "output_type": "execute_result"
    }
   ],
   "source": [
    "jobst_sig.head(2)"
   ]
  },
  {
   "cell_type": "markdown",
   "metadata": {},
   "source": [
    "### Train-test split plus SMOTEENN"
   ]
  },
  {
   "cell_type": "code",
   "execution_count": 102,
   "metadata": {},
   "outputs": [
    {
     "data": {
      "text/plain": [
       "0    467\n",
       "1    218\n",
       "Name: salary, dtype: int64"
      ]
     },
     "execution_count": 102,
     "metadata": {},
     "output_type": "execute_result"
    }
   ],
   "source": [
    "# Looking at the distribution of target variable\n",
    "dist = jobst_sig['salary'].value_counts()\n",
    "dist"
   ]
  },
  {
   "cell_type": "code",
   "execution_count": 104,
   "metadata": {},
   "outputs": [
    {
     "name": "stdout",
     "output_type": "stream",
     "text": [
      "class 0 ratio 0.681751824818\n",
      "class 1 ratio 0.318248175182\n",
      "Baseline accuracy 0.681751824818\n"
     ]
    }
   ],
   "source": [
    "# Baseline accuracy\n",
    "ratio_0 = float(dist[0])/(dist[0] + dist[1])\n",
    "ratio_1 = float(dist[1])/(dist[0] + dist[1])\n",
    "print 'class 0 ratio', ratio_0\n",
    "print 'class 1 ratio', ratio_1\n",
    "print 'Baseline accuracy', ratio_0"
   ]
  },
  {
   "cell_type": "code",
   "execution_count": 107,
   "metadata": {},
   "outputs": [],
   "source": [
    "# Since unequal class distribution, need oversample minority class\n",
    "# Do oversampling after train-test-split\n",
    "from sklearn.model_selection import train_test_split\n",
    "\n",
    "X = jobst_sig.loc[:, [i for i in jobst_sig.columns if i != 'salary']]\n",
    "y = jobst_sig.loc[:,'salary']\n",
    "X_train, X_test, y_train, y_test = train_test_split(X, y, train_size=0.7, test_size=0.3, stratify=y, random_state=12)"
   ]
  },
  {
   "cell_type": "code",
   "execution_count": 128,
   "metadata": {},
   "outputs": [
    {
     "name": "stdout",
     "output_type": "stream",
     "text": [
      "327\n",
      "152\n"
     ]
    }
   ],
   "source": [
    "#count of each class in y_train\n",
    "num_zeros = (y_train == 0).sum()\n",
    "num_ones = (y_train == 1).sum()\n",
    "print num_zeros\n",
    "print num_ones"
   ]
  },
  {
   "cell_type": "code",
   "execution_count": 129,
   "metadata": {},
   "outputs": [],
   "source": [
    "from imblearn.over_sampling import SMOTE \n",
    "sm = SMOTE(ratio={0:327,1:327}, random_state=12, n_jobs=-1)\n",
    "X_sm, y_sm = sm.fit_sample(X_train, y_train)"
   ]
  },
  {
   "cell_type": "code",
   "execution_count": 130,
   "metadata": {},
   "outputs": [
    {
     "name": "stdout",
     "output_type": "stream",
     "text": [
      "327\n",
      "327\n"
     ]
    }
   ],
   "source": [
    "#count of each class\n",
    "num_zeros = (y_sm == 0).sum()\n",
    "num_ones = (y_sm == 1).sum()\n",
    "print num_zeros\n",
    "print num_ones"
   ]
  },
  {
   "cell_type": "markdown",
   "metadata": {},
   "source": [
    "### Modeling"
   ]
  },
  {
   "cell_type": "code",
   "execution_count": 131,
   "metadata": {},
   "outputs": [
    {
     "name": "stdout",
     "output_type": "stream",
     "text": [
      "score: 0.915902140673\n",
      "score: 0.898058252427\n"
     ]
    }
   ],
   "source": [
    "# Fit first model with LogisticRegressionCV, second model with RandomForestClassifier\n",
    "from sklearn.linear_model import LogisticRegressionCV\n",
    "from sklearn.ensemble import RandomForestClassifier\n",
    "\n",
    "log = LogisticRegressionCV(penalty='l1', solver='liblinear', cv=3, n_jobs=-1)\n",
    "log.fit(X_sm, y_sm)\n",
    "y_pred = log.predict(X_test)\n",
    "print 'score:', log.score(X_sm, y_sm)\n",
    "print 'score:', log.score(X_test, y_test)"
   ]
  },
  {
   "cell_type": "code",
   "execution_count": 154,
   "metadata": {},
   "outputs": [
    {
     "data": {
      "text/html": [
       "<div>\n",
       "<style>\n",
       "    .dataframe thead tr:only-child th {\n",
       "        text-align: right;\n",
       "    }\n",
       "\n",
       "    .dataframe thead th {\n",
       "        text-align: left;\n",
       "    }\n",
       "\n",
       "    .dataframe tbody tr th {\n",
       "        vertical-align: top;\n",
       "    }\n",
       "</style>\n",
       "<table border=\"1\" class=\"dataframe\">\n",
       "  <thead>\n",
       "    <tr style=\"text-align: right;\">\n",
       "      <th></th>\n",
       "      <th>abs_coef</th>\n",
       "      <th>coef</th>\n",
       "      <th>variable</th>\n",
       "    </tr>\n",
       "  </thead>\n",
       "  <tbody>\n",
       "    <tr>\n",
       "      <th>16</th>\n",
       "      <td>5.791329</td>\n",
       "      <td>5.791329</td>\n",
       "      <td>experience_Manager</td>\n",
       "    </tr>\n",
       "    <tr>\n",
       "      <th>5</th>\n",
       "      <td>4.250050</td>\n",
       "      <td>4.250050</td>\n",
       "      <td>location_Singapore</td>\n",
       "    </tr>\n",
       "    <tr>\n",
       "      <th>18</th>\n",
       "      <td>3.581366</td>\n",
       "      <td>3.581366</td>\n",
       "      <td>experience_Senior_Executive</td>\n",
       "    </tr>\n",
       "    <tr>\n",
       "      <th>4</th>\n",
       "      <td>3.573193</td>\n",
       "      <td>-3.573193</td>\n",
       "      <td>location_Philippines</td>\n",
       "    </tr>\n",
       "    <tr>\n",
       "      <th>19</th>\n",
       "      <td>3.564118</td>\n",
       "      <td>3.564118</td>\n",
       "      <td>experience_Staff</td>\n",
       "    </tr>\n",
       "    <tr>\n",
       "      <th>14</th>\n",
       "      <td>1.852686</td>\n",
       "      <td>1.852686</td>\n",
       "      <td>experience_Junior_Executive</td>\n",
       "    </tr>\n",
       "    <tr>\n",
       "      <th>17</th>\n",
       "      <td>1.834505</td>\n",
       "      <td>1.834505</td>\n",
       "      <td>experience_Non_Executive</td>\n",
       "    </tr>\n",
       "    <tr>\n",
       "      <th>2</th>\n",
       "      <td>1.543949</td>\n",
       "      <td>1.543949</td>\n",
       "      <td>job_title_Data Scientist</td>\n",
       "    </tr>\n",
       "    <tr>\n",
       "      <th>11</th>\n",
       "      <td>1.221414</td>\n",
       "      <td>-1.221414</td>\n",
       "      <td>industry_Retail/Merchandise</td>\n",
       "    </tr>\n",
       "    <tr>\n",
       "      <th>10</th>\n",
       "      <td>0.911501</td>\n",
       "      <td>0.911501</td>\n",
       "      <td>industry_R&amp;D</td>\n",
       "    </tr>\n",
       "    <tr>\n",
       "      <th>9</th>\n",
       "      <td>0.500523</td>\n",
       "      <td>0.500523</td>\n",
       "      <td>industry_Human Resources Management/Consulting</td>\n",
       "    </tr>\n",
       "    <tr>\n",
       "      <th>1</th>\n",
       "      <td>0.338050</td>\n",
       "      <td>-0.338050</td>\n",
       "      <td>job_title_Data Analyst</td>\n",
       "    </tr>\n",
       "    <tr>\n",
       "      <th>12</th>\n",
       "      <td>0.325508</td>\n",
       "      <td>-0.325508</td>\n",
       "      <td>industry_Telecommunication</td>\n",
       "    </tr>\n",
       "    <tr>\n",
       "      <th>6</th>\n",
       "      <td>0.140633</td>\n",
       "      <td>-0.140633</td>\n",
       "      <td>industry_Call Center/IT-Enabled Services/BPO</td>\n",
       "    </tr>\n",
       "    <tr>\n",
       "      <th>0</th>\n",
       "      <td>0.049081</td>\n",
       "      <td>-0.049081</td>\n",
       "      <td>company_size</td>\n",
       "    </tr>\n",
       "    <tr>\n",
       "      <th>21</th>\n",
       "      <td>0.022819</td>\n",
       "      <td>-0.022819</td>\n",
       "      <td>skills</td>\n",
       "    </tr>\n",
       "    <tr>\n",
       "      <th>15</th>\n",
       "      <td>0.000000</td>\n",
       "      <td>0.000000</td>\n",
       "      <td>experience_Less_than_1_year</td>\n",
       "    </tr>\n",
       "    <tr>\n",
       "      <th>13</th>\n",
       "      <td>0.000000</td>\n",
       "      <td>0.000000</td>\n",
       "      <td>experience_Experienced_Employee</td>\n",
       "    </tr>\n",
       "    <tr>\n",
       "      <th>8</th>\n",
       "      <td>0.000000</td>\n",
       "      <td>0.000000</td>\n",
       "      <td>industry_Construction/Building/Engineering</td>\n",
       "    </tr>\n",
       "    <tr>\n",
       "      <th>7</th>\n",
       "      <td>0.000000</td>\n",
       "      <td>0.000000</td>\n",
       "      <td>industry_Computer/Information Technology (Soft...</td>\n",
       "    </tr>\n",
       "    <tr>\n",
       "      <th>3</th>\n",
       "      <td>0.000000</td>\n",
       "      <td>0.000000</td>\n",
       "      <td>location_Malaysia</td>\n",
       "    </tr>\n",
       "    <tr>\n",
       "      <th>20</th>\n",
       "      <td>0.000000</td>\n",
       "      <td>0.000000</td>\n",
       "      <td>experience_Supervisor</td>\n",
       "    </tr>\n",
       "  </tbody>\n",
       "</table>\n",
       "</div>"
      ],
      "text/plain": [
       "    abs_coef      coef                                           variable\n",
       "16  5.791329  5.791329                                 experience_Manager\n",
       "5   4.250050  4.250050                                 location_Singapore\n",
       "18  3.581366  3.581366                        experience_Senior_Executive\n",
       "4   3.573193 -3.573193                               location_Philippines\n",
       "19  3.564118  3.564118                                   experience_Staff\n",
       "14  1.852686  1.852686                        experience_Junior_Executive\n",
       "17  1.834505  1.834505                           experience_Non_Executive\n",
       "2   1.543949  1.543949                           job_title_Data Scientist\n",
       "11  1.221414 -1.221414                        industry_Retail/Merchandise\n",
       "10  0.911501  0.911501                                       industry_R&D\n",
       "9   0.500523  0.500523     industry_Human Resources Management/Consulting\n",
       "1   0.338050 -0.338050                             job_title_Data Analyst\n",
       "12  0.325508 -0.325508                         industry_Telecommunication\n",
       "6   0.140633 -0.140633       industry_Call Center/IT-Enabled Services/BPO\n",
       "0   0.049081 -0.049081                                       company_size\n",
       "21  0.022819 -0.022819                                             skills\n",
       "15  0.000000  0.000000                        experience_Less_than_1_year\n",
       "13  0.000000  0.000000                    experience_Experienced_Employee\n",
       "8   0.000000  0.000000         industry_Construction/Building/Engineering\n",
       "7   0.000000  0.000000  industry_Computer/Information Technology (Soft...\n",
       "3   0.000000  0.000000                                  location_Malaysia\n",
       "20  0.000000  0.000000                              experience_Supervisor"
      ]
     },
     "execution_count": 154,
     "metadata": {},
     "output_type": "execute_result"
    }
   ],
   "source": [
    "log_coefs = pd.DataFrame({'variable':X_train.columns, 'coef':log.coef_[0],'abs_coef':np.abs(log.coef_[0])})\n",
    "\n",
    "log_coefs.sort_values('abs_coef', inplace=True, ascending=False)\n",
    "\n",
    "log_coefs"
   ]
  },
  {
   "cell_type": "code",
   "execution_count": 155,
   "metadata": {
    "collapsed": true
   },
   "outputs": [],
   "source": [
    "salary_factors = []\n",
    "for i,j in zip(log_coefs['abs_coef'],log_coefs['variable']):\n",
    "    if i>0:\n",
    "        salary_factors.append(j)"
   ]
  },
  {
   "cell_type": "code",
   "execution_count": 156,
   "metadata": {},
   "outputs": [
    {
     "data": {
      "text/plain": [
       "['experience_Manager',\n",
       " 'location_Singapore',\n",
       " 'experience_Senior_Executive',\n",
       " 'location_Philippines',\n",
       " 'experience_Staff',\n",
       " 'experience_Junior_Executive',\n",
       " 'experience_Non_Executive',\n",
       " 'job_title_Data Scientist',\n",
       " 'industry_Retail/Merchandise',\n",
       " 'industry_R&D',\n",
       " 'industry_Human Resources Management/Consulting',\n",
       " 'job_title_Data Analyst',\n",
       " 'industry_Telecommunication',\n",
       " 'industry_Call Center/IT-Enabled Services/BPO',\n",
       " 'company_size',\n",
       " 'skills']"
      ]
     },
     "execution_count": 156,
     "metadata": {},
     "output_type": "execute_result"
    }
   ],
   "source": [
    "# List of factors that impact salary in order of decreasing impact\n",
    "salary_factors"
   ]
  },
  {
   "cell_type": "code",
   "execution_count": 132,
   "metadata": {},
   "outputs": [
    {
     "name": "stdout",
     "output_type": "stream",
     "text": [
      "             precision    recall  f1-score   support\n",
      "\n",
      "          0       0.96      0.89      0.92       140\n",
      "          1       0.79      0.92      0.85        66\n",
      "\n",
      "avg / total       0.91      0.90      0.90       206\n",
      "\n"
     ]
    }
   ],
   "source": [
    "from sklearn.metrics import classification_report\n",
    "print classification_report(y_test, y_pred)"
   ]
  },
  {
   "cell_type": "code",
   "execution_count": 157,
   "metadata": {},
   "outputs": [
    {
     "name": "stdout",
     "output_type": "stream",
     "text": [
      "score: 0.915902140673\n",
      "score: 0.898058252427\n"
     ]
    }
   ],
   "source": [
    "# RandomForestClassifier\n",
    "forest = RandomForestClassifier(n_estimators=100, random_state=12)\n",
    "forest.fit(X_sm, y_sm)\n",
    "y_pred = log.predict(X_test)\n",
    "print 'score:', log.score(X_sm, y_sm)\n",
    "print 'score:', log.score(X_test, y_test)"
   ]
  },
  {
   "cell_type": "code",
   "execution_count": 164,
   "metadata": {
    "scrolled": true
   },
   "outputs": [
    {
     "data": {
      "text/html": [
       "<div>\n",
       "<style>\n",
       "    .dataframe thead tr:only-child th {\n",
       "        text-align: right;\n",
       "    }\n",
       "\n",
       "    .dataframe thead th {\n",
       "        text-align: left;\n",
       "    }\n",
       "\n",
       "    .dataframe tbody tr th {\n",
       "        vertical-align: top;\n",
       "    }\n",
       "</style>\n",
       "<table border=\"1\" class=\"dataframe\">\n",
       "  <thead>\n",
       "    <tr style=\"text-align: right;\">\n",
       "      <th></th>\n",
       "      <th>coef</th>\n",
       "      <th>variable</th>\n",
       "    </tr>\n",
       "  </thead>\n",
       "  <tbody>\n",
       "    <tr>\n",
       "      <th>5</th>\n",
       "      <td>0.228616</td>\n",
       "      <td>location_Singapore</td>\n",
       "    </tr>\n",
       "    <tr>\n",
       "      <th>21</th>\n",
       "      <td>0.197585</td>\n",
       "      <td>skills</td>\n",
       "    </tr>\n",
       "    <tr>\n",
       "      <th>18</th>\n",
       "      <td>0.097746</td>\n",
       "      <td>experience_Senior_Executive</td>\n",
       "    </tr>\n",
       "    <tr>\n",
       "      <th>0</th>\n",
       "      <td>0.094635</td>\n",
       "      <td>company_size</td>\n",
       "    </tr>\n",
       "    <tr>\n",
       "      <th>4</th>\n",
       "      <td>0.089845</td>\n",
       "      <td>location_Philippines</td>\n",
       "    </tr>\n",
       "    <tr>\n",
       "      <th>9</th>\n",
       "      <td>0.079776</td>\n",
       "      <td>industry_Human Resources Management/Consulting</td>\n",
       "    </tr>\n",
       "    <tr>\n",
       "      <th>13</th>\n",
       "      <td>0.048663</td>\n",
       "      <td>experience_Experienced_Employee</td>\n",
       "    </tr>\n",
       "    <tr>\n",
       "      <th>16</th>\n",
       "      <td>0.034800</td>\n",
       "      <td>experience_Manager</td>\n",
       "    </tr>\n",
       "    <tr>\n",
       "      <th>1</th>\n",
       "      <td>0.029703</td>\n",
       "      <td>job_title_Data Analyst</td>\n",
       "    </tr>\n",
       "    <tr>\n",
       "      <th>14</th>\n",
       "      <td>0.028146</td>\n",
       "      <td>experience_Junior_Executive</td>\n",
       "    </tr>\n",
       "    <tr>\n",
       "      <th>3</th>\n",
       "      <td>0.023982</td>\n",
       "      <td>location_Malaysia</td>\n",
       "    </tr>\n",
       "    <tr>\n",
       "      <th>6</th>\n",
       "      <td>0.013335</td>\n",
       "      <td>industry_Call Center/IT-Enabled Services/BPO</td>\n",
       "    </tr>\n",
       "    <tr>\n",
       "      <th>7</th>\n",
       "      <td>0.009740</td>\n",
       "      <td>industry_Computer/Information Technology (Soft...</td>\n",
       "    </tr>\n",
       "    <tr>\n",
       "      <th>15</th>\n",
       "      <td>0.005490</td>\n",
       "      <td>experience_Less_than_1_year</td>\n",
       "    </tr>\n",
       "    <tr>\n",
       "      <th>19</th>\n",
       "      <td>0.004200</td>\n",
       "      <td>experience_Staff</td>\n",
       "    </tr>\n",
       "    <tr>\n",
       "      <th>17</th>\n",
       "      <td>0.003764</td>\n",
       "      <td>experience_Non_Executive</td>\n",
       "    </tr>\n",
       "    <tr>\n",
       "      <th>2</th>\n",
       "      <td>0.003216</td>\n",
       "      <td>job_title_Data Scientist</td>\n",
       "    </tr>\n",
       "    <tr>\n",
       "      <th>11</th>\n",
       "      <td>0.002458</td>\n",
       "      <td>industry_Retail/Merchandise</td>\n",
       "    </tr>\n",
       "    <tr>\n",
       "      <th>12</th>\n",
       "      <td>0.001705</td>\n",
       "      <td>industry_Telecommunication</td>\n",
       "    </tr>\n",
       "    <tr>\n",
       "      <th>20</th>\n",
       "      <td>0.001534</td>\n",
       "      <td>experience_Supervisor</td>\n",
       "    </tr>\n",
       "    <tr>\n",
       "      <th>10</th>\n",
       "      <td>0.001062</td>\n",
       "      <td>industry_R&amp;D</td>\n",
       "    </tr>\n",
       "    <tr>\n",
       "      <th>8</th>\n",
       "      <td>0.000000</td>\n",
       "      <td>industry_Construction/Building/Engineering</td>\n",
       "    </tr>\n",
       "  </tbody>\n",
       "</table>\n",
       "</div>"
      ],
      "text/plain": [
       "        coef                                           variable\n",
       "5   0.228616                                 location_Singapore\n",
       "21  0.197585                                             skills\n",
       "18  0.097746                        experience_Senior_Executive\n",
       "0   0.094635                                       company_size\n",
       "4   0.089845                               location_Philippines\n",
       "9   0.079776     industry_Human Resources Management/Consulting\n",
       "13  0.048663                    experience_Experienced_Employee\n",
       "16  0.034800                                 experience_Manager\n",
       "1   0.029703                             job_title_Data Analyst\n",
       "14  0.028146                        experience_Junior_Executive\n",
       "3   0.023982                                  location_Malaysia\n",
       "6   0.013335       industry_Call Center/IT-Enabled Services/BPO\n",
       "7   0.009740  industry_Computer/Information Technology (Soft...\n",
       "15  0.005490                        experience_Less_than_1_year\n",
       "19  0.004200                                   experience_Staff\n",
       "17  0.003764                           experience_Non_Executive\n",
       "2   0.003216                           job_title_Data Scientist\n",
       "11  0.002458                        industry_Retail/Merchandise\n",
       "12  0.001705                         industry_Telecommunication\n",
       "20  0.001534                              experience_Supervisor\n",
       "10  0.001062                                       industry_R&D\n",
       "8   0.000000         industry_Construction/Building/Engineering"
      ]
     },
     "execution_count": 164,
     "metadata": {},
     "output_type": "execute_result"
    }
   ],
   "source": [
    "forest_features = pd.DataFrame({'variable':X_train.columns, 'coef':forest.feature_importances_})\n",
    "\n",
    "forest_features.sort_values('coef', inplace=True, ascending=False)\n",
    "\n",
    "forest_features"
   ]
  },
  {
   "cell_type": "code",
   "execution_count": 165,
   "metadata": {
    "collapsed": true
   },
   "outputs": [],
   "source": [
    "salary_factors = []\n",
    "for i,j in zip(forest_features['coef'],forest_features['variable']):\n",
    "    if i>0:\n",
    "        salary_factors.append(j)"
   ]
  },
  {
   "cell_type": "code",
   "execution_count": 166,
   "metadata": {},
   "outputs": [
    {
     "data": {
      "text/plain": [
       "['location_Singapore',\n",
       " 'skills',\n",
       " 'experience_Senior_Executive',\n",
       " 'company_size',\n",
       " 'location_Philippines',\n",
       " 'industry_Human Resources Management/Consulting',\n",
       " 'experience_Experienced_Employee',\n",
       " 'experience_Manager',\n",
       " 'job_title_Data Analyst',\n",
       " 'experience_Junior_Executive',\n",
       " 'location_Malaysia',\n",
       " 'industry_Call Center/IT-Enabled Services/BPO',\n",
       " 'industry_Computer/Information Technology (Software)',\n",
       " 'experience_Less_than_1_year',\n",
       " 'experience_Staff',\n",
       " 'experience_Non_Executive',\n",
       " 'job_title_Data Scientist',\n",
       " 'industry_Retail/Merchandise',\n",
       " 'industry_Telecommunication',\n",
       " 'experience_Supervisor',\n",
       " 'industry_R&D']"
      ]
     },
     "execution_count": 166,
     "metadata": {},
     "output_type": "execute_result"
    }
   ],
   "source": [
    "# List of factors that impact salary in order of decreasing impact\n",
    "salary_factors"
   ]
  },
  {
   "cell_type": "code",
   "execution_count": 158,
   "metadata": {
    "scrolled": true
   },
   "outputs": [
    {
     "name": "stdout",
     "output_type": "stream",
     "text": [
      "             precision    recall  f1-score   support\n",
      "\n",
      "          0       0.96      0.89      0.92       140\n",
      "          1       0.79      0.92      0.85        66\n",
      "\n",
      "avg / total       0.91      0.90      0.90       206\n",
      "\n"
     ]
    }
   ],
   "source": [
    "print classification_report(y_test, y_pred)"
   ]
  },
  {
   "cell_type": "markdown",
   "metadata": {},
   "source": [
    "**Summary:**\n",
    "> Looking at the coefficients of the features from the LogisticRegression and RandomForest, the top 5 common features that impact salary are 'location_Singapore', 'experience_Senior_Executive', 'location_Philippines', 'experience_Junior_Executive' and 'industry_Human Resources Management/Consulting'\n",
    "\n",
    "> Both LogisticRegressionCV snd RandomForest models fit the data well and give a high prediction accuracy of 89.8%."
   ]
  },
  {
   "cell_type": "markdown",
   "metadata": {},
   "source": [
    "### Qn2"
   ]
  },
  {
   "cell_type": "code",
   "execution_count": null,
   "metadata": {
    "collapsed": true
   },
   "outputs": [],
   "source": [
    "# Factors that distinguish job category"
   ]
  },
  {
   "cell_type": "code",
   "execution_count": null,
   "metadata": {
    "collapsed": true
   },
   "outputs": [],
   "source": [
    "# Qn: What are the factors that distinguish business analysts from other data positions"
   ]
  },
  {
   "cell_type": "code",
   "execution_count": null,
   "metadata": {
    "collapsed": true
   },
   "outputs": [],
   "source": [
    "# Filtering variables"
   ]
  },
  {
   "cell_type": "code",
   "execution_count": 168,
   "metadata": {
    "collapsed": true
   },
   "outputs": [],
   "source": [
    "target = 'job_title'\n",
    "predictors = [i for i in jobst3.columns if i != target]"
   ]
  },
  {
   "cell_type": "code",
   "execution_count": 169,
   "metadata": {},
   "outputs": [
    {
     "data": {
      "text/plain": [
       "['location', 'salary', 'industry', 'experience', 'company_size', 'skills']"
      ]
     },
     "execution_count": 169,
     "metadata": {},
     "output_type": "execute_result"
    }
   ],
   "source": [
    "predictors"
   ]
  },
  {
   "cell_type": "code",
   "execution_count": 170,
   "metadata": {
    "collapsed": true
   },
   "outputs": [],
   "source": [
    "#numerical predictors\n",
    "num_predictors = ['skills']\n",
    "cat_predictors = [i for i in predictors if i != 'skills']"
   ]
  },
  {
   "cell_type": "code",
   "execution_count": 171,
   "metadata": {},
   "outputs": [
    {
     "name": "stdout",
     "output_type": "stream",
     "text": [
      "['skills']\n"
     ]
    }
   ],
   "source": [
    "#Filtering numerical variables\n",
    "from sklearn.feature_selection import f_classif, chi2\n",
    "\n",
    "num_sig = []\n",
    "f,p = f_classif(jobst3[['skills']], jobst3[target])\n",
    "if p <= 0.05:\n",
    "    num_sig.append(i)\n",
    "print num_sig"
   ]
  },
  {
   "cell_type": "code",
   "execution_count": 172,
   "metadata": {
    "collapsed": true
   },
   "outputs": [],
   "source": [
    "# The numerical feature 'skills' is significantly related to the target variable salary"
   ]
  },
  {
   "cell_type": "code",
   "execution_count": 173,
   "metadata": {},
   "outputs": [
    {
     "data": {
      "text/plain": [
       "['location', 'salary', 'industry', 'experience', 'company_size']"
      ]
     },
     "execution_count": 173,
     "metadata": {},
     "output_type": "execute_result"
    }
   ],
   "source": [
    "cat_predictors"
   ]
  },
  {
   "cell_type": "code",
   "execution_count": 174,
   "metadata": {
    "collapsed": true
   },
   "outputs": [],
   "source": [
    "# Get dataframe of categorical variables\n",
    "jobst3_cat = jobst3.loc[:,cat_predictors]"
   ]
  },
  {
   "cell_type": "code",
   "execution_count": 175,
   "metadata": {},
   "outputs": [
    {
     "data": {
      "text/html": [
       "<div>\n",
       "<style>\n",
       "    .dataframe thead tr:only-child th {\n",
       "        text-align: right;\n",
       "    }\n",
       "\n",
       "    .dataframe thead th {\n",
       "        text-align: left;\n",
       "    }\n",
       "\n",
       "    .dataframe tbody tr th {\n",
       "        vertical-align: top;\n",
       "    }\n",
       "</style>\n",
       "<table border=\"1\" class=\"dataframe\">\n",
       "  <thead>\n",
       "    <tr style=\"text-align: right;\">\n",
       "      <th></th>\n",
       "      <th>location</th>\n",
       "      <th>salary</th>\n",
       "      <th>industry</th>\n",
       "      <th>experience</th>\n",
       "      <th>company_size</th>\n",
       "    </tr>\n",
       "    <tr>\n",
       "      <th>Index</th>\n",
       "      <th></th>\n",
       "      <th></th>\n",
       "      <th></th>\n",
       "      <th></th>\n",
       "      <th></th>\n",
       "    </tr>\n",
       "  </thead>\n",
       "  <tbody>\n",
       "    <tr>\n",
       "      <th>0</th>\n",
       "      <td>Singapore</td>\n",
       "      <td>1</td>\n",
       "      <td>Human Resources Management/Consulting</td>\n",
       "      <td>Junior_Executive</td>\n",
       "      <td>1</td>\n",
       "    </tr>\n",
       "    <tr>\n",
       "      <th>1</th>\n",
       "      <td>Singapore</td>\n",
       "      <td>0</td>\n",
       "      <td>Human Resources Management/Consulting</td>\n",
       "      <td>Junior_Executive</td>\n",
       "      <td>0</td>\n",
       "    </tr>\n",
       "  </tbody>\n",
       "</table>\n",
       "</div>"
      ],
      "text/plain": [
       "        location  salary                               industry  \\\n",
       "Index                                                             \n",
       "0      Singapore       1  Human Resources Management/Consulting   \n",
       "1      Singapore       0  Human Resources Management/Consulting   \n",
       "\n",
       "             experience  company_size  \n",
       "Index                                  \n",
       "0      Junior_Executive             1  \n",
       "1      Junior_Executive             0  "
      ]
     },
     "execution_count": 175,
     "metadata": {},
     "output_type": "execute_result"
    }
   ],
   "source": [
    "jobst3_cat.head(2)"
   ]
  },
  {
   "cell_type": "code",
   "execution_count": 177,
   "metadata": {},
   "outputs": [],
   "source": [
    "# Filtering the categorical variables\n",
    "jobst3_cat = pd.get_dummies(jobst3_cat, drop_first=True)"
   ]
  },
  {
   "cell_type": "code",
   "execution_count": 178,
   "metadata": {
    "collapsed": true
   },
   "outputs": [],
   "source": [
    "#Convert the columns to type 'int64'\n",
    "for i in jobst3_cat.columns:\n",
    "    jobst3_cat[i] = jobst3_cat[i].astype('int64')"
   ]
  },
  {
   "cell_type": "code",
   "execution_count": 179,
   "metadata": {},
   "outputs": [
    {
     "name": "stdout",
     "output_type": "stream",
     "text": [
      "['salary', 'company_size', 'location_Malaysia', 'location_Philippines', 'location_Singapore', 'industry_BioTechnology/Pharmaceutical/Clinical research', 'industry_Call Center/IT-Enabled Services/BPO', 'industry_Chemical/Fertilizers/Pesticides', 'industry_Construction/Building/Engineering', 'industry_Education', 'industry_Electrical & Electronics', 'industry_R&D', 'industry_Science & Technology', 'experience_Less_than_1_year', 'experience_Non_Executive', 'experience_Senior_Executive']\n"
     ]
    }
   ],
   "source": [
    "cat_sig = []\n",
    "for i in jobst3_cat.columns:\n",
    "    y = np.array(jobst3[target])\n",
    "    ch, p = chi2(jobst3_cat[[i]],y)\n",
    "    if p<=0.05:\n",
    "        cat_sig.append(i)\n",
    "print cat_sig        "
   ]
  },
  {
   "cell_type": "code",
   "execution_count": 180,
   "metadata": {
    "collapsed": true
   },
   "outputs": [],
   "source": [
    "#Building the filtered dataframe containing the significant variables\n",
    "cat_sig_df = jobst3_cat.loc[:, cat_sig]\n",
    "num_sig_df = jobst3.loc[:, num_sig]\n",
    "jobst_sig = cat_sig_df.merge(num_sig_df, left_index=True, right_index=True, how='outer')\n",
    "jobst_sig['job_title'] = jobst3['job_title']"
   ]
  },
  {
   "cell_type": "code",
   "execution_count": 181,
   "metadata": {},
   "outputs": [
    {
     "data": {
      "text/html": [
       "<div>\n",
       "<style>\n",
       "    .dataframe thead tr:only-child th {\n",
       "        text-align: right;\n",
       "    }\n",
       "\n",
       "    .dataframe thead th {\n",
       "        text-align: left;\n",
       "    }\n",
       "\n",
       "    .dataframe tbody tr th {\n",
       "        vertical-align: top;\n",
       "    }\n",
       "</style>\n",
       "<table border=\"1\" class=\"dataframe\">\n",
       "  <thead>\n",
       "    <tr style=\"text-align: right;\">\n",
       "      <th></th>\n",
       "      <th>salary</th>\n",
       "      <th>company_size</th>\n",
       "      <th>location_Malaysia</th>\n",
       "      <th>location_Philippines</th>\n",
       "      <th>location_Singapore</th>\n",
       "      <th>industry_BioTechnology/Pharmaceutical/Clinical research</th>\n",
       "      <th>industry_Call Center/IT-Enabled Services/BPO</th>\n",
       "      <th>industry_Chemical/Fertilizers/Pesticides</th>\n",
       "      <th>industry_Construction/Building/Engineering</th>\n",
       "      <th>industry_Education</th>\n",
       "      <th>industry_Electrical &amp; Electronics</th>\n",
       "      <th>industry_R&amp;D</th>\n",
       "      <th>industry_Science &amp; Technology</th>\n",
       "      <th>experience_Less_than_1_year</th>\n",
       "      <th>experience_Non_Executive</th>\n",
       "      <th>experience_Senior_Executive</th>\n",
       "      <th>skills</th>\n",
       "      <th>job_title</th>\n",
       "    </tr>\n",
       "    <tr>\n",
       "      <th>Index</th>\n",
       "      <th></th>\n",
       "      <th></th>\n",
       "      <th></th>\n",
       "      <th></th>\n",
       "      <th></th>\n",
       "      <th></th>\n",
       "      <th></th>\n",
       "      <th></th>\n",
       "      <th></th>\n",
       "      <th></th>\n",
       "      <th></th>\n",
       "      <th></th>\n",
       "      <th></th>\n",
       "      <th></th>\n",
       "      <th></th>\n",
       "      <th></th>\n",
       "      <th></th>\n",
       "      <th></th>\n",
       "    </tr>\n",
       "  </thead>\n",
       "  <tbody>\n",
       "    <tr>\n",
       "      <th>0</th>\n",
       "      <td>1</td>\n",
       "      <td>1</td>\n",
       "      <td>0</td>\n",
       "      <td>0</td>\n",
       "      <td>1</td>\n",
       "      <td>0</td>\n",
       "      <td>0</td>\n",
       "      <td>0</td>\n",
       "      <td>0</td>\n",
       "      <td>0</td>\n",
       "      <td>0</td>\n",
       "      <td>0</td>\n",
       "      <td>0</td>\n",
       "      <td>0</td>\n",
       "      <td>0</td>\n",
       "      <td>0</td>\n",
       "      <td>17.0</td>\n",
       "      <td>Data Analyst</td>\n",
       "    </tr>\n",
       "    <tr>\n",
       "      <th>1</th>\n",
       "      <td>0</td>\n",
       "      <td>0</td>\n",
       "      <td>0</td>\n",
       "      <td>0</td>\n",
       "      <td>1</td>\n",
       "      <td>0</td>\n",
       "      <td>0</td>\n",
       "      <td>0</td>\n",
       "      <td>0</td>\n",
       "      <td>0</td>\n",
       "      <td>0</td>\n",
       "      <td>0</td>\n",
       "      <td>0</td>\n",
       "      <td>0</td>\n",
       "      <td>0</td>\n",
       "      <td>0</td>\n",
       "      <td>6.0</td>\n",
       "      <td>Data Analyst</td>\n",
       "    </tr>\n",
       "  </tbody>\n",
       "</table>\n",
       "</div>"
      ],
      "text/plain": [
       "       salary  company_size  location_Malaysia  location_Philippines  \\\n",
       "Index                                                                  \n",
       "0           1             1                  0                     0   \n",
       "1           0             0                  0                     0   \n",
       "\n",
       "       location_Singapore  \\\n",
       "Index                       \n",
       "0                       1   \n",
       "1                       1   \n",
       "\n",
       "       industry_BioTechnology/Pharmaceutical/Clinical research  \\\n",
       "Index                                                            \n",
       "0                                                      0         \n",
       "1                                                      0         \n",
       "\n",
       "       industry_Call Center/IT-Enabled Services/BPO  \\\n",
       "Index                                                 \n",
       "0                                                 0   \n",
       "1                                                 0   \n",
       "\n",
       "       industry_Chemical/Fertilizers/Pesticides  \\\n",
       "Index                                             \n",
       "0                                             0   \n",
       "1                                             0   \n",
       "\n",
       "       industry_Construction/Building/Engineering  industry_Education  \\\n",
       "Index                                                                   \n",
       "0                                               0                   0   \n",
       "1                                               0                   0   \n",
       "\n",
       "       industry_Electrical & Electronics  industry_R&D  \\\n",
       "Index                                                    \n",
       "0                                      0             0   \n",
       "1                                      0             0   \n",
       "\n",
       "       industry_Science & Technology  experience_Less_than_1_year  \\\n",
       "Index                                                               \n",
       "0                                  0                            0   \n",
       "1                                  0                            0   \n",
       "\n",
       "       experience_Non_Executive  experience_Senior_Executive  skills  \\\n",
       "Index                                                                  \n",
       "0                             0                            0    17.0   \n",
       "1                             0                            0     6.0   \n",
       "\n",
       "          job_title  \n",
       "Index                \n",
       "0      Data Analyst  \n",
       "1      Data Analyst  "
      ]
     },
     "execution_count": 181,
     "metadata": {},
     "output_type": "execute_result"
    }
   ],
   "source": [
    "jobst_sig.head(2)"
   ]
  },
  {
   "cell_type": "markdown",
   "metadata": {},
   "source": [
    "### Train-test split plus Modeling"
   ]
  },
  {
   "cell_type": "code",
   "execution_count": 182,
   "metadata": {},
   "outputs": [
    {
     "data": {
      "text/plain": [
       "Business Analyst    374\n",
       "Data Analyst        274\n",
       "Data Engineer        20\n",
       "Data Scientist       17\n",
       "Name: job_title, dtype: int64"
      ]
     },
     "execution_count": 182,
     "metadata": {},
     "output_type": "execute_result"
    }
   ],
   "source": [
    "# Looking at the distribution of target variable\n",
    "dist = jobst_sig['job_title'].value_counts()\n",
    "dist"
   ]
  },
  {
   "cell_type": "code",
   "execution_count": 184,
   "metadata": {},
   "outputs": [],
   "source": [
    "# Encode job_titles such that Business Analyst is 1 while other Data positions are 0\n",
    "jobst_sig['job_title'] = jobst_sig['job_title'].apply(lambda x: 1 if x=='Business Analyst' else 0)"
   ]
  },
  {
   "cell_type": "code",
   "execution_count": 185,
   "metadata": {
    "scrolled": true
   },
   "outputs": [
    {
     "data": {
      "text/plain": [
       "1    374\n",
       "0    311\n",
       "Name: job_title, dtype: int64"
      ]
     },
     "execution_count": 185,
     "metadata": {},
     "output_type": "execute_result"
    }
   ],
   "source": [
    "dist = jobst_sig['job_title'].value_counts()\n",
    "dist"
   ]
  },
  {
   "cell_type": "code",
   "execution_count": 187,
   "metadata": {},
   "outputs": [
    {
     "name": "stdout",
     "output_type": "stream",
     "text": [
      "class 0 ratio 0.45401459854\n",
      "class 1 ratio 0.54598540146\n",
      "Baseline accuracy 0.54598540146\n"
     ]
    }
   ],
   "source": [
    "# Baseline accuracy\n",
    "ratio_0 = float(dist[0])/(dist[0] + dist[1])\n",
    "ratio_1 = float(dist[1])/(dist[0] + dist[1])\n",
    "print 'class 0 ratio', ratio_0\n",
    "print 'class 1 ratio', ratio_1\n",
    "print 'Baseline accuracy', ratio_1"
   ]
  },
  {
   "cell_type": "code",
   "execution_count": 188,
   "metadata": {
    "collapsed": true
   },
   "outputs": [],
   "source": [
    "from sklearn.model_selection import train_test_split\n",
    "\n",
    "X = jobst_sig.loc[:, [i for i in jobst_sig.columns if i != 'job_title']]\n",
    "y = jobst_sig.loc[:,'job_title']\n",
    "X_train, X_test, y_train, y_test = train_test_split(X, y, train_size=0.7, test_size=0.3, stratify=y, random_state=12)"
   ]
  },
  {
   "cell_type": "code",
   "execution_count": 189,
   "metadata": {},
   "outputs": [
    {
     "name": "stdout",
     "output_type": "stream",
     "text": [
      "217\n",
      "262\n"
     ]
    }
   ],
   "source": [
    "#count of each class in y_train\n",
    "num_zeros = (y_train == 0).sum()\n",
    "num_ones = (y_train == 1).sum()\n",
    "print num_zeros\n",
    "print num_ones"
   ]
  },
  {
   "cell_type": "code",
   "execution_count": 190,
   "metadata": {
    "collapsed": true
   },
   "outputs": [],
   "source": [
    "# Modeling"
   ]
  },
  {
   "cell_type": "code",
   "execution_count": 191,
   "metadata": {},
   "outputs": [
    {
     "name": "stdout",
     "output_type": "stream",
     "text": [
      "score: 0.620041753653\n",
      "score: 0.660194174757\n"
     ]
    }
   ],
   "source": [
    "# Fit first model with LogisticRegressionCV, second model with RandomForestClassifier\n",
    "from sklearn.linear_model import LogisticRegressionCV\n",
    "from sklearn.ensemble import RandomForestClassifier\n",
    "\n",
    "log = LogisticRegressionCV(penalty='l1', solver='liblinear', cv=3, n_jobs=-1)\n",
    "log.fit(X_train, y_train)\n",
    "y_pred = log.predict(X_test)\n",
    "print 'score:', log.score(X_train, y_train)\n",
    "print 'score:', log.score(X_test, y_test)"
   ]
  },
  {
   "cell_type": "code",
   "execution_count": 192,
   "metadata": {},
   "outputs": [
    {
     "data": {
      "text/html": [
       "<div>\n",
       "<style>\n",
       "    .dataframe thead tr:only-child th {\n",
       "        text-align: right;\n",
       "    }\n",
       "\n",
       "    .dataframe thead th {\n",
       "        text-align: left;\n",
       "    }\n",
       "\n",
       "    .dataframe tbody tr th {\n",
       "        vertical-align: top;\n",
       "    }\n",
       "</style>\n",
       "<table border=\"1\" class=\"dataframe\">\n",
       "  <thead>\n",
       "    <tr style=\"text-align: right;\">\n",
       "      <th></th>\n",
       "      <th>abs_coef</th>\n",
       "      <th>coef</th>\n",
       "      <th>variable</th>\n",
       "    </tr>\n",
       "  </thead>\n",
       "  <tbody>\n",
       "    <tr>\n",
       "      <th>11</th>\n",
       "      <td>9.416647</td>\n",
       "      <td>-9.416647</td>\n",
       "      <td>industry_R&amp;D</td>\n",
       "    </tr>\n",
       "    <tr>\n",
       "      <th>12</th>\n",
       "      <td>7.741561</td>\n",
       "      <td>-7.741561</td>\n",
       "      <td>industry_Science &amp; Technology</td>\n",
       "    </tr>\n",
       "    <tr>\n",
       "      <th>8</th>\n",
       "      <td>6.390123</td>\n",
       "      <td>6.390123</td>\n",
       "      <td>industry_Construction/Building/Engineering</td>\n",
       "    </tr>\n",
       "    <tr>\n",
       "      <th>9</th>\n",
       "      <td>2.091599</td>\n",
       "      <td>-2.091599</td>\n",
       "      <td>industry_Education</td>\n",
       "    </tr>\n",
       "    <tr>\n",
       "      <th>13</th>\n",
       "      <td>1.543236</td>\n",
       "      <td>-1.543236</td>\n",
       "      <td>experience_Less_than_1_year</td>\n",
       "    </tr>\n",
       "    <tr>\n",
       "      <th>14</th>\n",
       "      <td>1.506270</td>\n",
       "      <td>-1.506270</td>\n",
       "      <td>experience_Non_Executive</td>\n",
       "    </tr>\n",
       "    <tr>\n",
       "      <th>10</th>\n",
       "      <td>0.790458</td>\n",
       "      <td>-0.790458</td>\n",
       "      <td>industry_Electrical &amp; Electronics</td>\n",
       "    </tr>\n",
       "    <tr>\n",
       "      <th>2</th>\n",
       "      <td>0.680804</td>\n",
       "      <td>0.680804</td>\n",
       "      <td>location_Malaysia</td>\n",
       "    </tr>\n",
       "    <tr>\n",
       "      <th>0</th>\n",
       "      <td>0.432542</td>\n",
       "      <td>0.432542</td>\n",
       "      <td>salary</td>\n",
       "    </tr>\n",
       "    <tr>\n",
       "      <th>4</th>\n",
       "      <td>0.421455</td>\n",
       "      <td>0.421455</td>\n",
       "      <td>location_Singapore</td>\n",
       "    </tr>\n",
       "    <tr>\n",
       "      <th>5</th>\n",
       "      <td>0.249041</td>\n",
       "      <td>0.249041</td>\n",
       "      <td>industry_BioTechnology/Pharmaceutical/Clinical...</td>\n",
       "    </tr>\n",
       "    <tr>\n",
       "      <th>3</th>\n",
       "      <td>0.235909</td>\n",
       "      <td>0.235909</td>\n",
       "      <td>location_Philippines</td>\n",
       "    </tr>\n",
       "    <tr>\n",
       "      <th>15</th>\n",
       "      <td>0.158060</td>\n",
       "      <td>-0.158060</td>\n",
       "      <td>experience_Senior_Executive</td>\n",
       "    </tr>\n",
       "    <tr>\n",
       "      <th>6</th>\n",
       "      <td>0.121385</td>\n",
       "      <td>-0.121385</td>\n",
       "      <td>industry_Call Center/IT-Enabled Services/BPO</td>\n",
       "    </tr>\n",
       "    <tr>\n",
       "      <th>16</th>\n",
       "      <td>0.034941</td>\n",
       "      <td>-0.034941</td>\n",
       "      <td>skills</td>\n",
       "    </tr>\n",
       "    <tr>\n",
       "      <th>1</th>\n",
       "      <td>0.007839</td>\n",
       "      <td>0.007839</td>\n",
       "      <td>company_size</td>\n",
       "    </tr>\n",
       "    <tr>\n",
       "      <th>7</th>\n",
       "      <td>0.000000</td>\n",
       "      <td>0.000000</td>\n",
       "      <td>industry_Chemical/Fertilizers/Pesticides</td>\n",
       "    </tr>\n",
       "  </tbody>\n",
       "</table>\n",
       "</div>"
      ],
      "text/plain": [
       "    abs_coef      coef                                           variable\n",
       "11  9.416647 -9.416647                                       industry_R&D\n",
       "12  7.741561 -7.741561                      industry_Science & Technology\n",
       "8   6.390123  6.390123         industry_Construction/Building/Engineering\n",
       "9   2.091599 -2.091599                                 industry_Education\n",
       "13  1.543236 -1.543236                        experience_Less_than_1_year\n",
       "14  1.506270 -1.506270                           experience_Non_Executive\n",
       "10  0.790458 -0.790458                  industry_Electrical & Electronics\n",
       "2   0.680804  0.680804                                  location_Malaysia\n",
       "0   0.432542  0.432542                                             salary\n",
       "4   0.421455  0.421455                                 location_Singapore\n",
       "5   0.249041  0.249041  industry_BioTechnology/Pharmaceutical/Clinical...\n",
       "3   0.235909  0.235909                               location_Philippines\n",
       "15  0.158060 -0.158060                        experience_Senior_Executive\n",
       "6   0.121385 -0.121385       industry_Call Center/IT-Enabled Services/BPO\n",
       "16  0.034941 -0.034941                                             skills\n",
       "1   0.007839  0.007839                                       company_size\n",
       "7   0.000000  0.000000           industry_Chemical/Fertilizers/Pesticides"
      ]
     },
     "execution_count": 192,
     "metadata": {},
     "output_type": "execute_result"
    }
   ],
   "source": [
    "log_coefs = pd.DataFrame({'variable':X_train.columns, 'coef':log.coef_[0],'abs_coef':np.abs(log.coef_[0])})\n",
    "\n",
    "log_coefs.sort_values('abs_coef', inplace=True, ascending=False)\n",
    "\n",
    "log_coefs"
   ]
  },
  {
   "cell_type": "code",
   "execution_count": 193,
   "metadata": {
    "collapsed": true
   },
   "outputs": [],
   "source": [
    "cat_factors = []\n",
    "for i,j in zip(log_coefs['abs_coef'],log_coefs['variable']):\n",
    "    if i>0:\n",
    "        cat_factors.append(j)"
   ]
  },
  {
   "cell_type": "code",
   "execution_count": 194,
   "metadata": {},
   "outputs": [
    {
     "data": {
      "text/plain": [
       "['industry_R&D',\n",
       " 'industry_Science & Technology',\n",
       " 'industry_Construction/Building/Engineering',\n",
       " 'industry_Education',\n",
       " 'experience_Less_than_1_year',\n",
       " 'experience_Non_Executive',\n",
       " 'industry_Electrical & Electronics',\n",
       " 'location_Malaysia',\n",
       " 'salary',\n",
       " 'location_Singapore',\n",
       " 'industry_BioTechnology/Pharmaceutical/Clinical research',\n",
       " 'location_Philippines',\n",
       " 'experience_Senior_Executive',\n",
       " 'industry_Call Center/IT-Enabled Services/BPO',\n",
       " 'skills',\n",
       " 'company_size']"
      ]
     },
     "execution_count": 194,
     "metadata": {},
     "output_type": "execute_result"
    }
   ],
   "source": [
    "# List of factors that distinguish job category in order of decreasing impact\n",
    "cat_factors"
   ]
  },
  {
   "cell_type": "code",
   "execution_count": 196,
   "metadata": {},
   "outputs": [
    {
     "name": "stdout",
     "output_type": "stream",
     "text": [
      "             precision    recall  f1-score   support\n",
      "\n",
      "          0       0.83      0.32      0.46        94\n",
      "          1       0.62      0.95      0.75       112\n",
      "\n",
      "avg / total       0.72      0.66      0.62       206\n",
      "\n"
     ]
    }
   ],
   "source": [
    "print classification_report(y_test, y_pred)"
   ]
  },
  {
   "cell_type": "code",
   "execution_count": 197,
   "metadata": {},
   "outputs": [
    {
     "name": "stdout",
     "output_type": "stream",
     "text": [
      "score: 0.620041753653\n",
      "score: 0.660194174757\n"
     ]
    }
   ],
   "source": [
    "# RandomForestClassifier\n",
    "forest = RandomForestClassifier(n_estimators=100, random_state=12)\n",
    "forest.fit(X_train, y_train)\n",
    "y_pred = log.predict(X_test)\n",
    "print 'score:', log.score(X_train, y_train)\n",
    "print 'score:', log.score(X_test, y_test)"
   ]
  },
  {
   "cell_type": "code",
   "execution_count": 198,
   "metadata": {},
   "outputs": [
    {
     "data": {
      "text/html": [
       "<div>\n",
       "<style>\n",
       "    .dataframe thead tr:only-child th {\n",
       "        text-align: right;\n",
       "    }\n",
       "\n",
       "    .dataframe thead th {\n",
       "        text-align: left;\n",
       "    }\n",
       "\n",
       "    .dataframe tbody tr th {\n",
       "        vertical-align: top;\n",
       "    }\n",
       "</style>\n",
       "<table border=\"1\" class=\"dataframe\">\n",
       "  <thead>\n",
       "    <tr style=\"text-align: right;\">\n",
       "      <th></th>\n",
       "      <th>coef</th>\n",
       "      <th>variable</th>\n",
       "    </tr>\n",
       "  </thead>\n",
       "  <tbody>\n",
       "    <tr>\n",
       "      <th>16</th>\n",
       "      <td>0.362913</td>\n",
       "      <td>skills</td>\n",
       "    </tr>\n",
       "    <tr>\n",
       "      <th>1</th>\n",
       "      <td>0.273443</td>\n",
       "      <td>company_size</td>\n",
       "    </tr>\n",
       "    <tr>\n",
       "      <th>13</th>\n",
       "      <td>0.066793</td>\n",
       "      <td>experience_Less_than_1_year</td>\n",
       "    </tr>\n",
       "    <tr>\n",
       "      <th>15</th>\n",
       "      <td>0.055466</td>\n",
       "      <td>experience_Senior_Executive</td>\n",
       "    </tr>\n",
       "    <tr>\n",
       "      <th>0</th>\n",
       "      <td>0.043256</td>\n",
       "      <td>salary</td>\n",
       "    </tr>\n",
       "    <tr>\n",
       "      <th>3</th>\n",
       "      <td>0.030964</td>\n",
       "      <td>location_Philippines</td>\n",
       "    </tr>\n",
       "    <tr>\n",
       "      <th>11</th>\n",
       "      <td>0.028952</td>\n",
       "      <td>industry_R&amp;D</td>\n",
       "    </tr>\n",
       "    <tr>\n",
       "      <th>6</th>\n",
       "      <td>0.028212</td>\n",
       "      <td>industry_Call Center/IT-Enabled Services/BPO</td>\n",
       "    </tr>\n",
       "    <tr>\n",
       "      <th>2</th>\n",
       "      <td>0.025481</td>\n",
       "      <td>location_Malaysia</td>\n",
       "    </tr>\n",
       "    <tr>\n",
       "      <th>14</th>\n",
       "      <td>0.023106</td>\n",
       "      <td>experience_Non_Executive</td>\n",
       "    </tr>\n",
       "    <tr>\n",
       "      <th>4</th>\n",
       "      <td>0.019772</td>\n",
       "      <td>location_Singapore</td>\n",
       "    </tr>\n",
       "    <tr>\n",
       "      <th>9</th>\n",
       "      <td>0.018444</td>\n",
       "      <td>industry_Education</td>\n",
       "    </tr>\n",
       "    <tr>\n",
       "      <th>10</th>\n",
       "      <td>0.013040</td>\n",
       "      <td>industry_Electrical &amp; Electronics</td>\n",
       "    </tr>\n",
       "    <tr>\n",
       "      <th>12</th>\n",
       "      <td>0.003683</td>\n",
       "      <td>industry_Science &amp; Technology</td>\n",
       "    </tr>\n",
       "    <tr>\n",
       "      <th>5</th>\n",
       "      <td>0.003673</td>\n",
       "      <td>industry_BioTechnology/Pharmaceutical/Clinical...</td>\n",
       "    </tr>\n",
       "    <tr>\n",
       "      <th>8</th>\n",
       "      <td>0.002803</td>\n",
       "      <td>industry_Construction/Building/Engineering</td>\n",
       "    </tr>\n",
       "    <tr>\n",
       "      <th>7</th>\n",
       "      <td>0.000000</td>\n",
       "      <td>industry_Chemical/Fertilizers/Pesticides</td>\n",
       "    </tr>\n",
       "  </tbody>\n",
       "</table>\n",
       "</div>"
      ],
      "text/plain": [
       "        coef                                           variable\n",
       "16  0.362913                                             skills\n",
       "1   0.273443                                       company_size\n",
       "13  0.066793                        experience_Less_than_1_year\n",
       "15  0.055466                        experience_Senior_Executive\n",
       "0   0.043256                                             salary\n",
       "3   0.030964                               location_Philippines\n",
       "11  0.028952                                       industry_R&D\n",
       "6   0.028212       industry_Call Center/IT-Enabled Services/BPO\n",
       "2   0.025481                                  location_Malaysia\n",
       "14  0.023106                           experience_Non_Executive\n",
       "4   0.019772                                 location_Singapore\n",
       "9   0.018444                                 industry_Education\n",
       "10  0.013040                  industry_Electrical & Electronics\n",
       "12  0.003683                      industry_Science & Technology\n",
       "5   0.003673  industry_BioTechnology/Pharmaceutical/Clinical...\n",
       "8   0.002803         industry_Construction/Building/Engineering\n",
       "7   0.000000           industry_Chemical/Fertilizers/Pesticides"
      ]
     },
     "execution_count": 198,
     "metadata": {},
     "output_type": "execute_result"
    }
   ],
   "source": [
    "forest_features = pd.DataFrame({'variable':X_train.columns, 'coef':forest.feature_importances_})\n",
    "\n",
    "forest_features.sort_values('coef', inplace=True, ascending=False)\n",
    "\n",
    "forest_features"
   ]
  },
  {
   "cell_type": "code",
   "execution_count": 199,
   "metadata": {
    "collapsed": true
   },
   "outputs": [],
   "source": [
    "# List of factors that distinguish job category in order of decreasing impact\n",
    "cat_factors = []\n",
    "for i,j in zip(forest_features['coef'],forest_features['variable']):\n",
    "    if i>0:\n",
    "        cat_factors.append(j)"
   ]
  },
  {
   "cell_type": "code",
   "execution_count": 200,
   "metadata": {},
   "outputs": [
    {
     "data": {
      "text/plain": [
       "['skills',\n",
       " 'company_size',\n",
       " 'experience_Less_than_1_year',\n",
       " 'experience_Senior_Executive',\n",
       " 'salary',\n",
       " 'location_Philippines',\n",
       " 'industry_R&D',\n",
       " 'industry_Call Center/IT-Enabled Services/BPO',\n",
       " 'location_Malaysia',\n",
       " 'experience_Non_Executive',\n",
       " 'location_Singapore',\n",
       " 'industry_Education',\n",
       " 'industry_Electrical & Electronics',\n",
       " 'industry_Science & Technology',\n",
       " 'industry_BioTechnology/Pharmaceutical/Clinical research',\n",
       " 'industry_Construction/Building/Engineering']"
      ]
     },
     "execution_count": 200,
     "metadata": {},
     "output_type": "execute_result"
    }
   ],
   "source": [
    "cat_factors"
   ]
  },
  {
   "cell_type": "code",
   "execution_count": 201,
   "metadata": {
    "scrolled": true
   },
   "outputs": [
    {
     "name": "stdout",
     "output_type": "stream",
     "text": [
      "             precision    recall  f1-score   support\n",
      "\n",
      "          0       0.83      0.32      0.46        94\n",
      "          1       0.62      0.95      0.75       112\n",
      "\n",
      "avg / total       0.72      0.66      0.62       206\n",
      "\n"
     ]
    }
   ],
   "source": [
    "print classification_report(y_test, y_pred)"
   ]
  },
  {
   "cell_type": "markdown",
   "metadata": {},
   "source": [
    "**Summary:**\n",
    "> Both LogisticRegressionCV and RandomForest do not fit the data well--> perhaps due to little distinction between the Business Analyst roles vs other Data roles"
   ]
  }
 ],
 "metadata": {
  "kernelspec": {
   "display_name": "Python 2",
   "language": "python",
   "name": "python2"
  },
  "language_info": {
   "codemirror_mode": {
    "name": "ipython",
    "version": 2
   },
   "file_extension": ".py",
   "mimetype": "text/x-python",
   "name": "python",
   "nbconvert_exporter": "python",
   "pygments_lexer": "ipython2",
   "version": "2.7.13"
  }
 },
 "nbformat": 4,
 "nbformat_minor": 2
}
