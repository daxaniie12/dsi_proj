{
 "cells": [
  {
   "cell_type": "code",
   "execution_count": 434,
   "metadata": {
    "collapsed": true
   },
   "outputs": [],
   "source": [
    "from bs4 import BeautifulSoup\n",
    "import time\n",
    "from selenium import webdriver\n",
    "import pandas as pd\n",
    "import numpy as np"
   ]
  },
  {
   "cell_type": "code",
   "execution_count": 435,
   "metadata": {},
   "outputs": [
    {
     "name": "stdout",
     "output_type": "stream",
     "text": [
      "\u001b[31mchromedriver\u001b[m\u001b[m*\r\n"
     ]
    }
   ],
   "source": [
    "ls chromedriver/"
   ]
  },
  {
   "cell_type": "code",
   "execution_count": 436,
   "metadata": {
    "collapsed": true
   },
   "outputs": [],
   "source": [
    "chrome_path = './chromedriver/chromedriver'\n",
    "driver = webdriver.Chrome(chrome_path)\n",
    "driver.get('https://www.jobstreet.co.id/')"
   ]
  },
  {
   "cell_type": "code",
   "execution_count": 11,
   "metadata": {
    "collapsed": true
   },
   "outputs": [],
   "source": [
    "driver.get('https://www.jobstreet.com.sg/en/job-search/job-vacancy.php?ojs=2&key=data+analyst')\n",
    "source = driver.page_source\n",
    "soup = BeautifulSoup(source, \"html.parser\")\n",
    "info = soup.findAll('div', {'class':'panel-body'})\n",
    "time.sleep(2)"
   ]
  },
  {
   "cell_type": "code",
   "execution_count": 12,
   "metadata": {
    "collapsed": true
   },
   "outputs": [],
   "source": [
    "def jjobs(info):\n",
    "    jobs = []\n",
    "    companies = []\n",
    "    locations = []\n",
    "    linkss = []\n",
    "\n",
    "    for inf in info:\n",
    "        job = inf.findAll('h2', {'itemprop':'title'})\n",
    "        for j in job:\n",
    "            jobs.append(j.text)\n",
    "        company = inf.findAll('span', {'itemprop':'name'})\n",
    "        for com in company:\n",
    "            companies.append(com.text)\n",
    "        location = inf.findAll('span', {'itemprop':'jobLocation'})\n",
    "        for loc in location:\n",
    "            locations.append(loc.text)\n",
    "        links = inf.findAll('a', {'class', 'position-title-link'})\n",
    "        for link in links:\n",
    "            linkss.append(link.get('href'))\n",
    "    return jobs, companies, locations, linkss"
   ]
  },
  {
   "cell_type": "code",
   "execution_count": 13,
   "metadata": {
    "collapsed": true
   },
   "outputs": [],
   "source": [
    "def get_info(linkss):\n",
    "        salaries = []\n",
    "        industries = []\n",
    "        experiences = []\n",
    "        company_sizes =[]\n",
    "        descriptions = []\n",
    "        for link in linkss:\n",
    "            driver.get(link)\n",
    "            source = driver.page_source\n",
    "            soup = BeautifulSoup(source, \"html.parser\")\n",
    "            try:\n",
    "                sal = soup.findAll('span', {'id':'salary_range'})[0].text.strip()\n",
    "                salaries.append(sal)\n",
    "            except:\n",
    "                salaries.append(np.nan)\n",
    "            try:\n",
    "                ind = soup.findAll('p', {'id':'company_industry'})[0].text\n",
    "                industries.append(ind)\n",
    "            except:\n",
    "                industries.append(np.nan)\n",
    "            try:\n",
    "                exp = soup.findAll('span', {'itemprop':'experienceRequirements'})[0].text.strip()\n",
    "                experiences.append(exp)\n",
    "            except:\n",
    "                experiences.append(np.nan)\n",
    "            try:\n",
    "                com = soup.findAll('p', {'id':'company_size'})[0].text.strip()\n",
    "                company_sizes.append(com)\n",
    "            except:\n",
    "                company_sizes.append(com)\n",
    "            try:\n",
    "                des = soup.findAll('div', attrs = {'id':'job_description'})[0].text\n",
    "                descriptions.append(des)\n",
    "            except:\n",
    "                descriptions.append(np.nan)\n",
    "            time.sleep(4)\n",
    "        return salaries, industries, experiences, company_sizes, descriptions "
   ]
  },
  {
   "cell_type": "code",
   "execution_count": 14,
   "metadata": {
    "collapsed": true
   },
   "outputs": [],
   "source": [
    "def dataframe(jobs, companies, locations, salaries, industries, experiences, company_sizes, descriptions):\n",
    "    df = pd.DataFrame()\n",
    "    df['job_title'] = jobs\n",
    "    df['company'] = companies\n",
    "    df['location'] = locations\n",
    "    df['salary'] = salaries\n",
    "    df['industry'] = industries\n",
    "    df['experience'] = experiences\n",
    "    df['company_size'] = company_sizes\n",
    "    df['job_description'] = descriptions\n",
    "    return df"
   ]
  },
  {
   "cell_type": "code",
   "execution_count": 223,
   "metadata": {
    "collapsed": true
   },
   "outputs": [],
   "source": [
    "concat7.set_index('Index', inplace=True)"
   ]
  },
  {
   "cell_type": "code",
   "execution_count": 225,
   "metadata": {},
   "outputs": [
    {
     "data": {
      "text/html": [
       "<div>\n",
       "<style>\n",
       "    .dataframe thead tr:only-child th {\n",
       "        text-align: right;\n",
       "    }\n",
       "\n",
       "    .dataframe thead th {\n",
       "        text-align: left;\n",
       "    }\n",
       "\n",
       "    .dataframe tbody tr th {\n",
       "        vertical-align: top;\n",
       "    }\n",
       "</style>\n",
       "<table border=\"1\" class=\"dataframe\">\n",
       "  <thead>\n",
       "    <tr style=\"text-align: right;\">\n",
       "      <th></th>\n",
       "      <th>job_title</th>\n",
       "      <th>company</th>\n",
       "      <th>location</th>\n",
       "      <th>salary</th>\n",
       "      <th>industry</th>\n",
       "      <th>experience</th>\n",
       "      <th>company_size</th>\n",
       "      <th>job_description</th>\n",
       "    </tr>\n",
       "    <tr>\n",
       "      <th>Index</th>\n",
       "      <th></th>\n",
       "      <th></th>\n",
       "      <th></th>\n",
       "      <th></th>\n",
       "      <th></th>\n",
       "      <th></th>\n",
       "      <th></th>\n",
       "      <th></th>\n",
       "    </tr>\n",
       "  </thead>\n",
       "  <tbody>\n",
       "    <tr>\n",
       "      <th>0</th>\n",
       "      <td>Data Analyst (Python / SAS / SQL)(BANK / $3.5K...</td>\n",
       "      <td>Achieve Career Consultant Pte Ltd</td>\n",
       "      <td>Singapore</td>\n",
       "      <td>SGD 3,500 - SGD 5,000</td>\n",
       "      <td>Human Resources Management/Consulting</td>\n",
       "      <td>Min 2 years (Junior Executive)</td>\n",
       "      <td>51 - 200 Employees</td>\n",
       "      <td>S$3,500 to S$5,000 or Higher!Good Career Prog...</td>\n",
       "    </tr>\n",
       "    <tr>\n",
       "      <th>1</th>\n",
       "      <td>Data Quality Analyst - Private Banking</td>\n",
       "      <td>CHANDLER MACLEOD GROUP PTE LTD</td>\n",
       "      <td>Central</td>\n",
       "      <td>SGD 2,400 - SGD 2,600</td>\n",
       "      <td>Human Resources Management/Consulting</td>\n",
       "      <td>Min 1 year (Junior Executive)</td>\n",
       "      <td>1 - 50 Employees</td>\n",
       "      <td>Immediate - Jun 2018CBD, $2600 MonthlyPaid An...</td>\n",
       "    </tr>\n",
       "  </tbody>\n",
       "</table>\n",
       "</div>"
      ],
      "text/plain": [
       "                                               job_title  \\\n",
       "Index                                                      \n",
       "0      Data Analyst (Python / SAS / SQL)(BANK / $3.5K...   \n",
       "1                 Data Quality Analyst - Private Banking   \n",
       "\n",
       "                                 company   location                 salary  \\\n",
       "Index                                                                        \n",
       "0      Achieve Career Consultant Pte Ltd  Singapore  SGD 3,500 - SGD 5,000   \n",
       "1         CHANDLER MACLEOD GROUP PTE LTD    Central  SGD 2,400 - SGD 2,600   \n",
       "\n",
       "                                    industry                      experience  \\\n",
       "Index                                                                          \n",
       "0      Human Resources Management/Consulting  Min 2 years (Junior Executive)   \n",
       "1      Human Resources Management/Consulting   Min 1 year (Junior Executive)   \n",
       "\n",
       "             company_size                                    job_description  \n",
       "Index                                                                         \n",
       "0      51 - 200 Employees   S$3,500 to S$5,000 or Higher!Good Career Prog...  \n",
       "1        1 - 50 Employees   Immediate - Jun 2018CBD, $2600 MonthlyPaid An...  "
      ]
     },
     "execution_count": 225,
     "metadata": {},
     "output_type": "execute_result"
    }
   ],
   "source": [
    "concat7.head(2)"
   ]
  },
  {
   "cell_type": "code",
   "execution_count": 226,
   "metadata": {
    "collapsed": true
   },
   "outputs": [],
   "source": [
    "sg_jobst = concat7.to_csv('sg_jobst', columns = concat7.columns, index= list(concat7.index), encoding='utf8')"
   ]
  },
  {
   "cell_type": "raw",
   "metadata": {},
   "source": [
    "DataFrame.to_csv(path_or_buf=None, sep=', ', na_rep='', float_format=None, columns=None, header=True, index=True, index_label=None, mode='w', encoding=None, compression=None, quoting=None, quotechar='\"', line_terminator='\\n', chunksize=None, tupleize_cols=False, date_format=None, doublequote=True, escapechar=None, decimal='.')[source]"
   ]
  },
  {
   "cell_type": "code",
   "execution_count": null,
   "metadata": {
    "collapsed": true
   },
   "outputs": [],
   "source": [
    "# Moving on to Malaysia"
   ]
  },
  {
   "cell_type": "code",
   "execution_count": 290,
   "metadata": {
    "collapsed": true
   },
   "outputs": [],
   "source": [
    "concat2 = pd.concat([concat2,pg12])"
   ]
  },
  {
   "cell_type": "code",
   "execution_count": 291,
   "metadata": {},
   "outputs": [
    {
     "data": {
      "text/plain": [
       "(233, 8)"
      ]
     },
     "execution_count": 291,
     "metadata": {},
     "output_type": "execute_result"
    }
   ],
   "source": [
    "concat2.shape"
   ]
  },
  {
   "cell_type": "code",
   "execution_count": 292,
   "metadata": {
    "collapsed": true
   },
   "outputs": [],
   "source": [
    "concat2['Index'] = np.arange(concat2.shape[0])"
   ]
  },
  {
   "cell_type": "code",
   "execution_count": 294,
   "metadata": {
    "collapsed": true
   },
   "outputs": [],
   "source": [
    "concat2.set_index('Index', inplace=True)"
   ]
  },
  {
   "cell_type": "code",
   "execution_count": 298,
   "metadata": {},
   "outputs": [
    {
     "data": {
      "text/plain": [
       "Int64Index([  0,   1,   2,   3,   4,   5,   6,   7,   8,   9,\n",
       "            ...\n",
       "            223, 224, 225, 226, 227, 228, 229, 230, 231, 232],\n",
       "           dtype='int64', name=u'Index', length=233)"
      ]
     },
     "execution_count": 298,
     "metadata": {},
     "output_type": "execute_result"
    }
   ],
   "source": [
    "concat2.index"
   ]
  },
  {
   "cell_type": "code",
   "execution_count": 300,
   "metadata": {
    "collapsed": true
   },
   "outputs": [],
   "source": [
    "mal_jobst = concat2.to_csv('mal_jobst', columns= concat2.columns, index=list(concat2.index), encoding='utf8')"
   ]
  },
  {
   "cell_type": "code",
   "execution_count": null,
   "metadata": {
    "collapsed": true
   },
   "outputs": [],
   "source": [
    "#Philippines"
   ]
  },
  {
   "cell_type": "code",
   "execution_count": 430,
   "metadata": {},
   "outputs": [
    {
     "data": {
      "text/html": [
       "<div>\n",
       "<style>\n",
       "    .dataframe thead tr:only-child th {\n",
       "        text-align: right;\n",
       "    }\n",
       "\n",
       "    .dataframe thead th {\n",
       "        text-align: left;\n",
       "    }\n",
       "\n",
       "    .dataframe tbody tr th {\n",
       "        vertical-align: top;\n",
       "    }\n",
       "</style>\n",
       "<table border=\"1\" class=\"dataframe\">\n",
       "  <thead>\n",
       "    <tr style=\"text-align: right;\">\n",
       "      <th></th>\n",
       "      <th>job_title</th>\n",
       "      <th>company</th>\n",
       "      <th>location</th>\n",
       "      <th>salary</th>\n",
       "      <th>industry</th>\n",
       "      <th>experience</th>\n",
       "      <th>company_size</th>\n",
       "      <th>job_description</th>\n",
       "    </tr>\n",
       "    <tr>\n",
       "      <th>Index</th>\n",
       "      <th></th>\n",
       "      <th></th>\n",
       "      <th></th>\n",
       "      <th></th>\n",
       "      <th></th>\n",
       "      <th></th>\n",
       "      <th></th>\n",
       "      <th></th>\n",
       "    </tr>\n",
       "  </thead>\n",
       "  <tbody>\n",
       "    <tr>\n",
       "      <th>0</th>\n",
       "      <td>Data Analyst (Energy)</td>\n",
       "      <td>S&amp;P Global</td>\n",
       "      <td>National Capital Reg</td>\n",
       "      <td>PHP 25,000 - PHP 30,000</td>\n",
       "      <td>Banking/Financial Services</td>\n",
       "      <td>Less than 1 year experience</td>\n",
       "      <td>501 - 1000 Employees</td>\n",
       "      <td>The Role:  As an Analyst for Energy Content O...</td>\n",
       "    </tr>\n",
       "    <tr>\n",
       "      <th>1</th>\n",
       "      <td>Sports / Data Analyst</td>\n",
       "      <td>Chromelab Technologies Inc.</td>\n",
       "      <td>Makati City  (National Capital Reg) - 25 / F T...</td>\n",
       "      <td>PHP 15,000 - PHP 19,500</td>\n",
       "      <td>Call Center/IT-Enabled Services/BPO</td>\n",
       "      <td>Min 1 year (1-4 Yrs Experienced Employee)</td>\n",
       "      <td>501 - 1000 Employees</td>\n",
       "      <td>\\n\\nResponsibilities:\\n\\nResearch and compile...</td>\n",
       "    </tr>\n",
       "    <tr>\n",
       "      <th>2</th>\n",
       "      <td>Data Analyst</td>\n",
       "      <td>Arch Global Services Inc.</td>\n",
       "      <td>Quezon City  (National Capital Reg) - Quezon A...</td>\n",
       "      <td>NaN</td>\n",
       "      <td>Call Center/IT-Enabled Services/BPO</td>\n",
       "      <td>Min 2 years (1-4 Yrs Experienced Employee)</td>\n",
       "      <td>1001 - 2000 Employees</td>\n",
       "      <td>\\nCandidate must possess at least Bachelor's/...</td>\n",
       "    </tr>\n",
       "    <tr>\n",
       "      <th>3</th>\n",
       "      <td>Accenture is hiring for Data Encoders | Analyst</td>\n",
       "      <td>Accenture</td>\n",
       "      <td>National Capital Reg</td>\n",
       "      <td>Below expected salary</td>\n",
       "      <td>Call Center/IT-Enabled Services/BPO</td>\n",
       "      <td>Less than 1 year experience</td>\n",
       "      <td>More than 5000 Employees</td>\n",
       "      <td>Responsibilities• Responsible for end to end ...</td>\n",
       "    </tr>\n",
       "    <tr>\n",
       "      <th>4</th>\n",
       "      <td>Data Analyst (MOA) | 5816</td>\n",
       "      <td>MicroSourcing</td>\n",
       "      <td>National Capital Reg - Pasay</td>\n",
       "      <td>Below expected salary</td>\n",
       "      <td>Call Center/IT-Enabled Services/BPO</td>\n",
       "      <td>Min 1 year (1-4 Yrs Experienced Employee)</td>\n",
       "      <td>2001 - 5000 Employees</td>\n",
       "      <td>We are looking for Data Analyst who will work...</td>\n",
       "    </tr>\n",
       "  </tbody>\n",
       "</table>\n",
       "</div>"
      ],
      "text/plain": [
       "                                             job_title  \\\n",
       "Index                                                    \n",
       "0                                Data Analyst (Energy)   \n",
       "1                                Sports / Data Analyst   \n",
       "2                                         Data Analyst   \n",
       "3      Accenture is hiring for Data Encoders | Analyst   \n",
       "4                            Data Analyst (MOA) | 5816   \n",
       "\n",
       "                           company  \\\n",
       "Index                                \n",
       "0                       S&P Global   \n",
       "1      Chromelab Technologies Inc.   \n",
       "2        Arch Global Services Inc.   \n",
       "3                        Accenture   \n",
       "4                    MicroSourcing   \n",
       "\n",
       "                                                location  \\\n",
       "Index                                                      \n",
       "0                                   National Capital Reg   \n",
       "1      Makati City  (National Capital Reg) - 25 / F T...   \n",
       "2      Quezon City  (National Capital Reg) - Quezon A...   \n",
       "3                                   National Capital Reg   \n",
       "4                           National Capital Reg - Pasay   \n",
       "\n",
       "                        salary                             industry  \\\n",
       "Index                                                                 \n",
       "0      PHP 25,000 - PHP 30,000           Banking/Financial Services   \n",
       "1      PHP 15,000 - PHP 19,500  Call Center/IT-Enabled Services/BPO   \n",
       "2                          NaN  Call Center/IT-Enabled Services/BPO   \n",
       "3        Below expected salary  Call Center/IT-Enabled Services/BPO   \n",
       "4        Below expected salary  Call Center/IT-Enabled Services/BPO   \n",
       "\n",
       "                                       experience              company_size  \\\n",
       "Index                                                                         \n",
       "0                     Less than 1 year experience      501 - 1000 Employees   \n",
       "1       Min 1 year (1-4 Yrs Experienced Employee)      501 - 1000 Employees   \n",
       "2      Min 2 years (1-4 Yrs Experienced Employee)     1001 - 2000 Employees   \n",
       "3                     Less than 1 year experience  More than 5000 Employees   \n",
       "4       Min 1 year (1-4 Yrs Experienced Employee)     2001 - 5000 Employees   \n",
       "\n",
       "                                         job_description  \n",
       "Index                                                     \n",
       "0       The Role:  As an Analyst for Energy Content O...  \n",
       "1       \\n\\nResponsibilities:\\n\\nResearch and compile...  \n",
       "2       \\nCandidate must possess at least Bachelor's/...  \n",
       "3       Responsibilities• Responsible for end to end ...  \n",
       "4       We are looking for Data Analyst who will work...  "
      ]
     },
     "execution_count": 430,
     "metadata": {},
     "output_type": "execute_result"
    }
   ],
   "source": [
    "concat3.head()"
   ]
  },
  {
   "cell_type": "code",
   "execution_count": 432,
   "metadata": {
    "collapsed": true
   },
   "outputs": [],
   "source": [
    "phil_jobst = concat3.to_csv('phil_jobst', columns= concat3.columns, index=list(concat3.index), encoding='utf-8')"
   ]
  },
  {
   "cell_type": "code",
   "execution_count": null,
   "metadata": {
    "collapsed": true
   },
   "outputs": [],
   "source": [
    "# Indonesia"
   ]
  },
  {
   "cell_type": "code",
   "execution_count": 437,
   "metadata": {
    "collapsed": true
   },
   "outputs": [],
   "source": [
    "driver.get('https://www.jobstreet.co.id/en/job-search/job-vacancy.php?ojs=2&key=data+analyst')\n",
    "source = driver.page_source\n",
    "soup = BeautifulSoup(source, \"html.parser\")\n",
    "info = soup.findAll('div', {'class':'panel-body'})"
   ]
  },
  {
   "cell_type": "code",
   "execution_count": 438,
   "metadata": {
    "collapsed": true
   },
   "outputs": [],
   "source": [
    "a,b,c,d = jjobs(info)"
   ]
  },
  {
   "cell_type": "code",
   "execution_count": 439,
   "metadata": {
    "collapsed": true
   },
   "outputs": [],
   "source": [
    "e,f,g,h,i = get_info(d)"
   ]
  },
  {
   "cell_type": "code",
   "execution_count": 440,
   "metadata": {
    "collapsed": true
   },
   "outputs": [],
   "source": [
    "pg1 = dataframe(a,b,c,e,f,g,h,i)"
   ]
  },
  {
   "cell_type": "code",
   "execution_count": 442,
   "metadata": {
    "collapsed": true
   },
   "outputs": [],
   "source": [
    "driver.get('https://www.jobstreet.co.id/en/job-search/job-vacancy.php?key=data+analyst&area=1&option=1&job-source=1%2C64&classified=1&job-posted=0&sort=2&order=0&pg=2&src=16&ojs=2')\n",
    "source = driver.page_source\n",
    "soup = BeautifulSoup(source, \"html.parser\")\n",
    "info = soup.findAll('div', {'class':'panel-body'})"
   ]
  },
  {
   "cell_type": "code",
   "execution_count": 443,
   "metadata": {
    "collapsed": true
   },
   "outputs": [],
   "source": [
    "a,b,c,d = jjobs(info)"
   ]
  },
  {
   "cell_type": "code",
   "execution_count": 444,
   "metadata": {
    "collapsed": true
   },
   "outputs": [],
   "source": [
    "e,f,g,h,i = get_info(d)"
   ]
  },
  {
   "cell_type": "code",
   "execution_count": 445,
   "metadata": {
    "collapsed": true
   },
   "outputs": [],
   "source": [
    "pg2 = dataframe(a,b,c,e,f,g,h,i)"
   ]
  },
  {
   "cell_type": "code",
   "execution_count": 446,
   "metadata": {
    "collapsed": true
   },
   "outputs": [],
   "source": [
    "driver.get('https://www.jobstreet.co.id/en/job-search/job-vacancy.php?key=data+analyst&area=1&option=1&job-source=1%2C64&classified=1&job-posted=0&sort=2&order=0&pg=3&src=16&srcr=16&ojs=2')\n",
    "source = driver.page_source\n",
    "soup = BeautifulSoup(source, \"html.parser\")\n",
    "info = soup.findAll('div', {'class':'panel-body'})"
   ]
  },
  {
   "cell_type": "code",
   "execution_count": 447,
   "metadata": {
    "collapsed": true
   },
   "outputs": [],
   "source": [
    "a,b,c,d = jjobs(info)"
   ]
  },
  {
   "cell_type": "code",
   "execution_count": 448,
   "metadata": {
    "collapsed": true
   },
   "outputs": [],
   "source": [
    "e,f,g,h,i = get_info(d)"
   ]
  },
  {
   "cell_type": "code",
   "execution_count": 449,
   "metadata": {
    "collapsed": true
   },
   "outputs": [],
   "source": [
    "pg3 = dataframe(a,b,c,e,f,g,h,i)"
   ]
  },
  {
   "cell_type": "code",
   "execution_count": 450,
   "metadata": {
    "collapsed": true
   },
   "outputs": [],
   "source": [
    "driver.get('https://www.jobstreet.co.id/en/job-search/job-vacancy.php?key=data+analyst&area=1&option=1&job-source=1%2C64&classified=1&job-posted=0&sort=2&order=0&pg=4&src=16&srcr=16&ojs=2')\n",
    "source = driver.page_source\n",
    "soup = BeautifulSoup(source, \"html.parser\")\n",
    "info = soup.findAll('div', {'class':'panel-body'})"
   ]
  },
  {
   "cell_type": "code",
   "execution_count": 451,
   "metadata": {
    "collapsed": true
   },
   "outputs": [],
   "source": [
    "a,b,c,d = jjobs(info)"
   ]
  },
  {
   "cell_type": "code",
   "execution_count": 452,
   "metadata": {
    "collapsed": true
   },
   "outputs": [],
   "source": [
    "e,f,g,h,i = get_info(d)"
   ]
  },
  {
   "cell_type": "code",
   "execution_count": 453,
   "metadata": {
    "collapsed": true
   },
   "outputs": [],
   "source": [
    "pg4 = dataframe(a,b,c,e,f,g,h,i)"
   ]
  },
  {
   "cell_type": "code",
   "execution_count": 454,
   "metadata": {
    "collapsed": true
   },
   "outputs": [],
   "source": [
    "driver.get('https://www.jobstreet.co.id/en/job-search/job-vacancy.php?key=data+analyst&area=1&option=1&job-source=1%2C64&classified=1&job-posted=0&sort=2&order=0&pg=5&src=16&srcr=16&ojs=2')\n",
    "source = driver.page_source\n",
    "soup = BeautifulSoup(source, \"html.parser\")\n",
    "info = soup.findAll('div', {'class':'panel-body'})"
   ]
  },
  {
   "cell_type": "code",
   "execution_count": 455,
   "metadata": {
    "collapsed": true
   },
   "outputs": [],
   "source": [
    "a,b,c,d = jjobs(info)"
   ]
  },
  {
   "cell_type": "code",
   "execution_count": 456,
   "metadata": {
    "collapsed": true
   },
   "outputs": [],
   "source": [
    "e,f,g,h,i = get_info(d)"
   ]
  },
  {
   "cell_type": "code",
   "execution_count": 457,
   "metadata": {
    "collapsed": true
   },
   "outputs": [],
   "source": [
    "pg5 = dataframe(a,b,c,e,f,g,h,i)"
   ]
  },
  {
   "cell_type": "code",
   "execution_count": 458,
   "metadata": {
    "collapsed": true
   },
   "outputs": [],
   "source": [
    "driver.get('https://www.jobstreet.co.id/en/job-search/job-vacancy.php?ojs=10&key=data+scientist')\n",
    "source = driver.page_source\n",
    "soup = BeautifulSoup(source, \"html.parser\")\n",
    "info = soup.findAll('div', {'class':'panel-body'})"
   ]
  },
  {
   "cell_type": "code",
   "execution_count": 459,
   "metadata": {
    "collapsed": true
   },
   "outputs": [],
   "source": [
    "a,b,c,d = jjobs(info)"
   ]
  },
  {
   "cell_type": "code",
   "execution_count": 460,
   "metadata": {
    "collapsed": true
   },
   "outputs": [],
   "source": [
    "e,f,g,h,i = get_info(d)"
   ]
  },
  {
   "cell_type": "code",
   "execution_count": 461,
   "metadata": {
    "collapsed": true
   },
   "outputs": [],
   "source": [
    "pg6 = dataframe(a,b,c,e,f,g,h,i)"
   ]
  },
  {
   "cell_type": "code",
   "execution_count": 462,
   "metadata": {
    "collapsed": true
   },
   "outputs": [],
   "source": [
    "driver.get('https://www.jobstreet.co.id/en/job-search/job-vacancy.php?ojs=10&key=data+engineer')\n",
    "source = driver.page_source\n",
    "soup = BeautifulSoup(source, \"html.parser\")\n",
    "info = soup.findAll('div', {'class':'panel-body'})"
   ]
  },
  {
   "cell_type": "code",
   "execution_count": 463,
   "metadata": {
    "collapsed": true
   },
   "outputs": [],
   "source": [
    "a,b,c,d = jjobs(info)"
   ]
  },
  {
   "cell_type": "code",
   "execution_count": 464,
   "metadata": {
    "collapsed": true
   },
   "outputs": [],
   "source": [
    "e,f,g,h,i = get_info(d)"
   ]
  },
  {
   "cell_type": "code",
   "execution_count": 465,
   "metadata": {
    "collapsed": true
   },
   "outputs": [],
   "source": [
    "pg7 = dataframe(a,b,c,e,f,g,h,i)"
   ]
  },
  {
   "cell_type": "code",
   "execution_count": 466,
   "metadata": {
    "collapsed": true
   },
   "outputs": [],
   "source": [
    "concat1 = pd.concat([pg1,pg2,pg3,pg4,pg5,pg6,pg7])"
   ]
  },
  {
   "cell_type": "code",
   "execution_count": 492,
   "metadata": {},
   "outputs": [
    {
     "name": "stdout",
     "output_type": "stream",
     "text": [
      "<class 'pandas.core.frame.DataFrame'>\n",
      "Int64Index: 133 entries, 0 to 19\n",
      "Data columns (total 8 columns):\n",
      "job_title          133 non-null object\n",
      "company            133 non-null object\n",
      "location           133 non-null object\n",
      "salary             50 non-null object\n",
      "industry           133 non-null object\n",
      "experience         133 non-null object\n",
      "company_size       133 non-null object\n",
      "job_description    133 non-null object\n",
      "dtypes: object(8)\n",
      "memory usage: 9.4+ KB\n"
     ]
    }
   ],
   "source": [
    "concat1.info()"
   ]
  },
  {
   "cell_type": "code",
   "execution_count": 469,
   "metadata": {
    "collapsed": true
   },
   "outputs": [],
   "source": [
    "driver.get('https://www.jobstreet.co.id/en/job-search/job-vacancy.php?key=business+analyst&area=1&option=1&job-source=1%2C64&classified=1&job-posted=0&sort=2&order=0&pg=1&src=16&srcr=16&ojs=10&ojs=10')\n",
    "source = driver.page_source\n",
    "soup = BeautifulSoup(source, \"html.parser\")\n",
    "info = soup.findAll('div', {'class':'panel-body'})"
   ]
  },
  {
   "cell_type": "code",
   "execution_count": 470,
   "metadata": {
    "collapsed": true
   },
   "outputs": [],
   "source": [
    "a,b,c,d = jjobs(info)"
   ]
  },
  {
   "cell_type": "code",
   "execution_count": 471,
   "metadata": {
    "collapsed": true
   },
   "outputs": [],
   "source": [
    "e,f,g,h,i = get_info(d)"
   ]
  },
  {
   "cell_type": "code",
   "execution_count": 472,
   "metadata": {
    "collapsed": true
   },
   "outputs": [],
   "source": [
    "pg8 = dataframe(a,b,c,e,f,g,h,i)"
   ]
  },
  {
   "cell_type": "code",
   "execution_count": 473,
   "metadata": {
    "collapsed": true
   },
   "outputs": [],
   "source": [
    "driver.get('https://www.jobstreet.co.id/en/job-search/job-vacancy.php?key=business+analyst&area=1&option=1&job-source=1%2C64&classified=1&job-posted=0&sort=2&order=0&pg=2&src=16&srcr=16&ojs=10')\n",
    "source = driver.page_source\n",
    "soup = BeautifulSoup(source, \"html.parser\")\n",
    "info = soup.findAll('div', {'class':'panel-body'})"
   ]
  },
  {
   "cell_type": "code",
   "execution_count": 474,
   "metadata": {
    "collapsed": true
   },
   "outputs": [],
   "source": [
    "a,b,c,d = jjobs(info)"
   ]
  },
  {
   "cell_type": "code",
   "execution_count": 475,
   "metadata": {
    "collapsed": true
   },
   "outputs": [],
   "source": [
    "e,f,g,h,i = get_info(d)"
   ]
  },
  {
   "cell_type": "code",
   "execution_count": 476,
   "metadata": {
    "collapsed": true
   },
   "outputs": [],
   "source": [
    "pg9 = dataframe(a,b,c,e,f,g,h,i)"
   ]
  },
  {
   "cell_type": "code",
   "execution_count": 477,
   "metadata": {
    "collapsed": true
   },
   "outputs": [],
   "source": [
    "driver.get('https://www.jobstreet.co.id/en/job-search/job-vacancy.php?key=business+analyst&area=1&option=1&job-source=1%2C64&classified=1&job-posted=0&sort=2&order=0&pg=3&src=16&srcr=16&ojs=10')\n",
    "source = driver.page_source\n",
    "soup = BeautifulSoup(source, \"html.parser\")\n",
    "info = soup.findAll('div', {'class':'panel-body'})"
   ]
  },
  {
   "cell_type": "code",
   "execution_count": 478,
   "metadata": {
    "collapsed": true
   },
   "outputs": [],
   "source": [
    "a,b,c,d = jjobs(info)"
   ]
  },
  {
   "cell_type": "code",
   "execution_count": 479,
   "metadata": {
    "collapsed": true
   },
   "outputs": [],
   "source": [
    "e,f,g,h,i = get_info(d)"
   ]
  },
  {
   "cell_type": "code",
   "execution_count": 480,
   "metadata": {
    "collapsed": true
   },
   "outputs": [],
   "source": [
    "pg10 = dataframe(a,b,c,e,f,g,h,i)"
   ]
  },
  {
   "cell_type": "code",
   "execution_count": 481,
   "metadata": {
    "collapsed": true
   },
   "outputs": [],
   "source": [
    "driver.get('https://www.jobstreet.co.id/en/job-search/job-vacancy.php?key=business+analyst&area=1&option=1&job-source=1%2C64&classified=1&job-posted=0&sort=2&order=0&pg=4&src=16&srcr=16&ojs=10')\n",
    "source = driver.page_source\n",
    "soup = BeautifulSoup(source, \"html.parser\")\n",
    "info = soup.findAll('div', {'class':'panel-body'})"
   ]
  },
  {
   "cell_type": "code",
   "execution_count": 482,
   "metadata": {
    "collapsed": true
   },
   "outputs": [],
   "source": [
    "a,b,c,d = jjobs(info)"
   ]
  },
  {
   "cell_type": "code",
   "execution_count": 483,
   "metadata": {
    "collapsed": true
   },
   "outputs": [],
   "source": [
    "e,f,g,h,i = get_info(d)"
   ]
  },
  {
   "cell_type": "code",
   "execution_count": 484,
   "metadata": {
    "collapsed": true
   },
   "outputs": [],
   "source": [
    "pg11 = dataframe(a,b,c,e,f,g,h,i)"
   ]
  },
  {
   "cell_type": "code",
   "execution_count": 485,
   "metadata": {
    "collapsed": true
   },
   "outputs": [],
   "source": [
    "driver.get('https://www.jobstreet.co.id/en/job-search/job-vacancy.php?key=business+analyst&area=1&option=1&job-source=1%2C64&classified=1&job-posted=0&sort=2&order=0&pg=5&src=16&srcr=16&ojs=10')\n",
    "source = driver.page_source\n",
    "soup = BeautifulSoup(source, \"html.parser\")\n",
    "info = soup.findAll('div', {'class':'panel-body'})"
   ]
  },
  {
   "cell_type": "code",
   "execution_count": 486,
   "metadata": {
    "collapsed": true
   },
   "outputs": [],
   "source": [
    "a,b,c,d = jjobs(info)"
   ]
  },
  {
   "cell_type": "code",
   "execution_count": 487,
   "metadata": {
    "collapsed": true
   },
   "outputs": [],
   "source": [
    "e,f,g,h,i = get_info(d)"
   ]
  },
  {
   "cell_type": "code",
   "execution_count": 488,
   "metadata": {
    "collapsed": true
   },
   "outputs": [],
   "source": [
    "pg12 = dataframe(a,b,c,e,f,g,h,i)"
   ]
  },
  {
   "cell_type": "code",
   "execution_count": 489,
   "metadata": {
    "collapsed": true
   },
   "outputs": [],
   "source": [
    "concat2 = pd.concat([concat1,pg8,pg9,pg10,pg11,pg12])"
   ]
  },
  {
   "cell_type": "code",
   "execution_count": 491,
   "metadata": {},
   "outputs": [
    {
     "name": "stdout",
     "output_type": "stream",
     "text": [
      "<class 'pandas.core.frame.DataFrame'>\n",
      "Int64Index: 233 entries, 0 to 19\n",
      "Data columns (total 8 columns):\n",
      "job_title          233 non-null object\n",
      "company            233 non-null object\n",
      "location           233 non-null object\n",
      "salary             86 non-null object\n",
      "industry           228 non-null object\n",
      "experience         229 non-null object\n",
      "company_size       233 non-null object\n",
      "job_description    229 non-null object\n",
      "dtypes: object(8)\n",
      "memory usage: 16.4+ KB\n"
     ]
    }
   ],
   "source": [
    "concat2.info()"
   ]
  },
  {
   "cell_type": "code",
   "execution_count": 493,
   "metadata": {
    "collapsed": true
   },
   "outputs": [],
   "source": [
    "concat2['Index'] = np.arange(concat2.shape[0])"
   ]
  },
  {
   "cell_type": "code",
   "execution_count": 494,
   "metadata": {
    "collapsed": true
   },
   "outputs": [],
   "source": [
    "concat2.set_index('Index', inplace=True)"
   ]
  },
  {
   "cell_type": "code",
   "execution_count": 495,
   "metadata": {},
   "outputs": [
    {
     "data": {
      "text/html": [
       "<div>\n",
       "<style>\n",
       "    .dataframe thead tr:only-child th {\n",
       "        text-align: right;\n",
       "    }\n",
       "\n",
       "    .dataframe thead th {\n",
       "        text-align: left;\n",
       "    }\n",
       "\n",
       "    .dataframe tbody tr th {\n",
       "        vertical-align: top;\n",
       "    }\n",
       "</style>\n",
       "<table border=\"1\" class=\"dataframe\">\n",
       "  <thead>\n",
       "    <tr style=\"text-align: right;\">\n",
       "      <th></th>\n",
       "      <th>job_title</th>\n",
       "      <th>company</th>\n",
       "      <th>location</th>\n",
       "      <th>salary</th>\n",
       "      <th>industry</th>\n",
       "      <th>experience</th>\n",
       "      <th>company_size</th>\n",
       "      <th>job_description</th>\n",
       "    </tr>\n",
       "    <tr>\n",
       "      <th>Index</th>\n",
       "      <th></th>\n",
       "      <th></th>\n",
       "      <th></th>\n",
       "      <th></th>\n",
       "      <th></th>\n",
       "      <th></th>\n",
       "      <th></th>\n",
       "      <th></th>\n",
       "    </tr>\n",
       "  </thead>\n",
       "  <tbody>\n",
       "    <tr>\n",
       "      <th>0</th>\n",
       "      <td>Data Analyst (Jakarta)</td>\n",
       "      <td>MASPION</td>\n",
       "      <td>Jakarta Pusat (Jakarta Raya) - Gunung Sahari</td>\n",
       "      <td>Below expected salary</td>\n",
       "      <td>Manufacturing/Production</td>\n",
       "      <td>Min 3 years (Staff (non-management &amp; non-super...</td>\n",
       "      <td>More than 5000 Employees</td>\n",
       "      <td>\\nResponsibilities:\\n\\nInterpreting data, ana...</td>\n",
       "    </tr>\n",
       "    <tr>\n",
       "      <th>1</th>\n",
       "      <td>Data Analyst [Marketing] Staff</td>\n",
       "      <td>PT Mandom Indonesia Tbk</td>\n",
       "      <td>Bekasi (Jawa Barat) - Cibitung</td>\n",
       "      <td>NaN</td>\n",
       "      <td>Consumer Products/FMCG</td>\n",
       "      <td>Min 2 years (Staff (non-management &amp; non-super...</td>\n",
       "      <td>2001 - 5000 Employees</td>\n",
       "      <td>\\nJob Scopes :\\n\\nTo collect, perform, and pr...</td>\n",
       "    </tr>\n",
       "  </tbody>\n",
       "</table>\n",
       "</div>"
      ],
      "text/plain": [
       "                            job_title                  company  \\\n",
       "Index                                                            \n",
       "0              Data Analyst (Jakarta)                  MASPION   \n",
       "1      Data Analyst [Marketing] Staff  PT Mandom Indonesia Tbk   \n",
       "\n",
       "                                           location                 salary  \\\n",
       "Index                                                                        \n",
       "0      Jakarta Pusat (Jakarta Raya) - Gunung Sahari  Below expected salary   \n",
       "1                    Bekasi (Jawa Barat) - Cibitung                    NaN   \n",
       "\n",
       "                       industry  \\\n",
       "Index                             \n",
       "0      Manufacturing/Production   \n",
       "1        Consumer Products/FMCG   \n",
       "\n",
       "                                              experience  \\\n",
       "Index                                                      \n",
       "0      Min 3 years (Staff (non-management & non-super...   \n",
       "1      Min 2 years (Staff (non-management & non-super...   \n",
       "\n",
       "                   company_size  \\\n",
       "Index                             \n",
       "0      More than 5000 Employees   \n",
       "1         2001 - 5000 Employees   \n",
       "\n",
       "                                         job_description  \n",
       "Index                                                     \n",
       "0       \\nResponsibilities:\\n\\nInterpreting data, ana...  \n",
       "1       \\nJob Scopes :\\n\\nTo collect, perform, and pr...  "
      ]
     },
     "execution_count": 495,
     "metadata": {},
     "output_type": "execute_result"
    }
   ],
   "source": [
    "concat2.head(2)"
   ]
  },
  {
   "cell_type": "code",
   "execution_count": 496,
   "metadata": {
    "collapsed": true
   },
   "outputs": [],
   "source": [
    "ind_jobst = concat2.to_csv('ind_jobst', columns=concat2.columns, index=list(concat2.index), encoding='utf8')"
   ]
  },
  {
   "cell_type": "code",
   "execution_count": null,
   "metadata": {
    "collapsed": true
   },
   "outputs": [],
   "source": []
  }
 ],
 "metadata": {
  "kernelspec": {
   "display_name": "Python 2",
   "language": "python",
   "name": "python2"
  },
  "language_info": {
   "codemirror_mode": {
    "name": "ipython",
    "version": 2
   },
   "file_extension": ".py",
   "mimetype": "text/x-python",
   "name": "python",
   "nbconvert_exporter": "python",
   "pygments_lexer": "ipython2",
   "version": "2.7.13"
  }
 },
 "nbformat": 4,
 "nbformat_minor": 2
}
