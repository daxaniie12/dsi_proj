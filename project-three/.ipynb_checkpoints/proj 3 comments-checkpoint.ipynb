{
 "cells": [
  {
   "cell_type": "markdown",
   "metadata": {},
   "source": [
    "rank hot encoding instead of one hot encoding for categorical features that are ordinal"
   ]
  },
  {
   "cell_type": "markdown",
   "metadata": {},
   "source": [
    "smote and smoteenn--> generates synthetic data based on bootstrapping--> not a good method for generating dat for minority class since it is synthetic"
   ]
  },
  {
   "cell_type": "markdown",
   "metadata": {},
   "source": [
    "weighted logistic loss to gen new data points for minority class is better--> watch slack video by Indian guy"
   ]
  },
  {
   "cell_type": "code",
   "execution_count": null,
   "metadata": {
    "collapsed": true
   },
   "outputs": [],
   "source": [
    "Filtering: Num features"
   ]
  },
  {
   "cell_type": "markdown",
   "metadata": {},
   "source": [
    "feature engineering: crossed-col--> multiply cat cols together to create new feature"
   ]
  },
  {
   "cell_type": "markdown",
   "metadata": {},
   "source": [
    "Shapiro ranking for correlation <0.1 drop them coz dist not normal "
   ]
  },
  {
   "cell_type": "markdown",
   "metadata": {},
   "source": [
    "num var--> Check for multicollinearity: if VIF >5, drop cols, coz of multicollinearity--> VIF = 1-R2"
   ]
  },
  {
   "cell_type": "code",
   "execution_count": null,
   "metadata": {
    "collapsed": true
   },
   "outputs": [],
   "source": [
    "num variables--> look at dist plot--> if low variance, drop them"
   ]
  },
  {
   "cell_type": "markdown",
   "metadata": {},
   "source": [
    "binary encoding--> helps with curse of dimensionality--> pd.get_dummies creates too many cols, so use binary encoder instead"
   ]
  },
  {
   "cell_type": "markdown",
   "metadata": {},
   "source": [
    "by lookign at learning curve, can see if gt overfitting--> if training score and cross val score close tgt then overfitting--> more training better"
   ]
  },
  {
   "cell_type": "markdown",
   "metadata": {},
   "source": [
    "ROC AUC--> doesnt tell you imbalance in dataset--> F1 score is better"
   ]
  },
  {
   "cell_type": "markdown",
   "metadata": {},
   "source": [
    "cost sensitive modeling--> assign a better scoring system when you correctly identify minority class as compared to majority class"
   ]
  },
  {
   "cell_type": "markdown",
   "metadata": {},
   "source": [
    "boosting doesnt really help with imbalanced data"
   ]
  },
  {
   "cell_type": "code",
   "execution_count": null,
   "metadata": {
    "collapsed": true
   },
   "outputs": [],
   "source": [
    "COSTCLA COSTSENSITIVELOGISTICREGRESSION"
   ]
  }
 ],
 "metadata": {
  "kernelspec": {
   "display_name": "Python 2",
   "language": "python",
   "name": "python2"
  },
  "language_info": {
   "codemirror_mode": {
    "name": "ipython",
    "version": 2
   },
   "file_extension": ".py",
   "mimetype": "text/x-python",
   "name": "python",
   "nbconvert_exporter": "python",
   "pygments_lexer": "ipython2",
   "version": "2.7.13"
  }
 },
 "nbformat": 4,
 "nbformat_minor": 2
}
