{
 "cells": [
  {
   "cell_type": "markdown",
   "metadata": {},
   "source": [
    "<img src=\"http://imgur.com/1ZcRyrc.png\" style=\"float: left; margin: 15px; height: 80px\">\n",
    "\n",
    "# Project 1\n",
    "\n",
    "### Building \"Pokemon Stay\"\n",
    "\n",
    "---\n",
    "You are an analyst at a \"scrappy\" online gaming company that specializes in remakes of last year's fads.\n",
    "\n",
    "Your boss, who runs the product development team, is convinced that Pokemon Go's fatal flaw was that you had to actually move around outside. She has design mock-ups for a new game called Pokemon Stay: in this version players still need to move, but just from website to website. Pokemon gyms are now popular online destinations, and catching Pokemon in the \"wild\" simply requires browsing the internet for hours in the comfort of your home.\n",
    "\n",
    "She wants you to program a prototype version of the game, and analyze the planned content to help the team calibrate the design."
   ]
  },
  {
   "cell_type": "markdown",
   "metadata": {},
   "source": [
    "#### Package imports\n",
    "\n",
    "The pprint package below is the only package imported here, and it's not even strictly required to do any of the project. Printing python variables and objects with pprint can help to format them in a \"prettier\" way."
   ]
  },
  {
   "cell_type": "code",
   "execution_count": 1,
   "metadata": {
    "collapsed": true
   },
   "outputs": [],
   "source": [
    "from pprint import pprint"
   ]
  },
  {
   "cell_type": "markdown",
   "metadata": {},
   "source": [
    "<img src=\"http://imgur.com/l5NasQj.png\" style=\"float: left; margin: 25px 15px 0px 0px; height: 25px\">\n",
    "\n",
    "## 1. Defining a player\n",
    "\n",
    "---\n",
    "\n",
    "The player variables are:\n",
    "\n",
    "    player_id : id code unique to each player (integer)\n",
    "    player_name : entered name of the player (string)\n",
    "    time_played : number of time played the game in minutes (float)\n",
    "    player_pokemon: the player's captured pokemon (dictionary)\n",
    "    gyms_visited: ids of the gyms that a player has visited (list)\n",
    "    \n",
    "Create the components for a player object by defining each of these variables. The dictionary and list variables should just be defined as empty; you can use any (correctly typed) values for the others."
   ]
  },
  {
   "cell_type": "code",
   "execution_count": 2,
   "metadata": {},
   "outputs": [
    {
     "name": "stdout",
     "output_type": "stream",
     "text": [
      "[1, 'Rose', 30.0, {}, []]\n"
     ]
    }
   ],
   "source": [
    "class player(object):\n",
    "    def __init__(self, player_id=type(int), player_name=type(str), time_played=type(float), player_pokemon={}, gyms_visited=[]):\n",
    "        self.player_id = player_id\n",
    "        self.player_name = player_name\n",
    "        self.time_played = time_played\n",
    "        self.player_pokemon = player_pokemon\n",
    "        self.gyms_visited = gyms_visited\n",
    "    \n",
    "    def player_details(self):    \n",
    "        return [self.player_id] + [self.player_name] + [self.time_played] + [self.player_pokemon] + [self.gyms_visited]\n",
    "        \n",
    "player_1 = player(1, 'Rose', 30.0)\n",
    "player_1_details = player_1.player_details()\n",
    "print player_1_details"
   ]
  },
  {
   "cell_type": "markdown",
   "metadata": {},
   "source": [
    "**Comment**: \n",
    ">Created a player object through class player\n",
    "             **-->** player_1 refers to the player object, while player_1_details is a list of the player_1 details"
   ]
  },
  {
   "cell_type": "markdown",
   "metadata": {},
   "source": [
    "<img src=\"http://imgur.com/l5NasQj.png\" style=\"float: left; margin: 25px 15px 0px 0px; height: 25px\">\n",
    "\n",
    "## 2. Defining \"gym\" locations\n",
    "\n",
    "---\n",
    "\n",
    "As the sole programmer, Pokemon Stay will have to start small. To begin, there will be 10 different gym location websites on the internet. The gym locations are:\n",
    "\n",
    "    1. 'reddit.com'\n",
    "    2. 'amazon.com'\n",
    "    3. 'twitter.com'\n",
    "    4. 'linkedin.com'\n",
    "    5. 'ebay.com'\n",
    "    6. 'netflix.com'\n",
    "    7. 'sporcle.com'\n",
    "    8. 'stackoverflow.com'\n",
    "    9. 'github.com'\n",
    "    10. 'quora.com'\n",
    "\n",
    "1. Set up a list of all the gym locations. This will be a list of strings.\n",
    "2. Append two of these locations to your player's list of visited gyms.\n",
    "3. Print the list."
   ]
  },
  {
   "cell_type": "code",
   "execution_count": 3,
   "metadata": {},
   "outputs": [
    {
     "name": "stdout",
     "output_type": "stream",
     "text": [
      "['reddit.com', 'netflix.com']\n",
      "[1, 'Rose', 30.0, {}, ['reddit.com', 'netflix.com']]\n"
     ]
    }
   ],
   "source": [
    "gym_locations = ['reddit.com', 'amazon.com', 'twitter.com', 'linkedin.com', 'ebay.com', 'netflix.com', 'sporcle.com', 'stackoverflow.com', 'github.com', 'quora.com']\n",
    "player_1.gyms_visited.append(gym_locations[0])\n",
    "player_1.gyms_visited.append(gym_locations[5])\n",
    " \n",
    "print player_1.gyms_visited\n",
    "\n",
    "print player_1_details"
   ]
  },
  {
   "cell_type": "markdown",
   "metadata": {},
   "source": [
    "**Comment:** \n",
    ">After appending gyms_visited to player_1 object, the list of the player_1 details is updated as well"
   ]
  },
  {
   "cell_type": "markdown",
   "metadata": {},
   "source": [
    "<img src=\"http://imgur.com/l5NasQj.png\" style=\"float: left; margin: 25px 15px 0px 0px; height: 25px\">\n",
    "\n",
    "## 3. Create a pokedex\n",
    "\n",
    "---\n",
    "\n",
    "We also need to create some pokemon to catch. Each pokemon will be defined by these variables:\n",
    "\n",
    "    pokemon_id : unique identifier for each pokemon (integer)\n",
    "    name : the name of the pokemon (string)\n",
    "    type : the category of pokemon (string)\n",
    "    hp : base hitpoints (integer)\n",
    "    attack : base attack (integer)\n",
    "    defense : base defense (integer)\n",
    "    special_attack : base special attack (integer)\n",
    "    special_defense : base sepecial defense (integer)\n",
    "    speed : base speed (integer)\n",
    "\n",
    "We are only going to create 3 different pokemon with these `pokemon_id` and `pokemon_name` values:\n",
    "\n",
    "    1 : 'charmander'\n",
    "    2 : 'squirtle'\n",
    "    3 : 'bulbasaur'\n",
    "\n",
    "Create a dictionary that will contain the pokemon. The keys of the dictionary will be the `pokemon_id` and the values will themselves dictionaries that contain the other pokemon variables. The structure of the pokedex dictionary will start like so:\n",
    "     \n",
    "     {\n",
    "         1: {\n",
    "                 'name':'charmander',\n",
    "                 'type':'fire',\n",
    "                 ...\n",
    "                 \n",
    "The `type` of charmander, squirtle, and bulbasaur should be `'fire'`, `'water'`, and `'poison'` respectively. The other values are up to you, make them anything you like!\n",
    "\n",
    "Print (or pretty print) the pokedex dictionary with the 3 pokemon."
   ]
  },
  {
   "cell_type": "markdown",
   "metadata": {},
   "source": [
    "**Comments:** \n",
    ">Creating a function called pokedex that accepts lists containing the stats of each pokemon, and then constructs a pokedex dictionary"
   ]
  },
  {
   "cell_type": "code",
   "execution_count": 4,
   "metadata": {},
   "outputs": [
    {
     "name": "stdout",
     "output_type": "stream",
     "text": [
      "{1: {'attack': 40,\n",
      "     'defense': 39,\n",
      "     'hp': 63,\n",
      "     'name': 'charmander',\n",
      "     'pokemon_id': 1,\n",
      "     'special_attack': 70,\n",
      "     'special_defense': 65,\n",
      "     'speed': 51,\n",
      "     'type': 'fire'},\n",
      " 2: {'attack': 51,\n",
      "     'defense': 62,\n",
      "     'hp': 53,\n",
      "     'name': 'squirtle',\n",
      "     'pokemon_id': 2,\n",
      "     'special_attack': 49,\n",
      "     'special_defense': 58,\n",
      "     'speed': 41,\n",
      "     'type': 'water'},\n",
      " 3: {'attack': 55,\n",
      "     'defense': 51,\n",
      "     'hp': 87,\n",
      "     'name': 'bulbasaur',\n",
      "     'pokemon_id': 3,\n",
      "     'special_attack': 72,\n",
      "     'special_defense': 71,\n",
      "     'speed': 48,\n",
      "     'type': 'poison'}}\n"
     ]
    }
   ],
   "source": [
    "# *pokemon accepts lists of the values of the variables for multiple pokemon\n",
    "def pokedex(*pokemon):\n",
    "    poke = {}\n",
    "    pokedex_dictionary = {}\n",
    "    for p in pokemon:\n",
    "        variables = ['pokemon_id','name', 'type', 'hp', 'attack', 'defense', 'special_attack', 'special_defense', 'speed']\n",
    "        pokedex_dictionary[p[0]] = {}\n",
    "        for var,q in zip(variables, p):\n",
    "            poke[var] = q  \n",
    "        pokedex_dictionary[p[0]].update(poke)\n",
    "    return pokedex_dictionary\n",
    "\n",
    "char = [1, 'charmander', 'fire', 63, 40, 39, 70, 65, 51]\n",
    "squir = [2, 'squirtle', 'water', 53, 51, 62, 49, 58, 41]\n",
    "bulb = [3, 'bulbasaur', 'poison', 87, 55, 51, 72, 71, 48]\n",
    "\n",
    "pokedex_x = pokedex(char, squir, bulb)\n",
    "pprint(pokedex_x)"
   ]
  },
  {
   "cell_type": "markdown",
   "metadata": {},
   "source": [
    "<img src=\"http://imgur.com/l5NasQj.png\" style=\"float: left; margin: 25px 15px 0px 0px; height: 25px\">\n",
    "\n",
    "## 4. Create a data structure for players\n",
    "\n",
    "---\n",
    "\n",
    "### 4.1 \n",
    "\n",
    "In order to maintain a database of multiple players, create a dictionary that keeps track of players indexed by `player_id`. \n",
    "\n",
    "The keys of the dictionary will be `player_id` and values will be dictionaries containing each player's variables (from question 1). \n",
    "\n",
    "Construct the `players` dictionary and insert the player that you defined in question 1, then print `players`."
   ]
  },
  {
   "cell_type": "markdown",
   "metadata": {},
   "source": [
    "**Comments:**\n",
    ">To create a players dictionary, refer to the template below. \n",
    ">First, a player object called player_n *(where 'n' in player_n refers to the player id)* is created through the class player. \n",
    "> Next, the details of each player object is added to the players dictionary using the template below.\n",
    "\n",
    "**--> players_template** = {id:{'player_id': player_n.player_details()[0], 'player_name': player_n.player_details()[1], 'time_played': player_n.player_details()[2], 'player_pokemon': player_n.player_details()[3], 'gyms_visited':player_n.player_details()[4]}}"
   ]
  },
  {
   "cell_type": "code",
   "execution_count": 5,
   "metadata": {},
   "outputs": [
    {
     "name": "stdout",
     "output_type": "stream",
     "text": [
      "{1: {'gyms_visited': ['reddit.com', 'netflix.com'],\n",
      "     'player_id': 1,\n",
      "     'player_name': 'Rose',\n",
      "     'player_pokemon': {},\n",
      "     'time_played': 30.0}}\n"
     ]
    }
   ],
   "source": [
    "players = {1:{'player_id': player_1.player_details()[0], 'player_name': player_1.player_details()[1], 'time_played': player_1.player_details()[2], 'player_pokemon': player_1.player_details()[3], 'gyms_visited':player_1.player_details()[4]}}\n",
    "pprint(players)"
   ]
  },
  {
   "cell_type": "markdown",
   "metadata": {},
   "source": [
    "---\n",
    "\n",
    "### 4.2\n",
    "\n",
    "Create a new player with `player_id = 2` in the `players` dictionary. Leave the `'player_pokemon'` dictionary empty. Append `'alcatraz'` and `'pacific_beach'` to the `'gyms_visited'` list for player 2.\n",
    "\n",
    "The `'player_name'` and `'time_played'` values are up to you, but must be a string and float, respectively.\n",
    "\n",
    "Remember, the player_id is the key for the player in the players dictionary.\n",
    "\n",
    "Print the `players` dictionary with the new player inserted."
   ]
  },
  {
   "cell_type": "markdown",
   "metadata": {},
   "source": [
    "**Comments:** \n",
    ">Create a player_2 object through the class player and pass player_2_details into players dictionary using template defined above."
   ]
  },
  {
   "cell_type": "code",
   "execution_count": 6,
   "metadata": {},
   "outputs": [
    {
     "name": "stdout",
     "output_type": "stream",
     "text": [
      "{1: {'gyms_visited': ['reddit.com', 'netflix.com'],\n",
      "     'player_id': 1,\n",
      "     'player_name': 'Rose',\n",
      "     'player_pokemon': {},\n",
      "     'time_played': 30.0},\n",
      " 2: {'gyms_visited': ['alcatraz', 'pacific_beach'],\n",
      "     'player_id': 2,\n",
      "     'player_name': 'Berry',\n",
      "     'player_pokemon': {},\n",
      "     'time_played': 45.0}}\n"
     ]
    }
   ],
   "source": [
    "player_2 = player(2, 'Berry', 45.0, {}, ['alcatraz', 'pacific_beach'])\n",
    "\n",
    "players[2] = {'player_id': player_2.player_details()[0], 'player_name': player_2.player_details()[1], 'time_played': player_2.player_details()[2], 'player_pokemon': player_2.player_details()[3], 'gyms_visited':player_2.player_details()[4]}\n",
    "pprint(players)"
   ]
  },
  {
   "cell_type": "markdown",
   "metadata": {},
   "source": [
    "<img src=\"http://imgur.com/l5NasQj.png\" style=\"float: left; margin: 25px 15px 0px 0px; height: 25px\">\n",
    "\n",
    "## 5. Add captured pokemon for each player\n",
    "\n",
    "---\n",
    "\n",
    "The `'player_pokemon'` keyed dictionaries for each player keep track of which of the pokemon each player has.\n",
    "\n",
    "The keys of the `'player_pokemon'` dictionaries are the pokemon ids that correspond to the ids in the `pokedex` dictionary you created earlier. The values are integers specifying the stats for the pokemon.\n",
    "\n",
    "Give player 1 a squirtle. Give player 2 charmander and a bulbasaur.\n",
    "\n",
    "Print the players dictionary after adding the pokemon for each player.\n"
   ]
  },
  {
   "cell_type": "markdown",
   "metadata": {},
   "source": [
    "**Comments:** \n",
    ">pokedex_x is a dictionary created in qn 3 above."
   ]
  },
  {
   "cell_type": "code",
   "execution_count": 7,
   "metadata": {},
   "outputs": [
    {
     "name": "stdout",
     "output_type": "stream",
     "text": [
      "{1: {'gyms_visited': ['reddit.com', 'netflix.com'],\n",
      "     'player_id': 1,\n",
      "     'player_name': 'Rose',\n",
      "     'player_pokemon': {2: {'attack': 51,\n",
      "                            'defense': 62,\n",
      "                            'hp': 53,\n",
      "                            'name': 'squirtle',\n",
      "                            'pokemon_id': 2,\n",
      "                            'special_attack': 49,\n",
      "                            'special_defense': 58,\n",
      "                            'speed': 41,\n",
      "                            'type': 'water'}},\n",
      "     'time_played': 30.0},\n",
      " 2: {'gyms_visited': ['alcatraz', 'pacific_beach'],\n",
      "     'player_id': 2,\n",
      "     'player_name': 'Berry',\n",
      "     'player_pokemon': {1: {'attack': 40,\n",
      "                            'defense': 39,\n",
      "                            'hp': 63,\n",
      "                            'name': 'charmander',\n",
      "                            'pokemon_id': 1,\n",
      "                            'special_attack': 70,\n",
      "                            'special_defense': 65,\n",
      "                            'speed': 51,\n",
      "                            'type': 'fire'},\n",
      "                        3: {'attack': 55,\n",
      "                            'defense': 51,\n",
      "                            'hp': 87,\n",
      "                            'name': 'bulbasaur',\n",
      "                            'pokemon_id': 3,\n",
      "                            'special_attack': 72,\n",
      "                            'special_defense': 71,\n",
      "                            'speed': 48,\n",
      "                            'type': 'poison'}},\n",
      "     'time_played': 45.0}}\n"
     ]
    }
   ],
   "source": [
    "# pokedex\n",
    "pokedex_x = pokedex(char, squir, bulb)\n",
    "\n",
    "# Giving player_1 a squirtle, and player_2 a charmander and bulbasaur\n",
    "players[1]['player_pokemon'][2] = pokedex_x[2]\n",
    "players[2]['player_pokemon'][1] = pokedex_x[1]\n",
    "players[2]['player_pokemon'][3] = pokedex_x[3]\n",
    "pprint(players)"
   ]
  },
  {
   "cell_type": "markdown",
   "metadata": {},
   "source": [
    "\n",
    "\n",
    "## 6. What gyms have players visited?\n",
    "\n",
    "---\n",
    "<img src=\"http://imgur.com/l5NasQj.png\" style=\"float: left; margin: 25px 15px 0px 0px; height: 25px\">\n",
    "### 6.1\n",
    "\n",
    "Write a for-loop that:\n",
    "\n",
    "1. Iterates through the `pokemon_gyms` list of gym locations you defined before.\n",
    "2. For each gym, iterate through each player in the `players` dictionary with a second, internal for-loop.\n",
    "3. If the player has visited the gym, print out \"[player] has visited [gym location].\", filling in [player] and [gym location] with the current player's name and current gym location."
   ]
  },
  {
   "cell_type": "markdown",
   "metadata": {},
   "source": [
    "**Comments:** \n",
    "    > Only Rose(player_1) has visited the gyms in gym_locations"
   ]
  },
  {
   "cell_type": "code",
   "execution_count": 8,
   "metadata": {},
   "outputs": [
    {
     "name": "stdout",
     "output_type": "stream",
     "text": [
      "Rose has visited reddit.com\n",
      "Rose has visited netflix.com\n"
     ]
    }
   ],
   "source": [
    "for gym in gym_locations:\n",
    "    for player in players:\n",
    "        if gym in players[player]['gyms_visited']:\n",
    "            print players[player]['player_name'] + \" has visited \" + gym"
   ]
  },
  {
   "cell_type": "markdown",
   "metadata": {},
   "source": [
    "<img src=\"http://imgur.com/xDpSobf.png\" style=\"float: left; margin: 25px 15px 0px 0px; height: 25px\">\n",
    "### 6.2\n",
    "\n",
    "How many times did that loop run? If you have N gyms and also N players, how many times would it run as a function of N?\n",
    "\n",
    "Can you think of a more efficient way to accomplish the same thing? \n",
    "\n",
    "(You can write your answer as Markdown text.)"
   ]
  },
  {
   "cell_type": "markdown",
   "metadata": {
    "collapsed": true
   },
   "source": [
    "**Ans:** \n",
    ">The loop ran 20 times in total, 10 times for each player. When you have N gyms and N players, the loop would run (N multiplied by N times). \n",
    "\n",
    ">A more efficient way without looping would be to use sets in a single for loop. First, in a single for loop, the gyms_visited by each player will be isolated and stored in a variable. A set containing gyms_visited by player and a set containing gym_locations will be compared to identify the common elements in each. See code below."
   ]
  },
  {
   "cell_type": "code",
   "execution_count": 9,
   "metadata": {},
   "outputs": [
    {
     "name": "stdout",
     "output_type": "stream",
     "text": [
      "Rose has visited netflix.com, reddit.com\n",
      "Berry has visited \n"
     ]
    }
   ],
   "source": [
    "for player in players:\n",
    "    x = set(players[player]['gyms_visited'])\n",
    "    z = set(gym_locations)\n",
    "    print players[player]['player_name'] + \" has visited \" + ', '.join(z.intersection(x))"
   ]
  },
  {
   "cell_type": "markdown",
   "metadata": {},
   "source": [
    "<img src=\"http://imgur.com/l5NasQj.png\" style=\"float: left; margin: 25px 15px 0px 0px; height: 25px\">\n",
    "\n",
    "## 7. Calculate player \"power\".\n",
    "\n",
    "---\n",
    "\n",
    "Define a function that will calculate a player's \"power\". Player power is defined as the sum of the base statistics all of their pokemon.\n",
    "\n",
    "Your function will:\n",
    "\n",
    "1. Accept the `players` dictionary, `pokedex` dictionary, and a player_id as arguments.\n",
    "2. For the specified player_id, look up that player's pokemon and their level(s).\n",
    "3. Find and aggregate the attack and defense values for each of the player's pokemon from the `pokedex` dictionary.\n",
    "4. Print \"[player name]'s power is [player power].\", where the player power is the sum of the base statistics for all of their pokemon.\n",
    "5. Return the player's power value.\n",
    "\n",
    "Print out the pokemon power for each of your players."
   ]
  },
  {
   "cell_type": "code",
   "execution_count": 10,
   "metadata": {},
   "outputs": [
    {
     "name": "stdout",
     "output_type": "stream",
     "text": [
      "Rose's power is 314\n",
      "Berry's power is 712\n",
      "player_1_power:  314\n",
      "player_2_power:  712\n"
     ]
    }
   ],
   "source": [
    "#pokedex_x is pokedex\n",
    "def player_power(players, pokedex, player_id):\n",
    "    power = 0\n",
    "    for pokemon_id in players[player_id]['player_pokemon'].keys():\n",
    "        pokemon = pokedex[pokemon_id]\n",
    "        for i,j in pokemon.items():\n",
    "            if type(j) is not int: continue\n",
    "            if i == 'pokemon_id': continue    \n",
    "            power += j\n",
    "    print players[player_id]['player_name'] + \"'s power is \" + str(power)\n",
    "    return power\n",
    "\n",
    "player_1_power = player_power(players, pokedex_x, 1)\n",
    "player_2_power = player_power(players, pokedex_x, 2)\n",
    "\n",
    "print \"player_1_power: \", player_1_power\n",
    "print \"player_2_power: \", player_2_power"
   ]
  },
  {
   "cell_type": "markdown",
   "metadata": {
    "collapsed": true
   },
   "source": [
    "<img src=\"http://imgur.com/l5NasQj.png\" style=\"float: left; margin: 25px 15px 0px 0px; height: 25px\">\n",
    "\n",
    "## 8. Load a pokedex file containing all the pokemon\n",
    "\n",
    "---\n",
    "\n",
    "### 8.1\n",
    "\n",
    "While you were putting together the prototype code, your colleagues were preparing a dataset of Pokemon and their attributes. (This was a rush job, so they may have picked some crazy values for some...)\n",
    "\n",
    "The code below loads information from a comma separated value (csv) file. You need to parse this string into a more useable format. The format of the string is:\n",
    "\n",
    "- Rows are separated by newline characters: \\n\n",
    "- Columns are separated by commas: ,\n",
    "- All cells in the csv are double quoted. Ex: \"PokedexNumber\" is the first cell of the first row.\n",
    "\n",
    "\n",
    "Using for-loops, create a list of lists where each list within the overall list is a row of the csv/matrix, and each element in that list is a cell in that row. Additional criteria:\n",
    "\n",
    "1. Quotes are removed from each cell item.\n",
    "2. Numeric column values are converted to floats.\n",
    "3. There are some cells that are empty and have no information. For these cells put a -1 value in place.\n",
    "\n",
    "Your end result is effectively a matrix. Each list in the outer list is a row, and the *j*th elements of list together form the *j*th column, which represents a data attribute. The first three lists in your pokedex list should look like this:\n",
    "\n",
    "    ['PokedexNumber', 'Name', 'Type', 'Total', 'HP', 'Attack', 'Defense', 'SpecialAttack', 'SpecialDefense', 'Speed']\n",
    "    [1.0, 'Bulbasaur', 'GrassPoison', 318.0, 45.0, 49.0, 49.0, 65.0, 65.0, 45.0]\n",
    "    [2.0, 'Ivysaur', 'GrassPoison', 405.0, 60.0, 62.0, 63.0, 80.0, 80.0, 60.0]"
   ]
  },
  {
   "cell_type": "code",
   "execution_count": 11,
   "metadata": {
    "collapsed": true
   },
   "outputs": [],
   "source": [
    "# Code to read in pokedex info\n",
    "raw_pd = ''\n",
    "pokedex_file = 'pokedex_basic.csv'\n",
    "with open(pokedex_file, 'r') as f:\n",
    "    raw_pd = f.read()\n",
    "# the pokedex string is assigned to the raw_pd variable"
   ]
  },
  {
   "cell_type": "code",
   "execution_count": 14,
   "metadata": {},
   "outputs": [
    {
     "name": "stdout",
     "output_type": "stream",
     "text": [
      "[['PokedexNumber', 'Name', 'Type', 'Total', 'HP', 'Attack', 'Defense', 'SpecialAttack', 'SpecialDefense', 'Speed'], [1.0, 'Bulbasaur', 'GrassPoison', 318.0, 45.0, 49.0, 49.0, 65.0, 65.0, 45.0], [2.0, 'Ivysaur', 'GrassPoison', 405.0, 60.0, 62.0, 63.0, 80.0, 80.0, 60.0], [3.0, 'Venusaur', 'GrassPoison', 525.0, 80.0, 82.0, 83.0, 100.0, 100.0, 80.0], [3.0, 'VenusaurMega Venusaur', 'GrassPoison', 625.0, 80.0, 100.0, 123.0, 122.0, 120.0, 80.0]]\n"
     ]
    }
   ],
   "source": [
    "pokedex_file = 'pokedex_basic.csv'\n",
    "with open(pokedex_file, 'r') as f:\n",
    "    raw_pd = f.readlines()\n",
    "f.close()\n",
    "\n",
    "import string\n",
    "\n",
    "lst = []\n",
    "for row in raw_pd:\n",
    "    ls = []\n",
    "    row = row.replace('\"', '')\n",
    "    row = row.strip()\n",
    "    r = row.split(',')\n",
    "    for i in r:\n",
    "        if i[0] in string.ascii_letters:\n",
    "            ls.append(str(i))\n",
    "        elif i[0] in string.digits:\n",
    "            ls.append(float(i))\n",
    "        elif i[0] == \"\":\n",
    "            ls.append(-1)\n",
    "    lst.append(ls)\n",
    "print lst[:5]\n",
    "pokedex_information = lst"
   ]
  },
  {
   "cell_type": "markdown",
   "metadata": {},
   "source": [
    "<img src=\"http://imgur.com/xDpSobf.png\" style=\"float: left; margin: 25px 15px 0px 0px; height: 25px\">\n",
    "\n",
    "### 8.2 Parse the raw pokedex with list comprehensions\n",
    "\n",
    "---\n",
    "\n",
    "Perform the same parsing as above, but **using only a single list comprehension** instead of for loops. You may have nested list comprehensions within the main list comprehension! The output should be exactly the same."
   ]
  },
  {
   "cell_type": "code",
   "execution_count": 15,
   "metadata": {},
   "outputs": [
    {
     "name": "stdout",
     "output_type": "stream",
     "text": [
      "[['PokedexNumber', 'Name', 'Type', 'Total', 'HP', 'Attack', 'Defense', 'SpecialAttack', 'SpecialDefense', 'Speed'], [1.0, 'Bulbasaur', 'GrassPoison', 318.0, 45.0, 49.0, 49.0, 65.0, 65.0, 45.0], [2.0, 'Ivysaur', 'GrassPoison', 405.0, 60.0, 62.0, 63.0, 80.0, 80.0, 60.0], [3.0, 'Venusaur', 'GrassPoison', 525.0, 80.0, 82.0, 83.0, 100.0, 100.0, 80.0], [3.0, 'VenusaurMega Venusaur', 'GrassPoison', 625.0, 80.0, 100.0, 123.0, 122.0, 120.0, 80.0]]\n"
     ]
    }
   ],
   "source": [
    "pokedex_information2 = [[(str(i) if i[0] in string.ascii_letters else (float(i) if i[0] in string.digits else -1)) for i in row.replace('\"', '').strip().split(',')]for row in raw_pd]\n",
    "print pokedex_information2[0:5]"
   ]
  },
  {
   "cell_type": "markdown",
   "metadata": {},
   "source": [
    "<img src=\"http://imgur.com/l5NasQj.png\" style=\"float: left; margin: 25px 15px 0px 0px; height: 25px\">\n",
    "\n",
    "## 9. Write a function to generate the full pokedex\n",
    "\n",
    "---\n",
    "\n",
    "Write a function that recreates the pokedex you made before, but with the data read in from the full pokemon file. The `PokedexNumber` should be used as the `pokemon_id` key values for the dictionary of pokemon.\n",
    "\n",
    "Your function should:\n",
    "\n",
    "1. Take the parsed pokedex information you created above as an argument.\n",
    "2. Return a dictionary in the same format as your original pokedex you created before containing the information from the parsed full pokedex file.\n",
    "\n",
    "To test the function, print out the pokemon with id = 100."
   ]
  },
  {
   "cell_type": "markdown",
   "metadata": {},
   "source": [
    "**Comments:** \n",
    "> pokedex information parsed above is stored in variable pokedex_information\n",
    "\n",
    "> Within the function pokedex, pokedex_header contains the first list of pokedex_file corresponding to the headers of the pokedex_information\n",
    "\n",
    "> Within the function pokedex, pokedex_body contains the remaining lists of pokedex_information corresponding to the values of each pokemon"
   ]
  },
  {
   "cell_type": "code",
   "execution_count": 19,
   "metadata": {
    "scrolled": true
   },
   "outputs": [
    {
     "name": "stdout",
     "output_type": "stream",
     "text": [
      "{1: {'Type': 'GrassPoison', 'Name': 'Bulbasaur', 'Speed': 45.0, 'HP': 45.0, 'Attack': 49.0, 'Defense': 49.0, 'PokedexNumber': 1.0, 'SpecialDefense': 65.0, 'Total': 318.0, 'SpecialAttack': 65.0}, 2: {'Type': 'GrassPoison', 'Name': 'Ivysaur', 'Speed': 60.0, 'HP': 60.0, 'Attack': 62.0, 'Defense': 63.0, 'PokedexNumber': 2.0, 'SpecialDefense': 80.0, 'Total': 405.0, 'SpecialAttack': 80.0}, 3: {'Type': 'GrassPoison', 'Name': 'Venusaur', 'Speed': 80.0, 'HP': 80.0, 'Attack': 82.0, 'Defense': 83.0, 'PokedexNumber': 3.0, 'SpecialDefense': 100.0, 'Total': 525.0, 'SpecialAttack': 100.0}, 4: {'Type': 'GrassPoison', 'Name': 'VenusaurMega Venusaur', 'Speed': 80.0, 'HP': 80.0, 'Attack': 100.0, 'Defense': 123.0, 'PokedexNumber': 3.0, 'SpecialDefense': 120.0, 'Total': 625.0, 'SpecialAttack': 122.0}, 5: {'Type': 'Fire', 'Name': 'Charmander', 'Speed': 65.0, 'HP': 39.0, 'Attack': 52.0, 'Defense': 43.0, 'PokedexNumber': 4.0, 'SpecialDefense': 50.0, 'Total': 309.0, 'SpecialAttack': 60.0}, 6: {'Type': 'Fire', 'Name': 'Charmeleon', 'Speed': 80.0, 'HP': 58.0, 'Attack': 64.0, 'Defense': 58.0, 'PokedexNumber': 5.0, 'SpecialDefense': 65.0, 'Total': 405.0, 'SpecialAttack': 80.0}, 7: {'Type': 'FireFlying', 'Name': 'Charizard', 'Speed': 100.0, 'HP': 78.0, 'Attack': 84.0, 'Defense': 78.0, 'PokedexNumber': 6.0, 'SpecialDefense': 85.0, 'Total': 534.0, 'SpecialAttack': 109.0}, 8: {'Type': 'FireDragon', 'Name': 'CharizardMega Charizard X', 'Speed': 100.0, 'HP': 78.0, 'Attack': 130.0, 'Defense': 111.0, 'PokedexNumber': 6.0, 'SpecialDefense': 85.0, 'Total': 634.0, 'SpecialAttack': 130.0}, 9: {'Type': 'FireFlying', 'Name': 'CharizardMega Charizard Y', 'Speed': 100.0, 'HP': 78.0, 'Attack': 104.0, 'Defense': 78.0, 'PokedexNumber': 6.0, 'SpecialDefense': 115.0, 'Total': 634.0, 'SpecialAttack': 159.0}, 10: {'Type': 'Water', 'Name': 'Squirtle', 'Speed': 43.0, 'HP': 44.0, 'Attack': 48.0, 'Defense': 65.0, 'PokedexNumber': 7.0, 'SpecialDefense': 64.0, 'Total': 314.0, 'SpecialAttack': 50.0}, 11: {'Type': 'Water', 'Name': 'Wartortle', 'Speed': 58.0, 'HP': 59.0, 'Attack': 63.0, 'Defense': 80.0, 'PokedexNumber': 8.0, 'SpecialDefense': 80.0, 'Total': 405.0, 'SpecialAttack': 65.0}, 12: {'Type': 'Water', 'Name': 'Blastoise', 'Speed': 78.0, 'HP': 79.0, 'Attack': 83.0, 'Defense': 100.0, 'PokedexNumber': 9.0, 'SpecialDefense': 105.0, 'Total': 530.0, 'SpecialAttack': 85.0}, 13: {'Type': 'Water', 'Name': 'BlastoiseMega Blastoise', 'Speed': 78.0, 'HP': 79.0, 'Attack': 103.0, 'Defense': 120.0, 'PokedexNumber': 9.0, 'SpecialDefense': 115.0, 'Total': 630.0, 'SpecialAttack': 135.0}, 14: {'Type': 'Bug', 'Name': 'Caterpie', 'Speed': 45.0, 'HP': 45.0, 'Attack': 30.0, 'Defense': 35.0, 'PokedexNumber': 10.0, 'SpecialDefense': 20.0, 'Total': 195.0, 'SpecialAttack': 20.0}, 15: {'Type': 'Bug', 'Name': 'Metapod', 'Speed': 30.0, 'HP': 50.0, 'Attack': 20.0, 'Defense': 55.0, 'PokedexNumber': 11.0, 'SpecialDefense': 25.0, 'Total': 205.0, 'SpecialAttack': 25.0}, 16: {'Type': 'BugFlying', 'Name': 'Butterfree', 'Speed': 70.0, 'HP': 60.0, 'Attack': 45.0, 'Defense': 50.0, 'PokedexNumber': 12.0, 'SpecialDefense': 80.0, 'Total': 395.0, 'SpecialAttack': 90.0}, 17: {'Type': 'BugPoison', 'Name': 'Weedle', 'Speed': 50.0, 'HP': 40.0, 'Attack': 35.0, 'Defense': 30.0, 'PokedexNumber': 13.0, 'SpecialDefense': 20.0, 'Total': 195.0, 'SpecialAttack': 20.0}, 18: {'Type': 'BugPoison', 'Name': 'Kakuna', 'Speed': 35.0, 'HP': 45.0, 'Attack': 25.0, 'Defense': 50.0, 'PokedexNumber': 14.0, 'SpecialDefense': 25.0, 'Total': 205.0, 'SpecialAttack': 25.0}, 19: {'Type': 'BugPoison', 'Name': 'Beedrill', 'Speed': 75.0, 'HP': 65.0, 'Attack': 90.0, 'Defense': 40.0, 'PokedexNumber': 15.0, 'SpecialDefense': 80.0, 'Total': 395.0, 'SpecialAttack': 45.0}, 20: {'Type': 'BugPoison', 'Name': 'BeedrillMega Beedrill', 'Speed': 145.0, 'HP': 65.0, 'Attack': 150.0, 'Defense': 40.0, 'PokedexNumber': 15.0, 'SpecialDefense': 80.0, 'Total': 495.0, 'SpecialAttack': 15.0}, 21: {'Type': 'NormalFlying', 'Name': 'Pidgey', 'Speed': 56.0, 'HP': 40.0, 'Attack': 45.0, 'Defense': 40.0, 'PokedexNumber': 16.0, 'SpecialDefense': 35.0, 'Total': 251.0, 'SpecialAttack': 35.0}, 22: {'Type': 'NormalFlying', 'Name': 'Pidgeotto', 'Speed': 71.0, 'HP': 63.0, 'Attack': 60.0, 'Defense': 55.0, 'PokedexNumber': 17.0, 'SpecialDefense': 50.0, 'Total': 349.0, 'SpecialAttack': 50.0}, 23: {'Type': 'NormalFlying', 'Name': 'Pidgeot', 'Speed': 101.0, 'HP': 83.0, 'Attack': 80.0, 'Defense': 75.0, 'PokedexNumber': 18.0, 'SpecialDefense': 70.0, 'Total': 479.0, 'SpecialAttack': 70.0}, 24: {'Type': 'NormalFlying', 'Name': 'PidgeotMega Pidgeot', 'Speed': 121.0, 'HP': 83.0, 'Attack': 80.0, 'Defense': 80.0, 'PokedexNumber': 18.0, 'SpecialDefense': 80.0, 'Total': 579.0, 'SpecialAttack': 135.0}, 25: {'Type': 'Normal', 'Name': 'Rattata', 'Speed': 72.0, 'HP': 30.0, 'Attack': 56.0, 'Defense': 35.0, 'PokedexNumber': 19.0, 'SpecialDefense': 35.0, 'Total': 253.0, 'SpecialAttack': 25.0}, 26: {'Type': 'Normal', 'Name': 'Raticate', 'Speed': 97.0, 'HP': 55.0, 'Attack': 81.0, 'Defense': 60.0, 'PokedexNumber': 20.0, 'SpecialDefense': 70.0, 'Total': 413.0, 'SpecialAttack': 50.0}, 27: {'Type': 'NormalFlying', 'Name': 'Spearow', 'Speed': 70.0, 'HP': 40.0, 'Attack': 60.0, 'Defense': 30.0, 'PokedexNumber': 21.0, 'SpecialDefense': 31.0, 'Total': 262.0, 'SpecialAttack': 31.0}, 28: {'Type': 'NormalFlying', 'Name': 'Fearow', 'Speed': 100.0, 'HP': 65.0, 'Attack': 90.0, 'Defense': 65.0, 'PokedexNumber': 22.0, 'SpecialDefense': 61.0, 'Total': 442.0, 'SpecialAttack': 61.0}, 29: {'Type': 'Poison', 'Name': 'Ekans', 'Speed': 55.0, 'HP': 35.0, 'Attack': 60.0, 'Defense': 44.0, 'PokedexNumber': 23.0, 'SpecialDefense': 54.0, 'Total': 288.0, 'SpecialAttack': 40.0}, 30: {'Type': 'Poison', 'Name': 'Arbok', 'Speed': 80.0, 'HP': 60.0, 'Attack': 85.0, 'Defense': 69.0, 'PokedexNumber': 24.0, 'SpecialDefense': 79.0, 'Total': 438.0, 'SpecialAttack': 65.0}, 31: {'Type': 'Electric', 'Name': 'Pikachu', 'Speed': 90.0, 'HP': 35.0, 'Attack': 55.0, 'Defense': 40.0, 'PokedexNumber': 25.0, 'SpecialDefense': 50.0, 'Total': 320.0, 'SpecialAttack': 50.0}, 32: {'Type': 'Electric', 'Name': 'Raichu', 'Speed': 110.0, 'HP': 60.0, 'Attack': 90.0, 'Defense': 55.0, 'PokedexNumber': 26.0, 'SpecialDefense': 80.0, 'Total': 485.0, 'SpecialAttack': 90.0}, 33: {'Type': 'Ground', 'Name': 'Sandshrew', 'Speed': 40.0, 'HP': 50.0, 'Attack': 75.0, 'Defense': 85.0, 'PokedexNumber': 27.0, 'SpecialDefense': 30.0, 'Total': 300.0, 'SpecialAttack': 20.0}, 34: {'Type': 'Ground', 'Name': 'Sandslash', 'Speed': 65.0, 'HP': 75.0, 'Attack': 100.0, 'Defense': 110.0, 'PokedexNumber': 28.0, 'SpecialDefense': 55.0, 'Total': 450.0, 'SpecialAttack': 45.0}, 35: {'Type': 'Poison', 'Name': 'NidoranF', 'Speed': 41.0, 'HP': 55.0, 'Attack': 47.0, 'Defense': 52.0, 'PokedexNumber': 29.0, 'SpecialDefense': 40.0, 'Total': 275.0, 'SpecialAttack': 40.0}, 36: {'Type': 'Poison', 'Name': 'Nidorina', 'Speed': 56.0, 'HP': 70.0, 'Attack': 62.0, 'Defense': 67.0, 'PokedexNumber': 30.0, 'SpecialDefense': 55.0, 'Total': 365.0, 'SpecialAttack': 55.0}, 37: {'Type': 'PoisonGround', 'Name': 'Nidoqueen', 'Speed': 76.0, 'HP': 90.0, 'Attack': 92.0, 'Defense': 87.0, 'PokedexNumber': 31.0, 'SpecialDefense': 85.0, 'Total': 505.0, 'SpecialAttack': 75.0}, 38: {'Type': 'Poison', 'Name': 'NidoranM', 'Speed': 50.0, 'HP': 46.0, 'Attack': 57.0, 'Defense': 40.0, 'PokedexNumber': 32.0, 'SpecialDefense': 40.0, 'Total': 273.0, 'SpecialAttack': 40.0}, 39: {'Type': 'Poison', 'Name': 'Nidorino', 'Speed': 65.0, 'HP': 61.0, 'Attack': 72.0, 'Defense': 57.0, 'PokedexNumber': 33.0, 'SpecialDefense': 55.0, 'Total': 365.0, 'SpecialAttack': 55.0}, 40: {'Type': 'PoisonGround', 'Name': 'Nidoking', 'Speed': 85.0, 'HP': 81.0, 'Attack': 102.0, 'Defense': 77.0, 'PokedexNumber': 34.0, 'SpecialDefense': 75.0, 'Total': 505.0, 'SpecialAttack': 85.0}, 41: {'Type': 'Fairy', 'Name': 'Clefairy', 'Speed': 35.0, 'HP': 70.0, 'Attack': 45.0, 'Defense': 48.0, 'PokedexNumber': 35.0, 'SpecialDefense': 65.0, 'Total': 323.0, 'SpecialAttack': 60.0}, 42: {'Type': 'Fairy', 'Name': 'Clefable', 'Speed': 60.0, 'HP': 95.0, 'Attack': 70.0, 'Defense': 73.0, 'PokedexNumber': 36.0, 'SpecialDefense': 90.0, 'Total': 483.0, 'SpecialAttack': 95.0}, 43: {'Type': 'Fire', 'Name': 'Vulpix', 'Speed': 65.0, 'HP': 38.0, 'Attack': 41.0, 'Defense': 40.0, 'PokedexNumber': 37.0, 'SpecialDefense': 65.0, 'Total': 299.0, 'SpecialAttack': 50.0}, 44: {'Type': 'Fire', 'Name': 'Ninetales', 'Speed': 100.0, 'HP': 73.0, 'Attack': 76.0, 'Defense': 75.0, 'PokedexNumber': 38.0, 'SpecialDefense': 100.0, 'Total': 505.0, 'SpecialAttack': 81.0}, 45: {'Type': 'NormalFairy', 'Name': 'Jigglypuff', 'Speed': 20.0, 'HP': 115.0, 'Attack': 45.0, 'Defense': 20.0, 'PokedexNumber': 39.0, 'SpecialDefense': 25.0, 'Total': 270.0, 'SpecialAttack': 45.0}, 46: {'Type': 'NormalFairy', 'Name': 'Wigglytuff', 'Speed': 45.0, 'HP': 140.0, 'Attack': 70.0, 'Defense': 45.0, 'PokedexNumber': 40.0, 'SpecialDefense': 50.0, 'Total': 435.0, 'SpecialAttack': 85.0}, 47: {'Type': 'PoisonFlying', 'Name': 'Zubat', 'Speed': 55.0, 'HP': 40.0, 'Attack': 45.0, 'Defense': 35.0, 'PokedexNumber': 41.0, 'SpecialDefense': 40.0, 'Total': 245.0, 'SpecialAttack': 30.0}, 48: {'Type': 'PoisonFlying', 'Name': 'Golbat', 'Speed': 90.0, 'HP': 75.0, 'Attack': 80.0, 'Defense': 70.0, 'PokedexNumber': 42.0, 'SpecialDefense': 75.0, 'Total': 455.0, 'SpecialAttack': 65.0}, 49: {'Type': 'GrassPoison', 'Name': 'Oddish', 'Speed': 30.0, 'HP': 45.0, 'Attack': 50.0, 'Defense': 55.0, 'PokedexNumber': 43.0, 'SpecialDefense': 65.0, 'Total': 320.0, 'SpecialAttack': 75.0}, 50: {'Type': 'GrassPoison', 'Name': 'Gloom', 'Speed': 40.0, 'HP': 60.0, 'Attack': 65.0, 'Defense': 70.0, 'PokedexNumber': 44.0, 'SpecialDefense': 75.0, 'Total': 395.0, 'SpecialAttack': 85.0}, 51: {'Type': 'GrassPoison', 'Name': 'Vileplume', 'Speed': 50.0, 'HP': 75.0, 'Attack': 80.0, 'Defense': 85.0, 'PokedexNumber': 45.0, 'SpecialDefense': 90.0, 'Total': 490.0, 'SpecialAttack': 110.0}, 52: {'Type': 'BugGrass', 'Name': 'Paras', 'Speed': 25.0, 'HP': 35.0, 'Attack': 70.0, 'Defense': 55.0, 'PokedexNumber': 46.0, 'SpecialDefense': 55.0, 'Total': 285.0, 'SpecialAttack': 45.0}, 53: {'Type': 'BugGrass', 'Name': 'Parasect', 'Speed': 30.0, 'HP': 60.0, 'Attack': 95.0, 'Defense': 80.0, 'PokedexNumber': 47.0, 'SpecialDefense': 80.0, 'Total': 405.0, 'SpecialAttack': 60.0}, 54: {'Type': 'BugPoison', 'Name': 'Venonat', 'Speed': 45.0, 'HP': 60.0, 'Attack': 55.0, 'Defense': 50.0, 'PokedexNumber': 48.0, 'SpecialDefense': 55.0, 'Total': 305.0, 'SpecialAttack': 40.0}, 55: {'Type': 'BugPoison', 'Name': 'Venomoth', 'Speed': 90.0, 'HP': 70.0, 'Attack': 65.0, 'Defense': 60.0, 'PokedexNumber': 49.0, 'SpecialDefense': 75.0, 'Total': 450.0, 'SpecialAttack': 90.0}, 56: {'Type': 'Ground', 'Name': 'Diglett', 'Speed': 95.0, 'HP': 10.0, 'Attack': 55.0, 'Defense': 25.0, 'PokedexNumber': 50.0, 'SpecialDefense': 45.0, 'Total': 265.0, 'SpecialAttack': 35.0}, 57: {'Type': 'Ground', 'Name': 'Dugtrio', 'Speed': 120.0, 'HP': 35.0, 'Attack': 80.0, 'Defense': 50.0, 'PokedexNumber': 51.0, 'SpecialDefense': 70.0, 'Total': 405.0, 'SpecialAttack': 50.0}, 58: {'Type': 'Normal', 'Name': 'Meowth', 'Speed': 90.0, 'HP': 40.0, 'Attack': 45.0, 'Defense': 35.0, 'PokedexNumber': 52.0, 'SpecialDefense': 40.0, 'Total': 290.0, 'SpecialAttack': 40.0}, 59: {'Type': 'Normal', 'Name': 'Persian', 'Speed': 115.0, 'HP': 65.0, 'Attack': 70.0, 'Defense': 60.0, 'PokedexNumber': 53.0, 'SpecialDefense': 65.0, 'Total': 440.0, 'SpecialAttack': 65.0}, 60: {'Type': 'Water', 'Name': 'Psyduck', 'Speed': 55.0, 'HP': 50.0, 'Attack': 52.0, 'Defense': 48.0, 'PokedexNumber': 54.0, 'SpecialDefense': 50.0, 'Total': 320.0, 'SpecialAttack': 65.0}, 61: {'Type': 'Water', 'Name': 'Golduck', 'Speed': 85.0, 'HP': 80.0, 'Attack': 82.0, 'Defense': 78.0, 'PokedexNumber': 55.0, 'SpecialDefense': 80.0, 'Total': 500.0, 'SpecialAttack': 95.0}, 62: {'Type': 'Fighting', 'Name': 'Mankey', 'Speed': 70.0, 'HP': 40.0, 'Attack': 80.0, 'Defense': 35.0, 'PokedexNumber': 56.0, 'SpecialDefense': 45.0, 'Total': 305.0, 'SpecialAttack': 35.0}, 63: {'Type': 'Fighting', 'Name': 'Primeape', 'Speed': 95.0, 'HP': 65.0, 'Attack': 105.0, 'Defense': 60.0, 'PokedexNumber': 57.0, 'SpecialDefense': 70.0, 'Total': 455.0, 'SpecialAttack': 60.0}, 64: {'Type': 'Fire', 'Name': 'Growlithe', 'Speed': 60.0, 'HP': 55.0, 'Attack': 70.0, 'Defense': 45.0, 'PokedexNumber': 58.0, 'SpecialDefense': 50.0, 'Total': 350.0, 'SpecialAttack': 70.0}, 65: {'Type': 'Fire', 'Name': 'Arcanine', 'Speed': 95.0, 'HP': 90.0, 'Attack': 110.0, 'Defense': 80.0, 'PokedexNumber': 59.0, 'SpecialDefense': 80.0, 'Total': 555.0, 'SpecialAttack': 100.0}, 66: {'Type': 'Water', 'Name': 'Poliwag', 'Speed': 90.0, 'HP': 40.0, 'Attack': 50.0, 'Defense': 40.0, 'PokedexNumber': 60.0, 'SpecialDefense': 40.0, 'Total': 300.0, 'SpecialAttack': 40.0}, 67: {'Type': 'Water', 'Name': 'Poliwhirl', 'Speed': 90.0, 'HP': 65.0, 'Attack': 65.0, 'Defense': 65.0, 'PokedexNumber': 61.0, 'SpecialDefense': 50.0, 'Total': 385.0, 'SpecialAttack': 50.0}, 68: {'Type': 'WaterFighting', 'Name': 'Poliwrath', 'Speed': 70.0, 'HP': 90.0, 'Attack': 95.0, 'Defense': 95.0, 'PokedexNumber': 62.0, 'SpecialDefense': 90.0, 'Total': 510.0, 'SpecialAttack': 70.0}, 69: {'Type': 'Psychic', 'Name': 'Abra', 'Speed': 90.0, 'HP': 25.0, 'Attack': 20.0, 'Defense': 15.0, 'PokedexNumber': 63.0, 'SpecialDefense': 55.0, 'Total': 310.0, 'SpecialAttack': 105.0}, 70: {'Type': 'Psychic', 'Name': 'Kadabra', 'Speed': 105.0, 'HP': 40.0, 'Attack': 35.0, 'Defense': 30.0, 'PokedexNumber': 64.0, 'SpecialDefense': 70.0, 'Total': 400.0, 'SpecialAttack': 120.0}, 71: {'Type': 'Psychic', 'Name': 'Alakazam', 'Speed': 120.0, 'HP': 55.0, 'Attack': 50.0, 'Defense': 45.0, 'PokedexNumber': 65.0, 'SpecialDefense': 95.0, 'Total': 500.0, 'SpecialAttack': 135.0}, 72: {'Type': 'Psychic', 'Name': 'AlakazamMega Alakazam', 'Speed': 150.0, 'HP': 55.0, 'Attack': 50.0, 'Defense': 65.0, 'PokedexNumber': 65.0, 'SpecialDefense': 95.0, 'Total': 590.0, 'SpecialAttack': 175.0}, 73: {'Type': 'Fighting', 'Name': 'Machop', 'Speed': 35.0, 'HP': 70.0, 'Attack': 80.0, 'Defense': 50.0, 'PokedexNumber': 66.0, 'SpecialDefense': 35.0, 'Total': 305.0, 'SpecialAttack': 35.0}, 74: {'Type': 'Fighting', 'Name': 'Machoke', 'Speed': 45.0, 'HP': 80.0, 'Attack': 100.0, 'Defense': 70.0, 'PokedexNumber': 67.0, 'SpecialDefense': 60.0, 'Total': 405.0, 'SpecialAttack': 50.0}, 75: {'Type': 'Fighting', 'Name': 'Machamp', 'Speed': 55.0, 'HP': 90.0, 'Attack': 130.0, 'Defense': 80.0, 'PokedexNumber': 68.0, 'SpecialDefense': 85.0, 'Total': 505.0, 'SpecialAttack': 65.0}, 76: {'Type': 'GrassPoison', 'Name': 'Bellsprout', 'Speed': 40.0, 'HP': 50.0, 'Attack': 75.0, 'Defense': 35.0, 'PokedexNumber': 69.0, 'SpecialDefense': 30.0, 'Total': 300.0, 'SpecialAttack': 70.0}, 77: {'Type': 'GrassPoison', 'Name': 'Weepinbell', 'Speed': 55.0, 'HP': 65.0, 'Attack': 90.0, 'Defense': 50.0, 'PokedexNumber': 70.0, 'SpecialDefense': 45.0, 'Total': 390.0, 'SpecialAttack': 85.0}, 78: {'Type': 'GrassPoison', 'Name': 'Victreebel', 'Speed': 70.0, 'HP': 80.0, 'Attack': 105.0, 'Defense': 65.0, 'PokedexNumber': 71.0, 'SpecialDefense': 70.0, 'Total': 490.0, 'SpecialAttack': 100.0}, 79: {'Type': 'WaterPoison', 'Name': 'Tentacool', 'Speed': 70.0, 'HP': 40.0, 'Attack': 40.0, 'Defense': 35.0, 'PokedexNumber': 72.0, 'SpecialDefense': 100.0, 'Total': 335.0, 'SpecialAttack': 50.0}, 80: {'Type': 'WaterPoison', 'Name': 'Tentacruel', 'Speed': 100.0, 'HP': 80.0, 'Attack': 70.0, 'Defense': 65.0, 'PokedexNumber': 73.0, 'SpecialDefense': 120.0, 'Total': 515.0, 'SpecialAttack': 80.0}, 81: {'Type': 'RockGround', 'Name': 'Geodude', 'Speed': 20.0, 'HP': 40.0, 'Attack': 80.0, 'Defense': 100.0, 'PokedexNumber': 74.0, 'SpecialDefense': 30.0, 'Total': 300.0, 'SpecialAttack': 30.0}, 82: {'Type': 'RockGround', 'Name': 'Graveler', 'Speed': 35.0, 'HP': 55.0, 'Attack': 95.0, 'Defense': 115.0, 'PokedexNumber': 75.0, 'SpecialDefense': 45.0, 'Total': 390.0, 'SpecialAttack': 45.0}, 83: {'Type': 'RockGround', 'Name': 'Golem', 'Speed': 45.0, 'HP': 80.0, 'Attack': 120.0, 'Defense': 130.0, 'PokedexNumber': 76.0, 'SpecialDefense': 65.0, 'Total': 495.0, 'SpecialAttack': 55.0}, 84: {'Type': 'Fire', 'Name': 'Ponyta', 'Speed': 90.0, 'HP': 50.0, 'Attack': 85.0, 'Defense': 55.0, 'PokedexNumber': 77.0, 'SpecialDefense': 65.0, 'Total': 410.0, 'SpecialAttack': 65.0}, 85: {'Type': 'Fire', 'Name': 'Rapidash', 'Speed': 105.0, 'HP': 65.0, 'Attack': 100.0, 'Defense': 70.0, 'PokedexNumber': 78.0, 'SpecialDefense': 80.0, 'Total': 500.0, 'SpecialAttack': 80.0}, 86: {'Type': 'WaterPsychic', 'Name': 'Slowpoke', 'Speed': 15.0, 'HP': 90.0, 'Attack': 65.0, 'Defense': 65.0, 'PokedexNumber': 79.0, 'SpecialDefense': 40.0, 'Total': 315.0, 'SpecialAttack': 40.0}, 87: {'Type': 'WaterPsychic', 'Name': 'Slowbro', 'Speed': 30.0, 'HP': 95.0, 'Attack': 75.0, 'Defense': 110.0, 'PokedexNumber': 80.0, 'SpecialDefense': 80.0, 'Total': 490.0, 'SpecialAttack': 100.0}, 88: {'Type': 'WaterPsychic', 'Name': 'SlowbroMega Slowbro', 'Speed': 30.0, 'HP': 95.0, 'Attack': 75.0, 'Defense': 180.0, 'PokedexNumber': 80.0, 'SpecialDefense': 80.0, 'Total': 590.0, 'SpecialAttack': 130.0}, 89: {'Type': 'ElectricSteel', 'Name': 'Magnemite', 'Speed': 45.0, 'HP': 25.0, 'Attack': 35.0, 'Defense': 70.0, 'PokedexNumber': 81.0, 'SpecialDefense': 55.0, 'Total': 325.0, 'SpecialAttack': 95.0}, 90: {'Type': 'ElectricSteel', 'Name': 'Magneton', 'Speed': 70.0, 'HP': 50.0, 'Attack': 60.0, 'Defense': 95.0, 'PokedexNumber': 82.0, 'SpecialDefense': 70.0, 'Total': 465.0, 'SpecialAttack': 120.0}, 91: {'Type': 'NormalFlying', 'Name': \"Farfetch'd\", 'Speed': 60.0, 'HP': 52.0, 'Attack': 65.0, 'Defense': 55.0, 'PokedexNumber': 83.0, 'SpecialDefense': 62.0, 'Total': 352.0, 'SpecialAttack': 58.0}, 92: {'Type': 'NormalFlying', 'Name': 'Doduo', 'Speed': 75.0, 'HP': 35.0, 'Attack': 85.0, 'Defense': 45.0, 'PokedexNumber': 84.0, 'SpecialDefense': 35.0, 'Total': 310.0, 'SpecialAttack': 35.0}, 93: {'Type': 'NormalFlying', 'Name': 'Dodrio', 'Speed': 100.0, 'HP': 60.0, 'Attack': 110.0, 'Defense': 70.0, 'PokedexNumber': 85.0, 'SpecialDefense': 60.0, 'Total': 460.0, 'SpecialAttack': 60.0}, 94: {'Type': 'Water', 'Name': 'Seel', 'Speed': 45.0, 'HP': 65.0, 'Attack': 45.0, 'Defense': 55.0, 'PokedexNumber': 86.0, 'SpecialDefense': 70.0, 'Total': 325.0, 'SpecialAttack': 45.0}, 95: {'Type': 'WaterIce', 'Name': 'Dewgong', 'Speed': 70.0, 'HP': 90.0, 'Attack': 70.0, 'Defense': 80.0, 'PokedexNumber': 87.0, 'SpecialDefense': 95.0, 'Total': 475.0, 'SpecialAttack': 70.0}, 96: {'Type': 'Poison', 'Name': 'Grimer', 'Speed': 25.0, 'HP': 80.0, 'Attack': 80.0, 'Defense': 50.0, 'PokedexNumber': 88.0, 'SpecialDefense': 50.0, 'Total': 325.0, 'SpecialAttack': 40.0}, 97: {'Type': 'Poison', 'Name': 'Muk', 'Speed': 50.0, 'HP': 105.0, 'Attack': 105.0, 'Defense': 75.0, 'PokedexNumber': 89.0, 'SpecialDefense': 100.0, 'Total': 500.0, 'SpecialAttack': 65.0}, 98: {'Type': 'Water', 'Name': 'Shellder', 'Speed': 40.0, 'HP': 30.0, 'Attack': 65.0, 'Defense': 100.0, 'PokedexNumber': 90.0, 'SpecialDefense': 25.0, 'Total': 305.0, 'SpecialAttack': 45.0}, 99: {'Type': 'WaterIce', 'Name': 'Cloyster', 'Speed': 70.0, 'HP': 50.0, 'Attack': 95.0, 'Defense': 180.0, 'PokedexNumber': 91.0, 'SpecialDefense': 45.0, 'Total': 525.0, 'SpecialAttack': 85.0}, 100: {'Type': 'GhostPoison', 'Name': 'Gastly', 'Speed': 80.0, 'HP': 30.0, 'Attack': 35.0, 'Defense': 30.0, 'PokedexNumber': 92.0, 'SpecialDefense': 35.0, 'Total': 310.0, 'SpecialAttack': 100.0}, 101: {'Type': 'GhostPoison', 'Name': 'Haunter', 'Speed': 95.0, 'HP': 45.0, 'Attack': 50.0, 'Defense': 45.0, 'PokedexNumber': 93.0, 'SpecialDefense': 55.0, 'Total': 405.0, 'SpecialAttack': 115.0}, 102: {'Type': 'GhostPoison', 'Name': 'Gengar', 'Speed': 110.0, 'HP': 60.0, 'Attack': 65.0, 'Defense': 60.0, 'PokedexNumber': 94.0, 'SpecialDefense': 75.0, 'Total': 500.0, 'SpecialAttack': 130.0}, 103: {'Type': 'GhostPoison', 'Name': 'GengarMega Gengar', 'Speed': 130.0, 'HP': 60.0, 'Attack': 65.0, 'Defense': 80.0, 'PokedexNumber': 94.0, 'SpecialDefense': 95.0, 'Total': 600.0, 'SpecialAttack': 170.0}, 104: {'Type': 'RockGround', 'Name': 'Onix', 'Speed': 70.0, 'HP': 35.0, 'Attack': 45.0, 'Defense': 160.0, 'PokedexNumber': 95.0, 'SpecialDefense': 45.0, 'Total': 385.0, 'SpecialAttack': 30.0}, 105: {'Type': 'Psychic', 'Name': 'Drowzee', 'Speed': 42.0, 'HP': 60.0, 'Attack': 48.0, 'Defense': 45.0, 'PokedexNumber': 96.0, 'SpecialDefense': 90.0, 'Total': 328.0, 'SpecialAttack': 43.0}, 106: {'Type': 'Psychic', 'Name': 'Hypno', 'Speed': 67.0, 'HP': 85.0, 'Attack': 73.0, 'Defense': 70.0, 'PokedexNumber': 97.0, 'SpecialDefense': 115.0, 'Total': 483.0, 'SpecialAttack': 73.0}, 107: {'Type': 'Water', 'Name': 'Krabby', 'Speed': 50.0, 'HP': 30.0, 'Attack': 105.0, 'Defense': 90.0, 'PokedexNumber': 98.0, 'SpecialDefense': 25.0, 'Total': 325.0, 'SpecialAttack': 25.0}, 108: {'Type': 'Water', 'Name': 'Kingler', 'Speed': 75.0, 'HP': 55.0, 'Attack': 130.0, 'Defense': 115.0, 'PokedexNumber': 99.0, 'SpecialDefense': 50.0, 'Total': 475.0, 'SpecialAttack': 50.0}, 109: {'Type': 'Electric', 'Name': 'Voltorb', 'Speed': 100.0, 'HP': 40.0, 'Attack': 30.0, 'Defense': 50.0, 'PokedexNumber': 100.0, 'SpecialDefense': 55.0, 'Total': 330.0, 'SpecialAttack': 55.0}, 110: {'Type': 'Electric', 'Name': 'Electrode', 'Speed': 140.0, 'HP': 60.0, 'Attack': 50.0, 'Defense': 70.0, 'PokedexNumber': 101.0, 'SpecialDefense': 80.0, 'Total': 480.0, 'SpecialAttack': 80.0}, 111: {'Type': 'GrassPsychic', 'Name': 'Exeggcute', 'Speed': 40.0, 'HP': 60.0, 'Attack': 40.0, 'Defense': 80.0, 'PokedexNumber': 102.0, 'SpecialDefense': 45.0, 'Total': 325.0, 'SpecialAttack': 60.0}, 112: {'Type': 'GrassPsychic', 'Name': 'Exeggutor', 'Speed': 55.0, 'HP': 95.0, 'Attack': 95.0, 'Defense': 85.0, 'PokedexNumber': 103.0, 'SpecialDefense': 65.0, 'Total': 520.0, 'SpecialAttack': 125.0}, 113: {'Type': 'Ground', 'Name': 'Cubone', 'Speed': 35.0, 'HP': 50.0, 'Attack': 50.0, 'Defense': 95.0, 'PokedexNumber': 104.0, 'SpecialDefense': 50.0, 'Total': 320.0, 'SpecialAttack': 40.0}, 114: {'Type': 'Ground', 'Name': 'Marowak', 'Speed': 45.0, 'HP': 60.0, 'Attack': 80.0, 'Defense': 110.0, 'PokedexNumber': 105.0, 'SpecialDefense': 80.0, 'Total': 425.0, 'SpecialAttack': 50.0}, 115: {'Type': 'Fighting', 'Name': 'Hitmonlee', 'Speed': 87.0, 'HP': 50.0, 'Attack': 120.0, 'Defense': 53.0, 'PokedexNumber': 106.0, 'SpecialDefense': 110.0, 'Total': 455.0, 'SpecialAttack': 35.0}, 116: {'Type': 'Fighting', 'Name': 'Hitmonchan', 'Speed': 76.0, 'HP': 50.0, 'Attack': 105.0, 'Defense': 79.0, 'PokedexNumber': 107.0, 'SpecialDefense': 110.0, 'Total': 455.0, 'SpecialAttack': 35.0}, 117: {'Type': 'Normal', 'Name': 'Lickitung', 'Speed': 30.0, 'HP': 90.0, 'Attack': 55.0, 'Defense': 75.0, 'PokedexNumber': 108.0, 'SpecialDefense': 75.0, 'Total': 385.0, 'SpecialAttack': 60.0}, 118: {'Type': 'Poison', 'Name': 'Koffing', 'Speed': 35.0, 'HP': 40.0, 'Attack': 65.0, 'Defense': 95.0, 'PokedexNumber': 109.0, 'SpecialDefense': 45.0, 'Total': 340.0, 'SpecialAttack': 60.0}, 119: {'Type': 'Poison', 'Name': 'Weezing', 'Speed': 60.0, 'HP': 65.0, 'Attack': 90.0, 'Defense': 120.0, 'PokedexNumber': 110.0, 'SpecialDefense': 70.0, 'Total': 490.0, 'SpecialAttack': 85.0}, 120: {'Type': 'GroundRock', 'Name': 'Rhyhorn', 'Speed': 25.0, 'HP': 80.0, 'Attack': 85.0, 'Defense': 95.0, 'PokedexNumber': 111.0, 'SpecialDefense': 30.0, 'Total': 345.0, 'SpecialAttack': 30.0}, 121: {'Type': 'GroundRock', 'Name': 'Rhydon', 'Speed': 40.0, 'HP': 105.0, 'Attack': 130.0, 'Defense': 120.0, 'PokedexNumber': 112.0, 'SpecialDefense': 45.0, 'Total': 485.0, 'SpecialAttack': 45.0}, 122: {'Type': 'Normal', 'Name': 'Chansey', 'Speed': 50.0, 'HP': 250.0, 'Attack': 5.0, 'Defense': 5.0, 'PokedexNumber': 113.0, 'SpecialDefense': 105.0, 'Total': 450.0, 'SpecialAttack': 35.0}, 123: {'Type': 'Grass', 'Name': 'Tangela', 'Speed': 60.0, 'HP': 65.0, 'Attack': 55.0, 'Defense': 115.0, 'PokedexNumber': 114.0, 'SpecialDefense': 40.0, 'Total': 435.0, 'SpecialAttack': 100.0}, 124: {'Type': 'Normal', 'Name': 'Kangaskhan', 'Speed': 90.0, 'HP': 105.0, 'Attack': 95.0, 'Defense': 80.0, 'PokedexNumber': 115.0, 'SpecialDefense': 80.0, 'Total': 490.0, 'SpecialAttack': 40.0}, 125: {'Type': 'Normal', 'Name': 'KangaskhanMega Kangaskhan', 'Speed': 100.0, 'HP': 105.0, 'Attack': 125.0, 'Defense': 100.0, 'PokedexNumber': 115.0, 'SpecialDefense': 100.0, 'Total': 590.0, 'SpecialAttack': 60.0}, 126: {'Type': 'Water', 'Name': 'Horsea', 'Speed': 60.0, 'HP': 30.0, 'Attack': 40.0, 'Defense': 70.0, 'PokedexNumber': 116.0, 'SpecialDefense': 25.0, 'Total': 295.0, 'SpecialAttack': 70.0}, 127: {'Type': 'Water', 'Name': 'Seadra', 'Speed': 85.0, 'HP': 55.0, 'Attack': 65.0, 'Defense': 95.0, 'PokedexNumber': 117.0, 'SpecialDefense': 45.0, 'Total': 440.0, 'SpecialAttack': 95.0}, 128: {'Type': 'Water', 'Name': 'Goldeen', 'Speed': 63.0, 'HP': 45.0, 'Attack': 67.0, 'Defense': 60.0, 'PokedexNumber': 118.0, 'SpecialDefense': 50.0, 'Total': 320.0, 'SpecialAttack': 35.0}, 129: {'Type': 'Water', 'Name': 'Seaking', 'Speed': 68.0, 'HP': 80.0, 'Attack': 92.0, 'Defense': 65.0, 'PokedexNumber': 119.0, 'SpecialDefense': 80.0, 'Total': 450.0, 'SpecialAttack': 65.0}, 130: {'Type': 'Water', 'Name': 'Staryu', 'Speed': 85.0, 'HP': 30.0, 'Attack': 45.0, 'Defense': 55.0, 'PokedexNumber': 120.0, 'SpecialDefense': 55.0, 'Total': 340.0, 'SpecialAttack': 70.0}, 131: {'Type': 'WaterPsychic', 'Name': 'Starmie', 'Speed': 115.0, 'HP': 60.0, 'Attack': 75.0, 'Defense': 85.0, 'PokedexNumber': 121.0, 'SpecialDefense': 85.0, 'Total': 520.0, 'SpecialAttack': 100.0}, 132: {'Type': 'PsychicFairy', 'Name': 'Mr. Mime', 'Speed': 90.0, 'HP': 40.0, 'Attack': 45.0, 'Defense': 65.0, 'PokedexNumber': 122.0, 'SpecialDefense': 120.0, 'Total': 460.0, 'SpecialAttack': 100.0}, 133: {'Type': 'BugFlying', 'Name': 'Scyther', 'Speed': 105.0, 'HP': 70.0, 'Attack': 110.0, 'Defense': 80.0, 'PokedexNumber': 123.0, 'SpecialDefense': 80.0, 'Total': 500.0, 'SpecialAttack': 55.0}, 134: {'Type': 'IcePsychic', 'Name': 'Jynx', 'Speed': 95.0, 'HP': 65.0, 'Attack': 50.0, 'Defense': 35.0, 'PokedexNumber': 124.0, 'SpecialDefense': 95.0, 'Total': 455.0, 'SpecialAttack': 115.0}, 135: {'Type': 'Electric', 'Name': 'Electabuzz', 'Speed': 105.0, 'HP': 65.0, 'Attack': 83.0, 'Defense': 57.0, 'PokedexNumber': 125.0, 'SpecialDefense': 85.0, 'Total': 490.0, 'SpecialAttack': 95.0}, 136: {'Type': 'Fire', 'Name': 'Magmar', 'Speed': 93.0, 'HP': 65.0, 'Attack': 95.0, 'Defense': 57.0, 'PokedexNumber': 126.0, 'SpecialDefense': 85.0, 'Total': 495.0, 'SpecialAttack': 100.0}, 137: {'Type': 'Bug', 'Name': 'Pinsir', 'Speed': 85.0, 'HP': 65.0, 'Attack': 125.0, 'Defense': 100.0, 'PokedexNumber': 127.0, 'SpecialDefense': 70.0, 'Total': 500.0, 'SpecialAttack': 55.0}, 138: {'Type': 'BugFlying', 'Name': 'PinsirMega Pinsir', 'Speed': 105.0, 'HP': 65.0, 'Attack': 155.0, 'Defense': 120.0, 'PokedexNumber': 127.0, 'SpecialDefense': 90.0, 'Total': 600.0, 'SpecialAttack': 65.0}, 139: {'Type': 'Normal', 'Name': 'Tauros', 'Speed': 110.0, 'HP': 75.0, 'Attack': 100.0, 'Defense': 95.0, 'PokedexNumber': 128.0, 'SpecialDefense': 70.0, 'Total': 490.0, 'SpecialAttack': 40.0}, 140: {'Type': 'Water', 'Name': 'Magikarp', 'Speed': 80.0, 'HP': 20.0, 'Attack': 10.0, 'Defense': 55.0, 'PokedexNumber': 129.0, 'SpecialDefense': 20.0, 'Total': 200.0, 'SpecialAttack': 15.0}, 141: {'Type': 'WaterFlying', 'Name': 'Gyarados', 'Speed': 81.0, 'HP': 95.0, 'Attack': 125.0, 'Defense': 79.0, 'PokedexNumber': 130.0, 'SpecialDefense': 100.0, 'Total': 540.0, 'SpecialAttack': 60.0}, 142: {'Type': 'WaterDark', 'Name': 'GyaradosMega Gyarados', 'Speed': 81.0, 'HP': 95.0, 'Attack': 155.0, 'Defense': 109.0, 'PokedexNumber': 130.0, 'SpecialDefense': 130.0, 'Total': 640.0, 'SpecialAttack': 70.0}, 143: {'Type': 'WaterIce', 'Name': 'Lapras', 'Speed': 60.0, 'HP': 130.0, 'Attack': 85.0, 'Defense': 80.0, 'PokedexNumber': 131.0, 'SpecialDefense': 95.0, 'Total': 535.0, 'SpecialAttack': 85.0}, 144: {'Type': 'Normal', 'Name': 'Ditto', 'Speed': 48.0, 'HP': 48.0, 'Attack': 48.0, 'Defense': 48.0, 'PokedexNumber': 132.0, 'SpecialDefense': 48.0, 'Total': 288.0, 'SpecialAttack': 48.0}, 145: {'Type': 'Normal', 'Name': 'Eevee', 'Speed': 55.0, 'HP': 55.0, 'Attack': 55.0, 'Defense': 50.0, 'PokedexNumber': 133.0, 'SpecialDefense': 65.0, 'Total': 325.0, 'SpecialAttack': 45.0}, 146: {'Type': 'Water', 'Name': 'Vaporeon', 'Speed': 65.0, 'HP': 130.0, 'Attack': 65.0, 'Defense': 60.0, 'PokedexNumber': 134.0, 'SpecialDefense': 95.0, 'Total': 525.0, 'SpecialAttack': 110.0}, 147: {'Type': 'Electric', 'Name': 'Jolteon', 'Speed': 130.0, 'HP': 65.0, 'Attack': 65.0, 'Defense': 60.0, 'PokedexNumber': 135.0, 'SpecialDefense': 95.0, 'Total': 525.0, 'SpecialAttack': 110.0}, 148: {'Type': 'Fire', 'Name': 'Flareon', 'Speed': 65.0, 'HP': 65.0, 'Attack': 130.0, 'Defense': 60.0, 'PokedexNumber': 136.0, 'SpecialDefense': 110.0, 'Total': 525.0, 'SpecialAttack': 95.0}, 149: {'Type': 'Normal', 'Name': 'Porygon', 'Speed': 40.0, 'HP': 65.0, 'Attack': 60.0, 'Defense': 70.0, 'PokedexNumber': 137.0, 'SpecialDefense': 75.0, 'Total': 395.0, 'SpecialAttack': 85.0}, 150: {'Type': 'RockWater', 'Name': 'Omanyte', 'Speed': 35.0, 'HP': 35.0, 'Attack': 40.0, 'Defense': 100.0, 'PokedexNumber': 138.0, 'SpecialDefense': 55.0, 'Total': 355.0, 'SpecialAttack': 90.0}, 151: {'Type': 'RockWater', 'Name': 'Omastar', 'Speed': 55.0, 'HP': 70.0, 'Attack': 60.0, 'Defense': 125.0, 'PokedexNumber': 139.0, 'SpecialDefense': 70.0, 'Total': 495.0, 'SpecialAttack': 115.0}, 152: {'Type': 'RockWater', 'Name': 'Kabuto', 'Speed': 55.0, 'HP': 30.0, 'Attack': 80.0, 'Defense': 90.0, 'PokedexNumber': 140.0, 'SpecialDefense': 45.0, 'Total': 355.0, 'SpecialAttack': 55.0}, 153: {'Type': 'RockWater', 'Name': 'Kabutops', 'Speed': 80.0, 'HP': 60.0, 'Attack': 115.0, 'Defense': 105.0, 'PokedexNumber': 141.0, 'SpecialDefense': 70.0, 'Total': 495.0, 'SpecialAttack': 65.0}, 154: {'Type': 'RockFlying', 'Name': 'Aerodactyl', 'Speed': 130.0, 'HP': 80.0, 'Attack': 105.0, 'Defense': 65.0, 'PokedexNumber': 142.0, 'SpecialDefense': 75.0, 'Total': 515.0, 'SpecialAttack': 60.0}, 155: {'Type': 'RockFlying', 'Name': 'AerodactylMega Aerodactyl', 'Speed': 150.0, 'HP': 80.0, 'Attack': 135.0, 'Defense': 85.0, 'PokedexNumber': 142.0, 'SpecialDefense': 95.0, 'Total': 615.0, 'SpecialAttack': 70.0}, 156: {'Type': 'Normal', 'Name': 'Snorlax', 'Speed': 30.0, 'HP': 160.0, 'Attack': 110.0, 'Defense': 65.0, 'PokedexNumber': 143.0, 'SpecialDefense': 110.0, 'Total': 540.0, 'SpecialAttack': 65.0}, 157: {'Type': 'IceFlying', 'Name': 'Articuno', 'Speed': 85.0, 'HP': 90.0, 'Attack': 85.0, 'Defense': 100.0, 'PokedexNumber': 144.0, 'SpecialDefense': 125.0, 'Total': 580.0, 'SpecialAttack': 95.0}, 158: {'Type': 'ElectricFlying', 'Name': 'Zapdos', 'Speed': 100.0, 'HP': 90.0, 'Attack': 90.0, 'Defense': 85.0, 'PokedexNumber': 145.0, 'SpecialDefense': 90.0, 'Total': 580.0, 'SpecialAttack': 125.0}, 159: {'Type': 'FireFlying', 'Name': 'Moltres', 'Speed': 90.0, 'HP': 90.0, 'Attack': 100.0, 'Defense': 90.0, 'PokedexNumber': 146.0, 'SpecialDefense': 85.0, 'Total': 580.0, 'SpecialAttack': 125.0}, 160: {'Type': 'Dragon', 'Name': 'Dratini', 'Speed': 50.0, 'HP': 41.0, 'Attack': 64.0, 'Defense': 45.0, 'PokedexNumber': 147.0, 'SpecialDefense': 50.0, 'Total': 300.0, 'SpecialAttack': 50.0}, 161: {'Type': 'Dragon', 'Name': 'Dragonair', 'Speed': 70.0, 'HP': 61.0, 'Attack': 84.0, 'Defense': 65.0, 'PokedexNumber': 148.0, 'SpecialDefense': 70.0, 'Total': 420.0, 'SpecialAttack': 70.0}, 162: {'Type': 'DragonFlying', 'Name': 'Dragonite', 'Speed': 80.0, 'HP': 91.0, 'Attack': 134.0, 'Defense': 95.0, 'PokedexNumber': 149.0, 'SpecialDefense': 100.0, 'Total': 600.0, 'SpecialAttack': 100.0}, 163: {'Type': 'Psychic', 'Name': 'Mewtwo', 'Speed': 130.0, 'HP': 106.0, 'Attack': 110.0, 'Defense': 90.0, 'PokedexNumber': 150.0, 'SpecialDefense': 90.0, 'Total': 680.0, 'SpecialAttack': 154.0}, 164: {'Type': 'PsychicFighting', 'Name': 'MewtwoMega Mewtwo X', 'Speed': 130.0, 'HP': 126.0, 'Attack': 190.0, 'Defense': 100.0, 'PokedexNumber': 150.0, 'SpecialDefense': 100.0, 'Total': 800.0, 'SpecialAttack': 154.0}, 165: {'Type': 'Psychic', 'Name': 'MewtwoMega Mewtwo Y', 'Speed': 140.0, 'HP': 106.0, 'Attack': 150.0, 'Defense': 70.0, 'PokedexNumber': 150.0, 'SpecialDefense': 120.0, 'Total': 780.0, 'SpecialAttack': 194.0}, 166: {'Type': 'Psychic', 'Name': 'Mew', 'Speed': 100.0, 'HP': 100.0, 'Attack': 100.0, 'Defense': 100.0, 'PokedexNumber': 151.0, 'SpecialDefense': 100.0, 'Total': 600.0, 'SpecialAttack': 100.0}, 167: {'Type': 'Grass', 'Name': 'Chikorita', 'Speed': 45.0, 'HP': 45.0, 'Attack': 49.0, 'Defense': 65.0, 'PokedexNumber': 152.0, 'SpecialDefense': 65.0, 'Total': 318.0, 'SpecialAttack': 49.0}, 168: {'Type': 'Grass', 'Name': 'Bayleef', 'Speed': 60.0, 'HP': 60.0, 'Attack': 62.0, 'Defense': 80.0, 'PokedexNumber': 153.0, 'SpecialDefense': 80.0, 'Total': 405.0, 'SpecialAttack': 63.0}, 169: {'Type': 'Grass', 'Name': 'Meganium', 'Speed': 80.0, 'HP': 80.0, 'Attack': 82.0, 'Defense': 100.0, 'PokedexNumber': 154.0, 'SpecialDefense': 100.0, 'Total': 525.0, 'SpecialAttack': 83.0}, 170: {'Type': 'Fire', 'Name': 'Cyndaquil', 'Speed': 65.0, 'HP': 39.0, 'Attack': 52.0, 'Defense': 43.0, 'PokedexNumber': 155.0, 'SpecialDefense': 50.0, 'Total': 309.0, 'SpecialAttack': 60.0}, 171: {'Type': 'Fire', 'Name': 'Quilava', 'Speed': 80.0, 'HP': 58.0, 'Attack': 64.0, 'Defense': 58.0, 'PokedexNumber': 156.0, 'SpecialDefense': 65.0, 'Total': 405.0, 'SpecialAttack': 80.0}, 172: {'Type': 'Fire', 'Name': 'Typhlosion', 'Speed': 100.0, 'HP': 78.0, 'Attack': 84.0, 'Defense': 78.0, 'PokedexNumber': 157.0, 'SpecialDefense': 85.0, 'Total': 534.0, 'SpecialAttack': 109.0}, 173: {'Type': 'Water', 'Name': 'Totodile', 'Speed': 43.0, 'HP': 50.0, 'Attack': 65.0, 'Defense': 64.0, 'PokedexNumber': 158.0, 'SpecialDefense': 48.0, 'Total': 314.0, 'SpecialAttack': 44.0}, 174: {'Type': 'Water', 'Name': 'Croconaw', 'Speed': 58.0, 'HP': 65.0, 'Attack': 80.0, 'Defense': 80.0, 'PokedexNumber': 159.0, 'SpecialDefense': 63.0, 'Total': 405.0, 'SpecialAttack': 59.0}, 175: {'Type': 'Water', 'Name': 'Feraligatr', 'Speed': 78.0, 'HP': 85.0, 'Attack': 105.0, 'Defense': 100.0, 'PokedexNumber': 160.0, 'SpecialDefense': 83.0, 'Total': 530.0, 'SpecialAttack': 79.0}, 176: {'Type': 'Normal', 'Name': 'Sentret', 'Speed': 20.0, 'HP': 35.0, 'Attack': 46.0, 'Defense': 34.0, 'PokedexNumber': 161.0, 'SpecialDefense': 45.0, 'Total': 215.0, 'SpecialAttack': 35.0}, 177: {'Type': 'Normal', 'Name': 'Furret', 'Speed': 90.0, 'HP': 85.0, 'Attack': 76.0, 'Defense': 64.0, 'PokedexNumber': 162.0, 'SpecialDefense': 55.0, 'Total': 415.0, 'SpecialAttack': 45.0}, 178: {'Type': 'NormalFlying', 'Name': 'Hoothoot', 'Speed': 50.0, 'HP': 60.0, 'Attack': 30.0, 'Defense': 30.0, 'PokedexNumber': 163.0, 'SpecialDefense': 56.0, 'Total': 262.0, 'SpecialAttack': 36.0}, 179: {'Type': 'NormalFlying', 'Name': 'Noctowl', 'Speed': 70.0, 'HP': 100.0, 'Attack': 50.0, 'Defense': 50.0, 'PokedexNumber': 164.0, 'SpecialDefense': 96.0, 'Total': 442.0, 'SpecialAttack': 76.0}, 180: {'Type': 'BugFlying', 'Name': 'Ledyba', 'Speed': 55.0, 'HP': 40.0, 'Attack': 20.0, 'Defense': 30.0, 'PokedexNumber': 165.0, 'SpecialDefense': 80.0, 'Total': 265.0, 'SpecialAttack': 40.0}, 181: {'Type': 'BugFlying', 'Name': 'Ledian', 'Speed': 85.0, 'HP': 55.0, 'Attack': 35.0, 'Defense': 50.0, 'PokedexNumber': 166.0, 'SpecialDefense': 110.0, 'Total': 390.0, 'SpecialAttack': 55.0}, 182: {'Type': 'BugPoison', 'Name': 'Spinarak', 'Speed': 30.0, 'HP': 40.0, 'Attack': 60.0, 'Defense': 40.0, 'PokedexNumber': 167.0, 'SpecialDefense': 40.0, 'Total': 250.0, 'SpecialAttack': 40.0}, 183: {'Type': 'BugPoison', 'Name': 'Ariados', 'Speed': 40.0, 'HP': 70.0, 'Attack': 90.0, 'Defense': 70.0, 'PokedexNumber': 168.0, 'SpecialDefense': 60.0, 'Total': 390.0, 'SpecialAttack': 60.0}, 184: {'Type': 'PoisonFlying', 'Name': 'Crobat', 'Speed': 130.0, 'HP': 85.0, 'Attack': 90.0, 'Defense': 80.0, 'PokedexNumber': 169.0, 'SpecialDefense': 80.0, 'Total': 535.0, 'SpecialAttack': 70.0}, 185: {'Type': 'WaterElectric', 'Name': 'Chinchou', 'Speed': 67.0, 'HP': 75.0, 'Attack': 38.0, 'Defense': 38.0, 'PokedexNumber': 170.0, 'SpecialDefense': 56.0, 'Total': 330.0, 'SpecialAttack': 56.0}, 186: {'Type': 'WaterElectric', 'Name': 'Lanturn', 'Speed': 67.0, 'HP': 125.0, 'Attack': 58.0, 'Defense': 58.0, 'PokedexNumber': 171.0, 'SpecialDefense': 76.0, 'Total': 460.0, 'SpecialAttack': 76.0}, 187: {'Type': 'Electric', 'Name': 'Pichu', 'Speed': 60.0, 'HP': 20.0, 'Attack': 40.0, 'Defense': 15.0, 'PokedexNumber': 172.0, 'SpecialDefense': 35.0, 'Total': 205.0, 'SpecialAttack': 35.0}, 188: {'Type': 'Fairy', 'Name': 'Cleffa', 'Speed': 15.0, 'HP': 50.0, 'Attack': 25.0, 'Defense': 28.0, 'PokedexNumber': 173.0, 'SpecialDefense': 55.0, 'Total': 218.0, 'SpecialAttack': 45.0}, 189: {'Type': 'NormalFairy', 'Name': 'Igglybuff', 'Speed': 15.0, 'HP': 90.0, 'Attack': 30.0, 'Defense': 15.0, 'PokedexNumber': 174.0, 'SpecialDefense': 20.0, 'Total': 210.0, 'SpecialAttack': 40.0}, 190: {'Type': 'Fairy', 'Name': 'Togepi', 'Speed': 20.0, 'HP': 35.0, 'Attack': 20.0, 'Defense': 65.0, 'PokedexNumber': 175.0, 'SpecialDefense': 65.0, 'Total': 245.0, 'SpecialAttack': 40.0}, 191: {'Type': 'FairyFlying', 'Name': 'Togetic', 'Speed': 40.0, 'HP': 55.0, 'Attack': 40.0, 'Defense': 85.0, 'PokedexNumber': 176.0, 'SpecialDefense': 105.0, 'Total': 405.0, 'SpecialAttack': 80.0}, 192: {'Type': 'PsychicFlying', 'Name': 'Natu', 'Speed': 70.0, 'HP': 40.0, 'Attack': 50.0, 'Defense': 45.0, 'PokedexNumber': 177.0, 'SpecialDefense': 45.0, 'Total': 320.0, 'SpecialAttack': 70.0}, 193: {'Type': 'PsychicFlying', 'Name': 'Xatu', 'Speed': 95.0, 'HP': 65.0, 'Attack': 75.0, 'Defense': 70.0, 'PokedexNumber': 178.0, 'SpecialDefense': 70.0, 'Total': 470.0, 'SpecialAttack': 95.0}, 194: {'Type': 'Electric', 'Name': 'Mareep', 'Speed': 35.0, 'HP': 55.0, 'Attack': 40.0, 'Defense': 40.0, 'PokedexNumber': 179.0, 'SpecialDefense': 45.0, 'Total': 280.0, 'SpecialAttack': 65.0}, 195: {'Type': 'Electric', 'Name': 'Flaaffy', 'Speed': 45.0, 'HP': 70.0, 'Attack': 55.0, 'Defense': 55.0, 'PokedexNumber': 180.0, 'SpecialDefense': 60.0, 'Total': 365.0, 'SpecialAttack': 80.0}, 196: {'Type': 'Electric', 'Name': 'Ampharos', 'Speed': 55.0, 'HP': 90.0, 'Attack': 75.0, 'Defense': 85.0, 'PokedexNumber': 181.0, 'SpecialDefense': 90.0, 'Total': 510.0, 'SpecialAttack': 115.0}, 197: {'Type': 'ElectricDragon', 'Name': 'AmpharosMega Ampharos', 'Speed': 45.0, 'HP': 90.0, 'Attack': 95.0, 'Defense': 105.0, 'PokedexNumber': 181.0, 'SpecialDefense': 110.0, 'Total': 610.0, 'SpecialAttack': 165.0}, 198: {'Type': 'Grass', 'Name': 'Bellossom', 'Speed': 50.0, 'HP': 75.0, 'Attack': 80.0, 'Defense': 95.0, 'PokedexNumber': 182.0, 'SpecialDefense': 100.0, 'Total': 490.0, 'SpecialAttack': 90.0}, 199: {'Type': 'WaterFairy', 'Name': 'Marill', 'Speed': 40.0, 'HP': 70.0, 'Attack': 20.0, 'Defense': 50.0, 'PokedexNumber': 183.0, 'SpecialDefense': 50.0, 'Total': 250.0, 'SpecialAttack': 20.0}, 200: {'Type': 'WaterFairy', 'Name': 'Azumarill', 'Speed': 50.0, 'HP': 100.0, 'Attack': 50.0, 'Defense': 80.0, 'PokedexNumber': 184.0, 'SpecialDefense': 80.0, 'Total': 420.0, 'SpecialAttack': 60.0}, 201: {'Type': 'Rock', 'Name': 'Sudowoodo', 'Speed': 30.0, 'HP': 70.0, 'Attack': 100.0, 'Defense': 115.0, 'PokedexNumber': 185.0, 'SpecialDefense': 65.0, 'Total': 410.0, 'SpecialAttack': 30.0}, 202: {'Type': 'Water', 'Name': 'Politoed', 'Speed': 70.0, 'HP': 90.0, 'Attack': 75.0, 'Defense': 75.0, 'PokedexNumber': 186.0, 'SpecialDefense': 100.0, 'Total': 500.0, 'SpecialAttack': 90.0}, 203: {'Type': 'GrassFlying', 'Name': 'Hoppip', 'Speed': 50.0, 'HP': 35.0, 'Attack': 35.0, 'Defense': 40.0, 'PokedexNumber': 187.0, 'SpecialDefense': 55.0, 'Total': 250.0, 'SpecialAttack': 35.0}, 204: {'Type': 'GrassFlying', 'Name': 'Skiploom', 'Speed': 80.0, 'HP': 55.0, 'Attack': 45.0, 'Defense': 50.0, 'PokedexNumber': 188.0, 'SpecialDefense': 65.0, 'Total': 340.0, 'SpecialAttack': 45.0}, 205: {'Type': 'GrassFlying', 'Name': 'Jumpluff', 'Speed': 110.0, 'HP': 75.0, 'Attack': 55.0, 'Defense': 70.0, 'PokedexNumber': 189.0, 'SpecialDefense': 95.0, 'Total': 460.0, 'SpecialAttack': 55.0}, 206: {'Type': 'Normal', 'Name': 'Aipom', 'Speed': 85.0, 'HP': 55.0, 'Attack': 70.0, 'Defense': 55.0, 'PokedexNumber': 190.0, 'SpecialDefense': 55.0, 'Total': 360.0, 'SpecialAttack': 40.0}, 207: {'Type': 'Grass', 'Name': 'Sunkern', 'Speed': 30.0, 'HP': 30.0, 'Attack': 30.0, 'Defense': 30.0, 'PokedexNumber': 191.0, 'SpecialDefense': 30.0, 'Total': 180.0, 'SpecialAttack': 30.0}, 208: {'Type': 'Grass', 'Name': 'Sunflora', 'Speed': 30.0, 'HP': 75.0, 'Attack': 75.0, 'Defense': 55.0, 'PokedexNumber': 192.0, 'SpecialDefense': 85.0, 'Total': 425.0, 'SpecialAttack': 105.0}, 209: {'Type': 'BugFlying', 'Name': 'Yanma', 'Speed': 95.0, 'HP': 65.0, 'Attack': 65.0, 'Defense': 45.0, 'PokedexNumber': 193.0, 'SpecialDefense': 45.0, 'Total': 390.0, 'SpecialAttack': 75.0}, 210: {'Type': 'WaterGround', 'Name': 'Wooper', 'Speed': 15.0, 'HP': 55.0, 'Attack': 45.0, 'Defense': 45.0, 'PokedexNumber': 194.0, 'SpecialDefense': 25.0, 'Total': 210.0, 'SpecialAttack': 25.0}, 211: {'Type': 'WaterGround', 'Name': 'Quagsire', 'Speed': 35.0, 'HP': 95.0, 'Attack': 85.0, 'Defense': 85.0, 'PokedexNumber': 195.0, 'SpecialDefense': 65.0, 'Total': 430.0, 'SpecialAttack': 65.0}, 212: {'Type': 'Psychic', 'Name': 'Espeon', 'Speed': 110.0, 'HP': 65.0, 'Attack': 65.0, 'Defense': 60.0, 'PokedexNumber': 196.0, 'SpecialDefense': 95.0, 'Total': 525.0, 'SpecialAttack': 130.0}, 213: {'Type': 'Dark', 'Name': 'Umbreon', 'Speed': 65.0, 'HP': 95.0, 'Attack': 65.0, 'Defense': 110.0, 'PokedexNumber': 197.0, 'SpecialDefense': 130.0, 'Total': 525.0, 'SpecialAttack': 60.0}, 214: {'Type': 'DarkFlying', 'Name': 'Murkrow', 'Speed': 91.0, 'HP': 60.0, 'Attack': 85.0, 'Defense': 42.0, 'PokedexNumber': 198.0, 'SpecialDefense': 42.0, 'Total': 405.0, 'SpecialAttack': 85.0}, 215: {'Type': 'WaterPsychic', 'Name': 'Slowking', 'Speed': 30.0, 'HP': 95.0, 'Attack': 75.0, 'Defense': 80.0, 'PokedexNumber': 199.0, 'SpecialDefense': 110.0, 'Total': 490.0, 'SpecialAttack': 100.0}, 216: {'Type': 'Ghost', 'Name': 'Misdreavus', 'Speed': 85.0, 'HP': 60.0, 'Attack': 60.0, 'Defense': 60.0, 'PokedexNumber': 200.0, 'SpecialDefense': 85.0, 'Total': 435.0, 'SpecialAttack': 85.0}, 217: {'Type': 'Psychic', 'Name': 'Unown', 'Speed': 48.0, 'HP': 48.0, 'Attack': 72.0, 'Defense': 48.0, 'PokedexNumber': 201.0, 'SpecialDefense': 48.0, 'Total': 336.0, 'SpecialAttack': 72.0}, 218: {'Type': 'Psychic', 'Name': 'Wobbuffet', 'Speed': 33.0, 'HP': 190.0, 'Attack': 33.0, 'Defense': 58.0, 'PokedexNumber': 202.0, 'SpecialDefense': 58.0, 'Total': 405.0, 'SpecialAttack': 33.0}, 219: {'Type': 'NormalPsychic', 'Name': 'Girafarig', 'Speed': 85.0, 'HP': 70.0, 'Attack': 80.0, 'Defense': 65.0, 'PokedexNumber': 203.0, 'SpecialDefense': 65.0, 'Total': 455.0, 'SpecialAttack': 90.0}, 220: {'Type': 'Bug', 'Name': 'Pineco', 'Speed': 15.0, 'HP': 50.0, 'Attack': 65.0, 'Defense': 90.0, 'PokedexNumber': 204.0, 'SpecialDefense': 35.0, 'Total': 290.0, 'SpecialAttack': 35.0}, 221: {'Type': 'BugSteel', 'Name': 'Forretress', 'Speed': 40.0, 'HP': 75.0, 'Attack': 90.0, 'Defense': 140.0, 'PokedexNumber': 205.0, 'SpecialDefense': 60.0, 'Total': 465.0, 'SpecialAttack': 60.0}, 222: {'Type': 'Normal', 'Name': 'Dunsparce', 'Speed': 45.0, 'HP': 100.0, 'Attack': 70.0, 'Defense': 70.0, 'PokedexNumber': 206.0, 'SpecialDefense': 65.0, 'Total': 415.0, 'SpecialAttack': 65.0}, 223: {'Type': 'GroundFlying', 'Name': 'Gligar', 'Speed': 85.0, 'HP': 65.0, 'Attack': 75.0, 'Defense': 105.0, 'PokedexNumber': 207.0, 'SpecialDefense': 65.0, 'Total': 430.0, 'SpecialAttack': 35.0}, 224: {'Type': 'SteelGround', 'Name': 'Steelix', 'Speed': 30.0, 'HP': 75.0, 'Attack': 85.0, 'Defense': 200.0, 'PokedexNumber': 208.0, 'SpecialDefense': 65.0, 'Total': 510.0, 'SpecialAttack': 55.0}, 225: {'Type': 'SteelGround', 'Name': 'SteelixMega Steelix', 'Speed': 30.0, 'HP': 75.0, 'Attack': 125.0, 'Defense': 230.0, 'PokedexNumber': 208.0, 'SpecialDefense': 95.0, 'Total': 610.0, 'SpecialAttack': 55.0}, 226: {'Type': 'Fairy', 'Name': 'Snubbull', 'Speed': 30.0, 'HP': 60.0, 'Attack': 80.0, 'Defense': 50.0, 'PokedexNumber': 209.0, 'SpecialDefense': 40.0, 'Total': 300.0, 'SpecialAttack': 40.0}, 227: {'Type': 'Fairy', 'Name': 'Granbull', 'Speed': 45.0, 'HP': 90.0, 'Attack': 120.0, 'Defense': 75.0, 'PokedexNumber': 210.0, 'SpecialDefense': 60.0, 'Total': 450.0, 'SpecialAttack': 60.0}, 228: {'Type': 'WaterPoison', 'Name': 'Qwilfish', 'Speed': 85.0, 'HP': 65.0, 'Attack': 95.0, 'Defense': 75.0, 'PokedexNumber': 211.0, 'SpecialDefense': 55.0, 'Total': 430.0, 'SpecialAttack': 55.0}, 229: {'Type': 'BugSteel', 'Name': 'Scizor', 'Speed': 65.0, 'HP': 70.0, 'Attack': 130.0, 'Defense': 100.0, 'PokedexNumber': 212.0, 'SpecialDefense': 80.0, 'Total': 500.0, 'SpecialAttack': 55.0}, 230: {'Type': 'BugSteel', 'Name': 'ScizorMega Scizor', 'Speed': 75.0, 'HP': 70.0, 'Attack': 150.0, 'Defense': 140.0, 'PokedexNumber': 212.0, 'SpecialDefense': 100.0, 'Total': 600.0, 'SpecialAttack': 65.0}, 231: {'Type': 'BugRock', 'Name': 'Shuckle', 'Speed': 5.0, 'HP': 20.0, 'Attack': 10.0, 'Defense': 230.0, 'PokedexNumber': 213.0, 'SpecialDefense': 230.0, 'Total': 505.0, 'SpecialAttack': 10.0}, 232: {'Type': 'BugFighting', 'Name': 'Heracross', 'Speed': 85.0, 'HP': 80.0, 'Attack': 125.0, 'Defense': 75.0, 'PokedexNumber': 214.0, 'SpecialDefense': 95.0, 'Total': 500.0, 'SpecialAttack': 40.0}, 233: {'Type': 'BugFighting', 'Name': 'HeracrossMega Heracross', 'Speed': 75.0, 'HP': 80.0, 'Attack': 185.0, 'Defense': 115.0, 'PokedexNumber': 214.0, 'SpecialDefense': 105.0, 'Total': 600.0, 'SpecialAttack': 40.0}, 234: {'Type': 'DarkIce', 'Name': 'Sneasel', 'Speed': 115.0, 'HP': 55.0, 'Attack': 95.0, 'Defense': 55.0, 'PokedexNumber': 215.0, 'SpecialDefense': 75.0, 'Total': 430.0, 'SpecialAttack': 35.0}, 235: {'Type': 'Normal', 'Name': 'Teddiursa', 'Speed': 40.0, 'HP': 60.0, 'Attack': 80.0, 'Defense': 50.0, 'PokedexNumber': 216.0, 'SpecialDefense': 50.0, 'Total': 330.0, 'SpecialAttack': 50.0}, 236: {'Type': 'Normal', 'Name': 'Ursaring', 'Speed': 55.0, 'HP': 90.0, 'Attack': 130.0, 'Defense': 75.0, 'PokedexNumber': 217.0, 'SpecialDefense': 75.0, 'Total': 500.0, 'SpecialAttack': 75.0}, 237: {'Type': 'Fire', 'Name': 'Slugma', 'Speed': 20.0, 'HP': 40.0, 'Attack': 40.0, 'Defense': 40.0, 'PokedexNumber': 218.0, 'SpecialDefense': 40.0, 'Total': 250.0, 'SpecialAttack': 70.0}, 238: {'Type': 'FireRock', 'Name': 'Magcargo', 'Speed': 30.0, 'HP': 50.0, 'Attack': 50.0, 'Defense': 120.0, 'PokedexNumber': 219.0, 'SpecialDefense': 80.0, 'Total': 410.0, 'SpecialAttack': 80.0}, 239: {'Type': 'IceGround', 'Name': 'Swinub', 'Speed': 50.0, 'HP': 50.0, 'Attack': 50.0, 'Defense': 40.0, 'PokedexNumber': 220.0, 'SpecialDefense': 30.0, 'Total': 250.0, 'SpecialAttack': 30.0}, 240: {'Type': 'IceGround', 'Name': 'Piloswine', 'Speed': 50.0, 'HP': 100.0, 'Attack': 100.0, 'Defense': 80.0, 'PokedexNumber': 221.0, 'SpecialDefense': 60.0, 'Total': 450.0, 'SpecialAttack': 60.0}, 241: {'Type': 'WaterRock', 'Name': 'Corsola', 'Speed': 35.0, 'HP': 55.0, 'Attack': 55.0, 'Defense': 85.0, 'PokedexNumber': 222.0, 'SpecialDefense': 85.0, 'Total': 380.0, 'SpecialAttack': 65.0}, 242: {'Type': 'Water', 'Name': 'Remoraid', 'Speed': 65.0, 'HP': 35.0, 'Attack': 65.0, 'Defense': 35.0, 'PokedexNumber': 223.0, 'SpecialDefense': 35.0, 'Total': 300.0, 'SpecialAttack': 65.0}, 243: {'Type': 'Water', 'Name': 'Octillery', 'Speed': 45.0, 'HP': 75.0, 'Attack': 105.0, 'Defense': 75.0, 'PokedexNumber': 224.0, 'SpecialDefense': 75.0, 'Total': 480.0, 'SpecialAttack': 105.0}, 244: {'Type': 'IceFlying', 'Name': 'Delibird', 'Speed': 75.0, 'HP': 45.0, 'Attack': 55.0, 'Defense': 45.0, 'PokedexNumber': 225.0, 'SpecialDefense': 45.0, 'Total': 330.0, 'SpecialAttack': 65.0}, 245: {'Type': 'WaterFlying', 'Name': 'Mantine', 'Speed': 70.0, 'HP': 65.0, 'Attack': 40.0, 'Defense': 70.0, 'PokedexNumber': 226.0, 'SpecialDefense': 140.0, 'Total': 465.0, 'SpecialAttack': 80.0}, 246: {'Type': 'SteelFlying', 'Name': 'Skarmory', 'Speed': 70.0, 'HP': 65.0, 'Attack': 80.0, 'Defense': 140.0, 'PokedexNumber': 227.0, 'SpecialDefense': 70.0, 'Total': 465.0, 'SpecialAttack': 40.0}, 247: {'Type': 'DarkFire', 'Name': 'Houndour', 'Speed': 65.0, 'HP': 45.0, 'Attack': 60.0, 'Defense': 30.0, 'PokedexNumber': 228.0, 'SpecialDefense': 50.0, 'Total': 330.0, 'SpecialAttack': 80.0}, 248: {'Type': 'DarkFire', 'Name': 'Houndoom', 'Speed': 95.0, 'HP': 75.0, 'Attack': 90.0, 'Defense': 50.0, 'PokedexNumber': 229.0, 'SpecialDefense': 80.0, 'Total': 500.0, 'SpecialAttack': 110.0}, 249: {'Type': 'DarkFire', 'Name': 'HoundoomMega Houndoom', 'Speed': 115.0, 'HP': 75.0, 'Attack': 90.0, 'Defense': 90.0, 'PokedexNumber': 229.0, 'SpecialDefense': 90.0, 'Total': 600.0, 'SpecialAttack': 140.0}, 250: {'Type': 'WaterDragon', 'Name': 'Kingdra', 'Speed': 85.0, 'HP': 75.0, 'Attack': 95.0, 'Defense': 95.0, 'PokedexNumber': 230.0, 'SpecialDefense': 95.0, 'Total': 540.0, 'SpecialAttack': 95.0}, 251: {'Type': 'Ground', 'Name': 'Phanpy', 'Speed': 40.0, 'HP': 90.0, 'Attack': 60.0, 'Defense': 60.0, 'PokedexNumber': 231.0, 'SpecialDefense': 40.0, 'Total': 330.0, 'SpecialAttack': 40.0}, 252: {'Type': 'Ground', 'Name': 'Donphan', 'Speed': 50.0, 'HP': 90.0, 'Attack': 120.0, 'Defense': 120.0, 'PokedexNumber': 232.0, 'SpecialDefense': 60.0, 'Total': 500.0, 'SpecialAttack': 60.0}, 253: {'Type': 'Normal', 'Name': 'Porygon2', 'Speed': 60.0, 'HP': 85.0, 'Attack': 80.0, 'Defense': 90.0, 'PokedexNumber': 233.0, 'SpecialDefense': 95.0, 'Total': 515.0, 'SpecialAttack': 105.0}, 254: {'Type': 'Normal', 'Name': 'Stantler', 'Speed': 85.0, 'HP': 73.0, 'Attack': 95.0, 'Defense': 62.0, 'PokedexNumber': 234.0, 'SpecialDefense': 65.0, 'Total': 465.0, 'SpecialAttack': 85.0}, 255: {'Type': 'Normal', 'Name': 'Smeargle', 'Speed': 75.0, 'HP': 55.0, 'Attack': 20.0, 'Defense': 35.0, 'PokedexNumber': 235.0, 'SpecialDefense': 45.0, 'Total': 250.0, 'SpecialAttack': 20.0}, 256: {'Type': 'Fighting', 'Name': 'Tyrogue', 'Speed': 35.0, 'HP': 35.0, 'Attack': 35.0, 'Defense': 35.0, 'PokedexNumber': 236.0, 'SpecialDefense': 35.0, 'Total': 210.0, 'SpecialAttack': 35.0}, 257: {'Type': 'Fighting', 'Name': 'Hitmontop', 'Speed': 70.0, 'HP': 50.0, 'Attack': 95.0, 'Defense': 95.0, 'PokedexNumber': 237.0, 'SpecialDefense': 110.0, 'Total': 455.0, 'SpecialAttack': 35.0}, 258: {'Type': 'IcePsychic', 'Name': 'Smoochum', 'Speed': 65.0, 'HP': 45.0, 'Attack': 30.0, 'Defense': 15.0, 'PokedexNumber': 238.0, 'SpecialDefense': 65.0, 'Total': 305.0, 'SpecialAttack': 85.0}, 259: {'Type': 'Electric', 'Name': 'Elekid', 'Speed': 95.0, 'HP': 45.0, 'Attack': 63.0, 'Defense': 37.0, 'PokedexNumber': 239.0, 'SpecialDefense': 55.0, 'Total': 360.0, 'SpecialAttack': 65.0}, 260: {'Type': 'Fire', 'Name': 'Magby', 'Speed': 83.0, 'HP': 45.0, 'Attack': 75.0, 'Defense': 37.0, 'PokedexNumber': 240.0, 'SpecialDefense': 55.0, 'Total': 365.0, 'SpecialAttack': 70.0}, 261: {'Type': 'Normal', 'Name': 'Miltank', 'Speed': 100.0, 'HP': 95.0, 'Attack': 80.0, 'Defense': 105.0, 'PokedexNumber': 241.0, 'SpecialDefense': 70.0, 'Total': 490.0, 'SpecialAttack': 40.0}, 262: {'Type': 'Normal', 'Name': 'Blissey', 'Speed': 55.0, 'HP': 255.0, 'Attack': 10.0, 'Defense': 10.0, 'PokedexNumber': 242.0, 'SpecialDefense': 135.0, 'Total': 540.0, 'SpecialAttack': 75.0}, 263: {'Type': 'Electric', 'Name': 'Raikou', 'Speed': 115.0, 'HP': 90.0, 'Attack': 85.0, 'Defense': 75.0, 'PokedexNumber': 243.0, 'SpecialDefense': 100.0, 'Total': 580.0, 'SpecialAttack': 115.0}, 264: {'Type': 'Fire', 'Name': 'Entei', 'Speed': 100.0, 'HP': 115.0, 'Attack': 115.0, 'Defense': 85.0, 'PokedexNumber': 244.0, 'SpecialDefense': 75.0, 'Total': 580.0, 'SpecialAttack': 90.0}, 265: {'Type': 'Water', 'Name': 'Suicune', 'Speed': 85.0, 'HP': 100.0, 'Attack': 75.0, 'Defense': 115.0, 'PokedexNumber': 245.0, 'SpecialDefense': 115.0, 'Total': 580.0, 'SpecialAttack': 90.0}, 266: {'Type': 'RockGround', 'Name': 'Larvitar', 'Speed': 41.0, 'HP': 50.0, 'Attack': 64.0, 'Defense': 50.0, 'PokedexNumber': 246.0, 'SpecialDefense': 50.0, 'Total': 300.0, 'SpecialAttack': 45.0}, 267: {'Type': 'RockGround', 'Name': 'Pupitar', 'Speed': 51.0, 'HP': 70.0, 'Attack': 84.0, 'Defense': 70.0, 'PokedexNumber': 247.0, 'SpecialDefense': 70.0, 'Total': 410.0, 'SpecialAttack': 65.0}, 268: {'Type': 'RockDark', 'Name': 'Tyranitar', 'Speed': 61.0, 'HP': 100.0, 'Attack': 134.0, 'Defense': 110.0, 'PokedexNumber': 248.0, 'SpecialDefense': 100.0, 'Total': 600.0, 'SpecialAttack': 95.0}, 269: {'Type': 'RockDark', 'Name': 'TyranitarMega Tyranitar', 'Speed': 71.0, 'HP': 100.0, 'Attack': 164.0, 'Defense': 150.0, 'PokedexNumber': 248.0, 'SpecialDefense': 120.0, 'Total': 700.0, 'SpecialAttack': 95.0}, 270: {'Type': 'PsychicFlying', 'Name': 'Lugia', 'Speed': 110.0, 'HP': 106.0, 'Attack': 90.0, 'Defense': 130.0, 'PokedexNumber': 249.0, 'SpecialDefense': 154.0, 'Total': 680.0, 'SpecialAttack': 90.0}, 271: {'Type': 'FireFlying', 'Name': 'Ho-oh', 'Speed': 90.0, 'HP': 106.0, 'Attack': 130.0, 'Defense': 90.0, 'PokedexNumber': 250.0, 'SpecialDefense': 154.0, 'Total': 680.0, 'SpecialAttack': 110.0}, 272: {'Type': 'PsychicGrass', 'Name': 'Celebi', 'Speed': 100.0, 'HP': 100.0, 'Attack': 100.0, 'Defense': 100.0, 'PokedexNumber': 251.0, 'SpecialDefense': 100.0, 'Total': 600.0, 'SpecialAttack': 100.0}, 273: {'Type': 'Grass', 'Name': 'Treecko', 'Speed': 70.0, 'HP': 40.0, 'Attack': 45.0, 'Defense': 35.0, 'PokedexNumber': 252.0, 'SpecialDefense': 55.0, 'Total': 310.0, 'SpecialAttack': 65.0}, 274: {'Type': 'Grass', 'Name': 'Grovyle', 'Speed': 95.0, 'HP': 50.0, 'Attack': 65.0, 'Defense': 45.0, 'PokedexNumber': 253.0, 'SpecialDefense': 65.0, 'Total': 405.0, 'SpecialAttack': 85.0}, 275: {'Type': 'Grass', 'Name': 'Sceptile', 'Speed': 120.0, 'HP': 70.0, 'Attack': 85.0, 'Defense': 65.0, 'PokedexNumber': 254.0, 'SpecialDefense': 85.0, 'Total': 530.0, 'SpecialAttack': 105.0}, 276: {'Type': 'GrassDragon', 'Name': 'SceptileMega Sceptile', 'Speed': 145.0, 'HP': 70.0, 'Attack': 110.0, 'Defense': 75.0, 'PokedexNumber': 254.0, 'SpecialDefense': 85.0, 'Total': 630.0, 'SpecialAttack': 145.0}, 277: {'Type': 'Fire', 'Name': 'Torchic', 'Speed': 45.0, 'HP': 45.0, 'Attack': 60.0, 'Defense': 40.0, 'PokedexNumber': 255.0, 'SpecialDefense': 50.0, 'Total': 310.0, 'SpecialAttack': 70.0}, 278: {'Type': 'FireFighting', 'Name': 'Combusken', 'Speed': 55.0, 'HP': 60.0, 'Attack': 85.0, 'Defense': 60.0, 'PokedexNumber': 256.0, 'SpecialDefense': 60.0, 'Total': 405.0, 'SpecialAttack': 85.0}, 279: {'Type': 'FireFighting', 'Name': 'Blaziken', 'Speed': 80.0, 'HP': 80.0, 'Attack': 120.0, 'Defense': 70.0, 'PokedexNumber': 257.0, 'SpecialDefense': 70.0, 'Total': 530.0, 'SpecialAttack': 110.0}, 280: {'Type': 'FireFighting', 'Name': 'BlazikenMega Blaziken', 'Speed': 100.0, 'HP': 80.0, 'Attack': 160.0, 'Defense': 80.0, 'PokedexNumber': 257.0, 'SpecialDefense': 80.0, 'Total': 630.0, 'SpecialAttack': 130.0}, 281: {'Type': 'Water', 'Name': 'Mudkip', 'Speed': 40.0, 'HP': 50.0, 'Attack': 70.0, 'Defense': 50.0, 'PokedexNumber': 258.0, 'SpecialDefense': 50.0, 'Total': 310.0, 'SpecialAttack': 50.0}, 282: {'Type': 'WaterGround', 'Name': 'Marshtomp', 'Speed': 50.0, 'HP': 70.0, 'Attack': 85.0, 'Defense': 70.0, 'PokedexNumber': 259.0, 'SpecialDefense': 70.0, 'Total': 405.0, 'SpecialAttack': 60.0}, 283: {'Type': 'WaterGround', 'Name': 'Swampert', 'Speed': 60.0, 'HP': 100.0, 'Attack': 110.0, 'Defense': 90.0, 'PokedexNumber': 260.0, 'SpecialDefense': 90.0, 'Total': 535.0, 'SpecialAttack': 85.0}, 284: {'Type': 'WaterGround', 'Name': 'SwampertMega Swampert', 'Speed': 70.0, 'HP': 100.0, 'Attack': 150.0, 'Defense': 110.0, 'PokedexNumber': 260.0, 'SpecialDefense': 110.0, 'Total': 635.0, 'SpecialAttack': 95.0}, 285: {'Type': 'Dark', 'Name': 'Poochyena', 'Speed': 35.0, 'HP': 35.0, 'Attack': 55.0, 'Defense': 35.0, 'PokedexNumber': 261.0, 'SpecialDefense': 30.0, 'Total': 220.0, 'SpecialAttack': 30.0}, 286: {'Type': 'Dark', 'Name': 'Mightyena', 'Speed': 70.0, 'HP': 70.0, 'Attack': 90.0, 'Defense': 70.0, 'PokedexNumber': 262.0, 'SpecialDefense': 60.0, 'Total': 420.0, 'SpecialAttack': 60.0}, 287: {'Type': 'Normal', 'Name': 'Zigzagoon', 'Speed': 60.0, 'HP': 38.0, 'Attack': 30.0, 'Defense': 41.0, 'PokedexNumber': 263.0, 'SpecialDefense': 41.0, 'Total': 240.0, 'SpecialAttack': 30.0}, 288: {'Type': 'Normal', 'Name': 'Linoone', 'Speed': 100.0, 'HP': 78.0, 'Attack': 70.0, 'Defense': 61.0, 'PokedexNumber': 264.0, 'SpecialDefense': 61.0, 'Total': 420.0, 'SpecialAttack': 50.0}, 289: {'Type': 'Bug', 'Name': 'Wurmple', 'Speed': 20.0, 'HP': 45.0, 'Attack': 45.0, 'Defense': 35.0, 'PokedexNumber': 265.0, 'SpecialDefense': 30.0, 'Total': 195.0, 'SpecialAttack': 20.0}, 290: {'Type': 'Bug', 'Name': 'Silcoon', 'Speed': 15.0, 'HP': 50.0, 'Attack': 35.0, 'Defense': 55.0, 'PokedexNumber': 266.0, 'SpecialDefense': 25.0, 'Total': 205.0, 'SpecialAttack': 25.0}, 291: {'Type': 'BugFlying', 'Name': 'Beautifly', 'Speed': 65.0, 'HP': 60.0, 'Attack': 70.0, 'Defense': 50.0, 'PokedexNumber': 267.0, 'SpecialDefense': 50.0, 'Total': 395.0, 'SpecialAttack': 100.0}, 292: {'Type': 'Bug', 'Name': 'Cascoon', 'Speed': 15.0, 'HP': 50.0, 'Attack': 35.0, 'Defense': 55.0, 'PokedexNumber': 268.0, 'SpecialDefense': 25.0, 'Total': 205.0, 'SpecialAttack': 25.0}, 293: {'Type': 'BugPoison', 'Name': 'Dustox', 'Speed': 65.0, 'HP': 60.0, 'Attack': 50.0, 'Defense': 70.0, 'PokedexNumber': 269.0, 'SpecialDefense': 90.0, 'Total': 385.0, 'SpecialAttack': 50.0}, 294: {'Type': 'WaterGrass', 'Name': 'Lotad', 'Speed': 30.0, 'HP': 40.0, 'Attack': 30.0, 'Defense': 30.0, 'PokedexNumber': 270.0, 'SpecialDefense': 50.0, 'Total': 220.0, 'SpecialAttack': 40.0}, 295: {'Type': 'WaterGrass', 'Name': 'Lombre', 'Speed': 50.0, 'HP': 60.0, 'Attack': 50.0, 'Defense': 50.0, 'PokedexNumber': 271.0, 'SpecialDefense': 70.0, 'Total': 340.0, 'SpecialAttack': 60.0}, 296: {'Type': 'WaterGrass', 'Name': 'Ludicolo', 'Speed': 70.0, 'HP': 80.0, 'Attack': 70.0, 'Defense': 70.0, 'PokedexNumber': 272.0, 'SpecialDefense': 100.0, 'Total': 480.0, 'SpecialAttack': 90.0}, 297: {'Type': 'Grass', 'Name': 'Seedot', 'Speed': 30.0, 'HP': 40.0, 'Attack': 40.0, 'Defense': 50.0, 'PokedexNumber': 273.0, 'SpecialDefense': 30.0, 'Total': 220.0, 'SpecialAttack': 30.0}, 298: {'Type': 'GrassDark', 'Name': 'Nuzleaf', 'Speed': 60.0, 'HP': 70.0, 'Attack': 70.0, 'Defense': 40.0, 'PokedexNumber': 274.0, 'SpecialDefense': 40.0, 'Total': 340.0, 'SpecialAttack': 60.0}, 299: {'Type': 'GrassDark', 'Name': 'Shiftry', 'Speed': 80.0, 'HP': 90.0, 'Attack': 100.0, 'Defense': 60.0, 'PokedexNumber': 275.0, 'SpecialDefense': 60.0, 'Total': 480.0, 'SpecialAttack': 90.0}, 300: {'Type': 'NormalFlying', 'Name': 'Taillow', 'Speed': 85.0, 'HP': 40.0, 'Attack': 55.0, 'Defense': 30.0, 'PokedexNumber': 276.0, 'SpecialDefense': 30.0, 'Total': 270.0, 'SpecialAttack': 30.0}, 301: {'Type': 'NormalFlying', 'Name': 'Swellow', 'Speed': 125.0, 'HP': 60.0, 'Attack': 85.0, 'Defense': 60.0, 'PokedexNumber': 277.0, 'SpecialDefense': 50.0, 'Total': 430.0, 'SpecialAttack': 50.0}, 302: {'Type': 'WaterFlying', 'Name': 'Wingull', 'Speed': 85.0, 'HP': 40.0, 'Attack': 30.0, 'Defense': 30.0, 'PokedexNumber': 278.0, 'SpecialDefense': 30.0, 'Total': 270.0, 'SpecialAttack': 55.0}, 303: {'Type': 'WaterFlying', 'Name': 'Pelipper', 'Speed': 65.0, 'HP': 60.0, 'Attack': 50.0, 'Defense': 100.0, 'PokedexNumber': 279.0, 'SpecialDefense': 70.0, 'Total': 430.0, 'SpecialAttack': 85.0}, 304: {'Type': 'PsychicFairy', 'Name': 'Ralts', 'Speed': 40.0, 'HP': 28.0, 'Attack': 25.0, 'Defense': 25.0, 'PokedexNumber': 280.0, 'SpecialDefense': 35.0, 'Total': 198.0, 'SpecialAttack': 45.0}, 305: {'Type': 'PsychicFairy', 'Name': 'Kirlia', 'Speed': 50.0, 'HP': 38.0, 'Attack': 35.0, 'Defense': 35.0, 'PokedexNumber': 281.0, 'SpecialDefense': 55.0, 'Total': 278.0, 'SpecialAttack': 65.0}, 306: {'Type': 'PsychicFairy', 'Name': 'Gardevoir', 'Speed': 80.0, 'HP': 68.0, 'Attack': 65.0, 'Defense': 65.0, 'PokedexNumber': 282.0, 'SpecialDefense': 115.0, 'Total': 518.0, 'SpecialAttack': 125.0}, 307: {'Type': 'PsychicFairy', 'Name': 'GardevoirMega Gardevoir', 'Speed': 100.0, 'HP': 68.0, 'Attack': 85.0, 'Defense': 65.0, 'PokedexNumber': 282.0, 'SpecialDefense': 135.0, 'Total': 618.0, 'SpecialAttack': 165.0}, 308: {'Type': 'BugWater', 'Name': 'Surskit', 'Speed': 65.0, 'HP': 40.0, 'Attack': 30.0, 'Defense': 32.0, 'PokedexNumber': 283.0, 'SpecialDefense': 52.0, 'Total': 269.0, 'SpecialAttack': 50.0}, 309: {'Type': 'BugFlying', 'Name': 'Masquerain', 'Speed': 60.0, 'HP': 70.0, 'Attack': 60.0, 'Defense': 62.0, 'PokedexNumber': 284.0, 'SpecialDefense': 82.0, 'Total': 414.0, 'SpecialAttack': 80.0}, 310: {'Type': 'Grass', 'Name': 'Shroomish', 'Speed': 35.0, 'HP': 60.0, 'Attack': 40.0, 'Defense': 60.0, 'PokedexNumber': 285.0, 'SpecialDefense': 60.0, 'Total': 295.0, 'SpecialAttack': 40.0}, 311: {'Type': 'GrassFighting', 'Name': 'Breloom', 'Speed': 70.0, 'HP': 60.0, 'Attack': 130.0, 'Defense': 80.0, 'PokedexNumber': 286.0, 'SpecialDefense': 60.0, 'Total': 460.0, 'SpecialAttack': 60.0}, 312: {'Type': 'Normal', 'Name': 'Slakoth', 'Speed': 30.0, 'HP': 60.0, 'Attack': 60.0, 'Defense': 60.0, 'PokedexNumber': 287.0, 'SpecialDefense': 35.0, 'Total': 280.0, 'SpecialAttack': 35.0}, 313: {'Type': 'Normal', 'Name': 'Vigoroth', 'Speed': 90.0, 'HP': 80.0, 'Attack': 80.0, 'Defense': 80.0, 'PokedexNumber': 288.0, 'SpecialDefense': 55.0, 'Total': 440.0, 'SpecialAttack': 55.0}, 314: {'Type': 'Normal', 'Name': 'Slaking', 'Speed': 100.0, 'HP': 150.0, 'Attack': 160.0, 'Defense': 100.0, 'PokedexNumber': 289.0, 'SpecialDefense': 65.0, 'Total': 670.0, 'SpecialAttack': 95.0}, 315: {'Type': 'BugGround', 'Name': 'Nincada', 'Speed': 40.0, 'HP': 31.0, 'Attack': 45.0, 'Defense': 90.0, 'PokedexNumber': 290.0, 'SpecialDefense': 30.0, 'Total': 266.0, 'SpecialAttack': 30.0}, 316: {'Type': 'BugFlying', 'Name': 'Ninjask', 'Speed': 160.0, 'HP': 61.0, 'Attack': 90.0, 'Defense': 45.0, 'PokedexNumber': 291.0, 'SpecialDefense': 50.0, 'Total': 456.0, 'SpecialAttack': 50.0}, 317: {'Type': 'BugGhost', 'Name': 'Shedinja', 'Speed': 40.0, 'HP': 1.0, 'Attack': 90.0, 'Defense': 45.0, 'PokedexNumber': 292.0, 'SpecialDefense': 30.0, 'Total': 236.0, 'SpecialAttack': 30.0}, 318: {'Type': 'Normal', 'Name': 'Whismur', 'Speed': 28.0, 'HP': 64.0, 'Attack': 51.0, 'Defense': 23.0, 'PokedexNumber': 293.0, 'SpecialDefense': 23.0, 'Total': 240.0, 'SpecialAttack': 51.0}, 319: {'Type': 'Normal', 'Name': 'Loudred', 'Speed': 48.0, 'HP': 84.0, 'Attack': 71.0, 'Defense': 43.0, 'PokedexNumber': 294.0, 'SpecialDefense': 43.0, 'Total': 360.0, 'SpecialAttack': 71.0}, 320: {'Type': 'Normal', 'Name': 'Exploud', 'Speed': 68.0, 'HP': 104.0, 'Attack': 91.0, 'Defense': 63.0, 'PokedexNumber': 295.0, 'SpecialDefense': 73.0, 'Total': 490.0, 'SpecialAttack': 91.0}, 321: {'Type': 'Fighting', 'Name': 'Makuhita', 'Speed': 25.0, 'HP': 72.0, 'Attack': 60.0, 'Defense': 30.0, 'PokedexNumber': 296.0, 'SpecialDefense': 30.0, 'Total': 237.0, 'SpecialAttack': 20.0}, 322: {'Type': 'Fighting', 'Name': 'Hariyama', 'Speed': 50.0, 'HP': 144.0, 'Attack': 120.0, 'Defense': 60.0, 'PokedexNumber': 297.0, 'SpecialDefense': 60.0, 'Total': 474.0, 'SpecialAttack': 40.0}, 323: {'Type': 'NormalFairy', 'Name': 'Azurill', 'Speed': 20.0, 'HP': 50.0, 'Attack': 20.0, 'Defense': 40.0, 'PokedexNumber': 298.0, 'SpecialDefense': 40.0, 'Total': 190.0, 'SpecialAttack': 20.0}, 324: {'Type': 'Rock', 'Name': 'Nosepass', 'Speed': 30.0, 'HP': 30.0, 'Attack': 45.0, 'Defense': 135.0, 'PokedexNumber': 299.0, 'SpecialDefense': 90.0, 'Total': 375.0, 'SpecialAttack': 45.0}, 325: {'Type': 'Normal', 'Name': 'Skitty', 'Speed': 50.0, 'HP': 50.0, 'Attack': 45.0, 'Defense': 45.0, 'PokedexNumber': 300.0, 'SpecialDefense': 35.0, 'Total': 260.0, 'SpecialAttack': 35.0}, 326: {'Type': 'Normal', 'Name': 'Delcatty', 'Speed': 70.0, 'HP': 70.0, 'Attack': 65.0, 'Defense': 65.0, 'PokedexNumber': 301.0, 'SpecialDefense': 55.0, 'Total': 380.0, 'SpecialAttack': 55.0}, 327: {'Type': 'DarkGhost', 'Name': 'Sableye', 'Speed': 50.0, 'HP': 50.0, 'Attack': 75.0, 'Defense': 75.0, 'PokedexNumber': 302.0, 'SpecialDefense': 65.0, 'Total': 380.0, 'SpecialAttack': 65.0}, 328: {'Type': 'DarkGhost', 'Name': 'SableyeMega Sableye', 'Speed': 20.0, 'HP': 50.0, 'Attack': 85.0, 'Defense': 125.0, 'PokedexNumber': 302.0, 'SpecialDefense': 115.0, 'Total': 480.0, 'SpecialAttack': 85.0}, 329: {'Type': 'SteelFairy', 'Name': 'Mawile', 'Speed': 50.0, 'HP': 50.0, 'Attack': 85.0, 'Defense': 85.0, 'PokedexNumber': 303.0, 'SpecialDefense': 55.0, 'Total': 380.0, 'SpecialAttack': 55.0}, 330: {'Type': 'SteelFairy', 'Name': 'MawileMega Mawile', 'Speed': 50.0, 'HP': 50.0, 'Attack': 105.0, 'Defense': 125.0, 'PokedexNumber': 303.0, 'SpecialDefense': 95.0, 'Total': 480.0, 'SpecialAttack': 55.0}, 331: {'Type': 'SteelRock', 'Name': 'Aron', 'Speed': 30.0, 'HP': 50.0, 'Attack': 70.0, 'Defense': 100.0, 'PokedexNumber': 304.0, 'SpecialDefense': 40.0, 'Total': 330.0, 'SpecialAttack': 40.0}, 332: {'Type': 'SteelRock', 'Name': 'Lairon', 'Speed': 40.0, 'HP': 60.0, 'Attack': 90.0, 'Defense': 140.0, 'PokedexNumber': 305.0, 'SpecialDefense': 50.0, 'Total': 430.0, 'SpecialAttack': 50.0}, 333: {'Type': 'SteelRock', 'Name': 'Aggron', 'Speed': 50.0, 'HP': 70.0, 'Attack': 110.0, 'Defense': 180.0, 'PokedexNumber': 306.0, 'SpecialDefense': 60.0, 'Total': 530.0, 'SpecialAttack': 60.0}, 334: {'Type': 'Steel', 'Name': 'AggronMega Aggron', 'Speed': 50.0, 'HP': 70.0, 'Attack': 140.0, 'Defense': 230.0, 'PokedexNumber': 306.0, 'SpecialDefense': 80.0, 'Total': 630.0, 'SpecialAttack': 60.0}, 335: {'Type': 'FightingPsychic', 'Name': 'Meditite', 'Speed': 60.0, 'HP': 30.0, 'Attack': 40.0, 'Defense': 55.0, 'PokedexNumber': 307.0, 'SpecialDefense': 55.0, 'Total': 280.0, 'SpecialAttack': 40.0}, 336: {'Type': 'FightingPsychic', 'Name': 'Medicham', 'Speed': 80.0, 'HP': 60.0, 'Attack': 60.0, 'Defense': 75.0, 'PokedexNumber': 308.0, 'SpecialDefense': 75.0, 'Total': 410.0, 'SpecialAttack': 60.0}, 337: {'Type': 'FightingPsychic', 'Name': 'MedichamMega Medicham', 'Speed': 100.0, 'HP': 60.0, 'Attack': 100.0, 'Defense': 85.0, 'PokedexNumber': 308.0, 'SpecialDefense': 85.0, 'Total': 510.0, 'SpecialAttack': 80.0}, 338: {'Type': 'Electric', 'Name': 'Electrike', 'Speed': 65.0, 'HP': 40.0, 'Attack': 45.0, 'Defense': 40.0, 'PokedexNumber': 309.0, 'SpecialDefense': 40.0, 'Total': 295.0, 'SpecialAttack': 65.0}, 339: {'Type': 'Electric', 'Name': 'Manectric', 'Speed': 105.0, 'HP': 70.0, 'Attack': 75.0, 'Defense': 60.0, 'PokedexNumber': 310.0, 'SpecialDefense': 60.0, 'Total': 475.0, 'SpecialAttack': 105.0}, 340: {'Type': 'Electric', 'Name': 'ManectricMega Manectric', 'Speed': 135.0, 'HP': 70.0, 'Attack': 75.0, 'Defense': 80.0, 'PokedexNumber': 310.0, 'SpecialDefense': 80.0, 'Total': 575.0, 'SpecialAttack': 135.0}, 341: {'Type': 'Electric', 'Name': 'Plusle', 'Speed': 95.0, 'HP': 60.0, 'Attack': 50.0, 'Defense': 40.0, 'PokedexNumber': 311.0, 'SpecialDefense': 75.0, 'Total': 405.0, 'SpecialAttack': 85.0}, 342: {'Type': 'Electric', 'Name': 'Minun', 'Speed': 95.0, 'HP': 60.0, 'Attack': 40.0, 'Defense': 50.0, 'PokedexNumber': 312.0, 'SpecialDefense': 85.0, 'Total': 405.0, 'SpecialAttack': 75.0}, 343: {'Type': 'Bug', 'Name': 'Volbeat', 'Speed': 85.0, 'HP': 65.0, 'Attack': 73.0, 'Defense': 55.0, 'PokedexNumber': 313.0, 'SpecialDefense': 75.0, 'Total': 400.0, 'SpecialAttack': 47.0}, 344: {'Type': 'Bug', 'Name': 'Illumise', 'Speed': 85.0, 'HP': 65.0, 'Attack': 47.0, 'Defense': 55.0, 'PokedexNumber': 314.0, 'SpecialDefense': 75.0, 'Total': 400.0, 'SpecialAttack': 73.0}, 345: {'Type': 'GrassPoison', 'Name': 'Roselia', 'Speed': 65.0, 'HP': 50.0, 'Attack': 60.0, 'Defense': 45.0, 'PokedexNumber': 315.0, 'SpecialDefense': 80.0, 'Total': 400.0, 'SpecialAttack': 100.0}, 346: {'Type': 'Poison', 'Name': 'Gulpin', 'Speed': 40.0, 'HP': 70.0, 'Attack': 43.0, 'Defense': 53.0, 'PokedexNumber': 316.0, 'SpecialDefense': 53.0, 'Total': 302.0, 'SpecialAttack': 43.0}, 347: {'Type': 'Poison', 'Name': 'Swalot', 'Speed': 55.0, 'HP': 100.0, 'Attack': 73.0, 'Defense': 83.0, 'PokedexNumber': 317.0, 'SpecialDefense': 83.0, 'Total': 467.0, 'SpecialAttack': 73.0}, 348: {'Type': 'WaterDark', 'Name': 'Carvanha', 'Speed': 65.0, 'HP': 45.0, 'Attack': 90.0, 'Defense': 20.0, 'PokedexNumber': 318.0, 'SpecialDefense': 20.0, 'Total': 305.0, 'SpecialAttack': 65.0}, 349: {'Type': 'WaterDark', 'Name': 'Sharpedo', 'Speed': 95.0, 'HP': 70.0, 'Attack': 120.0, 'Defense': 40.0, 'PokedexNumber': 319.0, 'SpecialDefense': 40.0, 'Total': 460.0, 'SpecialAttack': 95.0}, 350: {'Type': 'WaterDark', 'Name': 'SharpedoMega Sharpedo', 'Speed': 105.0, 'HP': 70.0, 'Attack': 140.0, 'Defense': 70.0, 'PokedexNumber': 319.0, 'SpecialDefense': 65.0, 'Total': 560.0, 'SpecialAttack': 110.0}, 351: {'Type': 'Water', 'Name': 'Wailmer', 'Speed': 60.0, 'HP': 130.0, 'Attack': 70.0, 'Defense': 35.0, 'PokedexNumber': 320.0, 'SpecialDefense': 35.0, 'Total': 400.0, 'SpecialAttack': 70.0}, 352: {'Type': 'Water', 'Name': 'Wailord', 'Speed': 60.0, 'HP': 170.0, 'Attack': 90.0, 'Defense': 45.0, 'PokedexNumber': 321.0, 'SpecialDefense': 45.0, 'Total': 500.0, 'SpecialAttack': 90.0}, 353: {'Type': 'FireGround', 'Name': 'Numel', 'Speed': 35.0, 'HP': 60.0, 'Attack': 60.0, 'Defense': 40.0, 'PokedexNumber': 322.0, 'SpecialDefense': 45.0, 'Total': 305.0, 'SpecialAttack': 65.0}, 354: {'Type': 'FireGround', 'Name': 'Camerupt', 'Speed': 40.0, 'HP': 70.0, 'Attack': 100.0, 'Defense': 70.0, 'PokedexNumber': 323.0, 'SpecialDefense': 75.0, 'Total': 460.0, 'SpecialAttack': 105.0}, 355: {'Type': 'FireGround', 'Name': 'CameruptMega Camerupt', 'Speed': 20.0, 'HP': 70.0, 'Attack': 120.0, 'Defense': 100.0, 'PokedexNumber': 323.0, 'SpecialDefense': 105.0, 'Total': 560.0, 'SpecialAttack': 145.0}, 356: {'Type': 'Fire', 'Name': 'Torkoal', 'Speed': 20.0, 'HP': 70.0, 'Attack': 85.0, 'Defense': 140.0, 'PokedexNumber': 324.0, 'SpecialDefense': 70.0, 'Total': 470.0, 'SpecialAttack': 85.0}, 357: {'Type': 'Psychic', 'Name': 'Spoink', 'Speed': 60.0, 'HP': 60.0, 'Attack': 25.0, 'Defense': 35.0, 'PokedexNumber': 325.0, 'SpecialDefense': 80.0, 'Total': 330.0, 'SpecialAttack': 70.0}, 358: {'Type': 'Psychic', 'Name': 'Grumpig', 'Speed': 80.0, 'HP': 80.0, 'Attack': 45.0, 'Defense': 65.0, 'PokedexNumber': 326.0, 'SpecialDefense': 110.0, 'Total': 470.0, 'SpecialAttack': 90.0}, 359: {'Type': 'Normal', 'Name': 'Spinda', 'Speed': 60.0, 'HP': 60.0, 'Attack': 60.0, 'Defense': 60.0, 'PokedexNumber': 327.0, 'SpecialDefense': 60.0, 'Total': 360.0, 'SpecialAttack': 60.0}, 360: {'Type': 'Ground', 'Name': 'Trapinch', 'Speed': 10.0, 'HP': 45.0, 'Attack': 100.0, 'Defense': 45.0, 'PokedexNumber': 328.0, 'SpecialDefense': 45.0, 'Total': 290.0, 'SpecialAttack': 45.0}, 361: {'Type': 'GroundDragon', 'Name': 'Vibrava', 'Speed': 70.0, 'HP': 50.0, 'Attack': 70.0, 'Defense': 50.0, 'PokedexNumber': 329.0, 'SpecialDefense': 50.0, 'Total': 340.0, 'SpecialAttack': 50.0}, 362: {'Type': 'GroundDragon', 'Name': 'Flygon', 'Speed': 100.0, 'HP': 80.0, 'Attack': 100.0, 'Defense': 80.0, 'PokedexNumber': 330.0, 'SpecialDefense': 80.0, 'Total': 520.0, 'SpecialAttack': 80.0}, 363: {'Type': 'Grass', 'Name': 'Cacnea', 'Speed': 35.0, 'HP': 50.0, 'Attack': 85.0, 'Defense': 40.0, 'PokedexNumber': 331.0, 'SpecialDefense': 40.0, 'Total': 335.0, 'SpecialAttack': 85.0}, 364: {'Type': 'GrassDark', 'Name': 'Cacturne', 'Speed': 55.0, 'HP': 70.0, 'Attack': 115.0, 'Defense': 60.0, 'PokedexNumber': 332.0, 'SpecialDefense': 60.0, 'Total': 475.0, 'SpecialAttack': 115.0}, 365: {'Type': 'NormalFlying', 'Name': 'Swablu', 'Speed': 50.0, 'HP': 45.0, 'Attack': 40.0, 'Defense': 60.0, 'PokedexNumber': 333.0, 'SpecialDefense': 75.0, 'Total': 310.0, 'SpecialAttack': 40.0}, 366: {'Type': 'DragonFlying', 'Name': 'Altaria', 'Speed': 80.0, 'HP': 75.0, 'Attack': 70.0, 'Defense': 90.0, 'PokedexNumber': 334.0, 'SpecialDefense': 105.0, 'Total': 490.0, 'SpecialAttack': 70.0}, 367: {'Type': 'DragonFairy', 'Name': 'AltariaMega Altaria', 'Speed': 80.0, 'HP': 75.0, 'Attack': 110.0, 'Defense': 110.0, 'PokedexNumber': 334.0, 'SpecialDefense': 105.0, 'Total': 590.0, 'SpecialAttack': 110.0}, 368: {'Type': 'Normal', 'Name': 'Zangoose', 'Speed': 90.0, 'HP': 73.0, 'Attack': 115.0, 'Defense': 60.0, 'PokedexNumber': 335.0, 'SpecialDefense': 60.0, 'Total': 458.0, 'SpecialAttack': 60.0}, 369: {'Type': 'Poison', 'Name': 'Seviper', 'Speed': 65.0, 'HP': 73.0, 'Attack': 100.0, 'Defense': 60.0, 'PokedexNumber': 336.0, 'SpecialDefense': 60.0, 'Total': 458.0, 'SpecialAttack': 100.0}, 370: {'Type': 'RockPsychic', 'Name': 'Lunatone', 'Speed': 70.0, 'HP': 70.0, 'Attack': 55.0, 'Defense': 65.0, 'PokedexNumber': 337.0, 'SpecialDefense': 85.0, 'Total': 440.0, 'SpecialAttack': 95.0}, 371: {'Type': 'RockPsychic', 'Name': 'Solrock', 'Speed': 70.0, 'HP': 70.0, 'Attack': 95.0, 'Defense': 85.0, 'PokedexNumber': 338.0, 'SpecialDefense': 65.0, 'Total': 440.0, 'SpecialAttack': 55.0}, 372: {'Type': 'WaterGround', 'Name': 'Barboach', 'Speed': 60.0, 'HP': 50.0, 'Attack': 48.0, 'Defense': 43.0, 'PokedexNumber': 339.0, 'SpecialDefense': 41.0, 'Total': 288.0, 'SpecialAttack': 46.0}, 373: {'Type': 'WaterGround', 'Name': 'Whiscash', 'Speed': 60.0, 'HP': 110.0, 'Attack': 78.0, 'Defense': 73.0, 'PokedexNumber': 340.0, 'SpecialDefense': 71.0, 'Total': 468.0, 'SpecialAttack': 76.0}, 374: {'Type': 'Water', 'Name': 'Corphish', 'Speed': 35.0, 'HP': 43.0, 'Attack': 80.0, 'Defense': 65.0, 'PokedexNumber': 341.0, 'SpecialDefense': 35.0, 'Total': 308.0, 'SpecialAttack': 50.0}, 375: {'Type': 'WaterDark', 'Name': 'Crawdaunt', 'Speed': 55.0, 'HP': 63.0, 'Attack': 120.0, 'Defense': 85.0, 'PokedexNumber': 342.0, 'SpecialDefense': 55.0, 'Total': 468.0, 'SpecialAttack': 90.0}, 376: {'Type': 'GroundPsychic', 'Name': 'Baltoy', 'Speed': 55.0, 'HP': 40.0, 'Attack': 40.0, 'Defense': 55.0, 'PokedexNumber': 343.0, 'SpecialDefense': 70.0, 'Total': 300.0, 'SpecialAttack': 40.0}, 377: {'Type': 'GroundPsychic', 'Name': 'Claydol', 'Speed': 75.0, 'HP': 60.0, 'Attack': 70.0, 'Defense': 105.0, 'PokedexNumber': 344.0, 'SpecialDefense': 120.0, 'Total': 500.0, 'SpecialAttack': 70.0}, 378: {'Type': 'RockGrass', 'Name': 'Lileep', 'Speed': 23.0, 'HP': 66.0, 'Attack': 41.0, 'Defense': 77.0, 'PokedexNumber': 345.0, 'SpecialDefense': 87.0, 'Total': 355.0, 'SpecialAttack': 61.0}, 379: {'Type': 'RockGrass', 'Name': 'Cradily', 'Speed': 43.0, 'HP': 86.0, 'Attack': 81.0, 'Defense': 97.0, 'PokedexNumber': 346.0, 'SpecialDefense': 107.0, 'Total': 495.0, 'SpecialAttack': 81.0}, 380: {'Type': 'RockBug', 'Name': 'Anorith', 'Speed': 75.0, 'HP': 45.0, 'Attack': 95.0, 'Defense': 50.0, 'PokedexNumber': 347.0, 'SpecialDefense': 50.0, 'Total': 355.0, 'SpecialAttack': 40.0}, 381: {'Type': 'RockBug', 'Name': 'Armaldo', 'Speed': 45.0, 'HP': 75.0, 'Attack': 125.0, 'Defense': 100.0, 'PokedexNumber': 348.0, 'SpecialDefense': 80.0, 'Total': 495.0, 'SpecialAttack': 70.0}, 382: {'Type': 'Water', 'Name': 'Feebas', 'Speed': 80.0, 'HP': 20.0, 'Attack': 15.0, 'Defense': 20.0, 'PokedexNumber': 349.0, 'SpecialDefense': 55.0, 'Total': 200.0, 'SpecialAttack': 10.0}, 383: {'Type': 'Water', 'Name': 'Milotic', 'Speed': 81.0, 'HP': 95.0, 'Attack': 60.0, 'Defense': 79.0, 'PokedexNumber': 350.0, 'SpecialDefense': 125.0, 'Total': 540.0, 'SpecialAttack': 100.0}, 384: {'Type': 'Normal', 'Name': 'Castform', 'Speed': 70.0, 'HP': 70.0, 'Attack': 70.0, 'Defense': 70.0, 'PokedexNumber': 351.0, 'SpecialDefense': 70.0, 'Total': 420.0, 'SpecialAttack': 70.0}, 385: {'Type': 'Normal', 'Name': 'Kecleon', 'Speed': 40.0, 'HP': 60.0, 'Attack': 90.0, 'Defense': 70.0, 'PokedexNumber': 352.0, 'SpecialDefense': 120.0, 'Total': 440.0, 'SpecialAttack': 60.0}, 386: {'Type': 'Ghost', 'Name': 'Shuppet', 'Speed': 45.0, 'HP': 44.0, 'Attack': 75.0, 'Defense': 35.0, 'PokedexNumber': 353.0, 'SpecialDefense': 33.0, 'Total': 295.0, 'SpecialAttack': 63.0}, 387: {'Type': 'Ghost', 'Name': 'Banette', 'Speed': 65.0, 'HP': 64.0, 'Attack': 115.0, 'Defense': 65.0, 'PokedexNumber': 354.0, 'SpecialDefense': 63.0, 'Total': 455.0, 'SpecialAttack': 83.0}, 388: {'Type': 'Ghost', 'Name': 'BanetteMega Banette', 'Speed': 75.0, 'HP': 64.0, 'Attack': 165.0, 'Defense': 75.0, 'PokedexNumber': 354.0, 'SpecialDefense': 83.0, 'Total': 555.0, 'SpecialAttack': 93.0}, 389: {'Type': 'Ghost', 'Name': 'Duskull', 'Speed': 25.0, 'HP': 20.0, 'Attack': 40.0, 'Defense': 90.0, 'PokedexNumber': 355.0, 'SpecialDefense': 90.0, 'Total': 295.0, 'SpecialAttack': 30.0}, 390: {'Type': 'Ghost', 'Name': 'Dusclops', 'Speed': 25.0, 'HP': 40.0, 'Attack': 70.0, 'Defense': 130.0, 'PokedexNumber': 356.0, 'SpecialDefense': 130.0, 'Total': 455.0, 'SpecialAttack': 60.0}, 391: {'Type': 'GrassFlying', 'Name': 'Tropius', 'Speed': 51.0, 'HP': 99.0, 'Attack': 68.0, 'Defense': 83.0, 'PokedexNumber': 357.0, 'SpecialDefense': 87.0, 'Total': 460.0, 'SpecialAttack': 72.0}, 392: {'Type': 'Psychic', 'Name': 'Chimecho', 'Speed': 65.0, 'HP': 65.0, 'Attack': 50.0, 'Defense': 70.0, 'PokedexNumber': 358.0, 'SpecialDefense': 80.0, 'Total': 425.0, 'SpecialAttack': 95.0}, 393: {'Type': 'Dark', 'Name': 'Absol', 'Speed': 75.0, 'HP': 65.0, 'Attack': 130.0, 'Defense': 60.0, 'PokedexNumber': 359.0, 'SpecialDefense': 60.0, 'Total': 465.0, 'SpecialAttack': 75.0}, 394: {'Type': 'Dark', 'Name': 'AbsolMega Absol', 'Speed': 115.0, 'HP': 65.0, 'Attack': 150.0, 'Defense': 60.0, 'PokedexNumber': 359.0, 'SpecialDefense': 60.0, 'Total': 565.0, 'SpecialAttack': 115.0}, 395: {'Type': 'Psychic', 'Name': 'Wynaut', 'Speed': 23.0, 'HP': 95.0, 'Attack': 23.0, 'Defense': 48.0, 'PokedexNumber': 360.0, 'SpecialDefense': 48.0, 'Total': 260.0, 'SpecialAttack': 23.0}, 396: {'Type': 'Ice', 'Name': 'Snorunt', 'Speed': 50.0, 'HP': 50.0, 'Attack': 50.0, 'Defense': 50.0, 'PokedexNumber': 361.0, 'SpecialDefense': 50.0, 'Total': 300.0, 'SpecialAttack': 50.0}, 397: {'Type': 'Ice', 'Name': 'Glalie', 'Speed': 80.0, 'HP': 80.0, 'Attack': 80.0, 'Defense': 80.0, 'PokedexNumber': 362.0, 'SpecialDefense': 80.0, 'Total': 480.0, 'SpecialAttack': 80.0}, 398: {'Type': 'Ice', 'Name': 'GlalieMega Glalie', 'Speed': 100.0, 'HP': 80.0, 'Attack': 120.0, 'Defense': 80.0, 'PokedexNumber': 362.0, 'SpecialDefense': 80.0, 'Total': 580.0, 'SpecialAttack': 120.0}, 399: {'Type': 'IceWater', 'Name': 'Spheal', 'Speed': 25.0, 'HP': 70.0, 'Attack': 40.0, 'Defense': 50.0, 'PokedexNumber': 363.0, 'SpecialDefense': 50.0, 'Total': 290.0, 'SpecialAttack': 55.0}, 400: {'Type': 'IceWater', 'Name': 'Sealeo', 'Speed': 45.0, 'HP': 90.0, 'Attack': 60.0, 'Defense': 70.0, 'PokedexNumber': 364.0, 'SpecialDefense': 70.0, 'Total': 410.0, 'SpecialAttack': 75.0}, 401: {'Type': 'IceWater', 'Name': 'Walrein', 'Speed': 65.0, 'HP': 110.0, 'Attack': 80.0, 'Defense': 90.0, 'PokedexNumber': 365.0, 'SpecialDefense': 90.0, 'Total': 530.0, 'SpecialAttack': 95.0}, 402: {'Type': 'Water', 'Name': 'Clamperl', 'Speed': 32.0, 'HP': 35.0, 'Attack': 64.0, 'Defense': 85.0, 'PokedexNumber': 366.0, 'SpecialDefense': 55.0, 'Total': 345.0, 'SpecialAttack': 74.0}, 403: {'Type': 'Water', 'Name': 'Huntail', 'Speed': 52.0, 'HP': 55.0, 'Attack': 104.0, 'Defense': 105.0, 'PokedexNumber': 367.0, 'SpecialDefense': 75.0, 'Total': 485.0, 'SpecialAttack': 94.0}, 404: {'Type': 'Water', 'Name': 'Gorebyss', 'Speed': 52.0, 'HP': 55.0, 'Attack': 84.0, 'Defense': 105.0, 'PokedexNumber': 368.0, 'SpecialDefense': 75.0, 'Total': 485.0, 'SpecialAttack': 114.0}, 405: {'Type': 'WaterRock', 'Name': 'Relicanth', 'Speed': 55.0, 'HP': 100.0, 'Attack': 90.0, 'Defense': 130.0, 'PokedexNumber': 369.0, 'SpecialDefense': 65.0, 'Total': 485.0, 'SpecialAttack': 45.0}, 406: {'Type': 'Water', 'Name': 'Luvdisc', 'Speed': 97.0, 'HP': 43.0, 'Attack': 30.0, 'Defense': 55.0, 'PokedexNumber': 370.0, 'SpecialDefense': 65.0, 'Total': 330.0, 'SpecialAttack': 40.0}, 407: {'Type': 'Dragon', 'Name': 'Bagon', 'Speed': 50.0, 'HP': 45.0, 'Attack': 75.0, 'Defense': 60.0, 'PokedexNumber': 371.0, 'SpecialDefense': 30.0, 'Total': 300.0, 'SpecialAttack': 40.0}, 408: {'Type': 'Dragon', 'Name': 'Shelgon', 'Speed': 50.0, 'HP': 65.0, 'Attack': 95.0, 'Defense': 100.0, 'PokedexNumber': 372.0, 'SpecialDefense': 50.0, 'Total': 420.0, 'SpecialAttack': 60.0}, 409: {'Type': 'DragonFlying', 'Name': 'Salamence', 'Speed': 100.0, 'HP': 95.0, 'Attack': 135.0, 'Defense': 80.0, 'PokedexNumber': 373.0, 'SpecialDefense': 80.0, 'Total': 600.0, 'SpecialAttack': 110.0}, 410: {'Type': 'DragonFlying', 'Name': 'SalamenceMega Salamence', 'Speed': 120.0, 'HP': 95.0, 'Attack': 145.0, 'Defense': 130.0, 'PokedexNumber': 373.0, 'SpecialDefense': 90.0, 'Total': 700.0, 'SpecialAttack': 120.0}, 411: {'Type': 'SteelPsychic', 'Name': 'Beldum', 'Speed': 30.0, 'HP': 40.0, 'Attack': 55.0, 'Defense': 80.0, 'PokedexNumber': 374.0, 'SpecialDefense': 60.0, 'Total': 300.0, 'SpecialAttack': 35.0}, 412: {'Type': 'SteelPsychic', 'Name': 'Metang', 'Speed': 50.0, 'HP': 60.0, 'Attack': 75.0, 'Defense': 100.0, 'PokedexNumber': 375.0, 'SpecialDefense': 80.0, 'Total': 420.0, 'SpecialAttack': 55.0}, 413: {'Type': 'SteelPsychic', 'Name': 'Metagross', 'Speed': 70.0, 'HP': 80.0, 'Attack': 135.0, 'Defense': 130.0, 'PokedexNumber': 376.0, 'SpecialDefense': 90.0, 'Total': 600.0, 'SpecialAttack': 95.0}, 414: {'Type': 'SteelPsychic', 'Name': 'MetagrossMega Metagross', 'Speed': 110.0, 'HP': 80.0, 'Attack': 145.0, 'Defense': 150.0, 'PokedexNumber': 376.0, 'SpecialDefense': 110.0, 'Total': 700.0, 'SpecialAttack': 105.0}, 415: {'Type': 'Rock', 'Name': 'Regirock', 'Speed': 50.0, 'HP': 80.0, 'Attack': 100.0, 'Defense': 200.0, 'PokedexNumber': 377.0, 'SpecialDefense': 100.0, 'Total': 580.0, 'SpecialAttack': 50.0}, 416: {'Type': 'Ice', 'Name': 'Regice', 'Speed': 50.0, 'HP': 80.0, 'Attack': 50.0, 'Defense': 100.0, 'PokedexNumber': 378.0, 'SpecialDefense': 200.0, 'Total': 580.0, 'SpecialAttack': 100.0}, 417: {'Type': 'Steel', 'Name': 'Registeel', 'Speed': 50.0, 'HP': 80.0, 'Attack': 75.0, 'Defense': 150.0, 'PokedexNumber': 379.0, 'SpecialDefense': 150.0, 'Total': 580.0, 'SpecialAttack': 75.0}, 418: {'Type': 'DragonPsychic', 'Name': 'Latias', 'Speed': 110.0, 'HP': 80.0, 'Attack': 80.0, 'Defense': 90.0, 'PokedexNumber': 380.0, 'SpecialDefense': 130.0, 'Total': 600.0, 'SpecialAttack': 110.0}, 419: {'Type': 'DragonPsychic', 'Name': 'LatiasMega Latias', 'Speed': 110.0, 'HP': 80.0, 'Attack': 100.0, 'Defense': 120.0, 'PokedexNumber': 380.0, 'SpecialDefense': 150.0, 'Total': 700.0, 'SpecialAttack': 140.0}, 420: {'Type': 'DragonPsychic', 'Name': 'Latios', 'Speed': 110.0, 'HP': 80.0, 'Attack': 90.0, 'Defense': 80.0, 'PokedexNumber': 381.0, 'SpecialDefense': 110.0, 'Total': 600.0, 'SpecialAttack': 130.0}, 421: {'Type': 'DragonPsychic', 'Name': 'LatiosMega Latios', 'Speed': 110.0, 'HP': 80.0, 'Attack': 130.0, 'Defense': 100.0, 'PokedexNumber': 381.0, 'SpecialDefense': 120.0, 'Total': 700.0, 'SpecialAttack': 160.0}, 422: {'Type': 'Water', 'Name': 'Kyogre', 'Speed': 90.0, 'HP': 100.0, 'Attack': 100.0, 'Defense': 90.0, 'PokedexNumber': 382.0, 'SpecialDefense': 140.0, 'Total': 670.0, 'SpecialAttack': 150.0}, 423: {'Type': 'Water', 'Name': 'KyogrePrimal Kyogre', 'Speed': 90.0, 'HP': 100.0, 'Attack': 150.0, 'Defense': 90.0, 'PokedexNumber': 382.0, 'SpecialDefense': 160.0, 'Total': 770.0, 'SpecialAttack': 180.0}, 424: {'Type': 'Ground', 'Name': 'Groudon', 'Speed': 90.0, 'HP': 100.0, 'Attack': 150.0, 'Defense': 140.0, 'PokedexNumber': 383.0, 'SpecialDefense': 90.0, 'Total': 670.0, 'SpecialAttack': 100.0}, 425: {'Type': 'GroundFire', 'Name': 'GroudonPrimal Groudon', 'Speed': 90.0, 'HP': 100.0, 'Attack': 180.0, 'Defense': 160.0, 'PokedexNumber': 383.0, 'SpecialDefense': 90.0, 'Total': 770.0, 'SpecialAttack': 150.0}, 426: {'Type': 'DragonFlying', 'Name': 'Rayquaza', 'Speed': 95.0, 'HP': 105.0, 'Attack': 150.0, 'Defense': 90.0, 'PokedexNumber': 384.0, 'SpecialDefense': 90.0, 'Total': 680.0, 'SpecialAttack': 150.0}, 427: {'Type': 'DragonFlying', 'Name': 'RayquazaMega Rayquaza', 'Speed': 115.0, 'HP': 105.0, 'Attack': 180.0, 'Defense': 100.0, 'PokedexNumber': 384.0, 'SpecialDefense': 100.0, 'Total': 780.0, 'SpecialAttack': 180.0}, 428: {'Type': 'SteelPsychic', 'Name': 'Jirachi', 'Speed': 100.0, 'HP': 100.0, 'Attack': 100.0, 'Defense': 100.0, 'PokedexNumber': 385.0, 'SpecialDefense': 100.0, 'Total': 600.0, 'SpecialAttack': 100.0}, 429: {'Type': 'Psychic', 'Name': 'DeoxysNormal Forme', 'Speed': 150.0, 'HP': 50.0, 'Attack': 150.0, 'Defense': 50.0, 'PokedexNumber': 386.0, 'SpecialDefense': 50.0, 'Total': 600.0, 'SpecialAttack': 150.0}, 430: {'Type': 'Psychic', 'Name': 'DeoxysAttack Forme', 'Speed': 150.0, 'HP': 50.0, 'Attack': 180.0, 'Defense': 20.0, 'PokedexNumber': 386.0, 'SpecialDefense': 20.0, 'Total': 600.0, 'SpecialAttack': 180.0}, 431: {'Type': 'Psychic', 'Name': 'DeoxysDefense Forme', 'Speed': 90.0, 'HP': 50.0, 'Attack': 70.0, 'Defense': 160.0, 'PokedexNumber': 386.0, 'SpecialDefense': 160.0, 'Total': 600.0, 'SpecialAttack': 70.0}, 432: {'Type': 'Psychic', 'Name': 'DeoxysSpeed Forme', 'Speed': 180.0, 'HP': 50.0, 'Attack': 95.0, 'Defense': 90.0, 'PokedexNumber': 386.0, 'SpecialDefense': 90.0, 'Total': 600.0, 'SpecialAttack': 95.0}, 433: {'Type': 'Grass', 'Name': 'Turtwig', 'Speed': 31.0, 'HP': 55.0, 'Attack': 68.0, 'Defense': 64.0, 'PokedexNumber': 387.0, 'SpecialDefense': 55.0, 'Total': 318.0, 'SpecialAttack': 45.0}, 434: {'Type': 'Grass', 'Name': 'Grotle', 'Speed': 36.0, 'HP': 75.0, 'Attack': 89.0, 'Defense': 85.0, 'PokedexNumber': 388.0, 'SpecialDefense': 65.0, 'Total': 405.0, 'SpecialAttack': 55.0}, 435: {'Type': 'GrassGround', 'Name': 'Torterra', 'Speed': 56.0, 'HP': 95.0, 'Attack': 109.0, 'Defense': 105.0, 'PokedexNumber': 389.0, 'SpecialDefense': 85.0, 'Total': 525.0, 'SpecialAttack': 75.0}, 436: {'Type': 'Fire', 'Name': 'Chimchar', 'Speed': 61.0, 'HP': 44.0, 'Attack': 58.0, 'Defense': 44.0, 'PokedexNumber': 390.0, 'SpecialDefense': 44.0, 'Total': 309.0, 'SpecialAttack': 58.0}, 437: {'Type': 'FireFighting', 'Name': 'Monferno', 'Speed': 81.0, 'HP': 64.0, 'Attack': 78.0, 'Defense': 52.0, 'PokedexNumber': 391.0, 'SpecialDefense': 52.0, 'Total': 405.0, 'SpecialAttack': 78.0}, 438: {'Type': 'FireFighting', 'Name': 'Infernape', 'Speed': 108.0, 'HP': 76.0, 'Attack': 104.0, 'Defense': 71.0, 'PokedexNumber': 392.0, 'SpecialDefense': 71.0, 'Total': 534.0, 'SpecialAttack': 104.0}, 439: {'Type': 'Water', 'Name': 'Piplup', 'Speed': 40.0, 'HP': 53.0, 'Attack': 51.0, 'Defense': 53.0, 'PokedexNumber': 393.0, 'SpecialDefense': 56.0, 'Total': 314.0, 'SpecialAttack': 61.0}, 440: {'Type': 'Water', 'Name': 'Prinplup', 'Speed': 50.0, 'HP': 64.0, 'Attack': 66.0, 'Defense': 68.0, 'PokedexNumber': 394.0, 'SpecialDefense': 76.0, 'Total': 405.0, 'SpecialAttack': 81.0}, 441: {'Type': 'WaterSteel', 'Name': 'Empoleon', 'Speed': 60.0, 'HP': 84.0, 'Attack': 86.0, 'Defense': 88.0, 'PokedexNumber': 395.0, 'SpecialDefense': 101.0, 'Total': 530.0, 'SpecialAttack': 111.0}, 442: {'Type': 'NormalFlying', 'Name': 'Starly', 'Speed': 60.0, 'HP': 40.0, 'Attack': 55.0, 'Defense': 30.0, 'PokedexNumber': 396.0, 'SpecialDefense': 30.0, 'Total': 245.0, 'SpecialAttack': 30.0}, 443: {'Type': 'NormalFlying', 'Name': 'Staravia', 'Speed': 80.0, 'HP': 55.0, 'Attack': 75.0, 'Defense': 50.0, 'PokedexNumber': 397.0, 'SpecialDefense': 40.0, 'Total': 340.0, 'SpecialAttack': 40.0}, 444: {'Type': 'NormalFlying', 'Name': 'Staraptor', 'Speed': 100.0, 'HP': 85.0, 'Attack': 120.0, 'Defense': 70.0, 'PokedexNumber': 398.0, 'SpecialDefense': 60.0, 'Total': 485.0, 'SpecialAttack': 50.0}, 445: {'Type': 'Normal', 'Name': 'Bidoof', 'Speed': 31.0, 'HP': 59.0, 'Attack': 45.0, 'Defense': 40.0, 'PokedexNumber': 399.0, 'SpecialDefense': 40.0, 'Total': 250.0, 'SpecialAttack': 35.0}, 446: {'Type': 'NormalWater', 'Name': 'Bibarel', 'Speed': 71.0, 'HP': 79.0, 'Attack': 85.0, 'Defense': 60.0, 'PokedexNumber': 400.0, 'SpecialDefense': 60.0, 'Total': 410.0, 'SpecialAttack': 55.0}, 447: {'Type': 'Bug', 'Name': 'Kricketot', 'Speed': 25.0, 'HP': 37.0, 'Attack': 25.0, 'Defense': 41.0, 'PokedexNumber': 401.0, 'SpecialDefense': 41.0, 'Total': 194.0, 'SpecialAttack': 25.0}, 448: {'Type': 'Bug', 'Name': 'Kricketune', 'Speed': 65.0, 'HP': 77.0, 'Attack': 85.0, 'Defense': 51.0, 'PokedexNumber': 402.0, 'SpecialDefense': 51.0, 'Total': 384.0, 'SpecialAttack': 55.0}, 449: {'Type': 'Electric', 'Name': 'Shinx', 'Speed': 45.0, 'HP': 45.0, 'Attack': 65.0, 'Defense': 34.0, 'PokedexNumber': 403.0, 'SpecialDefense': 34.0, 'Total': 263.0, 'SpecialAttack': 40.0}, 450: {'Type': 'Electric', 'Name': 'Luxio', 'Speed': 60.0, 'HP': 60.0, 'Attack': 85.0, 'Defense': 49.0, 'PokedexNumber': 404.0, 'SpecialDefense': 49.0, 'Total': 363.0, 'SpecialAttack': 60.0}, 451: {'Type': 'Electric', 'Name': 'Luxray', 'Speed': 70.0, 'HP': 80.0, 'Attack': 120.0, 'Defense': 79.0, 'PokedexNumber': 405.0, 'SpecialDefense': 79.0, 'Total': 523.0, 'SpecialAttack': 95.0}, 452: {'Type': 'GrassPoison', 'Name': 'Budew', 'Speed': 55.0, 'HP': 40.0, 'Attack': 30.0, 'Defense': 35.0, 'PokedexNumber': 406.0, 'SpecialDefense': 70.0, 'Total': 280.0, 'SpecialAttack': 50.0}, 453: {'Type': 'GrassPoison', 'Name': 'Roserade', 'Speed': 90.0, 'HP': 60.0, 'Attack': 70.0, 'Defense': 65.0, 'PokedexNumber': 407.0, 'SpecialDefense': 105.0, 'Total': 515.0, 'SpecialAttack': 125.0}, 454: {'Type': 'Rock', 'Name': 'Cranidos', 'Speed': 58.0, 'HP': 67.0, 'Attack': 125.0, 'Defense': 40.0, 'PokedexNumber': 408.0, 'SpecialDefense': 30.0, 'Total': 350.0, 'SpecialAttack': 30.0}, 455: {'Type': 'Rock', 'Name': 'Rampardos', 'Speed': 58.0, 'HP': 97.0, 'Attack': 165.0, 'Defense': 60.0, 'PokedexNumber': 409.0, 'SpecialDefense': 50.0, 'Total': 495.0, 'SpecialAttack': 65.0}, 456: {'Type': 'RockSteel', 'Name': 'Shieldon', 'Speed': 30.0, 'HP': 30.0, 'Attack': 42.0, 'Defense': 118.0, 'PokedexNumber': 410.0, 'SpecialDefense': 88.0, 'Total': 350.0, 'SpecialAttack': 42.0}, 457: {'Type': 'RockSteel', 'Name': 'Bastiodon', 'Speed': 30.0, 'HP': 60.0, 'Attack': 52.0, 'Defense': 168.0, 'PokedexNumber': 411.0, 'SpecialDefense': 138.0, 'Total': 495.0, 'SpecialAttack': 47.0}, 458: {'Type': 'Bug', 'Name': 'Burmy', 'Speed': 36.0, 'HP': 40.0, 'Attack': 29.0, 'Defense': 45.0, 'PokedexNumber': 412.0, 'SpecialDefense': 45.0, 'Total': 224.0, 'SpecialAttack': 29.0}, 459: {'Type': 'BugGrass', 'Name': 'WormadamPlant Cloak', 'Speed': 36.0, 'HP': 60.0, 'Attack': 59.0, 'Defense': 85.0, 'PokedexNumber': 413.0, 'SpecialDefense': 105.0, 'Total': 424.0, 'SpecialAttack': 79.0}, 460: {'Type': 'BugGround', 'Name': 'WormadamSandy Cloak', 'Speed': 36.0, 'HP': 60.0, 'Attack': 79.0, 'Defense': 105.0, 'PokedexNumber': 413.0, 'SpecialDefense': 85.0, 'Total': 424.0, 'SpecialAttack': 59.0}, 461: {'Type': 'BugSteel', 'Name': 'WormadamTrash Cloak', 'Speed': 36.0, 'HP': 60.0, 'Attack': 69.0, 'Defense': 95.0, 'PokedexNumber': 413.0, 'SpecialDefense': 95.0, 'Total': 424.0, 'SpecialAttack': 69.0}, 462: {'Type': 'BugFlying', 'Name': 'Mothim', 'Speed': 66.0, 'HP': 70.0, 'Attack': 94.0, 'Defense': 50.0, 'PokedexNumber': 414.0, 'SpecialDefense': 50.0, 'Total': 424.0, 'SpecialAttack': 94.0}, 463: {'Type': 'BugFlying', 'Name': 'Combee', 'Speed': 70.0, 'HP': 30.0, 'Attack': 30.0, 'Defense': 42.0, 'PokedexNumber': 415.0, 'SpecialDefense': 42.0, 'Total': 244.0, 'SpecialAttack': 30.0}, 464: {'Type': 'BugFlying', 'Name': 'Vespiquen', 'Speed': 40.0, 'HP': 70.0, 'Attack': 80.0, 'Defense': 102.0, 'PokedexNumber': 416.0, 'SpecialDefense': 102.0, 'Total': 474.0, 'SpecialAttack': 80.0}, 465: {'Type': 'Electric', 'Name': 'Pachirisu', 'Speed': 95.0, 'HP': 60.0, 'Attack': 45.0, 'Defense': 70.0, 'PokedexNumber': 417.0, 'SpecialDefense': 90.0, 'Total': 405.0, 'SpecialAttack': 45.0}, 466: {'Type': 'Water', 'Name': 'Buizel', 'Speed': 85.0, 'HP': 55.0, 'Attack': 65.0, 'Defense': 35.0, 'PokedexNumber': 418.0, 'SpecialDefense': 30.0, 'Total': 330.0, 'SpecialAttack': 60.0}, 467: {'Type': 'Water', 'Name': 'Floatzel', 'Speed': 115.0, 'HP': 85.0, 'Attack': 105.0, 'Defense': 55.0, 'PokedexNumber': 419.0, 'SpecialDefense': 50.0, 'Total': 495.0, 'SpecialAttack': 85.0}, 468: {'Type': 'Grass', 'Name': 'Cherubi', 'Speed': 35.0, 'HP': 45.0, 'Attack': 35.0, 'Defense': 45.0, 'PokedexNumber': 420.0, 'SpecialDefense': 53.0, 'Total': 275.0, 'SpecialAttack': 62.0}, 469: {'Type': 'Grass', 'Name': 'Cherrim', 'Speed': 85.0, 'HP': 70.0, 'Attack': 60.0, 'Defense': 70.0, 'PokedexNumber': 421.0, 'SpecialDefense': 78.0, 'Total': 450.0, 'SpecialAttack': 87.0}, 470: {'Type': 'Water', 'Name': 'Shellos', 'Speed': 34.0, 'HP': 76.0, 'Attack': 48.0, 'Defense': 48.0, 'PokedexNumber': 422.0, 'SpecialDefense': 62.0, 'Total': 325.0, 'SpecialAttack': 57.0}, 471: {'Type': 'WaterGround', 'Name': 'Gastrodon', 'Speed': 39.0, 'HP': 111.0, 'Attack': 83.0, 'Defense': 68.0, 'PokedexNumber': 423.0, 'SpecialDefense': 82.0, 'Total': 475.0, 'SpecialAttack': 92.0}, 472: {'Type': 'Normal', 'Name': 'Ambipom', 'Speed': 115.0, 'HP': 75.0, 'Attack': 100.0, 'Defense': 66.0, 'PokedexNumber': 424.0, 'SpecialDefense': 66.0, 'Total': 482.0, 'SpecialAttack': 60.0}, 473: {'Type': 'GhostFlying', 'Name': 'Drifloon', 'Speed': 70.0, 'HP': 90.0, 'Attack': 50.0, 'Defense': 34.0, 'PokedexNumber': 425.0, 'SpecialDefense': 44.0, 'Total': 348.0, 'SpecialAttack': 60.0}, 474: {'Type': 'GhostFlying', 'Name': 'Drifblim', 'Speed': 80.0, 'HP': 150.0, 'Attack': 80.0, 'Defense': 44.0, 'PokedexNumber': 426.0, 'SpecialDefense': 54.0, 'Total': 498.0, 'SpecialAttack': 90.0}, 475: {'Type': 'Normal', 'Name': 'Buneary', 'Speed': 85.0, 'HP': 55.0, 'Attack': 66.0, 'Defense': 44.0, 'PokedexNumber': 427.0, 'SpecialDefense': 56.0, 'Total': 350.0, 'SpecialAttack': 44.0}, 476: {'Type': 'Normal', 'Name': 'Lopunny', 'Speed': 105.0, 'HP': 65.0, 'Attack': 76.0, 'Defense': 84.0, 'PokedexNumber': 428.0, 'SpecialDefense': 96.0, 'Total': 480.0, 'SpecialAttack': 54.0}, 477: {'Type': 'NormalFighting', 'Name': 'LopunnyMega Lopunny', 'Speed': 135.0, 'HP': 65.0, 'Attack': 136.0, 'Defense': 94.0, 'PokedexNumber': 428.0, 'SpecialDefense': 96.0, 'Total': 580.0, 'SpecialAttack': 54.0}, 478: {'Type': 'Ghost', 'Name': 'Mismagius', 'Speed': 105.0, 'HP': 60.0, 'Attack': 60.0, 'Defense': 60.0, 'PokedexNumber': 429.0, 'SpecialDefense': 105.0, 'Total': 495.0, 'SpecialAttack': 105.0}, 479: {'Type': 'DarkFlying', 'Name': 'Honchkrow', 'Speed': 71.0, 'HP': 100.0, 'Attack': 125.0, 'Defense': 52.0, 'PokedexNumber': 430.0, 'SpecialDefense': 52.0, 'Total': 505.0, 'SpecialAttack': 105.0}, 480: {'Type': 'Normal', 'Name': 'Glameow', 'Speed': 85.0, 'HP': 49.0, 'Attack': 55.0, 'Defense': 42.0, 'PokedexNumber': 431.0, 'SpecialDefense': 37.0, 'Total': 310.0, 'SpecialAttack': 42.0}, 481: {'Type': 'Normal', 'Name': 'Purugly', 'Speed': 112.0, 'HP': 71.0, 'Attack': 82.0, 'Defense': 64.0, 'PokedexNumber': 432.0, 'SpecialDefense': 59.0, 'Total': 452.0, 'SpecialAttack': 64.0}, 482: {'Type': 'Psychic', 'Name': 'Chingling', 'Speed': 45.0, 'HP': 45.0, 'Attack': 30.0, 'Defense': 50.0, 'PokedexNumber': 433.0, 'SpecialDefense': 50.0, 'Total': 285.0, 'SpecialAttack': 65.0}, 483: {'Type': 'PoisonDark', 'Name': 'Stunky', 'Speed': 74.0, 'HP': 63.0, 'Attack': 63.0, 'Defense': 47.0, 'PokedexNumber': 434.0, 'SpecialDefense': 41.0, 'Total': 329.0, 'SpecialAttack': 41.0}, 484: {'Type': 'PoisonDark', 'Name': 'Skuntank', 'Speed': 84.0, 'HP': 103.0, 'Attack': 93.0, 'Defense': 67.0, 'PokedexNumber': 435.0, 'SpecialDefense': 61.0, 'Total': 479.0, 'SpecialAttack': 71.0}, 485: {'Type': 'SteelPsychic', 'Name': 'Bronzor', 'Speed': 23.0, 'HP': 57.0, 'Attack': 24.0, 'Defense': 86.0, 'PokedexNumber': 436.0, 'SpecialDefense': 86.0, 'Total': 300.0, 'SpecialAttack': 24.0}, 486: {'Type': 'SteelPsychic', 'Name': 'Bronzong', 'Speed': 33.0, 'HP': 67.0, 'Attack': 89.0, 'Defense': 116.0, 'PokedexNumber': 437.0, 'SpecialDefense': 116.0, 'Total': 500.0, 'SpecialAttack': 79.0}, 487: {'Type': 'Rock', 'Name': 'Bonsly', 'Speed': 10.0, 'HP': 50.0, 'Attack': 80.0, 'Defense': 95.0, 'PokedexNumber': 438.0, 'SpecialDefense': 45.0, 'Total': 290.0, 'SpecialAttack': 10.0}, 488: {'Type': 'PsychicFairy', 'Name': 'Mime Jr.', 'Speed': 60.0, 'HP': 20.0, 'Attack': 25.0, 'Defense': 45.0, 'PokedexNumber': 439.0, 'SpecialDefense': 90.0, 'Total': 310.0, 'SpecialAttack': 70.0}, 489: {'Type': 'Normal', 'Name': 'Happiny', 'Speed': 30.0, 'HP': 100.0, 'Attack': 5.0, 'Defense': 5.0, 'PokedexNumber': 440.0, 'SpecialDefense': 65.0, 'Total': 220.0, 'SpecialAttack': 15.0}, 490: {'Type': 'NormalFlying', 'Name': 'Chatot', 'Speed': 91.0, 'HP': 76.0, 'Attack': 65.0, 'Defense': 45.0, 'PokedexNumber': 441.0, 'SpecialDefense': 42.0, 'Total': 411.0, 'SpecialAttack': 92.0}, 491: {'Type': 'GhostDark', 'Name': 'Spiritomb', 'Speed': 35.0, 'HP': 50.0, 'Attack': 92.0, 'Defense': 108.0, 'PokedexNumber': 442.0, 'SpecialDefense': 108.0, 'Total': 485.0, 'SpecialAttack': 92.0}, 492: {'Type': 'DragonGround', 'Name': 'Gible', 'Speed': 42.0, 'HP': 58.0, 'Attack': 70.0, 'Defense': 45.0, 'PokedexNumber': 443.0, 'SpecialDefense': 45.0, 'Total': 300.0, 'SpecialAttack': 40.0}, 493: {'Type': 'DragonGround', 'Name': 'Gabite', 'Speed': 82.0, 'HP': 68.0, 'Attack': 90.0, 'Defense': 65.0, 'PokedexNumber': 444.0, 'SpecialDefense': 55.0, 'Total': 410.0, 'SpecialAttack': 50.0}, 494: {'Type': 'DragonGround', 'Name': 'Garchomp', 'Speed': 102.0, 'HP': 108.0, 'Attack': 130.0, 'Defense': 95.0, 'PokedexNumber': 445.0, 'SpecialDefense': 85.0, 'Total': 600.0, 'SpecialAttack': 80.0}, 495: {'Type': 'DragonGround', 'Name': 'GarchompMega Garchomp', 'Speed': 92.0, 'HP': 108.0, 'Attack': 170.0, 'Defense': 115.0, 'PokedexNumber': 445.0, 'SpecialDefense': 95.0, 'Total': 700.0, 'SpecialAttack': 120.0}, 496: {'Type': 'Normal', 'Name': 'Munchlax', 'Speed': 5.0, 'HP': 135.0, 'Attack': 85.0, 'Defense': 40.0, 'PokedexNumber': 446.0, 'SpecialDefense': 85.0, 'Total': 390.0, 'SpecialAttack': 40.0}, 497: {'Type': 'Fighting', 'Name': 'Riolu', 'Speed': 60.0, 'HP': 40.0, 'Attack': 70.0, 'Defense': 40.0, 'PokedexNumber': 447.0, 'SpecialDefense': 40.0, 'Total': 285.0, 'SpecialAttack': 35.0}, 498: {'Type': 'FightingSteel', 'Name': 'Lucario', 'Speed': 90.0, 'HP': 70.0, 'Attack': 110.0, 'Defense': 70.0, 'PokedexNumber': 448.0, 'SpecialDefense': 70.0, 'Total': 525.0, 'SpecialAttack': 115.0}, 499: {'Type': 'FightingSteel', 'Name': 'LucarioMega Lucario', 'Speed': 112.0, 'HP': 70.0, 'Attack': 145.0, 'Defense': 88.0, 'PokedexNumber': 448.0, 'SpecialDefense': 70.0, 'Total': 625.0, 'SpecialAttack': 140.0}, 500: {'Type': 'Ground', 'Name': 'Hippopotas', 'Speed': 32.0, 'HP': 68.0, 'Attack': 72.0, 'Defense': 78.0, 'PokedexNumber': 449.0, 'SpecialDefense': 42.0, 'Total': 330.0, 'SpecialAttack': 38.0}, 501: {'Type': 'Ground', 'Name': 'Hippowdon', 'Speed': 47.0, 'HP': 108.0, 'Attack': 112.0, 'Defense': 118.0, 'PokedexNumber': 450.0, 'SpecialDefense': 72.0, 'Total': 525.0, 'SpecialAttack': 68.0}, 502: {'Type': 'PoisonBug', 'Name': 'Skorupi', 'Speed': 65.0, 'HP': 40.0, 'Attack': 50.0, 'Defense': 90.0, 'PokedexNumber': 451.0, 'SpecialDefense': 55.0, 'Total': 330.0, 'SpecialAttack': 30.0}, 503: {'Type': 'PoisonDark', 'Name': 'Drapion', 'Speed': 95.0, 'HP': 70.0, 'Attack': 90.0, 'Defense': 110.0, 'PokedexNumber': 452.0, 'SpecialDefense': 75.0, 'Total': 500.0, 'SpecialAttack': 60.0}, 504: {'Type': 'PoisonFighting', 'Name': 'Croagunk', 'Speed': 50.0, 'HP': 48.0, 'Attack': 61.0, 'Defense': 40.0, 'PokedexNumber': 453.0, 'SpecialDefense': 40.0, 'Total': 300.0, 'SpecialAttack': 61.0}, 505: {'Type': 'PoisonFighting', 'Name': 'Toxicroak', 'Speed': 85.0, 'HP': 83.0, 'Attack': 106.0, 'Defense': 65.0, 'PokedexNumber': 454.0, 'SpecialDefense': 65.0, 'Total': 490.0, 'SpecialAttack': 86.0}, 506: {'Type': 'Grass', 'Name': 'Carnivine', 'Speed': 46.0, 'HP': 74.0, 'Attack': 100.0, 'Defense': 72.0, 'PokedexNumber': 455.0, 'SpecialDefense': 72.0, 'Total': 454.0, 'SpecialAttack': 90.0}, 507: {'Type': 'Water', 'Name': 'Finneon', 'Speed': 66.0, 'HP': 49.0, 'Attack': 49.0, 'Defense': 56.0, 'PokedexNumber': 456.0, 'SpecialDefense': 61.0, 'Total': 330.0, 'SpecialAttack': 49.0}, 508: {'Type': 'Water', 'Name': 'Lumineon', 'Speed': 91.0, 'HP': 69.0, 'Attack': 69.0, 'Defense': 76.0, 'PokedexNumber': 457.0, 'SpecialDefense': 86.0, 'Total': 460.0, 'SpecialAttack': 69.0}, 509: {'Type': 'WaterFlying', 'Name': 'Mantyke', 'Speed': 50.0, 'HP': 45.0, 'Attack': 20.0, 'Defense': 50.0, 'PokedexNumber': 458.0, 'SpecialDefense': 120.0, 'Total': 345.0, 'SpecialAttack': 60.0}, 510: {'Type': 'GrassIce', 'Name': 'Snover', 'Speed': 40.0, 'HP': 60.0, 'Attack': 62.0, 'Defense': 50.0, 'PokedexNumber': 459.0, 'SpecialDefense': 60.0, 'Total': 334.0, 'SpecialAttack': 62.0}, 511: {'Type': 'GrassIce', 'Name': 'Abomasnow', 'Speed': 60.0, 'HP': 90.0, 'Attack': 92.0, 'Defense': 75.0, 'PokedexNumber': 460.0, 'SpecialDefense': 85.0, 'Total': 494.0, 'SpecialAttack': 92.0}, 512: {'Type': 'GrassIce', 'Name': 'AbomasnowMega Abomasnow', 'Speed': 30.0, 'HP': 90.0, 'Attack': 132.0, 'Defense': 105.0, 'PokedexNumber': 460.0, 'SpecialDefense': 105.0, 'Total': 594.0, 'SpecialAttack': 132.0}, 513: {'Type': 'DarkIce', 'Name': 'Weavile', 'Speed': 125.0, 'HP': 70.0, 'Attack': 120.0, 'Defense': 65.0, 'PokedexNumber': 461.0, 'SpecialDefense': 85.0, 'Total': 510.0, 'SpecialAttack': 45.0}, 514: {'Type': 'ElectricSteel', 'Name': 'Magnezone', 'Speed': 60.0, 'HP': 70.0, 'Attack': 70.0, 'Defense': 115.0, 'PokedexNumber': 462.0, 'SpecialDefense': 90.0, 'Total': 535.0, 'SpecialAttack': 130.0}, 515: {'Type': 'Normal', 'Name': 'Lickilicky', 'Speed': 50.0, 'HP': 110.0, 'Attack': 85.0, 'Defense': 95.0, 'PokedexNumber': 463.0, 'SpecialDefense': 95.0, 'Total': 515.0, 'SpecialAttack': 80.0}, 516: {'Type': 'GroundRock', 'Name': 'Rhyperior', 'Speed': 40.0, 'HP': 115.0, 'Attack': 140.0, 'Defense': 130.0, 'PokedexNumber': 464.0, 'SpecialDefense': 55.0, 'Total': 535.0, 'SpecialAttack': 55.0}, 517: {'Type': 'Grass', 'Name': 'Tangrowth', 'Speed': 50.0, 'HP': 100.0, 'Attack': 100.0, 'Defense': 125.0, 'PokedexNumber': 465.0, 'SpecialDefense': 50.0, 'Total': 535.0, 'SpecialAttack': 110.0}, 518: {'Type': 'Electric', 'Name': 'Electivire', 'Speed': 95.0, 'HP': 75.0, 'Attack': 123.0, 'Defense': 67.0, 'PokedexNumber': 466.0, 'SpecialDefense': 85.0, 'Total': 540.0, 'SpecialAttack': 95.0}, 519: {'Type': 'Fire', 'Name': 'Magmortar', 'Speed': 83.0, 'HP': 75.0, 'Attack': 95.0, 'Defense': 67.0, 'PokedexNumber': 467.0, 'SpecialDefense': 95.0, 'Total': 540.0, 'SpecialAttack': 125.0}, 520: {'Type': 'FairyFlying', 'Name': 'Togekiss', 'Speed': 80.0, 'HP': 85.0, 'Attack': 50.0, 'Defense': 95.0, 'PokedexNumber': 468.0, 'SpecialDefense': 115.0, 'Total': 545.0, 'SpecialAttack': 120.0}, 521: {'Type': 'BugFlying', 'Name': 'Yanmega', 'Speed': 95.0, 'HP': 86.0, 'Attack': 76.0, 'Defense': 86.0, 'PokedexNumber': 469.0, 'SpecialDefense': 56.0, 'Total': 515.0, 'SpecialAttack': 116.0}, 522: {'Type': 'Grass', 'Name': 'Leafeon', 'Speed': 95.0, 'HP': 65.0, 'Attack': 110.0, 'Defense': 130.0, 'PokedexNumber': 470.0, 'SpecialDefense': 65.0, 'Total': 525.0, 'SpecialAttack': 60.0}, 523: {'Type': 'Ice', 'Name': 'Glaceon', 'Speed': 65.0, 'HP': 65.0, 'Attack': 60.0, 'Defense': 110.0, 'PokedexNumber': 471.0, 'SpecialDefense': 95.0, 'Total': 525.0, 'SpecialAttack': 130.0}, 524: {'Type': 'GroundFlying', 'Name': 'Gliscor', 'Speed': 95.0, 'HP': 75.0, 'Attack': 95.0, 'Defense': 125.0, 'PokedexNumber': 472.0, 'SpecialDefense': 75.0, 'Total': 510.0, 'SpecialAttack': 45.0}, 525: {'Type': 'IceGround', 'Name': 'Mamoswine', 'Speed': 80.0, 'HP': 110.0, 'Attack': 130.0, 'Defense': 80.0, 'PokedexNumber': 473.0, 'SpecialDefense': 60.0, 'Total': 530.0, 'SpecialAttack': 70.0}, 526: {'Type': 'Normal', 'Name': 'Porygon-Z', 'Speed': 90.0, 'HP': 85.0, 'Attack': 80.0, 'Defense': 70.0, 'PokedexNumber': 474.0, 'SpecialDefense': 75.0, 'Total': 535.0, 'SpecialAttack': 135.0}, 527: {'Type': 'PsychicFighting', 'Name': 'Gallade', 'Speed': 80.0, 'HP': 68.0, 'Attack': 125.0, 'Defense': 65.0, 'PokedexNumber': 475.0, 'SpecialDefense': 115.0, 'Total': 518.0, 'SpecialAttack': 65.0}, 528: {'Type': 'PsychicFighting', 'Name': 'GalladeMega Gallade', 'Speed': 110.0, 'HP': 68.0, 'Attack': 165.0, 'Defense': 95.0, 'PokedexNumber': 475.0, 'SpecialDefense': 115.0, 'Total': 618.0, 'SpecialAttack': 65.0}, 529: {'Type': 'RockSteel', 'Name': 'Probopass', 'Speed': 40.0, 'HP': 60.0, 'Attack': 55.0, 'Defense': 145.0, 'PokedexNumber': 476.0, 'SpecialDefense': 150.0, 'Total': 525.0, 'SpecialAttack': 75.0}, 530: {'Type': 'Ghost', 'Name': 'Dusknoir', 'Speed': 45.0, 'HP': 45.0, 'Attack': 100.0, 'Defense': 135.0, 'PokedexNumber': 477.0, 'SpecialDefense': 135.0, 'Total': 525.0, 'SpecialAttack': 65.0}, 531: {'Type': 'IceGhost', 'Name': 'Froslass', 'Speed': 110.0, 'HP': 70.0, 'Attack': 80.0, 'Defense': 70.0, 'PokedexNumber': 478.0, 'SpecialDefense': 70.0, 'Total': 480.0, 'SpecialAttack': 80.0}, 532: {'Type': 'ElectricGhost', 'Name': 'Rotom', 'Speed': 91.0, 'HP': 50.0, 'Attack': 50.0, 'Defense': 77.0, 'PokedexNumber': 479.0, 'SpecialDefense': 77.0, 'Total': 440.0, 'SpecialAttack': 95.0}, 533: {'Type': 'ElectricFire', 'Name': 'RotomHeat Rotom', 'Speed': 86.0, 'HP': 50.0, 'Attack': 65.0, 'Defense': 107.0, 'PokedexNumber': 479.0, 'SpecialDefense': 107.0, 'Total': 520.0, 'SpecialAttack': 105.0}, 534: {'Type': 'ElectricWater', 'Name': 'RotomWash Rotom', 'Speed': 86.0, 'HP': 50.0, 'Attack': 65.0, 'Defense': 107.0, 'PokedexNumber': 479.0, 'SpecialDefense': 107.0, 'Total': 520.0, 'SpecialAttack': 105.0}, 535: {'Type': 'ElectricIce', 'Name': 'RotomFrost Rotom', 'Speed': 86.0, 'HP': 50.0, 'Attack': 65.0, 'Defense': 107.0, 'PokedexNumber': 479.0, 'SpecialDefense': 107.0, 'Total': 520.0, 'SpecialAttack': 105.0}, 536: {'Type': 'ElectricFlying', 'Name': 'RotomFan Rotom', 'Speed': 86.0, 'HP': 50.0, 'Attack': 65.0, 'Defense': 107.0, 'PokedexNumber': 479.0, 'SpecialDefense': 107.0, 'Total': 520.0, 'SpecialAttack': 105.0}, 537: {'Type': 'ElectricGrass', 'Name': 'RotomMow Rotom', 'Speed': 86.0, 'HP': 50.0, 'Attack': 65.0, 'Defense': 107.0, 'PokedexNumber': 479.0, 'SpecialDefense': 107.0, 'Total': 520.0, 'SpecialAttack': 105.0}, 538: {'Type': 'Psychic', 'Name': 'Uxie', 'Speed': 95.0, 'HP': 75.0, 'Attack': 75.0, 'Defense': 130.0, 'PokedexNumber': 480.0, 'SpecialDefense': 130.0, 'Total': 580.0, 'SpecialAttack': 75.0}, 539: {'Type': 'Psychic', 'Name': 'Mesprit', 'Speed': 80.0, 'HP': 80.0, 'Attack': 105.0, 'Defense': 105.0, 'PokedexNumber': 481.0, 'SpecialDefense': 105.0, 'Total': 580.0, 'SpecialAttack': 105.0}, 540: {'Type': 'Psychic', 'Name': 'Azelf', 'Speed': 115.0, 'HP': 75.0, 'Attack': 125.0, 'Defense': 70.0, 'PokedexNumber': 482.0, 'SpecialDefense': 70.0, 'Total': 580.0, 'SpecialAttack': 125.0}, 541: {'Type': 'SteelDragon', 'Name': 'Dialga', 'Speed': 90.0, 'HP': 100.0, 'Attack': 120.0, 'Defense': 120.0, 'PokedexNumber': 483.0, 'SpecialDefense': 100.0, 'Total': 680.0, 'SpecialAttack': 150.0}, 542: {'Type': 'WaterDragon', 'Name': 'Palkia', 'Speed': 100.0, 'HP': 90.0, 'Attack': 120.0, 'Defense': 100.0, 'PokedexNumber': 484.0, 'SpecialDefense': 120.0, 'Total': 680.0, 'SpecialAttack': 150.0}, 543: {'Type': 'FireSteel', 'Name': 'Heatran', 'Speed': 77.0, 'HP': 91.0, 'Attack': 90.0, 'Defense': 106.0, 'PokedexNumber': 485.0, 'SpecialDefense': 106.0, 'Total': 600.0, 'SpecialAttack': 130.0}, 544: {'Type': 'Normal', 'Name': 'Regigigas', 'Speed': 100.0, 'HP': 110.0, 'Attack': 160.0, 'Defense': 110.0, 'PokedexNumber': 486.0, 'SpecialDefense': 110.0, 'Total': 670.0, 'SpecialAttack': 80.0}, 545: {'Type': 'GhostDragon', 'Name': 'GiratinaAltered Forme', 'Speed': 90.0, 'HP': 150.0, 'Attack': 100.0, 'Defense': 120.0, 'PokedexNumber': 487.0, 'SpecialDefense': 120.0, 'Total': 680.0, 'SpecialAttack': 100.0}, 546: {'Type': 'GhostDragon', 'Name': 'GiratinaOrigin Forme', 'Speed': 90.0, 'HP': 150.0, 'Attack': 120.0, 'Defense': 100.0, 'PokedexNumber': 487.0, 'SpecialDefense': 100.0, 'Total': 680.0, 'SpecialAttack': 120.0}, 547: {'Type': 'Psychic', 'Name': 'Cresselia', 'Speed': 85.0, 'HP': 120.0, 'Attack': 70.0, 'Defense': 120.0, 'PokedexNumber': 488.0, 'SpecialDefense': 130.0, 'Total': 600.0, 'SpecialAttack': 75.0}, 548: {'Type': 'Water', 'Name': 'Phione', 'Speed': 80.0, 'HP': 80.0, 'Attack': 80.0, 'Defense': 80.0, 'PokedexNumber': 489.0, 'SpecialDefense': 80.0, 'Total': 480.0, 'SpecialAttack': 80.0}, 549: {'Type': 'Water', 'Name': 'Manaphy', 'Speed': 100.0, 'HP': 100.0, 'Attack': 100.0, 'Defense': 100.0, 'PokedexNumber': 490.0, 'SpecialDefense': 100.0, 'Total': 600.0, 'SpecialAttack': 100.0}, 550: {'Type': 'Dark', 'Name': 'Darkrai', 'Speed': 125.0, 'HP': 70.0, 'Attack': 90.0, 'Defense': 90.0, 'PokedexNumber': 491.0, 'SpecialDefense': 90.0, 'Total': 600.0, 'SpecialAttack': 135.0}, 551: {'Type': 'Grass', 'Name': 'ShayminLand Forme', 'Speed': 100.0, 'HP': 100.0, 'Attack': 100.0, 'Defense': 100.0, 'PokedexNumber': 492.0, 'SpecialDefense': 100.0, 'Total': 600.0, 'SpecialAttack': 100.0}, 552: {'Type': 'GrassFlying', 'Name': 'ShayminSky Forme', 'Speed': 127.0, 'HP': 100.0, 'Attack': 103.0, 'Defense': 75.0, 'PokedexNumber': 492.0, 'SpecialDefense': 75.0, 'Total': 600.0, 'SpecialAttack': 120.0}, 553: {'Type': 'Normal', 'Name': 'Arceus', 'Speed': 120.0, 'HP': 120.0, 'Attack': 120.0, 'Defense': 120.0, 'PokedexNumber': 493.0, 'SpecialDefense': 120.0, 'Total': 720.0, 'SpecialAttack': 120.0}, 554: {'Type': 'PsychicFire', 'Name': 'Victini', 'Speed': 100.0, 'HP': 100.0, 'Attack': 100.0, 'Defense': 100.0, 'PokedexNumber': 494.0, 'SpecialDefense': 100.0, 'Total': 600.0, 'SpecialAttack': 100.0}, 555: {'Type': 'Grass', 'Name': 'Snivy', 'Speed': 63.0, 'HP': 45.0, 'Attack': 45.0, 'Defense': 55.0, 'PokedexNumber': 495.0, 'SpecialDefense': 55.0, 'Total': 308.0, 'SpecialAttack': 45.0}, 556: {'Type': 'Grass', 'Name': 'Servine', 'Speed': 83.0, 'HP': 60.0, 'Attack': 60.0, 'Defense': 75.0, 'PokedexNumber': 496.0, 'SpecialDefense': 75.0, 'Total': 413.0, 'SpecialAttack': 60.0}, 557: {'Type': 'Grass', 'Name': 'Serperior', 'Speed': 113.0, 'HP': 75.0, 'Attack': 75.0, 'Defense': 95.0, 'PokedexNumber': 497.0, 'SpecialDefense': 95.0, 'Total': 528.0, 'SpecialAttack': 75.0}, 558: {'Type': 'Fire', 'Name': 'Tepig', 'Speed': 45.0, 'HP': 65.0, 'Attack': 63.0, 'Defense': 45.0, 'PokedexNumber': 498.0, 'SpecialDefense': 45.0, 'Total': 308.0, 'SpecialAttack': 45.0}, 559: {'Type': 'FireFighting', 'Name': 'Pignite', 'Speed': 55.0, 'HP': 90.0, 'Attack': 93.0, 'Defense': 55.0, 'PokedexNumber': 499.0, 'SpecialDefense': 55.0, 'Total': 418.0, 'SpecialAttack': 70.0}, 560: {'Type': 'FireFighting', 'Name': 'Emboar', 'Speed': 65.0, 'HP': 110.0, 'Attack': 123.0, 'Defense': 65.0, 'PokedexNumber': 500.0, 'SpecialDefense': 65.0, 'Total': 528.0, 'SpecialAttack': 100.0}, 561: {'Type': 'Water', 'Name': 'Oshawott', 'Speed': 45.0, 'HP': 55.0, 'Attack': 55.0, 'Defense': 45.0, 'PokedexNumber': 501.0, 'SpecialDefense': 45.0, 'Total': 308.0, 'SpecialAttack': 63.0}, 562: {'Type': 'Water', 'Name': 'Dewott', 'Speed': 60.0, 'HP': 75.0, 'Attack': 75.0, 'Defense': 60.0, 'PokedexNumber': 502.0, 'SpecialDefense': 60.0, 'Total': 413.0, 'SpecialAttack': 83.0}, 563: {'Type': 'Water', 'Name': 'Samurott', 'Speed': 70.0, 'HP': 95.0, 'Attack': 100.0, 'Defense': 85.0, 'PokedexNumber': 503.0, 'SpecialDefense': 70.0, 'Total': 528.0, 'SpecialAttack': 108.0}, 564: {'Type': 'Normal', 'Name': 'Patrat', 'Speed': 42.0, 'HP': 45.0, 'Attack': 55.0, 'Defense': 39.0, 'PokedexNumber': 504.0, 'SpecialDefense': 39.0, 'Total': 255.0, 'SpecialAttack': 35.0}, 565: {'Type': 'Normal', 'Name': 'Watchog', 'Speed': 77.0, 'HP': 60.0, 'Attack': 85.0, 'Defense': 69.0, 'PokedexNumber': 505.0, 'SpecialDefense': 69.0, 'Total': 420.0, 'SpecialAttack': 60.0}, 566: {'Type': 'Normal', 'Name': 'Lillipup', 'Speed': 55.0, 'HP': 45.0, 'Attack': 60.0, 'Defense': 45.0, 'PokedexNumber': 506.0, 'SpecialDefense': 45.0, 'Total': 275.0, 'SpecialAttack': 25.0}, 567: {'Type': 'Normal', 'Name': 'Herdier', 'Speed': 60.0, 'HP': 65.0, 'Attack': 80.0, 'Defense': 65.0, 'PokedexNumber': 507.0, 'SpecialDefense': 65.0, 'Total': 370.0, 'SpecialAttack': 35.0}, 568: {'Type': 'Normal', 'Name': 'Stoutland', 'Speed': 80.0, 'HP': 85.0, 'Attack': 110.0, 'Defense': 90.0, 'PokedexNumber': 508.0, 'SpecialDefense': 90.0, 'Total': 500.0, 'SpecialAttack': 45.0}, 569: {'Type': 'Dark', 'Name': 'Purrloin', 'Speed': 66.0, 'HP': 41.0, 'Attack': 50.0, 'Defense': 37.0, 'PokedexNumber': 509.0, 'SpecialDefense': 37.0, 'Total': 281.0, 'SpecialAttack': 50.0}, 570: {'Type': 'Dark', 'Name': 'Liepard', 'Speed': 106.0, 'HP': 64.0, 'Attack': 88.0, 'Defense': 50.0, 'PokedexNumber': 510.0, 'SpecialDefense': 50.0, 'Total': 446.0, 'SpecialAttack': 88.0}, 571: {'Type': 'Grass', 'Name': 'Pansage', 'Speed': 64.0, 'HP': 50.0, 'Attack': 53.0, 'Defense': 48.0, 'PokedexNumber': 511.0, 'SpecialDefense': 48.0, 'Total': 316.0, 'SpecialAttack': 53.0}, 572: {'Type': 'Grass', 'Name': 'Simisage', 'Speed': 101.0, 'HP': 75.0, 'Attack': 98.0, 'Defense': 63.0, 'PokedexNumber': 512.0, 'SpecialDefense': 63.0, 'Total': 498.0, 'SpecialAttack': 98.0}, 573: {'Type': 'Fire', 'Name': 'Pansear', 'Speed': 64.0, 'HP': 50.0, 'Attack': 53.0, 'Defense': 48.0, 'PokedexNumber': 513.0, 'SpecialDefense': 48.0, 'Total': 316.0, 'SpecialAttack': 53.0}, 574: {'Type': 'Fire', 'Name': 'Simisear', 'Speed': 101.0, 'HP': 75.0, 'Attack': 98.0, 'Defense': 63.0, 'PokedexNumber': 514.0, 'SpecialDefense': 63.0, 'Total': 498.0, 'SpecialAttack': 98.0}, 575: {'Type': 'Water', 'Name': 'Panpour', 'Speed': 64.0, 'HP': 50.0, 'Attack': 53.0, 'Defense': 48.0, 'PokedexNumber': 515.0, 'SpecialDefense': 48.0, 'Total': 316.0, 'SpecialAttack': 53.0}, 576: {'Type': 'Water', 'Name': 'Simipour', 'Speed': 101.0, 'HP': 75.0, 'Attack': 98.0, 'Defense': 63.0, 'PokedexNumber': 516.0, 'SpecialDefense': 63.0, 'Total': 498.0, 'SpecialAttack': 98.0}, 577: {'Type': 'Psychic', 'Name': 'Munna', 'Speed': 24.0, 'HP': 76.0, 'Attack': 25.0, 'Defense': 45.0, 'PokedexNumber': 517.0, 'SpecialDefense': 55.0, 'Total': 292.0, 'SpecialAttack': 67.0}, 578: {'Type': 'Psychic', 'Name': 'Musharna', 'Speed': 29.0, 'HP': 116.0, 'Attack': 55.0, 'Defense': 85.0, 'PokedexNumber': 518.0, 'SpecialDefense': 95.0, 'Total': 487.0, 'SpecialAttack': 107.0}, 579: {'Type': 'NormalFlying', 'Name': 'Pidove', 'Speed': 43.0, 'HP': 50.0, 'Attack': 55.0, 'Defense': 50.0, 'PokedexNumber': 519.0, 'SpecialDefense': 30.0, 'Total': 264.0, 'SpecialAttack': 36.0}, 580: {'Type': 'NormalFlying', 'Name': 'Tranquill', 'Speed': 65.0, 'HP': 62.0, 'Attack': 77.0, 'Defense': 62.0, 'PokedexNumber': 520.0, 'SpecialDefense': 42.0, 'Total': 358.0, 'SpecialAttack': 50.0}, 581: {'Type': 'NormalFlying', 'Name': 'Unfezant', 'Speed': 93.0, 'HP': 80.0, 'Attack': 115.0, 'Defense': 80.0, 'PokedexNumber': 521.0, 'SpecialDefense': 55.0, 'Total': 488.0, 'SpecialAttack': 65.0}, 582: {'Type': 'Electric', 'Name': 'Blitzle', 'Speed': 76.0, 'HP': 45.0, 'Attack': 60.0, 'Defense': 32.0, 'PokedexNumber': 522.0, 'SpecialDefense': 32.0, 'Total': 295.0, 'SpecialAttack': 50.0}, 583: {'Type': 'Electric', 'Name': 'Zebstrika', 'Speed': 116.0, 'HP': 75.0, 'Attack': 100.0, 'Defense': 63.0, 'PokedexNumber': 523.0, 'SpecialDefense': 63.0, 'Total': 497.0, 'SpecialAttack': 80.0}, 584: {'Type': 'Rock', 'Name': 'Roggenrola', 'Speed': 15.0, 'HP': 55.0, 'Attack': 75.0, 'Defense': 85.0, 'PokedexNumber': 524.0, 'SpecialDefense': 25.0, 'Total': 280.0, 'SpecialAttack': 25.0}, 585: {'Type': 'Rock', 'Name': 'Boldore', 'Speed': 20.0, 'HP': 70.0, 'Attack': 105.0, 'Defense': 105.0, 'PokedexNumber': 525.0, 'SpecialDefense': 40.0, 'Total': 390.0, 'SpecialAttack': 50.0}, 586: {'Type': 'Rock', 'Name': 'Gigalith', 'Speed': 25.0, 'HP': 85.0, 'Attack': 135.0, 'Defense': 130.0, 'PokedexNumber': 526.0, 'SpecialDefense': 80.0, 'Total': 515.0, 'SpecialAttack': 60.0}, 587: {'Type': 'PsychicFlying', 'Name': 'Woobat', 'Speed': 72.0, 'HP': 55.0, 'Attack': 45.0, 'Defense': 43.0, 'PokedexNumber': 527.0, 'SpecialDefense': 43.0, 'Total': 313.0, 'SpecialAttack': 55.0}, 588: {'Type': 'PsychicFlying', 'Name': 'Swoobat', 'Speed': 114.0, 'HP': 67.0, 'Attack': 57.0, 'Defense': 55.0, 'PokedexNumber': 528.0, 'SpecialDefense': 55.0, 'Total': 425.0, 'SpecialAttack': 77.0}, 589: {'Type': 'Ground', 'Name': 'Drilbur', 'Speed': 68.0, 'HP': 60.0, 'Attack': 85.0, 'Defense': 40.0, 'PokedexNumber': 529.0, 'SpecialDefense': 45.0, 'Total': 328.0, 'SpecialAttack': 30.0}, 590: {'Type': 'GroundSteel', 'Name': 'Excadrill', 'Speed': 88.0, 'HP': 110.0, 'Attack': 135.0, 'Defense': 60.0, 'PokedexNumber': 530.0, 'SpecialDefense': 65.0, 'Total': 508.0, 'SpecialAttack': 50.0}, 591: {'Type': 'Normal', 'Name': 'Audino', 'Speed': 50.0, 'HP': 103.0, 'Attack': 60.0, 'Defense': 86.0, 'PokedexNumber': 531.0, 'SpecialDefense': 86.0, 'Total': 445.0, 'SpecialAttack': 60.0}, 592: {'Type': 'NormalFairy', 'Name': 'AudinoMega Audino', 'Speed': 50.0, 'HP': 103.0, 'Attack': 60.0, 'Defense': 126.0, 'PokedexNumber': 531.0, 'SpecialDefense': 126.0, 'Total': 545.0, 'SpecialAttack': 80.0}, 593: {'Type': 'Fighting', 'Name': 'Timburr', 'Speed': 35.0, 'HP': 75.0, 'Attack': 80.0, 'Defense': 55.0, 'PokedexNumber': 532.0, 'SpecialDefense': 35.0, 'Total': 305.0, 'SpecialAttack': 25.0}, 594: {'Type': 'Fighting', 'Name': 'Gurdurr', 'Speed': 40.0, 'HP': 85.0, 'Attack': 105.0, 'Defense': 85.0, 'PokedexNumber': 533.0, 'SpecialDefense': 50.0, 'Total': 405.0, 'SpecialAttack': 40.0}, 595: {'Type': 'Fighting', 'Name': 'Conkeldurr', 'Speed': 45.0, 'HP': 105.0, 'Attack': 140.0, 'Defense': 95.0, 'PokedexNumber': 534.0, 'SpecialDefense': 65.0, 'Total': 505.0, 'SpecialAttack': 55.0}, 596: {'Type': 'Water', 'Name': 'Tympole', 'Speed': 64.0, 'HP': 50.0, 'Attack': 50.0, 'Defense': 40.0, 'PokedexNumber': 535.0, 'SpecialDefense': 40.0, 'Total': 294.0, 'SpecialAttack': 50.0}, 597: {'Type': 'WaterGround', 'Name': 'Palpitoad', 'Speed': 69.0, 'HP': 75.0, 'Attack': 65.0, 'Defense': 55.0, 'PokedexNumber': 536.0, 'SpecialDefense': 55.0, 'Total': 384.0, 'SpecialAttack': 65.0}, 598: {'Type': 'WaterGround', 'Name': 'Seismitoad', 'Speed': 74.0, 'HP': 105.0, 'Attack': 95.0, 'Defense': 75.0, 'PokedexNumber': 537.0, 'SpecialDefense': 75.0, 'Total': 509.0, 'SpecialAttack': 85.0}, 599: {'Type': 'Fighting', 'Name': 'Throh', 'Speed': 45.0, 'HP': 120.0, 'Attack': 100.0, 'Defense': 85.0, 'PokedexNumber': 538.0, 'SpecialDefense': 85.0, 'Total': 465.0, 'SpecialAttack': 30.0}, 600: {'Type': 'Fighting', 'Name': 'Sawk', 'Speed': 85.0, 'HP': 75.0, 'Attack': 125.0, 'Defense': 75.0, 'PokedexNumber': 539.0, 'SpecialDefense': 75.0, 'Total': 465.0, 'SpecialAttack': 30.0}, 601: {'Type': 'BugGrass', 'Name': 'Sewaddle', 'Speed': 42.0, 'HP': 45.0, 'Attack': 53.0, 'Defense': 70.0, 'PokedexNumber': 540.0, 'SpecialDefense': 60.0, 'Total': 310.0, 'SpecialAttack': 40.0}, 602: {'Type': 'BugGrass', 'Name': 'Swadloon', 'Speed': 42.0, 'HP': 55.0, 'Attack': 63.0, 'Defense': 90.0, 'PokedexNumber': 541.0, 'SpecialDefense': 80.0, 'Total': 380.0, 'SpecialAttack': 50.0}, 603: {'Type': 'BugGrass', 'Name': 'Leavanny', 'Speed': 92.0, 'HP': 75.0, 'Attack': 103.0, 'Defense': 80.0, 'PokedexNumber': 542.0, 'SpecialDefense': 80.0, 'Total': 500.0, 'SpecialAttack': 70.0}, 604: {'Type': 'BugPoison', 'Name': 'Venipede', 'Speed': 57.0, 'HP': 30.0, 'Attack': 45.0, 'Defense': 59.0, 'PokedexNumber': 543.0, 'SpecialDefense': 39.0, 'Total': 260.0, 'SpecialAttack': 30.0}, 605: {'Type': 'BugPoison', 'Name': 'Whirlipede', 'Speed': 47.0, 'HP': 40.0, 'Attack': 55.0, 'Defense': 99.0, 'PokedexNumber': 544.0, 'SpecialDefense': 79.0, 'Total': 360.0, 'SpecialAttack': 40.0}, 606: {'Type': 'BugPoison', 'Name': 'Scolipede', 'Speed': 112.0, 'HP': 60.0, 'Attack': 100.0, 'Defense': 89.0, 'PokedexNumber': 545.0, 'SpecialDefense': 69.0, 'Total': 485.0, 'SpecialAttack': 55.0}, 607: {'Type': 'GrassFairy', 'Name': 'Cottonee', 'Speed': 66.0, 'HP': 40.0, 'Attack': 27.0, 'Defense': 60.0, 'PokedexNumber': 546.0, 'SpecialDefense': 50.0, 'Total': 280.0, 'SpecialAttack': 37.0}, 608: {'Type': 'GrassFairy', 'Name': 'Whimsicott', 'Speed': 116.0, 'HP': 60.0, 'Attack': 67.0, 'Defense': 85.0, 'PokedexNumber': 547.0, 'SpecialDefense': 75.0, 'Total': 480.0, 'SpecialAttack': 77.0}, 609: {'Type': 'Grass', 'Name': 'Petilil', 'Speed': 30.0, 'HP': 45.0, 'Attack': 35.0, 'Defense': 50.0, 'PokedexNumber': 548.0, 'SpecialDefense': 50.0, 'Total': 280.0, 'SpecialAttack': 70.0}, 610: {'Type': 'Grass', 'Name': 'Lilligant', 'Speed': 90.0, 'HP': 70.0, 'Attack': 60.0, 'Defense': 75.0, 'PokedexNumber': 549.0, 'SpecialDefense': 75.0, 'Total': 480.0, 'SpecialAttack': 110.0}, 611: {'Type': 'Water', 'Name': 'Basculin', 'Speed': 98.0, 'HP': 70.0, 'Attack': 92.0, 'Defense': 65.0, 'PokedexNumber': 550.0, 'SpecialDefense': 55.0, 'Total': 460.0, 'SpecialAttack': 80.0}, 612: {'Type': 'GroundDark', 'Name': 'Sandile', 'Speed': 65.0, 'HP': 50.0, 'Attack': 72.0, 'Defense': 35.0, 'PokedexNumber': 551.0, 'SpecialDefense': 35.0, 'Total': 292.0, 'SpecialAttack': 35.0}, 613: {'Type': 'GroundDark', 'Name': 'Krokorok', 'Speed': 74.0, 'HP': 60.0, 'Attack': 82.0, 'Defense': 45.0, 'PokedexNumber': 552.0, 'SpecialDefense': 45.0, 'Total': 351.0, 'SpecialAttack': 45.0}, 614: {'Type': 'GroundDark', 'Name': 'Krookodile', 'Speed': 92.0, 'HP': 95.0, 'Attack': 117.0, 'Defense': 80.0, 'PokedexNumber': 553.0, 'SpecialDefense': 70.0, 'Total': 519.0, 'SpecialAttack': 65.0}, 615: {'Type': 'Fire', 'Name': 'Darumaka', 'Speed': 50.0, 'HP': 70.0, 'Attack': 90.0, 'Defense': 45.0, 'PokedexNumber': 554.0, 'SpecialDefense': 45.0, 'Total': 315.0, 'SpecialAttack': 15.0}, 616: {'Type': 'Fire', 'Name': 'DarmanitanStandard Mode', 'Speed': 95.0, 'HP': 105.0, 'Attack': 140.0, 'Defense': 55.0, 'PokedexNumber': 555.0, 'SpecialDefense': 55.0, 'Total': 480.0, 'SpecialAttack': 30.0}, 617: {'Type': 'FirePsychic', 'Name': 'DarmanitanZen Mode', 'Speed': 55.0, 'HP': 105.0, 'Attack': 30.0, 'Defense': 105.0, 'PokedexNumber': 555.0, 'SpecialDefense': 105.0, 'Total': 540.0, 'SpecialAttack': 140.0}, 618: {'Type': 'Grass', 'Name': 'Maractus', 'Speed': 60.0, 'HP': 75.0, 'Attack': 86.0, 'Defense': 67.0, 'PokedexNumber': 556.0, 'SpecialDefense': 67.0, 'Total': 461.0, 'SpecialAttack': 106.0}, 619: {'Type': 'BugRock', 'Name': 'Dwebble', 'Speed': 55.0, 'HP': 50.0, 'Attack': 65.0, 'Defense': 85.0, 'PokedexNumber': 557.0, 'SpecialDefense': 35.0, 'Total': 325.0, 'SpecialAttack': 35.0}, 620: {'Type': 'BugRock', 'Name': 'Crustle', 'Speed': 45.0, 'HP': 70.0, 'Attack': 95.0, 'Defense': 125.0, 'PokedexNumber': 558.0, 'SpecialDefense': 75.0, 'Total': 475.0, 'SpecialAttack': 65.0}, 621: {'Type': 'DarkFighting', 'Name': 'Scraggy', 'Speed': 48.0, 'HP': 50.0, 'Attack': 75.0, 'Defense': 70.0, 'PokedexNumber': 559.0, 'SpecialDefense': 70.0, 'Total': 348.0, 'SpecialAttack': 35.0}, 622: {'Type': 'DarkFighting', 'Name': 'Scrafty', 'Speed': 58.0, 'HP': 65.0, 'Attack': 90.0, 'Defense': 115.0, 'PokedexNumber': 560.0, 'SpecialDefense': 115.0, 'Total': 488.0, 'SpecialAttack': 45.0}, 623: {'Type': 'PsychicFlying', 'Name': 'Sigilyph', 'Speed': 97.0, 'HP': 72.0, 'Attack': 58.0, 'Defense': 80.0, 'PokedexNumber': 561.0, 'SpecialDefense': 80.0, 'Total': 490.0, 'SpecialAttack': 103.0}, 624: {'Type': 'Ghost', 'Name': 'Yamask', 'Speed': 30.0, 'HP': 38.0, 'Attack': 30.0, 'Defense': 85.0, 'PokedexNumber': 562.0, 'SpecialDefense': 65.0, 'Total': 303.0, 'SpecialAttack': 55.0}, 625: {'Type': 'Ghost', 'Name': 'Cofagrigus', 'Speed': 30.0, 'HP': 58.0, 'Attack': 50.0, 'Defense': 145.0, 'PokedexNumber': 563.0, 'SpecialDefense': 105.0, 'Total': 483.0, 'SpecialAttack': 95.0}, 626: {'Type': 'WaterRock', 'Name': 'Tirtouga', 'Speed': 22.0, 'HP': 54.0, 'Attack': 78.0, 'Defense': 103.0, 'PokedexNumber': 564.0, 'SpecialDefense': 45.0, 'Total': 355.0, 'SpecialAttack': 53.0}, 627: {'Type': 'WaterRock', 'Name': 'Carracosta', 'Speed': 32.0, 'HP': 74.0, 'Attack': 108.0, 'Defense': 133.0, 'PokedexNumber': 565.0, 'SpecialDefense': 65.0, 'Total': 495.0, 'SpecialAttack': 83.0}, 628: {'Type': 'RockFlying', 'Name': 'Archen', 'Speed': 70.0, 'HP': 55.0, 'Attack': 112.0, 'Defense': 45.0, 'PokedexNumber': 566.0, 'SpecialDefense': 45.0, 'Total': 401.0, 'SpecialAttack': 74.0}, 629: {'Type': 'RockFlying', 'Name': 'Archeops', 'Speed': 110.0, 'HP': 75.0, 'Attack': 140.0, 'Defense': 65.0, 'PokedexNumber': 567.0, 'SpecialDefense': 65.0, 'Total': 567.0, 'SpecialAttack': 112.0}, 630: {'Type': 'Poison', 'Name': 'Trubbish', 'Speed': 65.0, 'HP': 50.0, 'Attack': 50.0, 'Defense': 62.0, 'PokedexNumber': 568.0, 'SpecialDefense': 62.0, 'Total': 329.0, 'SpecialAttack': 40.0}, 631: {'Type': 'Poison', 'Name': 'Garbodor', 'Speed': 75.0, 'HP': 80.0, 'Attack': 95.0, 'Defense': 82.0, 'PokedexNumber': 569.0, 'SpecialDefense': 82.0, 'Total': 474.0, 'SpecialAttack': 60.0}, 632: {'Type': 'Dark', 'Name': 'Zorua', 'Speed': 65.0, 'HP': 40.0, 'Attack': 65.0, 'Defense': 40.0, 'PokedexNumber': 570.0, 'SpecialDefense': 40.0, 'Total': 330.0, 'SpecialAttack': 80.0}, 633: {'Type': 'Dark', 'Name': 'Zoroark', 'Speed': 105.0, 'HP': 60.0, 'Attack': 105.0, 'Defense': 60.0, 'PokedexNumber': 571.0, 'SpecialDefense': 60.0, 'Total': 510.0, 'SpecialAttack': 120.0}, 634: {'Type': 'Normal', 'Name': 'Minccino', 'Speed': 75.0, 'HP': 55.0, 'Attack': 50.0, 'Defense': 40.0, 'PokedexNumber': 572.0, 'SpecialDefense': 40.0, 'Total': 300.0, 'SpecialAttack': 40.0}, 635: {'Type': 'Normal', 'Name': 'Cinccino', 'Speed': 115.0, 'HP': 75.0, 'Attack': 95.0, 'Defense': 60.0, 'PokedexNumber': 573.0, 'SpecialDefense': 60.0, 'Total': 470.0, 'SpecialAttack': 65.0}, 636: {'Type': 'Psychic', 'Name': 'Gothita', 'Speed': 45.0, 'HP': 45.0, 'Attack': 30.0, 'Defense': 50.0, 'PokedexNumber': 574.0, 'SpecialDefense': 65.0, 'Total': 290.0, 'SpecialAttack': 55.0}, 637: {'Type': 'Psychic', 'Name': 'Gothorita', 'Speed': 55.0, 'HP': 60.0, 'Attack': 45.0, 'Defense': 70.0, 'PokedexNumber': 575.0, 'SpecialDefense': 85.0, 'Total': 390.0, 'SpecialAttack': 75.0}, 638: {'Type': 'Psychic', 'Name': 'Gothitelle', 'Speed': 65.0, 'HP': 70.0, 'Attack': 55.0, 'Defense': 95.0, 'PokedexNumber': 576.0, 'SpecialDefense': 110.0, 'Total': 490.0, 'SpecialAttack': 95.0}, 639: {'Type': 'Psychic', 'Name': 'Solosis', 'Speed': 20.0, 'HP': 45.0, 'Attack': 30.0, 'Defense': 40.0, 'PokedexNumber': 577.0, 'SpecialDefense': 50.0, 'Total': 290.0, 'SpecialAttack': 105.0}, 640: {'Type': 'Psychic', 'Name': 'Duosion', 'Speed': 30.0, 'HP': 65.0, 'Attack': 40.0, 'Defense': 50.0, 'PokedexNumber': 578.0, 'SpecialDefense': 60.0, 'Total': 370.0, 'SpecialAttack': 125.0}, 641: {'Type': 'Psychic', 'Name': 'Reuniclus', 'Speed': 30.0, 'HP': 110.0, 'Attack': 65.0, 'Defense': 75.0, 'PokedexNumber': 579.0, 'SpecialDefense': 85.0, 'Total': 490.0, 'SpecialAttack': 125.0}, 642: {'Type': 'WaterFlying', 'Name': 'Ducklett', 'Speed': 55.0, 'HP': 62.0, 'Attack': 44.0, 'Defense': 50.0, 'PokedexNumber': 580.0, 'SpecialDefense': 50.0, 'Total': 305.0, 'SpecialAttack': 44.0}, 643: {'Type': 'WaterFlying', 'Name': 'Swanna', 'Speed': 98.0, 'HP': 75.0, 'Attack': 87.0, 'Defense': 63.0, 'PokedexNumber': 581.0, 'SpecialDefense': 63.0, 'Total': 473.0, 'SpecialAttack': 87.0}, 644: {'Type': 'Ice', 'Name': 'Vanillite', 'Speed': 44.0, 'HP': 36.0, 'Attack': 50.0, 'Defense': 50.0, 'PokedexNumber': 582.0, 'SpecialDefense': 60.0, 'Total': 305.0, 'SpecialAttack': 65.0}, 645: {'Type': 'Ice', 'Name': 'Vanillish', 'Speed': 59.0, 'HP': 51.0, 'Attack': 65.0, 'Defense': 65.0, 'PokedexNumber': 583.0, 'SpecialDefense': 75.0, 'Total': 395.0, 'SpecialAttack': 80.0}, 646: {'Type': 'Ice', 'Name': 'Vanilluxe', 'Speed': 79.0, 'HP': 71.0, 'Attack': 95.0, 'Defense': 85.0, 'PokedexNumber': 584.0, 'SpecialDefense': 95.0, 'Total': 535.0, 'SpecialAttack': 110.0}, 647: {'Type': 'NormalGrass', 'Name': 'Deerling', 'Speed': 75.0, 'HP': 60.0, 'Attack': 60.0, 'Defense': 50.0, 'PokedexNumber': 585.0, 'SpecialDefense': 50.0, 'Total': 335.0, 'SpecialAttack': 40.0}, 648: {'Type': 'NormalGrass', 'Name': 'Sawsbuck', 'Speed': 95.0, 'HP': 80.0, 'Attack': 100.0, 'Defense': 70.0, 'PokedexNumber': 586.0, 'SpecialDefense': 70.0, 'Total': 475.0, 'SpecialAttack': 60.0}, 649: {'Type': 'ElectricFlying', 'Name': 'Emolga', 'Speed': 103.0, 'HP': 55.0, 'Attack': 75.0, 'Defense': 60.0, 'PokedexNumber': 587.0, 'SpecialDefense': 60.0, 'Total': 428.0, 'SpecialAttack': 75.0}, 650: {'Type': 'Bug', 'Name': 'Karrablast', 'Speed': 60.0, 'HP': 50.0, 'Attack': 75.0, 'Defense': 45.0, 'PokedexNumber': 588.0, 'SpecialDefense': 45.0, 'Total': 315.0, 'SpecialAttack': 40.0}, 651: {'Type': 'BugSteel', 'Name': 'Escavalier', 'Speed': 20.0, 'HP': 70.0, 'Attack': 135.0, 'Defense': 105.0, 'PokedexNumber': 589.0, 'SpecialDefense': 105.0, 'Total': 495.0, 'SpecialAttack': 60.0}, 652: {'Type': 'GrassPoison', 'Name': 'Foongus', 'Speed': 15.0, 'HP': 69.0, 'Attack': 55.0, 'Defense': 45.0, 'PokedexNumber': 590.0, 'SpecialDefense': 55.0, 'Total': 294.0, 'SpecialAttack': 55.0}, 653: {'Type': 'GrassPoison', 'Name': 'Amoonguss', 'Speed': 30.0, 'HP': 114.0, 'Attack': 85.0, 'Defense': 70.0, 'PokedexNumber': 591.0, 'SpecialDefense': 80.0, 'Total': 464.0, 'SpecialAttack': 85.0}, 654: {'Type': 'WaterGhost', 'Name': 'Frillish', 'Speed': 40.0, 'HP': 55.0, 'Attack': 40.0, 'Defense': 50.0, 'PokedexNumber': 592.0, 'SpecialDefense': 85.0, 'Total': 335.0, 'SpecialAttack': 65.0}, 655: {'Type': 'WaterGhost', 'Name': 'Jellicent', 'Speed': 60.0, 'HP': 100.0, 'Attack': 60.0, 'Defense': 70.0, 'PokedexNumber': 593.0, 'SpecialDefense': 105.0, 'Total': 480.0, 'SpecialAttack': 85.0}, 656: {'Type': 'Water', 'Name': 'Alomomola', 'Speed': 65.0, 'HP': 165.0, 'Attack': 75.0, 'Defense': 80.0, 'PokedexNumber': 594.0, 'SpecialDefense': 45.0, 'Total': 470.0, 'SpecialAttack': 40.0}, 657: {'Type': 'BugElectric', 'Name': 'Joltik', 'Speed': 65.0, 'HP': 50.0, 'Attack': 47.0, 'Defense': 50.0, 'PokedexNumber': 595.0, 'SpecialDefense': 50.0, 'Total': 319.0, 'SpecialAttack': 57.0}, 658: {'Type': 'BugElectric', 'Name': 'Galvantula', 'Speed': 108.0, 'HP': 70.0, 'Attack': 77.0, 'Defense': 60.0, 'PokedexNumber': 596.0, 'SpecialDefense': 60.0, 'Total': 472.0, 'SpecialAttack': 97.0}, 659: {'Type': 'GrassSteel', 'Name': 'Ferroseed', 'Speed': 10.0, 'HP': 44.0, 'Attack': 50.0, 'Defense': 91.0, 'PokedexNumber': 597.0, 'SpecialDefense': 86.0, 'Total': 305.0, 'SpecialAttack': 24.0}, 660: {'Type': 'GrassSteel', 'Name': 'Ferrothorn', 'Speed': 20.0, 'HP': 74.0, 'Attack': 94.0, 'Defense': 131.0, 'PokedexNumber': 598.0, 'SpecialDefense': 116.0, 'Total': 489.0, 'SpecialAttack': 54.0}, 661: {'Type': 'Steel', 'Name': 'Klink', 'Speed': 30.0, 'HP': 40.0, 'Attack': 55.0, 'Defense': 70.0, 'PokedexNumber': 599.0, 'SpecialDefense': 60.0, 'Total': 300.0, 'SpecialAttack': 45.0}, 662: {'Type': 'Steel', 'Name': 'Klang', 'Speed': 50.0, 'HP': 60.0, 'Attack': 80.0, 'Defense': 95.0, 'PokedexNumber': 600.0, 'SpecialDefense': 85.0, 'Total': 440.0, 'SpecialAttack': 70.0}, 663: {'Type': 'Steel', 'Name': 'Klinklang', 'Speed': 90.0, 'HP': 60.0, 'Attack': 100.0, 'Defense': 115.0, 'PokedexNumber': 601.0, 'SpecialDefense': 85.0, 'Total': 520.0, 'SpecialAttack': 70.0}, 664: {'Type': 'Electric', 'Name': 'Tynamo', 'Speed': 60.0, 'HP': 35.0, 'Attack': 55.0, 'Defense': 40.0, 'PokedexNumber': 602.0, 'SpecialDefense': 40.0, 'Total': 275.0, 'SpecialAttack': 45.0}, 665: {'Type': 'Electric', 'Name': 'Eelektrik', 'Speed': 40.0, 'HP': 65.0, 'Attack': 85.0, 'Defense': 70.0, 'PokedexNumber': 603.0, 'SpecialDefense': 70.0, 'Total': 405.0, 'SpecialAttack': 75.0}, 666: {'Type': 'Electric', 'Name': 'Eelektross', 'Speed': 50.0, 'HP': 85.0, 'Attack': 115.0, 'Defense': 80.0, 'PokedexNumber': 604.0, 'SpecialDefense': 80.0, 'Total': 515.0, 'SpecialAttack': 105.0}, 667: {'Type': 'Psychic', 'Name': 'Elgyem', 'Speed': 30.0, 'HP': 55.0, 'Attack': 55.0, 'Defense': 55.0, 'PokedexNumber': 605.0, 'SpecialDefense': 55.0, 'Total': 335.0, 'SpecialAttack': 85.0}, 668: {'Type': 'Psychic', 'Name': 'Beheeyem', 'Speed': 40.0, 'HP': 75.0, 'Attack': 75.0, 'Defense': 75.0, 'PokedexNumber': 606.0, 'SpecialDefense': 95.0, 'Total': 485.0, 'SpecialAttack': 125.0}, 669: {'Type': 'GhostFire', 'Name': 'Litwick', 'Speed': 20.0, 'HP': 50.0, 'Attack': 30.0, 'Defense': 55.0, 'PokedexNumber': 607.0, 'SpecialDefense': 55.0, 'Total': 275.0, 'SpecialAttack': 65.0}, 670: {'Type': 'GhostFire', 'Name': 'Lampent', 'Speed': 55.0, 'HP': 60.0, 'Attack': 40.0, 'Defense': 60.0, 'PokedexNumber': 608.0, 'SpecialDefense': 60.0, 'Total': 370.0, 'SpecialAttack': 95.0}, 671: {'Type': 'GhostFire', 'Name': 'Chandelure', 'Speed': 80.0, 'HP': 60.0, 'Attack': 55.0, 'Defense': 90.0, 'PokedexNumber': 609.0, 'SpecialDefense': 90.0, 'Total': 520.0, 'SpecialAttack': 145.0}, 672: {'Type': 'Dragon', 'Name': 'Axew', 'Speed': 57.0, 'HP': 46.0, 'Attack': 87.0, 'Defense': 60.0, 'PokedexNumber': 610.0, 'SpecialDefense': 40.0, 'Total': 320.0, 'SpecialAttack': 30.0}, 673: {'Type': 'Dragon', 'Name': 'Fraxure', 'Speed': 67.0, 'HP': 66.0, 'Attack': 117.0, 'Defense': 70.0, 'PokedexNumber': 611.0, 'SpecialDefense': 50.0, 'Total': 410.0, 'SpecialAttack': 40.0}, 674: {'Type': 'Dragon', 'Name': 'Haxorus', 'Speed': 97.0, 'HP': 76.0, 'Attack': 147.0, 'Defense': 90.0, 'PokedexNumber': 612.0, 'SpecialDefense': 70.0, 'Total': 540.0, 'SpecialAttack': 60.0}, 675: {'Type': 'Ice', 'Name': 'Cubchoo', 'Speed': 40.0, 'HP': 55.0, 'Attack': 70.0, 'Defense': 40.0, 'PokedexNumber': 613.0, 'SpecialDefense': 40.0, 'Total': 305.0, 'SpecialAttack': 60.0}, 676: {'Type': 'Ice', 'Name': 'Beartic', 'Speed': 50.0, 'HP': 95.0, 'Attack': 110.0, 'Defense': 80.0, 'PokedexNumber': 614.0, 'SpecialDefense': 80.0, 'Total': 485.0, 'SpecialAttack': 70.0}, 677: {'Type': 'Ice', 'Name': 'Cryogonal', 'Speed': 105.0, 'HP': 70.0, 'Attack': 50.0, 'Defense': 30.0, 'PokedexNumber': 615.0, 'SpecialDefense': 135.0, 'Total': 485.0, 'SpecialAttack': 95.0}, 678: {'Type': 'Bug', 'Name': 'Shelmet', 'Speed': 25.0, 'HP': 50.0, 'Attack': 40.0, 'Defense': 85.0, 'PokedexNumber': 616.0, 'SpecialDefense': 65.0, 'Total': 305.0, 'SpecialAttack': 40.0}, 679: {'Type': 'Bug', 'Name': 'Accelgor', 'Speed': 145.0, 'HP': 80.0, 'Attack': 70.0, 'Defense': 40.0, 'PokedexNumber': 617.0, 'SpecialDefense': 60.0, 'Total': 495.0, 'SpecialAttack': 100.0}, 680: {'Type': 'GroundElectric', 'Name': 'Stunfisk', 'Speed': 32.0, 'HP': 109.0, 'Attack': 66.0, 'Defense': 84.0, 'PokedexNumber': 618.0, 'SpecialDefense': 99.0, 'Total': 471.0, 'SpecialAttack': 81.0}, 681: {'Type': 'Fighting', 'Name': 'Mienfoo', 'Speed': 65.0, 'HP': 45.0, 'Attack': 85.0, 'Defense': 50.0, 'PokedexNumber': 619.0, 'SpecialDefense': 50.0, 'Total': 350.0, 'SpecialAttack': 55.0}, 682: {'Type': 'Fighting', 'Name': 'Mienshao', 'Speed': 105.0, 'HP': 65.0, 'Attack': 125.0, 'Defense': 60.0, 'PokedexNumber': 620.0, 'SpecialDefense': 60.0, 'Total': 510.0, 'SpecialAttack': 95.0}, 683: {'Type': 'Dragon', 'Name': 'Druddigon', 'Speed': 48.0, 'HP': 77.0, 'Attack': 120.0, 'Defense': 90.0, 'PokedexNumber': 621.0, 'SpecialDefense': 90.0, 'Total': 485.0, 'SpecialAttack': 60.0}, 684: {'Type': 'GroundGhost', 'Name': 'Golett', 'Speed': 35.0, 'HP': 59.0, 'Attack': 74.0, 'Defense': 50.0, 'PokedexNumber': 622.0, 'SpecialDefense': 50.0, 'Total': 303.0, 'SpecialAttack': 35.0}, 685: {'Type': 'GroundGhost', 'Name': 'Golurk', 'Speed': 55.0, 'HP': 89.0, 'Attack': 124.0, 'Defense': 80.0, 'PokedexNumber': 623.0, 'SpecialDefense': 80.0, 'Total': 483.0, 'SpecialAttack': 55.0}, 686: {'Type': 'DarkSteel', 'Name': 'Pawniard', 'Speed': 60.0, 'HP': 45.0, 'Attack': 85.0, 'Defense': 70.0, 'PokedexNumber': 624.0, 'SpecialDefense': 40.0, 'Total': 340.0, 'SpecialAttack': 40.0}, 687: {'Type': 'DarkSteel', 'Name': 'Bisharp', 'Speed': 70.0, 'HP': 65.0, 'Attack': 125.0, 'Defense': 100.0, 'PokedexNumber': 625.0, 'SpecialDefense': 70.0, 'Total': 490.0, 'SpecialAttack': 60.0}, 688: {'Type': 'Normal', 'Name': 'Bouffalant', 'Speed': 55.0, 'HP': 95.0, 'Attack': 110.0, 'Defense': 95.0, 'PokedexNumber': 626.0, 'SpecialDefense': 95.0, 'Total': 490.0, 'SpecialAttack': 40.0}, 689: {'Type': 'NormalFlying', 'Name': 'Rufflet', 'Speed': 60.0, 'HP': 70.0, 'Attack': 83.0, 'Defense': 50.0, 'PokedexNumber': 627.0, 'SpecialDefense': 50.0, 'Total': 350.0, 'SpecialAttack': 37.0}, 690: {'Type': 'NormalFlying', 'Name': 'Braviary', 'Speed': 80.0, 'HP': 100.0, 'Attack': 123.0, 'Defense': 75.0, 'PokedexNumber': 628.0, 'SpecialDefense': 75.0, 'Total': 510.0, 'SpecialAttack': 57.0}, 691: {'Type': 'DarkFlying', 'Name': 'Vullaby', 'Speed': 60.0, 'HP': 70.0, 'Attack': 55.0, 'Defense': 75.0, 'PokedexNumber': 629.0, 'SpecialDefense': 65.0, 'Total': 370.0, 'SpecialAttack': 45.0}, 692: {'Type': 'DarkFlying', 'Name': 'Mandibuzz', 'Speed': 80.0, 'HP': 110.0, 'Attack': 65.0, 'Defense': 105.0, 'PokedexNumber': 630.0, 'SpecialDefense': 95.0, 'Total': 510.0, 'SpecialAttack': 55.0}, 693: {'Type': 'Fire', 'Name': 'Heatmor', 'Speed': 65.0, 'HP': 85.0, 'Attack': 97.0, 'Defense': 66.0, 'PokedexNumber': 631.0, 'SpecialDefense': 66.0, 'Total': 484.0, 'SpecialAttack': 105.0}, 694: {'Type': 'BugSteel', 'Name': 'Durant', 'Speed': 109.0, 'HP': 58.0, 'Attack': 109.0, 'Defense': 112.0, 'PokedexNumber': 632.0, 'SpecialDefense': 48.0, 'Total': 484.0, 'SpecialAttack': 48.0}, 695: {'Type': 'DarkDragon', 'Name': 'Deino', 'Speed': 38.0, 'HP': 52.0, 'Attack': 65.0, 'Defense': 50.0, 'PokedexNumber': 633.0, 'SpecialDefense': 50.0, 'Total': 300.0, 'SpecialAttack': 45.0}, 696: {'Type': 'DarkDragon', 'Name': 'Zweilous', 'Speed': 58.0, 'HP': 72.0, 'Attack': 85.0, 'Defense': 70.0, 'PokedexNumber': 634.0, 'SpecialDefense': 70.0, 'Total': 420.0, 'SpecialAttack': 65.0}, 697: {'Type': 'DarkDragon', 'Name': 'Hydreigon', 'Speed': 98.0, 'HP': 92.0, 'Attack': 105.0, 'Defense': 90.0, 'PokedexNumber': 635.0, 'SpecialDefense': 90.0, 'Total': 600.0, 'SpecialAttack': 125.0}, 698: {'Type': 'BugFire', 'Name': 'Larvesta', 'Speed': 60.0, 'HP': 55.0, 'Attack': 85.0, 'Defense': 55.0, 'PokedexNumber': 636.0, 'SpecialDefense': 55.0, 'Total': 360.0, 'SpecialAttack': 50.0}, 699: {'Type': 'BugFire', 'Name': 'Volcarona', 'Speed': 100.0, 'HP': 85.0, 'Attack': 60.0, 'Defense': 65.0, 'PokedexNumber': 637.0, 'SpecialDefense': 105.0, 'Total': 550.0, 'SpecialAttack': 135.0}, 700: {'Type': 'SteelFighting', 'Name': 'Cobalion', 'Speed': 108.0, 'HP': 91.0, 'Attack': 90.0, 'Defense': 129.0, 'PokedexNumber': 638.0, 'SpecialDefense': 72.0, 'Total': 580.0, 'SpecialAttack': 90.0}, 701: {'Type': 'RockFighting', 'Name': 'Terrakion', 'Speed': 108.0, 'HP': 91.0, 'Attack': 129.0, 'Defense': 90.0, 'PokedexNumber': 639.0, 'SpecialDefense': 90.0, 'Total': 580.0, 'SpecialAttack': 72.0}, 702: {'Type': 'GrassFighting', 'Name': 'Virizion', 'Speed': 108.0, 'HP': 91.0, 'Attack': 90.0, 'Defense': 72.0, 'PokedexNumber': 640.0, 'SpecialDefense': 129.0, 'Total': 580.0, 'SpecialAttack': 90.0}, 703: {'Type': 'Flying', 'Name': 'TornadusIncarnate Forme', 'Speed': 111.0, 'HP': 79.0, 'Attack': 115.0, 'Defense': 70.0, 'PokedexNumber': 641.0, 'SpecialDefense': 80.0, 'Total': 580.0, 'SpecialAttack': 125.0}, 704: {'Type': 'Flying', 'Name': 'TornadusTherian Forme', 'Speed': 121.0, 'HP': 79.0, 'Attack': 100.0, 'Defense': 80.0, 'PokedexNumber': 641.0, 'SpecialDefense': 90.0, 'Total': 580.0, 'SpecialAttack': 110.0}, 705: {'Type': 'ElectricFlying', 'Name': 'ThundurusIncarnate Forme', 'Speed': 111.0, 'HP': 79.0, 'Attack': 115.0, 'Defense': 70.0, 'PokedexNumber': 642.0, 'SpecialDefense': 80.0, 'Total': 580.0, 'SpecialAttack': 125.0}, 706: {'Type': 'ElectricFlying', 'Name': 'ThundurusTherian Forme', 'Speed': 101.0, 'HP': 79.0, 'Attack': 105.0, 'Defense': 70.0, 'PokedexNumber': 642.0, 'SpecialDefense': 80.0, 'Total': 580.0, 'SpecialAttack': 145.0}, 707: {'Type': 'DragonFire', 'Name': 'Reshiram', 'Speed': 90.0, 'HP': 100.0, 'Attack': 120.0, 'Defense': 100.0, 'PokedexNumber': 643.0, 'SpecialDefense': 120.0, 'Total': 680.0, 'SpecialAttack': 150.0}, 708: {'Type': 'DragonElectric', 'Name': 'Zekrom', 'Speed': 90.0, 'HP': 100.0, 'Attack': 150.0, 'Defense': 120.0, 'PokedexNumber': 644.0, 'SpecialDefense': 100.0, 'Total': 680.0, 'SpecialAttack': 120.0}, 709: {'Type': 'GroundFlying', 'Name': 'LandorusIncarnate Forme', 'Speed': 101.0, 'HP': 89.0, 'Attack': 125.0, 'Defense': 90.0, 'PokedexNumber': 645.0, 'SpecialDefense': 80.0, 'Total': 600.0, 'SpecialAttack': 115.0}, 710: {'Type': 'GroundFlying', 'Name': 'LandorusTherian Forme', 'Speed': 91.0, 'HP': 89.0, 'Attack': 145.0, 'Defense': 90.0, 'PokedexNumber': 645.0, 'SpecialDefense': 80.0, 'Total': 600.0, 'SpecialAttack': 105.0}, 711: {'Type': 'DragonIce', 'Name': 'Kyurem', 'Speed': 95.0, 'HP': 125.0, 'Attack': 130.0, 'Defense': 90.0, 'PokedexNumber': 646.0, 'SpecialDefense': 90.0, 'Total': 660.0, 'SpecialAttack': 130.0}, 712: {'Type': 'DragonIce', 'Name': 'KyuremBlack Kyurem', 'Speed': 95.0, 'HP': 125.0, 'Attack': 170.0, 'Defense': 100.0, 'PokedexNumber': 646.0, 'SpecialDefense': 90.0, 'Total': 700.0, 'SpecialAttack': 120.0}, 713: {'Type': 'DragonIce', 'Name': 'KyuremWhite Kyurem', 'Speed': 95.0, 'HP': 125.0, 'Attack': 120.0, 'Defense': 90.0, 'PokedexNumber': 646.0, 'SpecialDefense': 100.0, 'Total': 700.0, 'SpecialAttack': 170.0}, 714: {'Type': 'WaterFighting', 'Name': 'KeldeoOrdinary Forme', 'Speed': 108.0, 'HP': 91.0, 'Attack': 72.0, 'Defense': 90.0, 'PokedexNumber': 647.0, 'SpecialDefense': 90.0, 'Total': 580.0, 'SpecialAttack': 129.0}, 715: {'Type': 'WaterFighting', 'Name': 'KeldeoResolute Forme', 'Speed': 108.0, 'HP': 91.0, 'Attack': 72.0, 'Defense': 90.0, 'PokedexNumber': 647.0, 'SpecialDefense': 90.0, 'Total': 580.0, 'SpecialAttack': 129.0}, 716: {'Type': 'NormalPsychic', 'Name': 'MeloettaAria Forme', 'Speed': 90.0, 'HP': 100.0, 'Attack': 77.0, 'Defense': 77.0, 'PokedexNumber': 648.0, 'SpecialDefense': 128.0, 'Total': 600.0, 'SpecialAttack': 128.0}, 717: {'Type': 'NormalFighting', 'Name': 'MeloettaPirouette Forme', 'Speed': 128.0, 'HP': 100.0, 'Attack': 128.0, 'Defense': 90.0, 'PokedexNumber': 648.0, 'SpecialDefense': 77.0, 'Total': 600.0, 'SpecialAttack': 77.0}, 718: {'Type': 'BugSteel', 'Name': 'Genesect', 'Speed': 99.0, 'HP': 71.0, 'Attack': 120.0, 'Defense': 95.0, 'PokedexNumber': 649.0, 'SpecialDefense': 95.0, 'Total': 600.0, 'SpecialAttack': 120.0}, 719: {'Type': 'Grass', 'Name': 'Chespin', 'Speed': 38.0, 'HP': 56.0, 'Attack': 61.0, 'Defense': 65.0, 'PokedexNumber': 650.0, 'SpecialDefense': 45.0, 'Total': 313.0, 'SpecialAttack': 48.0}, 720: {'Type': 'Grass', 'Name': 'Quilladin', 'Speed': 57.0, 'HP': 61.0, 'Attack': 78.0, 'Defense': 95.0, 'PokedexNumber': 651.0, 'SpecialDefense': 58.0, 'Total': 405.0, 'SpecialAttack': 56.0}, 721: {'Type': 'GrassFighting', 'Name': 'Chesnaught', 'Speed': 64.0, 'HP': 88.0, 'Attack': 107.0, 'Defense': 122.0, 'PokedexNumber': 652.0, 'SpecialDefense': 75.0, 'Total': 530.0, 'SpecialAttack': 74.0}, 722: {'Type': 'Fire', 'Name': 'Fennekin', 'Speed': 60.0, 'HP': 40.0, 'Attack': 45.0, 'Defense': 40.0, 'PokedexNumber': 653.0, 'SpecialDefense': 60.0, 'Total': 307.0, 'SpecialAttack': 62.0}, 723: {'Type': 'Fire', 'Name': 'Braixen', 'Speed': 73.0, 'HP': 59.0, 'Attack': 59.0, 'Defense': 58.0, 'PokedexNumber': 654.0, 'SpecialDefense': 70.0, 'Total': 409.0, 'SpecialAttack': 90.0}, 724: {'Type': 'FirePsychic', 'Name': 'Delphox', 'Speed': 104.0, 'HP': 75.0, 'Attack': 69.0, 'Defense': 72.0, 'PokedexNumber': 655.0, 'SpecialDefense': 100.0, 'Total': 534.0, 'SpecialAttack': 114.0}, 725: {'Type': 'Water', 'Name': 'Froakie', 'Speed': 71.0, 'HP': 41.0, 'Attack': 56.0, 'Defense': 40.0, 'PokedexNumber': 656.0, 'SpecialDefense': 44.0, 'Total': 314.0, 'SpecialAttack': 62.0}, 726: {'Type': 'Water', 'Name': 'Frogadier', 'Speed': 97.0, 'HP': 54.0, 'Attack': 63.0, 'Defense': 52.0, 'PokedexNumber': 657.0, 'SpecialDefense': 56.0, 'Total': 405.0, 'SpecialAttack': 83.0}, 727: {'Type': 'WaterDark', 'Name': 'Greninja', 'Speed': 122.0, 'HP': 72.0, 'Attack': 95.0, 'Defense': 67.0, 'PokedexNumber': 658.0, 'SpecialDefense': 71.0, 'Total': 530.0, 'SpecialAttack': 103.0}, 728: {'Type': 'Normal', 'Name': 'Bunnelby', 'Speed': 57.0, 'HP': 38.0, 'Attack': 36.0, 'Defense': 38.0, 'PokedexNumber': 659.0, 'SpecialDefense': 36.0, 'Total': 237.0, 'SpecialAttack': 32.0}, 729: {'Type': 'NormalGround', 'Name': 'Diggersby', 'Speed': 78.0, 'HP': 85.0, 'Attack': 56.0, 'Defense': 77.0, 'PokedexNumber': 660.0, 'SpecialDefense': 77.0, 'Total': 423.0, 'SpecialAttack': 50.0}, 730: {'Type': 'NormalFlying', 'Name': 'Fletchling', 'Speed': 62.0, 'HP': 45.0, 'Attack': 50.0, 'Defense': 43.0, 'PokedexNumber': 661.0, 'SpecialDefense': 38.0, 'Total': 278.0, 'SpecialAttack': 40.0}, 731: {'Type': 'FireFlying', 'Name': 'Fletchinder', 'Speed': 84.0, 'HP': 62.0, 'Attack': 73.0, 'Defense': 55.0, 'PokedexNumber': 662.0, 'SpecialDefense': 52.0, 'Total': 382.0, 'SpecialAttack': 56.0}, 732: {'Type': 'FireFlying', 'Name': 'Talonflame', 'Speed': 126.0, 'HP': 78.0, 'Attack': 81.0, 'Defense': 71.0, 'PokedexNumber': 663.0, 'SpecialDefense': 69.0, 'Total': 499.0, 'SpecialAttack': 74.0}, 733: {'Type': 'Bug', 'Name': 'Scatterbug', 'Speed': 35.0, 'HP': 38.0, 'Attack': 35.0, 'Defense': 40.0, 'PokedexNumber': 664.0, 'SpecialDefense': 25.0, 'Total': 200.0, 'SpecialAttack': 27.0}, 734: {'Type': 'Bug', 'Name': 'Spewpa', 'Speed': 29.0, 'HP': 45.0, 'Attack': 22.0, 'Defense': 60.0, 'PokedexNumber': 665.0, 'SpecialDefense': 30.0, 'Total': 213.0, 'SpecialAttack': 27.0}, 735: {'Type': 'BugFlying', 'Name': 'Vivillon', 'Speed': 89.0, 'HP': 80.0, 'Attack': 52.0, 'Defense': 50.0, 'PokedexNumber': 666.0, 'SpecialDefense': 50.0, 'Total': 411.0, 'SpecialAttack': 90.0}, 736: {'Type': 'FireNormal', 'Name': 'Litleo', 'Speed': 72.0, 'HP': 62.0, 'Attack': 50.0, 'Defense': 58.0, 'PokedexNumber': 667.0, 'SpecialDefense': 54.0, 'Total': 369.0, 'SpecialAttack': 73.0}, 737: {'Type': 'FireNormal', 'Name': 'Pyroar', 'Speed': 106.0, 'HP': 86.0, 'Attack': 68.0, 'Defense': 72.0, 'PokedexNumber': 668.0, 'SpecialDefense': 66.0, 'Total': 507.0, 'SpecialAttack': 109.0}, 738: {'Type': 'Fairy', 'Name': 'Flabebe', 'Speed': 42.0, 'HP': 44.0, 'Attack': 38.0, 'Defense': 39.0, 'PokedexNumber': 669.0, 'SpecialDefense': 79.0, 'Total': 303.0, 'SpecialAttack': 61.0}, 739: {'Type': 'Fairy', 'Name': 'Floette', 'Speed': 52.0, 'HP': 54.0, 'Attack': 45.0, 'Defense': 47.0, 'PokedexNumber': 670.0, 'SpecialDefense': 98.0, 'Total': 371.0, 'SpecialAttack': 75.0}, 740: {'Type': 'Fairy', 'Name': 'Florges', 'Speed': 75.0, 'HP': 78.0, 'Attack': 65.0, 'Defense': 68.0, 'PokedexNumber': 671.0, 'SpecialDefense': 154.0, 'Total': 552.0, 'SpecialAttack': 112.0}, 741: {'Type': 'Grass', 'Name': 'Skiddo', 'Speed': 52.0, 'HP': 66.0, 'Attack': 65.0, 'Defense': 48.0, 'PokedexNumber': 672.0, 'SpecialDefense': 57.0, 'Total': 350.0, 'SpecialAttack': 62.0}, 742: {'Type': 'Grass', 'Name': 'Gogoat', 'Speed': 68.0, 'HP': 123.0, 'Attack': 100.0, 'Defense': 62.0, 'PokedexNumber': 673.0, 'SpecialDefense': 81.0, 'Total': 531.0, 'SpecialAttack': 97.0}, 743: {'Type': 'Fighting', 'Name': 'Pancham', 'Speed': 43.0, 'HP': 67.0, 'Attack': 82.0, 'Defense': 62.0, 'PokedexNumber': 674.0, 'SpecialDefense': 48.0, 'Total': 348.0, 'SpecialAttack': 46.0}, 744: {'Type': 'FightingDark', 'Name': 'Pangoro', 'Speed': 58.0, 'HP': 95.0, 'Attack': 124.0, 'Defense': 78.0, 'PokedexNumber': 675.0, 'SpecialDefense': 71.0, 'Total': 495.0, 'SpecialAttack': 69.0}, 745: {'Type': 'Normal', 'Name': 'Furfrou', 'Speed': 102.0, 'HP': 75.0, 'Attack': 80.0, 'Defense': 60.0, 'PokedexNumber': 676.0, 'SpecialDefense': 90.0, 'Total': 472.0, 'SpecialAttack': 65.0}, 746: {'Type': 'Psychic', 'Name': 'Espurr', 'Speed': 68.0, 'HP': 62.0, 'Attack': 48.0, 'Defense': 54.0, 'PokedexNumber': 677.0, 'SpecialDefense': 60.0, 'Total': 355.0, 'SpecialAttack': 63.0}, 747: {'Type': 'Psychic', 'Name': 'MeowsticMale', 'Speed': 104.0, 'HP': 74.0, 'Attack': 48.0, 'Defense': 76.0, 'PokedexNumber': 678.0, 'SpecialDefense': 81.0, 'Total': 466.0, 'SpecialAttack': 83.0}, 748: {'Type': 'Psychic', 'Name': 'MeowsticFemale', 'Speed': 104.0, 'HP': 74.0, 'Attack': 48.0, 'Defense': 76.0, 'PokedexNumber': 678.0, 'SpecialDefense': 81.0, 'Total': 466.0, 'SpecialAttack': 83.0}, 749: {'Type': 'SteelGhost', 'Name': 'Honedge', 'Speed': 28.0, 'HP': 45.0, 'Attack': 80.0, 'Defense': 100.0, 'PokedexNumber': 679.0, 'SpecialDefense': 37.0, 'Total': 325.0, 'SpecialAttack': 35.0}, 750: {'Type': 'SteelGhost', 'Name': 'Doublade', 'Speed': 35.0, 'HP': 59.0, 'Attack': 110.0, 'Defense': 150.0, 'PokedexNumber': 680.0, 'SpecialDefense': 49.0, 'Total': 448.0, 'SpecialAttack': 45.0}, 751: {'Type': 'SteelGhost', 'Name': 'AegislashBlade Forme', 'Speed': 60.0, 'HP': 60.0, 'Attack': 150.0, 'Defense': 50.0, 'PokedexNumber': 681.0, 'SpecialDefense': 50.0, 'Total': 520.0, 'SpecialAttack': 150.0}, 752: {'Type': 'SteelGhost', 'Name': 'AegislashShield Forme', 'Speed': 60.0, 'HP': 60.0, 'Attack': 50.0, 'Defense': 150.0, 'PokedexNumber': 681.0, 'SpecialDefense': 150.0, 'Total': 520.0, 'SpecialAttack': 50.0}, 753: {'Type': 'Fairy', 'Name': 'Spritzee', 'Speed': 23.0, 'HP': 78.0, 'Attack': 52.0, 'Defense': 60.0, 'PokedexNumber': 682.0, 'SpecialDefense': 65.0, 'Total': 341.0, 'SpecialAttack': 63.0}, 754: {'Type': 'Fairy', 'Name': 'Aromatisse', 'Speed': 29.0, 'HP': 101.0, 'Attack': 72.0, 'Defense': 72.0, 'PokedexNumber': 683.0, 'SpecialDefense': 89.0, 'Total': 462.0, 'SpecialAttack': 99.0}, 755: {'Type': 'Fairy', 'Name': 'Swirlix', 'Speed': 49.0, 'HP': 62.0, 'Attack': 48.0, 'Defense': 66.0, 'PokedexNumber': 684.0, 'SpecialDefense': 57.0, 'Total': 341.0, 'SpecialAttack': 59.0}, 756: {'Type': 'Fairy', 'Name': 'Slurpuff', 'Speed': 72.0, 'HP': 82.0, 'Attack': 80.0, 'Defense': 86.0, 'PokedexNumber': 685.0, 'SpecialDefense': 75.0, 'Total': 480.0, 'SpecialAttack': 85.0}, 757: {'Type': 'DarkPsychic', 'Name': 'Inkay', 'Speed': 45.0, 'HP': 53.0, 'Attack': 54.0, 'Defense': 53.0, 'PokedexNumber': 686.0, 'SpecialDefense': 46.0, 'Total': 288.0, 'SpecialAttack': 37.0}, 758: {'Type': 'DarkPsychic', 'Name': 'Malamar', 'Speed': 73.0, 'HP': 86.0, 'Attack': 92.0, 'Defense': 88.0, 'PokedexNumber': 687.0, 'SpecialDefense': 75.0, 'Total': 482.0, 'SpecialAttack': 68.0}, 759: {'Type': 'RockWater', 'Name': 'Binacle', 'Speed': 50.0, 'HP': 42.0, 'Attack': 52.0, 'Defense': 67.0, 'PokedexNumber': 688.0, 'SpecialDefense': 56.0, 'Total': 306.0, 'SpecialAttack': 39.0}, 760: {'Type': 'RockWater', 'Name': 'Barbaracle', 'Speed': 68.0, 'HP': 72.0, 'Attack': 105.0, 'Defense': 115.0, 'PokedexNumber': 689.0, 'SpecialDefense': 86.0, 'Total': 500.0, 'SpecialAttack': 54.0}, 761: {'Type': 'PoisonWater', 'Name': 'Skrelp', 'Speed': 30.0, 'HP': 50.0, 'Attack': 60.0, 'Defense': 60.0, 'PokedexNumber': 690.0, 'SpecialDefense': 60.0, 'Total': 320.0, 'SpecialAttack': 60.0}, 762: {'Type': 'PoisonDragon', 'Name': 'Dragalge', 'Speed': 44.0, 'HP': 65.0, 'Attack': 75.0, 'Defense': 90.0, 'PokedexNumber': 691.0, 'SpecialDefense': 123.0, 'Total': 494.0, 'SpecialAttack': 97.0}, 763: {'Type': 'Water', 'Name': 'Clauncher', 'Speed': 44.0, 'HP': 50.0, 'Attack': 53.0, 'Defense': 62.0, 'PokedexNumber': 692.0, 'SpecialDefense': 63.0, 'Total': 330.0, 'SpecialAttack': 58.0}, 764: {'Type': 'Water', 'Name': 'Clawitzer', 'Speed': 59.0, 'HP': 71.0, 'Attack': 73.0, 'Defense': 88.0, 'PokedexNumber': 693.0, 'SpecialDefense': 89.0, 'Total': 500.0, 'SpecialAttack': 120.0}, 765: {'Type': 'ElectricNormal', 'Name': 'Helioptile', 'Speed': 70.0, 'HP': 44.0, 'Attack': 38.0, 'Defense': 33.0, 'PokedexNumber': 694.0, 'SpecialDefense': 43.0, 'Total': 289.0, 'SpecialAttack': 61.0}, 766: {'Type': 'ElectricNormal', 'Name': 'Heliolisk', 'Speed': 109.0, 'HP': 62.0, 'Attack': 55.0, 'Defense': 52.0, 'PokedexNumber': 695.0, 'SpecialDefense': 94.0, 'Total': 481.0, 'SpecialAttack': 109.0}, 767: {'Type': 'RockDragon', 'Name': 'Tyrunt', 'Speed': 48.0, 'HP': 58.0, 'Attack': 89.0, 'Defense': 77.0, 'PokedexNumber': 696.0, 'SpecialDefense': 45.0, 'Total': 362.0, 'SpecialAttack': 45.0}, 768: {'Type': 'RockDragon', 'Name': 'Tyrantrum', 'Speed': 71.0, 'HP': 82.0, 'Attack': 121.0, 'Defense': 119.0, 'PokedexNumber': 697.0, 'SpecialDefense': 59.0, 'Total': 521.0, 'SpecialAttack': 69.0}, 769: {'Type': 'RockIce', 'Name': 'Amaura', 'Speed': 46.0, 'HP': 77.0, 'Attack': 59.0, 'Defense': 50.0, 'PokedexNumber': 698.0, 'SpecialDefense': 63.0, 'Total': 362.0, 'SpecialAttack': 67.0}, 770: {'Type': 'RockIce', 'Name': 'Aurorus', 'Speed': 58.0, 'HP': 123.0, 'Attack': 77.0, 'Defense': 72.0, 'PokedexNumber': 699.0, 'SpecialDefense': 92.0, 'Total': 521.0, 'SpecialAttack': 99.0}, 771: {'Type': 'Fairy', 'Name': 'Sylveon', 'Speed': 60.0, 'HP': 95.0, 'Attack': 65.0, 'Defense': 65.0, 'PokedexNumber': 700.0, 'SpecialDefense': 130.0, 'Total': 525.0, 'SpecialAttack': 110.0}, 772: {'Type': 'FightingFlying', 'Name': 'Hawlucha', 'Speed': 118.0, 'HP': 78.0, 'Attack': 92.0, 'Defense': 75.0, 'PokedexNumber': 701.0, 'SpecialDefense': 63.0, 'Total': 500.0, 'SpecialAttack': 74.0}, 773: {'Type': 'ElectricFairy', 'Name': 'Dedenne', 'Speed': 101.0, 'HP': 67.0, 'Attack': 58.0, 'Defense': 57.0, 'PokedexNumber': 702.0, 'SpecialDefense': 67.0, 'Total': 431.0, 'SpecialAttack': 81.0}, 774: {'Type': 'RockFairy', 'Name': 'Carbink', 'Speed': 50.0, 'HP': 50.0, 'Attack': 50.0, 'Defense': 150.0, 'PokedexNumber': 703.0, 'SpecialDefense': 150.0, 'Total': 500.0, 'SpecialAttack': 50.0}, 775: {'Type': 'Dragon', 'Name': 'Goomy', 'Speed': 40.0, 'HP': 45.0, 'Attack': 50.0, 'Defense': 35.0, 'PokedexNumber': 704.0, 'SpecialDefense': 75.0, 'Total': 300.0, 'SpecialAttack': 55.0}, 776: {'Type': 'Dragon', 'Name': 'Sliggoo', 'Speed': 60.0, 'HP': 68.0, 'Attack': 75.0, 'Defense': 53.0, 'PokedexNumber': 705.0, 'SpecialDefense': 113.0, 'Total': 452.0, 'SpecialAttack': 83.0}, 777: {'Type': 'Dragon', 'Name': 'Goodra', 'Speed': 80.0, 'HP': 90.0, 'Attack': 100.0, 'Defense': 70.0, 'PokedexNumber': 706.0, 'SpecialDefense': 150.0, 'Total': 600.0, 'SpecialAttack': 110.0}, 778: {'Type': 'SteelFairy', 'Name': 'Klefki', 'Speed': 75.0, 'HP': 57.0, 'Attack': 80.0, 'Defense': 91.0, 'PokedexNumber': 707.0, 'SpecialDefense': 87.0, 'Total': 470.0, 'SpecialAttack': 80.0}, 779: {'Type': 'GhostGrass', 'Name': 'Phantump', 'Speed': 38.0, 'HP': 43.0, 'Attack': 70.0, 'Defense': 48.0, 'PokedexNumber': 708.0, 'SpecialDefense': 60.0, 'Total': 309.0, 'SpecialAttack': 50.0}, 780: {'Type': 'GhostGrass', 'Name': 'Trevenant', 'Speed': 56.0, 'HP': 85.0, 'Attack': 110.0, 'Defense': 76.0, 'PokedexNumber': 709.0, 'SpecialDefense': 82.0, 'Total': 474.0, 'SpecialAttack': 65.0}, 781: {'Type': 'GhostGrass', 'Name': 'PumpkabooAverage Size', 'Speed': 51.0, 'HP': 49.0, 'Attack': 66.0, 'Defense': 70.0, 'PokedexNumber': 710.0, 'SpecialDefense': 55.0, 'Total': 335.0, 'SpecialAttack': 44.0}, 782: {'Type': 'GhostGrass', 'Name': 'PumpkabooSmall Size', 'Speed': 56.0, 'HP': 44.0, 'Attack': 66.0, 'Defense': 70.0, 'PokedexNumber': 710.0, 'SpecialDefense': 55.0, 'Total': 335.0, 'SpecialAttack': 44.0}, 783: {'Type': 'GhostGrass', 'Name': 'PumpkabooLarge Size', 'Speed': 46.0, 'HP': 54.0, 'Attack': 66.0, 'Defense': 70.0, 'PokedexNumber': 710.0, 'SpecialDefense': 55.0, 'Total': 335.0, 'SpecialAttack': 44.0}, 784: {'Type': 'GhostGrass', 'Name': 'PumpkabooSuper Size', 'Speed': 41.0, 'HP': 59.0, 'Attack': 66.0, 'Defense': 70.0, 'PokedexNumber': 710.0, 'SpecialDefense': 55.0, 'Total': 335.0, 'SpecialAttack': 44.0}, 785: {'Type': 'GhostGrass', 'Name': 'GourgeistAverage Size', 'Speed': 84.0, 'HP': 65.0, 'Attack': 90.0, 'Defense': 122.0, 'PokedexNumber': 711.0, 'SpecialDefense': 75.0, 'Total': 494.0, 'SpecialAttack': 58.0}, 786: {'Type': 'GhostGrass', 'Name': 'GourgeistSmall Size', 'Speed': 99.0, 'HP': 55.0, 'Attack': 85.0, 'Defense': 122.0, 'PokedexNumber': 711.0, 'SpecialDefense': 75.0, 'Total': 494.0, 'SpecialAttack': 58.0}, 787: {'Type': 'GhostGrass', 'Name': 'GourgeistLarge Size', 'Speed': 69.0, 'HP': 75.0, 'Attack': 95.0, 'Defense': 122.0, 'PokedexNumber': 711.0, 'SpecialDefense': 75.0, 'Total': 494.0, 'SpecialAttack': 58.0}, 788: {'Type': 'GhostGrass', 'Name': 'GourgeistSuper Size', 'Speed': 54.0, 'HP': 85.0, 'Attack': 100.0, 'Defense': 122.0, 'PokedexNumber': 711.0, 'SpecialDefense': 75.0, 'Total': 494.0, 'SpecialAttack': 58.0}, 789: {'Type': 'Ice', 'Name': 'Bergmite', 'Speed': 28.0, 'HP': 55.0, 'Attack': 69.0, 'Defense': 85.0, 'PokedexNumber': 712.0, 'SpecialDefense': 35.0, 'Total': 304.0, 'SpecialAttack': 32.0}, 790: {'Type': 'Ice', 'Name': 'Avalugg', 'Speed': 28.0, 'HP': 95.0, 'Attack': 117.0, 'Defense': 184.0, 'PokedexNumber': 713.0, 'SpecialDefense': 46.0, 'Total': 514.0, 'SpecialAttack': 44.0}, 791: {'Type': 'FlyingDragon', 'Name': 'Noibat', 'Speed': 55.0, 'HP': 40.0, 'Attack': 30.0, 'Defense': 35.0, 'PokedexNumber': 714.0, 'SpecialDefense': 40.0, 'Total': 245.0, 'SpecialAttack': 45.0}, 792: {'Type': 'FlyingDragon', 'Name': 'Noivern', 'Speed': 123.0, 'HP': 85.0, 'Attack': 70.0, 'Defense': 80.0, 'PokedexNumber': 715.0, 'SpecialDefense': 80.0, 'Total': 535.0, 'SpecialAttack': 97.0}, 793: {'Type': 'Fairy', 'Name': 'Xerneas', 'Speed': 99.0, 'HP': 126.0, 'Attack': 131.0, 'Defense': 95.0, 'PokedexNumber': 716.0, 'SpecialDefense': 98.0, 'Total': 680.0, 'SpecialAttack': 131.0}, 794: {'Type': 'DarkFlying', 'Name': 'Yveltal', 'Speed': 99.0, 'HP': 126.0, 'Attack': 131.0, 'Defense': 95.0, 'PokedexNumber': 717.0, 'SpecialDefense': 98.0, 'Total': 680.0, 'SpecialAttack': 131.0}, 795: {'Type': 'DragonGround', 'Name': 'Zygarde Forme', 'Speed': 95.0, 'HP': 108.0, 'Attack': 100.0, 'Defense': 121.0, 'PokedexNumber': 718.0, 'SpecialDefense': 95.0, 'Total': 600.0, 'SpecialAttack': 81.0}, 796: {'Type': 'RockFairy', 'Name': 'Diancie', 'Speed': 50.0, 'HP': 50.0, 'Attack': 100.0, 'Defense': 150.0, 'PokedexNumber': 719.0, 'SpecialDefense': 150.0, 'Total': 600.0, 'SpecialAttack': 100.0}, 797: {'Type': 'RockFairy', 'Name': 'DiancieMega Diancie', 'Speed': 110.0, 'HP': 50.0, 'Attack': 160.0, 'Defense': 110.0, 'PokedexNumber': 719.0, 'SpecialDefense': 110.0, 'Total': 700.0, 'SpecialAttack': 160.0}, 798: {'Type': 'PsychicGhost', 'Name': 'HoopaHoopa Confined', 'Speed': 70.0, 'HP': 80.0, 'Attack': 110.0, 'Defense': 60.0, 'PokedexNumber': 720.0, 'SpecialDefense': 130.0, 'Total': 600.0, 'SpecialAttack': 150.0}, 799: {'Type': 'PsychicDark', 'Name': 'HoopaHoopa Unbound', 'Speed': 80.0, 'HP': 80.0, 'Attack': 160.0, 'Defense': 60.0, 'PokedexNumber': 720.0, 'SpecialDefense': 130.0, 'Total': 680.0, 'SpecialAttack': 170.0}, 800: {'Type': 'FireWater', 'Name': 'Volcanion', 'Speed': 70.0, 'HP': 80.0, 'Attack': 110.0, 'Defense': 120.0, 'PokedexNumber': 721.0, 'SpecialDefense': 90.0, 'Total': 600.0, 'SpecialAttack': 130.0}}\n"
     ]
    }
   ],
   "source": [
    "def pokedex(pokemon_file):\n",
    "    pokedex_header = pokemon_file[0]\n",
    "    pokedex_body = pokemon_file[1:]\n",
    "    poke = {}\n",
    "    pokedex_dictionary = {}\n",
    "    id = 1\n",
    "    for p in pokedex_body:\n",
    "        pokedex_dictionary[id] = {}\n",
    "        for var, det in zip(pokedex_header, p):\n",
    "            poke[var] = det\n",
    "        pokedex_dictionary[id].update(poke)\n",
    "        id += 1\n",
    "    return pokedex_dictionary\n",
    "\n",
    "pokedex_file = pokedex(pokedex_information)\n",
    "print pokedex_file  "
   ]
  },
  {
   "cell_type": "markdown",
   "metadata": {},
   "source": [
    "<img src=\"http://i.imgur.com/GCAf1UX.png\" style=\"float: left; margin: 25px 15px 0px 0px; height: 25px\">\n",
    "\n",
    "## 10. Write a function to generate a \"filtered\" pokedex\n",
    "---\n",
    "Your function should:\n",
    "1. Take the parsed pokedex information you created above as an argument.\n",
    "1. Take a dictionary as a parameter with keys matching the features of the Pokedex, filtering by exact match for string type values, and/or filter continuous variables specified value that is greater than or equal to the dictionary key parameter.\n",
    "1. Return multiple elements from the Pokedex\n",
    "\n",
    "Example:\n",
    "\n",
    "```python\n",
    "\n",
    "# Only filter based on parameters passed\n",
    "filter_options = {\n",
    "    'Attack':   25,\n",
    "    'Defense':  30,\n",
    "    'Type':     'Electric'\n",
    "}\n",
    "\n",
    "# Return records with attack >= 24, defense >= 30, and type == \"Electric\"\n",
    "# Also anticipate that other paramters can also be passed such as \"SpecialAttack\", \"Speed\", etc.\n",
    "filtered_pokedex(pokedex_data, filter=filter_options)\n",
    "\n",
    "# Example output:\n",
    "# [{'Attack': 30.0,\n",
    "#  'Defense': 50.0,\n",
    "#  'HP': 40.0,\n",
    "#  'Name': 'Voltorb',\n",
    "#  'SpecialAttack': 55.0,\n",
    "#  'SpecialDefense': 55.0,\n",
    "#  'Speed': 100.0,\n",
    "#  'Total': 330.0,\n",
    "#  'Type': 'Electric'},\n",
    "#  {'Attack': 30.0,\n",
    "#  'Defense': 33.0,\n",
    "#  'HP': 32.0,\n",
    "#  'Name': 'Pikachu',\n",
    "#  'SpecialAttack': 55.0,\n",
    "#  'SpecialDefense': 55.0,\n",
    "#  'Speed': 100.0,\n",
    "#  'Total': 330.0,\n",
    "#  'Type': 'Electric'},\n",
    "#  ... etc\n",
    "#  ]\n",
    "\n",
    "```\n",
    "\n"
   ]
  },
  {
   "cell_type": "markdown",
   "metadata": {},
   "source": [
    "**Comments:**\n",
    "> filter pokedex_file by filter_options using 2 for loops\n",
    "\n",
    "> for each pokemon in the pokedex_file, a variable called x is initialized to 0. For every condition of the filter_options that the pokemon satisfies, the value of x is incremented by 1. At the end of the for loop corresponding to each pokemon, the pokemon is added to the filtered_pokedex if x == len(filter_options), denoting that the pokemon satisfied all filter_options."
   ]
  },
  {
   "cell_type": "code",
   "execution_count": 20,
   "metadata": {
    "scrolled": true
   },
   "outputs": [
    {
     "name": "stdout",
     "output_type": "stream",
     "text": [
      "[{'Name': 'Pikachu', 'Speed': 90.0, 'HP': 35.0, 'Attack': 55.0, 'Defense': 40.0, 'PokedexNumber': 25.0, 'SpecialDefense': 50.0, 'SpecialAttack': 50.0, 'Total': 320.0, 'Type': 'Electric'}, {'Name': 'Raichu', 'Speed': 110.0, 'HP': 60.0, 'Attack': 90.0, 'Defense': 55.0, 'PokedexNumber': 26.0, 'SpecialDefense': 80.0, 'SpecialAttack': 90.0, 'Total': 485.0, 'Type': 'Electric'}, {'Name': 'Voltorb', 'Speed': 100.0, 'HP': 40.0, 'Attack': 30.0, 'Defense': 50.0, 'PokedexNumber': 100.0, 'SpecialDefense': 55.0, 'SpecialAttack': 55.0, 'Total': 330.0, 'Type': 'Electric'}, {'Name': 'Electrode', 'Speed': 140.0, 'HP': 60.0, 'Attack': 50.0, 'Defense': 70.0, 'PokedexNumber': 101.0, 'SpecialDefense': 80.0, 'SpecialAttack': 80.0, 'Total': 480.0, 'Type': 'Electric'}, {'Name': 'Electabuzz', 'Speed': 105.0, 'HP': 65.0, 'Attack': 83.0, 'Defense': 57.0, 'PokedexNumber': 125.0, 'SpecialDefense': 85.0, 'SpecialAttack': 95.0, 'Total': 490.0, 'Type': 'Electric'}, {'Name': 'Jolteon', 'Speed': 130.0, 'HP': 65.0, 'Attack': 65.0, 'Defense': 60.0, 'PokedexNumber': 135.0, 'SpecialDefense': 95.0, 'SpecialAttack': 110.0, 'Total': 525.0, 'Type': 'Electric'}, {'Name': 'Mareep', 'Speed': 35.0, 'HP': 55.0, 'Attack': 40.0, 'Defense': 40.0, 'PokedexNumber': 179.0, 'SpecialDefense': 45.0, 'SpecialAttack': 65.0, 'Total': 280.0, 'Type': 'Electric'}, {'Name': 'Flaaffy', 'Speed': 45.0, 'HP': 70.0, 'Attack': 55.0, 'Defense': 55.0, 'PokedexNumber': 180.0, 'SpecialDefense': 60.0, 'SpecialAttack': 80.0, 'Total': 365.0, 'Type': 'Electric'}, {'Name': 'Ampharos', 'Speed': 55.0, 'HP': 90.0, 'Attack': 75.0, 'Defense': 85.0, 'PokedexNumber': 181.0, 'SpecialDefense': 90.0, 'SpecialAttack': 115.0, 'Total': 510.0, 'Type': 'Electric'}, {'Name': 'Elekid', 'Speed': 95.0, 'HP': 45.0, 'Attack': 63.0, 'Defense': 37.0, 'PokedexNumber': 239.0, 'SpecialDefense': 55.0, 'SpecialAttack': 65.0, 'Total': 360.0, 'Type': 'Electric'}, {'Name': 'Raikou', 'Speed': 115.0, 'HP': 90.0, 'Attack': 85.0, 'Defense': 75.0, 'PokedexNumber': 243.0, 'SpecialDefense': 100.0, 'SpecialAttack': 115.0, 'Total': 580.0, 'Type': 'Electric'}, {'Name': 'Electrike', 'Speed': 65.0, 'HP': 40.0, 'Attack': 45.0, 'Defense': 40.0, 'PokedexNumber': 309.0, 'SpecialDefense': 40.0, 'SpecialAttack': 65.0, 'Total': 295.0, 'Type': 'Electric'}, {'Name': 'Manectric', 'Speed': 105.0, 'HP': 70.0, 'Attack': 75.0, 'Defense': 60.0, 'PokedexNumber': 310.0, 'SpecialDefense': 60.0, 'SpecialAttack': 105.0, 'Total': 475.0, 'Type': 'Electric'}, {'Name': 'ManectricMega Manectric', 'Speed': 135.0, 'HP': 70.0, 'Attack': 75.0, 'Defense': 80.0, 'PokedexNumber': 310.0, 'SpecialDefense': 80.0, 'SpecialAttack': 135.0, 'Total': 575.0, 'Type': 'Electric'}, {'Name': 'Plusle', 'Speed': 95.0, 'HP': 60.0, 'Attack': 50.0, 'Defense': 40.0, 'PokedexNumber': 311.0, 'SpecialDefense': 75.0, 'SpecialAttack': 85.0, 'Total': 405.0, 'Type': 'Electric'}, {'Name': 'Minun', 'Speed': 95.0, 'HP': 60.0, 'Attack': 40.0, 'Defense': 50.0, 'PokedexNumber': 312.0, 'SpecialDefense': 85.0, 'SpecialAttack': 75.0, 'Total': 405.0, 'Type': 'Electric'}, {'Name': 'Shinx', 'Speed': 45.0, 'HP': 45.0, 'Attack': 65.0, 'Defense': 34.0, 'PokedexNumber': 403.0, 'SpecialDefense': 34.0, 'SpecialAttack': 40.0, 'Total': 263.0, 'Type': 'Electric'}, {'Name': 'Luxio', 'Speed': 60.0, 'HP': 60.0, 'Attack': 85.0, 'Defense': 49.0, 'PokedexNumber': 404.0, 'SpecialDefense': 49.0, 'SpecialAttack': 60.0, 'Total': 363.0, 'Type': 'Electric'}, {'Name': 'Luxray', 'Speed': 70.0, 'HP': 80.0, 'Attack': 120.0, 'Defense': 79.0, 'PokedexNumber': 405.0, 'SpecialDefense': 79.0, 'SpecialAttack': 95.0, 'Total': 523.0, 'Type': 'Electric'}, {'Name': 'Pachirisu', 'Speed': 95.0, 'HP': 60.0, 'Attack': 45.0, 'Defense': 70.0, 'PokedexNumber': 417.0, 'SpecialDefense': 90.0, 'SpecialAttack': 45.0, 'Total': 405.0, 'Type': 'Electric'}, {'Name': 'Electivire', 'Speed': 95.0, 'HP': 75.0, 'Attack': 123.0, 'Defense': 67.0, 'PokedexNumber': 466.0, 'SpecialDefense': 85.0, 'SpecialAttack': 95.0, 'Total': 540.0, 'Type': 'Electric'}, {'Name': 'Blitzle', 'Speed': 76.0, 'HP': 45.0, 'Attack': 60.0, 'Defense': 32.0, 'PokedexNumber': 522.0, 'SpecialDefense': 32.0, 'SpecialAttack': 50.0, 'Total': 295.0, 'Type': 'Electric'}, {'Name': 'Zebstrika', 'Speed': 116.0, 'HP': 75.0, 'Attack': 100.0, 'Defense': 63.0, 'PokedexNumber': 523.0, 'SpecialDefense': 63.0, 'SpecialAttack': 80.0, 'Total': 497.0, 'Type': 'Electric'}, {'Name': 'Tynamo', 'Speed': 60.0, 'HP': 35.0, 'Attack': 55.0, 'Defense': 40.0, 'PokedexNumber': 602.0, 'SpecialDefense': 40.0, 'SpecialAttack': 45.0, 'Total': 275.0, 'Type': 'Electric'}, {'Name': 'Eelektrik', 'Speed': 40.0, 'HP': 65.0, 'Attack': 85.0, 'Defense': 70.0, 'PokedexNumber': 603.0, 'SpecialDefense': 70.0, 'SpecialAttack': 75.0, 'Total': 405.0, 'Type': 'Electric'}, {'Name': 'Eelektross', 'Speed': 50.0, 'HP': 85.0, 'Attack': 115.0, 'Defense': 80.0, 'PokedexNumber': 604.0, 'SpecialDefense': 80.0, 'SpecialAttack': 105.0, 'Total': 515.0, 'Type': 'Electric'}]\n"
     ]
    }
   ],
   "source": [
    "def filtered_pokedex(pokedex_data, filter_options):\n",
    "    lst = []\n",
    "    fil = filter_options.items()\n",
    "    for id in pokedex_data:\n",
    "        j = pokedex_file[id].items()\n",
    "        x = 0\n",
    "        for var,val in fil:\n",
    "            if (type(val) is str and (var,val) in j): \n",
    "                x += 1\n",
    "            if type(val) is int and var in pokedex_file[id].keys() and pokedex_file[id][var]>= val:\n",
    "                x += 1\n",
    "        if x == len(fil):\n",
    "            lst.append(dict(pokedex_file[id]))\n",
    "    return lst\n",
    "        \n",
    "\n",
    "filtered = filtered_pokedex(pokedex_file, {'Attack':25, 'Defense':30, 'Type':'Electric'})\n",
    "print(filtered)"
   ]
  },
  {
   "cell_type": "markdown",
   "metadata": {
    "collapsed": true
   },
   "source": [
    "\n",
    "## 9. Descriptive statistics on the prototype pokedex\n",
    "\n",
    "<img src=\"http://imgur.com/l5NasQj.png\" style=\"float: left; margin: 25px 15px 0px 0px; height: 25px\">\n",
    "### 9.1\n",
    "\n",
    "What is the population mean and standard deviation of the \"Total\" attribute for all characters in the Pokedex?\n",
    "\n"
   ]
  },
  {
   "cell_type": "code",
   "execution_count": 21,
   "metadata": {},
   "outputs": [
    {
     "name": "stdout",
     "output_type": "stream",
     "text": [
      "population mean:  435.1275\n",
      "population standard deviation 119.962020005\n"
     ]
    }
   ],
   "source": [
    "import numpy as np\n",
    "lst = []\n",
    "\n",
    "for i in pokedex_file:\n",
    "    lst.append(pokedex_file[i]['Total'])\n",
    "pokemon_Total = lst\n",
    "np_pokemon_Total = np.array(pokemon_Total)\n",
    "population_mean = np.mean(np_pokemon_Total)\n",
    "population_std_dev = np.std(np_pokemon_Total)\n",
    "\n",
    "print \"population mean: \", population_mean\n",
    "print \"population standard deviation\", population_std_dev"
   ]
  },
  {
   "cell_type": "markdown",
   "metadata": {},
   "source": [
    "<img src=\"http://imgur.com/l5NasQj.png\" style=\"float: left; margin: 25px 15px 0px 0px; height: 25px\">\n",
    "### 9.2\n",
    "\n",
    "The game is no fun if the characters are wildly unbalanced! Are any characters \"overpowered\", which we'll define as having a \"Total\" more than three standard deviations from the population mean?"
   ]
  },
  {
   "cell_type": "code",
   "execution_count": 22,
   "metadata": {
    "scrolled": true
   },
   "outputs": [
    {
     "name": "stdout",
     "output_type": "stream",
     "text": [
      "Criteria for overpowered: 795.013560016\n",
      "pokemon_id: 164 MewtwoMega Mewtwo X  is overpowered\n"
     ]
    }
   ],
   "source": [
    "overpowered_total = population_mean + 3*population_std_dev\n",
    "underpowered_toal = population_mean - 3*population_std_dev\n",
    "print \"Criteria for overpowered:\", overpowered_total\n",
    "\n",
    "for i in pokedex_file:\n",
    "    if pokedex_file[i]['Total'] > overpowered_total:\n",
    "        print \"pokemon_id:\", i, pokedex_file[i][\"Name\"], \" is overpowered\""
   ]
  },
  {
   "cell_type": "markdown",
   "metadata": {},
   "source": [
    "<img src=\"http://imgur.com/xDpSobf.png\" style=\"float: left; margin: 25px 15px 0px 0px; height: 25px\">\n",
    "\n",
    "## 10. Calibrate the frequency of Pokemon\n",
    "\n",
    "The design team wants you to make the powerful Pokemon rare, and the weaklings more common. How would you set the probability $p_i$ of finding Pokemon *i* each time a player visits a gym?\n",
    "\n",
    "Write a function that takes in a Pokedex number and returns a value $p_i$ for that character.\n",
    "\n",
    "Hint: there are many ways you could do this. What do _you_ think makes sense? Start with simplifying assumptions: for example, you could assume that the probabilities of encountering any two Pokemon on one visit to a gym are independent of each other."
   ]
  },
  {
   "cell_type": "markdown",
   "metadata": {},
   "source": [
    "**Comments:**\n",
    "> There are 800 pokemon and hence 800 pokemon_ids in the pokedex_file. A function *freq_pokemon* is defined for calculating the porbability of getting a particular pokemon*(identified by pokemon_id)* when a player visits a gym. The function takes pokedex_file and pokemon_id of a single pokemon as arguments. \n",
    "\n",
    ">When a player visits a gym, a random sample of 200 pokemon_ids is obtained from the 800 pokemon_ids. The 200 pokemon corresponding to these pokemon_ids are then sorted in descending order of their Total power. The numbers 1 till 200 are assigned to these pokemon where 1 is assigned to the strongest pokemon and 200 is assigned to the weakest pokemon. The probability of encountering each of these 200 pokemon is given by (assigned number/(sum(range(1,201,1))). \n",
    "\n",
    ">If the pokemon_id passed into the freq_pokemon function is present in randomly generated 200 pokemon_ids, its corresponding probability is returned. If it is not present, a statement \"Pokemon cannot be found in gym\" is returned."
   ]
  },
  {
   "cell_type": "code",
   "execution_count": 24,
   "metadata": {},
   "outputs": [
    {
     "data": {
      "text/plain": [
       "[0.00990049751243781]"
      ]
     },
     "execution_count": 24,
     "metadata": {},
     "output_type": "execute_result"
    }
   ],
   "source": [
    "def freq_pokemon(pokedex_file, pokemon_id):\n",
    "    import random\n",
    "    pokemon_ids = random.sample(xrange(800), 200)\n",
    "    total_power = []\n",
    "    prob = []\n",
    "    probability = []\n",
    "    dict = {}\n",
    "    try:\n",
    "        for i in pokemon_ids:\n",
    "            power = pokedex_file[float(i)]['Total']\n",
    "            total_power.append((power,i))\n",
    "            total_power.sort(reverse=True)\n",
    "        for i,j in enumerate(total_power):\n",
    "            prob.append((i+1,j))\n",
    "            dict[j[1]] = (i, j[0])\n",
    "        if dict[int(pokemon_id)][0] is not None:\n",
    "            probs = dict[float(pokemon_id)][0]/20100.0\n",
    "            probability.append(probs)\n",
    "        return probability\n",
    "    except:\n",
    "        print \"Pokemon cannot be found in gym\"    \n",
    "freq_pokemon(pokedex_file, 207)"
   ]
  },
  {
   "cell_type": "markdown",
   "metadata": {},
   "source": [
    "Function is tested using the weakest pokemon."
   ]
  }
 ],
 "metadata": {
  "anaconda-cloud": {},
  "kernelspec": {
   "display_name": "Python 2",
   "language": "python",
   "name": "python2"
  },
  "language_info": {
   "codemirror_mode": {
    "name": "ipython",
    "version": 2
   },
   "file_extension": ".py",
   "mimetype": "text/x-python",
   "name": "python",
   "nbconvert_exporter": "python",
   "pygments_lexer": "ipython2",
   "version": "2.7.13"
  }
 },
 "nbformat": 4,
 "nbformat_minor": 1
}
